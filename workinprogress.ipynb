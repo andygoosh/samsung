{
  "nbformat": 4,
  "nbformat_minor": 0,
  "metadata": {
    "colab": {
      "name": "workinprogress.ipynb",
      "provenance": [],
      "include_colab_link": true
    },
    "kernelspec": {
      "name": "python3",
      "display_name": "Python 3"
    },
    "accelerator": "GPU"
  },
  "cells": [
    {
      "cell_type": "markdown",
      "metadata": {
        "id": "view-in-github",
        "colab_type": "text"
      },
      "source": [
        "<a href=\"https://colab.research.google.com/github/andygoosh/samsung/blob/master/workinprogress.ipynb\" target=\"_parent\"><img src=\"https://colab.research.google.com/assets/colab-badge.svg\" alt=\"Open In Colab\"/></a>"
      ]
    },
    {
      "cell_type": "markdown",
      "metadata": {
        "id": "8Xd74gI0j4AA",
        "colab_type": "text"
      },
      "source": [
        "### As usually let's do some imports and define global constants"
      ]
    },
    {
      "cell_type": "code",
      "metadata": {
        "id": "r_Mg8x0gASeS",
        "colab_type": "code",
        "outputId": "05bf8824-48bc-4597-fd3f-1e7137f1f76c",
        "colab": {
          "base_uri": "https://localhost:8080/",
          "height": 185
        }
      },
      "source": [
        "from pathlib import Path\n",
        "from google.colab import files, drive\n",
        "from collections import defaultdict\n",
        "\n",
        "import re\n",
        "import random as rn\n",
        "import pandas as pd\n",
        "import numpy as np\n",
        "from numpy import array, argmax, random, take\n",
        "import matplotlib.pyplot as plt\n",
        "from collections import Counter\n",
        "%matplotlib inline\n",
        "\n",
        "from sklearn.model_selection import train_test_split\n",
        "\n",
        "import tensorflow as tf\n",
        "from keras.preprocessing.sequence import pad_sequences\n",
        "from keras.preprocessing.text import Tokenizer\n",
        "from keras.models import Sequential, Model\n",
        "from keras.layers import Input, Dropout, Dense, LSTM, GRU, Embedding, RepeatVector, Lambda, Reshape\n",
        "from keras.layers import Bidirectional as Bi\n",
        "from keras import optimizers\n",
        "from keras.models import load_model\n",
        "from keras.callbacks import ModelCheckpoint, EarlyStopping\n",
        "from keras import backend as K\n",
        "\n",
        "EPOCHES = 100\n",
        "BS = 512\n",
        "\n",
        "RS = 77\n",
        "rn.seed(RS)\n",
        "# tf.random.set_seed(RS)\n",
        "np.random.seed(RS)\n",
        "np.random.RandomState(RS)\n",
        "\n",
        "gpath = Path('/content/gdrive')\n",
        "drive.mount(str(gpath))\n",
        "data_file = gpath / 'My Drive/Samsung' / 'transcriptions'"
      ],
      "execution_count": 2,
      "outputs": [
        {
          "output_type": "display_data",
          "data": {
            "text/html": [
              "<p style=\"color: red;\">\n",
              "The default version of TensorFlow in Colab will soon switch to TensorFlow 2.x.<br>\n",
              "We recommend you <a href=\"https://www.tensorflow.org/guide/migrate\" target=\"_blank\">upgrade</a> now \n",
              "or ensure your notebook will continue to use TensorFlow 1.x via the <code>%tensorflow_version 1.x</code> magic:\n",
              "<a href=\"https://colab.research.google.com/notebooks/tensorflow_version.ipynb\" target=\"_blank\">more info</a>.</p>\n"
            ],
            "text/plain": [
              "<IPython.core.display.HTML object>"
            ]
          },
          "metadata": {
            "tags": []
          }
        },
        {
          "output_type": "stream",
          "text": [
            "Using TensorFlow backend.\n"
          ],
          "name": "stderr"
        },
        {
          "output_type": "stream",
          "text": [
            "Go to this URL in a browser: https://accounts.google.com/o/oauth2/auth?client_id=947318989803-6bn6qk8qdgf4n4g3pfee6491hc0brc4i.apps.googleusercontent.com&redirect_uri=urn%3aietf%3awg%3aoauth%3a2.0%3aoob&response_type=code&scope=email%20https%3a%2f%2fwww.googleapis.com%2fauth%2fdocs.test%20https%3a%2f%2fwww.googleapis.com%2fauth%2fdrive%20https%3a%2f%2fwww.googleapis.com%2fauth%2fdrive.photos.readonly%20https%3a%2f%2fwww.googleapis.com%2fauth%2fpeopleapi.readonly\n",
            "\n",
            "Enter your authorization code:\n",
            "··········\n",
            "Mounted at /content/gdrive\n"
          ],
          "name": "stdout"
        }
      ]
    },
    {
      "cell_type": "markdown",
      "metadata": {
        "id": "8KByWPn1DbpS",
        "colab_type": "text"
      },
      "source": [
        "### Let's look at the data in given file"
      ]
    },
    {
      "cell_type": "code",
      "metadata": {
        "id": "PNLzpBAGDgAI",
        "colab_type": "code",
        "outputId": "bc15b88d-3dae-4b0a-ceba-3fa0e50e7fbd",
        "colab": {
          "base_uri": "https://localhost:8080/",
          "height": 54
        }
      },
      "source": [
        "with data_file.open() as f:  \n",
        "    print(list(f.readline()))"
      ],
      "execution_count": 3,
      "outputs": [
        {
          "output_type": "stream",
          "text": [
            "['а', 'у', 'к', 'ц', 'и', 'о', 'н', 'ы', ' ', 'н', 'а', ' ', 'д', 'е', 'ш', 'ё', 'в', 'о', 'е', ' ', 'ж', 'и', 'л', 'ь', 'ё', ' ', 'п', 'р', 'о', 'в', 'о', 'д', 'я', 'т', 'с', 'я', ' ', 'р', 'е', 'г', 'у', 'л', 'я', 'р', 'н', 'о', '\\t', '%', '%', ' ', 'a', ' ', 'u', ' ', 'k', ' ', 't', 's', ' ', 'y', ' ', 'o', '1', ' ', 'n', ' ', 'a', 'x', ' ', '#', ' ', 'n', ' ', 'a', 'x', \"'\", ' ', '_', ' ', 'd', \"'\", ' ', \"'\", 'i', ' ', 's', 'h', ' ', 'o', '1', ' ', 'v', ' ', 'a', 'x', \"'\", ' ', 'j', 'a', 'x', ' ', '#', ' ', 'z', 'h', ' ', 'y', \"'\", ' ', 'l', \"'\", ' ', 'j', \"'\", ' ', \"'\", 'o', '1', ' ', '#', ' ', 'p', ' ', 'r', ' ', 'a', ' ', 'v', ' ', 'o', \"'\", '1', ' ', 'd', \"'\", ' ', \"'\", 'a', 'x', ' ', 't', 's', ' ', 't', 's', ' ', 'a', 'x', \"'\", ' ', '#', ' ', 'r', \"'\", ' ', \"'\", 'i', 'x', ' ', 'g', ' ', 'u', \"'\", ' ', 'l', \"'\", ' ', \"'\", 'a', '1', ' ', 'r', ' ', 'n', ' ', 'a', ' ', '%', '%', '\\n']\n"
          ],
          "name": "stdout"
        }
      ]
    },
    {
      "cell_type": "markdown",
      "metadata": {
        "id": "Xmvmq8NkDzzF",
        "colab_type": "text"
      },
      "source": [
        "### Notice that:\n",
        "1. russian sentence is separated from transcript with '\\t'\n",
        "2. the begining and the end of transcript part are marked by '%%'"
      ]
    },
    {
      "cell_type": "markdown",
      "metadata": {
        "id": "t9inDldeBBz8",
        "colab_type": "text"
      },
      "source": [
        "### Let's read the data and split it into rus and trans"
      ]
    },
    {
      "cell_type": "code",
      "metadata": {
        "id": "ze9lEBcZB4A_",
        "colab_type": "code",
        "outputId": "5289099b-1b4e-4a7a-d114-46dee36e66b1",
        "colab": {
          "base_uri": "https://localhost:8080/",
          "height": 34
        }
      },
      "source": [
        "rus_trn = []\n",
        "with data_file.open() as f:  \n",
        "  for line in f: \n",
        "    rus, trn = line.split('\\t')\n",
        "    rus_trn.append([rus.strip(), trn.strip()])\n",
        "\n",
        "print(f'Number of sentences in corpus: {len(rus_trn)}')"
      ],
      "execution_count": 4,
      "outputs": [
        {
          "output_type": "stream",
          "text": [
            "Number of sentences in corpus: 50277\n"
          ],
          "name": "stdout"
        }
      ]
    },
    {
      "cell_type": "markdown",
      "metadata": {
        "id": "gjFV-XOHBN8o",
        "colab_type": "text"
      },
      "source": [
        "### Let's look at some sentences\n"
      ]
    },
    {
      "cell_type": "code",
      "metadata": {
        "id": "iaCdAWXfBS-H",
        "colab_type": "code",
        "outputId": "3ce18785-6cf0-407b-efcb-9a4494e5ae5a",
        "colab": {
          "base_uri": "https://localhost:8080/",
          "height": 139
        }
      },
      "source": [
        "a,b,c = np.random.choice(len(rus_trn), 3)\n",
        "\n",
        "print(rus_trn[a][0])\n",
        "print(rus_trn[a][1])\n",
        "print(rus_trn[b][0])\n",
        "print(rus_trn[b][1])\n",
        "print(rus_trn[c][0])\n",
        "print(rus_trn[c][1])"
      ],
      "execution_count": 5,
      "outputs": [
        {
          "output_type": "stream",
          "text": [
            "веб-операторы обязаны ознакомить пользователя с политикой по сбору персональной информации\n",
            "%% v' 'e1 p a' p' 'i r a1 t ax r ax # a' b' 'a1 z ax n ax # a z n a k o'1 m' 'ix' t' # p o'1 l' z ax v ax' t' 'ix' l' 'ax # s _ p a' l' 'i'1 t' 'ix k ax' j' # p a _ z b o1 r ux' # p' 'ix r s a n a'1 l' n ax' j' # 'i n f a r m a1 ts ax' i %%\n",
            "цена мартовского контракта на нефть в торговой системе поднялась\n",
            "%% ts y n a1 # m a1 r t ax f s k ax v ax # k a n t r a1 k t ax # n a' _ n' 'e1 f t' # f _ t a r g o1 v ax' j' # s' 'i' s' t' 'e'1 m' 'ix # p ax' d' n' 'i l a'1 s' %%\n",
            "в августе прошлого года был достроен храм христа спасителя\n",
            "%% v _ a1 v g ux' s' t' 'ix # p r o1 sh l ax v ax # g o1 d ax # b y1 l # d a s t r o'1 jax n # h r a1 m # h r' 'i s t a1 # s p a' s' 'i'1 t' 'ix' l' 'a %%\n"
          ],
          "name": "stdout"
        }
      ]
    },
    {
      "cell_type": "markdown",
      "metadata": {
        "id": "PrtVAlRiBYLc",
        "colab_type": "text"
      },
      "source": [
        "### Notice that words in russian sentence are separated by space while words in transcript are separated:\n",
        "1. by '#' in general case\n",
        "2. by '_' in case of preposition\n",
        "3. by '%% %%' in case of punctuation signs (dash, coma, etc)\n"
      ]
    },
    {
      "cell_type": "markdown",
      "metadata": {
        "id": "qaYfq4rSFVs6",
        "colab_type": "text"
      },
      "source": [
        "### Let's see if we have dupliates in the corpus"
      ]
    },
    {
      "cell_type": "code",
      "metadata": {
        "id": "zoPm3mehFfiN",
        "colab_type": "code",
        "outputId": "e7a27409-b311-424c-a37a-b3ecd5ac9596",
        "colab": {
          "base_uri": "https://localhost:8080/",
          "height": 51
        }
      },
      "source": [
        "a = array(rus_trn)\n",
        "seen_rus = Counter(a[:,0])\n",
        "seen_trn = Counter(a[:,1])\n",
        "\n",
        "print(f'Unique rus sentences: {len(seen_rus)} out of {len(rus_trn)}')\n",
        "print(f'Unique trans sentences: {len(seen_trn)} out of {len(rus_trn)}')"
      ],
      "execution_count": 0,
      "outputs": [
        {
          "output_type": "stream",
          "text": [
            "Unique rus sentences: 3131 out of 50277\n",
            "Unique trans sentences: 3171 out of 50277\n"
          ],
          "name": "stdout"
        }
      ]
    },
    {
      "cell_type": "markdown",
      "metadata": {
        "id": "2c_7KSzLGs7v",
        "colab_type": "text"
      },
      "source": [
        "### We have a lot of duplicates! Only 3131 unique sentenses out of 50K in the corpus. Please also note that some russian sentences are transcribed into different transcriptions (will look into that later on)"
      ]
    },
    {
      "cell_type": "code",
      "metadata": {
        "id": "yjR7uun4HeJF",
        "colab_type": "code",
        "outputId": "f3328a86-ca46-495f-86bc-dc9887c1123a",
        "colab": {
          "base_uri": "https://localhost:8080/",
          "height": 290
        }
      },
      "source": [
        "lens = [each[1] for each in seen_rus.items()]\n",
        "unq = np.unique(lens)\n",
        "qty = [lens.count(each) for each in unq]\n",
        "pd.DataFrame(qty, index=unq).plot.bar(title = 'Rus sentence repeat times', legend=False);"
      ],
      "execution_count": 0,
      "outputs": [
        {
          "output_type": "display_data",
          "data": {
            "image/png": "[encoded data removed]",
            "text/plain": [
              "<Figure size 432x288 with 1 Axes>"
            ]
          },
          "metadata": {
            "tags": []
          }
        }
      ]
    },
    {
      "cell_type": "markdown",
      "metadata": {
        "id": "a2bIKlVbIAxi",
        "colab_type": "text"
      },
      "source": [
        "### Most duplicated sentences repeat 12 times, max up to 203 times"
      ]
    },
    {
      "cell_type": "markdown",
      "metadata": {
        "id": "oCi44KJRImmG",
        "colab_type": "text"
      },
      "source": [
        "### Let's read that data while splitting the tokens. We'll count the tokens in each sentence. If the count in rus and trans is different, we'll record it as anomaly\n"
      ]
    },
    {
      "cell_type": "code",
      "metadata": {
        "id": "4fznr-0SJ9nU",
        "colab_type": "code",
        "outputId": "ed9d2b30-09bd-4de1-c355-dbdb14abeacb",
        "colab": {
          "base_uri": "https://localhost:8080/",
          "height": 1000
        }
      },
      "source": [
        "rus_l, trn_l, anomaly = [], [], []\n",
        "seen = defaultdict(list)\n",
        "chars = Counter()\n",
        "\n",
        "for j,i in enumerate(rus_trn):\n",
        "\n",
        "  rus = i[0].split()\n",
        "  trn = re.split('#|_|%% %%',i[1])\n",
        "\n",
        "  if i[0] not in seen:\n",
        "    if abs(len(rus) - len(trn)) != 0: \n",
        "      anomaly.append(j)\n",
        "      print(j, ' ', i[0])\n",
        "      print( i[1])\n",
        "    \n",
        "    else:\n",
        "      rus_l.append(len(rus))\n",
        "      trn_l.append(len(trn))\n",
        "\n",
        "    chars += Counter(i[0])\n",
        "\n",
        "  seen[i[0]].append(j)\n",
        "\n",
        "print(f'Anomalies: {len(anomaly)}')\n",
        "fig, (ax1, ax2) = plt.subplots(nrows=1,ncols=2,figsize=(12,4))\n",
        "pd.DataFrame({'Number of words in Rus sentence':rus_l}).hist(ax=ax1, bins = 30);\n",
        "pd.DataFrame({'Number of words in Trns sentence':trn_l}).hist(ax=ax2, bins = 30);"
      ],
      "execution_count": 0,
      "outputs": [
        {
          "output_type": "stream",
          "text": [
            "149   невостребованных талантов в стране уйма\n",
            "%% n' 'ix v a s t r' 'e1 b ax v ax n n ax h # t a l a1 n t ax f # f s t r a' n' 'e1 # u'1 j' m a %%\n",
            "336   в срок платежа денежные средства перечислены не были\n",
            "%% f _ s r o1 k # p l ax' t' 'i zh a'1 # d' 'e'1 n' 'ix zh n ax' jax # s r' 'e1 ts t v ax' # p' 'ix' r' 'i' ch' 'i1 s l' 'ix n ax' # n' 'e1 b ax' l' 'i %%\n",
            "772   дружба обеих корей может прекратиться так же неожиданно как и началась\n",
            "%% d r u1 zh b ax # a' b' 'e'1 i h # k a' r' 'e'1 j' # m o1 zh ax t # p r' 'ix k r a' t' 'i1 ts ts ax # t a1 g zh ax' # n' 'ixa zh y1 d ax n n a %% %% k a1 k # y _ n ax' ch' 'i l a'1 s' %%\n",
            "858   если окутать ёлку дождиком она получится как бы в дымке\n",
            "%% j' 'e1 s l' 'ix # a k u1 t ax' t' # j' 'o1 l k ux # d o1 zh d' 'ix k ax m %% %% a n a1 # p a l u'1 ch' 'ix ts ts ax # k a1 g b ax # v _ d y1 m k' 'e %%\n",
            "868   королёв в тюрьме сделал свои первые рисунки ракеты\n",
            "%% k ax r a' l' 'o1 f # f t' 'u' r' m' 'e'1 # z' d' 'e1 l ax l # s v a' i'1 # p' 'e1 r v ax' jax' # r' 'i s u1 n k' 'ix # r a' k' 'e1 t y %%\n",
            "881   мосты выглядят чрезвычайно внушительными надёжными и в то же время лёгкими современными\n",
            "%% m a s t y1 # v y1 g l' 'ax' d' 'ax t # ch' r' 'ix z v y' ch' 'a'1 j' n ax # v n u sh y'1 t' 'ix' l' n ax' m' 'i %% %% n a' d' 'o1 zh n ax' m' 'ix' # 'i _ f _ t o1 zh ax # v r' 'e'1 m' 'ax' # l' 'o'1 h' k' 'ix' m' 'i %% %% s ax v r' 'i' m' 'e1 n n ax' m' 'i %%\n",
            "898   маленький двоечник развив в себе комплекс неполноценности перестаёт учиться\n",
            "%% m a'1 l' 'ix' n' k' 'ix' j' # d v o'1 jax sh n' 'ix k %% %% r a z v' 'i1 f # f s' 'i' b' 'e1 # k o1 m p l' 'ix k s # n' 'ix p ax l n a ts e1 n n ax' s' t' 'i %% %% p' 'ix' r' 'ix s t a' j' 'o1 t # u' ch' 'i1 ts ts a %%\n",
            "912   неизвестно высказал ли находившийся в полном сознании офицер версию аварии\n",
            "%% n' 'ixi z v' 'e1 s n a %% %% v y1 s k ax z ax l l' 'ix # n ax h a' d' 'i1 f sh ax' j' s' 'ax # f _ p o1 l n ax m # s a z n a'1 n' 'ixi # a' f' 'i ts e1 r # v' 'e1 r s' 'ix' jux # a v a'1 r' 'ixi %%\n",
            "994   отрасли сидящие на импорте оборудования и запчастей желали бы укрепления рубля\n",
            "%% o1 t r ax s l' 'i %% %% s' 'i' d' 'a'1 sh' 'ix' jax # n a' _ i1 m p ax r t' 'ix # a b a r u1 d ax v ax' n' 'ix' jax' # i _ z a1 p ch' 'i' s' t' 'e'1 j' # zh y l a'1 l' 'ix b ax # u k r' 'i p l' 'e'1 n' 'ix' jax # r u b l' 'a1 %%\n",
            "998   стыдиться конъюнктуры приспособленчества да и просто бездарности оказалось не перед кем\n",
            "%% s t y' d' 'i1 ts ts ax # k ax n j' 'u n k t u1 r y %% %% p r' 'ix s p ax s a b l' 'e'1 n' ch' 'ix s t v ax # d ax' _ i _ p r o1 s t ax' # b' 'i z d a1 r n ax' s' t' 'ix # a k a z a1 l ax' s' # n' 'e'1 p' 'ix' r' 'ix t k' 'ix m %%\n",
            "1031   новый закон вряд ли внесёт успокоение даже в ряды тех кто активно добивался его принятия\n",
            "%% n o1 v ax' j' # z a k o1 n # v r' 'a1 t l' 'ix # v n' 'i' s' 'o1 t # u s p ax k a' j' 'e'1 n' 'ix' jax # d a1 zh ax # v _ r' 'i d y'1 # t' 'e1 h %% %% k t o1 # a k t' 'i1 v n ax # d ax' b' 'i v a1 l s' 'ax' # ji v o1 # p r' 'i' n' 'a'1 t' 'ix' ja %%\n",
            "1041   за шарона отдали бы свои голоса пятьдесят процентов избирателей\n",
            "%% z ax _ sh a r o1 n a1 # a d d a' l' 'i1 b ax # s v a' i1 # g ax l a s a'1 # p' 'ix' d' d' 'i' s' 'a1 t # p r a ts e1 n t ax f # y z b' 'i r a'1 t' 'ix' l' 'ix' j' %%\n",
            "1046   на пять часов позже но заседание всё же началось\n",
            "%% n a' _ p' 'a'1 ch' # ch' 'i s o1 f # p o1 zh zh e %% %% n o1 # z ax' s' 'i d a'1 n' 'ix' jax # f s' 'o1 zh ax # n ax' ch' 'i l o'1 s' %%\n",
            "1066   учёные показали что добавление антиоксидантов в пищу продлевает жизнь на тридцать процентов\n",
            "%% u' ch' 'o1 n ax' jax # p ax k a z a'1 l' 'i %% %% sh t o1 # d ax b a v l' 'e'1 n' 'ix' jax # a'1 n' t' 'ixa k s' 'i d a1 n t ax f # f p' 'i'1 sh' 'ux # p r ax d l' 'i v a'1 jax d # zh y'1 z' n' # n a _ t r' 'i1 ts ts ax' t' # p r a ts e1 n t ax f %%\n",
            "1067   пятьдесят восемь лет характерная продолжительность жизни для папуасов в племенах новой гвинеи\n",
            "%% p' 'ix' d' d' 'i' s' 'a1 t # v o'1 s' 'ix' m' # l' 'e1 t %% %% h ax r a k t' 'e1 r n ax' jax # p r ax d a l zh y'1 t' 'ix' l' n ax' z' d' # zh y'1 z' n' 'ix # d l' 'a1 # p ax p u a1 s ax f # f p l' 'ix' m' 'i n a1 h # n o1 v ax' j' # g v' 'i' n' 'e'1 i %%\n",
            "1076   то что вы думаете будет тут же зафиксировано на экране или на кассете\n",
            "%% t o1 %% %% sh t o1 # v y1 # d u1 m ax' jax' t' 'e %% %% b u'1 d' 'ix t # t u1 d zh ax # z ax' f' 'i k s' 'i1 r ax v ax n ax # n ax _ e k r a'1 n' 'ix' # 'i'1 l' 'ix # n ax _ k a' s' 'e'1 t' 'e %%\n",
            "1109   сотни тысяч паломников со всего мира стали бы серьёзным подспорьем местному бюджету\n",
            "%% s o'1 t' n' 'ix # t y'1 s' 'ax' ch' # p a l o1 m n' 'ix k ax f # s ax _ f s' 'i v o'1 # m' 'i1 r ax # s t a'1 l' 'ix b ax' # s' 'i' r' j' 'o1 z n ax m # p a ts p o'1 r' j' 'ax m # m' 'e1 s n ax m ux' # b' 'u d zh e1 t u %%\n",
            "1123   позднее по москве ходили слухи что тело сталина чуть ли не вытряхнули из мундира\n",
            "%% p a' z' n' 'e'1 jax # p ax _ m a s k v' 'e1 # h a' d' 'i'1 l' 'ix # s l u'1 h' 'i %% %% sh t o'1 # t' 'e1 l ax # s t a'1 l' 'ix n ax' # ch' 'u'1 t' l' 'ix' # n' 'i _ v y1 t r' 'ax h n ux' l' 'ix' # 'i z _ m u' n' d' 'i1 r a %%\n",
            "1130   прежде чем отправиться в норвегию приступили к изучению атомной подлодки такого же класса\n",
            "%% p r' 'e1 zh d' 'ix' # ch' 'e1 m # a t p r a'1 v' 'ix ts ts ax # v _ n a r v' 'e'1 g' 'ix' ju %% %% p r' 'ix s t u' p' 'i'1 l' 'ix # k _ ax z u' ch' 'e'1 n' 'ix' jux # a1 t ax m n ax' j' # p a d l o1 t k' 'ix # t a k o1 v ax zh ax # k l a1 s s a %%\n",
            "1341   чтобы миру не было скучно правительство надумало раскрыть ему страшную тайну\n",
            "%% sh t o1 b ax' # m' 'i1 r ux' # n' 'e1 b ax l ax # s k u1 sh n a %% %% p r a' v' 'i'1 t' 'ix' l' s t v ax # n a d u1 m ax l ax # r a s k r y'1 t' # j' 'i m u1 # s t r a1 sh n ux' jux # t a'1 j' n u %%\n",
            "1738   на улицах не было никаких шумных пьяных оргий\n",
            "%% n a _ u'1 l' 'ix ts ax h # n' 'e1 b ax l ax' # n' 'ix k a' k' 'i1 h # sh u1 m n ax h # p' j' 'a1 n ax h # o1 r g' 'ix' j' %%\n",
            "1802   гроб сделали в тот же день\n",
            "%% g r o1 b # z' d' 'e1 l ax' l' 'ix # f _ t o1 d zh ax' # d' 'e'1 n' %%\n",
            "2289   курение ухудшает чувствительность клеток к инсулину\n",
            "%% k u' r' 'e'1 n' 'ix' jax # u h u t sh a'1 jax t # ch' 'u s t v' 'i'1 t' 'ix' l' n ax' s' t' # k l' 'e1 t ax k # k ax n s u' l' 'i1 n u %%\n",
            "2320   продажи обогревателей выросли в пять раз по сравнению с тем же периодом прошлого года\n",
            "%% p r a d a1 zh ax # a b ax g r' 'i v a'1 t' 'ix' l' 'ix' j' # v y1 r ax s l' 'ix # f _ p' 'a'1 t' # r a1 s # p ax _ s r a v n' 'e'1 n' 'ix' jux' # s' _ t' 'e1 m zh ax' # p' 'i' r' 'i1 o d ax m # p r o1 sh l ax v ax # g o1 d a %%\n",
            "2344   наши предки хищниками не были и дорожили своей нишей в биосфере\n",
            "%% n a1 sh ax # p r' 'e1 t k' 'ix' # h' 'i'1 sh' n' 'ix k ax' m' 'ix' # n' 'e1 b ax' l' 'ix' # 'i _ d ax r a zh y'1 l' 'ix # s v a' j' 'e'1 j' # n' 'i1 sh ax' j' # v _ b' 'ixa s f' 'e'1 r' 'e %%\n",
            "2390   америка и россия являются сегодня единственными странами отправляющими своих космонавтов в космос\n",
            "%% a' m' 'e'1 r' 'ix k ax' # i _ r a' s' s' 'i'1 jax' # ji v l' 'a'1 jux ts ts ax' # s' 'i v o'1 d' n' 'ax' # ji' d' 'i1 n s t v' 'ix n n ax' m' 'ix # s t r a1 n ax' m' 'i %% %% a t p r a v l' 'a'1 jux' sh' 'ix' m' 'ix # s v a' i1 h # k ax s m a n a1 f t ax f # f k o1 s m ax s %%\n",
            "2403   всё будет зависеть от того успешно ли пристыкуется к комплексу последний грузовой корабль\n",
            "%% f s' 'o1 # b u'1 d' 'ix d # z a' v' 'i'1 s' 'ix' t' # 'a t _ t a v o1 %% %% u s p' 'e1 sh n ax' l' 'ix # p r' 'ix s t y k u'1 jax ts ts ax # k _ k o1 m p l' 'ix k s ux # p a s l' 'e'1 d' n' 'ix' j' # g r ux z a v o'1 j' # k a r a1 b l' %%\n",
            "2745   кабинетные работники с появлением спецтранспорта и охраны утрачивают связь с действительностью\n",
            "%% k ax' b' 'i' n' 'e1 t n ax' jax # r a b o'1 t' n' 'ix' k' 'ix # s _ p ax' ji v l' 'e'1 n' 'ix' jax m # s p' 'e1 ts t r a1 n s p ax r t ax' # i _ a h r a1 n ax # u t r a'1 ch' 'ix v ax' jux t # s v' 'a'1 z' # z' d' 'i' j' s t v' 'i'1 t' 'ix' l' n ax' s' t' j' 'u %%\n",
            "2787   греческие игроки призвали своих коллег к забастовке\n",
            "%% g r' 'e'1 ch' 'ix s k' 'ix' jax' # i g r a' k' 'i1 # p r' 'i z v a'1 l' 'ix # s v a' i1 h # k a' l' 'e1 g # g z ax b a s t o1 f k' 'e %%\n",
            "2795   с начала года ни один автомобиль не был отправлен российским заказчикам\n",
            "%% s _ n a' ch' 'a1 l ax # g o1 d ax' # n' 'ix _ a' d' 'i1 n # a f t ax m a' b' 'i'1 l' # n' 'e1 b ax l # a t p r a1 v l' 'ix n # r a' s' 'i'1 j' s k' 'ix m # z a k a'1 sh' 'ix k ax m %%\n",
            "2987   вряд ли кому-нибудь удастся повторить это достижение\n",
            "%% v r' 'a1 t l' 'ix # k a m u'1 n' 'ix b ux' t' # 'u d a1 s ts ts ax # p ax f t a' r' 'i'1 t' # 'e1 t ax # d ax' s' t' 'i zh e'1 n' 'ix' je %%\n",
            "3069   союз правых сил никогда не был сторонником популистских решений\n",
            "%% s a' j' 'u1 s # p r a1 v ax h # s' 'i1 l # n' 'ix k a g d a'1 # n' 'e1 b ax l # s t a r o'1 n' n' 'ix k ax m # p ax p u' l' 'i1 s s k' 'ix h # r' 'i sh e'1 n' 'ix' j' %%\n",
            "3122   на территории америки никогда не было настоящих войн\n",
            "%% n ax' _ t' 'ix' r' 'i t o'1 r' 'ixi # a' m' 'e'1 r' 'ix' k' 'ix' # n' 'ix k a g d a'1 # n' 'e1 b ax l ax # n ax s t a' j' 'a'1 sh' 'ix h # v o'1 j' n %%\n",
            "3831   план использования нефти из стратегического резерва вряд ли будет реализован\n",
            "%% p l a1 n # y s p o'1 l' z ax v ax' n' 'ix' jax' # n' 'e1 f t' 'ix' # 'i s _ s t r ax' t' 'i' g' 'i'1 ch' 'ix s k ax v ax' # r' 'i' z' 'e1 r v ax # v r' 'a1 t l' 'ix # b u'1 d' 'ix t # r' 'ixa' l' 'i z o1 v ax n %%\n",
            "4010   достигнута договорённость по строительству дорог к месторождениям\n",
            "%% d a' s' t' 'i1 g n ux t ax # d ax g ax v a' r' 'o1 n n ax' s' t' # p ax _ s t r a' i'1 t' 'ix' l' s t v ux # d a r o1 k # k m' 'ix s t ax r a zh d' 'e'1 n' 'ix' jax m %%\n",
            "4064   бюллетени для голосования не были вовремя разосланы акционерам\n",
            "%% b' 'ux' l' 'i' t' 'e'1 n' 'ix # d l' 'a _ g ax l ax s a v a'1 n' 'ix' jax' # n' 'e1 b ax' l' 'ix # v o1 v r' 'ix' m' 'ax # r a z o1 s l ax n ax # a k ts axa' n' 'e1 r ax m %%\n",
            "4107   в предвыборный год губернаторы безропотно согласились бы отдать механизм управления\n",
            "%% f _ p r' 'i d v y1 b ax r n ax' j' # g o1 d # g ux' b' 'i r n a1 t ax r ax' # b' 'i z r o1 p ax t n ax # s ax g l a' s' 'i'1 l' 'ix' z' b ax # a d d a'1 t' # m' 'ix h a' n' 'i1 z m # u p r a v l' 'e'1 n' 'ix' ja %%\n",
            "4148   абсолютная замена поджелудочной железы могла бы решить проблему диабета\n",
            "%% a p s a' l' 'u1 t n ax' jax # z a' m' 'e1 n ax # p ax d zh y l u1 d ax' ch' n ax' j' # zh ax' l' 'i z y1 # m a g l a1 b ax' # r' 'i sh y'1 t' # p r a b l' 'e1 m ux' # d' 'ixa' b' 'e1 t a %%\n",
            "5012   было объявлено о возможном начале торгов в конце апреля\n",
            "%% b y1 l ax # a b j' 'a1 v l' 'ix n ax # a _ v a z m o1 zh n ax m # n a' ch' 'a'1 l' 'ix # t a r g o1 f # f k a n ts e1 # a p r' 'e'1 l' 'a %%\n",
            "5043   сегодня нет новостей которые могли бы оказать негативное влияние на рынок\n",
            "%% s' 'i v o'1 d' n' 'ax' # n' 'e1 t # n ax v a' s' t' 'e'1 j' %% %% k a t o1 r ax' jax # m a g l' 'i1 b ax # a k a z a'1 t' # n' 'ix g a' t' 'i1 v n ax' jax # v l' 'i' j' 'a'1 n' 'ix' jax # n a _ r y1 n ax k %%\n",
            "5980   преступность в подмосковье практически осталась на том же уровне\n",
            "%% p r' 'i s t u1 p n ax' s' t' # f _ p ax d m a s k o'1 v' j' 'ax # p r a k t' 'i'1 ch' 'ix s k' 'ix # a s t a1 l ax' s' # n a _ t o1 m zh ax # u1 r ax v n' 'e %%\n",
            "5998   на видео- и фотоаппаратуру снимали сцены насилия\n",
            "%% n a' _ v' 'i'1 d' 'ixo' i _ f o1 t ax a p ax r a t u1 r ux' # s' n' 'i m a'1 l' 'ix # s ts e1 n ax # n a' s' 'i'1 l' 'ix' ja %%\n",
            "6089   в обществе всегда много точек зрения на одну и ту же проблему\n",
            "%% v _ o1 p sh' 'ix s t v' 'ix # f s' 'i g d a1 # m n o1 g ax # t o'1 ch' 'ix g # z r' 'e'1 n' 'ix' jax # n ax _ a d n u'1 # i _ t u1 zh ax # p r a b l' 'e1 m u %%\n",
            "6107   дети уезжают за границу и получают образование у наших же педагогов\n",
            "%% d' 'e'1 t' 'ix # u' ji' zh' 'a'1 jux d # z ax _ g r a' n' 'i1 ts ux' # i _ p ax l u' ch' 'a'1 jux t # a b r ax z a v a'1 n' 'ix' jax # u _ n a1 sh ax gh zh ax' # p' 'ix d a g o1 g ax f %%\n",
            "6124   всю осень у нас не было света и горячей воды\n",
            "%% f s' 'u1 # o'1 s' 'ix' n' # 'u _ n a1 s # n' 'e1 b ax l ax # s v' 'e1 t ax' # i _ g a' r' 'a'1 ch' 'ix' j' # v a d y1 %%\n",
            "6129   кора надпочечников в период магнитной бури работает как в условиях стресса\n",
            "%% k a r a1 # n a t p o'1 ch' 'ix' ch' n' 'ix k ax f # f p' 'i' r' 'i1 o t # m a g n' 'i1 t n ax' j' # b u'1 r' 'ix # r a b o1 t ax' jax t # k a1 k # v _ u s l o'1 v' 'ix' jax h # s t r e1 s a %%\n",
            "7487   в быстрых шахматах компьютер перебирает миллионы ходов в секунду\n",
            "%% v _ b y1 s t r ax h # sh a1 h m ax t ax h # k a m p' j' 'u1 t ax r # p' 'ix' r' 'ix' b' 'i r a'1 jax t # m' 'ix' l' 'i o1 n ax # h a d o1 f # f s' 'i k u1 n d u %%\n",
            "7567   функции прокуроров остались теми же что и в судебном уставе\n",
            "%% f u1 n k ts ax' i # p r ax k u r o1 r ax f # a s t a'1 l' 'ix' s' # t' 'e'1 m' 'ix zh e %% %% sh t o'1 # i _ f _ s u' d' 'e1 b n ax m # u s t a'1 v' 'e %%\n",
            "7626   в герметично закрытом отсеке рыб не было\n",
            "%% v _ g' 'ix r m' 'i' t' 'i'1 ch' n ax # z a k r y1 t ax m # a' t' s' 'e'1 k' 'ix # r y1 p # n' 'e1 b ax l a %%\n",
            "Anomalies: 49\n"
          ],
          "name": "stdout"
        },
        {
          "output_type": "display_data",
          "data": {
            "image/png": "[encoded data removed]",
            "text/plain": [
              "<Figure size 864x288 with 2 Axes>"
            ]
          },
          "metadata": {
            "tags": []
          }
        }
      ]
    },
    {
      "cell_type": "markdown",
      "metadata": {
        "id": "XxTcio_yKSbh",
        "colab_type": "text"
      },
      "source": [
        "### So we have 49 anomalies out of 3131 samples"
      ]
    },
    {
      "cell_type": "markdown",
      "metadata": {
        "id": "K49Q_mTcOZ4w",
        "colab_type": "text"
      },
      "source": [
        "### Closer look at the anomalies shows:\n",
        "* Particles 'же', 'бы', 'ли' never get separated as a standalone word in transcript. Hypothesis: glue the particle to the preceeding token during prepocessing\n",
        "* There are 10 cases where 'не был(о/а/и)' result in joint transcript. Hypothesis: put 'не был(а/а/и)' as one token during prepocessing\n",
        "* Remaining 15 anomalies seem to be errors or typos"
      ]
    },
    {
      "cell_type": "markdown",
      "metadata": {
        "id": "uV_cJH70KuSg",
        "colab_type": "text"
      },
      "source": [
        "### Let's see if we need to clean the data. First let's take a look at rus corpus alphabet"
      ]
    },
    {
      "cell_type": "code",
      "metadata": {
        "id": "LyV9anvZn187",
        "colab_type": "code",
        "outputId": "e4b67dda-24f8-4255-a416-c46aae2d640f",
        "colab": {
          "base_uri": "https://localhost:8080/",
          "height": 298
        }
      },
      "source": [
        "s = sorted(chars.items())\n",
        "pd.DataFrame(s, index=(e[0]+' ' for e in s)).plot.bar(figsize=(18,4), rot=0, title = 'Char frequencies', legend=False)\n",
        "print(f'Number of times \"-\" used: {chars[\"-\"]}')"
      ],
      "execution_count": 0,
      "outputs": [
        {
          "output_type": "stream",
          "text": [
            "Number of times \"-\" used: 159\n"
          ],
          "name": "stdout"
        },
        {
          "output_type": "display_data",
          "data": {
            "image/png": "[encoded data removed]",
            "text/plain": [
              "<Figure size 1296x288 with 1 Axes>"
            ]
          },
          "metadata": {
            "tags": []
          }
        }
      ]
    },
    {
      "cell_type": "markdown",
      "metadata": {
        "id": "83TZ18z9K8Qy",
        "colab_type": "text"
      },
      "source": [
        "### Looks good! We neither have punctuations nor capital letters. The only case to check is '-' letter which is used 159 times"
      ]
    },
    {
      "cell_type": "code",
      "metadata": {
        "id": "hEqkK_LRKLb-",
        "colab_type": "code",
        "outputId": "1d2e67b4-d0b8-4232-d893-a6dd43628a11",
        "colab": {
          "base_uri": "https://localhost:8080/",
          "height": 54
        }
      },
      "source": [
        "seen = set()\n",
        "seen_dash = set()\n",
        "dash_words = []\n",
        "for rus,trn in rus_trn:\n",
        "  if rus not in seen:\n",
        "    if '-' in rus:\n",
        "      ru_words = rus.split()\n",
        "      for each in ru_words:\n",
        "        if '-' in each:\n",
        "          if each not in seen_dash:\n",
        "            seen_dash.add(each)\n",
        "            dash_words.append(each)\n",
        "  else:\n",
        "    seen.add(rus)\n",
        "  \n",
        "print(dash_words)"
      ],
      "execution_count": 0,
      "outputs": [
        {
          "output_type": "stream",
          "text": [
            "['анти-обледенитель', 'иридо-диагностика', 'дом-красавец', 'из-за', 'радио-сигналом', 'ноль-три', 'ноль-два', 'мало-обеспеченные', 'шкаф-купе', 'тех-осмотр', 'пресс-службе', 'авто-сервис', 'чуть-чуть', 'аудио-', 'какие-либо', 'де-факто', 'стерео-', 'царь-колокол', 'царь-пушка', 'гео-магнитного', 'электро-катастрофы', 'фигуристы-новобранцы', 'что-то', 'какое-либо', 'веб-операторы', 'воздушно-десантной', 'военно-морских', 'ветераны-афганцы', 'одного-единственного', 'природно-климатические', 'одном-двух', 'санкт-петербурге', 'стран-участниц', 'пять-шесть', 'по-своему', 'матч-реванш', 'словаря-справочника', 'штаб-квартире', 'чем-то', 'чего-то', 'экс-губернатора', 'российско-американский', 'северо-восточных', 'красно-белую', 'какой-нибудь', 'бело-жёлтый', 'карту-схему', 'юго-западный', 'радио-охранное', 'по-прежнему', 'каким-то', 'кино-картины', 'авто-трюки', 'пресс-конференции', 'генерал-прокурором', 'нью-йорке', 'медиа-группы', 'нью-йоркской', 'какие-то', 'санкт-петербурга', 'санкт-петербург', 'памятники-символы', 'премьер-министр', 'взлётно-посадочную', 'какого-нибудь', 'январе-феврале', 'птица-говорун', 'жучки-камнееды', 'школу-комплекс', 'художников-оформителей', 'какое-то', 'купли-продажи', 'каких-либо', 'генерал-лейтенант', 'карты-схемы', 'кому-нибудь', 'детям-инвалидам', 'как-то', 'золото-валютных', 'наконец-то', 'государственно-общественной', 'бизнес-сообщества', 'причинно-следственных', 'по-настоящему', 'юго-западного', 'премьер-министру', 'нью-йорк', 'пропан-бутановые', 'пресс-служба', 'физико-химическими', 'средне-взвешенный', 'интернет-сетью', 'экспресс-опрос', 'либерально-демократической', 'вице-премьер', 'пресс-конференция', 'военно-морского', 'по-другому', 'вице-спикера', 'радио-станции', 'конференц-зале', 'золото-валютные', 'фирм-членов', 'премьер-министром', 'химико-фармацевтической', 'весенне-полевых', 'пресс-секретарь', 'сирийско-израильский', 'юго-восток', 'сьерра-леонэ', 'южно-африканской', 'медиа-мостом', 'диско-марафон', 'видео-', 'две-три', 'экс-посол', 'военно-политического', 'компакт-диски', 'мини-электростанция', 'когда-нибудь', 'кто-то', 'веке-волкодаве', 'из-под', 'капитан-лейтенанта', 'просто-напросто', 'всё-таки', 'пресс-службы', 'южно-сахалинске', 'оперативно-следственная', 'армяно-российского', 'северо-западе']\n"
          ],
          "name": "stdout"
        }
      ]
    },
    {
      "cell_type": "markdown",
      "metadata": {
        "id": "3VHh6JUCPGlb",
        "colab_type": "text"
      },
      "source": [
        "### Okey, words with dash look fine, we'll consider dash as a normal letter"
      ]
    },
    {
      "cell_type": "markdown",
      "metadata": {
        "id": "hMAmvWqyLrWv",
        "colab_type": "text"
      },
      "source": [
        "### The size of the corpus is too small to tokenize on words. Insted we'll tokenize bsed on characters"
      ]
    },
    {
      "cell_type": "markdown",
      "metadata": {
        "id": "G-xAjHqyjh3x",
        "colab_type": "text"
      },
      "source": [
        "### So in order to implement autocoder for transcript we'd need to keep special symbools in transcript such as \"\\_\" and \"%% %%\". So let's create a dictionary of sentences rus <-> trans. So let's recreate the dictionary so \"\\_\" and \"%% %%\" are marked with '#' (treat them as separate token) and remove begin and end markers. Plus to that let's get rid of duplicates.\n",
        "\n",
        "### Second thought though. Since Russian corpus does not include any punctuation, we cannot predict '%% %%' token properly. So let's sacrifice one token for the sake of overall accuracy meaning that we remove '%% %%' token completely from the corpus\n"
      ]
    },
    {
      "cell_type": "code",
      "metadata": {
        "id": "PBgF1l93y39m",
        "colab_type": "code",
        "outputId": "01752232-d443-4072-d92b-48bb7d5d6500",
        "colab": {
          "base_uri": "https://localhost:8080/",
          "height": 298
        }
      },
      "source": [
        "seen_rus = set()\n",
        "seen_trn = set()\n",
        "\n",
        "res, trn_l, rus_l = [], [], []\n",
        "for rus, trn in rus_trn:\n",
        "\n",
        "  if rus not in seen_rus or trn not in seen_trn:\n",
        "      seen_rus.add(rus)\n",
        "      seen_trn.add(trn)\n",
        "\n",
        "      # let's fix the errors in corpus\n",
        "      trn = trn.replace(\"f s t r a' n' 'e1\", \"f _ s t r a' n' 'e1\") \\\n",
        "              .replace(\"f t' 'u' r' m' 'e'1\", \"f _ t' 'u' r' m' 'e'1\") \\\n",
        "              .replace(\"f s' 'i' b' 'e1\", \"f _ s' 'i' b' 'e1\") \\\n",
        "              .replace(\"n' 'e'1 p' 'ix' r' 'ix t k' 'ix m\", \"n' 'e'1 # p' 'ix' r' 'ix t k' 'ix m\") \\\n",
        "              .replace(\"f p' 'i'1 sh' 'ux\", \"f _ p' 'i'1 sh' 'ux\") \\\n",
        "              .replace(\"f p l' 'ix' m' 'i n a1 h\", \"f _ p l' 'ix' m' 'i n a1 h\") \\\n",
        "              .replace(\"k ax n s u' l' 'i1 n u\", \"k _ ax n s u' l' 'i1 n u\") \\\n",
        "              .replace(\"f k o1 s m ax s\", \"f _ k o1 s m ax s\") \\\n",
        "              .replace(\"z' d' 'i' j' s t v' 'i'1 t' 'ix' l' n ax' s' t' j' 'u\", \"z' _ d' 'i' j' s t v' 'i'1 t' 'ix' l' n ax' s' t' j' 'u\") \\\n",
        "              .replace(\"g z ax b a s t o1 f k' 'e\", \"g _ z ax b a s t o1 f k' 'e\") \\\n",
        "              .replace(\"k m' 'ix s t ax r a zh d' 'e'1 n' 'ix' jax m\", \"k _ m' 'ix s t ax r a zh d' 'e'1 n' 'ix' jax m\") \\\n",
        "              .replace(\"f k a n ts e1\", \"f _ k a n ts e1\") \\\n",
        "              .replace(\"f p' 'i' r' 'i1 o t\", \"f _ p' 'i' r' 'i1 o t\") \\\n",
        "              .replace(\"f s' 'i k u1 n d u\", \"f _ s' 'i k u1 n d u\") \\\n",
        "              .replace(\"v' 'i'1 d' 'ixo' i _\", \"v' 'i'1 d' 'ixo' # i _\")\n",
        "\n",
        "      # '# <PNK>'\n",
        "      trn = trn[3:-3].replace('%% %%', '#') \\\n",
        "                .replace('_', '_ #') \\\n",
        "                .split('#')\n",
        "\n",
        "      # let's fix inconsistencies with particles\n",
        "      rus = rus.replace(' же ', 'же ') \\\n",
        "                .replace(' бы ', 'бы ') \\\n",
        "                .replace(' ли ', 'ли ') \\\n",
        "                .replace(' не был', ' небыл') \\\n",
        "                .split(' ')\n",
        "\n",
        "      for a,b in zip(rus, trn):\n",
        "        b = b.strip().split(' ')\n",
        "        res.append((list(a), b))\n",
        "        rus_l.append( len(a))\n",
        "        trn_l.append( len(b))\n",
        "\n",
        "rus_trn_new = array(res)\n",
        "trn_length = max(trn_l)\n",
        "rus_length = max(rus_l)\n",
        "print(f'max len rus: {rus_length}, max len trn: {trn_length}')\n",
        "fig, (ax1, ax2) = plt.subplots(nrows=1,ncols=2,figsize=(12,4))\n",
        "pd.DataFrame({'Number of tokens in Rus sentence':rus_l}).hist(ax=ax1, bins = 30);\n",
        "pd.DataFrame({'Number of tokens in Trns sentence':trn_l}).hist(ax=ax2, bins = 30);"
      ],
      "execution_count": 11,
      "outputs": [
        {
          "output_type": "stream",
          "text": [
            "max len rus: 27, max len trn: 26\n"
          ],
          "name": "stdout"
        },
        {
          "output_type": "display_data",
          "data": {
            "image/png": "[encoded data removed]",
            "text/plain": [
              "<Figure size 864x288 with 2 Axes>"
            ]
          },
          "metadata": {
            "tags": []
          }
        }
      ]
    },
    {
      "cell_type": "code",
      "metadata": {
        "id": "ID8a8MoaKtVm",
        "colab_type": "code",
        "outputId": "f63664a9-b430-4c52-a405-e9b4de3bd0c3",
        "colab": {
          "base_uri": "https://localhost:8080/",
          "height": 51
        }
      },
      "source": [
        "a = np.random.choice(len(rus_trn_new))\n",
        "rus_trn_new[a]"
      ],
      "execution_count": 0,
      "outputs": [
        {
          "output_type": "execute_result",
          "data": {
            "text/plain": [
              "array([list(['с', 'у', 'щ', 'е', 'м', 'у']),\n",
              "       list(['s', \"u'1\", \"sh'\", \"'ix\", 'm', 'u'])], dtype=object)"
            ]
          },
          "metadata": {
            "tags": []
          },
          "execution_count": 136
        }
      ]
    },
    {
      "cell_type": "markdown",
      "metadata": {
        "id": "CbQ82gWtkTDx",
        "colab_type": "text"
      },
      "source": [
        "### Let's tokenize the sentences. So a word is a sentence, and thus character is a token\n",
        "\n",
        "\n"
      ]
    },
    {
      "cell_type": "code",
      "metadata": {
        "id": "670W8CC1llqC",
        "colab_type": "code",
        "outputId": "b05b64a4-8629-4136-bec6-86b683f14e5e",
        "colab": {
          "base_uri": "https://localhost:8080/",
          "height": 51
        }
      },
      "source": [
        "def tokenization(lines, split=' '):\n",
        "  tokenizer = Tokenizer(filters='', lower=False, split=split)\n",
        "  tokenizer.fit_on_texts(lines)\n",
        "  return tokenizer\n",
        "\n",
        "def encode_sequences(tokenizer, length, lines):\n",
        "  seq = tokenizer.texts_to_sequences(lines)\n",
        "  seq = pad_sequences(sequences=seq, maxlen=length, padding='post')\n",
        "  return seq\n",
        "\n",
        "rus_tokenizer = tokenization(rus_trn_new[:, 0], split='')\n",
        "rus_vocab_size = len(rus_tokenizer.word_index) + 1\n",
        "trn_tokenizer = tokenization(rus_trn_new[:, 1], split=' ')\n",
        "trn_vocab_size = len(trn_tokenizer.word_index) + 1\n",
        "print(f'Rus Vocabulary Size: {rus_vocab_size}')\n",
        "print(f'Trns Vocabulary Size: {trn_vocab_size}')"
      ],
      "execution_count": 12,
      "outputs": [
        {
          "output_type": "stream",
          "text": [
            "Rus Vocabulary Size: 35\n",
            "Trns Vocabulary Size: 115\n"
          ],
          "name": "stdout"
        }
      ]
    },
    {
      "cell_type": "markdown",
      "metadata": {
        "id": "sgJdhdjvqRA9",
        "colab_type": "text"
      },
      "source": [
        "### Encode sentences, pad them, split to train and test\n"
      ]
    },
    {
      "cell_type": "code",
      "metadata": {
        "id": "3XcT-AUGqa5v",
        "colab_type": "code",
        "outputId": "802acdbe-2c62-470c-b435-1691f84e63a5",
        "colab": {
          "base_uri": "https://localhost:8080/",
          "height": 68
        }
      },
      "source": [
        "train, test = train_test_split(rus_trn_new, test_size=0.1, random_state = RS)\n",
        "\n",
        "# prepare training data\n",
        "trainX = encode_sequences(rus_tokenizer, rus_length, train[:, 0])\n",
        "trainY = encode_sequences(trn_tokenizer, trn_length, train[:, 1])\n",
        "\n",
        "# prepare validation data\n",
        "testX = encode_sequences(rus_tokenizer, rus_length, test[:, 0])\n",
        "testY = encode_sequences(trn_tokenizer, trn_length, test[:, 1])\n",
        "\n",
        "a = np.random.choice(len(trainX))\n",
        "print(a)\n",
        "print( rus_tokenizer.sequences_to_texts([trainX[a]]) )\n",
        "print( trn_tokenizer.sequences_to_texts([trainY[a]]) )"
      ],
      "execution_count": 13,
      "outputs": [
        {
          "output_type": "stream",
          "text": [
            "18078\n",
            "['у р о в н я']\n",
            "[\"u1 r ax v n' 'ax'\"]\n"
          ],
          "name": "stdout"
        }
      ]
    },
    {
      "cell_type": "markdown",
      "metadata": {
        "id": "G8P7B0nI8fvQ",
        "colab_type": "text"
      },
      "source": [
        "### Let's build simple sequential seq2seq model"
      ]
    },
    {
      "cell_type": "code",
      "metadata": {
        "id": "RDMl-upI8mnu",
        "colab_type": "code",
        "outputId": "dd21bcea-295b-4885-e0d6-c9a5a28e9981",
        "colab": {
          "base_uri": "https://localhost:8080/",
          "height": 1000
        }
      },
      "source": [
        "model = Sequential()\n",
        "model.add(Embedding(rus_vocab_size, 512, input_length=rus_length, mask_zero=True))\n",
        "model.add(LSTM(512))\n",
        "model.add(RepeatVector(trn_length))\n",
        "model.add(LSTM(512, return_sequences=True))\n",
        "model.add(Dense(trn_vocab_size, activation='softmax'))\n",
        "# compile model\n",
        "model.compile(optimizer='adam', loss='sparse_categorical_crossentropy', metrics=['accuracy'])\n",
        "# summarize defined model\n",
        "model.summary()\n",
        "\n",
        "def train_model(model):\n",
        "  monitor = 'val_acc'\n",
        "  mode = 'max'\n",
        "  early_stop = EarlyStopping( patience=5, monitor=monitor, mode=mode, restore_best_weights=True)\n",
        "\n",
        "  data = trainX, [trainY.reshape(*trainY.shape, 1)]\n",
        "  validation_data = testX, [testY.reshape(*testY.shape, 1)]\n",
        "\n",
        "  history = model.fit(*data, \n",
        "            epochs=EPOCHES, batch_size=BS, \n",
        "            validation_data=validation_data,\n",
        "            callbacks=[early_stop], verbose=1)\n",
        "\n",
        "  # plot validation loss vs training loss\n",
        "  plt.plot(history.history['loss'])\n",
        "  plt.plot(history.history['val_loss'])\n",
        "  plt.legend(['train','validation'])\n",
        "  plt.show()\n",
        "\n",
        "train_model(model)"
      ],
      "execution_count": 16,
      "outputs": [
        {
          "output_type": "stream",
          "text": [
            "Model: \"sequential_3\"\n",
            "_________________________________________________________________\n",
            "Layer (type)                 Output Shape              Param #   \n",
            "=================================================================\n",
            "embedding_6 (Embedding)      (None, 27, 512)           17920     \n",
            "_________________________________________________________________\n",
            "lstm_11 (LSTM)               (None, 512)               2099200   \n",
            "_________________________________________________________________\n",
            "repeat_vector_4 (RepeatVecto (None, 26, 512)           0         \n",
            "_________________________________________________________________\n",
            "lstm_12 (LSTM)               (None, 26, 512)           2099200   \n",
            "_________________________________________________________________\n",
            "dense_5 (Dense)              (None, 26, 115)           58995     \n",
            "=================================================================\n",
            "Total params: 4,275,315\n",
            "Trainable params: 4,275,315\n",
            "Non-trainable params: 0\n",
            "_________________________________________________________________\n",
            "Train on 23461 samples, validate on 2607 samples\n",
            "Epoch 1/100\n",
            "23461/23461 [==============================] - 10s 441us/step - loss: 1.7274 - acc: 0.7250 - val_loss: 1.3031 - val_acc: 0.7460\n",
            "Epoch 2/100\n",
            "23461/23461 [==============================] - 8s 320us/step - loss: 1.1950 - acc: 0.7454 - val_loss: 1.0646 - val_acc: 0.7549\n",
            "Epoch 3/100\n",
            "23461/23461 [==============================] - 8s 320us/step - loss: 1.0489 - acc: 0.7570 - val_loss: 1.0046 - val_acc: 0.7675\n",
            "Epoch 4/100\n",
            "23461/23461 [==============================] - 8s 321us/step - loss: 1.0376 - acc: 0.7602 - val_loss: 0.9946 - val_acc: 0.7669\n",
            "Epoch 5/100\n",
            "23461/23461 [==============================] - 7s 317us/step - loss: 0.9968 - acc: 0.7639 - val_loss: 0.9723 - val_acc: 0.7702\n",
            "Epoch 6/100\n",
            "23461/23461 [==============================] - 8s 329us/step - loss: 0.9780 - acc: 0.7657 - val_loss: 0.9504 - val_acc: 0.7735\n",
            "Epoch 7/100\n",
            "23461/23461 [==============================] - 8s 330us/step - loss: 0.9482 - acc: 0.7702 - val_loss: 0.9126 - val_acc: 0.7785\n",
            "Epoch 8/100\n",
            "23461/23461 [==============================] - 8s 329us/step - loss: 0.9053 - acc: 0.7761 - val_loss: 0.8669 - val_acc: 0.7860\n",
            "Epoch 9/100\n",
            "23461/23461 [==============================] - 8s 326us/step - loss: 0.8583 - acc: 0.7835 - val_loss: 0.8102 - val_acc: 0.7943\n",
            "Epoch 10/100\n",
            "23461/23461 [==============================] - 7s 310us/step - loss: 0.8049 - acc: 0.7935 - val_loss: 0.7601 - val_acc: 0.8052\n",
            "Epoch 11/100\n",
            "23461/23461 [==============================] - 8s 326us/step - loss: 0.7450 - acc: 0.8051 - val_loss: 0.7014 - val_acc: 0.8153\n",
            "Epoch 12/100\n",
            "23461/23461 [==============================] - 7s 313us/step - loss: 0.6906 - acc: 0.8152 - val_loss: 0.6631 - val_acc: 0.8224\n",
            "Epoch 13/100\n",
            "23461/23461 [==============================] - 7s 317us/step - loss: 0.6234 - acc: 0.8306 - val_loss: 0.5768 - val_acc: 0.8418\n",
            "Epoch 14/100\n",
            "23461/23461 [==============================] - 8s 327us/step - loss: 0.5869 - acc: 0.8368 - val_loss: 0.5295 - val_acc: 0.8517\n",
            "Epoch 15/100\n",
            "23461/23461 [==============================] - 8s 324us/step - loss: 0.5091 - acc: 0.8565 - val_loss: 0.4727 - val_acc: 0.8664\n",
            "Epoch 16/100\n",
            "23461/23461 [==============================] - 8s 324us/step - loss: 0.4664 - acc: 0.8676 - val_loss: 0.4425 - val_acc: 0.8725\n",
            "Epoch 17/100\n",
            "23461/23461 [==============================] - 7s 316us/step - loss: 0.4090 - acc: 0.8838 - val_loss: 0.3770 - val_acc: 0.8939\n",
            "Epoch 18/100\n",
            "23461/23461 [==============================] - 7s 318us/step - loss: 0.3617 - acc: 0.8970 - val_loss: 0.3603 - val_acc: 0.8960\n",
            "Epoch 19/100\n",
            "23461/23461 [==============================] - 8s 320us/step - loss: 0.3317 - acc: 0.9046 - val_loss: 0.3176 - val_acc: 0.9091\n",
            "Epoch 20/100\n",
            "23461/23461 [==============================] - 8s 324us/step - loss: 0.2918 - acc: 0.9164 - val_loss: 0.2819 - val_acc: 0.9201\n",
            "Epoch 21/100\n",
            "23461/23461 [==============================] - 8s 330us/step - loss: 0.2617 - acc: 0.9255 - val_loss: 0.2574 - val_acc: 0.9271\n",
            "Epoch 22/100\n",
            "23461/23461 [==============================] - 7s 317us/step - loss: 0.2337 - acc: 0.9335 - val_loss: 0.2527 - val_acc: 0.9261\n",
            "Epoch 23/100\n",
            "23461/23461 [==============================] - 7s 315us/step - loss: 0.2241 - acc: 0.9349 - val_loss: 0.2308 - val_acc: 0.9347\n",
            "Epoch 24/100\n",
            "23461/23461 [==============================] - 7s 319us/step - loss: 0.1917 - acc: 0.9455 - val_loss: 0.2043 - val_acc: 0.9420\n",
            "Epoch 25/100\n",
            "23461/23461 [==============================] - 8s 321us/step - loss: 0.1709 - acc: 0.9516 - val_loss: 0.1945 - val_acc: 0.9437\n",
            "Epoch 26/100\n",
            "23461/23461 [==============================] - 8s 321us/step - loss: 0.1670 - acc: 0.9516 - val_loss: 0.1826 - val_acc: 0.9472\n",
            "Epoch 27/100\n",
            "23461/23461 [==============================] - 7s 320us/step - loss: 0.1458 - acc: 0.9586 - val_loss: 0.1730 - val_acc: 0.9495\n",
            "Epoch 28/100\n",
            "23461/23461 [==============================] - 8s 321us/step - loss: 0.1333 - acc: 0.9622 - val_loss: 0.1634 - val_acc: 0.9528\n",
            "Epoch 29/100\n",
            "23461/23461 [==============================] - 8s 332us/step - loss: 0.1230 - acc: 0.9651 - val_loss: 0.1641 - val_acc: 0.9523\n",
            "Epoch 30/100\n",
            "23461/23461 [==============================] - 8s 324us/step - loss: 0.1373 - acc: 0.9589 - val_loss: 0.2042 - val_acc: 0.9382\n",
            "Epoch 31/100\n",
            "23461/23461 [==============================] - 8s 323us/step - loss: 0.1193 - acc: 0.9653 - val_loss: 0.1480 - val_acc: 0.9567\n",
            "Epoch 32/100\n",
            "23461/23461 [==============================] - 8s 326us/step - loss: 0.0998 - acc: 0.9714 - val_loss: 0.1413 - val_acc: 0.9583\n",
            "Epoch 33/100\n",
            "23461/23461 [==============================] - 8s 325us/step - loss: 0.0919 - acc: 0.9736 - val_loss: 0.1400 - val_acc: 0.9590\n",
            "Epoch 34/100\n",
            "23461/23461 [==============================] - 8s 325us/step - loss: 0.0871 - acc: 0.9750 - val_loss: 0.1347 - val_acc: 0.9602\n",
            "Epoch 35/100\n",
            "23461/23461 [==============================] - 8s 324us/step - loss: 0.0816 - acc: 0.9765 - val_loss: 0.1395 - val_acc: 0.9590\n",
            "Epoch 36/100\n",
            "23461/23461 [==============================] - 8s 331us/step - loss: 0.0784 - acc: 0.9773 - val_loss: 0.1313 - val_acc: 0.9614\n",
            "Epoch 37/100\n",
            "23461/23461 [==============================] - 8s 335us/step - loss: 0.0718 - acc: 0.9794 - val_loss: 0.1330 - val_acc: 0.9607\n",
            "Epoch 38/100\n",
            "23461/23461 [==============================] - 8s 325us/step - loss: 0.0693 - acc: 0.9799 - val_loss: 0.1277 - val_acc: 0.9626\n",
            "Epoch 39/100\n",
            "23461/23461 [==============================] - 8s 321us/step - loss: 0.0704 - acc: 0.9794 - val_loss: 0.1422 - val_acc: 0.9588\n",
            "Epoch 40/100\n",
            "23461/23461 [==============================] - 8s 323us/step - loss: 0.0923 - acc: 0.9714 - val_loss: 0.1401 - val_acc: 0.9585\n",
            "Epoch 41/100\n",
            "23461/23461 [==============================] - 8s 334us/step - loss: 0.0794 - acc: 0.9760 - val_loss: 0.1393 - val_acc: 0.9582\n",
            "Epoch 42/100\n",
            "23461/23461 [==============================] - 7s 317us/step - loss: 0.0690 - acc: 0.9792 - val_loss: 0.1250 - val_acc: 0.9622\n",
            "Epoch 43/100\n",
            "23461/23461 [==============================] - 7s 319us/step - loss: 0.0588 - acc: 0.9827 - val_loss: 0.1233 - val_acc: 0.9637\n",
            "Epoch 44/100\n",
            "23461/23461 [==============================] - 8s 327us/step - loss: 0.0557 - acc: 0.9835 - val_loss: 0.1246 - val_acc: 0.9633\n",
            "Epoch 45/100\n",
            "23461/23461 [==============================] - 8s 325us/step - loss: 0.0649 - acc: 0.9804 - val_loss: 0.1308 - val_acc: 0.9613\n",
            "Epoch 46/100\n",
            "23461/23461 [==============================] - 8s 324us/step - loss: 0.0593 - acc: 0.9820 - val_loss: 0.1325 - val_acc: 0.9610\n",
            "Epoch 47/100\n",
            "23461/23461 [==============================] - 8s 323us/step - loss: 0.0528 - acc: 0.9841 - val_loss: 0.1226 - val_acc: 0.9644\n",
            "Epoch 48/100\n",
            "23461/23461 [==============================] - 8s 326us/step - loss: 0.0461 - acc: 0.9862 - val_loss: 0.1206 - val_acc: 0.9648\n",
            "Epoch 49/100\n",
            "23461/23461 [==============================] - 8s 327us/step - loss: 0.0435 - acc: 0.9869 - val_loss: 0.1179 - val_acc: 0.9646\n",
            "Epoch 50/100\n",
            "23461/23461 [==============================] - 8s 324us/step - loss: 0.0421 - acc: 0.9875 - val_loss: 0.1209 - val_acc: 0.9654\n",
            "Epoch 51/100\n",
            "23461/23461 [==============================] - 8s 320us/step - loss: 0.0404 - acc: 0.9877 - val_loss: 0.1193 - val_acc: 0.9644\n",
            "Epoch 52/100\n",
            "23461/23461 [==============================] - 8s 323us/step - loss: 0.0387 - acc: 0.9882 - val_loss: 0.1194 - val_acc: 0.9647\n",
            "Epoch 53/100\n",
            "23461/23461 [==============================] - 8s 322us/step - loss: 0.0373 - acc: 0.9885 - val_loss: 0.1192 - val_acc: 0.9657\n",
            "Epoch 54/100\n",
            "23461/23461 [==============================] - 8s 332us/step - loss: 0.0348 - acc: 0.9891 - val_loss: 0.1169 - val_acc: 0.9662\n",
            "Epoch 55/100\n",
            "23461/23461 [==============================] - 8s 325us/step - loss: 0.0340 - acc: 0.9893 - val_loss: 0.1174 - val_acc: 0.9662\n",
            "Epoch 56/100\n",
            "23461/23461 [==============================] - 8s 332us/step - loss: 0.0330 - acc: 0.9896 - val_loss: 0.1205 - val_acc: 0.9659\n",
            "Epoch 57/100\n",
            "23461/23461 [==============================] - 8s 329us/step - loss: 0.0330 - acc: 0.9894 - val_loss: 0.1225 - val_acc: 0.9654\n",
            "Epoch 58/100\n",
            "23461/23461 [==============================] - 7s 319us/step - loss: 0.0323 - acc: 0.9896 - val_loss: 0.1257 - val_acc: 0.9651\n",
            "Epoch 59/100\n",
            "23461/23461 [==============================] - 8s 331us/step - loss: 0.0334 - acc: 0.9892 - val_loss: 0.1230 - val_acc: 0.9647\n"
          ],
          "name": "stdout"
        },
        {
          "output_type": "display_data",
          "data": {
            "image/png": "[encoded data removed]",
            "text/plain": [
              "<Figure size 432x288 with 1 Axes>"
            ]
          },
          "metadata": {
            "tags": []
          }
        }
      ]
    },
    {
      "cell_type": "markdown",
      "metadata": {
        "id": "HCCVHlIj_v-J",
        "colab_type": "text"
      },
      "source": [
        "### accuracy on validation set is 0.9662 - Not bad for the first model! Let's see if we could improve that further more"
      ]
    },
    {
      "cell_type": "code",
      "metadata": {
        "id": "xrrmwjFNAuXR",
        "colab_type": "code",
        "outputId": "fb6dfcf6-3361-4160-8536-16033dbfdfcf",
        "colab": {
          "base_uri": "https://localhost:8080/",
          "height": 1000
        }
      },
      "source": [
        "def define_seq2seq_BiLSTM(in_vocab, out_vocab, in_timesteps, out_timesteps, units):\n",
        "  input = x = Input(shape=(None,))\n",
        "  x = Embedding(in_vocab, units, input_length=in_timesteps, mask_zero=True)(x)\n",
        "  x, h, c, h2, c2 = Bi(LSTM(units, return_state=True))(x)\n",
        "  x = Dropout(0.1)(x)\n",
        "  x = RepeatVector(out_timesteps)(x)\n",
        "  x = Bi(LSTM(units, return_sequences=True))(x, initial_state = (h, c, h2, c2))\n",
        "  x = Dropout(0.1)(x)\n",
        "  output = Dense(out_vocab, activation='softmax')(x)\n",
        "  model = Model(input, output)\n",
        "  model.summary()\n",
        "  model.compile(optimizer='adam', loss='sparse_categorical_crossentropy', metrics=['accuracy'])\n",
        "  return model\n",
        "\n",
        "model = define_seq2seq_BiLSTM(rus_vocab_size, trn_vocab_size, rus_length, trn_length, 512)\n",
        "train_model(model)"
      ],
      "execution_count": 17,
      "outputs": [
        {
          "output_type": "stream",
          "text": [
            "Model: \"model_5\"\n",
            "__________________________________________________________________________________________________\n",
            "Layer (type)                    Output Shape         Param #     Connected to                     \n",
            "==================================================================================================\n",
            "input_6 (InputLayer)            (None, None)         0                                            \n",
            "__________________________________________________________________________________________________\n",
            "embedding_7 (Embedding)         (None, 27, 512)      17920       input_6[0][0]                    \n",
            "__________________________________________________________________________________________________\n",
            "bidirectional_1 (Bidirectional) [(None, 1024), (None 4198400     embedding_7[0][0]                \n",
            "__________________________________________________________________________________________________\n",
            "dropout_3 (Dropout)             (None, 1024)         0           bidirectional_1[0][0]            \n",
            "__________________________________________________________________________________________________\n",
            "repeat_vector_5 (RepeatVector)  (None, 26, 1024)     0           dropout_3[0][0]                  \n",
            "__________________________________________________________________________________________________\n",
            "bidirectional_2 (Bidirectional) (None, 26, 1024)     6295552     repeat_vector_5[0][0]            \n",
            "                                                                 bidirectional_1[0][1]            \n",
            "                                                                 bidirectional_1[0][2]            \n",
            "                                                                 bidirectional_1[0][3]            \n",
            "                                                                 bidirectional_1[0][4]            \n",
            "__________________________________________________________________________________________________\n",
            "dropout_4 (Dropout)             (None, 26, 1024)     0           bidirectional_2[0][0]            \n",
            "__________________________________________________________________________________________________\n",
            "dense_6 (Dense)                 (None, 26, 115)      117875      dropout_4[0][0]                  \n",
            "==================================================================================================\n",
            "Total params: 10,629,747\n",
            "Trainable params: 10,629,747\n",
            "Non-trainable params: 0\n",
            "__________________________________________________________________________________________________\n",
            "Train on 23461 samples, validate on 2607 samples\n",
            "Epoch 1/100\n",
            "23461/23461 [==============================] - 23s 974us/step - loss: 1.6290 - acc: 0.7269 - val_loss: 1.1705 - val_acc: 0.7560\n",
            "Epoch 2/100\n",
            "23461/23461 [==============================] - 16s 686us/step - loss: 1.0650 - acc: 0.7543 - val_loss: 0.9901 - val_acc: 0.7653\n",
            "Epoch 3/100\n",
            "23461/23461 [==============================] - 16s 694us/step - loss: 0.9818 - acc: 0.7646 - val_loss: 0.9258 - val_acc: 0.7765\n",
            "Epoch 4/100\n",
            "23461/23461 [==============================] - 16s 695us/step - loss: 0.9002 - acc: 0.7796 - val_loss: 0.8316 - val_acc: 0.7936\n",
            "Epoch 5/100\n",
            "23461/23461 [==============================] - 16s 688us/step - loss: 0.7984 - acc: 0.7948 - val_loss: 0.7211 - val_acc: 0.8081\n",
            "Epoch 6/100\n",
            "23461/23461 [==============================] - 16s 687us/step - loss: 0.6951 - acc: 0.8095 - val_loss: 0.6210 - val_acc: 0.8247\n",
            "Epoch 7/100\n",
            "23461/23461 [==============================] - 16s 685us/step - loss: 0.6059 - acc: 0.8252 - val_loss: 0.5398 - val_acc: 0.8424\n",
            "Epoch 8/100\n",
            "23461/23461 [==============================] - 16s 693us/step - loss: 0.5231 - acc: 0.8440 - val_loss: 0.4703 - val_acc: 0.8577\n",
            "Epoch 9/100\n",
            "23461/23461 [==============================] - 16s 683us/step - loss: 0.4583 - acc: 0.8601 - val_loss: 0.4160 - val_acc: 0.8753\n",
            "Epoch 10/100\n",
            "23461/23461 [==============================] - 17s 716us/step - loss: 0.4008 - acc: 0.8762 - val_loss: 0.3858 - val_acc: 0.8823\n",
            "Epoch 11/100\n",
            "23461/23461 [==============================] - 17s 712us/step - loss: 0.3471 - acc: 0.8922 - val_loss: 0.3094 - val_acc: 0.9070\n",
            "Epoch 12/100\n",
            "23461/23461 [==============================] - 16s 703us/step - loss: 0.2970 - acc: 0.9082 - val_loss: 0.2691 - val_acc: 0.9212\n",
            "Epoch 13/100\n",
            "23461/23461 [==============================] - 17s 706us/step - loss: 0.2500 - acc: 0.9234 - val_loss: 0.2318 - val_acc: 0.9324\n",
            "Epoch 14/100\n",
            "23461/23461 [==============================] - 16s 692us/step - loss: 0.2238 - acc: 0.9305 - val_loss: 0.2064 - val_acc: 0.9402\n",
            "Epoch 15/100\n",
            "23461/23461 [==============================] - 16s 701us/step - loss: 0.1829 - acc: 0.9441 - val_loss: 0.1831 - val_acc: 0.9470\n",
            "Epoch 16/100\n",
            "23461/23461 [==============================] - 16s 694us/step - loss: 0.1574 - acc: 0.9520 - val_loss: 0.1689 - val_acc: 0.9492\n",
            "Epoch 17/100\n",
            "23461/23461 [==============================] - 16s 689us/step - loss: 0.1389 - acc: 0.9577 - val_loss: 0.1596 - val_acc: 0.9532\n",
            "Epoch 18/100\n",
            "23461/23461 [==============================] - 16s 694us/step - loss: 0.1254 - acc: 0.9612 - val_loss: 0.1425 - val_acc: 0.9581\n",
            "Epoch 19/100\n",
            "23461/23461 [==============================] - 17s 705us/step - loss: 0.1077 - acc: 0.9670 - val_loss: 0.1342 - val_acc: 0.9600\n",
            "Epoch 20/100\n",
            "23461/23461 [==============================] - 16s 703us/step - loss: 0.0964 - acc: 0.9705 - val_loss: 0.1255 - val_acc: 0.9620\n",
            "Epoch 21/100\n",
            "23461/23461 [==============================] - 16s 688us/step - loss: 0.0869 - acc: 0.9734 - val_loss: 0.1212 - val_acc: 0.9639\n",
            "Epoch 22/100\n",
            "23461/23461 [==============================] - 16s 692us/step - loss: 0.0774 - acc: 0.9759 - val_loss: 0.1181 - val_acc: 0.9654\n",
            "Epoch 23/100\n",
            "23461/23461 [==============================] - 16s 701us/step - loss: 0.0703 - acc: 0.9784 - val_loss: 0.1133 - val_acc: 0.9663\n",
            "Epoch 24/100\n",
            "23461/23461 [==============================] - 16s 688us/step - loss: 0.0657 - acc: 0.9797 - val_loss: 0.1126 - val_acc: 0.9667\n",
            "Epoch 25/100\n",
            "23461/23461 [==============================] - 16s 694us/step - loss: 0.0709 - acc: 0.9778 - val_loss: 0.1279 - val_acc: 0.9625\n",
            "Epoch 26/100\n",
            "23461/23461 [==============================] - 16s 699us/step - loss: 0.0682 - acc: 0.9783 - val_loss: 0.1090 - val_acc: 0.9676\n",
            "Epoch 27/100\n",
            "23461/23461 [==============================] - 16s 703us/step - loss: 0.0570 - acc: 0.9819 - val_loss: 0.1055 - val_acc: 0.9690\n",
            "Epoch 28/100\n",
            "23461/23461 [==============================] - 16s 683us/step - loss: 0.0501 - acc: 0.9843 - val_loss: 0.1046 - val_acc: 0.9689\n",
            "Epoch 29/100\n",
            "23461/23461 [==============================] - 16s 699us/step - loss: 0.0459 - acc: 0.9855 - val_loss: 0.1032 - val_acc: 0.9689\n",
            "Epoch 30/100\n",
            "23461/23461 [==============================] - 16s 697us/step - loss: 0.0444 - acc: 0.9857 - val_loss: 0.1043 - val_acc: 0.9696\n",
            "Epoch 31/100\n",
            "23461/23461 [==============================] - 17s 703us/step - loss: 0.0444 - acc: 0.9857 - val_loss: 0.1082 - val_acc: 0.9694\n",
            "Epoch 32/100\n",
            "23461/23461 [==============================] - 16s 698us/step - loss: 0.0435 - acc: 0.9858 - val_loss: 0.1069 - val_acc: 0.9697\n",
            "Epoch 33/100\n",
            "23461/23461 [==============================] - 16s 687us/step - loss: 0.0422 - acc: 0.9863 - val_loss: 0.1109 - val_acc: 0.9690\n",
            "Epoch 34/100\n",
            "23461/23461 [==============================] - 16s 702us/step - loss: 0.0412 - acc: 0.9864 - val_loss: 0.1038 - val_acc: 0.9699\n",
            "Epoch 35/100\n",
            "23461/23461 [==============================] - 16s 688us/step - loss: 0.0419 - acc: 0.9860 - val_loss: 0.1095 - val_acc: 0.9691\n",
            "Epoch 36/100\n",
            "23461/23461 [==============================] - 16s 690us/step - loss: 0.0433 - acc: 0.9857 - val_loss: 0.1070 - val_acc: 0.9698\n",
            "Epoch 37/100\n",
            "23461/23461 [==============================] - 16s 678us/step - loss: 0.0399 - acc: 0.9866 - val_loss: 0.1075 - val_acc: 0.9697\n",
            "Epoch 38/100\n",
            "23461/23461 [==============================] - 16s 695us/step - loss: 0.0395 - acc: 0.9868 - val_loss: 0.1077 - val_acc: 0.9696\n",
            "Epoch 39/100\n",
            "23461/23461 [==============================] - 16s 702us/step - loss: 0.0408 - acc: 0.9863 - val_loss: 0.1085 - val_acc: 0.9698\n"
          ],
          "name": "stdout"
        },
        {
          "output_type": "display_data",
          "data": {
            "image/png": "[encoded data removed]",
            "text/plain": [
              "<Figure size 432x288 with 1 Axes>"
            ]
          },
          "metadata": {
            "tags": []
          }
        }
      ]
    },
    {
      "cell_type": "markdown",
      "metadata": {
        "id": "IIX2DfkcA0_Q",
        "colab_type": "text"
      },
      "source": [
        "### val_acc: 0.9699 = Bidirectional LSTM with states transfer slightly improves the result. What's next? Let's try 2 layers of LSTM in encoder-decoder"
      ]
    },
    {
      "cell_type": "code",
      "metadata": {
        "id": "LksHo8BAGep9",
        "colab_type": "code",
        "outputId": "85ac51fb-71fa-458f-ce25-c27f532cb771",
        "colab": {
          "base_uri": "https://localhost:8080/",
          "height": 1000
        }
      },
      "source": [
        "def define_seq2seq_2LSTM(in_vocab, out_vocab, in_timesteps, out_timesteps, units):\n",
        "  input = x = Input(shape=(None,))\n",
        "  x = Embedding(in_vocab, units, input_length=in_timesteps, mask_zero=True)(x)\n",
        "  x, h, c = LSTM(units, return_sequences=True, return_state=True, go_backwards=True)(x)\n",
        "  x = Dropout(0.5)(x)\n",
        "  x, h2, c2 = LSTM(units, return_state=True)(x)\n",
        "  x = RepeatVector(out_timesteps)(x)\n",
        "  x = LSTM(units, return_sequences=True)(x, initial_state = (h, c))\n",
        "  x = Dropout(0.5)(x)\n",
        "  x = LSTM(units, return_sequences=True)(x, initial_state = (h2, c2))\n",
        "  output = Dense(out_vocab, activation='softmax')(x)\n",
        "  model = Model(input, output)\n",
        "  model.summary()\n",
        "  model.compile(optimizer='adam', loss='sparse_categorical_crossentropy', metrics=['accuracy'])\n",
        "  return model\n",
        "\n",
        "model = define_seq2seq_2LSTM(rus_vocab_size, trn_vocab_size, rus_length, trn_length, 512)\n",
        "train_model(model)"
      ],
      "execution_count": 19,
      "outputs": [
        {
          "output_type": "stream",
          "text": [
            "Model: \"model_7\"\n",
            "__________________________________________________________________________________________________\n",
            "Layer (type)                    Output Shape         Param #     Connected to                     \n",
            "==================================================================================================\n",
            "input_8 (InputLayer)            (None, None)         0                                            \n",
            "__________________________________________________________________________________________________\n",
            "embedding_9 (Embedding)         (None, 27, 512)      17920       input_8[0][0]                    \n",
            "__________________________________________________________________________________________________\n",
            "lstm_19 (LSTM)                  [(None, 27, 512), (N 2099200     embedding_9[0][0]                \n",
            "__________________________________________________________________________________________________\n",
            "dropout_7 (Dropout)             (None, 27, 512)      0           lstm_19[0][0]                    \n",
            "__________________________________________________________________________________________________\n",
            "lstm_20 (LSTM)                  [(None, 512), (None, 2099200     dropout_7[0][0]                  \n",
            "__________________________________________________________________________________________________\n",
            "repeat_vector_7 (RepeatVector)  (None, 26, 512)      0           lstm_20[0][0]                    \n",
            "__________________________________________________________________________________________________\n",
            "lstm_21 (LSTM)                  (None, 26, 512)      2099200     repeat_vector_7[0][0]            \n",
            "                                                                 lstm_19[0][1]                    \n",
            "                                                                 lstm_19[0][2]                    \n",
            "__________________________________________________________________________________________________\n",
            "dropout_8 (Dropout)             (None, 26, 512)      0           lstm_21[0][0]                    \n",
            "__________________________________________________________________________________________________\n",
            "lstm_22 (LSTM)                  (None, 26, 512)      2099200     dropout_8[0][0]                  \n",
            "                                                                 lstm_20[0][1]                    \n",
            "                                                                 lstm_20[0][2]                    \n",
            "__________________________________________________________________________________________________\n",
            "dense_8 (Dense)                 (None, 26, 115)      58995       lstm_22[0][0]                    \n",
            "==================================================================================================\n",
            "Total params: 8,473,715\n",
            "Trainable params: 8,473,715\n",
            "Non-trainable params: 0\n",
            "__________________________________________________________________________________________________\n",
            "Train on 23461 samples, validate on 2607 samples\n",
            "Epoch 1/100\n",
            "23461/23461 [==============================] - 22s 929us/step - loss: 1.7208 - acc: 0.7276 - val_loss: 1.2555 - val_acc: 0.7507\n",
            "Epoch 2/100\n",
            "23461/23461 [==============================] - 15s 626us/step - loss: 1.1361 - acc: 0.7515 - val_loss: 1.0258 - val_acc: 0.7595\n",
            "Epoch 3/100\n",
            "23461/23461 [==============================] - 14s 616us/step - loss: 1.0158 - acc: 0.7615 - val_loss: 0.9780 - val_acc: 0.7681\n",
            "Epoch 4/100\n",
            "23461/23461 [==============================] - 14s 615us/step - loss: 0.9819 - acc: 0.7654 - val_loss: 0.9540 - val_acc: 0.7725\n",
            "Epoch 5/100\n",
            "23461/23461 [==============================] - 15s 640us/step - loss: 0.9686 - acc: 0.7678 - val_loss: 0.9421 - val_acc: 0.7743\n",
            "Epoch 6/100\n",
            "23461/23461 [==============================] - 15s 622us/step - loss: 0.9487 - acc: 0.7705 - val_loss: 0.9256 - val_acc: 0.7757\n",
            "Epoch 7/100\n",
            "23461/23461 [==============================] - 15s 627us/step - loss: 0.9217 - acc: 0.7737 - val_loss: 0.8879 - val_acc: 0.7814\n",
            "Epoch 8/100\n",
            "23461/23461 [==============================] - 15s 622us/step - loss: 0.8834 - acc: 0.7787 - val_loss: 0.8366 - val_acc: 0.7872\n",
            "Epoch 9/100\n",
            "23461/23461 [==============================] - 14s 616us/step - loss: 0.8251 - acc: 0.7883 - val_loss: 0.7723 - val_acc: 0.8018\n",
            "Epoch 10/100\n",
            "23461/23461 [==============================] - 15s 623us/step - loss: 0.7599 - acc: 0.8011 - val_loss: 0.6923 - val_acc: 0.8183\n",
            "Epoch 11/100\n",
            "23461/23461 [==============================] - 14s 614us/step - loss: 0.6764 - acc: 0.8188 - val_loss: 0.6101 - val_acc: 0.8343\n",
            "Epoch 12/100\n",
            "23461/23461 [==============================] - 15s 624us/step - loss: 0.5894 - acc: 0.8390 - val_loss: 0.5171 - val_acc: 0.8594\n",
            "Epoch 13/100\n",
            "23461/23461 [==============================] - 15s 631us/step - loss: 0.5011 - acc: 0.8612 - val_loss: 0.4273 - val_acc: 0.8829\n",
            "Epoch 14/100\n",
            "23461/23461 [==============================] - 15s 627us/step - loss: 0.4155 - acc: 0.8831 - val_loss: 0.3538 - val_acc: 0.9018\n",
            "Epoch 15/100\n",
            "23461/23461 [==============================] - 14s 618us/step - loss: 0.3406 - acc: 0.9034 - val_loss: 0.2834 - val_acc: 0.9201\n",
            "Epoch 16/100\n",
            "23461/23461 [==============================] - 15s 629us/step - loss: 0.2819 - acc: 0.9187 - val_loss: 0.2355 - val_acc: 0.9333\n",
            "Epoch 17/100\n",
            "23461/23461 [==============================] - 15s 627us/step - loss: 0.2349 - acc: 0.9317 - val_loss: 0.2010 - val_acc: 0.9422\n",
            "Epoch 18/100\n",
            "23461/23461 [==============================] - 15s 621us/step - loss: 0.2003 - acc: 0.9410 - val_loss: 0.1782 - val_acc: 0.9482\n",
            "Epoch 19/100\n",
            "23461/23461 [==============================] - 14s 613us/step - loss: 0.1749 - acc: 0.9478 - val_loss: 0.1640 - val_acc: 0.9519\n",
            "Epoch 20/100\n",
            "23461/23461 [==============================] - 14s 612us/step - loss: 0.1555 - acc: 0.9531 - val_loss: 0.1472 - val_acc: 0.9563\n",
            "Epoch 21/100\n",
            "23461/23461 [==============================] - 15s 636us/step - loss: 0.1378 - acc: 0.9582 - val_loss: 0.1334 - val_acc: 0.9602\n",
            "Epoch 22/100\n",
            "23461/23461 [==============================] - 15s 625us/step - loss: 0.1237 - acc: 0.9621 - val_loss: 0.1269 - val_acc: 0.9613\n",
            "Epoch 23/100\n",
            "23461/23461 [==============================] - 14s 607us/step - loss: 0.1113 - acc: 0.9656 - val_loss: 0.1172 - val_acc: 0.9647\n",
            "Epoch 24/100\n",
            "23461/23461 [==============================] - 15s 619us/step - loss: 0.1031 - acc: 0.9678 - val_loss: 0.1124 - val_acc: 0.9653\n",
            "Epoch 25/100\n",
            "23461/23461 [==============================] - 15s 627us/step - loss: 0.0957 - acc: 0.9701 - val_loss: 0.1078 - val_acc: 0.9680\n",
            "Epoch 26/100\n",
            "23461/23461 [==============================] - 15s 620us/step - loss: 0.0890 - acc: 0.9717 - val_loss: 0.1032 - val_acc: 0.9684\n",
            "Epoch 27/100\n",
            "23461/23461 [==============================] - 14s 611us/step - loss: 0.0821 - acc: 0.9739 - val_loss: 0.1008 - val_acc: 0.9684\n",
            "Epoch 28/100\n",
            "23461/23461 [==============================] - 14s 603us/step - loss: 0.0765 - acc: 0.9756 - val_loss: 0.0961 - val_acc: 0.9706\n",
            "Epoch 29/100\n",
            "23461/23461 [==============================] - 15s 628us/step - loss: 0.0728 - acc: 0.9765 - val_loss: 0.0975 - val_acc: 0.9701\n",
            "Epoch 30/100\n",
            "23461/23461 [==============================] - 15s 627us/step - loss: 0.0681 - acc: 0.9776 - val_loss: 0.0944 - val_acc: 0.9709\n",
            "Epoch 31/100\n",
            "23461/23461 [==============================] - 14s 612us/step - loss: 0.0643 - acc: 0.9790 - val_loss: 0.0933 - val_acc: 0.9714\n",
            "Epoch 32/100\n",
            "23461/23461 [==============================] - 14s 611us/step - loss: 0.0611 - acc: 0.9799 - val_loss: 0.0895 - val_acc: 0.9725\n",
            "Epoch 33/100\n",
            "23461/23461 [==============================] - 15s 621us/step - loss: 0.0571 - acc: 0.9811 - val_loss: 0.0901 - val_acc: 0.9716\n",
            "Epoch 34/100\n",
            "23461/23461 [==============================] - 15s 624us/step - loss: 0.0575 - acc: 0.9806 - val_loss: 0.0912 - val_acc: 0.9723\n",
            "Epoch 35/100\n",
            "23461/23461 [==============================] - 15s 623us/step - loss: 0.0538 - acc: 0.9820 - val_loss: 0.0873 - val_acc: 0.9736\n",
            "Epoch 36/100\n",
            "23461/23461 [==============================] - 15s 621us/step - loss: 0.0516 - acc: 0.9824 - val_loss: 0.0874 - val_acc: 0.9733\n",
            "Epoch 37/100\n",
            "23461/23461 [==============================] - 15s 619us/step - loss: 0.0487 - acc: 0.9835 - val_loss: 0.0894 - val_acc: 0.9738\n",
            "Epoch 38/100\n",
            "23461/23461 [==============================] - 15s 634us/step - loss: 0.0459 - acc: 0.9843 - val_loss: 0.0867 - val_acc: 0.9739\n",
            "Epoch 39/100\n",
            "23461/23461 [==============================] - 14s 613us/step - loss: 0.0444 - acc: 0.9848 - val_loss: 0.0893 - val_acc: 0.9735\n",
            "Epoch 40/100\n",
            "23461/23461 [==============================] - 14s 617us/step - loss: 0.0458 - acc: 0.9841 - val_loss: 0.0893 - val_acc: 0.9739\n",
            "Epoch 41/100\n",
            "23461/23461 [==============================] - 14s 617us/step - loss: 0.0428 - acc: 0.9851 - val_loss: 0.0882 - val_acc: 0.9734\n",
            "Epoch 42/100\n",
            "23461/23461 [==============================] - 15s 639us/step - loss: 0.0410 - acc: 0.9857 - val_loss: 0.0872 - val_acc: 0.9742\n",
            "Epoch 43/100\n",
            "23461/23461 [==============================] - 15s 628us/step - loss: 0.0396 - acc: 0.9861 - val_loss: 0.0886 - val_acc: 0.9739\n",
            "Epoch 44/100\n",
            "23461/23461 [==============================] - 14s 608us/step - loss: 0.0384 - acc: 0.9864 - val_loss: 0.0894 - val_acc: 0.9736\n",
            "Epoch 45/100\n",
            "23461/23461 [==============================] - 15s 636us/step - loss: 0.0369 - acc: 0.9869 - val_loss: 0.0888 - val_acc: 0.9745\n",
            "Epoch 46/100\n",
            "23461/23461 [==============================] - 15s 625us/step - loss: 0.0357 - acc: 0.9873 - val_loss: 0.0890 - val_acc: 0.9745\n",
            "Epoch 47/100\n",
            "23461/23461 [==============================] - 15s 625us/step - loss: 0.0348 - acc: 0.9875 - val_loss: 0.0900 - val_acc: 0.9742\n",
            "Epoch 48/100\n",
            "23461/23461 [==============================] - 15s 620us/step - loss: 0.0346 - acc: 0.9877 - val_loss: 0.0890 - val_acc: 0.9742\n",
            "Epoch 49/100\n",
            "23461/23461 [==============================] - 14s 616us/step - loss: 0.0346 - acc: 0.9876 - val_loss: 0.0935 - val_acc: 0.9739\n",
            "Epoch 50/100\n",
            "23461/23461 [==============================] - 15s 621us/step - loss: 0.0361 - acc: 0.9871 - val_loss: 0.0924 - val_acc: 0.9742\n"
          ],
          "name": "stdout"
        },
        {
          "output_type": "display_data",
          "data": {
            "image/png": "[encoded data removed]",
            "text/plain": [
              "<Figure size 432x288 with 1 Axes>"
            ]
          },
          "metadata": {
            "tags": []
          }
        }
      ]
    },
    {
      "cell_type": "markdown",
      "metadata": {
        "id": "pOGpMazwKiNS",
        "colab_type": "text"
      },
      "source": [
        "### val_acc: 0.9745 = Best result so far!"
      ]
    },
    {
      "cell_type": "markdown",
      "metadata": {
        "id": "i-ZvotPs48kU",
        "colab_type": "text"
      },
      "source": [
        "### Now that we've trained our model, let's see how it performs. Let's predict 15 random tokens from the test corpus"
      ]
    },
    {
      "cell_type": "code",
      "metadata": {
        "colab_type": "code",
        "outputId": "e913a349-cdd9-450f-829c-a8839a61030a",
        "id": "nTzqkY5ZtGdS",
        "colab": {
          "base_uri": "https://localhost:8080/",
          "height": 514
        }
      },
      "source": [
        "a = np.random.choice(len(testX), 15)\n",
        "\n",
        "x = testX[a]\n",
        "pred_ohe = model.predict(x, use_multiprocessing=True)\n",
        "pred = np.argmax(pred_ohe, axis=2)\n",
        "translation = trn_tokenizer.sequences_to_texts(pred)\n",
        "\n",
        "pred_df = pd.DataFrame({'actual' : trn_tokenizer.sequences_to_texts(testY[a]), 'predicted' : translation})\n",
        "pred_df"
      ],
      "execution_count": 20,
      "outputs": [
        {
          "output_type": "execute_result",
          "data": {
            "text/html": [
              "<div>\n",
              "<style scoped>\n",
              "    .dataframe tbody tr th:only-of-type {\n",
              "        vertical-align: middle;\n",
              "    }\n",
              "\n",
              "    .dataframe tbody tr th {\n",
              "        vertical-align: top;\n",
              "    }\n",
              "\n",
              "    .dataframe thead th {\n",
              "        text-align: right;\n",
              "    }\n",
              "</style>\n",
              "<table border=\"1\" class=\"dataframe\">\n",
              "  <thead>\n",
              "    <tr style=\"text-align: right;\">\n",
              "      <th></th>\n",
              "      <th>actual</th>\n",
              "      <th>predicted</th>\n",
              "    </tr>\n",
              "  </thead>\n",
              "  <tbody>\n",
              "    <tr>\n",
              "      <th>0</th>\n",
              "      <td>d' n' 'o1 m</td>\n",
              "      <td>d' n' 'o1 m</td>\n",
              "    </tr>\n",
              "    <tr>\n",
              "      <th>1</th>\n",
              "      <td>zh y'1 z' n'</td>\n",
              "      <td>zh y'1 z' n'</td>\n",
              "    </tr>\n",
              "    <tr>\n",
              "      <th>2</th>\n",
              "      <td>n a' ch' 'a1 l ax'</td>\n",
              "      <td>n a' ch' 'a1 l ax</td>\n",
              "    </tr>\n",
              "    <tr>\n",
              "      <th>3</th>\n",
              "      <td>k r y' s' 'i1 n ax' j'</td>\n",
              "      <td>k r a' s' 'i1 n ax' j'</td>\n",
              "    </tr>\n",
              "    <tr>\n",
              "      <th>4</th>\n",
              "      <td>ji v o1</td>\n",
              "      <td>j' 'i o'1</td>\n",
              "    </tr>\n",
              "    <tr>\n",
              "      <th>5</th>\n",
              "      <td>p a' d' n' 'a1 ts ts ax</td>\n",
              "      <td>p a' d' n' 'a1 ts ts ax</td>\n",
              "    </tr>\n",
              "    <tr>\n",
              "      <th>6</th>\n",
              "      <td>s k o1 r a</td>\n",
              "      <td>s k o1 r ax</td>\n",
              "    </tr>\n",
              "    <tr>\n",
              "      <th>7</th>\n",
              "      <td>n a' m' 'e'1 r' 'ix n</td>\n",
              "      <td>n a' m' 'e'1 r' 'ix n</td>\n",
              "    </tr>\n",
              "    <tr>\n",
              "      <th>8</th>\n",
              "      <td>p a' ch' t' 'i1</td>\n",
              "      <td>p a' ch' t' 'i'1</td>\n",
              "    </tr>\n",
              "    <tr>\n",
              "      <th>9</th>\n",
              "      <td>y z d a'1 n' 'ix' jax</td>\n",
              "      <td>i z d a'1 n' 'ix' jax</td>\n",
              "    </tr>\n",
              "    <tr>\n",
              "      <th>10</th>\n",
              "      <td>n' 'ix _</td>\n",
              "      <td>n' 'ix _</td>\n",
              "    </tr>\n",
              "    <tr>\n",
              "      <th>11</th>\n",
              "      <td>g o1 d ax m</td>\n",
              "      <td>g o1 d ax m</td>\n",
              "    </tr>\n",
              "    <tr>\n",
              "      <th>12</th>\n",
              "      <td>y _</td>\n",
              "      <td>i _</td>\n",
              "    </tr>\n",
              "    <tr>\n",
              "      <th>13</th>\n",
              "      <td>f p' 'i' r' 'o1 t</td>\n",
              "      <td>f p' 'i' r' 'o1 t</td>\n",
              "    </tr>\n",
              "    <tr>\n",
              "      <th>14</th>\n",
              "      <td>p ax l u g o'1 d' 'ix' je</td>\n",
              "      <td>p ax l u g o'1 d' 'ix' jax</td>\n",
              "    </tr>\n",
              "  </tbody>\n",
              "</table>\n",
              "</div>"
            ],
            "text/plain": [
              "                       actual                   predicted\n",
              "0                 d' n' 'o1 m                 d' n' 'o1 m\n",
              "1                zh y'1 z' n'                zh y'1 z' n'\n",
              "2          n a' ch' 'a1 l ax'           n a' ch' 'a1 l ax\n",
              "3      k r y' s' 'i1 n ax' j'      k r a' s' 'i1 n ax' j'\n",
              "4                     ji v o1                   j' 'i o'1\n",
              "5     p a' d' n' 'a1 ts ts ax     p a' d' n' 'a1 ts ts ax\n",
              "6                  s k o1 r a                 s k o1 r ax\n",
              "7       n a' m' 'e'1 r' 'ix n       n a' m' 'e'1 r' 'ix n\n",
              "8             p a' ch' t' 'i1            p a' ch' t' 'i'1\n",
              "9       y z d a'1 n' 'ix' jax       i z d a'1 n' 'ix' jax\n",
              "10                   n' 'ix _                    n' 'ix _\n",
              "11                g o1 d ax m                 g o1 d ax m\n",
              "12                        y _                         i _\n",
              "13          f p' 'i' r' 'o1 t           f p' 'i' r' 'o1 t\n",
              "14  p ax l u g o'1 d' 'ix' je  p ax l u g o'1 d' 'ix' jax"
            ]
          },
          "metadata": {
            "tags": []
          },
          "execution_count": 20
        }
      ]
    },
    {
      "cell_type": "markdown",
      "metadata": {
        "id": "aj-i60ShaUU_",
        "colab_type": "text"
      },
      "source": [
        "### Now let's put all that together in a function"
      ]
    },
    {
      "cell_type": "code",
      "metadata": {
        "id": "c8pLj-TGaYDq",
        "colab_type": "code",
        "outputId": "33703719-e72e-45f1-9ca0-be1dc2e06053",
        "colab": {
          "base_uri": "https://localhost:8080/",
          "height": 119
        }
      },
      "source": [
        "import string\n",
        "\n",
        "def make_transctript(str):\n",
        "  input_string = rus_trn[a][0]\n",
        "  input_string = input_string.lower()\n",
        "  input_string = input_string.translate(str.maketrans('', '', string.punctuation))\n",
        "  input_string = [list(each) for each in input_string.split(' ')]\n",
        "  input_seq = encode_sequences(rus_tokenizer, rus_length, input_string)\n",
        "\n",
        "  pred_ohe = model.predict(input_seq, use_multiprocessing=True)\n",
        "  pred = np.argmax(pred_ohe, axis=2)\n",
        "  translation = trn_tokenizer.sequences_to_texts(pred)\n",
        "\n",
        "  translation = '%% ' + ' # '.join(translation) + ' %%'\n",
        "  translation = translation.replace('_ #', '_')\n",
        "  return translation.replace('<PNK>', '%% %%')\n",
        "\n",
        "a = np.random.choice(len(rus_trn))\n",
        "print(f'Original sentence in Russian (#{a})')\n",
        "print( rus_trn[a][0])\n",
        "print('Original transcript')\n",
        "print( rus_trn[a][1])\n",
        "print('Predicted transcript')\n",
        "print( make_transctript( rus_trn[a][0]) )"
      ],
      "execution_count": 21,
      "outputs": [
        {
          "output_type": "stream",
          "text": [
            "Original sentence in Russian (#16049)\n",
            "жизнь в провинции сильно отличается от жизни в москве\n",
            "Original transcript\n",
            "%% zh y'1 z' n' # f _ p r a' v' 'i1 n ts ax' i' # s' 'i'1 l' n ax # a t l' 'i' ch' 'a'1 jax ts ts ax # a d _ zh y'1 z' n' 'ix # v _ m a s k v' 'e1 %%\n",
            "Predicted transcript\n",
            "%% zh y'1 z' n' # v _ p r a' v' 'i1 n ts ax' i # s' 'i'1 l' n ax # a t l' 'i' ch' 'a'1 jax ts ts ax # a t _ zh y'1 z' n' 'ix # v _ m a s k v' 'e1 %%\n"
          ],
          "name": "stdout"
        }
      ]
    },
    {
      "cell_type": "markdown",
      "metadata": {
        "id": "75Ho1kBn39sp",
        "colab_type": "text"
      },
      "source": [
        "### Let's build seq2seq teacher forcing model. First let's prepare the data by modifying target_output and creating target_input"
      ]
    },
    {
      "cell_type": "code",
      "metadata": {
        "colab_type": "code",
        "outputId": "19c5301a-3e9b-4a7f-cff5-491eff466f9f",
        "id": "GSgDSJl-fbR6",
        "colab": {
          "base_uri": "https://localhost:8080/",
          "height": 298
        }
      },
      "source": [
        "seen_rus = set()\n",
        "seen_trn = set()\n",
        "\n",
        "res, trn_l, rus_l = [], [], []\n",
        "for rus, trn in rus_trn:\n",
        "\n",
        "  if rus not in seen_rus or trn not in seen_trn:\n",
        "      seen_rus.add(rus)\n",
        "      seen_trn.add(trn)\n",
        "\n",
        "      # let's fix the errors in corpus\n",
        "      trn = trn.replace(\"f s t r a' n' 'e1\", \"f _ s t r a' n' 'e1\") \\\n",
        "              .replace(\"f t' 'u' r' m' 'e'1\", \"f _ t' 'u' r' m' 'e'1\") \\\n",
        "              .replace(\"f s' 'i' b' 'e1\", \"f _ s' 'i' b' 'e1\") \\\n",
        "              .replace(\"n' 'e'1 p' 'ix' r' 'ix t k' 'ix m\", \"n' 'e'1 # p' 'ix' r' 'ix t k' 'ix m\") \\\n",
        "              .replace(\"f p' 'i'1 sh' 'ux\", \"f _ p' 'i'1 sh' 'ux\") \\\n",
        "              .replace(\"f p l' 'ix' m' 'i n a1 h\", \"f _ p l' 'ix' m' 'i n a1 h\") \\\n",
        "              .replace(\"k ax n s u' l' 'i1 n u\", \"k _ ax n s u' l' 'i1 n u\") \\\n",
        "              .replace(\"f k o1 s m ax s\", \"f _ k o1 s m ax s\") \\\n",
        "              .replace(\"z' d' 'i' j' s t v' 'i'1 t' 'ix' l' n ax' s' t' j' 'u\", \"z' _ d' 'i' j' s t v' 'i'1 t' 'ix' l' n ax' s' t' j' 'u\") \\\n",
        "              .replace(\"g z ax b a s t o1 f k' 'e\", \"g _ z ax b a s t o1 f k' 'e\") \\\n",
        "              .replace(\"k m' 'ix s t ax r a zh d' 'e'1 n' 'ix' jax m\", \"k _ m' 'ix s t ax r a zh d' 'e'1 n' 'ix' jax m\") \\\n",
        "              .replace(\"f k a n ts e1\", \"f _ k a n ts e1\") \\\n",
        "              .replace(\"f p' 'i' r' 'i1 o t\", \"f _ p' 'i' r' 'i1 o t\") \\\n",
        "              .replace(\"f s' 'i k u1 n d u\", \"f _ s' 'i k u1 n d u\") \\\n",
        "              .replace(\"v' 'i'1 d' 'ixo' i _\", \"v' 'i'1 d' 'ixo' # i _\")\n",
        "\n",
        "      # '# <PNK>'\n",
        "      trn = trn[3:-3].replace('%% %%', '#') \\\n",
        "                .replace('_', '_ #') \\\n",
        "                .split('#')\n",
        "\n",
        "      rus = rus.replace(' же ', 'же ') \\\n",
        "                .replace(' бы ', 'бы ') \\\n",
        "                .replace(' ли ', 'ли ') \\\n",
        "                .replace(' не был', ' небыл') \\\n",
        "                .split(' ')\n",
        "\n",
        "      for a,b in zip(rus, trn):\n",
        "        b = b.strip().split(' ')\n",
        "        res.append((list(a) + ['<eos>'], b + ['<eos>'], ['<sos>'] + b))\n",
        "        rus_l.append( len(a))\n",
        "        trn_l.append( len(b))\n",
        "\n",
        "rus_trn_new = array(res)\n",
        "trn_length = max(trn_l)\n",
        "rus_length = max(rus_l)\n",
        "print(f'max len rus: {rus_length}, max len trn: {trn_length}')\n",
        "fig, (ax1, ax2) = plt.subplots(nrows=1,ncols=2,figsize=(12,4))\n",
        "pd.DataFrame({'Number of tokens in Rus sentence':rus_l}).hist(ax=ax1, bins = 30);\n",
        "pd.DataFrame({'Number of tokens in Trns sentence':trn_l}).hist(ax=ax2, bins = 30);"
      ],
      "execution_count": 27,
      "outputs": [
        {
          "output_type": "stream",
          "text": [
            "max len rus: 27, max len trn: 26\n"
          ],
          "name": "stdout"
        },
        {
          "output_type": "display_data",
          "data": {
            "image/png": "[encoded data removed]",
            "text/plain": [
              "<Figure size 864x288 with 2 Axes>"
            ]
          },
          "metadata": {
            "tags": []
          }
        }
      ]
    },
    {
      "cell_type": "markdown",
      "metadata": {
        "id": "TjoaLvTvijPh",
        "colab_type": "text"
      },
      "source": [
        "### Since the data has changed we need to re-tokenize"
      ]
    },
    {
      "cell_type": "code",
      "metadata": {
        "colab_type": "code",
        "outputId": "dcc71832-c63a-48fb-af38-ce3e2c1390e3",
        "id": "icP-e8mcf_R5",
        "colab": {
          "base_uri": "https://localhost:8080/",
          "height": 51
        }
      },
      "source": [
        "def tokenization(lines, split=' '):\n",
        "  tokenizer = Tokenizer(filters='', lower=False, split=split)\n",
        "  tokenizer.fit_on_texts(lines)\n",
        "  return tokenizer\n",
        "\n",
        "def encode_sequences(tokenizer, length, lines):\n",
        "  seq = tokenizer.texts_to_sequences(lines)\n",
        "  seq = pad_sequences(sequences=seq, maxlen=length, padding='post')\n",
        "  return seq\n",
        "\n",
        "rus_tokenizer = tokenization(rus_trn_new[:, 0], split='')\n",
        "rus_vocab_size = len(rus_tokenizer.word_index) + 1\n",
        "rus_trn_new[0, 1] += ['<sos>']\n",
        "trn_tokenizer = tokenization(rus_trn_new[:, 1], split=' ')\n",
        "trn_vocab_size = len(trn_tokenizer.word_index) + 1\n",
        "print(f'Rus Vocabulary Size: {rus_vocab_size}')\n",
        "print(f'Trns Vocabulary Size: {trn_vocab_size}')"
      ],
      "execution_count": 23,
      "outputs": [
        {
          "output_type": "stream",
          "text": [
            "Rus Vocabulary Size: 36\n",
            "Trns Vocabulary Size: 117\n"
          ],
          "name": "stdout"
        }
      ]
    },
    {
      "cell_type": "markdown",
      "metadata": {
        "id": "phSHLDeOioBe",
        "colab_type": "text"
      },
      "source": [
        "### ...and now re-split the data"
      ]
    },
    {
      "cell_type": "code",
      "metadata": {
        "colab_type": "code",
        "outputId": "ed149212-ec0d-458f-8751-68311a66c8ab",
        "id": "9m1NFfZdgMvd",
        "colab": {
          "base_uri": "https://localhost:8080/",
          "height": 85
        }
      },
      "source": [
        "train, test = train_test_split(rus_trn_new, test_size=0.1, random_state = RS)\n",
        "\n",
        "# prepare training data\n",
        "trainX = encode_sequences(rus_tokenizer, rus_length, train[:, 0])\n",
        "trainX_ = encode_sequences(trn_tokenizer, trn_length, train[:, 2])\n",
        "trainY = encode_sequences(trn_tokenizer, trn_length, train[:, 1])\n",
        "\n",
        "# prepare validation data\n",
        "testX = encode_sequences(rus_tokenizer, rus_length, test[:, 0])\n",
        "testX_ = encode_sequences(trn_tokenizer, trn_length, test[:, 2])\n",
        "testY = encode_sequences(trn_tokenizer, trn_length, test[:, 1])\n",
        "\n",
        "a = np.random.choice(len(trainX))\n",
        "print(a)\n",
        "print( rus_tokenizer.sequences_to_texts([trainX[a]]) )\n",
        "print( trn_tokenizer.sequences_to_texts([trainY[a]]) )\n",
        "print( trn_tokenizer.sequences_to_texts([trainX_[a]]) )"
      ],
      "execution_count": 24,
      "outputs": [
        {
          "output_type": "stream",
          "text": [
            "2987\n",
            "['т е ч е н и е <eos>']\n",
            "[\"t' 'i' ch' 'e'1 n' 'ix' jax <eos>\"]\n",
            "[\"<sos> t' 'i' ch' 'e'1 n' 'ix' jax\"]\n"
          ],
          "name": "stdout"
        }
      ]
    },
    {
      "cell_type": "markdown",
      "metadata": {
        "id": "AW7NqeoRiuCL",
        "colab_type": "text"
      },
      "source": [
        "### Now let's define the model(s) and train it"
      ]
    },
    {
      "cell_type": "code",
      "metadata": {
        "id": "rwOy43R15_yn",
        "colab_type": "code",
        "outputId": "cb62fc38-dc90-477e-fecd-0a93a7b5656b",
        "colab": {
          "base_uri": "https://localhost:8080/",
          "height": 1000
        }
      },
      "source": [
        "def define_teacher_forcing(in_vocab, out_vocab, in_timesteps, out_timesteps, units):\n",
        "  #train model\n",
        "  # encoder\n",
        "  encoder_inputs = Input(shape=(None,))\n",
        "  encoder_embedding = Embedding(in_vocab, units, input_length=in_timesteps, mask_zero=True)\n",
        "  encoder = encoder_embedding(encoder_inputs)\n",
        "  _, h, c = LSTM(units, return_state=True)(encoder)\n",
        "  encoder_states = [h, c]\n",
        "  # decoder\n",
        "  decoder_inputs = Input(shape=(None,))\n",
        "  decoder_embedding = Embedding(out_vocab, units, input_length=out_timesteps, mask_zero=True)\n",
        "  decoder = decoder_embedding(decoder_inputs)\n",
        "  decoder_lstm = LSTM(units, return_sequences=True, return_state=True)\n",
        "  decoder_outputs, _, _ = decoder_lstm(decoder, initial_state=encoder_states)\n",
        "  decoder_dense = Dense(out_vocab, activation='softmax')\n",
        "  decoder_outputs = decoder_dense(decoder_outputs)\n",
        "  model = Model([encoder_inputs, decoder_inputs], decoder_outputs)\n",
        "\n",
        "  #inference models\n",
        "  # encoder\n",
        "  encoder_model = Model(encoder_inputs, encoder_states)\n",
        "  # decoder\n",
        "  decoder_state_input_h = Input(shape=(units,))\n",
        "  decoder_state_input_c = Input(shape=(units,))\n",
        "  decoder_states_inputs = [decoder_state_input_h, decoder_state_input_c]\n",
        "  decoder_outputs, h, c = decoder_lstm(decoder, initial_state=decoder_states_inputs)\n",
        "  decoder_states = [h, c]\n",
        "  decoder_outputs = decoder_dense(decoder_outputs)\n",
        "  decoder_model = Model([decoder_inputs] + decoder_states_inputs, [decoder_outputs] + decoder_states)\n",
        "  \n",
        "  return model, encoder_model, decoder_model\n",
        "\n",
        "model, encoder_model, decoder_model = define_teacher_forcing(rus_vocab_size, trn_vocab_size, rus_length, trn_length, 512)\n",
        "model.summary()\n",
        "encoder_model.summary()\n",
        "decoder_model.summary()\n",
        "model.compile(optimizer='adam', loss='sparse_categorical_crossentropy', metrics=['accuracy'])\n",
        "\n",
        "monitor = 'val_acc'\n",
        "mode = 'max'\n",
        "early_stop = EarlyStopping( patience=5, monitor=monitor, mode=mode, restore_best_weights=True)\n",
        "\n",
        "data = [trainX_, trainX_], trainY.reshape(*trainY.shape, 1)\n",
        "validation_data = [testX_, testX_], testY.reshape(*testY.shape, 1)\n",
        "\n",
        "history = model.fit(*data, \n",
        "          epochs=EPOCHES, batch_size=BS, \n",
        "          validation_data=validation_data,\n",
        "          callbacks=[early_stop], verbose=1)\n",
        "\n",
        "# plot validation loss vs training loss\n",
        "plt.plot(history.history['loss'])\n",
        "plt.plot(history.history['val_loss'])\n",
        "plt.legend(['train','validation'])\n",
        "plt.show()"
      ],
      "execution_count": 28,
      "outputs": [
        {
          "output_type": "stream",
          "text": [
            "Model: \"model_11\"\n",
            "__________________________________________________________________________________________________\n",
            "Layer (type)                    Output Shape         Param #     Connected to                     \n",
            "==================================================================================================\n",
            "input_13 (InputLayer)           (None, None)         0                                            \n",
            "__________________________________________________________________________________________________\n",
            "input_14 (InputLayer)           (None, None)         0                                            \n",
            "__________________________________________________________________________________________________\n",
            "embedding_12 (Embedding)        (None, 27, 512)      18432       input_13[0][0]                   \n",
            "__________________________________________________________________________________________________\n",
            "embedding_13 (Embedding)        (None, 26, 512)      59904       input_14[0][0]                   \n",
            "__________________________________________________________________________________________________\n",
            "lstm_25 (LSTM)                  [(None, 512), (None, 2099200     embedding_12[0][0]               \n",
            "__________________________________________________________________________________________________\n",
            "lstm_26 (LSTM)                  [(None, 26, 512), (N 2099200     embedding_13[0][0]               \n",
            "                                                                 lstm_25[0][1]                    \n",
            "                                                                 lstm_25[0][2]                    \n",
            "__________________________________________________________________________________________________\n",
            "dense_10 (Dense)                (None, 26, 117)      60021       lstm_26[0][0]                    \n",
            "==================================================================================================\n",
            "Total params: 4,336,757\n",
            "Trainable params: 4,336,757\n",
            "Non-trainable params: 0\n",
            "__________________________________________________________________________________________________\n",
            "Model: \"model_12\"\n",
            "_________________________________________________________________\n",
            "Layer (type)                 Output Shape              Param #   \n",
            "=================================================================\n",
            "input_13 (InputLayer)        (None, None)              0         \n",
            "_________________________________________________________________\n",
            "embedding_12 (Embedding)     (None, 27, 512)           18432     \n",
            "_________________________________________________________________\n",
            "lstm_25 (LSTM)               [(None, 512), (None, 512) 2099200   \n",
            "=================================================================\n",
            "Total params: 2,117,632\n",
            "Trainable params: 2,117,632\n",
            "Non-trainable params: 0\n",
            "_________________________________________________________________\n",
            "Model: \"model_13\"\n",
            "__________________________________________________________________________________________________\n",
            "Layer (type)                    Output Shape         Param #     Connected to                     \n",
            "==================================================================================================\n",
            "input_14 (InputLayer)           (None, None)         0                                            \n",
            "__________________________________________________________________________________________________\n",
            "embedding_13 (Embedding)        (None, 26, 512)      59904       input_14[0][0]                   \n",
            "__________________________________________________________________________________________________\n",
            "input_15 (InputLayer)           (None, 512)          0                                            \n",
            "__________________________________________________________________________________________________\n",
            "input_16 (InputLayer)           (None, 512)          0                                            \n",
            "__________________________________________________________________________________________________\n",
            "lstm_26 (LSTM)                  [(None, 26, 512), (N 2099200     embedding_13[0][0]               \n",
            "                                                                 input_15[0][0]                   \n",
            "                                                                 input_16[0][0]                   \n",
            "__________________________________________________________________________________________________\n",
            "dense_10 (Dense)                (None, 26, 117)      60021       lstm_26[1][0]                    \n",
            "==================================================================================================\n",
            "Total params: 2,219,125\n",
            "Trainable params: 2,219,125\n",
            "Non-trainable params: 0\n",
            "__________________________________________________________________________________________________\n",
            "Train on 23461 samples, validate on 2607 samples\n",
            "Epoch 1/100\n",
            "23461/23461 [==============================] - 15s 628us/step - loss: 3.7531 - acc: 0.1702 - val_loss: 3.1456 - val_acc: 0.2599\n",
            "Epoch 2/100\n",
            "23461/23461 [==============================] - 8s 349us/step - loss: 2.4735 - acc: 0.3849 - val_loss: 1.8165 - val_acc: 0.5347\n",
            "Epoch 3/100\n",
            "23461/23461 [==============================] - 8s 358us/step - loss: 1.3842 - acc: 0.6419 - val_loss: 1.0224 - val_acc: 0.7310\n",
            "Epoch 4/100\n",
            "23461/23461 [==============================] - 8s 357us/step - loss: 0.8314 - acc: 0.7859 - val_loss: 0.6741 - val_acc: 0.8253\n",
            "Epoch 5/100\n",
            "23461/23461 [==============================] - 8s 352us/step - loss: 0.5714 - acc: 0.8533 - val_loss: 0.4977 - val_acc: 0.8698\n",
            "Epoch 6/100\n",
            "23461/23461 [==============================] - 8s 344us/step - loss: 0.4328 - acc: 0.8887 - val_loss: 0.4005 - val_acc: 0.8964\n",
            "Epoch 7/100\n",
            "23461/23461 [==============================] - 8s 354us/step - loss: 0.3450 - acc: 0.9108 - val_loss: 0.3501 - val_acc: 0.9053\n",
            "Epoch 8/100\n",
            "23461/23461 [==============================] - 8s 348us/step - loss: 0.2928 - acc: 0.9233 - val_loss: 0.3122 - val_acc: 0.9152\n",
            "Epoch 9/100\n",
            "23461/23461 [==============================] - 8s 353us/step - loss: 0.2529 - acc: 0.9336 - val_loss: 0.2772 - val_acc: 0.9259\n",
            "Epoch 10/100\n",
            "23461/23461 [==============================] - 8s 347us/step - loss: 0.2224 - acc: 0.9412 - val_loss: 0.2639 - val_acc: 0.9270\n",
            "Epoch 11/100\n",
            "23461/23461 [==============================] - 8s 346us/step - loss: 0.1996 - acc: 0.9474 - val_loss: 0.2452 - val_acc: 0.9326\n",
            "Epoch 12/100\n",
            "23461/23461 [==============================] - 8s 347us/step - loss: 0.1754 - acc: 0.9544 - val_loss: 0.2259 - val_acc: 0.9376\n",
            "Epoch 13/100\n",
            "23461/23461 [==============================] - 8s 348us/step - loss: 0.1578 - acc: 0.9589 - val_loss: 0.2170 - val_acc: 0.9403\n",
            "Epoch 14/100\n",
            "23461/23461 [==============================] - 8s 356us/step - loss: 0.1443 - acc: 0.9625 - val_loss: 0.2099 - val_acc: 0.9418\n",
            "Epoch 15/100\n",
            "23461/23461 [==============================] - 8s 361us/step - loss: 0.1299 - acc: 0.9665 - val_loss: 0.2034 - val_acc: 0.9433\n",
            "Epoch 16/100\n",
            "23461/23461 [==============================] - 8s 352us/step - loss: 0.1171 - acc: 0.9699 - val_loss: 0.1981 - val_acc: 0.9471\n",
            "Epoch 17/100\n",
            "23461/23461 [==============================] - 8s 352us/step - loss: 0.1074 - acc: 0.9724 - val_loss: 0.1933 - val_acc: 0.9467\n",
            "Epoch 18/100\n",
            "23461/23461 [==============================] - 8s 351us/step - loss: 0.0986 - acc: 0.9752 - val_loss: 0.1900 - val_acc: 0.9481\n",
            "Epoch 19/100\n",
            "23461/23461 [==============================] - 8s 351us/step - loss: 0.0919 - acc: 0.9768 - val_loss: 0.1881 - val_acc: 0.9491\n",
            "Epoch 20/100\n",
            "23461/23461 [==============================] - 8s 347us/step - loss: 0.0847 - acc: 0.9786 - val_loss: 0.1860 - val_acc: 0.9495\n",
            "Epoch 21/100\n",
            "23461/23461 [==============================] - 8s 346us/step - loss: 0.0794 - acc: 0.9803 - val_loss: 0.1857 - val_acc: 0.9500\n",
            "Epoch 22/100\n",
            "23461/23461 [==============================] - 8s 352us/step - loss: 0.0731 - acc: 0.9816 - val_loss: 0.1832 - val_acc: 0.9503\n",
            "Epoch 23/100\n",
            "23461/23461 [==============================] - 8s 342us/step - loss: 0.0673 - acc: 0.9831 - val_loss: 0.1814 - val_acc: 0.9514\n",
            "Epoch 24/100\n",
            "23461/23461 [==============================] - 8s 346us/step - loss: 0.0625 - acc: 0.9843 - val_loss: 0.1788 - val_acc: 0.9518\n",
            "Epoch 25/100\n",
            "23461/23461 [==============================] - 8s 339us/step - loss: 0.0579 - acc: 0.9852 - val_loss: 0.1813 - val_acc: 0.9520\n",
            "Epoch 26/100\n",
            "23461/23461 [==============================] - 8s 344us/step - loss: 0.0547 - acc: 0.9858 - val_loss: 0.1809 - val_acc: 0.9511\n",
            "Epoch 27/100\n",
            "23461/23461 [==============================] - 8s 343us/step - loss: 0.0526 - acc: 0.9863 - val_loss: 0.1770 - val_acc: 0.9525\n",
            "Epoch 28/100\n",
            "23461/23461 [==============================] - 8s 349us/step - loss: 0.0490 - acc: 0.9871 - val_loss: 0.1796 - val_acc: 0.9529\n",
            "Epoch 29/100\n",
            "23461/23461 [==============================] - 8s 353us/step - loss: 0.0471 - acc: 0.9873 - val_loss: 0.1782 - val_acc: 0.9532\n",
            "Epoch 30/100\n",
            "23461/23461 [==============================] - 8s 345us/step - loss: 0.0447 - acc: 0.9880 - val_loss: 0.1826 - val_acc: 0.9523\n",
            "Epoch 31/100\n",
            "23461/23461 [==============================] - 8s 350us/step - loss: 0.0437 - acc: 0.9880 - val_loss: 0.1824 - val_acc: 0.9529\n",
            "Epoch 32/100\n",
            "23461/23461 [==============================] - 8s 339us/step - loss: 0.0423 - acc: 0.9882 - val_loss: 0.1836 - val_acc: 0.9533\n",
            "Epoch 33/100\n",
            "23461/23461 [==============================] - 8s 351us/step - loss: 0.0412 - acc: 0.9886 - val_loss: 0.1807 - val_acc: 0.9543\n",
            "Epoch 34/100\n",
            "23461/23461 [==============================] - 8s 353us/step - loss: 0.0398 - acc: 0.9887 - val_loss: 0.1817 - val_acc: 0.9535\n",
            "Epoch 35/100\n",
            "23461/23461 [==============================] - 8s 352us/step - loss: 0.0392 - acc: 0.9888 - val_loss: 0.1817 - val_acc: 0.9529\n",
            "Epoch 36/100\n",
            "23461/23461 [==============================] - 8s 347us/step - loss: 0.0372 - acc: 0.9891 - val_loss: 0.1812 - val_acc: 0.9541\n",
            "Epoch 37/100\n",
            "23461/23461 [==============================] - 8s 346us/step - loss: 0.0362 - acc: 0.9891 - val_loss: 0.1834 - val_acc: 0.9543\n",
            "Epoch 38/100\n",
            "23461/23461 [==============================] - 8s 346us/step - loss: 0.0351 - acc: 0.9895 - val_loss: 0.1847 - val_acc: 0.9541\n"
          ],
          "name": "stdout"
        },
        {
          "output_type": "display_data",
          "data": {
            "image/png": "[encoded data removed]",
            "text/plain": [
              "<Figure size 432x288 with 1 Axes>"
            ]
          },
          "metadata": {
            "tags": []
          }
        }
      ]
    },
    {
      "cell_type": "markdown",
      "metadata": {
        "id": "JASOIhxaizf8",
        "colab_type": "text"
      },
      "source": [
        "### Strangely enough the result of teacher forcing is worse then sequential seq2seq (val_acc: 0.9543 vs val_acc: 0.9662)"
      ]
    },
    {
      "cell_type": "code",
      "metadata": {
        "id": "mN2EsCYpUvNi",
        "colab_type": "code",
        "outputId": "4d26d199-cf6a-43ca-b556-a6cdd0ae9f9f",
        "colab": {
          "base_uri": "https://localhost:8080/",
          "height": 97
        }
      },
      "source": [
        "a = np.random.choice(len(testX), 1)\n",
        "translation = []\n",
        "for i in a:\n",
        "  input_seq = testX[i]\n",
        "  states_value = encoder_model.predict(input_seq, use_multiprocessing=True)\n",
        "  target_seq = np.zeros((1,trn_length))\n",
        "  target_seq[0, 0] = trn_tokenizer.word_index['<sos>']\n",
        "  eos = trn_tokenizer.word_index['<eos>']\n",
        "  output_sentence = []\n",
        "  p = testY[i]\n",
        "  for j in range(trn_length):\n",
        "      pred_ohe, h, c = decoder_model.predict([target_seq] + states_value, use_multiprocessing=True)\n",
        "      idx = np.argmax(pred_ohe[0, 0, :])\n",
        "      if idx in [eos, 0]: break\n",
        "\n",
        "      if idx not in [0] :\n",
        "        token = trn_tokenizer.index_word[idx]\n",
        "        output_sentence.append(token)\n",
        "\n",
        "      target_seq[0, 0] = p[j]\n",
        "      states_value = [h, c]\n",
        "\n",
        "  translation = ' '.join(output_sentence)\n",
        "  print(translation)\n",
        "\n",
        "pred_df = pd.DataFrame({'actual' : trn_tokenizer.sequences_to_texts(testY[a]), 'predicted' : translation})\n",
        "pred_df"
      ],
      "execution_count": 29,
      "outputs": [
        {
          "output_type": "stream",
          "text": [
            "v v\n"
          ],
          "name": "stdout"
        },
        {
          "output_type": "execute_result",
          "data": {
            "text/html": [
              "<div>\n",
              "<style scoped>\n",
              "    .dataframe tbody tr th:only-of-type {\n",
              "        vertical-align: middle;\n",
              "    }\n",
              "\n",
              "    .dataframe tbody tr th {\n",
              "        vertical-align: top;\n",
              "    }\n",
              "\n",
              "    .dataframe thead th {\n",
              "        text-align: right;\n",
              "    }\n",
              "</style>\n",
              "<table border=\"1\" class=\"dataframe\">\n",
              "  <thead>\n",
              "    <tr style=\"text-align: right;\">\n",
              "      <th></th>\n",
              "      <th>actual</th>\n",
              "      <th>predicted</th>\n",
              "    </tr>\n",
              "  </thead>\n",
              "  <tbody>\n",
              "    <tr>\n",
              "      <th>0</th>\n",
              "      <td>s ax g l a sh e'1 n' 'ix' jax &lt;eos&gt;</td>\n",
              "      <td>v v</td>\n",
              "    </tr>\n",
              "  </tbody>\n",
              "</table>\n",
              "</div>"
            ],
            "text/plain": [
              "                                actual predicted\n",
              "0  s ax g l a sh e'1 n' 'ix' jax <eos>       v v"
            ]
          },
          "metadata": {
            "tags": []
          },
          "execution_count": 29
        }
      ]
    },
    {
      "cell_type": "markdown",
      "metadata": {
        "id": "RH2fegkjjNZY",
        "colab_type": "text"
      },
      "source": [
        "### The prediction results are disappointing"
      ]
    },
    {
      "cell_type": "markdown",
      "metadata": {
        "id": "qp0hX-6XjUJo",
        "colab_type": "text"
      },
      "source": [
        "### So the best model is  [4 layers (2 decoder, 2 encoder) 512 LSTM seq2seq](#scrollTo=LksHo8BAGep9) model with reveresed input on the first layer. Note that clearing and altering the input data helped a lot to get accuracy down to 0.9745"
      ]
    }
  ]
}