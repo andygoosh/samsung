{
  "nbformat": 4,
  "nbformat_minor": 0,
  "metadata": {
    "colab": {
      "name": "workinprogress.ipynb",
      "provenance": [],
      "include_colab_link": true
    },
    "kernelspec": {
      "name": "python3",
      "display_name": "Python 3"
    },
    "accelerator": "GPU"
  },
  "cells": [
    {
      "cell_type": "markdown",
      "metadata": {
        "id": "view-in-github",
        "colab_type": "text"
      },
      "source": [
        "<a href=\"https://colab.research.google.com/github/andygoosh/samsung/blob/master/workinprogress.ipynb\" target=\"_parent\"><img src=\"https://colab.research.google.com/assets/colab-badge.svg\" alt=\"Open In Colab\"/></a>"
      ]
    },
    {
      "cell_type": "code",
      "metadata": {
        "id": "r_Mg8x0gASeS",
        "colab_type": "code",
        "outputId": "adcc46b2-b180-4630-9186-9e6fa0893635",
        "colab": {
          "base_uri": "https://localhost:8080/",
          "height": 34
        }
      },
      "source": [
        "from pathlib import Path\n",
        "from google.colab import files, drive\n",
        "from collections import defaultdict\n",
        "\n",
        "import re\n",
        "import random as rn\n",
        "import pandas as pd\n",
        "import numpy as np\n",
        "from numpy import array, argmax, random, take\n",
        "import matplotlib.pyplot as plt\n",
        "from collections import Counter\n",
        "%matplotlib inline\n",
        "\n",
        "from sklearn.model_selection import train_test_split\n",
        "\n",
        "import tensorflow as tf\n",
        "from keras.preprocessing.sequence import pad_sequences\n",
        "from keras.preprocessing.text import Tokenizer\n",
        "from keras.models import Sequential, Model\n",
        "from keras.layers import Input, Dropout, Dense, LSTM, GRU, Embedding, RepeatVector, Lambda, Reshape\n",
        "from keras.layers import Bidirectional as Bi\n",
        "from keras import optimizers\n",
        "from keras.models import load_model\n",
        "from keras.callbacks import ModelCheckpoint, EarlyStopping\n",
        "\n",
        "RS = 77\n",
        "rn.seed(RS)\n",
        "# tf.random.set_seed(RS)\n",
        "np.random.seed(RS)\n",
        "np.random.RandomState(RS)\n",
        "\n",
        "gpath = Path('/content/gdrive')\n",
        "drive.mount(str(gpath))\n",
        "data_file = gpath / 'My Drive/Samsung' / 'transcriptions'"
      ],
      "execution_count": 187,
      "outputs": [
        {
          "output_type": "stream",
          "text": [
            "Drive already mounted at /content/gdrive; to attempt to forcibly remount, call drive.mount(\"/content/gdrive\", force_remount=True).\n"
          ],
          "name": "stdout"
        }
      ]
    },
    {
      "cell_type": "markdown",
      "metadata": {
        "id": "8KByWPn1DbpS",
        "colab_type": "text"
      },
      "source": [
        "#### Let's look at the data in given file"
      ]
    },
    {
      "cell_type": "code",
      "metadata": {
        "id": "PNLzpBAGDgAI",
        "colab_type": "code",
        "outputId": "23e71c5b-5da1-4f25-c74c-675f70396ae0",
        "colab": {
          "base_uri": "https://localhost:8080/",
          "height": 71
        }
      },
      "source": [
        "with data_file.open() as f:  \n",
        "    print(f.readline())"
      ],
      "execution_count": 188,
      "outputs": [
        {
          "output_type": "stream",
          "text": [
            "аукционы на дешёвое жильё проводятся регулярно\t%% a u k ts y o1 n ax # n ax' _ d' 'i sh o1 v ax' jax # zh y' l' j' 'o1 # p r a v o'1 d' 'ax ts ts ax' # r' 'ix g u' l' 'a1 r n a %%\n",
            "\n"
          ],
          "name": "stdout"
        }
      ]
    },
    {
      "cell_type": "markdown",
      "metadata": {
        "id": "Xmvmq8NkDzzF",
        "colab_type": "text"
      },
      "source": [
        "#### Notice that:\n",
        "1. russian sentence is separated from transcript with '\\t'\n",
        "2. the begining and the end of transcript part are marked by '%%'"
      ]
    },
    {
      "cell_type": "markdown",
      "metadata": {
        "id": "t9inDldeBBz8",
        "colab_type": "text"
      },
      "source": [
        "### Let's read the data and split it into rus and trans"
      ]
    },
    {
      "cell_type": "code",
      "metadata": {
        "id": "ze9lEBcZB4A_",
        "colab_type": "code",
        "outputId": "55993aa7-122e-4c87-e7f5-51675eba6ff9",
        "colab": {
          "base_uri": "https://localhost:8080/",
          "height": 34
        }
      },
      "source": [
        "rus_trn = []\n",
        "with data_file.open() as f:  \n",
        "  for line in f: \n",
        "    rus, trn = line.split('\\t')\n",
        "    rus_trn.append([rus.strip(), trn.strip()])\n",
        "\n",
        "print(f'Number of sentences in corpus: {len(rus_trn)}')"
      ],
      "execution_count": 189,
      "outputs": [
        {
          "output_type": "stream",
          "text": [
            "Number of sentences in corpus: 50277\n"
          ],
          "name": "stdout"
        }
      ]
    },
    {
      "cell_type": "markdown",
      "metadata": {
        "id": "gjFV-XOHBN8o",
        "colab_type": "text"
      },
      "source": [
        "#### Let's look at some sentences\n"
      ]
    },
    {
      "cell_type": "code",
      "metadata": {
        "id": "iaCdAWXfBS-H",
        "colab_type": "code",
        "outputId": "c2f212ca-342d-4907-93d2-8af8d4d9e93a",
        "colab": {
          "base_uri": "https://localhost:8080/",
          "height": 139
        }
      },
      "source": [
        "a,b,c = np.random.choice(len(rus_trn), 3)\n",
        "\n",
        "print(rus_trn[a][0])\n",
        "print(rus_trn[a][1])\n",
        "print(rus_trn[b][0])\n",
        "print(rus_trn[b][1])\n",
        "print(rus_trn[c][0])\n",
        "print(rus_trn[c][1])"
      ],
      "execution_count": 190,
      "outputs": [
        {
          "output_type": "stream",
          "text": [
            "веб-операторы обязаны ознакомить пользователя с политикой по сбору персональной информации\n",
            "%% v' 'e1 p a' p' 'i r a1 t ax r ax # a' b' 'a1 z ax n ax # a z n a k o'1 m' 'ix' t' # p o'1 l' z ax v ax' t' 'ix' l' 'ax # s _ p a' l' 'i'1 t' 'ix k ax' j' # p a _ z b o1 r ux' # p' 'ix r s a n a'1 l' n ax' j' # 'i n f a r m a1 ts ax' i %%\n",
            "цена мартовского контракта на нефть в торговой системе поднялась\n",
            "%% ts y n a1 # m a1 r t ax f s k ax v ax # k a n t r a1 k t ax # n a' _ n' 'e1 f t' # f _ t a r g o1 v ax' j' # s' 'i' s' t' 'e'1 m' 'ix # p ax' d' n' 'i l a'1 s' %%\n",
            "в августе прошлого года был достроен храм христа спасителя\n",
            "%% v _ a1 v g ux' s' t' 'ix # p r o1 sh l ax v ax # g o1 d ax # b y1 l # d a s t r o'1 jax n # h r a1 m # h r' 'i s t a1 # s p a' s' 'i'1 t' 'ix' l' 'a %%\n"
          ],
          "name": "stdout"
        }
      ]
    },
    {
      "cell_type": "markdown",
      "metadata": {
        "id": "PrtVAlRiBYLc",
        "colab_type": "text"
      },
      "source": [
        "#### Notice that words in russian sentence are separated by space while words in transcript are separated:\n",
        "1. by '#' in general case\n",
        "2. by '_' in case of preposition\n",
        "3. by '%% %%' in case of punctuation signs (dash, coma, etc)\n"
      ]
    },
    {
      "cell_type": "markdown",
      "metadata": {
        "id": "qaYfq4rSFVs6",
        "colab_type": "text"
      },
      "source": [
        "#### Let's see if we have dupliates in the corpus"
      ]
    },
    {
      "cell_type": "code",
      "metadata": {
        "id": "zoPm3mehFfiN",
        "colab_type": "code",
        "outputId": "f452cf97-556f-42c5-d864-1c23d555df5a",
        "colab": {
          "base_uri": "https://localhost:8080/",
          "height": 51
        }
      },
      "source": [
        "a = array(rus_trn)\n",
        "seen_rus = Counter(a[:,0])\n",
        "seen_trn = Counter(a[:,1])\n",
        "\n",
        "print(f'Unique rus sentences: {len(seen_rus)} out of {len(rus_trn)}')\n",
        "print(f'Unique trans sentences: {len(seen_trn)} out of {len(rus_trn)}')"
      ],
      "execution_count": 191,
      "outputs": [
        {
          "output_type": "stream",
          "text": [
            "Unique rus sentences: 3131 out of 50277\n",
            "Unique trans sentences: 3171 out of 50277\n"
          ],
          "name": "stdout"
        }
      ]
    },
    {
      "cell_type": "markdown",
      "metadata": {
        "id": "2c_7KSzLGs7v",
        "colab_type": "text"
      },
      "source": [
        "#### We have a lot of duplicates! Only 3131 unique sentenses out of 50K in the corpus. Please also note that some russian sentences are transcribed into different transcriptions (will look into that later on)"
      ]
    },
    {
      "cell_type": "code",
      "metadata": {
        "id": "yjR7uun4HeJF",
        "colab_type": "code",
        "outputId": "33ec68cb-87a5-4f84-8e55-966dceeb21a8",
        "colab": {
          "base_uri": "https://localhost:8080/",
          "height": 290
        }
      },
      "source": [
        "lens = [each[1] for each in seen_rus.items()]\n",
        "unq = np.unique(lens)\n",
        "qty = [lens.count(each) for each in unq]\n",
        "pd.DataFrame(qty, index=unq).plot.bar(title = 'Rus sentence repeat times', legend=False);"
      ],
      "execution_count": 192,
      "outputs": [
        {
          "output_type": "display_data",
          "data": {
            "image/png": "[encoded data removed]",
            "text/plain": [
              "<Figure size 432x288 with 1 Axes>"
            ]
          },
          "metadata": {
            "tags": []
          }
        }
      ]
    },
    {
      "cell_type": "markdown",
      "metadata": {
        "id": "a2bIKlVbIAxi",
        "colab_type": "text"
      },
      "source": [
        "#### Most duplicated sentences repeat 12 times, max up to 203 times"
      ]
    },
    {
      "cell_type": "markdown",
      "metadata": {
        "id": "oCi44KJRImmG",
        "colab_type": "text"
      },
      "source": [
        "### Let's read that data while splitting the tokens. We'll count the tokens in each sentence. If the count in rus and trans is different, we'll record it as anomaly\n"
      ]
    },
    {
      "cell_type": "code",
      "metadata": {
        "id": "4fznr-0SJ9nU",
        "colab_type": "code",
        "outputId": "4569fb43-b677-4a2b-b64c-3881f913c619",
        "colab": {
          "base_uri": "https://localhost:8080/",
          "height": 828
        }
      },
      "source": [
        "rus_l, trn_l, anomaly = [], [], []\n",
        "seen = defaultdict(list)\n",
        "chars = Counter()\n",
        "\n",
        "for j,i in enumerate(rus_trn):\n",
        "\n",
        "  # rus = i[0].split()\n",
        "  rus = i[0].replace(' же ', 'же ') \\\n",
        "                .replace(' бы ', 'бы ') \\\n",
        "                .replace(' ли ', 'ли ') \\\n",
        "                .replace(' не был', ' небыл') \\\n",
        "                .split()\n",
        "\n",
        "  trn = re.split('#|_|%% %%',i[1])\n",
        "\n",
        "  if i[0] not in seen:\n",
        "    if abs(len(rus) - len(trn)) != 0: \n",
        "      anomaly.append(j)\n",
        "      print(j, ' ', i[0])\n",
        "      print( i[1])\n",
        "    \n",
        "    else:\n",
        "      rus_l.append(len(rus))\n",
        "      trn_l.append(len(trn))\n",
        "\n",
        "    chars += Counter(i[0])\n",
        "\n",
        "  seen[i[0]].append(j)\n",
        "\n",
        "print(f'Anomalies: {len(anomaly)}')\n",
        "fig, (ax1, ax2) = plt.subplots(nrows=1,ncols=2,figsize=(12,4))\n",
        "pd.DataFrame({'Number of words in Rus sentence':rus_l}).hist(ax=ax1, bins = 30);\n",
        "pd.DataFrame({'Number of words in Trns sentence':trn_l}).hist(ax=ax2, bins = 30);"
      ],
      "execution_count": 220,
      "outputs": [
        {
          "output_type": "stream",
          "text": [
            "149   невостребованных талантов в стране уйма\n",
            "%% n' 'ix v a s t r' 'e1 b ax v ax n n ax h # t a l a1 n t ax f # f s t r a' n' 'e1 # u'1 j' m a %%\n",
            "868   королёв в тюрьме сделал свои первые рисунки ракеты\n",
            "%% k ax r a' l' 'o1 f # f t' 'u' r' m' 'e'1 # z' d' 'e1 l ax l # s v a' i'1 # p' 'e1 r v ax' jax' # r' 'i s u1 n k' 'ix # r a' k' 'e1 t y %%\n",
            "898   маленький двоечник развив в себе комплекс неполноценности перестаёт учиться\n",
            "%% m a'1 l' 'ix' n' k' 'ix' j' # d v o'1 jax sh n' 'ix k %% %% r a z v' 'i1 f # f s' 'i' b' 'e1 # k o1 m p l' 'ix k s # n' 'ix p ax l n a ts e1 n n ax' s' t' 'i %% %% p' 'ix' r' 'ix s t a' j' 'o1 t # u' ch' 'i1 ts ts a %%\n",
            "998   стыдиться конъюнктуры приспособленчества да и просто бездарности оказалось не перед кем\n",
            "%% s t y' d' 'i1 ts ts ax # k ax n j' 'u n k t u1 r y %% %% p r' 'ix s p ax s a b l' 'e'1 n' ch' 'ix s t v ax # d ax' _ i _ p r o1 s t ax' # b' 'i z d a1 r n ax' s' t' 'ix # a k a z a1 l ax' s' # n' 'e'1 p' 'ix' r' 'ix t k' 'ix m %%\n",
            "1066   учёные показали что добавление антиоксидантов в пищу продлевает жизнь на тридцать процентов\n",
            "%% u' ch' 'o1 n ax' jax # p ax k a z a'1 l' 'i %% %% sh t o1 # d ax b a v l' 'e'1 n' 'ix' jax # a'1 n' t' 'ixa k s' 'i d a1 n t ax f # f p' 'i'1 sh' 'ux # p r ax d l' 'i v a'1 jax d # zh y'1 z' n' # n a _ t r' 'i1 ts ts ax' t' # p r a ts e1 n t ax f %%\n",
            "1067   пятьдесят восемь лет характерная продолжительность жизни для папуасов в племенах новой гвинеи\n",
            "%% p' 'ix' d' d' 'i' s' 'a1 t # v o'1 s' 'ix' m' # l' 'e1 t %% %% h ax r a k t' 'e1 r n ax' jax # p r ax d a l zh y'1 t' 'ix' l' n ax' z' d' # zh y'1 z' n' 'ix # d l' 'a1 # p ax p u a1 s ax f # f p l' 'ix' m' 'i n a1 h # n o1 v ax' j' # g v' 'i' n' 'e'1 i %%\n",
            "2289   курение ухудшает чувствительность клеток к инсулину\n",
            "%% k u' r' 'e'1 n' 'ix' jax # u h u t sh a'1 jax t # ch' 'u s t v' 'i'1 t' 'ix' l' n ax' s' t' # k l' 'e1 t ax k # k ax n s u' l' 'i1 n u %%\n",
            "2390   америка и россия являются сегодня единственными странами отправляющими своих космонавтов в космос\n",
            "%% a' m' 'e'1 r' 'ix k ax' # i _ r a' s' s' 'i'1 jax' # ji v l' 'a'1 jux ts ts ax' # s' 'i v o'1 d' n' 'ax' # ji' d' 'i1 n s t v' 'ix n n ax' m' 'ix # s t r a1 n ax' m' 'i %% %% a t p r a v l' 'a'1 jux' sh' 'ix' m' 'ix # s v a' i1 h # k ax s m a n a1 f t ax f # f k o1 s m ax s %%\n",
            "2745   кабинетные работники с появлением спецтранспорта и охраны утрачивают связь с действительностью\n",
            "%% k ax' b' 'i' n' 'e1 t n ax' jax # r a b o'1 t' n' 'ix' k' 'ix # s _ p ax' ji v l' 'e'1 n' 'ix' jax m # s p' 'e1 ts t r a1 n s p ax r t ax' # i _ a h r a1 n ax # u t r a'1 ch' 'ix v ax' jux t # s v' 'a'1 z' # z' d' 'i' j' s t v' 'i'1 t' 'ix' l' n ax' s' t' j' 'u %%\n",
            "2787   греческие игроки призвали своих коллег к забастовке\n",
            "%% g r' 'e'1 ch' 'ix s k' 'ix' jax' # i g r a' k' 'i1 # p r' 'i z v a'1 l' 'ix # s v a' i1 h # k a' l' 'e1 g # g z ax b a s t o1 f k' 'e %%\n",
            "4010   достигнута договорённость по строительству дорог к месторождениям\n",
            "%% d a' s' t' 'i1 g n ux t ax # d ax g ax v a' r' 'o1 n n ax' s' t' # p ax _ s t r a' i'1 t' 'ix' l' s t v ux # d a r o1 k # k m' 'ix s t ax r a zh d' 'e'1 n' 'ix' jax m %%\n",
            "5012   было объявлено о возможном начале торгов в конце апреля\n",
            "%% b y1 l ax # a b j' 'a1 v l' 'ix n ax # a _ v a z m o1 zh n ax m # n a' ch' 'a'1 l' 'ix # t a r g o1 f # f k a n ts e1 # a p r' 'e'1 l' 'a %%\n",
            "5998   на видео- и фотоаппаратуру снимали сцены насилия\n",
            "%% n a' _ v' 'i'1 d' 'ixo' i _ f o1 t ax a p ax r a t u1 r ux' # s' n' 'i m a'1 l' 'ix # s ts e1 n ax # n a' s' 'i'1 l' 'ix' ja %%\n",
            "6129   кора надпочечников в период магнитной бури работает как в условиях стресса\n",
            "%% k a r a1 # n a t p o'1 ch' 'ix' ch' n' 'ix k ax f # f p' 'i' r' 'i1 o t # m a g n' 'i1 t n ax' j' # b u'1 r' 'ix # r a b o1 t ax' jax t # k a1 k # v _ u s l o'1 v' 'ix' jax h # s t r e1 s a %%\n",
            "7487   в быстрых шахматах компьютер перебирает миллионы ходов в секунду\n",
            "%% v _ b y1 s t r ax h # sh a1 h m ax t ax h # k a m p' j' 'u1 t ax r # p' 'ix' r' 'ix' b' 'i r a'1 jax t # m' 'ix' l' 'i o1 n ax # h a d o1 f # f s' 'i k u1 n d u %%\n",
            "Anomalies: 15\n"
          ],
          "name": "stdout"
        },
        {
          "output_type": "display_data",
          "data": {
            "image/png": "[encoded data removed]",
            "text/plain": [
              "<Figure size 864x288 with 2 Axes>"
            ]
          },
          "metadata": {
            "tags": []
          }
        }
      ]
    },
    {
      "cell_type": "markdown",
      "metadata": {
        "id": "XxTcio_yKSbh",
        "colab_type": "text"
      },
      "source": [
        "#### So we have 49 anomalies out of 3131 samples"
      ]
    },
    {
      "cell_type": "markdown",
      "metadata": {
        "id": "K49Q_mTcOZ4w",
        "colab_type": "text"
      },
      "source": [
        "### Closer look at the anomalies shows:\n",
        "* Particle 'же', 'бы', 'ли' never gets separated as a standalone word in transcript. Hypothesis: glue the particle to the preceeding token during prepocessing\n",
        "* There are 10 cases where 'не был(о/а/и)' result in joint transcript. Hypothesis: put 'не был(а/а/и)' as one token during prepocessing\n",
        "* Remaining 15 anomalies seem to be the errors"
      ]
    },
    {
      "cell_type": "markdown",
      "metadata": {
        "id": "uV_cJH70KuSg",
        "colab_type": "text"
      },
      "source": [
        "### Let's see if we need to clean the data. First let's take a look at rus corpus alphabet"
      ]
    },
    {
      "cell_type": "code",
      "metadata": {
        "id": "LyV9anvZn187",
        "colab_type": "code",
        "outputId": "9dc87b89-8f01-4d34-bb19-b1a254d01fe2",
        "colab": {
          "base_uri": "https://localhost:8080/",
          "height": 298
        }
      },
      "source": [
        "s = sorted(chars.items())\n",
        "pd.DataFrame(s, index=(e[0]+' ' for e in s)).plot.bar(figsize=(18,4), rot=0, title = 'Char frequencies', legend=False)\n",
        "print(f'Number of times \"-\" used: {chars[\"-\"]}')"
      ],
      "execution_count": 8,
      "outputs": [
        {
          "output_type": "stream",
          "text": [
            "Number of times \"-\" used: 159\n"
          ],
          "name": "stdout"
        },
        {
          "output_type": "display_data",
          "data": {
            "image/png": "[encoded data removed]",
            "text/plain": [
              "<Figure size 1296x288 with 1 Axes>"
            ]
          },
          "metadata": {
            "tags": []
          }
        }
      ]
    },
    {
      "cell_type": "markdown",
      "metadata": {
        "id": "83TZ18z9K8Qy",
        "colab_type": "text"
      },
      "source": [
        "#### Looks good! We neither have punctuations nor capital letters. The only case to check is '-' letter which is used 159 times"
      ]
    },
    {
      "cell_type": "code",
      "metadata": {
        "id": "hEqkK_LRKLb-",
        "colab_type": "code",
        "outputId": "d7bd881b-bf1d-460d-eab5-83e95d39aa3c",
        "colab": {
          "base_uri": "https://localhost:8080/",
          "height": 54
        }
      },
      "source": [
        "seen = set()\n",
        "seen_dash = set()\n",
        "dash_words = []\n",
        "for rus,trn in rus_trn:\n",
        "  if rus not in seen:\n",
        "    if '-' in rus:\n",
        "      ru_words = rus.split()\n",
        "      for each in ru_words:\n",
        "        if '-' in each:\n",
        "          if each not in seen_dash:\n",
        "            seen_dash.add(each)\n",
        "            dash_words.append(each)\n",
        "  else:\n",
        "    seen.add(rus)\n",
        "  \n",
        "print(dash_words)"
      ],
      "execution_count": 9,
      "outputs": [
        {
          "output_type": "stream",
          "text": [
            "['анти-обледенитель', 'иридо-диагностика', 'дом-красавец', 'из-за', 'радио-сигналом', 'ноль-три', 'ноль-два', 'мало-обеспеченные', 'шкаф-купе', 'тех-осмотр', 'пресс-службе', 'авто-сервис', 'чуть-чуть', 'аудио-', 'какие-либо', 'де-факто', 'стерео-', 'царь-колокол', 'царь-пушка', 'гео-магнитного', 'электро-катастрофы', 'фигуристы-новобранцы', 'что-то', 'какое-либо', 'веб-операторы', 'воздушно-десантной', 'военно-морских', 'ветераны-афганцы', 'одного-единственного', 'природно-климатические', 'одном-двух', 'санкт-петербурге', 'стран-участниц', 'пять-шесть', 'по-своему', 'матч-реванш', 'словаря-справочника', 'штаб-квартире', 'чем-то', 'чего-то', 'экс-губернатора', 'российско-американский', 'северо-восточных', 'красно-белую', 'какой-нибудь', 'бело-жёлтый', 'карту-схему', 'юго-западный', 'радио-охранное', 'по-прежнему', 'каким-то', 'кино-картины', 'авто-трюки', 'пресс-конференции', 'генерал-прокурором', 'нью-йорке', 'медиа-группы', 'нью-йоркской', 'какие-то', 'санкт-петербурга', 'санкт-петербург', 'памятники-символы', 'премьер-министр', 'взлётно-посадочную', 'какого-нибудь', 'январе-феврале', 'птица-говорун', 'жучки-камнееды', 'школу-комплекс', 'художников-оформителей', 'какое-то', 'купли-продажи', 'каких-либо', 'генерал-лейтенант', 'карты-схемы', 'кому-нибудь', 'детям-инвалидам', 'как-то', 'золото-валютных', 'наконец-то', 'государственно-общественной', 'бизнес-сообщества', 'причинно-следственных', 'по-настоящему', 'юго-западного', 'премьер-министру', 'нью-йорк', 'пропан-бутановые', 'пресс-служба', 'физико-химическими', 'средне-взвешенный', 'интернет-сетью', 'экспресс-опрос', 'либерально-демократической', 'вице-премьер', 'пресс-конференция', 'военно-морского', 'по-другому', 'вице-спикера', 'радио-станции', 'конференц-зале', 'золото-валютные', 'фирм-членов', 'премьер-министром', 'химико-фармацевтической', 'весенне-полевых', 'пресс-секретарь', 'сирийско-израильский', 'юго-восток', 'сьерра-леонэ', 'южно-африканской', 'медиа-мостом', 'диско-марафон', 'видео-', 'две-три', 'экс-посол', 'военно-политического', 'компакт-диски', 'мини-электростанция', 'когда-нибудь', 'кто-то', 'веке-волкодаве', 'из-под', 'капитан-лейтенанта', 'просто-напросто', 'всё-таки', 'пресс-службы', 'южно-сахалинске', 'оперативно-следственная', 'армяно-российского', 'северо-западе']\n"
          ],
          "name": "stdout"
        }
      ]
    },
    {
      "cell_type": "markdown",
      "metadata": {
        "id": "3VHh6JUCPGlb",
        "colab_type": "text"
      },
      "source": [
        "#### Okey, words with dash look fine, we'll consider dash as a normal letter"
      ]
    },
    {
      "cell_type": "markdown",
      "metadata": {
        "id": "hMAmvWqyLrWv",
        "colab_type": "text"
      },
      "source": [
        "### The size of the corpus is too small to tokenize on words. Insted we'll tokenize bsed on characters"
      ]
    },
    {
      "cell_type": "markdown",
      "metadata": {
        "id": "G-xAjHqyjh3x",
        "colab_type": "text"
      },
      "source": [
        "### So in order to implement autocoder for transcript we'd need to keep special symbools in transcript such as \"\\_\" and \"%% %%\". So let's create a dictionary of sentences rus <-> trans. So let's recreate the dictionary so \"\\_\" and \"%% %%\" are marked with '#' (treat them as separate token) and remove begin and end markers. Plus to that let's get rid of duplicates.\n",
        "\n",
        "#### Second thought though. Since Russian corpus does not include any punctuation, we cannot predict '%% %%' token properly. So let's sacrifice one token for the sake of overall accuracy\n"
      ]
    },
    {
      "cell_type": "code",
      "metadata": {
        "id": "PBgF1l93y39m",
        "colab_type": "code",
        "outputId": "41213b02-fc17-47f5-ca79-5b124fe99fbc",
        "colab": {
          "base_uri": "https://localhost:8080/",
          "height": 298
        }
      },
      "source": [
        "seen_rus = set()\n",
        "seen_trn = set()\n",
        "\n",
        "res, trn_l, rus_l = [], [], []\n",
        "for rus, trn in rus_trn:\n",
        "\n",
        "  if rus not in seen_rus or trn not in seen_trn:\n",
        "      seen_rus.add(rus)\n",
        "      seen_trn.add(trn)\n",
        "\n",
        "      # trn = trn.replace('%% %%', '# <PNK>') \\\n",
        "      trn = trn.replace('%% %%', '#') \\\n",
        "                .replace('_', '_ #')[3:-3] \\\n",
        "                .split('#')\n",
        "\n",
        "      rus = rus.replace(' же ', 'же ') \\\n",
        "                .replace(' бы ', 'бы ') \\\n",
        "                .replace(' ли ', 'ли ') \\\n",
        "                .split(' ')\n",
        "\n",
        "      # rus = rus.split(' ')\n",
        "      for a,b in zip(rus, trn):\n",
        "        b = b.strip().split(' ')\n",
        "        # res.append((list(a), b + ['<eos>'], ['<sos>'] + b))\n",
        "        res.append((list(a), b, b))\n",
        "        rus_l.append( len(a))\n",
        "        trn_l.append( len(b))\n",
        "\n",
        "rus_trn_new = array(res)\n",
        "trn_length = max(trn_l)\n",
        "rus_length = max(rus_l)\n",
        "print(f'max len rus: {rus_length}, max len trn: {trn_length}')\n",
        "fig, (ax1, ax2) = plt.subplots(nrows=1,ncols=2,figsize=(12,4))\n",
        "pd.DataFrame({'Number of tokens in Rus sentence':rus_l}).hist(ax=ax1, bins = 30);\n",
        "pd.DataFrame({'Number of tokens in Trns sentence':trn_l}).hist(ax=ax2, bins = 30);"
      ],
      "execution_count": 229,
      "outputs": [
        {
          "output_type": "stream",
          "text": [
            "max len rus: 27, max len trn: 26\n"
          ],
          "name": "stdout"
        },
        {
          "output_type": "display_data",
          "data": {
            "image/png": "[encoded data removed]",
            "text/plain": [
              "<Figure size 864x288 with 2 Axes>"
            ]
          },
          "metadata": {
            "tags": []
          }
        }
      ]
    },
    {
      "cell_type": "code",
      "metadata": {
        "id": "ID8a8MoaKtVm",
        "colab_type": "code",
        "outputId": "c82329a0-4049-4f17-f255-800f2362f5cd",
        "colab": {
          "base_uri": "https://localhost:8080/",
          "height": 85
        }
      },
      "source": [
        "a = np.random.choice(len(rus_trn_new))\n",
        "rus_trn_new[a]"
      ],
      "execution_count": 230,
      "outputs": [
        {
          "output_type": "execute_result",
          "data": {
            "text/plain": [
              "array([list(['о', 'б', 'с', 'у', 'ж', 'д', 'а', 'е', 'м', 'ы', 'й']),\n",
              "       list(['a', 'p', 's', 'u', 'zh', 'd', \"a'1\", 'jax', 'm', \"ax'\", \"j'\"]),\n",
              "       list(['a', 'p', 's', 'u', 'zh', 'd', \"a'1\", 'jax', 'm', \"ax'\", \"j'\"])],\n",
              "      dtype=object)"
            ]
          },
          "metadata": {
            "tags": []
          },
          "execution_count": 230
        }
      ]
    },
    {
      "cell_type": "markdown",
      "metadata": {
        "id": "CbQ82gWtkTDx",
        "colab_type": "text"
      },
      "source": [
        "### Let's tokenize the sentences\n",
        "\n"
      ]
    },
    {
      "cell_type": "code",
      "metadata": {
        "id": "670W8CC1llqC",
        "colab_type": "code",
        "outputId": "5b18fda2-71a6-4f7a-8439-e728d9846df8",
        "colab": {
          "base_uri": "https://localhost:8080/",
          "height": 51
        }
      },
      "source": [
        "def tokenization(lines, split=' '):\n",
        "  tokenizer = Tokenizer(filters='', lower=False, split=split)\n",
        "  tokenizer.fit_on_texts(lines)\n",
        "  return tokenizer\n",
        "\n",
        "def encode_sequences(tokenizer, length, lines):\n",
        "  seq = tokenizer.texts_to_sequences(lines)\n",
        "  seq = pad_sequences(sequences=seq, maxlen=length, padding='post')\n",
        "  return seq\n",
        "\n",
        "rus_tokenizer = tokenization(rus_trn_new[:, 0], split='')\n",
        "rus_vocab_size = len(rus_tokenizer.word_index) + 1\n",
        "# rus_trn_new[0, 1] += ['<sos>', '<eos>']\n",
        "trn_tokenizer = tokenization(rus_trn_new[:, 1], split=' ')\n",
        "trn_vocab_size = len(trn_tokenizer.word_index) + 1\n",
        "print(f'Rus Vocabulary Size: {rus_vocab_size}')\n",
        "print(f'Trns Vocabulary Size: {trn_vocab_size}')"
      ],
      "execution_count": 231,
      "outputs": [
        {
          "output_type": "stream",
          "text": [
            "Rus Vocabulary Size: 35\n",
            "Trns Vocabulary Size: 115\n"
          ],
          "name": "stdout"
        }
      ]
    },
    {
      "cell_type": "markdown",
      "metadata": {
        "id": "sgJdhdjvqRA9",
        "colab_type": "text"
      },
      "source": [
        "### Encode sentences, pad them, split to train and test\n"
      ]
    },
    {
      "cell_type": "code",
      "metadata": {
        "id": "3XcT-AUGqa5v",
        "colab_type": "code",
        "outputId": "5d037e0c-2f9a-4d57-98c2-a37274a2cf72",
        "colab": {
          "base_uri": "https://localhost:8080/",
          "height": 85
        }
      },
      "source": [
        "def cbow(x, window_size=1):\n",
        "  res = []\n",
        "  for e in x:\n",
        "    len_x = len(e)\n",
        "    vec = []\n",
        "    for i in range(len_x):\n",
        "      bow = [0] * (window_size*2 + 1)\n",
        "      first_context_word_index = max(0, i-window_size)\n",
        "      last_context_word_index = min(i+window_size, len_x-1)\n",
        "      for k,j in enumerate(range(first_context_word_index, last_context_word_index+1)):\n",
        "        bow[k] = e[j]\n",
        "    \n",
        "      vec.append(bow)\n",
        "    res.append(vec)\n",
        "  return np.array(res)\n",
        "\n",
        "train, test = train_test_split(rus_trn_new, test_size=0.1, random_state = RS)\n",
        "\n",
        "# rus_length = trn_length = max(trn_length, rus_length)\n",
        "\n",
        "# prepare training data\n",
        "trainX = encode_sequences(rus_tokenizer, rus_length, train[:, 0])\n",
        "# trainX = cbow1(trainX)\n",
        "trainX_ = encode_sequences(trn_tokenizer, trn_length, train[:, 2])\n",
        "trainY = encode_sequences(trn_tokenizer, trn_length, train[:, 1])\n",
        "\n",
        "# prepare validation data\n",
        "testX = encode_sequences(rus_tokenizer, rus_length, test[:, 0])\n",
        "# testX = cbow1(testX)\n",
        "testX_ = encode_sequences(trn_tokenizer, trn_length, test[:, 2])\n",
        "testY = encode_sequences(trn_tokenizer, trn_length, test[:, 1])\n",
        "\n",
        "a = np.random.choice(len(trainX))\n",
        "print(a)\n",
        "print( rus_tokenizer.sequences_to_texts([trainX[a]]) )\n",
        "print( trn_tokenizer.sequences_to_texts([trainY[a]]) )\n",
        "print( trn_tokenizer.sequences_to_texts([trainX_[a]]) )"
      ],
      "execution_count": 232,
      "outputs": [
        {
          "output_type": "stream",
          "text": [
            "21121\n",
            "['п е р е ж и л и']\n",
            "[\"p' 'ix' r' 'i zh y'1 l' 'ix'\"]\n",
            "[\"p' 'ix' r' 'i zh y'1 l' 'ix'\"]\n"
          ],
          "name": "stdout"
        }
      ]
    },
    {
      "cell_type": "markdown",
      "metadata": {
        "id": "75Ho1kBn39sp",
        "colab_type": "text"
      },
      "source": [
        "### Build Seq2Seq models. Looks like simple Seq2Seq model on LSTM works the best (based on my experiments not presented here). Let's train the model with early stopping"
      ]
    },
    {
      "cell_type": "code",
      "metadata": {
        "id": "rwOy43R15_yn",
        "colab_type": "code",
        "outputId": "32fbacd3-8ee9-4913-b2e3-87acc19ce420",
        "colab": {
          "base_uri": "https://localhost:8080/",
          "height": 1000
        }
      },
      "source": [
        "from keras import backend as K\n",
        "EPOCHES = 100\n",
        "BS = 512\n",
        "window_size = 1\n",
        "TF = False\n",
        "\n",
        "def define_seq2seq_cbow(in_vocab, out_vocab, in_timesteps, out_timesteps, units):\n",
        "  window = 3\n",
        "  input = x = Input(shape=(in_timesteps, window))\n",
        "  x = Embedding(in_vocab, units, mask_zero=True)(x)\n",
        "  x = Lambda(lambda a: K.sum(a, axis=2))(x)\n",
        "  x, h, c = LSTM(units, return_state=True)(x)\n",
        "  x = RepeatVector(out_timesteps)(x)\n",
        "  x = LSTM(units, return_sequences=True)(x, initial_state = (h, c))\n",
        "  output = Dense(out_vocab, activation='softmax')(x)\n",
        "  model = Model(input, output)\n",
        "  return model, None, None\n",
        "\n",
        "def define_seq2seq_BiLSTM(in_vocab, out_vocab, in_timesteps, out_timesteps, units):\n",
        "  input = x = Input(shape=(None,))\n",
        "  x = Embedding(in_vocab, units, input_length=in_timesteps, mask_zero=True)(x)\n",
        "  x, h, c, h2, c2 = Bi(LSTM(units, return_state=True))(x)\n",
        "  x = Dropout(0.1)(x)\n",
        "  x = RepeatVector(out_timesteps)(x)\n",
        "  x = Bi(LSTM(units, return_sequences=True))(x, initial_state = (h, c, h2, c2))\n",
        "  x = Dropout(0.1)(x)\n",
        "  output = Dense(out_vocab, activation='softmax')(x)\n",
        "  model = Model(input, output)\n",
        "  return model, None, None\n",
        "\n",
        "def define_seq2seq_LSTM(in_vocab, out_vocab, in_timesteps, out_timesteps, units):\n",
        "  input = x = Input(shape=(None,))\n",
        "  x = Embedding(in_vocab, units, input_length=in_timesteps, mask_zero=True)(x)\n",
        "  x, h, c = LSTM(units, return_state=True)(x)\n",
        "  x = Dropout(0.5)(x)\n",
        "  x = RepeatVector(out_timesteps)(x)\n",
        "  x = LSTM(units, return_sequences=True)(x, initial_state = (h, c))\n",
        "  x = Dropout(0.5)(x)\n",
        "  output = Dense(out_vocab, activation='softmax')(x)\n",
        "  model = Model(input, output)\n",
        "  return model, None, None\n",
        "\n",
        "def define_seq2seq_2LSTM(in_vocab, out_vocab, in_timesteps, out_timesteps, units):\n",
        "  input = x = Input(shape=(None,))\n",
        "  x = Embedding(in_vocab, units, input_length=in_timesteps, mask_zero=True)(x)\n",
        "  x, h, c = LSTM(units, return_sequences=True, return_state=True)(x)\n",
        "  x = Dropout(0.5)(x)\n",
        "  x, h2, c2 = LSTM(units, return_state=True)(x)\n",
        "  x = RepeatVector(out_timesteps)(x)\n",
        "  x = LSTM(units, return_sequences=True)(x, initial_state = (h, c))\n",
        "  x = Dropout(0.5)(x)\n",
        "  x = LSTM(units, return_sequences=True)(x, initial_state = (h2, c2))\n",
        "  output = Dense(out_vocab, activation='softmax')(x)\n",
        "  model = Model(input, output)\n",
        "  return model, None, None\n",
        "\n",
        "def define_teacher_forcing(in_vocab, out_vocab, in_timesteps, out_timesteps, units):\n",
        "  #train model\n",
        "  # encoder\n",
        "  encoder_inputs = Input(shape=(None,))\n",
        "  encoder_embedding = Embedding(in_vocab, units, input_length=in_timesteps, mask_zero=True)\n",
        "  encoder = encoder_embedding(encoder_inputs)\n",
        "  _, h, c = LSTM(units, return_state=True)(encoder)\n",
        "  encoder_states = [h, c]\n",
        "  # decoder\n",
        "  decoder_inputs = Input(shape=(None,))\n",
        "  decoder_embedding = Embedding(out_vocab, units, input_length=out_timesteps, mask_zero=True)\n",
        "  decoder = decoder_embedding(decoder_inputs)\n",
        "  decoder_lstm = LSTM(units, return_sequences=True, return_state=True)\n",
        "  decoder_outputs, _, _ = decoder_lstm(decoder, initial_state=encoder_states)\n",
        "  decoder_dense = Dense(out_vocab, activation='softmax')\n",
        "  decoder_outputs = decoder_dense(decoder_outputs)\n",
        "  model = Model([encoder_inputs, decoder_inputs], decoder_outputs)\n",
        "\n",
        "  #inference models\n",
        "  # encoder\n",
        "  encoder_model = Model(encoder_inputs, encoder_states)\n",
        "  # decoder\n",
        "  decoder_state_input_h = Input(shape=(units,))\n",
        "  decoder_state_input_c = Input(shape=(units,))\n",
        "  decoder_states_inputs = [decoder_state_input_h, decoder_state_input_c]\n",
        "  decoder_outputs, h, c = decoder_lstm(decoder, initial_state=decoder_states_inputs)\n",
        "  decoder_states = [h, c]\n",
        "  decoder_outputs = decoder_dense(decoder_outputs)\n",
        "  decoder_model = Model([decoder_inputs] + decoder_states_inputs, [decoder_outputs] + decoder_states)\n",
        "  \n",
        "  return model, encoder_model, decoder_model\n",
        "\n",
        "define_model = define_teacher_forcing if TF else define_seq2seq_2LSTM\n",
        "\n",
        "model, encoder_model, decoder_model = define_model(rus_vocab_size, trn_vocab_size, rus_length, trn_length, 512)\n",
        "model.summary()\n",
        "\n",
        "model.compile(optimizer='adam', loss='sparse_categorical_crossentropy')\n",
        "\n",
        "monitor = 'val_loss'\n",
        "mode = 'min'\n",
        "early_stop = EarlyStopping( patience=5, monitor=monitor, mode=mode, restore_best_weights=True)\n",
        "\n",
        "if TF:\n",
        "  data = [trainX, trainX_], trainY.reshape(*trainY.shape, 1)\n",
        "  validation_data = [testX, testX_], testY.reshape(*testY.shape, 1)\n",
        "else:\n",
        "  data = trainX, [trainY.reshape(*trainY.shape, 1)] #, trainX.reshape(*trainX.shape, 1)]\n",
        "  validation_data = testX, [testY.reshape(*testY.shape, 1)] #, testX.reshape(*testX.shape, 1)]\n",
        "\n",
        "history = model.fit(*data, \n",
        "          epochs=EPOCHES, batch_size=BS, \n",
        "          validation_data=validation_data,\n",
        "          callbacks=[early_stop], verbose=1)\n",
        "\n",
        "# plot validation loss vs training loss\n",
        "plt.plot(history.history['loss'])\n",
        "plt.plot(history.history['val_loss'])\n",
        "plt.legend(['train','validation'])\n",
        "plt.show()"
      ],
      "execution_count": 233,
      "outputs": [
        {
          "output_type": "stream",
          "text": [
            "Model: \"model_59\"\n",
            "__________________________________________________________________________________________________\n",
            "Layer (type)                    Output Shape         Param #     Connected to                     \n",
            "==================================================================================================\n",
            "input_73 (InputLayer)           (None, None)         0                                            \n",
            "__________________________________________________________________________________________________\n",
            "embedding_51 (Embedding)        (None, 27, 512)      17920       input_73[0][0]                   \n",
            "__________________________________________________________________________________________________\n",
            "lstm_104 (LSTM)                 [(None, 27, 512), (N 2099200     embedding_51[0][0]               \n",
            "__________________________________________________________________________________________________\n",
            "dropout_23 (Dropout)            (None, 27, 512)      0           lstm_104[0][0]                   \n",
            "__________________________________________________________________________________________________\n",
            "lstm_105 (LSTM)                 [(None, 512), (None, 2099200     dropout_23[0][0]                 \n",
            "__________________________________________________________________________________________________\n",
            "repeat_vector_31 (RepeatVector) (None, 26, 512)      0           lstm_105[0][0]                   \n",
            "__________________________________________________________________________________________________\n",
            "lstm_106 (LSTM)                 (None, 26, 512)      2099200     repeat_vector_31[0][0]           \n",
            "                                                                 lstm_104[0][1]                   \n",
            "                                                                 lstm_104[0][2]                   \n",
            "__________________________________________________________________________________________________\n",
            "dropout_24 (Dropout)            (None, 26, 512)      0           lstm_106[0][0]                   \n",
            "__________________________________________________________________________________________________\n",
            "lstm_107 (LSTM)                 (None, 26, 512)      2099200     dropout_24[0][0]                 \n",
            "                                                                 lstm_105[0][1]                   \n",
            "                                                                 lstm_105[0][2]                   \n",
            "__________________________________________________________________________________________________\n",
            "dense_42 (Dense)                (None, 26, 115)      58995       lstm_107[0][0]                   \n",
            "==================================================================================================\n",
            "Total params: 8,473,715\n",
            "Trainable params: 8,473,715\n",
            "Non-trainable params: 0\n",
            "__________________________________________________________________________________________________\n",
            "Train on 23445 samples, validate on 2606 samples\n",
            "Epoch 1/100\n",
            "23445/23445 [==============================] - 33s 1ms/step - loss: 1.4891 - val_loss: 1.0304\n",
            "Epoch 2/100\n",
            "23445/23445 [==============================] - 13s 540us/step - loss: 1.0089 - val_loss: 0.9757\n",
            "Epoch 3/100\n",
            "23445/23445 [==============================] - 13s 536us/step - loss: 0.9758 - val_loss: 0.9520\n",
            "Epoch 4/100\n",
            "23445/23445 [==============================] - 13s 538us/step - loss: 0.9469 - val_loss: 0.9060\n",
            "Epoch 5/100\n",
            "23445/23445 [==============================] - 12s 529us/step - loss: 0.8737 - val_loss: 0.8002\n",
            "Epoch 6/100\n",
            "23445/23445 [==============================] - 12s 530us/step - loss: 0.7520 - val_loss: 0.6762\n",
            "Epoch 7/100\n",
            "23445/23445 [==============================] - 13s 548us/step - loss: 0.6255 - val_loss: 0.5440\n",
            "Epoch 8/100\n",
            "23445/23445 [==============================] - 13s 534us/step - loss: 0.5111 - val_loss: 0.4341\n",
            "Epoch 9/100\n",
            "23445/23445 [==============================] - 13s 539us/step - loss: 0.4165 - val_loss: 0.3787\n",
            "Epoch 10/100\n",
            "23445/23445 [==============================] - 13s 534us/step - loss: 0.3459 - val_loss: 0.3007\n",
            "Epoch 11/100\n",
            "23445/23445 [==============================] - 13s 535us/step - loss: 0.2898 - val_loss: 0.2563\n",
            "Epoch 12/100\n",
            "23445/23445 [==============================] - 13s 542us/step - loss: 0.2486 - val_loss: 0.2282\n",
            "Epoch 13/100\n",
            "23445/23445 [==============================] - 12s 532us/step - loss: 0.2165 - val_loss: 0.2044\n",
            "Epoch 14/100\n",
            "23445/23445 [==============================] - 13s 546us/step - loss: 0.1951 - val_loss: 0.1828\n",
            "Epoch 15/100\n",
            "23445/23445 [==============================] - 13s 545us/step - loss: 0.1733 - val_loss: 0.1703\n",
            "Epoch 16/100\n",
            "23445/23445 [==============================] - 13s 566us/step - loss: 0.1517 - val_loss: 0.1586\n",
            "Epoch 17/100\n",
            "23445/23445 [==============================] - 13s 533us/step - loss: 0.1389 - val_loss: 0.1506\n",
            "Epoch 18/100\n",
            "23445/23445 [==============================] - 13s 543us/step - loss: 0.1293 - val_loss: 0.1576\n",
            "Epoch 19/100\n",
            "23445/23445 [==============================] - 12s 530us/step - loss: 0.1184 - val_loss: 0.1378\n",
            "Epoch 20/100\n",
            "23445/23445 [==============================] - 13s 539us/step - loss: 0.1074 - val_loss: 0.1334\n",
            "Epoch 21/100\n",
            "23445/23445 [==============================] - 13s 552us/step - loss: 0.0984 - val_loss: 0.1338\n",
            "Epoch 22/100\n",
            "23445/23445 [==============================] - 13s 534us/step - loss: 0.0936 - val_loss: 0.1266\n",
            "Epoch 23/100\n",
            "23445/23445 [==============================] - 13s 542us/step - loss: 0.0874 - val_loss: 0.1264\n",
            "Epoch 24/100\n",
            "23445/23445 [==============================] - 13s 534us/step - loss: 0.0806 - val_loss: 0.1210\n",
            "Epoch 25/100\n",
            "23445/23445 [==============================] - 13s 535us/step - loss: 0.0783 - val_loss: 0.1211\n",
            "Epoch 26/100\n",
            "23445/23445 [==============================] - 13s 543us/step - loss: 0.0730 - val_loss: 0.1185\n",
            "Epoch 27/100\n",
            "23445/23445 [==============================] - 12s 531us/step - loss: 0.0692 - val_loss: 0.1205\n",
            "Epoch 28/100\n",
            "23445/23445 [==============================] - 13s 549us/step - loss: 0.0654 - val_loss: 0.1163\n",
            "Epoch 29/100\n",
            "23445/23445 [==============================] - 13s 538us/step - loss: 0.0606 - val_loss: 0.1160\n",
            "Epoch 30/100\n",
            "23445/23445 [==============================] - 13s 535us/step - loss: 0.0588 - val_loss: 0.1148\n",
            "Epoch 31/100\n",
            "23445/23445 [==============================] - 13s 546us/step - loss: 0.0574 - val_loss: 0.1123\n",
            "Epoch 32/100\n",
            "23445/23445 [==============================] - 13s 541us/step - loss: 0.0524 - val_loss: 0.1166\n",
            "Epoch 33/100\n",
            "23445/23445 [==============================] - 13s 552us/step - loss: 0.0497 - val_loss: 0.1153\n",
            "Epoch 34/100\n",
            "23445/23445 [==============================] - 13s 543us/step - loss: 0.0501 - val_loss: 0.1125\n",
            "Epoch 35/100\n",
            "23445/23445 [==============================] - 13s 555us/step - loss: 0.0486 - val_loss: 0.1169\n",
            "Epoch 36/100\n",
            "23445/23445 [==============================] - 12s 530us/step - loss: 0.0478 - val_loss: 0.1197\n"
          ],
          "name": "stdout"
        },
        {
          "output_type": "display_data",
          "data": {
            "image/png": "[encoded data removed]",
            "text/plain": [
              "<Figure size 432x288 with 1 Axes>"
            ]
          },
          "metadata": {
            "tags": []
          }
        }
      ]
    },
    {
      "cell_type": "markdown",
      "metadata": {
        "id": "i-ZvotPs48kU",
        "colab_type": "text"
      },
      "source": [
        "### Now that we have trained model, let's see how it performs. Let's predict 15 random tokens from test corpus"
      ]
    },
    {
      "cell_type": "code",
      "metadata": {
        "colab_type": "code",
        "outputId": "ca8190a7-d08e-48c5-e95c-f0b5782086e4",
        "id": "nTzqkY5ZtGdS",
        "colab": {
          "base_uri": "https://localhost:8080/",
          "height": 514
        }
      },
      "source": [
        "def translate_sentence(input_seq):\n",
        "  states_value = encoder_model.predict(input_seq, use_multiprocessing=True)\n",
        "  target_seq = np.array([0] * trn_length)\n",
        "  target_seq[0] = trn_tokenizer.word_index['<sos>']\n",
        "  eos = trn_tokenizer.word_index['<eos>']\n",
        "  output_sentence = []\n",
        "\n",
        "  for _ in range(trn_length-1):\n",
        "      pred_ohe, h, c = decoder_model.predict([target_seq.reshape(1, -1)] + states_value, use_multiprocessing=True)\n",
        "      idx = np.argmax(pred_ohe[0, 0, :])\n",
        "      if eos == idx: break\n",
        "\n",
        "      if idx > 0:\n",
        "          token = trn_tokenizer.index_word[idx]\n",
        "          output_sentence.append(token)\n",
        "\n",
        "      target_seq[0] = idx\n",
        "      states_value = [h, c]\n",
        "\n",
        "  return ' '.join(output_sentence)\n",
        "\n",
        "a = np.random.choice(len(testX), 15)\n",
        "\n",
        "if TF:\n",
        "  translation = []\n",
        "  for i in a:\n",
        "    input_seq = testX[i]\n",
        "    translation.append( translate_sentence(input_seq) )\n",
        "else:\n",
        "  x = testX[a]\n",
        "  pred_ohe = model.predict(x, use_multiprocessing=True)\n",
        "  pred = np.argmax(pred_ohe, axis=2)\n",
        "  translation = trn_tokenizer.sequences_to_texts(pred)\n",
        "\n",
        "pred_df = pd.DataFrame({'actual' : trn_tokenizer.sequences_to_texts(testY[a]), 'predicted' : translation})\n",
        "pred_df"
      ],
      "execution_count": 234,
      "outputs": [
        {
          "output_type": "execute_result",
          "data": {
            "text/html": [
              "<div>\n",
              "<style scoped>\n",
              "    .dataframe tbody tr th:only-of-type {\n",
              "        vertical-align: middle;\n",
              "    }\n",
              "\n",
              "    .dataframe tbody tr th {\n",
              "        vertical-align: top;\n",
              "    }\n",
              "\n",
              "    .dataframe thead th {\n",
              "        text-align: right;\n",
              "    }\n",
              "</style>\n",
              "<table border=\"1\" class=\"dataframe\">\n",
              "  <thead>\n",
              "    <tr style=\"text-align: right;\">\n",
              "      <th></th>\n",
              "      <th>actual</th>\n",
              "      <th>predicted</th>\n",
              "    </tr>\n",
              "  </thead>\n",
              "  <tbody>\n",
              "    <tr>\n",
              "      <th>0</th>\n",
              "      <td>d' 'i sh o1 v ax' jax</td>\n",
              "      <td>d' 'i sh o1 v ax' jax</td>\n",
              "    </tr>\n",
              "    <tr>\n",
              "      <th>1</th>\n",
              "      <td>h a d a1 t ax' j' s t v ax</td>\n",
              "      <td>h a d a1 d a'1 ch' s t v ax</td>\n",
              "    </tr>\n",
              "    <tr>\n",
              "      <th>2</th>\n",
              "      <td>d' 'i s k u'1 s' s' 'ix' jax</td>\n",
              "      <td>d' 'i s k u'1 s' s' 'ix' jax</td>\n",
              "    </tr>\n",
              "    <tr>\n",
              "      <th>3</th>\n",
              "      <td>p' 'ix' r' 'i b o'1 i</td>\n",
              "      <td>p' 'ix' r' 'i b o'1 i</td>\n",
              "    </tr>\n",
              "    <tr>\n",
              "      <th>4</th>\n",
              "      <td>m n ax g a' ch' 'i1 s l' 'ix n n ax h</td>\n",
              "      <td>m n ax g a' ch' 'ix s l' 'ix n n ax h</td>\n",
              "    </tr>\n",
              "    <tr>\n",
              "      <th>5</th>\n",
              "      <td>t' 'ix' l' 'ix' v' 'ix' z' 'i o1 n n ax m</td>\n",
              "      <td>t' 'ix' l' 'ix' v' 'ix' z' 'i o1 n n ax m</td>\n",
              "    </tr>\n",
              "    <tr>\n",
              "      <th>6</th>\n",
              "      <td>s y1 n</td>\n",
              "      <td>s y1 n</td>\n",
              "    </tr>\n",
              "    <tr>\n",
              "      <th>7</th>\n",
              "      <td>l' 'e'1 n' 'ix n</td>\n",
              "      <td>l' 'e'1 n' 'ix n</td>\n",
              "    </tr>\n",
              "    <tr>\n",
              "      <th>8</th>\n",
              "      <td>k u1 h ax n n ax v ax'</td>\n",
              "      <td>k u g o1 n n ax v ax</td>\n",
              "    </tr>\n",
              "    <tr>\n",
              "      <th>9</th>\n",
              "      <td>a l k ax g a' l' 'i1 z m</td>\n",
              "      <td>a l k ax g a' l' 'i1 z m</td>\n",
              "    </tr>\n",
              "    <tr>\n",
              "      <th>10</th>\n",
              "      <td>'i1 s k r' 'ix' n' n' 'ix' m' 'ix</td>\n",
              "      <td>y s k r' 'e'1 n' n' 'ix' m' 'i</td>\n",
              "    </tr>\n",
              "    <tr>\n",
              "      <th>11</th>\n",
              "      <td>k r o1 h ax t n ax' j'</td>\n",
              "      <td>k r ax h o1 t n ax' j'</td>\n",
              "    </tr>\n",
              "    <tr>\n",
              "      <th>12</th>\n",
              "      <td>u k r' 'i' p' 'i'1 d'</td>\n",
              "      <td>u k r' 'i' p' 'i'1 t'</td>\n",
              "    </tr>\n",
              "    <tr>\n",
              "      <th>13</th>\n",
              "      <td>s ax h r a' n' 'a'1 jax ts ts ax</td>\n",
              "      <td>s ax h r a' n' 'a'1 jax ts ts ax</td>\n",
              "    </tr>\n",
              "    <tr>\n",
              "      <th>14</th>\n",
              "      <td>p a e1 t ax f</td>\n",
              "      <td>p a t t ax f</td>\n",
              "    </tr>\n",
              "  </tbody>\n",
              "</table>\n",
              "</div>"
            ],
            "text/plain": [
              "                                       actual                                  predicted\n",
              "0                       d' 'i sh o1 v ax' jax                      d' 'i sh o1 v ax' jax\n",
              "1                  h a d a1 t ax' j' s t v ax                h a d a1 d a'1 ch' s t v ax\n",
              "2                d' 'i s k u'1 s' s' 'ix' jax               d' 'i s k u'1 s' s' 'ix' jax\n",
              "3                       p' 'ix' r' 'i b o'1 i                      p' 'ix' r' 'i b o'1 i\n",
              "4       m n ax g a' ch' 'i1 s l' 'ix n n ax h      m n ax g a' ch' 'ix s l' 'ix n n ax h\n",
              "5   t' 'ix' l' 'ix' v' 'ix' z' 'i o1 n n ax m  t' 'ix' l' 'ix' v' 'ix' z' 'i o1 n n ax m\n",
              "6                                      s y1 n                                     s y1 n\n",
              "7                            l' 'e'1 n' 'ix n                           l' 'e'1 n' 'ix n\n",
              "8                      k u1 h ax n n ax v ax'                       k u g o1 n n ax v ax\n",
              "9                    a l k ax g a' l' 'i1 z m                   a l k ax g a' l' 'i1 z m\n",
              "10          'i1 s k r' 'ix' n' n' 'ix' m' 'ix             y s k r' 'e'1 n' n' 'ix' m' 'i\n",
              "11                     k r o1 h ax t n ax' j'                     k r ax h o1 t n ax' j'\n",
              "12                      u k r' 'i' p' 'i'1 d'                      u k r' 'i' p' 'i'1 t'\n",
              "13           s ax h r a' n' 'a'1 jax ts ts ax           s ax h r a' n' 'a'1 jax ts ts ax\n",
              "14                              p a e1 t ax f                               p a t t ax f"
            ]
          },
          "metadata": {
            "tags": []
          },
          "execution_count": 234
        }
      ]
    },
    {
      "cell_type": "markdown",
      "metadata": {
        "id": "aj-i60ShaUU_",
        "colab_type": "text"
      },
      "source": [
        "### Now let's put all that together in a function"
      ]
    },
    {
      "cell_type": "code",
      "metadata": {
        "id": "c8pLj-TGaYDq",
        "colab_type": "code",
        "colab": {
          "base_uri": "https://localhost:8080/",
          "height": 139
        },
        "outputId": "cca78f04-2f3b-4506-b8f2-2f1ab7e698fa"
      },
      "source": [
        "import string\n",
        "\n",
        "def make_transctript(str):\n",
        "  input_string = rus_trn[a][0]\n",
        "  input_string = input_string.lower()\n",
        "  input_string = input_string.translate(str.maketrans('', '', string.punctuation))\n",
        "  input_string = [list(each) for each in input_string.split(' ')]\n",
        "  input_seq = encode_sequences(rus_tokenizer, rus_length, input_string)\n",
        "\n",
        "  pred_ohe = model.predict(input_seq, use_multiprocessing=True)\n",
        "  pred = np.argmax(pred_ohe, axis=2)\n",
        "  translation = trn_tokenizer.sequences_to_texts(pred)\n",
        "\n",
        "  translation = '%% ' + ' # '.join(translation) + ' %%'\n",
        "  translation = translation.replace('_ #', '_')\n",
        "  return translation.replace('<PNK>', '%% %%')\n",
        "\n",
        "a = np.random.choice(len(rus_trn))\n",
        "print(f'Original sentence in Russian (#{a})')\n",
        "print( rus_trn[a][0])\n",
        "print('Original transcript')\n",
        "print( rus_trn[a][1])\n",
        "print('Predicted transcript')\n",
        "print( make_transctript( rus_trn[a][0]) )"
      ],
      "execution_count": 235,
      "outputs": [
        {
          "output_type": "stream",
          "text": [
            "Original sentence in Russian (#9480)\n",
            "снег в воронежской области стаял за неделю до нового года\n",
            "Original transcript\n",
            "%% s' n' 'e1 k # v _ v a r o'1 n' 'ix sh s k ax' j' # 'o1 b l ax' s' t' 'ix # s t a'1 jax l # z ax' _ n' 'i' d' 'e'1 l' 'ux # d a _ n o1 v ax v ax # g o1 d a %%\n",
            "Predicted transcript\n",
            "%% s' n' 'e1 k # f _ v a r o'1 n' 'ix sh s k ax' j' # 'o1 b l ax' s' t' 'ix # s t a'1 jax l # z a _ n' 'i' d' 'e'1 l' 'u # d ax' _ n o1 v ax v ax # g o1 d ax %%\n"
          ],
          "name": "stdout"
        }
      ]
    },
    {
      "cell_type": "code",
      "metadata": {
        "id": "6xffSDvy0U9M",
        "colab_type": "code",
        "colab": {}
      },
      "source": [
        ""
      ],
      "execution_count": 0,
      "outputs": []
    }
  ]
}