{
  "nbformat": 4,
  "nbformat_minor": 0,
  "metadata": {
    "colab": {
      "name": "workinprogress.ipynb",
      "provenance": [],
      "include_colab_link": true
    },
    "kernelspec": {
      "name": "python3",
      "display_name": "Python 3"
    },
    "accelerator": "GPU"
  },
  "cells": [
    {
      "cell_type": "markdown",
      "metadata": {
        "id": "view-in-github",
        "colab_type": "text"
      },
      "source": [
        "<a href=\"https://colab.research.google.com/github/andygoosh/samsung/blob/master/workinprogress.ipynb\" target=\"_parent\"><img src=\"https://colab.research.google.com/assets/colab-badge.svg\" alt=\"Open In Colab\"/></a>"
      ]
    },
    {
      "cell_type": "code",
      "metadata": {
        "id": "r_Mg8x0gASeS",
        "colab_type": "code",
        "outputId": "4a3fedcb-f246-4d84-9a7c-2ed79a8ce6da",
        "colab": {
          "base_uri": "https://localhost:8080/",
          "height": 34
        }
      },
      "source": [
        "from pathlib import Path\n",
        "from google.colab import files, drive\n",
        "from collections import defaultdict\n",
        "\n",
        "import re\n",
        "import random as rn\n",
        "import pandas as pd\n",
        "import numpy as np\n",
        "from numpy import array, argmax, random, take\n",
        "import matplotlib.pyplot as plt\n",
        "from collections import Counter\n",
        "%matplotlib inline\n",
        "\n",
        "from sklearn.model_selection import train_test_split\n",
        "\n",
        "import tensorflow as tf\n",
        "from keras.preprocessing.sequence import pad_sequences\n",
        "from keras.preprocessing.text import Tokenizer\n",
        "from keras.models import Sequential, Model\n",
        "from keras.layers import Input, Dropout, Dense, LSTM, GRU, Embedding, RepeatVector, Lambda, TimeDistributed\n",
        "from keras.layers import Bidirectional as Bi\n",
        "from keras import optimizers\n",
        "from keras.models import load_model\n",
        "from keras.callbacks import ModelCheckpoint, EarlyStopping\n",
        "\n",
        "RS = 77\n",
        "rn.seed(RS)\n",
        "# tf.random.set_seed(RS)\n",
        "np.random.seed(RS)\n",
        "np.random.RandomState(RS)\n",
        "\n",
        "gpath = Path('/content/gdrive')\n",
        "drive.mount(str(gpath))\n",
        "data_file = gpath / 'My Drive/Samsung' / 'transcriptions'"
      ],
      "execution_count": 29,
      "outputs": [
        {
          "output_type": "stream",
          "text": [
            "Drive already mounted at /content/gdrive; to attempt to forcibly remount, call drive.mount(\"/content/gdrive\", force_remount=True).\n"
          ],
          "name": "stdout"
        }
      ]
    },
    {
      "cell_type": "markdown",
      "metadata": {
        "id": "8KByWPn1DbpS",
        "colab_type": "text"
      },
      "source": [
        "#### Let's look at the data in given file"
      ]
    },
    {
      "cell_type": "code",
      "metadata": {
        "id": "PNLzpBAGDgAI",
        "colab_type": "code",
        "outputId": "d3f1ea8e-bd6d-46eb-ff18-e1b70182b1fa",
        "colab": {
          "base_uri": "https://localhost:8080/",
          "height": 54
        }
      },
      "source": [
        "with data_file.open() as f:  \n",
        "    print(list(f.readline()))"
      ],
      "execution_count": 2,
      "outputs": [
        {
          "output_type": "stream",
          "text": [
            "['а', 'у', 'к', 'ц', 'и', 'о', 'н', 'ы', ' ', 'н', 'а', ' ', 'д', 'е', 'ш', 'ё', 'в', 'о', 'е', ' ', 'ж', 'и', 'л', 'ь', 'ё', ' ', 'п', 'р', 'о', 'в', 'о', 'д', 'я', 'т', 'с', 'я', ' ', 'р', 'е', 'г', 'у', 'л', 'я', 'р', 'н', 'о', '\\t', '%', '%', ' ', 'a', ' ', 'u', ' ', 'k', ' ', 't', 's', ' ', 'y', ' ', 'o', '1', ' ', 'n', ' ', 'a', 'x', ' ', '#', ' ', 'n', ' ', 'a', 'x', \"'\", ' ', '_', ' ', 'd', \"'\", ' ', \"'\", 'i', ' ', 's', 'h', ' ', 'o', '1', ' ', 'v', ' ', 'a', 'x', \"'\", ' ', 'j', 'a', 'x', ' ', '#', ' ', 'z', 'h', ' ', 'y', \"'\", ' ', 'l', \"'\", ' ', 'j', \"'\", ' ', \"'\", 'o', '1', ' ', '#', ' ', 'p', ' ', 'r', ' ', 'a', ' ', 'v', ' ', 'o', \"'\", '1', ' ', 'd', \"'\", ' ', \"'\", 'a', 'x', ' ', 't', 's', ' ', 't', 's', ' ', 'a', 'x', \"'\", ' ', '#', ' ', 'r', \"'\", ' ', \"'\", 'i', 'x', ' ', 'g', ' ', 'u', \"'\", ' ', 'l', \"'\", ' ', \"'\", 'a', '1', ' ', 'r', ' ', 'n', ' ', 'a', ' ', '%', '%', '\\n']\n"
          ],
          "name": "stdout"
        }
      ]
    },
    {
      "cell_type": "markdown",
      "metadata": {
        "id": "Xmvmq8NkDzzF",
        "colab_type": "text"
      },
      "source": [
        "#### Notice that:\n",
        "1. russian sentence is separated from transcript with '\\t'\n",
        "2. the begining and the end of transcript part are marked by '%%'"
      ]
    },
    {
      "cell_type": "markdown",
      "metadata": {
        "id": "t9inDldeBBz8",
        "colab_type": "text"
      },
      "source": [
        "### Let's read the data and split it into rus and trans"
      ]
    },
    {
      "cell_type": "code",
      "metadata": {
        "id": "ze9lEBcZB4A_",
        "colab_type": "code",
        "outputId": "761dc42e-f9b8-42f1-e17f-e926abe7ba47",
        "colab": {
          "base_uri": "https://localhost:8080/",
          "height": 34
        }
      },
      "source": [
        "rus_trn = []\n",
        "with data_file.open() as f:  \n",
        "  for line in f: \n",
        "    rus, trn = line.split('\\t')\n",
        "    rus_trn.append([rus.strip(), trn.strip()])\n",
        "\n",
        "print(f'Number of sentences in corpus: {len(rus_trn)}')"
      ],
      "execution_count": 3,
      "outputs": [
        {
          "output_type": "stream",
          "text": [
            "Number of sentences in corpus: 50277\n"
          ],
          "name": "stdout"
        }
      ]
    },
    {
      "cell_type": "markdown",
      "metadata": {
        "id": "gjFV-XOHBN8o",
        "colab_type": "text"
      },
      "source": [
        "##### Let's look at some sentences\n"
      ]
    },
    {
      "cell_type": "code",
      "metadata": {
        "id": "iaCdAWXfBS-H",
        "colab_type": "code",
        "outputId": "a3038ab3-d1e4-4106-97f6-637fa469d7b3",
        "colab": {
          "base_uri": "https://localhost:8080/",
          "height": 139
        }
      },
      "source": [
        "a,b,c = np.random.choice(len(rus_trn), 3)\n",
        "\n",
        "print(rus_trn[a][0])\n",
        "print(rus_trn[a][1])\n",
        "print(rus_trn[b][0])\n",
        "print(rus_trn[b][1])\n",
        "print(rus_trn[c][0])\n",
        "print(rus_trn[c][1])"
      ],
      "execution_count": 4,
      "outputs": [
        {
          "output_type": "stream",
          "text": [
            "веб-операторы обязаны ознакомить пользователя с политикой по сбору персональной информации\n",
            "%% v' 'e1 p a' p' 'i r a1 t ax r ax # a' b' 'a1 z ax n ax # a z n a k o'1 m' 'ix' t' # p o'1 l' z ax v ax' t' 'ix' l' 'ax # s _ p a' l' 'i'1 t' 'ix k ax' j' # p a _ z b o1 r ux' # p' 'ix r s a n a'1 l' n ax' j' # 'i n f a r m a1 ts ax' i %%\n",
            "цена мартовского контракта на нефть в торговой системе поднялась\n",
            "%% ts y n a1 # m a1 r t ax f s k ax v ax # k a n t r a1 k t ax # n a' _ n' 'e1 f t' # f _ t a r g o1 v ax' j' # s' 'i' s' t' 'e'1 m' 'ix # p ax' d' n' 'i l a'1 s' %%\n",
            "в августе прошлого года был достроен храм христа спасителя\n",
            "%% v _ a1 v g ux' s' t' 'ix # p r o1 sh l ax v ax # g o1 d ax # b y1 l # d a s t r o'1 jax n # h r a1 m # h r' 'i s t a1 # s p a' s' 'i'1 t' 'ix' l' 'a %%\n"
          ],
          "name": "stdout"
        }
      ]
    },
    {
      "cell_type": "markdown",
      "metadata": {
        "id": "PrtVAlRiBYLc",
        "colab_type": "text"
      },
      "source": [
        "#### Notice that words in russian sentence are separated by space while words in transcript are separated:\n",
        "1. by '#' in general case\n",
        "2. by '_' in case of preposition\n",
        "3. by '%% %%' in case of punctuation signs (dash, coma, etc)\n"
      ]
    },
    {
      "cell_type": "markdown",
      "metadata": {
        "id": "qaYfq4rSFVs6",
        "colab_type": "text"
      },
      "source": [
        "#### Let's see if we have dupliates in corpus"
      ]
    },
    {
      "cell_type": "code",
      "metadata": {
        "id": "zoPm3mehFfiN",
        "colab_type": "code",
        "outputId": "418398ce-a187-4ad5-d8f9-aaaa4ecbb3ad",
        "colab": {
          "base_uri": "https://localhost:8080/",
          "height": 51
        }
      },
      "source": [
        "a = array(rus_trn)\n",
        "seen_rus = Counter(a[:,0])\n",
        "seen_trn = Counter(a[:,1])\n",
        "\n",
        "print(f'Unique rus sentences: {len(seen_rus)} out of {len(rus_trn)}')\n",
        "print(f'Unique trans sentences: {len(seen_trn)} out of {len(rus_trn)}')"
      ],
      "execution_count": 5,
      "outputs": [
        {
          "output_type": "stream",
          "text": [
            "Unique rus sentences: 3131 out of 50277\n",
            "Unique trans sentences: 3171 out of 50277\n"
          ],
          "name": "stdout"
        }
      ]
    },
    {
      "cell_type": "markdown",
      "metadata": {
        "id": "2c_7KSzLGs7v",
        "colab_type": "text"
      },
      "source": [
        "#### We have a lot of duplicates! Only 3131 unique sentenses out of 50K in corpus. Please also note that some russian sentences are transcribed into different transcriptions (will look into that later on)"
      ]
    },
    {
      "cell_type": "code",
      "metadata": {
        "id": "yjR7uun4HeJF",
        "colab_type": "code",
        "outputId": "d1f0be7d-c568-43ec-f2ff-179ed9326c50",
        "colab": {
          "base_uri": "https://localhost:8080/",
          "height": 290
        }
      },
      "source": [
        "lens = [each[1] for each in seen_rus.items()]\n",
        "unq = np.unique(lens)\n",
        "qty = [lens.count(each) for each in unq]\n",
        "pd.DataFrame(qty, index=unq).plot.bar(title = 'Rus sentence repeat times', legend=False);"
      ],
      "execution_count": 6,
      "outputs": [
        {
          "output_type": "display_data",
          "data": {
            "image/png": "[encoded data removed]",
            "text/plain": [
              "<Figure size 432x288 with 1 Axes>"
            ]
          },
          "metadata": {
            "tags": []
          }
        }
      ]
    },
    {
      "cell_type": "markdown",
      "metadata": {
        "id": "a2bIKlVbIAxi",
        "colab_type": "text"
      },
      "source": [
        "#### Most duplicated sentences repeat 12 times, max up to 203 times"
      ]
    },
    {
      "cell_type": "markdown",
      "metadata": {
        "id": "oCi44KJRImmG",
        "colab_type": "text"
      },
      "source": [
        "### Let's read that data while splitting the tokens. We'll count the tokens in each sentence. If the count in rus and trans is different, we'll record it as anomaly\n"
      ]
    },
    {
      "cell_type": "code",
      "metadata": {
        "id": "4fznr-0SJ9nU",
        "colab_type": "code",
        "outputId": "93092286-d0dc-488f-f5bd-ca1518c4b61a",
        "colab": {
          "base_uri": "https://localhost:8080/",
          "height": 298
        }
      },
      "source": [
        "rus_l, trn_l, anomaly = [], [], []\n",
        "seen = defaultdict(list)\n",
        "chars = Counter()\n",
        "\n",
        "for j,i in enumerate(rus_trn):\n",
        "  rus = i[0].split()\n",
        "  trn = re.split('#|_|%% %%',i[1])\n",
        "\n",
        "  if i[0] not in seen:\n",
        "    if abs(len(rus) - len(trn)) != 0: \n",
        "      anomaly.append(j)\n",
        "      # print(j, ' ', i[0])\n",
        "      # print( i[1])\n",
        "    \n",
        "    else:\n",
        "      rus_l.append(len(rus))\n",
        "      trn_l.append(len(trn))\n",
        "\n",
        "    chars += Counter(i[0])\n",
        "\n",
        "  seen[i[0]].append(j)\n",
        "\n",
        "print(f'Anomalies: {len(anomaly)}')\n",
        "fig, (ax1, ax2) = plt.subplots(nrows=1,ncols=2,figsize=(12,4))\n",
        "pd.DataFrame({'Number of words in Rus sentence':rus_l}).hist(ax=ax1, bins = 30);\n",
        "pd.DataFrame({'Number of words in Trns sentence':trn_l}).hist(ax=ax2, bins = 30);"
      ],
      "execution_count": 7,
      "outputs": [
        {
          "output_type": "stream",
          "text": [
            "Anomalies: 49\n"
          ],
          "name": "stdout"
        },
        {
          "output_type": "display_data",
          "data": {
            "image/png": "[encoded data removed]",
            "text/plain": [
              "<Figure size 864x288 with 2 Axes>"
            ]
          },
          "metadata": {
            "tags": []
          }
        }
      ]
    },
    {
      "cell_type": "markdown",
      "metadata": {
        "id": "XxTcio_yKSbh",
        "colab_type": "text"
      },
      "source": [
        "#### So we have 49 anomalies out of 3131 samples"
      ]
    },
    {
      "cell_type": "markdown",
      "metadata": {
        "id": "uV_cJH70KuSg",
        "colab_type": "text"
      },
      "source": [
        "### Let's see if we need to clean the data. First let's take a look at rus corpus alphabet"
      ]
    },
    {
      "cell_type": "code",
      "metadata": {
        "id": "LyV9anvZn187",
        "colab_type": "code",
        "outputId": "13ab6e1b-d7bc-45f6-f1dc-77ccc4313ec3",
        "colab": {
          "base_uri": "https://localhost:8080/",
          "height": 298
        }
      },
      "source": [
        "s = sorted(chars.items())\n",
        "pd.DataFrame(s, index=(e[0]+' ' for e in s)).plot.bar(figsize=(18,4), rot=0, title = 'Char frequencies', legend=False)\n",
        "print(f'Number of times \"-\" used: {chars[\"-\"]}')"
      ],
      "execution_count": 8,
      "outputs": [
        {
          "output_type": "stream",
          "text": [
            "Number of times \"-\" used: 159\n"
          ],
          "name": "stdout"
        },
        {
          "output_type": "display_data",
          "data": {
            "image/png": "[encoded data removed]",
            "text/plain": [
              "<Figure size 1296x288 with 1 Axes>"
            ]
          },
          "metadata": {
            "tags": []
          }
        }
      ]
    },
    {
      "cell_type": "markdown",
      "metadata": {
        "id": "83TZ18z9K8Qy",
        "colab_type": "text"
      },
      "source": [
        "#### Looks good! We neither have punctuations nor capital letters. The only case to check is '-' letter which is used 159 times"
      ]
    },
    {
      "cell_type": "code",
      "metadata": {
        "id": "hEqkK_LRKLb-",
        "colab_type": "code",
        "outputId": "28aa95cb-c6e6-40d7-b698-060c0f86c074",
        "colab": {
          "base_uri": "https://localhost:8080/",
          "height": 54
        }
      },
      "source": [
        "seen = set()\n",
        "seen_dash = set()\n",
        "dash_words = []\n",
        "for rus,trn in rus_trn:\n",
        "  if rus not in seen:\n",
        "    if '-' in rus:\n",
        "      ru_words = rus.split()\n",
        "      for each in ru_words:\n",
        "        if '-' in each:\n",
        "          if each not in seen_dash:\n",
        "            seen_dash.add(each)\n",
        "            dash_words.append(each)\n",
        "  else:\n",
        "    seen.add(rus)\n",
        "  \n",
        "print(dash_words)"
      ],
      "execution_count": 9,
      "outputs": [
        {
          "output_type": "stream",
          "text": [
            "['анти-обледенитель', 'иридо-диагностика', 'дом-красавец', 'из-за', 'радио-сигналом', 'ноль-три', 'ноль-два', 'мало-обеспеченные', 'шкаф-купе', 'тех-осмотр', 'пресс-службе', 'авто-сервис', 'чуть-чуть', 'аудио-', 'какие-либо', 'де-факто', 'стерео-', 'царь-колокол', 'царь-пушка', 'гео-магнитного', 'электро-катастрофы', 'фигуристы-новобранцы', 'что-то', 'какое-либо', 'веб-операторы', 'воздушно-десантной', 'военно-морских', 'ветераны-афганцы', 'одного-единственного', 'природно-климатические', 'одном-двух', 'санкт-петербурге', 'стран-участниц', 'пять-шесть', 'по-своему', 'матч-реванш', 'словаря-справочника', 'штаб-квартире', 'чем-то', 'чего-то', 'экс-губернатора', 'российско-американский', 'северо-восточных', 'красно-белую', 'какой-нибудь', 'бело-жёлтый', 'карту-схему', 'юго-западный', 'радио-охранное', 'по-прежнему', 'каким-то', 'кино-картины', 'авто-трюки', 'пресс-конференции', 'генерал-прокурором', 'нью-йорке', 'медиа-группы', 'нью-йоркской', 'какие-то', 'санкт-петербурга', 'санкт-петербург', 'памятники-символы', 'премьер-министр', 'взлётно-посадочную', 'какого-нибудь', 'январе-феврале', 'птица-говорун', 'жучки-камнееды', 'школу-комплекс', 'художников-оформителей', 'какое-то', 'купли-продажи', 'каких-либо', 'генерал-лейтенант', 'карты-схемы', 'кому-нибудь', 'детям-инвалидам', 'как-то', 'золото-валютных', 'наконец-то', 'государственно-общественной', 'бизнес-сообщества', 'причинно-следственных', 'по-настоящему', 'юго-западного', 'премьер-министру', 'нью-йорк', 'пропан-бутановые', 'пресс-служба', 'физико-химическими', 'средне-взвешенный', 'интернет-сетью', 'экспресс-опрос', 'либерально-демократической', 'вице-премьер', 'пресс-конференция', 'военно-морского', 'по-другому', 'вице-спикера', 'радио-станции', 'конференц-зале', 'золото-валютные', 'фирм-членов', 'премьер-министром', 'химико-фармацевтической', 'весенне-полевых', 'пресс-секретарь', 'сирийско-израильский', 'юго-восток', 'сьерра-леонэ', 'южно-африканской', 'медиа-мостом', 'диско-марафон', 'видео-', 'две-три', 'экс-посол', 'военно-политического', 'компакт-диски', 'мини-электростанция', 'когда-нибудь', 'кто-то', 'веке-волкодаве', 'из-под', 'капитан-лейтенанта', 'просто-напросто', 'всё-таки', 'пресс-службы', 'южно-сахалинске', 'оперативно-следственная', 'армяно-российского', 'северо-западе']\n"
          ],
          "name": "stdout"
        }
      ]
    },
    {
      "cell_type": "markdown",
      "metadata": {
        "id": "3VHh6JUCPGlb",
        "colab_type": "text"
      },
      "source": [
        "#### Okey, words with dash look fine, we'll consider dash as a normal letter"
      ]
    },
    {
      "cell_type": "markdown",
      "metadata": {
        "id": "hMAmvWqyLrWv",
        "colab_type": "text"
      },
      "source": [
        "### The size of the corpus is too small to tokenize on words. Insted we'll tokenize bsed on characters"
      ]
    },
    {
      "cell_type": "markdown",
      "metadata": {
        "id": "G-xAjHqyjh3x",
        "colab_type": "text"
      },
      "source": [
        "### So in order to implement autocoder for transcript we'd need to keep special symbools in transcript such as \"\\_\" and \"%% %%\". So let's create a dictionary of sentences rus <-> trans. So let's recreate the dictionary so \"\\_\" and \"%% %%\" are marked with '#' and remove begin and end markers. Plus to that let's get rid of duplicates.\n"
      ]
    },
    {
      "cell_type": "code",
      "metadata": {
        "id": "PBgF1l93y39m",
        "colab_type": "code",
        "outputId": "a2f212f8-27cc-47ff-ac1e-d72d1a63f880",
        "colab": {
          "base_uri": "https://localhost:8080/",
          "height": 298
        }
      },
      "source": [
        "seen_rus = set()\n",
        "seen_trn = set()\n",
        "\n",
        "res, trn_l, rus_l = [], [], []\n",
        "for rus, trn in rus_trn:\n",
        "\n",
        "  if rus not in seen_rus or trn not in seen_trn:\n",
        "      seen_rus.add(rus)\n",
        "      seen_trn.add(trn)\n",
        "\n",
        "      # trn = trn.replace('%% %%', '%% %% #').replace('_', '_ #')[3:-3]\n",
        "      # trn = trn.split(' ')\n",
        "      # rus_l.append( len(rus))\n",
        "      # trn_l.append( len(trn))\n",
        "      # res.append([list(rus), trn, trn])\n",
        "\n",
        "      trn = trn.replace('%% %%', '#').replace('_', '#')[3:-3]\n",
        "      trn = trn.split('#')\n",
        "      rus = rus.split(' ')\n",
        "      for a,b in zip(rus, trn):\n",
        "        b = b.strip().split(' ')\n",
        "        # res.append((list(a), b + ['<eos>'], ['<sos>'] + b))\n",
        "        res.append((list(a), b, b))\n",
        "        rus_l.append( len(a))\n",
        "        trn_l.append( len(b))\n",
        "\n",
        "rus_trn_new = array(res)\n",
        "trn_length = max(trn_l)\n",
        "rus_length = max(rus_l)\n",
        "print(f'max len rus: {rus_length}, max len trn: {trn_length}')\n",
        "fig, (ax1, ax2) = plt.subplots(nrows=1,ncols=2,figsize=(12,4))\n",
        "pd.DataFrame({'Number of words in Rus sentence':rus_l}).hist(ax=ax1, bins = 30);\n",
        "pd.DataFrame({'Number of words in Trns sentence':trn_l}).hist(ax=ax2, bins = 30);"
      ],
      "execution_count": 60,
      "outputs": [
        {
          "output_type": "stream",
          "text": [
            "max len rus: 27, max len trn: 26\n"
          ],
          "name": "stdout"
        },
        {
          "output_type": "display_data",
          "data": {
            "image/png": "[encoded data removed]",
            "text/plain": [
              "<Figure size 864x288 with 2 Axes>"
            ]
          },
          "metadata": {
            "tags": []
          }
        }
      ]
    },
    {
      "cell_type": "code",
      "metadata": {
        "id": "ID8a8MoaKtVm",
        "colab_type": "code",
        "outputId": "76e0a488-8c8a-4313-aa37-98dede2223d8",
        "colab": {
          "base_uri": "https://localhost:8080/",
          "height": 51
        }
      },
      "source": [
        "a = np.random.choice(len(rus_trn_new))\n",
        "rus_trn_new[a]"
      ],
      "execution_count": 8,
      "outputs": [
        {
          "output_type": "execute_result",
          "data": {
            "text/plain": [
              "array([list(['н', 'а']), list(['n', \"a'\"]), list(['n', \"a'\"])],\n",
              "      dtype=object)"
            ]
          },
          "metadata": {
            "tags": []
          },
          "execution_count": 8
        }
      ]
    },
    {
      "cell_type": "markdown",
      "metadata": {
        "id": "CbQ82gWtkTDx",
        "colab_type": "text"
      },
      "source": [
        "### Text to Sequence Conversion"
      ]
    },
    {
      "cell_type": "code",
      "metadata": {
        "id": "670W8CC1llqC",
        "colab_type": "code",
        "outputId": "94db5f9b-5a1d-43de-809a-e3e60efa6f41",
        "colab": {
          "base_uri": "https://localhost:8080/",
          "height": 51
        }
      },
      "source": [
        "def tokenization(lines, split=' '):\n",
        "  tokenizer = Tokenizer(filters='', lower=False, split=split)\n",
        "  tokenizer.fit_on_texts(lines)\n",
        "  return tokenizer\n",
        "\n",
        "def encode_sequences(tokenizer, length, lines):\n",
        "  seq = tokenizer.texts_to_sequences(lines)\n",
        "  seq = pad_sequences(sequences=seq, maxlen=length, padding='post')\n",
        "  return seq\n",
        "\n",
        "rus_tokenizer = tokenization(rus_trn_new[:, 0], split='')\n",
        "rus_vocab_size = len(rus_tokenizer.word_index) + 1\n",
        "# rus_trn_new[0, 1] +=  ['<sos>', '<eos>']\n",
        "trn_tokenizer = tokenization(rus_trn_new[:, 1], split=' ')\n",
        "trn_vocab_size = len(trn_tokenizer.word_index) + 1\n",
        "print(f'Rus Vocabulary Size: {rus_vocab_size}')\n",
        "print(f'Trns Vocabulary Size: {trn_vocab_size}')"
      ],
      "execution_count": 61,
      "outputs": [
        {
          "output_type": "stream",
          "text": [
            "Rus Vocabulary Size: 35\n",
            "Trns Vocabulary Size: 114\n"
          ],
          "name": "stdout"
        }
      ]
    },
    {
      "cell_type": "markdown",
      "metadata": {
        "id": "sgJdhdjvqRA9",
        "colab_type": "text"
      },
      "source": [
        "### Model Building\n"
      ]
    },
    {
      "cell_type": "code",
      "metadata": {
        "id": "3XcT-AUGqa5v",
        "colab_type": "code",
        "outputId": "8008cbb3-3818-4bba-fbab-17f935fa8433",
        "colab": {
          "base_uri": "https://localhost:8080/",
          "height": 85
        }
      },
      "source": [
        "def cbow(x, window_size=1):\n",
        "  res = []\n",
        "  for e in x:\n",
        "    len_x = len(e)\n",
        "    vec = []\n",
        "    for i in range(len_x):\n",
        "      bow = [0] * (window_size*2 + 1)\n",
        "      first_context_word_index = max(0, i-window_size)\n",
        "      last_context_word_index = min(i+window_size, len_x-1)\n",
        "      for k,j in enumerate(range(first_context_word_index, last_context_word_index+1)):\n",
        "        bow[k] = e[j]\n",
        "    \n",
        "      vec.append(bow)\n",
        "    res.append(vec)\n",
        "  return np.array(res)\n",
        "\n",
        "train, test = train_test_split(rus_trn_new, test_size=0.1, random_state = RS)\n",
        "\n",
        "rus_length = trn_length = max(trn_length, rus_length)\n",
        "\n",
        "# prepare training data\n",
        "trainX = encode_sequences(rus_tokenizer, rus_length, train[:, 0])\n",
        "# trainX = cbow(trainX)\n",
        "trainX_ = encode_sequences(trn_tokenizer, trn_length, train[:, 2])\n",
        "trainY = encode_sequences(trn_tokenizer, trn_length, train[:, 1])\n",
        "\n",
        "# prepare validation data\n",
        "testX = encode_sequences(rus_tokenizer, rus_length, test[:, 0])\n",
        "# testX = cbow(testX)\n",
        "testX_ = encode_sequences(trn_tokenizer, trn_length, test[:, 2])\n",
        "testY = encode_sequences(trn_tokenizer, trn_length, test[:, 1])\n",
        "\n",
        "a = np.random.choice(rus_vocab_size)\n",
        "print(a)\n",
        "print( rus_tokenizer.sequences_to_texts([trainX[a]]) )\n",
        "print( trn_tokenizer.sequences_to_texts([trainY[a]]) )\n",
        "print( trn_tokenizer.sequences_to_texts([trainX_[a]]) )\n",
        "\n"
      ],
      "execution_count": 62,
      "outputs": [
        {
          "output_type": "stream",
          "text": [
            "25\n",
            "['с в о и х']\n",
            "[\"s v a' i1 h\"]\n",
            "[\"s v a' i1 h\"]\n"
          ],
          "name": "stdout"
        }
      ]
    },
    {
      "cell_type": "code",
      "metadata": {
        "colab_type": "code",
        "outputId": "8099e191-3260-4464-da4a-f7bbbc7e8791",
        "id": "9kEjoKSnjJGv",
        "colab": {
          "base_uri": "https://localhost:8080/",
          "height": 34
        }
      },
      "source": [
        "trainX.shape"
      ],
      "execution_count": 11,
      "outputs": [
        {
          "output_type": "execute_result",
          "data": {
            "text/plain": [
              "(23445, 27)"
            ]
          },
          "metadata": {
            "tags": []
          },
          "execution_count": 11
        }
      ]
    },
    {
      "cell_type": "code",
      "metadata": {
        "id": "7jNnwQrM4gvY",
        "colab_type": "code",
        "colab": {
          "base_uri": "https://localhost:8080/",
          "height": 85
        },
        "outputId": "12a99d0c-a6b3-4448-a75f-ecbd497e1fc1"
      },
      "source": [
        "a = np.random.choice(len(trainX))\n",
        "print(a)\n",
        "print( rus_tokenizer.sequences_to_texts([trainX[a]]) )\n",
        "print( trn_tokenizer.sequences_to_texts([trainY[a]]) )\n",
        "print( trn_tokenizer.sequences_to_texts([trainX_[a]]) )"
      ],
      "execution_count": 35,
      "outputs": [
        {
          "output_type": "stream",
          "text": [
            "10357\n",
            "['т е а т р е']\n",
            "[\"o'1 p' 'ix r ax'\"]\n",
            "[\"o'1 p' 'ix r ax'\"]\n"
          ],
          "name": "stdout"
        }
      ]
    },
    {
      "cell_type": "markdown",
      "metadata": {
        "id": "u5FSiYilVXvv",
        "colab_type": "text"
      },
      "source": [
        "#### FastText"
      ]
    },
    {
      "cell_type": "code",
      "metadata": {
        "id": "J8eeBkKPCPse",
        "colab_type": "code",
        "outputId": "ccbd938c-94fc-484c-a6ac-bdce0c5e9516",
        "colab": {
          "base_uri": "https://localhost:8080/",
          "height": 462
        }
      },
      "source": [
        "from gensim.models.fasttext import FastText\n",
        "rus_model = FastText(size=20)\n",
        "trn_model = FastText(size=20)\n",
        "\n",
        "rus_model.build_vocab(sentences=rus_trn_new[:, 0])\n",
        "trn_model.build_vocab(sentences=rus_trn_new[:, 1])\n",
        "\n",
        "total_rus = rus_model.corpus_total_words\n",
        "total_trn = trn_model.corpus_total_words\n",
        "print(total_rus, total_trn)\n",
        "\n",
        "rus_model.train(sentences=rus_trn_new[:,0], total_examples = rus_model.corpus_count, epochs=rus_model.iter)\n",
        "trn_model.train(sentences=rus_trn_new[:,1], total_examples = trn_model.corpus_count, epochs=trn_model.iter)\n",
        "\n",
        "print(rus_model.wv['и'])\n",
        "print(trn_model.wv[\" i _ \"])\n",
        "\n",
        "trn_model.wv.similar_by_vector(trn_model.wv[\" u' n' 'ix' v' 'ix r s' 'i' t' 'e'1 t' 'e \"])\n",
        "# trn_model.wv.similar_by_vector(rus_model.wv['группа'])"
      ],
      "execution_count": 48,
      "outputs": [
        {
          "output_type": "stream",
          "text": [
            "26104 32397\n"
          ],
          "name": "stdout"
        },
        {
          "output_type": "stream",
          "text": [
            "/usr/local/lib/python3.6/dist-packages/ipykernel_launcher.py:12: DeprecationWarning: Call to deprecated `iter` (Attribute will be removed in 4.0.0, use self.epochs instead).\n",
            "  if sys.path[0] == '':\n",
            "/usr/local/lib/python3.6/dist-packages/ipykernel_launcher.py:13: DeprecationWarning: Call to deprecated `iter` (Attribute will be removed in 4.0.0, use self.epochs instead).\n",
            "  del sys.path[0]\n"
          ],
          "name": "stderr"
        },
        {
          "output_type": "stream",
          "text": [
            "[ 0.1745851  -0.22202873 -0.17269288 -0.04386821 -0.4282203   0.5094932\n",
            " -0.25376198 -0.04329903 -0.42030793  0.57068497 -0.16061345  0.13687153\n",
            " -0.4737889  -0.26888788 -0.16815317  0.37124515  0.01553215 -0.53534424\n",
            " -0.4030462   0.36020088]\n",
            "[-0.7882443   0.17519642 -0.7252197  -0.6866293   0.08247433  0.36925587\n",
            " -0.6002508   1.0730166   0.1371393   0.89582694 -0.29266044 -0.4488588\n",
            "  1.8485057   0.40128613  0.63816005 -0.8273596  -0.08827844  0.22150114\n",
            "  0.28394297  0.45288056]\n"
          ],
          "name": "stdout"
        },
        {
          "output_type": "stream",
          "text": [
            "/usr/local/lib/python3.6/dist-packages/gensim/matutils.py:737: FutureWarning: Conversion of the second argument of issubdtype from `int` to `np.signedinteger` is deprecated. In future, it will be treated as `np.int64 == np.dtype(int).type`.\n",
            "  if np.issubdtype(vec.dtype, np.int):\n"
          ],
          "name": "stderr"
        },
        {
          "output_type": "execute_result",
          "data": {
            "text/plain": [
              "[(\" zh y'1 t' 'ix' l' 'ix' j' \", 0.9999978542327881),\n",
              " (\" d' 'ix' s' 'i' t' 'i1 \", 0.9999967813491821),\n",
              " (\" p r' 'ix ts t a' v' 'i'1 t' 'ix' l' 'ix \", 0.9999967813491821),\n",
              " (\" a' m' 'ix' r' 'i k a1 n s k' 'ix h \", 0.9999962449073792),\n",
              " (\" r ax s p r' 'ix' d' 'i' l' 'e'1 n' 'ix' jax \", 0.9999961256980896),\n",
              " (\" k ax' t' 'i r o1 f k' 'ix \", 0.9999959468841553),\n",
              " (\" t' 'ix h n a l o'1 g' 'ix' j' \", 0.9999959468841553),\n",
              " (\" ch' 'ix l a' v' 'e1 k a \", 0.9999955892562866),\n",
              " (\" s ax s t a' j' 'a'1 n' 'ix' jax \", 0.9999955296516418),\n",
              " (\" d' 'e'1 n' g' 'ix \", 0.9999954700469971)]"
            ]
          },
          "metadata": {
            "tags": []
          },
          "execution_count": 48
        }
      ]
    },
    {
      "cell_type": "code",
      "metadata": {
        "id": "EovHsdWV0JJg",
        "colab_type": "code",
        "outputId": "b795a3a4-f2ab-425d-8c02-0603c013c443",
        "colab": {
          "base_uri": "https://localhost:8080/",
          "height": 275
        }
      },
      "source": [
        "trn_model.most_similar(' d' 'ix p u t a1 t ')\n",
        "# rus_model.most_similar('депутат')"
      ],
      "execution_count": 49,
      "outputs": [
        {
          "output_type": "stream",
          "text": [
            "/usr/local/lib/python3.6/dist-packages/ipykernel_launcher.py:1: DeprecationWarning: Call to deprecated `most_similar` (Method will be removed in 4.0.0, use self.wv.most_similar() instead).\n",
            "  \"\"\"Entry point for launching an IPython kernel.\n",
            "/usr/local/lib/python3.6/dist-packages/gensim/matutils.py:737: FutureWarning: Conversion of the second argument of issubdtype from `int` to `np.signedinteger` is deprecated. In future, it will be treated as `np.int64 == np.dtype(int).type`.\n",
            "  if np.issubdtype(vec.dtype, np.int):\n"
          ],
          "name": "stderr"
        },
        {
          "output_type": "execute_result",
          "data": {
            "text/plain": [
              "[(' b y l a1 ', 0.9984955787658691),\n",
              " (' d v a1 ', 0.9984601140022278),\n",
              " (\" g l a1 v n ax' j' \", 0.9984497427940369),\n",
              " (\" z ax' ji' v' 'i1 l \", 0.9984194040298462),\n",
              " (' m o1 g ux d ', 0.998417854309082),\n",
              " (\" v' 'i r n u'1 t' \", 0.9984167218208313),\n",
              " (\" b ax' l' sh y n s t v o1 \", 0.9984123706817627),\n",
              " (' y z _ ', 0.998410701751709),\n",
              " (' g a1 z ax ', 0.9984028935432434),\n",
              " (\" ts y n t r a'1 l' n ax' j' \", 0.9983973503112793)]"
            ]
          },
          "metadata": {
            "tags": []
          },
          "execution_count": 49
        }
      ]
    },
    {
      "cell_type": "markdown",
      "metadata": {
        "id": "Pd8zTiADVilf",
        "colab_type": "text"
      },
      "source": [
        "### Moving on"
      ]
    },
    {
      "cell_type": "code",
      "metadata": {
        "id": "rwOy43R15_yn",
        "colab_type": "code",
        "outputId": "a2daeb0d-5eae-47d9-d089-e92355b0d69e",
        "colab": {
          "base_uri": "https://localhost:8080/",
          "height": 1000
        }
      },
      "source": [
        "from keras import backend as K\n",
        "EPOCHES = 100\n",
        "BS = 512\n",
        "window_size = 1\n",
        "TF = False\n",
        "\n",
        "def define_model_lstm(in_vocab, out_vocab, in_timesteps, out_timesteps, units):\n",
        "  cbow = Sequential()\n",
        "  cbow.add(Embedding(in_vocab, units, input_length=in_timesteps, mask_zero=True))\n",
        "  cbow.add(LSTM(units, return_sequences=True))\n",
        "  cbow.add(Dense(in_vocab, activation='softmax'))\n",
        "  return cbow, None, None\n",
        "\n",
        "# build NMT model\n",
        "def define_model_cbow(in_vocab, out_vocab, in_timesteps, out_timesteps, units):\n",
        "  input = x = Input(shape=(None,))\n",
        "  x = Embedding(in_vocab, 100, input_length=window_size*2+1, mask_zero=True)(x)\n",
        "  x = Lambda(lambda x: K.mean(x, axis=2))(x)\n",
        "  output = Dense(out_vocab, activation='softmax')(x)\n",
        "  model = Model(input, output)\n",
        "  return model, None, None\n",
        "\n",
        "# build NMT model\n",
        "def define_model_simple(in_vocab, out_vocab, in_timesteps, out_timesteps, units):\n",
        "  input = x = Input(shape=(None,))\n",
        "  x = Embedding(in_vocab, units, input_length=in_timesteps, mask_zero=True)(x)\n",
        "  x, h, c = LSTM(units, return_state=True)(x)\n",
        "  x = RepeatVector(out_timesteps)(x)\n",
        "  x = LSTM(units, return_sequences=True)(x, initial_state = (h, c))\n",
        "  output = Dense(out_vocab, activation='softmax')(x)\n",
        "  model = Model(input, output)\n",
        "  return model, None, None\n",
        "\n",
        "def define_model_tf(in_vocab, out_vocab, in_timesteps, out_timesteps, units):\n",
        "   # encoder\n",
        "  encoder_inputs = Input(shape=(None,))\n",
        "  encoder_embedding = Embedding(in_vocab, units, input_length=in_timesteps, mask_zero=True)\n",
        "  encoder = encoder_embedding(encoder_inputs)\n",
        "  _, state_h, state_c = LSTM(units, return_state=True)(encoder)\n",
        "  encoder_states = [state_h, state_c]\n",
        "  # decoder\n",
        "  decoder_inputs = Input(shape=(None,))\n",
        "  decoder_embedding = Embedding(out_vocab, units, input_length=out_timesteps, mask_zero=True)\n",
        "  decoder = decoder_embedding(decoder_inputs)\n",
        "  decoder_lstm = LSTM(units, return_sequences=True, return_state=True)\n",
        "  decoder_outputs, _, _ = decoder_lstm(decoder, initial_state=encoder_states)\n",
        "  decoder_dense = Dense(out_vocab, activation='softmax')\n",
        "  decoder_outputs = decoder_dense(decoder_outputs)\n",
        "  model = Model([encoder_inputs, decoder_inputs], decoder_outputs)\n",
        "\n",
        "  #inference model\n",
        "  encoder_model = Model(encoder_inputs, encoder_states)\n",
        "\n",
        "  decoder_state_input_h = Input(shape=(units,))\n",
        "  decoder_state_input_c = Input(shape=(units,))\n",
        "  decoder_states_inputs = [decoder_state_input_h, decoder_state_input_c]\n",
        "  decoder_outputs, h, c = decoder_lstm(decoder, initial_state=decoder_states_inputs)\n",
        "  decoder_states = [h, c]\n",
        "  decoder_outputs = decoder_dense(decoder_outputs)\n",
        "  decoder_model = Model([decoder_inputs] + decoder_states_inputs, [decoder_outputs] + decoder_states)\n",
        "  \n",
        "  return model, encoder_model, decoder_model\n",
        "\n",
        "define_model = define_model_tf if TF else define_model_simple\n",
        "\n",
        "model, encoder_model, decoder_model = define_model(rus_vocab_size, trn_vocab_size, rus_length, trn_length, 512)\n",
        "model.summary()\n",
        "  \n",
        "model.compile(optimizer='adam', loss='sparse_categorical_crossentropy')\n",
        "\n",
        "monitor = 'val_loss'\n",
        "mode = 'min'\n",
        "early_stop = EarlyStopping( patience=5, monitor=monitor, mode=mode, restore_best_weights=True)\n",
        "\n",
        "if TF:\n",
        "  data = [trainX, trainX_], trainY.reshape(*trainY.shape, 1)\n",
        "  validation_data = [testX, testX_], testY.reshape(*testY.shape, 1)\n",
        "else:\n",
        "  data = trainX, trainY.reshape(*trainY.shape, 1)\n",
        "  validation_data = testX, testY.reshape(*testY.shape, 1)\n",
        "\n",
        "history = model.fit(*data, \n",
        "          epochs=EPOCHES, batch_size=BS, \n",
        "          validation_data=validation_data,\n",
        "          callbacks=[early_stop], verbose=1)\n",
        "\n",
        "# plot validation loss vs training loss\n",
        "plt.plot(history.history['loss'])\n",
        "plt.plot(history.history['val_loss'])\n",
        "plt.legend(['train','validation'])\n",
        "plt.show()"
      ],
      "execution_count": 0,
      "outputs": [
        {
          "output_type": "stream",
          "text": [
            "Model: \"model_14\"\n",
            "__________________________________________________________________________________________________\n",
            "Layer (type)                    Output Shape         Param #     Connected to                     \n",
            "==================================================================================================\n",
            "input_15 (InputLayer)           (None, None)         0                                            \n",
            "__________________________________________________________________________________________________\n",
            "embedding_24 (Embedding)        (None, 27, 512)      17920       input_15[0][0]                   \n",
            "__________________________________________________________________________________________________\n",
            "lstm_34 (LSTM)                  [(None, 512), (None, 2099200     embedding_24[0][0]               \n",
            "__________________________________________________________________________________________________\n",
            "repeat_vector_11 (RepeatVector) (None, 27, 512)      0           lstm_34[0][0]                    \n",
            "__________________________________________________________________________________________________\n",
            "lstm_35 (LSTM)                  (None, 27, 512)      2099200     repeat_vector_11[0][0]           \n",
            "                                                                 lstm_34[0][1]                    \n",
            "                                                                 lstm_34[0][2]                    \n",
            "__________________________________________________________________________________________________\n",
            "dense_21 (Dense)                (None, 27, 114)      58482       lstm_35[0][0]                    \n",
            "==================================================================================================\n",
            "Total params: 4,274,802\n",
            "Trainable params: 4,274,802\n",
            "Non-trainable params: 0\n",
            "__________________________________________________________________________________________________\n",
            "Train on 23445 samples, validate on 2606 samples\n",
            "Epoch 1/100\n",
            "23445/23445 [==============================] - 19s 812us/step - loss: 1.6556 - val_loss: 1.0811\n",
            "Epoch 2/100\n",
            "23445/23445 [==============================] - 11s 477us/step - loss: 1.0192 - val_loss: 0.9760\n",
            "Epoch 3/100\n",
            "23445/23445 [==============================] - 11s 483us/step - loss: 0.9651 - val_loss: 0.9488\n",
            "Epoch 4/100\n",
            "23445/23445 [==============================] - 11s 476us/step - loss: 0.9418 - val_loss: 0.9267\n",
            "Epoch 5/100\n",
            "23445/23445 [==============================] - 11s 472us/step - loss: 0.9100 - val_loss: 0.8786\n",
            "Epoch 6/100\n",
            "23445/23445 [==============================] - 11s 475us/step - loss: 0.8336 - val_loss: 0.8019\n",
            "Epoch 7/100\n",
            "23445/23445 [==============================] - 11s 471us/step - loss: 0.7291 - val_loss: 0.6677\n",
            "Epoch 8/100\n",
            "23445/23445 [==============================] - 11s 472us/step - loss: 0.6190 - val_loss: 0.5800\n",
            "Epoch 9/100\n",
            "23445/23445 [==============================] - 11s 476us/step - loss: 0.5240 - val_loss: 0.4912\n",
            "Epoch 10/100\n",
            "23445/23445 [==============================] - 11s 474us/step - loss: 0.4404 - val_loss: 0.4136\n",
            "Epoch 11/100\n",
            "23445/23445 [==============================] - 11s 480us/step - loss: 0.3752 - val_loss: 0.3690\n",
            "Epoch 12/100\n",
            "23445/23445 [==============================] - 11s 474us/step - loss: 0.3184 - val_loss: 0.3093\n",
            "Epoch 13/100\n",
            "23445/23445 [==============================] - 11s 476us/step - loss: 0.2741 - val_loss: 0.2804\n",
            "Epoch 14/100\n",
            "23445/23445 [==============================] - 11s 480us/step - loss: 0.2397 - val_loss: 0.2530\n",
            "Epoch 15/100\n",
            "23445/23445 [==============================] - 11s 473us/step - loss: 0.2160 - val_loss: 0.2305\n",
            "Epoch 16/100\n",
            "23445/23445 [==============================] - 11s 475us/step - loss: 0.1875 - val_loss: 0.2130\n",
            "Epoch 17/100\n",
            "23445/23445 [==============================] - 11s 477us/step - loss: 0.1665 - val_loss: 0.2004\n",
            "Epoch 18/100\n",
            "23445/23445 [==============================] - 11s 477us/step - loss: 0.1506 - val_loss: 0.1892\n",
            "Epoch 19/100\n",
            "23445/23445 [==============================] - 11s 475us/step - loss: 0.1361 - val_loss: 0.1813\n",
            "Epoch 20/100\n",
            "23445/23445 [==============================] - 11s 478us/step - loss: 0.1251 - val_loss: 0.1723\n",
            "Epoch 21/100\n",
            "23445/23445 [==============================] - 11s 474us/step - loss: 0.1159 - val_loss: 0.1662\n",
            "Epoch 22/100\n",
            "23445/23445 [==============================] - 11s 477us/step - loss: 0.1041 - val_loss: 0.1629\n",
            "Epoch 23/100\n",
            "23445/23445 [==============================] - 11s 474us/step - loss: 0.0975 - val_loss: 0.1621\n",
            "Epoch 24/100\n",
            "23445/23445 [==============================] - 11s 477us/step - loss: 0.0928 - val_loss: 0.1581\n",
            "Epoch 25/100\n",
            "23445/23445 [==============================] - 11s 482us/step - loss: 0.0858 - val_loss: 0.1547\n",
            "Epoch 26/100\n",
            "23445/23445 [==============================] - 11s 476us/step - loss: 0.0854 - val_loss: 0.1538\n",
            "Epoch 27/100\n",
            "23445/23445 [==============================] - 11s 476us/step - loss: 0.0740 - val_loss: 0.1503\n",
            "Epoch 28/100\n",
            "23445/23445 [==============================] - 11s 474us/step - loss: 0.0683 - val_loss: 0.1472\n",
            "Epoch 29/100\n",
            "11264/23445 [=============>................] - ETA: 5s - loss: 0.0638"
          ],
          "name": "stdout"
        }
      ]
    },
    {
      "cell_type": "code",
      "metadata": {
        "colab_type": "code",
        "outputId": "7eb3096c-eb19-4d4b-bdc5-984513d8bf5b",
        "id": "nTzqkY5ZtGdS",
        "colab": {
          "base_uri": "https://localhost:8080/",
          "height": 514
        }
      },
      "source": [
        "def translate_sentence(input_seq):\n",
        "  states_value = encoder_model.predict(input_seq, use_multiprocessing=True)\n",
        "  target_seq = np.array([0] * trn_length)\n",
        "  target_seq[0] = trn_tokenizer.word_index['<sos>']\n",
        "  eos = trn_tokenizer.word_index['<eos>']\n",
        "  output_sentence = []\n",
        "\n",
        "  for _ in range(trn_length):\n",
        "      output_tokens, h, c = decoder_model.predict([target_seq.reshape(1, -1)] + states_value, use_multiprocessing=True)\n",
        "      idx = np.argmax(output_tokens[0,0,:])\n",
        "      # print(trn_tokenizer.index_word[idx])\n",
        "      if eos == idx:\n",
        "          break\n",
        "\n",
        "      if idx > 0:\n",
        "          word = trn_tokenizer.index_word[idx]\n",
        "          output_sentence.append(word)\n",
        "\n",
        "      target_seq[0] = idx\n",
        "      states_value = [h, c]\n",
        "\n",
        "  return ' '.join(output_sentence)\n",
        "\n",
        "a = np.random.choice(len(testX), 15)\n",
        "\n",
        "if TF:\n",
        "  translation = []\n",
        "  for i in a:\n",
        "    input_seq = testX[i]\n",
        "    translation.append( translate_sentence(input_seq) )\n",
        "else:\n",
        "  x = testX[a]\n",
        "  pred_ohe = model.predict(x, use_multiprocessing=True)\n",
        "  pred = np.argmax(pred_ohe, axis=2)\n",
        "  translation = trn_tokenizer.sequences_to_texts(pred)\n",
        "\n",
        "pred_df = pd.DataFrame({'actual' : trn_tokenizer.sequences_to_texts(testY[a]), 'predicted' : translation})\n",
        "pred_df"
      ],
      "execution_count": 56,
      "outputs": [
        {
          "output_type": "execute_result",
          "data": {
            "text/html": [
              "<div>\n",
              "<style scoped>\n",
              "    .dataframe tbody tr th:only-of-type {\n",
              "        vertical-align: middle;\n",
              "    }\n",
              "\n",
              "    .dataframe tbody tr th {\n",
              "        vertical-align: top;\n",
              "    }\n",
              "\n",
              "    .dataframe thead th {\n",
              "        text-align: right;\n",
              "    }\n",
              "</style>\n",
              "<table border=\"1\" class=\"dataframe\">\n",
              "  <thead>\n",
              "    <tr style=\"text-align: right;\">\n",
              "      <th></th>\n",
              "      <th>actual</th>\n",
              "      <th>predicted</th>\n",
              "    </tr>\n",
              "  </thead>\n",
              "  <tbody>\n",
              "    <tr>\n",
              "      <th>0</th>\n",
              "      <td>r y1 n k' 'ix'</td>\n",
              "      <td>r y1 n k' 'ix</td>\n",
              "    </tr>\n",
              "    <tr>\n",
              "      <th>1</th>\n",
              "      <td>t o'1 l' k ax</td>\n",
              "      <td>t o'1 l' k ax</td>\n",
              "    </tr>\n",
              "    <tr>\n",
              "      <th>2</th>\n",
              "      <td>v a k r u1 g</td>\n",
              "      <td>v a k r u1 k</td>\n",
              "    </tr>\n",
              "    <tr>\n",
              "      <th>3</th>\n",
              "      <td>m ax l a d y'1 jax'</td>\n",
              "      <td>m ax l a d y'1 jax</td>\n",
              "    </tr>\n",
              "    <tr>\n",
              "      <th>4</th>\n",
              "      <td>v</td>\n",
              "      <td>v</td>\n",
              "    </tr>\n",
              "    <tr>\n",
              "      <th>5</th>\n",
              "      <td>n ax h a' d' 'i1 f sh ax' j' s' 'ax</td>\n",
              "      <td>p</td>\n",
              "    </tr>\n",
              "    <tr>\n",
              "      <th>6</th>\n",
              "      <td>m' 'ix h a' i1 l</td>\n",
              "      <td>m' 'ix h a' i1 l</td>\n",
              "    </tr>\n",
              "    <tr>\n",
              "      <th>7</th>\n",
              "      <td>p r' 'i v o1 l sh s k' 'ix' j'</td>\n",
              "      <td>p r' 'ix v a sh sh s k' 'ix' j'</td>\n",
              "    </tr>\n",
              "    <tr>\n",
              "      <th>8</th>\n",
              "      <td>u s t ax n a' v' 'i1 l ax' s'</td>\n",
              "      <td>u s t a n o'1 v v ax' s' s'</td>\n",
              "    </tr>\n",
              "    <tr>\n",
              "      <th>9</th>\n",
              "      <td>z a' m' 'o1 r sh sh ax v ax'</td>\n",
              "      <td>z a' z' 'o1 r sh sh ax v ax</td>\n",
              "    </tr>\n",
              "    <tr>\n",
              "      <th>10</th>\n",
              "      <td>j' 'e'1 s' t'</td>\n",
              "      <td>j' 'e'1 s' t'</td>\n",
              "    </tr>\n",
              "    <tr>\n",
              "      <th>11</th>\n",
              "      <td>p r' 'ix' n' 'i m a'1 jax t</td>\n",
              "      <td>p r' 'ix' n' 'i m a'1 jax t</td>\n",
              "    </tr>\n",
              "    <tr>\n",
              "      <th>12</th>\n",
              "      <td>v ax z r a s t a'1 jux t</td>\n",
              "      <td>v ax z r a s t a'1 jux t</td>\n",
              "    </tr>\n",
              "    <tr>\n",
              "      <th>13</th>\n",
              "      <td>p r' 'i ts t a'1 v' 'ix' d'</td>\n",
              "      <td>p r' 'ix ts t a'1 v' 'ix' t'</td>\n",
              "    </tr>\n",
              "    <tr>\n",
              "      <th>14</th>\n",
              "      <td>m' 'e'1 b' 'ix' l'</td>\n",
              "      <td>m' 'e'1 b' 'ix' l'</td>\n",
              "    </tr>\n",
              "  </tbody>\n",
              "</table>\n",
              "</div>"
            ],
            "text/plain": [
              "                                 actual                        predicted\n",
              "0                        r y1 n k' 'ix'                    r y1 n k' 'ix\n",
              "1                         t o'1 l' k ax                    t o'1 l' k ax\n",
              "2                          v a k r u1 g                     v a k r u1 k\n",
              "3                   m ax l a d y'1 jax'               m ax l a d y'1 jax\n",
              "4                                     v                                v\n",
              "5   n ax h a' d' 'i1 f sh ax' j' s' 'ax                                p\n",
              "6                      m' 'ix h a' i1 l                 m' 'ix h a' i1 l\n",
              "7        p r' 'i v o1 l sh s k' 'ix' j'  p r' 'ix v a sh sh s k' 'ix' j'\n",
              "8         u s t ax n a' v' 'i1 l ax' s'      u s t a n o'1 v v ax' s' s'\n",
              "9          z a' m' 'o1 r sh sh ax v ax'      z a' z' 'o1 r sh sh ax v ax\n",
              "10                        j' 'e'1 s' t'                    j' 'e'1 s' t'\n",
              "11          p r' 'ix' n' 'i m a'1 jax t      p r' 'ix' n' 'i m a'1 jax t\n",
              "12             v ax z r a s t a'1 jux t         v ax z r a s t a'1 jux t\n",
              "13          p r' 'i ts t a'1 v' 'ix' d'     p r' 'ix ts t a'1 v' 'ix' t'\n",
              "14                   m' 'e'1 b' 'ix' l'               m' 'e'1 b' 'ix' l'"
            ]
          },
          "metadata": {
            "tags": []
          },
          "execution_count": 56
        }
      ]
    },
    {
      "cell_type": "markdown",
      "metadata": {
        "id": "ZuVg8UxovdB8",
        "colab_type": "text"
      },
      "source": [
        "# German"
      ]
    },
    {
      "cell_type": "code",
      "metadata": {
        "id": "PgbiEv2w_W_R",
        "colab_type": "code",
        "outputId": "9505a2ea-fd7a-4a21-b9d8-12a2280c9b8c",
        "colab": {
          "base_uri": "https://localhost:8080/",
          "height": 255
        }
      },
      "source": [
        "!wget http://www.manythings.org/anki/deu-eng.zip\n",
        "!unzip deu-eng.zip"
      ],
      "execution_count": 56,
      "outputs": [
        {
          "output_type": "stream",
          "text": [
            "--2020-02-26 21:56:06--  http://www.manythings.org/anki/deu-eng.zip\n",
            "Resolving www.manythings.org (www.manythings.org)... 104.24.109.196, 104.24.108.196, 2606:4700:3037::6818:6cc4, ...\n",
            "Connecting to www.manythings.org (www.manythings.org)|104.24.109.196|:80... connected.\n",
            "HTTP request sent, awaiting response... 200 OK\n",
            "Length: 7747747 (7.4M) [application/zip]\n",
            "Saving to: ‘deu-eng.zip’\n",
            "\n",
            "deu-eng.zip         100%[===================>]   7.39M  4.34MB/s    in 1.7s    \n",
            "\n",
            "2020-02-26 21:56:08 (4.34 MB/s) - ‘deu-eng.zip’ saved [7747747/7747747]\n",
            "\n",
            "Archive:  deu-eng.zip\n",
            "  inflating: deu.txt                 \n",
            "  inflating: _about.txt              \n"
          ],
          "name": "stdout"
        }
      ]
    },
    {
      "cell_type": "code",
      "metadata": {
        "id": "3IPzaHenLOFc",
        "colab_type": "code",
        "outputId": "aa815183-f078-4f61-c8eb-5ed419ed95df",
        "colab": {
          "base_uri": "https://localhost:8080/",
          "height": 51
        }
      },
      "source": [
        "import re\n",
        "import string\n",
        "from numpy import array, argmax, random, take\n",
        "import pandas as pd\n",
        "import numpy as np\n",
        "from keras.models import Sequential, Model\n",
        "from keras.layers import Input, Dense, LSTM, Embedding, Bidirectional, RepeatVector, TimeDistributed\n",
        "from keras.preprocessing.text import Tokenizer\n",
        "from keras.callbacks import ModelCheckpoint, EarlyStopping\n",
        "from keras.preprocessing.sequence import pad_sequences\n",
        "from keras.models import load_model\n",
        "from keras import optimizers\n",
        "import matplotlib.pyplot as plt\n",
        "% matplotlib inline\n",
        "pd.set_option('display.max_colwidth', 200)\n",
        "\n",
        "# function to read raw text file\n",
        "def read_text(filename):\n",
        "    # open the file\n",
        "    file = open(filename, mode='rt', encoding='utf-8')\n",
        "    # read all text\n",
        "    text = file.read()\n",
        "    file.close()\n",
        "    return text\n",
        "  \n",
        "# split text into sentences\n",
        "def to_lines(text):\n",
        "    sents = text.strip().split('\\n')\n",
        "    sents = [i.split('\\t') for i in sents]\n",
        "    return sents\n",
        "\n",
        "# download data from http://www.manythings.org/anki/deu-eng.zip\n",
        "data = read_text(\"deu.txt\")\n",
        "deu_eng = to_lines(data)\n",
        "deu_eng = array(deu_eng)\n",
        "\n",
        "# use first 50,000 English-German sentence pairs\n",
        "deu_eng = deu_eng[:50000,:]\n",
        "\n",
        "# Text Pre-processing\n",
        "# Remove punctuation\n",
        "deu_eng[:,0] = [s.translate(str.maketrans('', '', string.punctuation)) for s in deu_eng[:,0]]\n",
        "deu_eng[:,2] = [s.translate(str.maketrans('', '', string.punctuation)) for s in deu_eng[:,1]]\n",
        "deu_eng[:,1] = [s.translate(str.maketrans('', '', string.punctuation)) for s in deu_eng[:,1]]\n",
        " \n",
        "# convert to lowercase\n",
        "for i in range(len(deu_eng)):\n",
        "    deu_eng[i,1] = deu_eng[i,1].lower() # input (DE)\n",
        "    deu_eng[i,0] = deu_eng[i,0].lower() # target output (EN)\n",
        "    \n",
        "    deu_eng[i,2] = '<sos> ' + deu_eng[i,0] # target input (EN)\n",
        "    deu_eng[i,0] = deu_eng[i,0] + ' <eos>'# target output (EN)\n",
        "\n",
        "# Convert text to sequence \n",
        "# empty lists\n",
        "eng_l = []\n",
        "deu_l = []\n",
        "\n",
        "# populate the lists with sentence lengths\n",
        "for i in deu_eng[:,0]:\n",
        "    eng_l.append(len(i.split()))\n",
        "\n",
        "for i in deu_eng[:,1]:\n",
        "    deu_l.append(len(i.split()))\n",
        "\n",
        "# function to build a tokenizer\n",
        "def tokenization(lines):\n",
        "    tokenizer = Tokenizer(filters='!\"#$%&()*+,-./:;=?@[\\\\]^_`{|}~\\t\\n')\n",
        "    tokenizer.fit_on_texts(lines)\n",
        "    return tokenizer\n",
        "  \n",
        "# prepare english tokenizer\n",
        "# deu_eng[0,2] += ' <eos>'\n",
        "eng_tokenizer = tokenization(deu_eng[:, 2])\n",
        "eng_vocab_size = len(eng_tokenizer.word_index) + 1\n",
        "eng_length = 8\n",
        "print('English Vocabulary Size: %d' % eng_vocab_size)\n",
        "\n",
        "# prepare Deutch tokenizer\n",
        "deu_tokenizer = tokenization(deu_eng[:, 1])\n",
        "deu_vocab_size = len(deu_tokenizer.word_index) + 1\n",
        "deu_length = 8\n",
        "print('Deutch Vocabulary Size: %d' % deu_vocab_size)\n",
        "\n",
        "# encode and pad sequences\n",
        "def encode_sequences(tokenizer, length, lines, sos=False, eos=False):\n",
        "    # integer encode sequences\n",
        "    seq = tokenizer.texts_to_sequences(lines)\n",
        "    # pad sequences with 0 values\n",
        "    seq = pad_sequences(seq, maxlen=length, padding='post')\n",
        "    return seq\n",
        "  \n",
        "# model building\n",
        "# split data \n",
        "from sklearn.model_selection import train_test_split\n",
        "train, test = train_test_split(deu_eng, test_size=0.2, random_state = 12)\n",
        "\n",
        "# prepare training data\n",
        "trainX = encode_sequences(deu_tokenizer, deu_length, train[:, 1])\n",
        "trainX_ = encode_sequences(eng_tokenizer, eng_length, train[:, 2])\n",
        "trainY = encode_sequences(eng_tokenizer, eng_length, train[:, 0])\n",
        "\n",
        "# prepare validation data\n",
        "testX = encode_sequences(deu_tokenizer, deu_length, test[:, 1])\n",
        "testX_ = encode_sequences(eng_tokenizer, eng_length, test[:, 2])\n",
        "testY = encode_sequences(eng_tokenizer, eng_length, test[:, 0])"
      ],
      "execution_count": 57,
      "outputs": [
        {
          "output_type": "stream",
          "text": [
            "English Vocabulary Size: 6346\n",
            "Deutch Vocabulary Size: 10501\n"
          ],
          "name": "stdout"
        }
      ]
    },
    {
      "cell_type": "code",
      "metadata": {
        "id": "AZ4mYVSezSpQ",
        "colab_type": "code",
        "colab": {
          "base_uri": "https://localhost:8080/",
          "height": 170
        },
        "outputId": "0f48ef0b-22fa-43cd-8594-5149156bcd22"
      },
      "source": [
        "deu_eng[:, 0], deu_eng[:, 1], deu_eng[:, 2]"
      ],
      "execution_count": 58,
      "outputs": [
        {
          "output_type": "execute_result",
          "data": {
            "text/plain": [
              "(array(['hi <eos>', 'hi <eos>', 'run <eos>', ...,\n",
              "        'he has no specific aim <eos>', 'he has only four pesos <eos>',\n",
              "        'he has stopped smoking <eos>'], dtype='<U537'),\n",
              " array(['hallo', 'grüß gott', 'lauf', ..., 'er hat kein bestimmtes ziel',\n",
              "        'er hat nur vier pesos', 'er hörte mit dem rauchen auf'],\n",
              "       dtype='<U537'),\n",
              " array(['<sos> hi', '<sos> hi', '<sos> run', ...,\n",
              "        '<sos> he has no specific aim', '<sos> he has only four pesos',\n",
              "        '<sos> he has stopped smoking'], dtype='<U537'))"
            ]
          },
          "metadata": {
            "tags": []
          },
          "execution_count": 58
        }
      ]
    },
    {
      "cell_type": "code",
      "metadata": {
        "id": "P0TnfxYFST65",
        "colab_type": "code",
        "colab": {
          "base_uri": "https://localhost:8080/",
          "height": 68
        },
        "outputId": "2529c86e-fd03-4036-ef8a-c6de61e73ee5"
      },
      "source": [
        "trainX[0], trainX_[0], trainY[0]"
      ],
      "execution_count": 59,
      "outputs": [
        {
          "output_type": "execute_result",
          "data": {
            "text/plain": [
              "(array([ 53,   3, 325, 487,   0,   0,   0,   0], dtype=int32),\n",
              " array([  1,  68,   5,  22, 437,   0,   0,   0], dtype=int32),\n",
              " array([ 68,   5,  22, 437,   0,   0,   0,   0], dtype=int32))"
            ]
          },
          "metadata": {
            "tags": []
          },
          "execution_count": 59
        }
      ]
    },
    {
      "cell_type": "code",
      "metadata": {
        "id": "c3a6K0uQ-m4K",
        "colab_type": "code",
        "outputId": "dcd9d9d8-3203-49ae-faa9-019dbccc8ba3",
        "colab": {
          "base_uri": "https://localhost:8080/",
          "height": 1000
        }
      },
      "source": [
        "EPOCHES = 100\n",
        "BS = 32\n",
        "\n",
        "TF = False\n",
        "\n",
        "# build NMT model\n",
        "def define_model_simple(in_vocab, out_vocab, in_timesteps, out_timesteps, units):\n",
        "  input = x = Input(shape=(None,))\n",
        "  x = Embedding(in_vocab, units, input_length=in_timesteps, mask_zero=True)(x)\n",
        "  x, h, c = LSTM(units, return_state=True)(x)\n",
        "  x = Dropout(0.5)(x)\n",
        "  x = RepeatVector(out_timesteps)(x)\n",
        "  x = LSTM(units, return_sequences=True)(x, initial_state = (h, c))\n",
        "  # X = Dropout(0.5)(x)\n",
        "  output = Dense(out_vocab, activation='softmax')(x)\n",
        "  model = Model(input, output)\n",
        "  return model, None, None\n",
        "\n",
        "def define_model_tf(in_vocab, out_vocab, in_timesteps, out_timesteps, units):\n",
        "   # encoder\n",
        "  encoder_inputs = Input(shape=(None,))\n",
        "  encoder_embedding = Embedding(in_vocab, units, input_length=in_timesteps, mask_zero=True)\n",
        "  encoder = encoder_embedding(encoder_inputs)\n",
        "  _, state_h, state_c = LSTM(units, return_state=True)(encoder)\n",
        "  encoder_states = [state_h, state_c]\n",
        "  # decoder\n",
        "  decoder_inputs = Input(shape=(None,))\n",
        "  decoder_embedding = Embedding(out_vocab, units, input_length=out_timesteps, mask_zero=True)\n",
        "  decoder = decoder_embedding(decoder_inputs)\n",
        "  decoder_lstm = LSTM(units, return_sequences=True, return_state=True)\n",
        "  decoder_outputs, _, _ = decoder_lstm(decoder, initial_state=encoder_states)\n",
        "  decoder_dense = Dense(out_vocab, activation='softmax')\n",
        "  decoder_outputs = decoder_dense(decoder_outputs)\n",
        "  model = Model([encoder_inputs, decoder_inputs], decoder_outputs)\n",
        "\n",
        "  #inference model\n",
        "  encoder_model = Model(encoder_inputs, encoder_states)\n",
        "\n",
        "  decoder_state_input_h = Input(shape=(units,))\n",
        "  decoder_state_input_c = Input(shape=(units,))\n",
        "  decoder_states_inputs = [decoder_state_input_h, decoder_state_input_c]\n",
        "  decoder_outputs, h, c = decoder_lstm(decoder, initial_state=decoder_states_inputs)\n",
        "  decoder_states = [h, c]\n",
        "  decoder_outputs = decoder_dense(decoder_outputs)\n",
        "  decoder_model = Model(\n",
        "      [decoder_inputs] + decoder_states_inputs,\n",
        "      [decoder_outputs] + decoder_states)\n",
        "  \n",
        "  return model, encoder_model, decoder_model\n",
        "\n",
        "define_model = define_model_tf if TF else define_model_simple\n",
        "\n",
        "model, encoder_model, decoder_model = define_model(deu_vocab_size, eng_vocab_size, deu_length, eng_length, 512)\n",
        "model.summary()\n",
        "  \n",
        "model.compile(optimizer='adam', loss='sparse_categorical_crossentropy')\n",
        "\n",
        "monitor = 'val_loss'\n",
        "mode = 'min'\n",
        "early_stop = EarlyStopping( patience=5, monitor=monitor, mode=mode, restore_best_weights=True)\n",
        "\n",
        "if TF:\n",
        "  data = [trainX, trainX_], trainY.reshape(*trainY.shape, 1)\n",
        "  validation_data = [testX, testX_], testY.reshape(*testY.shape, 1)\n",
        "else:\n",
        "  data = trainX, trainY.reshape(*trainY.shape, 1)\n",
        "  validation_data = testX, testY.reshape(*testY.shape, 1)\n",
        "\n",
        "history = model.fit(*data, \n",
        "          epochs=EPOCHES, batch_size=BS, \n",
        "          validation_data=validation_data,\n",
        "          callbacks=[early_stop], verbose=1)\n",
        "\n",
        "# plot validation loss vs training loss\n",
        "plt.plot(history.history['loss'])\n",
        "plt.plot(history.history['val_loss'])\n",
        "plt.legend(['train','validation'])\n",
        "plt.show()"
      ],
      "execution_count": 76,
      "outputs": [
        {
          "output_type": "stream",
          "text": [
            "Model: \"model_25\"\n",
            "__________________________________________________________________________________________________\n",
            "Layer (type)                    Output Shape         Param #     Connected to                     \n",
            "==================================================================================================\n",
            "input_32 (InputLayer)           (None, None)         0                                            \n",
            "__________________________________________________________________________________________________\n",
            "embedding_25 (Embedding)        (None, 8, 512)       5376512     input_32[0][0]                   \n",
            "__________________________________________________________________________________________________\n",
            "lstm_31 (LSTM)                  [(None, 512), (None, 2099200     embedding_25[0][0]               \n",
            "__________________________________________________________________________________________________\n",
            "dropout_2 (Dropout)             (None, 512)          0           lstm_31[0][0]                    \n",
            "__________________________________________________________________________________________________\n",
            "repeat_vector_16 (RepeatVector) (None, 8, 512)       0           dropout_2[0][0]                  \n",
            "__________________________________________________________________________________________________\n",
            "lstm_32 (LSTM)                  (None, 8, 512)       2099200     repeat_vector_16[0][0]           \n",
            "                                                                 lstm_31[0][1]                    \n",
            "                                                                 lstm_31[0][2]                    \n",
            "__________________________________________________________________________________________________\n",
            "dense_19 (Dense)                (None, 8, 6346)      3255498     lstm_32[0][0]                    \n",
            "==================================================================================================\n",
            "Total params: 12,830,410\n",
            "Trainable params: 12,830,410\n",
            "Non-trainable params: 0\n",
            "__________________________________________________________________________________________________\n",
            "Train on 40000 samples, validate on 10000 samples\n",
            "Epoch 1/100\n",
            "40000/40000 [==============================] - 63s 2ms/step - loss: 2.6011 - val_loss: 2.0888\n",
            "Epoch 2/100\n",
            "40000/40000 [==============================] - 55s 1ms/step - loss: 1.7443 - val_loss: 1.5838\n",
            "Epoch 3/100\n",
            "40000/40000 [==============================] - 55s 1ms/step - loss: 1.2432 - val_loss: 1.3073\n",
            "Epoch 4/100\n",
            "40000/40000 [==============================] - 56s 1ms/step - loss: 0.8935 - val_loss: 1.1588\n",
            "Epoch 5/100\n",
            "40000/40000 [==============================] - 56s 1ms/step - loss: 0.6547 - val_loss: 1.0839\n",
            "Epoch 6/100\n",
            "40000/40000 [==============================] - 56s 1ms/step - loss: 0.4899 - val_loss: 1.0493\n",
            "Epoch 7/100\n",
            "40000/40000 [==============================] - 56s 1ms/step - loss: 0.3794 - val_loss: 1.0420\n",
            "Epoch 8/100\n",
            "40000/40000 [==============================] - 56s 1ms/step - loss: 0.3037 - val_loss: 1.0479\n",
            "Epoch 9/100\n",
            "40000/40000 [==============================] - 56s 1ms/step - loss: 0.2513 - val_loss: 1.0641\n",
            "Epoch 10/100\n",
            "40000/40000 [==============================] - 56s 1ms/step - loss: 0.2138 - val_loss: 1.0909\n",
            "Epoch 11/100\n",
            "40000/40000 [==============================] - 56s 1ms/step - loss: 0.1882 - val_loss: 1.1024\n",
            "Epoch 12/100\n",
            "40000/40000 [==============================] - 56s 1ms/step - loss: 0.1719 - val_loss: 1.1182\n"
          ],
          "name": "stdout"
        },
        {
          "output_type": "display_data",
          "data": {
            "image/png": "[encoded data removed]",
            "text/plain": [
              "<Figure size 432x288 with 1 Axes>"
            ]
          },
          "metadata": {
            "tags": []
          }
        }
      ]
    },
    {
      "cell_type": "code",
      "metadata": {
        "id": "9tR7csfYuPx9",
        "colab_type": "code",
        "colab": {
          "base_uri": "https://localhost:8080/",
          "height": 68
        },
        "outputId": "1aa6e1cc-dca9-4f7d-d80f-5a1b109dbd3a"
      },
      "source": [
        "trainX[10], trainX_[10], trainY[10]\n",
        "# eng_tokenizer.sequences_to_texts(trainX[10]), eng_tokenizer.sequences_to_texts(trainX_[10]), eng_tokenizer.sequences_to_texts(trainY[10])"
      ],
      "execution_count": 62,
      "outputs": [
        {
          "output_type": "execute_result",
          "data": {
            "text/plain": [
              "(array([22, 75,  4, 76,  0,  0,  0,  0], dtype=int32),\n",
              " array([ 1, 26, 67, 37, 11,  0,  0,  0], dtype=int32),\n",
              " array([26, 67, 37, 11,  0,  0,  0,  0], dtype=int32))"
            ]
          },
          "metadata": {
            "tags": []
          },
          "execution_count": 62
        }
      ]
    },
    {
      "cell_type": "code",
      "metadata": {
        "id": "JTpyAZQWGZ3R",
        "colab_type": "code",
        "colab": {
          "base_uri": "https://localhost:8080/",
          "height": 514
        },
        "outputId": "13002531-668a-4cf5-bd36-62140983aeaa"
      },
      "source": [
        "def translate_sentence(input_seq):\n",
        "  states_value = encoder_model.predict(input_seq, use_multiprocessing=True)\n",
        "  target_seq = np.array([0] * eng_length)\n",
        "  target_seq[0] = eng_tokenizer.word_index['<sos>']\n",
        "  eos = eng_tokenizer.word_index['<eos>']\n",
        "  output_sentence = []\n",
        "\n",
        "  for _ in range(eng_length):\n",
        "      output_tokens, h, c = decoder_model.predict([target_seq.reshape(1, -1)] + states_value, use_multiprocessing=True)\n",
        "      idx = np.argmax(output_tokens[0, 0, :])\n",
        "\n",
        "      if eos == idx:\n",
        "          break\n",
        "\n",
        "      if idx > 0:\n",
        "          word = eng_tokenizer.index_word[idx]\n",
        "          output_sentence.append(word)\n",
        "\n",
        "      target_seq[0] = idx\n",
        "      states_value = [h, c]\n",
        "\n",
        "  return ' '.join(output_sentence)\n",
        "\n",
        "a = np.random.choice(len(testX), 15)\n",
        "x = testX[a]\n",
        "\n",
        "if TF:\n",
        "  translation = []\n",
        "  for i in a:\n",
        "    input_seq = testX[i]\n",
        "    translation.append( translate_sentence(input_seq) )\n",
        "else:\n",
        "  pred_ohe = model.predict(x, use_multiprocessing=True)\n",
        "  pred = np.argmax(pred_ohe, axis=2)\n",
        "  translation = eng_tokenizer.sequences_to_texts(pred)\n",
        "\n",
        "pred_df = pd.DataFrame({'actual' : eng_tokenizer.sequences_to_texts(testY[a]), 'predicted' : translation})\n",
        "pred_df"
      ],
      "execution_count": 75,
      "outputs": [
        {
          "output_type": "execute_result",
          "data": {
            "text/html": [
              "<div>\n",
              "<style scoped>\n",
              "    .dataframe tbody tr th:only-of-type {\n",
              "        vertical-align: middle;\n",
              "    }\n",
              "\n",
              "    .dataframe tbody tr th {\n",
              "        vertical-align: top;\n",
              "    }\n",
              "\n",
              "    .dataframe thead th {\n",
              "        text-align: right;\n",
              "    }\n",
              "</style>\n",
              "<table border=\"1\" class=\"dataframe\">\n",
              "  <thead>\n",
              "    <tr style=\"text-align: right;\">\n",
              "      <th></th>\n",
              "      <th>actual</th>\n",
              "      <th>predicted</th>\n",
              "    </tr>\n",
              "  </thead>\n",
              "  <tbody>\n",
              "    <tr>\n",
              "      <th>0</th>\n",
              "      <td>ill send you a text</td>\n",
              "      <td>ill call you a</td>\n",
              "    </tr>\n",
              "    <tr>\n",
              "      <th>1</th>\n",
              "      <td>we cant fail again</td>\n",
              "      <td>we cant not so here</td>\n",
              "    </tr>\n",
              "    <tr>\n",
              "      <th>2</th>\n",
              "      <td>i thought i was alone</td>\n",
              "      <td>i thought i was alone</td>\n",
              "    </tr>\n",
              "    <tr>\n",
              "      <th>3</th>\n",
              "      <td>were afraid of death</td>\n",
              "      <td>we fear of</td>\n",
              "    </tr>\n",
              "    <tr>\n",
              "      <th>4</th>\n",
              "      <td>hes your father</td>\n",
              "      <td>hes your dad</td>\n",
              "    </tr>\n",
              "    <tr>\n",
              "      <th>5</th>\n",
              "      <td>everybody agrees</td>\n",
              "      <td>everybody agree agree</td>\n",
              "    </tr>\n",
              "    <tr>\n",
              "      <th>6</th>\n",
              "      <td>lets take a rest</td>\n",
              "      <td>lets go a break</td>\n",
              "    </tr>\n",
              "    <tr>\n",
              "      <th>7</th>\n",
              "      <td>tom is very tired</td>\n",
              "      <td>toms is very tired</td>\n",
              "    </tr>\n",
              "    <tr>\n",
              "      <th>8</th>\n",
              "      <td>they are not sisters</td>\n",
              "      <td>they arent twins</td>\n",
              "    </tr>\n",
              "    <tr>\n",
              "      <th>9</th>\n",
              "      <td>whose cats are these</td>\n",
              "      <td>who are are cats</td>\n",
              "    </tr>\n",
              "    <tr>\n",
              "      <th>10</th>\n",
              "      <td>one fork is missing</td>\n",
              "      <td>its is a</td>\n",
              "    </tr>\n",
              "    <tr>\n",
              "      <th>11</th>\n",
              "      <td>tom winked</td>\n",
              "      <td>tom was</td>\n",
              "    </tr>\n",
              "    <tr>\n",
              "      <th>12</th>\n",
              "      <td>im coming for tom</td>\n",
              "      <td>im coming for tom</td>\n",
              "    </tr>\n",
              "    <tr>\n",
              "      <th>13</th>\n",
              "      <td>were both named tom</td>\n",
              "      <td>we both of tom</td>\n",
              "    </tr>\n",
              "    <tr>\n",
              "      <th>14</th>\n",
              "      <td>will you take it</td>\n",
              "      <td>will you take a</td>\n",
              "    </tr>\n",
              "  </tbody>\n",
              "</table>\n",
              "</div>"
            ],
            "text/plain": [
              "                   actual              predicted\n",
              "0     ill send you a text         ill call you a\n",
              "1      we cant fail again    we cant not so here\n",
              "2   i thought i was alone  i thought i was alone\n",
              "3    were afraid of death             we fear of\n",
              "4         hes your father           hes your dad\n",
              "5        everybody agrees  everybody agree agree\n",
              "6        lets take a rest        lets go a break\n",
              "7       tom is very tired     toms is very tired\n",
              "8    they are not sisters       they arent twins\n",
              "9    whose cats are these       who are are cats\n",
              "10    one fork is missing               its is a\n",
              "11             tom winked                tom was\n",
              "12      im coming for tom      im coming for tom\n",
              "13    were both named tom         we both of tom\n",
              "14       will you take it        will you take a"
            ]
          },
          "metadata": {
            "tags": []
          },
          "execution_count": 75
        }
      ]
    }
  ]
}