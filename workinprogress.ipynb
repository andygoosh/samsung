{
  "nbformat": 4,
  "nbformat_minor": 0,
  "metadata": {
    "colab": {
      "name": "workinprogress.ipynb",
      "provenance": [],
      "include_colab_link": true
    },
    "kernelspec": {
      "name": "python3",
      "display_name": "Python 3"
    },
    "accelerator": "GPU"
  },
  "cells": [
    {
      "cell_type": "markdown",
      "metadata": {
        "id": "view-in-github",
        "colab_type": "text"
      },
      "source": [
        "<a href=\"https://colab.research.google.com/github/andygoosh/samsung/blob/master/workinprogress.ipynb\" target=\"_parent\"><img src=\"https://colab.research.google.com/assets/colab-badge.svg\" alt=\"Open In Colab\"/></a>"
      ]
    },
    {
      "cell_type": "code",
      "metadata": {
        "id": "r_Mg8x0gASeS",
        "colab_type": "code",
        "outputId": "c4149213-ab2f-44ae-863c-22865e142649",
        "colab": {
          "base_uri": "https://localhost:8080/",
          "height": 34
        }
      },
      "source": [
        "from pathlib import Path\n",
        "from google.colab import files, drive\n",
        "from collections import defaultdict\n",
        "\n",
        "import re\n",
        "import random as rn\n",
        "import pandas as pd\n",
        "import numpy as np\n",
        "from numpy import array, argmax, random, take\n",
        "import matplotlib.pyplot as plt\n",
        "from collections import Counter\n",
        "%matplotlib inline\n",
        "\n",
        "from sklearn.model_selection import train_test_split\n",
        "\n",
        "import tensorflow as tf\n",
        "from keras.preprocessing.sequence import pad_sequences\n",
        "from keras.preprocessing.text import Tokenizer\n",
        "from keras.models import Sequential, Model\n",
        "from keras.layers import Input, Dense, LSTM, GRU, Embedding, RepeatVector, TimeDistributed\n",
        "from keras.layers import Bidirectional as Bi\n",
        "from keras import optimizers\n",
        "from keras.models import load_model\n",
        "from keras.callbacks import ModelCheckpoint, EarlyStopping\n",
        "\n",
        "RS = 77\n",
        "rn.seed(RS)\n",
        "# tf.random.set_seed(RS)\n",
        "np.random.seed(RS)\n",
        "np.random.RandomState(RS)\n",
        "\n",
        "gpath = Path('/content/gdrive')\n",
        "drive.mount(str(gpath))\n",
        "data_file = gpath / 'My Drive/Samsung' / 'transcriptions'"
      ],
      "execution_count": 25,
      "outputs": [
        {
          "output_type": "stream",
          "text": [
            "Drive already mounted at /content/gdrive; to attempt to forcibly remount, call drive.mount(\"/content/gdrive\", force_remount=True).\n"
          ],
          "name": "stdout"
        }
      ]
    },
    {
      "cell_type": "markdown",
      "metadata": {
        "id": "8KByWPn1DbpS",
        "colab_type": "text"
      },
      "source": [
        "#### Let's look at the data in given file"
      ]
    },
    {
      "cell_type": "code",
      "metadata": {
        "id": "PNLzpBAGDgAI",
        "colab_type": "code",
        "outputId": "d8c380dc-2b35-462f-a570-9663d469660f",
        "colab": {
          "base_uri": "https://localhost:8080/",
          "height": 54
        }
      },
      "source": [
        "with data_file.open() as f:  \n",
        "    print(list(f.readline()))"
      ],
      "execution_count": 26,
      "outputs": [
        {
          "output_type": "stream",
          "text": [
            "['а', 'у', 'к', 'ц', 'и', 'о', 'н', 'ы', ' ', 'н', 'а', ' ', 'д', 'е', 'ш', 'ё', 'в', 'о', 'е', ' ', 'ж', 'и', 'л', 'ь', 'ё', ' ', 'п', 'р', 'о', 'в', 'о', 'д', 'я', 'т', 'с', 'я', ' ', 'р', 'е', 'г', 'у', 'л', 'я', 'р', 'н', 'о', '\\t', '%', '%', ' ', 'a', ' ', 'u', ' ', 'k', ' ', 't', 's', ' ', 'y', ' ', 'o', '1', ' ', 'n', ' ', 'a', 'x', ' ', '#', ' ', 'n', ' ', 'a', 'x', \"'\", ' ', '_', ' ', 'd', \"'\", ' ', \"'\", 'i', ' ', 's', 'h', ' ', 'o', '1', ' ', 'v', ' ', 'a', 'x', \"'\", ' ', 'j', 'a', 'x', ' ', '#', ' ', 'z', 'h', ' ', 'y', \"'\", ' ', 'l', \"'\", ' ', 'j', \"'\", ' ', \"'\", 'o', '1', ' ', '#', ' ', 'p', ' ', 'r', ' ', 'a', ' ', 'v', ' ', 'o', \"'\", '1', ' ', 'd', \"'\", ' ', \"'\", 'a', 'x', ' ', 't', 's', ' ', 't', 's', ' ', 'a', 'x', \"'\", ' ', '#', ' ', 'r', \"'\", ' ', \"'\", 'i', 'x', ' ', 'g', ' ', 'u', \"'\", ' ', 'l', \"'\", ' ', \"'\", 'a', '1', ' ', 'r', ' ', 'n', ' ', 'a', ' ', '%', '%', '\\n']\n"
          ],
          "name": "stdout"
        }
      ]
    },
    {
      "cell_type": "markdown",
      "metadata": {
        "id": "Xmvmq8NkDzzF",
        "colab_type": "text"
      },
      "source": [
        "#### Notice that:\n",
        "1. russian sentence is separated from transcript with '\\t'\n",
        "2. the begining and the end of transcript part are marked by '%%'"
      ]
    },
    {
      "cell_type": "markdown",
      "metadata": {
        "id": "t9inDldeBBz8",
        "colab_type": "text"
      },
      "source": [
        "### Let's read the data and split it into rus and trans"
      ]
    },
    {
      "cell_type": "code",
      "metadata": {
        "id": "ze9lEBcZB4A_",
        "colab_type": "code",
        "outputId": "663828c8-415e-450d-f283-66f383a520f6",
        "colab": {
          "base_uri": "https://localhost:8080/",
          "height": 1000
        }
      },
      "source": [
        "rus_trn = []\n",
        "with data_file.open() as f:  \n",
        "  for line in f: \n",
        "    rus, trn = line.split('\\t')\n",
        "    rus_trn.append([rus.strip(), trn.strip()])\n",
        "\n",
        "print(f'Number of sentences in corpus: {len(rus_trn)}')"
      ],
      "execution_count": 27,
      "outputs": [
        {
          "output_type": "stream",
          "text": [
            "ERROR:tensorflow:==================================\n",
            "Object was never used (type <class 'tensorflow.python.ops.tensor_array_ops.TensorArray'>):\n",
            "<tensorflow.python.ops.tensor_array_ops.TensorArray object at 0x7fd37e9c1748>\n",
            "If you want to mark it as used call its \"mark_used()\" method.\n",
            "It was originally created here:\n",
            "  File \"/usr/local/lib/python3.6/dist-packages/keras/engine/base_layer.py\", line 501, in __call__\n",
            "    inputs=to_list(inputs))  File \"/usr/local/lib/python3.6/dist-packages/keras/layers/recurrent.py\", line 2238, in call\n",
            "    initial_state=initial_state)  File \"/usr/local/lib/python3.6/dist-packages/keras/layers/recurrent.py\", line 674, in call\n",
            "    input_length=timesteps)  File \"/usr/local/lib/python3.6/dist-packages/keras/backend/tensorflow_backend.py\", line 3251, in rnn\n",
            "    **while_loop_kwargs)  File \"/usr/local/lib/python3.6/dist-packages/tensorflow_core/python/util/tf_should_use.py\", line 198, in wrapped\n",
            "    return _add_should_use_warning(fn(*args, **kwargs))\n",
            "==================================\n",
            "ERROR:tensorflow:==================================\n",
            "Object was never used (type <class 'tensorflow.python.ops.tensor_array_ops.TensorArray'>):\n",
            "<tensorflow.python.ops.tensor_array_ops.TensorArray object at 0x7fd37e9cd470>\n",
            "If you want to mark it as used call its \"mark_used()\" method.\n",
            "It was originally created here:\n",
            "  File \"/usr/local/lib/python3.6/dist-packages/keras/engine/base_layer.py\", line 501, in __call__\n",
            "    inputs=to_list(inputs))  File \"/usr/local/lib/python3.6/dist-packages/keras/layers/recurrent.py\", line 2238, in call\n",
            "    initial_state=initial_state)  File \"/usr/local/lib/python3.6/dist-packages/keras/layers/recurrent.py\", line 674, in call\n",
            "    input_length=timesteps)  File \"/usr/local/lib/python3.6/dist-packages/keras/backend/tensorflow_backend.py\", line 3251, in rnn\n",
            "    **while_loop_kwargs)  File \"/usr/local/lib/python3.6/dist-packages/tensorflow_core/python/util/tf_should_use.py\", line 198, in wrapped\n",
            "    return _add_should_use_warning(fn(*args, **kwargs))\n",
            "==================================\n",
            "ERROR:tensorflow:==================================\n",
            "Object was never used (type <class 'tensorflow.python.ops.tensor_array_ops.TensorArray'>):\n",
            "<tensorflow.python.ops.tensor_array_ops.TensorArray object at 0x7fd37e9c1860>\n",
            "If you want to mark it as used call its \"mark_used()\" method.\n",
            "It was originally created here:\n",
            "  File \"/usr/local/lib/python3.6/dist-packages/keras/layers/recurrent.py\", line 674, in call\n",
            "    input_length=timesteps)  File \"/usr/local/lib/python3.6/dist-packages/keras/backend/tensorflow_backend.py\", line 3251, in rnn\n",
            "    **while_loop_kwargs)  File \"/usr/local/lib/python3.6/dist-packages/tensorflow_core/python/util/tf_should_use.py\", line 198, in wrapped\n",
            "    return _add_should_use_warning(fn(*args, **kwargs))  File \"/usr/local/lib/python3.6/dist-packages/tensorflow_core/python/ops/tensor_array_ops.py\", line 1149, in unstack\n",
            "    return self._implementation.unstack(value, name=name)  File \"/usr/local/lib/python3.6/dist-packages/tensorflow_core/python/util/tf_should_use.py\", line 198, in wrapped\n",
            "    return _add_should_use_warning(fn(*args, **kwargs))\n",
            "==================================\n",
            "ERROR:tensorflow:==================================\n",
            "Object was never used (type <class 'tensorflow.python.ops.tensor_array_ops.TensorArray'>):\n",
            "<tensorflow.python.ops.tensor_array_ops.TensorArray object at 0x7fd37e9cd7f0>\n",
            "If you want to mark it as used call its \"mark_used()\" method.\n",
            "It was originally created here:\n",
            "  File \"/usr/local/lib/python3.6/dist-packages/keras/layers/recurrent.py\", line 674, in call\n",
            "    input_length=timesteps)  File \"/usr/local/lib/python3.6/dist-packages/keras/backend/tensorflow_backend.py\", line 3251, in rnn\n",
            "    **while_loop_kwargs)  File \"/usr/local/lib/python3.6/dist-packages/tensorflow_core/python/util/tf_should_use.py\", line 198, in wrapped\n",
            "    return _add_should_use_warning(fn(*args, **kwargs))  File \"/usr/local/lib/python3.6/dist-packages/tensorflow_core/python/ops/tensor_array_ops.py\", line 1149, in unstack\n",
            "    return self._implementation.unstack(value, name=name)  File \"/usr/local/lib/python3.6/dist-packages/tensorflow_core/python/util/tf_should_use.py\", line 198, in wrapped\n",
            "    return _add_should_use_warning(fn(*args, **kwargs))\n",
            "==================================\n",
            "ERROR:tensorflow:==================================\n",
            "Object was never used (type <class 'tensorflow.python.ops.tensor_array_ops.TensorArray'>):\n",
            "<tensorflow.python.ops.tensor_array_ops.TensorArray object at 0x7fd37e9c12b0>\n",
            "If you want to mark it as used call its \"mark_used()\" method.\n",
            "It was originally created here:\n",
            "  File \"/usr/local/lib/python3.6/dist-packages/tensorflow_core/python/util/tf_should_use.py\", line 198, in wrapped\n",
            "    return _add_should_use_warning(fn(*args, **kwargs))  File \"/usr/local/lib/python3.6/dist-packages/tensorflow_core/python/ops/tensor_array_ops.py\", line 1149, in unstack\n",
            "    return self._implementation.unstack(value, name=name)  File \"/usr/local/lib/python3.6/dist-packages/tensorflow_core/python/util/tf_should_use.py\", line 198, in wrapped\n",
            "    return _add_should_use_warning(fn(*args, **kwargs))  File \"/usr/local/lib/python3.6/dist-packages/tensorflow_core/python/ops/tensor_array_ops.py\", line 320, in unstack\n",
            "    indices=math_ops.range(0, num_elements), value=value, name=name)  File \"/usr/local/lib/python3.6/dist-packages/tensorflow_core/python/util/tf_should_use.py\", line 198, in wrapped\n",
            "    return _add_should_use_warning(fn(*args, **kwargs))\n",
            "==================================\n",
            "ERROR:tensorflow:==================================\n",
            "Object was never used (type <class 'tensorflow.python.ops.tensor_array_ops.TensorArray'>):\n",
            "<tensorflow.python.ops.tensor_array_ops.TensorArray object at 0x7fd37e9cd320>\n",
            "If you want to mark it as used call its \"mark_used()\" method.\n",
            "It was originally created here:\n",
            "  File \"/usr/local/lib/python3.6/dist-packages/tensorflow_core/python/util/tf_should_use.py\", line 198, in wrapped\n",
            "    return _add_should_use_warning(fn(*args, **kwargs))  File \"/usr/local/lib/python3.6/dist-packages/tensorflow_core/python/ops/tensor_array_ops.py\", line 1149, in unstack\n",
            "    return self._implementation.unstack(value, name=name)  File \"/usr/local/lib/python3.6/dist-packages/tensorflow_core/python/util/tf_should_use.py\", line 198, in wrapped\n",
            "    return _add_should_use_warning(fn(*args, **kwargs))  File \"/usr/local/lib/python3.6/dist-packages/tensorflow_core/python/ops/tensor_array_ops.py\", line 320, in unstack\n",
            "    indices=math_ops.range(0, num_elements), value=value, name=name)  File \"/usr/local/lib/python3.6/dist-packages/tensorflow_core/python/util/tf_should_use.py\", line 198, in wrapped\n",
            "    return _add_should_use_warning(fn(*args, **kwargs))\n",
            "==================================\n",
            "Number of sentences in corpus: 50277\n"
          ],
          "name": "stdout"
        }
      ]
    },
    {
      "cell_type": "markdown",
      "metadata": {
        "id": "gjFV-XOHBN8o",
        "colab_type": "text"
      },
      "source": [
        "##### Let's look at some sentences\n"
      ]
    },
    {
      "cell_type": "code",
      "metadata": {
        "id": "iaCdAWXfBS-H",
        "colab_type": "code",
        "outputId": "0549e1d1-c818-4d6e-90ac-2850cbc031b4",
        "colab": {
          "base_uri": "https://localhost:8080/",
          "height": 139
        }
      },
      "source": [
        "a,b,c = np.random.choice(len(rus_trn), 3)\n",
        "\n",
        "print(rus_trn[a][0])\n",
        "print(rus_trn[a][1])\n",
        "print(rus_trn[b][0])\n",
        "print(rus_trn[b][1])\n",
        "print(rus_trn[c][0])\n",
        "print(rus_trn[c][1])"
      ],
      "execution_count": 28,
      "outputs": [
        {
          "output_type": "stream",
          "text": [
            "веб-операторы обязаны ознакомить пользователя с политикой по сбору персональной информации\n",
            "%% v' 'e1 p a' p' 'i r a1 t ax r ax # a' b' 'a1 z ax n ax # a z n a k o'1 m' 'ix' t' # p o'1 l' z ax v ax' t' 'ix' l' 'ax # s _ p a' l' 'i'1 t' 'ix k ax' j' # p a _ z b o1 r ux' # p' 'ix r s a n a'1 l' n ax' j' # 'i n f a r m a1 ts ax' i %%\n",
            "цена мартовского контракта на нефть в торговой системе поднялась\n",
            "%% ts y n a1 # m a1 r t ax f s k ax v ax # k a n t r a1 k t ax # n a' _ n' 'e1 f t' # f _ t a r g o1 v ax' j' # s' 'i' s' t' 'e'1 m' 'ix # p ax' d' n' 'i l a'1 s' %%\n",
            "в августе прошлого года был достроен храм христа спасителя\n",
            "%% v _ a1 v g ux' s' t' 'ix # p r o1 sh l ax v ax # g o1 d ax # b y1 l # d a s t r o'1 jax n # h r a1 m # h r' 'i s t a1 # s p a' s' 'i'1 t' 'ix' l' 'a %%\n"
          ],
          "name": "stdout"
        }
      ]
    },
    {
      "cell_type": "markdown",
      "metadata": {
        "id": "PrtVAlRiBYLc",
        "colab_type": "text"
      },
      "source": [
        "#### Notice that words in russian sentence are separated by space while words in transcript are separated:\n",
        "1. by '#' in general case\n",
        "2. by '_' in case of preposition\n",
        "3. by '%% %%' in case of punctuation signs (dash, coma, etc)\n"
      ]
    },
    {
      "cell_type": "markdown",
      "metadata": {
        "id": "qaYfq4rSFVs6",
        "colab_type": "text"
      },
      "source": [
        "#### Let's see if we have dupliates in corpus"
      ]
    },
    {
      "cell_type": "code",
      "metadata": {
        "id": "zoPm3mehFfiN",
        "colab_type": "code",
        "outputId": "b7ba6fda-1978-4dec-f903-bbb1fbe219c2",
        "colab": {
          "base_uri": "https://localhost:8080/",
          "height": 51
        }
      },
      "source": [
        "a = array(rus_trn)\n",
        "seen_rus = Counter(a[:,0])\n",
        "seen_trn = Counter(a[:,1])\n",
        "\n",
        "print(f'Unique rus sentences: {len(seen_rus)} out of {len(rus_trn)}')\n",
        "print(f'Unique trans sentences: {len(seen_trn)} out of {len(rus_trn)}')"
      ],
      "execution_count": 29,
      "outputs": [
        {
          "output_type": "stream",
          "text": [
            "Unique rus sentences: 3131 out of 50277\n",
            "Unique trans sentences: 3171 out of 50277\n"
          ],
          "name": "stdout"
        }
      ]
    },
    {
      "cell_type": "markdown",
      "metadata": {
        "id": "2c_7KSzLGs7v",
        "colab_type": "text"
      },
      "source": [
        "#### We have a lot of duplicates! Only 3131 unique sentenses out of 50K in corpus. Please also note that some russian sentences are transcribed into different transcriptions (will look into that later on)"
      ]
    },
    {
      "cell_type": "code",
      "metadata": {
        "id": "yjR7uun4HeJF",
        "colab_type": "code",
        "outputId": "65122b60-0fe7-40b5-d613-4423e230ddba",
        "colab": {
          "base_uri": "https://localhost:8080/",
          "height": 290
        }
      },
      "source": [
        "lens = [each[1] for each in seen_rus.items()]\n",
        "unq = np.unique(lens)\n",
        "qty = [lens.count(each) for each in unq]\n",
        "pd.DataFrame(qty, index=unq).plot.bar(title = 'Rus sentence repeat times', legend=False);"
      ],
      "execution_count": 30,
      "outputs": [
        {
          "output_type": "display_data",
          "data": {
            "image/png": "[encoded data removed]",
            "text/plain": [
              "<Figure size 432x288 with 1 Axes>"
            ]
          },
          "metadata": {
            "tags": []
          }
        }
      ]
    },
    {
      "cell_type": "markdown",
      "metadata": {
        "id": "a2bIKlVbIAxi",
        "colab_type": "text"
      },
      "source": [
        "#### Most duplicated sentences repeat 12 times, max up to 203 times"
      ]
    },
    {
      "cell_type": "markdown",
      "metadata": {
        "id": "oCi44KJRImmG",
        "colab_type": "text"
      },
      "source": [
        "### Let's read that data while splitting the tokens. We'll count the tokens in each sentence. If the count in rus and trans is different, we'll record it as anomaly\n"
      ]
    },
    {
      "cell_type": "code",
      "metadata": {
        "id": "4fznr-0SJ9nU",
        "colab_type": "code",
        "outputId": "7e4bf1cd-1c73-4830-b571-f22f41c1caeb",
        "colab": {
          "base_uri": "https://localhost:8080/",
          "height": 298
        }
      },
      "source": [
        "rus_l, trn_l, anomaly = [], [], []\n",
        "seen = defaultdict(list)\n",
        "chars = Counter()\n",
        "\n",
        "for j,i in enumerate(rus_trn):\n",
        "  rus = i[0].split()\n",
        "  trn = re.split('#|_|%% %%',i[1])\n",
        "\n",
        "  if i[0] not in seen:\n",
        "    if abs(len(rus) - len(trn)) != 0: \n",
        "      anomaly.append(j)\n",
        "      # print(j, ' ', i[0])\n",
        "      # print( i[1])\n",
        "    \n",
        "    else:\n",
        "      rus_l.append(len(rus))\n",
        "      trn_l.append(len(trn))\n",
        "\n",
        "    chars += Counter(i[0])\n",
        "\n",
        "  seen[i[0]].append(j)\n",
        "\n",
        "print(f'Anomalies: {len(anomaly)}')\n",
        "fig, (ax1, ax2) = plt.subplots(nrows=1,ncols=2,figsize=(12,4))\n",
        "pd.DataFrame({'Number of words in Rus sentence':rus_l}).hist(ax=ax1, bins = 30);\n",
        "pd.DataFrame({'Number of words in Trns sentence':trn_l}).hist(ax=ax2, bins = 30);"
      ],
      "execution_count": 31,
      "outputs": [
        {
          "output_type": "stream",
          "text": [
            "Anomalies: 49\n"
          ],
          "name": "stdout"
        },
        {
          "output_type": "display_data",
          "data": {
            "image/png": "[encoded data removed]",
            "text/plain": [
              "<Figure size 864x288 with 2 Axes>"
            ]
          },
          "metadata": {
            "tags": []
          }
        }
      ]
    },
    {
      "cell_type": "markdown",
      "metadata": {
        "id": "XxTcio_yKSbh",
        "colab_type": "text"
      },
      "source": [
        "#### So we have 49 anomalies out of 3131 samples"
      ]
    },
    {
      "cell_type": "markdown",
      "metadata": {
        "id": "uV_cJH70KuSg",
        "colab_type": "text"
      },
      "source": [
        "### Let's see if we need to clean the data. First let's take a look at rus corpus alphabet"
      ]
    },
    {
      "cell_type": "code",
      "metadata": {
        "id": "LyV9anvZn187",
        "colab_type": "code",
        "outputId": "ab40081d-8578-4075-b5be-996488114632",
        "colab": {
          "base_uri": "https://localhost:8080/",
          "height": 298
        }
      },
      "source": [
        "s = sorted(chars.items())\n",
        "pd.DataFrame(s, index=(e[0]+' ' for e in s)).plot.bar(figsize=(18,4), rot=0, title = 'Char frequencies', legend=False)\n",
        "print(f'Number of times \"-\" used: {chars[\"-\"]}')"
      ],
      "execution_count": 32,
      "outputs": [
        {
          "output_type": "stream",
          "text": [
            "Number of times \"-\" used: 159\n"
          ],
          "name": "stdout"
        },
        {
          "output_type": "display_data",
          "data": {
            "image/png": "[encoded data removed]",
            "text/plain": [
              "<Figure size 1296x288 with 1 Axes>"
            ]
          },
          "metadata": {
            "tags": []
          }
        }
      ]
    },
    {
      "cell_type": "markdown",
      "metadata": {
        "id": "83TZ18z9K8Qy",
        "colab_type": "text"
      },
      "source": [
        "#### Looks good! We neither have punctuations nor capital letters. The only case to check is '-' letter which is used 159 times"
      ]
    },
    {
      "cell_type": "code",
      "metadata": {
        "id": "hEqkK_LRKLb-",
        "colab_type": "code",
        "outputId": "576e8328-08ee-45d9-815b-63201fd2e28a",
        "colab": {
          "base_uri": "https://localhost:8080/",
          "height": 54
        }
      },
      "source": [
        "seen = set()\n",
        "seen_dash = set()\n",
        "dash_words = []\n",
        "for rus,trn in rus_trn:\n",
        "  if rus not in seen:\n",
        "    if '-' in rus:\n",
        "      ru_words = rus.split()\n",
        "      for each in ru_words:\n",
        "        if '-' in each:\n",
        "          if each not in seen_dash:\n",
        "            seen_dash.add(each)\n",
        "            dash_words.append(each)\n",
        "  else:\n",
        "    seen.add(rus)\n",
        "  \n",
        "print(dash_words)"
      ],
      "execution_count": 33,
      "outputs": [
        {
          "output_type": "stream",
          "text": [
            "['анти-обледенитель', 'иридо-диагностика', 'дом-красавец', 'из-за', 'радио-сигналом', 'ноль-три', 'ноль-два', 'мало-обеспеченные', 'шкаф-купе', 'тех-осмотр', 'пресс-службе', 'авто-сервис', 'чуть-чуть', 'аудио-', 'какие-либо', 'де-факто', 'стерео-', 'царь-колокол', 'царь-пушка', 'гео-магнитного', 'электро-катастрофы', 'фигуристы-новобранцы', 'что-то', 'какое-либо', 'веб-операторы', 'воздушно-десантной', 'военно-морских', 'ветераны-афганцы', 'одного-единственного', 'природно-климатические', 'одном-двух', 'санкт-петербурге', 'стран-участниц', 'пять-шесть', 'по-своему', 'матч-реванш', 'словаря-справочника', 'штаб-квартире', 'чем-то', 'чего-то', 'экс-губернатора', 'российско-американский', 'северо-восточных', 'красно-белую', 'какой-нибудь', 'бело-жёлтый', 'карту-схему', 'юго-западный', 'радио-охранное', 'по-прежнему', 'каким-то', 'кино-картины', 'авто-трюки', 'пресс-конференции', 'генерал-прокурором', 'нью-йорке', 'медиа-группы', 'нью-йоркской', 'какие-то', 'санкт-петербурга', 'санкт-петербург', 'памятники-символы', 'премьер-министр', 'взлётно-посадочную', 'какого-нибудь', 'январе-феврале', 'птица-говорун', 'жучки-камнееды', 'школу-комплекс', 'художников-оформителей', 'какое-то', 'купли-продажи', 'каких-либо', 'генерал-лейтенант', 'карты-схемы', 'кому-нибудь', 'детям-инвалидам', 'как-то', 'золото-валютных', 'наконец-то', 'государственно-общественной', 'бизнес-сообщества', 'причинно-следственных', 'по-настоящему', 'юго-западного', 'премьер-министру', 'нью-йорк', 'пропан-бутановые', 'пресс-служба', 'физико-химическими', 'средне-взвешенный', 'интернет-сетью', 'экспресс-опрос', 'либерально-демократической', 'вице-премьер', 'пресс-конференция', 'военно-морского', 'по-другому', 'вице-спикера', 'радио-станции', 'конференц-зале', 'золото-валютные', 'фирм-членов', 'премьер-министром', 'химико-фармацевтической', 'весенне-полевых', 'пресс-секретарь', 'сирийско-израильский', 'юго-восток', 'сьерра-леонэ', 'южно-африканской', 'медиа-мостом', 'диско-марафон', 'видео-', 'две-три', 'экс-посол', 'военно-политического', 'компакт-диски', 'мини-электростанция', 'когда-нибудь', 'кто-то', 'веке-волкодаве', 'из-под', 'капитан-лейтенанта', 'просто-напросто', 'всё-таки', 'пресс-службы', 'южно-сахалинске', 'оперативно-следственная', 'армяно-российского', 'северо-западе']\n"
          ],
          "name": "stdout"
        }
      ]
    },
    {
      "cell_type": "markdown",
      "metadata": {
        "id": "3VHh6JUCPGlb",
        "colab_type": "text"
      },
      "source": [
        "#### Okey, words with dash look fine, we'll consider dash as a normal letter"
      ]
    },
    {
      "cell_type": "markdown",
      "metadata": {
        "id": "G-xAjHqyjh3x",
        "colab_type": "text"
      },
      "source": [
        "### So in order to implement autocoder for transcript we'd need to keep special symbools in transcript such as \"\\_\" and \"%% %%\". So let's create a dictionary of sentences rus <-> trans. So let's recreate the dictionary so \"\\_\" and \"%% %%\" are marked with '#' and remove begin and end markers. Plus to that let's get rid of duplicates.\n"
      ]
    },
    {
      "cell_type": "code",
      "metadata": {
        "id": "7827cG05JrMn",
        "colab_type": "code",
        "colab": {}
      },
      "source": [
        "# !pip3 install transliterate\n",
        "# from transliterate import translit\n",
        "# translit('длавды дылпадыал лыдап', 'ru', reversed=True)"
      ],
      "execution_count": 0,
      "outputs": []
    },
    {
      "cell_type": "code",
      "metadata": {
        "id": "PBgF1l93y39m",
        "colab_type": "code",
        "outputId": "24340397-d45a-4f3e-b948-cf2d30bd6df3",
        "colab": {
          "base_uri": "https://localhost:8080/",
          "height": 298
        }
      },
      "source": [
        "seen_rus = set()\n",
        "seen_trn = set()\n",
        "\n",
        "res, trn_l, rus_l = [], [], []\n",
        "for rus, trn in rus_trn:\n",
        "\n",
        "  if rus not in seen_rus or trn not in seen_trn:\n",
        "      seen_rus.add(rus)\n",
        "      seen_trn.add(trn)\n",
        "\n",
        "      # trn = trn.replace('%% %%', '%% %% #').replace('_', '_ #')[3:-3]\n",
        "      # rus_l.append( len(rus))\n",
        "      # trn_l.append( len(trn.split(' ')))\n",
        "      # res.append([rus, trn.split(' ')])\n",
        "\n",
        "      trn = trn.replace('%% %%', '%% %% #').replace('_', '_ #')[2:-2]\n",
        "      rus_l.append( len(rus.split()))\n",
        "      trn_l.append( len(trn.split('#')))\n",
        "      # res.append([rus.split(), ['<sos>'] + trn.split('#'), ['<sos>'] + trn.split('#')])\n",
        "      res.append([rus.split(), ['<sos>'] + trn.split('#')])\n",
        "\n",
        "rus_trn_new = array(res)\n",
        "trn_length = max(trn_l)\n",
        "rus_length = max(rus_l)\n",
        "print(f'max len rus: {rus_length}, max len trn: {trn_length}')\n",
        "fig, (ax1, ax2) = plt.subplots(nrows=1,ncols=2,figsize=(12,4))\n",
        "pd.DataFrame({'Number of words in Rus sentence':rus_l}).hist(ax=ax1, bins = 30);\n",
        "pd.DataFrame({'Number of words in Trns sentence':trn_l}).hist(ax=ax2, bins = 30);"
      ],
      "execution_count": 48,
      "outputs": [
        {
          "output_type": "stream",
          "text": [
            "max len rus: 15, max len trn: 15\n"
          ],
          "name": "stdout"
        },
        {
          "output_type": "display_data",
          "data": {
            "image/png": "[encoded data removed]",
            "text/plain": [
              "<Figure size 864x288 with 2 Axes>"
            ]
          },
          "metadata": {
            "tags": []
          }
        }
      ]
    },
    {
      "cell_type": "code",
      "metadata": {
        "id": "ID8a8MoaKtVm",
        "colab_type": "code",
        "colab": {
          "base_uri": "https://localhost:8080/",
          "height": 88
        },
        "outputId": "1bc5a062-9388-49ef-87cc-b0f177d0929e"
      },
      "source": [
        "rus_trn_new[0]"
      ],
      "execution_count": 115,
      "outputs": [
        {
          "output_type": "execute_result",
          "data": {
            "text/plain": [
              "array(['аукционы на дешёвое жильё проводятся регулярно',\n",
              "       list(['a', 'u', 'k', 'ts', 'y', 'o1', 'n', 'ax', '#', 'n', \"ax'\", '_', '#', \"d'\", \"'i\", 'sh', 'o1', 'v', \"ax'\", 'jax', '#', 'zh', \"y'\", \"l'\", \"j'\", \"'o1\", '#', 'p', 'r', 'a', 'v', \"o'1\", \"d'\", \"'ax\", 'ts', 'ts', \"ax'\", '#', \"r'\", \"'ix\", 'g', \"u'\", \"l'\", \"'a1\", 'r', 'n', 'a'])],\n",
              "      dtype=object)"
            ]
          },
          "metadata": {
            "tags": []
          },
          "execution_count": 115
        }
      ]
    },
    {
      "cell_type": "markdown",
      "metadata": {
        "id": "CbQ82gWtkTDx",
        "colab_type": "text"
      },
      "source": [
        "### Text to Sequence Conversion"
      ]
    },
    {
      "cell_type": "code",
      "metadata": {
        "id": "nt-GGIUNlkCU",
        "colab_type": "code",
        "colab": {}
      },
      "source": [
        "def tokenization(lines, split=' ', char_level=False):\n",
        "  tokenizer = Tokenizer(filters='', lower=False, split=split, char_level=char_level)\n",
        "  tokenizer.fit_on_texts(lines)\n",
        "  return tokenizer\n",
        "\n",
        "def encode_sequences(tokenizer, length, lines):\n",
        "  seq = tokenizer.texts_to_sequences(lines)\n",
        "  seq = pad_sequences(sequences=seq, maxlen=length, padding='post')\n",
        "  return seq"
      ],
      "execution_count": 0,
      "outputs": []
    },
    {
      "cell_type": "code",
      "metadata": {
        "id": "670W8CC1llqC",
        "colab_type": "code",
        "outputId": "fb095b66-3401-4d4a-fad0-ee8add416539",
        "colab": {
          "base_uri": "https://localhost:8080/",
          "height": 85
        }
      },
      "source": [
        "rus_tokenizer = tokenization(rus_trn_new[:, 0], split='',  char_level=True)\n",
        "rus_vocab_size = len(rus_tokenizer.word_index) + 1\n",
        "trn_tokenizer = tokenization(rus_trn_new[:, 1], split=' ', char_level=False)\n",
        "trn_vocab_size = len(trn_tokenizer.word_index) + 1\n",
        "print(f'Rus Vocabulary Size: {rus_vocab_size}')\n",
        "print(f'Trns Vocabulary Size: {trn_vocab_size}')\n",
        "a = np.random.choice(rus_vocab_size)\n",
        "print(trn_tokenizer.index_word[a])\n",
        "print(rus_tokenizer.index_word[a])"
      ],
      "execution_count": 37,
      "outputs": [
        {
          "output_type": "stream",
          "text": [
            "Rus Vocabulary Size: 12176\n",
            "Trns Vocabulary Size: 13890\n",
            " r' 'i k l a1 m n ax m \n",
            "реестра\n"
          ],
          "name": "stdout"
        }
      ]
    },
    {
      "cell_type": "markdown",
      "metadata": {
        "id": "sgJdhdjvqRA9",
        "colab_type": "text"
      },
      "source": [
        "### Model Building\n"
      ]
    },
    {
      "cell_type": "code",
      "metadata": {
        "id": "WaO755OI17PU",
        "colab_type": "code",
        "outputId": "0ddc5463-cf89-46a1-82d4-34b0646d18fe",
        "colab": {
          "base_uri": "https://localhost:8080/",
          "height": 34
        }
      },
      "source": [
        "rus_trn_new.shape"
      ],
      "execution_count": 121,
      "outputs": [
        {
          "output_type": "execute_result",
          "data": {
            "text/plain": [
              "(3172, 2)"
            ]
          },
          "metadata": {
            "tags": []
          },
          "execution_count": 121
        }
      ]
    },
    {
      "cell_type": "code",
      "metadata": {
        "id": "3XcT-AUGqa5v",
        "colab_type": "code",
        "outputId": "a555346c-a7c4-47f1-e09a-cd1a63436e54",
        "colab": {
          "base_uri": "https://localhost:8080/",
          "height": 34
        }
      },
      "source": [
        "train, test = train_test_split(rus_trn_new, test_size=0.001, random_state = RS)\n",
        "\n",
        "# prepare training data\n",
        "trainX = encode_sequences(rus_tokenizer, rus_length, train[:, 0])\n",
        "trainX_ = encode_sequences(trn_tokenizer, trn_length, train[:, 2])\n",
        "trainY = encode_sequences(trn_tokenizer, trn_length, train[:, 1])\n",
        "\n",
        "# prepare validation data\n",
        "testX = encode_sequences(rus_tokenizer, rus_length, test[:, 0])\n",
        "testX_ = encode_sequences(trn_tokenizer, trn_length, test[:, 2])\n",
        "testY = encode_sequences(trn_tokenizer, trn_length, test[:, 1])\n",
        "\n",
        "trainX.shape, testX.shape"
      ],
      "execution_count": 49,
      "outputs": [
        {
          "output_type": "execute_result",
          "data": {
            "text/plain": [
              "((3168, 15), (4, 15))"
            ]
          },
          "metadata": {
            "tags": []
          },
          "execution_count": 49
        }
      ]
    },
    {
      "cell_type": "code",
      "metadata": {
        "id": "UGzWdS9cips_",
        "colab_type": "code",
        "outputId": "e8087343-63c0-4e41-ddf0-64c17346368a",
        "colab": {
          "base_uri": "https://localhost:8080/",
          "height": 408
        }
      },
      "source": [
        "def convert(lang, tensor):\n",
        "  for t in tensor:\n",
        "    if t!=0:\n",
        "      print(f'{t} ----> {lang.index_word[t]}')\n",
        "\n",
        "a = np.random.choice(200)\n",
        "\n",
        "print (\"Input Language; index to word mapping\")\n",
        "convert(rus_tokenizer, trainX[a])\n",
        "print ()\n",
        "print (\"Target Language; index to word mapping\")\n",
        "convert(trn_tokenizer, trainY[a])"
      ],
      "execution_count": 54,
      "outputs": [
        {
          "output_type": "stream",
          "text": [
            "Input Language; index to word mapping\n",
            "23 ----> сегодня\n",
            "45 ----> мы\n",
            "11491 ----> живём\n",
            "1 ----> в\n",
            "369 ----> одной\n",
            "11492 ----> плоскости\n",
            "39 ----> а\n",
            "77 ----> должны\n",
            "620 ----> жить\n",
            "11493 ----> объёмно\n",
            "\n",
            "Target Language; index to word mapping\n",
            "40 ---->  s' 'i v o'1 d' n' 'ax \n",
            "58 ---->  m y1 \n",
            "13046 ---->  zh y' v' 'o1 m \n",
            "1 ---->  v _ \n",
            "329 ---->  a d n o'1 j' \n",
            "13047 ---->  p l o1 s k ax' s' t' 'i %% %% \n",
            "9 ---->  a _ \n",
            "83 ---->  d a l zh n y1 \n",
            "548 ---->  zh y'1 t' \n",
            "13048 ---->  'a b j' 'o1 m n a \n"
          ],
          "name": "stdout"
        }
      ]
    },
    {
      "cell_type": "markdown",
      "metadata": {
        "id": "u5FSiYilVXvv",
        "colab_type": "text"
      },
      "source": [
        "#### FastText"
      ]
    },
    {
      "cell_type": "code",
      "metadata": {
        "id": "J8eeBkKPCPse",
        "colab_type": "code",
        "outputId": "910e9689-034e-4bcf-ec98-56440f22f26e",
        "colab": {
          "base_uri": "https://localhost:8080/",
          "height": 462
        }
      },
      "source": [
        "from gensim.models.fasttext import FastText\n",
        "rus_model = FastText(size=20)\n",
        "trn_model = FastText(size=20)\n",
        "\n",
        "rus_model.build_vocab(sentences=rus_trn_new[:, 0])\n",
        "trn_model.build_vocab(sentences=rus_trn_new[:, 1])\n",
        "\n",
        "total_rus = rus_model.corpus_total_words\n",
        "total_trn = trn_model.corpus_total_words\n",
        "print(total_rus, total_trn)\n",
        "\n",
        "rus_model.train(sentences=rus_trn_new[:,0], total_examples = rus_model.corpus_count, epochs=rus_model.iter)\n",
        "trn_model.train(sentences=rus_trn_new[:,1], total_examples = trn_model.corpus_count, epochs=trn_model.iter)\n",
        "\n",
        "print(rus_model.wv['и'])\n",
        "print(trn_model.wv[\" i _ \"])\n",
        "\n",
        "rus_model.wv.similar_by_vector(trn_model.wv[\" i _\"])\n",
        "# trn_model.wv.similar_by_vector(rus_model.wv['группа'])"
      ],
      "execution_count": 0,
      "outputs": [
        {
          "output_type": "stream",
          "text": [
            "32448 32395\n"
          ],
          "name": "stdout"
        },
        {
          "output_type": "stream",
          "text": [
            "/usr/local/lib/python3.6/dist-packages/ipykernel_launcher.py:12: DeprecationWarning: Call to deprecated `iter` (Attribute will be removed in 4.0.0, use self.epochs instead).\n",
            "  if sys.path[0] == '':\n",
            "/usr/local/lib/python3.6/dist-packages/ipykernel_launcher.py:13: DeprecationWarning: Call to deprecated `iter` (Attribute will be removed in 4.0.0, use self.epochs instead).\n",
            "  del sys.path[0]\n"
          ],
          "name": "stderr"
        },
        {
          "output_type": "stream",
          "text": [
            "[-0.69065756  0.4192582  -1.2095522  -0.01563328 -0.5254309   0.5680641\n",
            " -0.65832     0.16494563 -0.406429    0.3612038  -1.1729337   0.1500966\n",
            "  0.4335361  -0.03284142 -0.88770705  0.15605743  0.08337434 -0.57792157\n",
            " -1.086083    0.5548296 ]\n",
            "[ 0.56364745  0.70111406 -0.36694923  0.05703797 -0.52206254  0.79194874\n",
            " -1.2288195  -0.7276088   0.29206008  0.5571377  -0.46059236  0.7377961\n",
            " -0.00935896  1.1696087   1.1398089  -0.6379641  -0.2372518  -0.03386954\n",
            " -0.6044104   0.5300397 ]\n"
          ],
          "name": "stdout"
        },
        {
          "output_type": "stream",
          "text": [
            "/usr/local/lib/python3.6/dist-packages/gensim/matutils.py:737: FutureWarning: Conversion of the second argument of issubdtype from `int` to `np.signedinteger` is deprecated. In future, it will be treated as `np.int64 == np.dtype(int).type`.\n",
            "  if np.issubdtype(vec.dtype, np.int):\n"
          ],
          "name": "stderr"
        },
        {
          "output_type": "execute_result",
          "data": {
            "text/plain": [
              "[('я', 0.3086957335472107),\n",
              " ('ряд', 0.30652180314064026),\n",
              " ('им', 0.2938210964202881),\n",
              " ('даёт', 0.2934850752353668),\n",
              " ('кредит', 0.2921362817287445),\n",
              " ('фонд', 0.2906072735786438),\n",
              " ('чечни', 0.28800374269485474),\n",
              " ('вызывает', 0.28710639476776123),\n",
              " ('открытие', 0.28527945280075073),\n",
              " ('роль', 0.28502026200294495)]"
            ]
          },
          "metadata": {
            "tags": []
          },
          "execution_count": 238
        }
      ]
    },
    {
      "cell_type": "code",
      "metadata": {
        "id": "EovHsdWV0JJg",
        "colab_type": "code",
        "outputId": "3f49f479-aa94-4e4f-8912-cccefb9f63d3",
        "colab": {
          "base_uri": "https://localhost:8080/",
          "height": 275
        }
      },
      "source": [
        "trn_model.most_similar(' d' 'ix p u t a1 t ')\n",
        "# rus_model.most_similar('депутат')"
      ],
      "execution_count": 0,
      "outputs": [
        {
          "output_type": "stream",
          "text": [
            "/usr/local/lib/python3.6/dist-packages/ipykernel_launcher.py:1: DeprecationWarning: Call to deprecated `most_similar` (Method will be removed in 4.0.0, use self.wv.most_similar() instead).\n",
            "  \"\"\"Entry point for launching an IPython kernel.\n",
            "/usr/local/lib/python3.6/dist-packages/gensim/matutils.py:737: FutureWarning: Conversion of the second argument of issubdtype from `int` to `np.signedinteger` is deprecated. In future, it will be treated as `np.int64 == np.dtype(int).type`.\n",
            "  if np.issubdtype(vec.dtype, np.int):\n"
          ],
          "name": "stderr"
        },
        {
          "output_type": "execute_result",
          "data": {
            "text/plain": [
              "[(' i _ ', 0.9997418522834778),\n",
              " (\" b' 'u d zh e1 t \", 0.9996572136878967),\n",
              " (\" z' _ \", 0.9996542930603027),\n",
              " (\" n' 'e1 t \", 0.9996196031570435),\n",
              " (' e1 t ax ', 0.9996190071105957),\n",
              " (\" 'i _ \", 0.9996137619018555),\n",
              " (\" s' _ \", 0.9996098875999451),\n",
              " (\" d' 'e'1 n' \", 0.9996077418327332),\n",
              " (\" f s' 'e1 h \", 0.999605119228363),\n",
              " (\" sh' _ \", 0.9996048212051392)]"
            ]
          },
          "metadata": {
            "tags": []
          },
          "execution_count": 250
        }
      ]
    },
    {
      "cell_type": "markdown",
      "metadata": {
        "id": "Pd8zTiADVilf",
        "colab_type": "text"
      },
      "source": [
        "### Moving on"
      ]
    },
    {
      "cell_type": "code",
      "metadata": {
        "id": "_TKxLLWFseI9",
        "colab_type": "code",
        "colab": {}
      },
      "source": [
        "convert(trn_tokenizer, trainY[17])"
      ],
      "execution_count": 0,
      "outputs": []
    },
    {
      "cell_type": "code",
      "metadata": {
        "id": "rwOy43R15_yn",
        "colab_type": "code",
        "outputId": "1b0a2372-b201-4abb-8729-44f6f9031b40",
        "colab": {
          "base_uri": "https://localhost:8080/",
          "height": 1000
        }
      },
      "source": [
        "BS = 128\n",
        "EPOCHES = 500\n",
        "\n",
        "def define_model(in_vocab, out_vocab, in_timesteps, out_timesteps, units):\n",
        "  model = Sequential()\n",
        "  model.add(Embedding(in_vocab, units, input_length=in_timesteps, mask_zero=True))\n",
        "  model.add(LSTM(units))\n",
        "  model.add(RepeatVector(out_timesteps))\n",
        "  model.add(LSTM(units, return_sequences=True))\n",
        "  model.add(TimeDistributed(Dense(out_vocab, activation='softmax')))\n",
        "  return model\n",
        "\n",
        "def define_model1(in_vocab, out_vocab, in_timesteps, out_timesteps, units):\n",
        "    # encoder\n",
        "    encoder_inputs = Input(shape=(None,))\n",
        "    encoder_embedding = Embedding(in_vocab, units, input_length=in_timesteps, mask_zero=True)\n",
        "    encoder = encoder_embedding(encoder_inputs)\n",
        "    _, state_h, state_c = LSTM(units, return_state=True)(encoder)\n",
        "    # decoder\n",
        "    decoder_inputs = Input(shape=(None,))\n",
        "    decoder_embedding = Embedding(out_vocab, units, input_length=out_timesteps, mask_zero=True)\n",
        "    decoder = decoder_embedding(decoder_inputs)\n",
        "    decoder_outputs, _, _ = LSTM(units, return_sequences=True, return_state=True)(decoder, initial_state=(state_h, state_c))\n",
        "    decoder_outputs = Dense(out_vocab, activation='softmax')(decoder_outputs)\n",
        "    return Model([encoder_inputs, decoder_inputs], decoder_outputs)\n",
        "\n",
        "model = define_model(rus_vocab_size, trn_vocab_size, rus_length, trn_length, 512)\n",
        "model.summary()\n",
        "\n",
        "# optimizer = optimizers.RMSprop(lr=0.001)\n",
        "optimizer=optimizers.Adam()\n",
        "model.compile(optimizer=optimizer, loss='sparse_categorical_crossentropy')\n",
        "# model.compile(optimizer=optimizer, loss='categorical_crossentropy')\n",
        "\n",
        "monitor = 'val_loss'\n",
        "mode = 'min'\n",
        "filename = 'model.h5'\n",
        "checkpoint = ModelCheckpoint(filename, monitor=monitor, verbose=1, save_best_only=True, mode=mode)\n",
        "early_stop = EarlyStopping( patience=5, monitor=monitor, mode=mode)\n",
        "\n",
        "# train model\n",
        "history = model.fit(trainX, trainY.reshape(*trainY.shape, 1),\n",
        "# history = model.fit([trainX,trainX_], trainY.reshape(*trainY.shape, 1),\n",
        "                    validation_data=(testX, testY.reshape(*testY.shape, 1)),\n",
        "                    # validation_data=([testX,testX_], testY.reshape(*testY.shape, 1)),\n",
        "                    epochs=EPOCHES, batch_size=BS, callbacks=[], \n",
        "                    verbose=1)\n",
        "\n",
        "plt.plot(history.history['loss'])\n",
        "plt.plot(history.history['val_loss'])\n",
        "plt.legend(['train','validation'])\n",
        "plt.show()"
      ],
      "execution_count": 52,
      "outputs": [
        {
          "output_type": "stream",
          "text": [
            "Model: \"sequential_8\"\n",
            "_________________________________________________________________\n",
            "Layer (type)                 Output Shape              Param #   \n",
            "=================================================================\n",
            "embedding_37 (Embedding)     (None, 15, 512)           6234112   \n",
            "_________________________________________________________________\n",
            "lstm_44 (LSTM)               (None, 512)               2099200   \n",
            "_________________________________________________________________\n",
            "repeat_vector_8 (RepeatVecto (None, 15, 512)           0         \n",
            "_________________________________________________________________\n",
            "lstm_45 (LSTM)               (None, 15, 512)           2099200   \n",
            "_________________________________________________________________\n",
            "time_distributed_4 (TimeDist (None, 15, 13890)         7125570   \n",
            "=================================================================\n",
            "Total params: 17,558,082\n",
            "Trainable params: 17,558,082\n",
            "Non-trainable params: 0\n",
            "_________________________________________________________________\n",
            "Train on 3168 samples, validate on 4 samples\n",
            "Epoch 1/500\n",
            "3168/3168 [==============================] - 15s 5ms/step - loss: 7.1480 - val_loss: 5.9683\n",
            "Epoch 2/500\n",
            "3168/3168 [==============================] - 3s 916us/step - loss: 5.9195 - val_loss: 5.4554\n",
            "Epoch 3/500\n",
            "3168/3168 [==============================] - 3s 891us/step - loss: 5.7376 - val_loss: 5.6131\n",
            "Epoch 4/500\n",
            "3168/3168 [==============================] - 3s 888us/step - loss: 5.6424 - val_loss: 5.4845\n",
            "Epoch 5/500\n",
            "3168/3168 [==============================] - 3s 891us/step - loss: 5.5048 - val_loss: 5.5354\n",
            "Epoch 6/500\n",
            "3168/3168 [==============================] - 3s 888us/step - loss: 5.3856 - val_loss: 5.5479\n",
            "Epoch 7/500\n",
            "3168/3168 [==============================] - 3s 896us/step - loss: 5.2828 - val_loss: 5.5985\n",
            "Epoch 8/500\n",
            "3168/3168 [==============================] - 3s 906us/step - loss: 5.2169 - val_loss: 5.7063\n",
            "Epoch 9/500\n",
            "3168/3168 [==============================] - 3s 897us/step - loss: 5.1400 - val_loss: 5.8062\n",
            "Epoch 10/500\n",
            "3168/3168 [==============================] - 3s 909us/step - loss: 5.0570 - val_loss: 5.9408\n",
            "Epoch 11/500\n",
            "3168/3168 [==============================] - 3s 902us/step - loss: 4.9688 - val_loss: 6.1354\n",
            "Epoch 12/500\n",
            "3168/3168 [==============================] - 3s 895us/step - loss: 4.9054 - val_loss: 6.0929\n",
            "Epoch 13/500\n",
            "3168/3168 [==============================] - 3s 901us/step - loss: 4.8372 - val_loss: 6.0699\n",
            "Epoch 14/500\n",
            "3168/3168 [==============================] - 3s 914us/step - loss: 4.7707 - val_loss: 6.0187\n",
            "Epoch 15/500\n",
            "3168/3168 [==============================] - 3s 899us/step - loss: 4.7133 - val_loss: 6.1533\n",
            "Epoch 16/500\n",
            "3168/3168 [==============================] - 3s 873us/step - loss: 4.6634 - val_loss: 5.9795\n",
            "Epoch 17/500\n",
            "3168/3168 [==============================] - 3s 871us/step - loss: 4.6135 - val_loss: 5.9870\n",
            "Epoch 18/500\n",
            "3168/3168 [==============================] - 3s 874us/step - loss: 4.5991 - val_loss: 6.0664\n",
            "Epoch 19/500\n",
            "3168/3168 [==============================] - 3s 846us/step - loss: 4.5546 - val_loss: 6.0622\n",
            "Epoch 20/500\n",
            "3168/3168 [==============================] - 3s 877us/step - loss: 4.5279 - val_loss: 6.1179\n",
            "Epoch 21/500\n",
            "3168/3168 [==============================] - 3s 864us/step - loss: 4.4972 - val_loss: 5.9503\n",
            "Epoch 22/500\n",
            "3168/3168 [==============================] - 3s 870us/step - loss: 4.4582 - val_loss: 5.9052\n",
            "Epoch 23/500\n",
            "3168/3168 [==============================] - 3s 885us/step - loss: 4.4250 - val_loss: 5.9204\n",
            "Epoch 24/500\n",
            "3168/3168 [==============================] - 3s 865us/step - loss: 4.3949 - val_loss: 5.9219\n",
            "Epoch 25/500\n",
            "3168/3168 [==============================] - 3s 868us/step - loss: 4.3685 - val_loss: 5.8966\n",
            "Epoch 26/500\n",
            "3168/3168 [==============================] - 3s 871us/step - loss: 4.3393 - val_loss: 5.8916\n",
            "Epoch 27/500\n",
            "3168/3168 [==============================] - 3s 870us/step - loss: 4.3081 - val_loss: 5.9015\n",
            "Epoch 28/500\n",
            "3168/3168 [==============================] - 3s 844us/step - loss: 4.2817 - val_loss: 5.8536\n",
            "Epoch 29/500\n",
            "3168/3168 [==============================] - 3s 866us/step - loss: 4.2998 - val_loss: 5.8571\n",
            "Epoch 30/500\n",
            "3168/3168 [==============================] - 3s 861us/step - loss: 4.3034 - val_loss: 5.8481\n",
            "Epoch 31/500\n",
            "3168/3168 [==============================] - 3s 867us/step - loss: 4.2528 - val_loss: 5.8611\n",
            "Epoch 32/500\n",
            "3168/3168 [==============================] - 3s 855us/step - loss: 4.2123 - val_loss: 5.8492\n",
            "Epoch 33/500\n",
            "3168/3168 [==============================] - 3s 864us/step - loss: 4.1788 - val_loss: 5.8493\n",
            "Epoch 34/500\n",
            "3168/3168 [==============================] - 3s 857us/step - loss: 4.1566 - val_loss: 5.8303\n",
            "Epoch 35/500\n",
            "3168/3168 [==============================] - 3s 853us/step - loss: 4.1287 - val_loss: 5.8366\n",
            "Epoch 36/500\n",
            "3168/3168 [==============================] - 3s 879us/step - loss: 4.1039 - val_loss: 5.8494\n",
            "Epoch 37/500\n",
            "3168/3168 [==============================] - 3s 879us/step - loss: 4.0765 - val_loss: 5.8169\n",
            "Epoch 38/500\n",
            "3168/3168 [==============================] - 3s 868us/step - loss: 4.0531 - val_loss: 5.8241\n",
            "Epoch 39/500\n",
            "3168/3168 [==============================] - 3s 861us/step - loss: 4.0266 - val_loss: 5.8317\n",
            "Epoch 40/500\n",
            "3168/3168 [==============================] - 3s 862us/step - loss: 4.0055 - val_loss: 5.8722\n",
            "Epoch 41/500\n",
            "3168/3168 [==============================] - 3s 866us/step - loss: 3.9893 - val_loss: 5.8302\n",
            "Epoch 42/500\n",
            "3168/3168 [==============================] - 3s 869us/step - loss: 3.9692 - val_loss: 5.8328\n",
            "Epoch 43/500\n",
            "3168/3168 [==============================] - 3s 865us/step - loss: 3.9618 - val_loss: 5.8618\n",
            "Epoch 44/500\n",
            "3168/3168 [==============================] - 3s 868us/step - loss: 3.9344 - val_loss: 5.8435\n",
            "Epoch 45/500\n",
            "3168/3168 [==============================] - 3s 873us/step - loss: 3.9030 - val_loss: 5.8487\n",
            "Epoch 46/500\n",
            "3168/3168 [==============================] - 3s 882us/step - loss: 3.8783 - val_loss: 5.8319\n",
            "Epoch 47/500\n",
            "3168/3168 [==============================] - 3s 866us/step - loss: 3.8515 - val_loss: 5.8720\n",
            "Epoch 48/500\n",
            "3168/3168 [==============================] - 3s 858us/step - loss: 3.8292 - val_loss: 5.8585\n",
            "Epoch 49/500\n",
            "3168/3168 [==============================] - 3s 860us/step - loss: 3.8039 - val_loss: 5.8790\n",
            "Epoch 50/500\n",
            "3168/3168 [==============================] - 3s 865us/step - loss: 3.7871 - val_loss: 5.8704\n",
            "Epoch 51/500\n",
            "3168/3168 [==============================] - 3s 858us/step - loss: 3.7693 - val_loss: 5.8871\n",
            "Epoch 52/500\n",
            "3168/3168 [==============================] - 3s 869us/step - loss: 3.7822 - val_loss: 5.8847\n",
            "Epoch 53/500\n",
            "3168/3168 [==============================] - 3s 878us/step - loss: 3.7487 - val_loss: 5.9101\n",
            "Epoch 54/500\n",
            "3168/3168 [==============================] - 3s 867us/step - loss: 3.7124 - val_loss: 5.8885\n",
            "Epoch 55/500\n",
            "3168/3168 [==============================] - 3s 863us/step - loss: 3.6852 - val_loss: 5.9189\n",
            "Epoch 56/500\n",
            "3168/3168 [==============================] - 3s 863us/step - loss: 3.6611 - val_loss: 5.9103\n",
            "Epoch 57/500\n",
            "3168/3168 [==============================] - 3s 857us/step - loss: 3.6380 - val_loss: 5.9123\n",
            "Epoch 58/500\n",
            "3168/3168 [==============================] - 3s 890us/step - loss: 3.6155 - val_loss: 5.9353\n",
            "Epoch 59/500\n",
            "3168/3168 [==============================] - 3s 863us/step - loss: 3.5919 - val_loss: 5.9107\n",
            "Epoch 60/500\n",
            "3168/3168 [==============================] - 3s 870us/step - loss: 3.5716 - val_loss: 5.9199\n",
            "Epoch 61/500\n",
            "3168/3168 [==============================] - 3s 875us/step - loss: 3.5496 - val_loss: 5.9289\n",
            "Epoch 62/500\n",
            "3168/3168 [==============================] - 3s 856us/step - loss: 3.5247 - val_loss: 5.9333\n",
            "Epoch 63/500\n",
            "3168/3168 [==============================] - 3s 866us/step - loss: 3.5002 - val_loss: 5.9515\n",
            "Epoch 64/500\n",
            "3168/3168 [==============================] - 3s 862us/step - loss: 3.4773 - val_loss: 5.9568\n",
            "Epoch 65/500\n",
            "3168/3168 [==============================] - 3s 865us/step - loss: 3.4657 - val_loss: 6.0123\n",
            "Epoch 66/500\n",
            "3168/3168 [==============================] - 3s 863us/step - loss: 3.4580 - val_loss: 5.9772\n",
            "Epoch 67/500\n",
            "3168/3168 [==============================] - 3s 883us/step - loss: 3.4242 - val_loss: 5.9883\n",
            "Epoch 68/500\n",
            "3168/3168 [==============================] - 3s 857us/step - loss: 3.3884 - val_loss: 5.9660\n",
            "Epoch 69/500\n",
            "3168/3168 [==============================] - 3s 878us/step - loss: 3.3616 - val_loss: 5.9694\n",
            "Epoch 70/500\n",
            "3168/3168 [==============================] - 3s 860us/step - loss: 3.3407 - val_loss: 6.0178\n",
            "Epoch 71/500\n",
            "3168/3168 [==============================] - 3s 864us/step - loss: 3.3129 - val_loss: 5.9785\n",
            "Epoch 72/500\n",
            "3168/3168 [==============================] - 3s 853us/step - loss: 3.2858 - val_loss: 6.0044\n",
            "Epoch 73/500\n",
            "3168/3168 [==============================] - 3s 865us/step - loss: 3.2582 - val_loss: 5.9876\n",
            "Epoch 74/500\n",
            "3168/3168 [==============================] - 3s 866us/step - loss: 3.2321 - val_loss: 5.9803\n",
            "Epoch 75/500\n",
            "3168/3168 [==============================] - 3s 861us/step - loss: 3.2066 - val_loss: 5.9922\n",
            "Epoch 76/500\n",
            "3168/3168 [==============================] - 3s 868us/step - loss: 3.1800 - val_loss: 5.9897\n",
            "Epoch 77/500\n",
            "3168/3168 [==============================] - 3s 874us/step - loss: 3.1552 - val_loss: 6.0032\n",
            "Epoch 78/500\n",
            "3168/3168 [==============================] - 3s 859us/step - loss: 3.1417 - val_loss: 5.9781\n",
            "Epoch 79/500\n",
            "3168/3168 [==============================] - 3s 864us/step - loss: 3.1271 - val_loss: 6.0246\n",
            "Epoch 80/500\n",
            "3168/3168 [==============================] - 3s 891us/step - loss: 3.0910 - val_loss: 5.9653\n",
            "Epoch 81/500\n",
            "3168/3168 [==============================] - 3s 859us/step - loss: 3.0507 - val_loss: 5.9848\n",
            "Epoch 82/500\n",
            "3168/3168 [==============================] - 3s 861us/step - loss: 3.0167 - val_loss: 5.9699\n",
            "Epoch 83/500\n",
            "3168/3168 [==============================] - 3s 863us/step - loss: 2.9864 - val_loss: 6.0095\n",
            "Epoch 84/500\n",
            "3168/3168 [==============================] - 3s 856us/step - loss: 2.9582 - val_loss: 5.9828\n",
            "Epoch 85/500\n",
            "3168/3168 [==============================] - 3s 866us/step - loss: 2.9304 - val_loss: 5.9904\n",
            "Epoch 86/500\n",
            "3168/3168 [==============================] - 3s 863us/step - loss: 2.9041 - val_loss: 5.9928\n",
            "Epoch 87/500\n",
            "3168/3168 [==============================] - 3s 879us/step - loss: 2.8784 - val_loss: 6.0025\n",
            "Epoch 88/500\n",
            "3168/3168 [==============================] - 3s 868us/step - loss: 2.8571 - val_loss: 6.0017\n",
            "Epoch 89/500\n",
            "3168/3168 [==============================] - 3s 876us/step - loss: 2.8501 - val_loss: 6.0294\n",
            "Epoch 90/500\n",
            "3168/3168 [==============================] - 3s 865us/step - loss: 2.8370 - val_loss: 6.0178\n",
            "Epoch 91/500\n",
            "3168/3168 [==============================] - 3s 864us/step - loss: 2.8029 - val_loss: 6.0200\n",
            "Epoch 92/500\n",
            "3168/3168 [==============================] - 3s 857us/step - loss: 2.7767 - val_loss: 6.0291\n",
            "Epoch 93/500\n",
            "3168/3168 [==============================] - 3s 859us/step - loss: 2.7477 - val_loss: 6.0391\n",
            "Epoch 94/500\n",
            "3168/3168 [==============================] - 3s 857us/step - loss: 2.7166 - val_loss: 6.0378\n",
            "Epoch 95/500\n",
            "3168/3168 [==============================] - 3s 856us/step - loss: 2.6870 - val_loss: 6.0451\n",
            "Epoch 96/500\n",
            "3168/3168 [==============================] - 3s 852us/step - loss: 2.6558 - val_loss: 6.0601\n",
            "Epoch 97/500\n",
            "3168/3168 [==============================] - 3s 869us/step - loss: 2.6261 - val_loss: 6.0366\n",
            "Epoch 98/500\n",
            "3168/3168 [==============================] - 3s 864us/step - loss: 2.5960 - val_loss: 6.0480\n",
            "Epoch 99/500\n",
            "3168/3168 [==============================] - 3s 866us/step - loss: 2.5734 - val_loss: 6.0598\n",
            "Epoch 100/500\n",
            "3168/3168 [==============================] - 3s 868us/step - loss: 2.5555 - val_loss: 6.0693\n",
            "Epoch 101/500\n",
            "3168/3168 [==============================] - 3s 863us/step - loss: 2.5347 - val_loss: 6.0580\n",
            "Epoch 102/500\n",
            "3168/3168 [==============================] - 3s 876us/step - loss: 2.5120 - val_loss: 6.0086\n",
            "Epoch 103/500\n",
            "3168/3168 [==============================] - 3s 855us/step - loss: 2.4894 - val_loss: 6.0474\n",
            "Epoch 104/500\n",
            "3168/3168 [==============================] - 3s 861us/step - loss: 2.4757 - val_loss: 6.0038\n",
            "Epoch 105/500\n",
            "3168/3168 [==============================] - 3s 857us/step - loss: 2.4470 - val_loss: 6.0632\n",
            "Epoch 106/500\n",
            "3168/3168 [==============================] - 3s 851us/step - loss: 2.4205 - val_loss: 6.0712\n",
            "Epoch 107/500\n",
            "3168/3168 [==============================] - 3s 865us/step - loss: 2.3957 - val_loss: 6.0370\n",
            "Epoch 108/500\n",
            "3168/3168 [==============================] - 3s 860us/step - loss: 2.3761 - val_loss: 6.0689\n",
            "Epoch 109/500\n",
            "3168/3168 [==============================] - 3s 851us/step - loss: 2.3839 - val_loss: 6.1013\n",
            "Epoch 110/500\n",
            "3168/3168 [==============================] - 3s 873us/step - loss: 2.3798 - val_loss: 6.1236\n",
            "Epoch 111/500\n",
            "3168/3168 [==============================] - 3s 883us/step - loss: 2.3871 - val_loss: 6.0461\n",
            "Epoch 112/500\n",
            "3168/3168 [==============================] - 3s 861us/step - loss: 2.3334 - val_loss: 6.1137\n",
            "Epoch 113/500\n",
            "3168/3168 [==============================] - 3s 881us/step - loss: 2.2852 - val_loss: 6.1020\n",
            "Epoch 114/500\n",
            "3168/3168 [==============================] - 3s 882us/step - loss: 2.2532 - val_loss: 6.0739\n",
            "Epoch 115/500\n",
            "3168/3168 [==============================] - 3s 865us/step - loss: 2.2259 - val_loss: 6.0714\n",
            "Epoch 116/500\n",
            "3168/3168 [==============================] - 3s 869us/step - loss: 2.1975 - val_loss: 6.0858\n",
            "Epoch 117/500\n",
            "3168/3168 [==============================] - 3s 861us/step - loss: 2.1767 - val_loss: 6.0885\n",
            "Epoch 118/500\n",
            "3168/3168 [==============================] - 3s 859us/step - loss: 2.1504 - val_loss: 6.0951\n",
            "Epoch 119/500\n",
            "3168/3168 [==============================] - 3s 869us/step - loss: 2.1304 - val_loss: 6.0938\n",
            "Epoch 120/500\n",
            "3168/3168 [==============================] - 3s 853us/step - loss: 2.1064 - val_loss: 6.0898\n",
            "Epoch 121/500\n",
            "3168/3168 [==============================] - 3s 864us/step - loss: 2.0803 - val_loss: 6.0987\n",
            "Epoch 122/500\n",
            "3168/3168 [==============================] - 3s 870us/step - loss: 2.0562 - val_loss: 6.1000\n",
            "Epoch 123/500\n",
            "3168/3168 [==============================] - 3s 868us/step - loss: 2.0366 - val_loss: 6.0955\n",
            "Epoch 124/500\n",
            "3168/3168 [==============================] - 3s 877us/step - loss: 2.0119 - val_loss: 6.0917\n",
            "Epoch 125/500\n",
            "3168/3168 [==============================] - 3s 856us/step - loss: 1.9974 - val_loss: 6.1194\n",
            "Epoch 126/500\n",
            "3168/3168 [==============================] - 3s 868us/step - loss: 1.9878 - val_loss: 6.0802\n",
            "Epoch 127/500\n",
            "3168/3168 [==============================] - 3s 859us/step - loss: 1.9784 - val_loss: 6.1039\n",
            "Epoch 128/500\n",
            "3168/3168 [==============================] - 3s 850us/step - loss: 1.9624 - val_loss: 6.1064\n",
            "Epoch 129/500\n",
            "3168/3168 [==============================] - 3s 869us/step - loss: 1.9410 - val_loss: 6.1131\n",
            "Epoch 130/500\n",
            "3168/3168 [==============================] - 3s 845us/step - loss: 1.9074 - val_loss: 6.0987\n",
            "Epoch 131/500\n",
            "3168/3168 [==============================] - 3s 862us/step - loss: 1.8739 - val_loss: 6.1031\n",
            "Epoch 132/500\n",
            "3168/3168 [==============================] - 3s 872us/step - loss: 1.8452 - val_loss: 6.1695\n",
            "Epoch 133/500\n",
            "3168/3168 [==============================] - 3s 877us/step - loss: 1.8210 - val_loss: 6.1035\n",
            "Epoch 134/500\n",
            "3168/3168 [==============================] - 3s 866us/step - loss: 1.7931 - val_loss: 6.1191\n",
            "Epoch 135/500\n",
            "3168/3168 [==============================] - 3s 866us/step - loss: 1.7674 - val_loss: 6.1358\n",
            "Epoch 136/500\n",
            "3168/3168 [==============================] - 3s 868us/step - loss: 1.7481 - val_loss: 6.1557\n",
            "Epoch 137/500\n",
            "3168/3168 [==============================] - 3s 855us/step - loss: 1.7260 - val_loss: 6.1397\n",
            "Epoch 138/500\n",
            "3168/3168 [==============================] - 3s 857us/step - loss: 1.7032 - val_loss: 6.1337\n",
            "Epoch 139/500\n",
            "3168/3168 [==============================] - 3s 867us/step - loss: 1.6808 - val_loss: 6.1552\n",
            "Epoch 140/500\n",
            "3168/3168 [==============================] - 3s 856us/step - loss: 1.6569 - val_loss: 6.1894\n",
            "Epoch 141/500\n",
            "3168/3168 [==============================] - 3s 860us/step - loss: 1.6314 - val_loss: 6.1613\n",
            "Epoch 142/500\n",
            "3168/3168 [==============================] - 3s 864us/step - loss: 1.6102 - val_loss: 6.1270\n",
            "Epoch 143/500\n",
            "3168/3168 [==============================] - 3s 851us/step - loss: 1.5897 - val_loss: 6.1548\n",
            "Epoch 144/500\n",
            "3168/3168 [==============================] - 3s 850us/step - loss: 1.5688 - val_loss: 6.1450\n",
            "Epoch 145/500\n",
            "3168/3168 [==============================] - 3s 875us/step - loss: 1.5426 - val_loss: 6.1825\n",
            "Epoch 146/500\n",
            "3168/3168 [==============================] - 3s 867us/step - loss: 1.5206 - val_loss: 6.1570\n",
            "Epoch 147/500\n",
            "3168/3168 [==============================] - 3s 852us/step - loss: 1.4961 - val_loss: 6.1818\n",
            "Epoch 148/500\n",
            "3168/3168 [==============================] - 3s 867us/step - loss: 1.4808 - val_loss: 6.1566\n",
            "Epoch 149/500\n",
            "3168/3168 [==============================] - 3s 860us/step - loss: 1.4631 - val_loss: 6.1316\n",
            "Epoch 150/500\n",
            "3168/3168 [==============================] - 3s 871us/step - loss: 1.4370 - val_loss: 6.2343\n",
            "Epoch 151/500\n",
            "3168/3168 [==============================] - 3s 869us/step - loss: 1.4135 - val_loss: 6.1929\n",
            "Epoch 152/500\n",
            "3168/3168 [==============================] - 3s 855us/step - loss: 1.3912 - val_loss: 6.1862\n",
            "Epoch 153/500\n",
            "3168/3168 [==============================] - 3s 871us/step - loss: 1.3664 - val_loss: 6.2422\n",
            "Epoch 154/500\n",
            "3168/3168 [==============================] - 3s 883us/step - loss: 1.3387 - val_loss: 6.2580\n",
            "Epoch 155/500\n",
            "3168/3168 [==============================] - 3s 852us/step - loss: 1.3189 - val_loss: 6.2379\n",
            "Epoch 156/500\n",
            "3168/3168 [==============================] - 3s 858us/step - loss: 1.2948 - val_loss: 6.2660\n",
            "Epoch 157/500\n",
            "3168/3168 [==============================] - 3s 857us/step - loss: 1.2680 - val_loss: 6.2836\n",
            "Epoch 158/500\n",
            "3168/3168 [==============================] - 3s 855us/step - loss: 1.2491 - val_loss: 6.2652\n",
            "Epoch 159/500\n",
            "3168/3168 [==============================] - 3s 852us/step - loss: 1.2310 - val_loss: 6.2755\n",
            "Epoch 160/500\n",
            "3168/3168 [==============================] - 3s 874us/step - loss: 1.2161 - val_loss: 6.2695\n",
            "Epoch 161/500\n",
            "3168/3168 [==============================] - 3s 860us/step - loss: 1.1893 - val_loss: 6.2728\n",
            "Epoch 162/500\n",
            "3168/3168 [==============================] - 3s 853us/step - loss: 1.1624 - val_loss: 6.2760\n",
            "Epoch 163/500\n",
            "3168/3168 [==============================] - 3s 850us/step - loss: 1.1402 - val_loss: 6.2803\n",
            "Epoch 164/500\n",
            "3168/3168 [==============================] - 3s 858us/step - loss: 1.1175 - val_loss: 6.2842\n",
            "Epoch 165/500\n",
            "3168/3168 [==============================] - 3s 870us/step - loss: 1.0933 - val_loss: 6.2763\n",
            "Epoch 166/500\n",
            "3168/3168 [==============================] - 3s 853us/step - loss: 1.0701 - val_loss: 6.2810\n",
            "Epoch 167/500\n",
            "3168/3168 [==============================] - 3s 875us/step - loss: 1.0522 - val_loss: 6.2775\n",
            "Epoch 168/500\n",
            "3168/3168 [==============================] - 3s 871us/step - loss: 1.0314 - val_loss: 6.2856\n",
            "Epoch 169/500\n",
            "3168/3168 [==============================] - 3s 880us/step - loss: 1.0128 - val_loss: 6.2904\n",
            "Epoch 170/500\n",
            "3168/3168 [==============================] - 3s 871us/step - loss: 1.0037 - val_loss: 6.2983\n",
            "Epoch 171/500\n",
            "3168/3168 [==============================] - 3s 865us/step - loss: 0.9917 - val_loss: 6.3245\n",
            "Epoch 172/500\n",
            "3168/3168 [==============================] - 3s 866us/step - loss: 0.9724 - val_loss: 6.2887\n",
            "Epoch 173/500\n",
            "3168/3168 [==============================] - 3s 855us/step - loss: 0.9522 - val_loss: 6.2857\n",
            "Epoch 174/500\n",
            "3168/3168 [==============================] - 3s 859us/step - loss: 0.9273 - val_loss: 6.2869\n",
            "Epoch 175/500\n",
            "3168/3168 [==============================] - 3s 881us/step - loss: 0.9060 - val_loss: 6.3201\n",
            "Epoch 176/500\n",
            "3168/3168 [==============================] - 3s 874us/step - loss: 0.8879 - val_loss: 6.3123\n",
            "Epoch 177/500\n",
            "3168/3168 [==============================] - 3s 866us/step - loss: 0.8660 - val_loss: 6.3119\n",
            "Epoch 178/500\n",
            "3168/3168 [==============================] - 3s 872us/step - loss: 0.8461 - val_loss: 6.2902\n",
            "Epoch 179/500\n",
            "3168/3168 [==============================] - 3s 858us/step - loss: 0.8270 - val_loss: 6.3216\n",
            "Epoch 180/500\n",
            "3168/3168 [==============================] - 3s 857us/step - loss: 0.8085 - val_loss: 6.3153\n",
            "Epoch 181/500\n",
            "3168/3168 [==============================] - 3s 865us/step - loss: 0.7942 - val_loss: 6.3160\n",
            "Epoch 182/500\n",
            "3168/3168 [==============================] - 3s 873us/step - loss: 0.7792 - val_loss: 6.3312\n",
            "Epoch 183/500\n",
            "3168/3168 [==============================] - 3s 878us/step - loss: 0.7635 - val_loss: 6.3858\n",
            "Epoch 184/500\n",
            "3168/3168 [==============================] - 3s 863us/step - loss: 0.7531 - val_loss: 6.3368\n",
            "Epoch 185/500\n",
            "3168/3168 [==============================] - 3s 873us/step - loss: 0.7494 - val_loss: 6.3522\n",
            "Epoch 186/500\n",
            "3168/3168 [==============================] - 3s 881us/step - loss: 0.7419 - val_loss: 6.3302\n",
            "Epoch 187/500\n",
            "3168/3168 [==============================] - 3s 860us/step - loss: 0.7273 - val_loss: 6.3046\n",
            "Epoch 188/500\n",
            "3168/3168 [==============================] - 3s 861us/step - loss: 0.7105 - val_loss: 6.3071\n",
            "Epoch 189/500\n",
            "3168/3168 [==============================] - 3s 875us/step - loss: 0.6910 - val_loss: 6.3257\n",
            "Epoch 190/500\n",
            "3168/3168 [==============================] - 3s 868us/step - loss: 0.6739 - val_loss: 6.3544\n",
            "Epoch 191/500\n",
            "3168/3168 [==============================] - 3s 863us/step - loss: 0.6557 - val_loss: 6.3087\n",
            "Epoch 192/500\n",
            "3168/3168 [==============================] - 3s 860us/step - loss: 0.6430 - val_loss: 6.3225\n",
            "Epoch 193/500\n",
            "3168/3168 [==============================] - 3s 864us/step - loss: 0.6310 - val_loss: 6.3537\n",
            "Epoch 194/500\n",
            "3168/3168 [==============================] - 3s 867us/step - loss: 0.6191 - val_loss: 6.3578\n",
            "Epoch 195/500\n",
            "3168/3168 [==============================] - 3s 858us/step - loss: 0.6013 - val_loss: 6.3168\n",
            "Epoch 196/500\n",
            "3168/3168 [==============================] - 3s 862us/step - loss: 0.5866 - val_loss: 6.3681\n",
            "Epoch 197/500\n",
            "3168/3168 [==============================] - 3s 868us/step - loss: 0.5728 - val_loss: 6.3647\n",
            "Epoch 198/500\n",
            "3168/3168 [==============================] - 3s 881us/step - loss: 0.5607 - val_loss: 6.3719\n",
            "Epoch 199/500\n",
            "3168/3168 [==============================] - 3s 889us/step - loss: 0.5504 - val_loss: 6.3434\n",
            "Epoch 200/500\n",
            "3168/3168 [==============================] - 3s 876us/step - loss: 0.5442 - val_loss: 6.3604\n",
            "Epoch 201/500\n",
            "3168/3168 [==============================] - 3s 865us/step - loss: 0.5387 - val_loss: 6.3965\n",
            "Epoch 202/500\n",
            "3168/3168 [==============================] - 3s 871us/step - loss: 0.5313 - val_loss: 6.3657\n",
            "Epoch 203/500\n",
            "3168/3168 [==============================] - 3s 880us/step - loss: 0.5260 - val_loss: 6.3805\n",
            "Epoch 204/500\n",
            "3168/3168 [==============================] - 3s 870us/step - loss: 0.5190 - val_loss: 6.4107\n",
            "Epoch 205/500\n",
            "3168/3168 [==============================] - 3s 873us/step - loss: 0.5088 - val_loss: 6.3450\n",
            "Epoch 206/500\n",
            "3168/3168 [==============================] - 3s 864us/step - loss: 0.5045 - val_loss: 6.3757\n",
            "Epoch 207/500\n",
            "3168/3168 [==============================] - 3s 852us/step - loss: 0.4952 - val_loss: 6.3620\n",
            "Epoch 208/500\n",
            "3168/3168 [==============================] - 3s 872us/step - loss: 0.4760 - val_loss: 6.3801\n",
            "Epoch 209/500\n",
            "3168/3168 [==============================] - 3s 850us/step - loss: 0.4612 - val_loss: 6.4155\n",
            "Epoch 210/500\n",
            "3168/3168 [==============================] - 3s 861us/step - loss: 0.4506 - val_loss: 6.3765\n",
            "Epoch 211/500\n",
            "3168/3168 [==============================] - 3s 889us/step - loss: 0.4366 - val_loss: 6.3657\n",
            "Epoch 212/500\n",
            "3168/3168 [==============================] - 3s 860us/step - loss: 0.4256 - val_loss: 6.3923\n",
            "Epoch 213/500\n",
            "3168/3168 [==============================] - 3s 855us/step - loss: 0.4160 - val_loss: 6.4163\n",
            "Epoch 214/500\n",
            "3168/3168 [==============================] - 3s 864us/step - loss: 0.4070 - val_loss: 6.4373\n",
            "Epoch 215/500\n",
            "3168/3168 [==============================] - 3s 862us/step - loss: 0.3978 - val_loss: 6.4032\n",
            "Epoch 216/500\n",
            "3168/3168 [==============================] - 3s 871us/step - loss: 0.3884 - val_loss: 6.4451\n",
            "Epoch 217/500\n",
            "3168/3168 [==============================] - 3s 864us/step - loss: 0.3815 - val_loss: 6.4562\n",
            "Epoch 218/500\n",
            "3168/3168 [==============================] - 3s 869us/step - loss: 0.3741 - val_loss: 6.4726\n",
            "Epoch 219/500\n",
            "3168/3168 [==============================] - 3s 876us/step - loss: 0.3649 - val_loss: 6.4233\n",
            "Epoch 220/500\n",
            "3168/3168 [==============================] - 3s 888us/step - loss: 0.3571 - val_loss: 6.4736\n",
            "Epoch 221/500\n",
            "3168/3168 [==============================] - 3s 877us/step - loss: 0.3542 - val_loss: 6.4395\n",
            "Epoch 222/500\n",
            "3168/3168 [==============================] - 3s 867us/step - loss: 0.3524 - val_loss: 6.4581\n",
            "Epoch 223/500\n",
            "3168/3168 [==============================] - 3s 865us/step - loss: 0.3460 - val_loss: 6.4692\n",
            "Epoch 224/500\n",
            "3168/3168 [==============================] - 3s 877us/step - loss: 0.3385 - val_loss: 6.4753\n",
            "Epoch 225/500\n",
            "3168/3168 [==============================] - 3s 862us/step - loss: 0.3302 - val_loss: 6.4167\n",
            "Epoch 226/500\n",
            "3168/3168 [==============================] - 3s 865us/step - loss: 0.3243 - val_loss: 6.4391\n",
            "Epoch 227/500\n",
            "3168/3168 [==============================] - 3s 865us/step - loss: 0.3187 - val_loss: 6.4879\n",
            "Epoch 228/500\n",
            "3168/3168 [==============================] - 3s 861us/step - loss: 0.3103 - val_loss: 6.4892\n",
            "Epoch 229/500\n",
            "3168/3168 [==============================] - 3s 857us/step - loss: 0.3041 - val_loss: 6.4692\n",
            "Epoch 230/500\n",
            "3168/3168 [==============================] - 3s 867us/step - loss: 0.2989 - val_loss: 6.5054\n",
            "Epoch 231/500\n",
            "3168/3168 [==============================] - 3s 863us/step - loss: 0.2954 - val_loss: 6.4557\n",
            "Epoch 232/500\n",
            "3168/3168 [==============================] - 3s 876us/step - loss: 0.2919 - val_loss: 6.4703\n",
            "Epoch 233/500\n",
            "3168/3168 [==============================] - 3s 884us/step - loss: 0.2864 - val_loss: 6.4785\n",
            "Epoch 234/500\n",
            "3168/3168 [==============================] - 3s 861us/step - loss: 0.2845 - val_loss: 6.5909\n",
            "Epoch 235/500\n",
            "3168/3168 [==============================] - 3s 858us/step - loss: 0.2828 - val_loss: 6.4658\n",
            "Epoch 236/500\n",
            "3168/3168 [==============================] - 3s 859us/step - loss: 0.2864 - val_loss: 6.5283\n",
            "Epoch 237/500\n",
            "3168/3168 [==============================] - 3s 862us/step - loss: 0.2880 - val_loss: 6.5580\n",
            "Epoch 238/500\n",
            "3168/3168 [==============================] - 3s 853us/step - loss: 0.2854 - val_loss: 6.5265\n",
            "Epoch 239/500\n",
            "3168/3168 [==============================] - 3s 868us/step - loss: 0.2771 - val_loss: 6.5983\n",
            "Epoch 240/500\n",
            "3168/3168 [==============================] - 3s 860us/step - loss: 0.2655 - val_loss: 6.5862\n",
            "Epoch 241/500\n",
            "3168/3168 [==============================] - 3s 850us/step - loss: 0.2507 - val_loss: 6.5654\n",
            "Epoch 242/500\n",
            "3168/3168 [==============================] - 3s 879us/step - loss: 0.2409 - val_loss: 6.5970\n",
            "Epoch 243/500\n",
            "3168/3168 [==============================] - 3s 850us/step - loss: 0.2306 - val_loss: 6.5979\n",
            "Epoch 244/500\n",
            "3168/3168 [==============================] - 3s 849us/step - loss: 0.2224 - val_loss: 6.6215\n",
            "Epoch 245/500\n",
            "3168/3168 [==============================] - 3s 868us/step - loss: 0.2171 - val_loss: 6.5860\n",
            "Epoch 246/500\n",
            "3168/3168 [==============================] - 3s 854us/step - loss: 0.2192 - val_loss: 6.6252\n",
            "Epoch 247/500\n",
            "3168/3168 [==============================] - 3s 860us/step - loss: 0.2233 - val_loss: 6.5688\n",
            "Epoch 248/500\n",
            "3168/3168 [==============================] - 3s 854us/step - loss: 0.2244 - val_loss: 6.5276\n",
            "Epoch 249/500\n",
            "3168/3168 [==============================] - 3s 843us/step - loss: 0.2282 - val_loss: 6.5535\n",
            "Epoch 250/500\n",
            "3168/3168 [==============================] - 3s 842us/step - loss: 0.2230 - val_loss: 6.5608\n",
            "Epoch 251/500\n",
            "3168/3168 [==============================] - 3s 860us/step - loss: 0.2174 - val_loss: 6.5634\n",
            "Epoch 252/500\n",
            "3168/3168 [==============================] - 3s 859us/step - loss: 0.2140 - val_loss: 6.5849\n",
            "Epoch 253/500\n",
            "3168/3168 [==============================] - 3s 868us/step - loss: 0.2097 - val_loss: 6.5802\n",
            "Epoch 254/500\n",
            "3168/3168 [==============================] - 3s 853us/step - loss: 0.2023 - val_loss: 6.6057\n",
            "Epoch 255/500\n",
            "3168/3168 [==============================] - 3s 876us/step - loss: 0.1940 - val_loss: 6.6086\n",
            "Epoch 256/500\n",
            "3168/3168 [==============================] - 3s 856us/step - loss: 0.1956 - val_loss: 6.5162\n",
            "Epoch 257/500\n",
            "3168/3168 [==============================] - 3s 866us/step - loss: 0.1965 - val_loss: 6.5413\n",
            "Epoch 258/500\n",
            "3168/3168 [==============================] - 3s 864us/step - loss: 0.1909 - val_loss: 6.5628\n",
            "Epoch 259/500\n",
            "3168/3168 [==============================] - 3s 865us/step - loss: 0.1841 - val_loss: 6.5029\n",
            "Epoch 260/500\n",
            "3168/3168 [==============================] - 3s 842us/step - loss: 0.1785 - val_loss: 6.5115\n",
            "Epoch 261/500\n",
            "3168/3168 [==============================] - 3s 851us/step - loss: 0.1745 - val_loss: 6.4824\n",
            "Epoch 262/500\n",
            "3168/3168 [==============================] - 3s 850us/step - loss: 0.1726 - val_loss: 6.5351\n",
            "Epoch 263/500\n",
            "3168/3168 [==============================] - 3s 866us/step - loss: 0.1690 - val_loss: 6.5083\n",
            "Epoch 264/500\n",
            "3168/3168 [==============================] - 3s 868us/step - loss: 0.1649 - val_loss: 6.5876\n",
            "Epoch 265/500\n",
            "3168/3168 [==============================] - 3s 870us/step - loss: 0.1583 - val_loss: 6.5181\n",
            "Epoch 266/500\n",
            "3168/3168 [==============================] - 3s 855us/step - loss: 0.1549 - val_loss: 6.5037\n",
            "Epoch 267/500\n",
            "3168/3168 [==============================] - 3s 856us/step - loss: 0.1507 - val_loss: 6.5348\n",
            "Epoch 268/500\n",
            "3168/3168 [==============================] - 3s 845us/step - loss: 0.1465 - val_loss: 6.5103\n",
            "Epoch 269/500\n",
            "3168/3168 [==============================] - 3s 855us/step - loss: 0.1428 - val_loss: 6.5467\n",
            "Epoch 270/500\n",
            "3168/3168 [==============================] - 3s 859us/step - loss: 0.1397 - val_loss: 6.5345\n",
            "Epoch 271/500\n",
            "3168/3168 [==============================] - 3s 870us/step - loss: 0.1366 - val_loss: 6.5273\n",
            "Epoch 272/500\n",
            "3168/3168 [==============================] - 3s 867us/step - loss: 0.1340 - val_loss: 6.5317\n",
            "Epoch 273/500\n",
            "3168/3168 [==============================] - 3s 850us/step - loss: 0.1312 - val_loss: 6.5491\n",
            "Epoch 274/500\n",
            "3168/3168 [==============================] - 3s 843us/step - loss: 0.1287 - val_loss: 6.5402\n",
            "Epoch 275/500\n",
            "3168/3168 [==============================] - 3s 864us/step - loss: 0.1263 - val_loss: 6.5438\n",
            "Epoch 276/500\n",
            "3168/3168 [==============================] - 3s 858us/step - loss: 0.1239 - val_loss: 6.5358\n",
            "Epoch 277/500\n",
            "3168/3168 [==============================] - 3s 862us/step - loss: 0.1213 - val_loss: 6.5513\n",
            "Epoch 278/500\n",
            "3168/3168 [==============================] - 3s 865us/step - loss: 0.1205 - val_loss: 6.5247\n",
            "Epoch 279/500\n",
            "3168/3168 [==============================] - 3s 857us/step - loss: 0.1223 - val_loss: 6.5429\n",
            "Epoch 280/500\n",
            "3168/3168 [==============================] - 3s 854us/step - loss: 0.1253 - val_loss: 6.5399\n",
            "Epoch 281/500\n",
            "3168/3168 [==============================] - 3s 850us/step - loss: 0.1280 - val_loss: 6.5676\n",
            "Epoch 282/500\n",
            "3168/3168 [==============================] - 3s 855us/step - loss: 0.1292 - val_loss: 6.5344\n",
            "Epoch 283/500\n",
            "3168/3168 [==============================] - 3s 858us/step - loss: 0.1280 - val_loss: 6.5158\n",
            "Epoch 284/500\n",
            "3168/3168 [==============================] - 3s 859us/step - loss: 0.1257 - val_loss: 6.5874\n",
            "Epoch 285/500\n",
            "3168/3168 [==============================] - 3s 855us/step - loss: 0.1263 - val_loss: 6.5477\n",
            "Epoch 286/500\n",
            "3168/3168 [==============================] - 3s 873us/step - loss: 0.1276 - val_loss: 6.5448\n",
            "Epoch 287/500\n",
            "3168/3168 [==============================] - 3s 856us/step - loss: 0.1471 - val_loss: 6.6365\n",
            "Epoch 288/500\n",
            "3168/3168 [==============================] - 3s 851us/step - loss: 0.2283 - val_loss: 6.6841\n",
            "Epoch 289/500\n",
            "3168/3168 [==============================] - 3s 866us/step - loss: 0.4320 - val_loss: 6.6989\n",
            "Epoch 290/500\n",
            "3168/3168 [==============================] - 3s 860us/step - loss: 0.3368 - val_loss: 6.4892\n",
            "Epoch 291/500\n",
            "3168/3168 [==============================] - 3s 855us/step - loss: 0.2222 - val_loss: 6.5316\n",
            "Epoch 292/500\n",
            "3168/3168 [==============================] - 3s 867us/step - loss: 0.1636 - val_loss: 6.5137\n",
            "Epoch 293/500\n",
            "3168/3168 [==============================] - 3s 858us/step - loss: 0.1425 - val_loss: 6.4984\n",
            "Epoch 294/500\n",
            "3168/3168 [==============================] - 3s 855us/step - loss: 0.1261 - val_loss: 6.5098\n",
            "Epoch 295/500\n",
            "3168/3168 [==============================] - 3s 869us/step - loss: 0.1180 - val_loss: 6.5127\n",
            "Epoch 296/500\n",
            "3168/3168 [==============================] - 3s 854us/step - loss: 0.1127 - val_loss: 6.5443\n",
            "Epoch 297/500\n",
            "3168/3168 [==============================] - 3s 851us/step - loss: 0.1084 - val_loss: 6.5375\n",
            "Epoch 298/500\n",
            "3168/3168 [==============================] - 3s 852us/step - loss: 0.1054 - val_loss: 6.5465\n",
            "Epoch 299/500\n",
            "3168/3168 [==============================] - 3s 891us/step - loss: 0.1037 - val_loss: 6.5457\n",
            "Epoch 300/500\n",
            "3168/3168 [==============================] - 3s 863us/step - loss: 0.1013 - val_loss: 6.5519\n",
            "Epoch 301/500\n",
            "3168/3168 [==============================] - 3s 857us/step - loss: 0.1062 - val_loss: 6.5428\n",
            "Epoch 302/500\n",
            "3168/3168 [==============================] - 3s 850us/step - loss: 0.1178 - val_loss: 6.5459\n",
            "Epoch 303/500\n",
            "3168/3168 [==============================] - 3s 847us/step - loss: 0.1091 - val_loss: 6.5515\n",
            "Epoch 304/500\n",
            "3168/3168 [==============================] - 3s 845us/step - loss: 0.1066 - val_loss: 6.5513\n",
            "Epoch 305/500\n",
            "3168/3168 [==============================] - 3s 858us/step - loss: 0.1083 - val_loss: 6.5735\n",
            "Epoch 306/500\n",
            "3168/3168 [==============================] - 3s 863us/step - loss: 0.1055 - val_loss: 6.5724\n",
            "Epoch 307/500\n",
            "3168/3168 [==============================] - 3s 869us/step - loss: 0.1040 - val_loss: 6.5562\n",
            "Epoch 308/500\n",
            "3168/3168 [==============================] - 3s 871us/step - loss: 0.1001 - val_loss: 6.5649\n",
            "Epoch 309/500\n",
            "3168/3168 [==============================] - 3s 857us/step - loss: 0.0990 - val_loss: 6.5664\n",
            "Epoch 310/500\n",
            "3168/3168 [==============================] - 3s 858us/step - loss: 0.0951 - val_loss: 6.5729\n",
            "Epoch 311/500\n",
            "3168/3168 [==============================] - 3s 868us/step - loss: 0.0926 - val_loss: 6.5648\n",
            "Epoch 312/500\n",
            "3168/3168 [==============================] - 3s 859us/step - loss: 0.0906 - val_loss: 6.5545\n",
            "Epoch 313/500\n",
            "3168/3168 [==============================] - 3s 864us/step - loss: 0.0891 - val_loss: 6.5571\n",
            "Epoch 314/500\n",
            "3168/3168 [==============================] - 3s 866us/step - loss: 0.0876 - val_loss: 6.5671\n",
            "Epoch 315/500\n",
            "3168/3168 [==============================] - 3s 875us/step - loss: 0.0861 - val_loss: 6.5636\n",
            "Epoch 316/500\n",
            "3168/3168 [==============================] - 3s 843us/step - loss: 0.0852 - val_loss: 6.5640\n",
            "Epoch 317/500\n",
            "3168/3168 [==============================] - 3s 846us/step - loss: 0.0843 - val_loss: 6.5641\n",
            "Epoch 318/500\n",
            "3168/3168 [==============================] - 3s 859us/step - loss: 0.0829 - val_loss: 6.5684\n",
            "Epoch 319/500\n",
            "3168/3168 [==============================] - 3s 856us/step - loss: 0.0819 - val_loss: 6.5709\n",
            "Epoch 320/500\n",
            "3168/3168 [==============================] - 3s 852us/step - loss: 0.0811 - val_loss: 6.5662\n",
            "Epoch 321/500\n",
            "3168/3168 [==============================] - 3s 876us/step - loss: 0.0803 - val_loss: 6.5611\n",
            "Epoch 322/500\n",
            "3168/3168 [==============================] - 3s 865us/step - loss: 0.0795 - val_loss: 6.5635\n",
            "Epoch 323/500\n",
            "3168/3168 [==============================] - 3s 858us/step - loss: 0.0787 - val_loss: 6.5588\n",
            "Epoch 324/500\n",
            "3168/3168 [==============================] - 3s 860us/step - loss: 0.0780 - val_loss: 6.5665\n",
            "Epoch 325/500\n",
            "3168/3168 [==============================] - 3s 847us/step - loss: 0.0773 - val_loss: 6.5616\n",
            "Epoch 326/500\n",
            "3168/3168 [==============================] - 3s 869us/step - loss: 0.0765 - val_loss: 6.5713\n",
            "Epoch 327/500\n",
            "3168/3168 [==============================] - 3s 854us/step - loss: 0.0759 - val_loss: 6.5677\n",
            "Epoch 328/500\n",
            "3168/3168 [==============================] - 3s 860us/step - loss: 0.0751 - val_loss: 6.5718\n",
            "Epoch 329/500\n",
            "3168/3168 [==============================] - 3s 868us/step - loss: 0.0745 - val_loss: 6.5748\n",
            "Epoch 330/500\n",
            "3168/3168 [==============================] - 3s 869us/step - loss: 0.0739 - val_loss: 6.5653\n",
            "Epoch 331/500\n",
            "3168/3168 [==============================] - 3s 851us/step - loss: 0.0734 - val_loss: 6.5763\n",
            "Epoch 332/500\n",
            "3168/3168 [==============================] - 3s 845us/step - loss: 0.0728 - val_loss: 6.5801\n",
            "Epoch 333/500\n",
            "3168/3168 [==============================] - 3s 858us/step - loss: 0.0723 - val_loss: 6.5772\n",
            "Epoch 334/500\n",
            "3168/3168 [==============================] - 3s 857us/step - loss: 0.0716 - val_loss: 6.5870\n",
            "Epoch 335/500\n",
            "3168/3168 [==============================] - 3s 857us/step - loss: 0.0711 - val_loss: 6.5793\n",
            "Epoch 336/500\n",
            "3168/3168 [==============================] - 3s 850us/step - loss: 0.0707 - val_loss: 6.5858\n",
            "Epoch 337/500\n",
            "3168/3168 [==============================] - 3s 857us/step - loss: 0.0702 - val_loss: 6.5823\n",
            "Epoch 338/500\n",
            "3168/3168 [==============================] - 3s 870us/step - loss: 0.0696 - val_loss: 6.5896\n",
            "Epoch 339/500\n",
            "3168/3168 [==============================] - 3s 867us/step - loss: 0.0691 - val_loss: 6.5808\n",
            "Epoch 340/500\n",
            "3168/3168 [==============================] - 3s 851us/step - loss: 0.0690 - val_loss: 6.5753\n",
            "Epoch 341/500\n",
            "3168/3168 [==============================] - 3s 865us/step - loss: 0.0694 - val_loss: 6.5912\n",
            "Epoch 342/500\n",
            "3168/3168 [==============================] - 3s 872us/step - loss: 0.0714 - val_loss: 6.5974\n",
            "Epoch 343/500\n",
            "3168/3168 [==============================] - 3s 878us/step - loss: 0.0730 - val_loss: 6.5981\n",
            "Epoch 344/500\n",
            "3168/3168 [==============================] - 3s 858us/step - loss: 0.0773 - val_loss: 6.5949\n",
            "Epoch 345/500\n",
            "3168/3168 [==============================] - 3s 864us/step - loss: 0.0826 - val_loss: 6.5892\n",
            "Epoch 346/500\n",
            "3168/3168 [==============================] - 3s 861us/step - loss: 0.0868 - val_loss: 6.6119\n",
            "Epoch 347/500\n",
            "3168/3168 [==============================] - 3s 860us/step - loss: 0.0855 - val_loss: 6.5971\n",
            "Epoch 348/500\n",
            "3168/3168 [==============================] - 3s 848us/step - loss: 0.0833 - val_loss: 6.6028\n",
            "Epoch 349/500\n",
            "3168/3168 [==============================] - 3s 846us/step - loss: 0.0814 - val_loss: 6.5985\n",
            "Epoch 350/500\n",
            "3168/3168 [==============================] - 3s 847us/step - loss: 0.0812 - val_loss: 6.5700\n",
            "Epoch 351/500\n",
            "3168/3168 [==============================] - 3s 857us/step - loss: 0.0814 - val_loss: 6.5554\n",
            "Epoch 352/500\n",
            "3168/3168 [==============================] - 3s 877us/step - loss: 0.0793 - val_loss: 6.6268\n",
            "Epoch 353/500\n",
            "3168/3168 [==============================] - 3s 871us/step - loss: 0.0776 - val_loss: 6.5429\n",
            "Epoch 354/500\n",
            "3168/3168 [==============================] - 3s 861us/step - loss: 0.0755 - val_loss: 6.5499\n",
            "Epoch 355/500\n",
            "3168/3168 [==============================] - 3s 846us/step - loss: 0.0745 - val_loss: 6.5842\n",
            "Epoch 356/500\n",
            "3168/3168 [==============================] - 3s 845us/step - loss: 0.0735 - val_loss: 6.6044\n",
            "Epoch 357/500\n",
            "3168/3168 [==============================] - 3s 856us/step - loss: 0.0726 - val_loss: 6.5776\n",
            "Epoch 358/500\n",
            "3168/3168 [==============================] - 3s 844us/step - loss: 0.0718 - val_loss: 6.5992\n",
            "Epoch 359/500\n",
            "3168/3168 [==============================] - 3s 861us/step - loss: 0.0711 - val_loss: 6.6004\n",
            "Epoch 360/500\n",
            "3168/3168 [==============================] - 3s 853us/step - loss: 0.0707 - val_loss: 6.6106\n",
            "Epoch 361/500\n",
            "3168/3168 [==============================] - 3s 863us/step - loss: 0.0702 - val_loss: 6.6045\n",
            "Epoch 362/500\n",
            "3168/3168 [==============================] - 3s 851us/step - loss: 0.0699 - val_loss: 6.6206\n",
            "Epoch 363/500\n",
            "3168/3168 [==============================] - 3s 844us/step - loss: 0.0700 - val_loss: 6.6121\n",
            "Epoch 364/500\n",
            "3168/3168 [==============================] - 3s 869us/step - loss: 0.0705 - val_loss: 6.5955\n",
            "Epoch 365/500\n",
            "3168/3168 [==============================] - 3s 867us/step - loss: 0.0734 - val_loss: 6.6253\n",
            "Epoch 366/500\n",
            "3168/3168 [==============================] - 3s 840us/step - loss: 0.0777 - val_loss: 6.6273\n",
            "Epoch 367/500\n",
            "3168/3168 [==============================] - 3s 845us/step - loss: 0.0871 - val_loss: 6.6340\n",
            "Epoch 368/500\n",
            "3168/3168 [==============================] - 3s 870us/step - loss: 0.0994 - val_loss: 6.6167\n",
            "Epoch 369/500\n",
            "3168/3168 [==============================] - 3s 866us/step - loss: 0.1264 - val_loss: 6.5882\n",
            "Epoch 370/500\n",
            "3168/3168 [==============================] - 3s 847us/step - loss: 0.1415 - val_loss: 6.5330\n",
            "Epoch 371/500\n",
            "3168/3168 [==============================] - 3s 859us/step - loss: 0.1529 - val_loss: 6.6015\n",
            "Epoch 372/500\n",
            "3168/3168 [==============================] - 3s 857us/step - loss: 0.1537 - val_loss: 6.6028\n",
            "Epoch 373/500\n",
            "3168/3168 [==============================] - 3s 856us/step - loss: 0.1761 - val_loss: 6.6064\n",
            "Epoch 374/500\n",
            "3168/3168 [==============================] - 3s 865us/step - loss: 0.2762 - val_loss: 6.6425\n",
            "Epoch 375/500\n",
            "3168/3168 [==============================] - 3s 849us/step - loss: 0.3070 - val_loss: 6.6983\n",
            "Epoch 376/500\n",
            "3168/3168 [==============================] - 3s 854us/step - loss: 0.2310 - val_loss: 6.5877\n",
            "Epoch 377/500\n",
            "3168/3168 [==============================] - 3s 848us/step - loss: 0.1765 - val_loss: 6.5639\n",
            "Epoch 378/500\n",
            "3168/3168 [==============================] - 3s 860us/step - loss: 0.1405 - val_loss: 6.5357\n",
            "Epoch 379/500\n",
            "3168/3168 [==============================] - 3s 861us/step - loss: 0.1182 - val_loss: 6.5267\n",
            "Epoch 380/500\n",
            "3168/3168 [==============================] - 3s 842us/step - loss: 0.1064 - val_loss: 6.5540\n",
            "Epoch 381/500\n",
            "3168/3168 [==============================] - 3s 851us/step - loss: 0.0979 - val_loss: 6.5375\n",
            "Epoch 382/500\n",
            "3168/3168 [==============================] - 3s 859us/step - loss: 0.0924 - val_loss: 6.5471\n",
            "Epoch 383/500\n",
            "3168/3168 [==============================] - 3s 855us/step - loss: 0.0890 - val_loss: 6.5627\n",
            "Epoch 384/500\n",
            "3168/3168 [==============================] - 3s 844us/step - loss: 0.0866 - val_loss: 6.5741\n",
            "Epoch 385/500\n",
            "3168/3168 [==============================] - 3s 852us/step - loss: 0.0848 - val_loss: 6.5623\n",
            "Epoch 386/500\n",
            "3168/3168 [==============================] - 3s 864us/step - loss: 0.0822 - val_loss: 6.5854\n",
            "Epoch 387/500\n",
            "3168/3168 [==============================] - 3s 875us/step - loss: 0.0807 - val_loss: 6.5845\n",
            "Epoch 388/500\n",
            "3168/3168 [==============================] - 3s 864us/step - loss: 0.0796 - val_loss: 6.5959\n",
            "Epoch 389/500\n",
            "3168/3168 [==============================] - 3s 844us/step - loss: 0.0787 - val_loss: 6.5934\n",
            "Epoch 390/500\n",
            "3168/3168 [==============================] - 3s 852us/step - loss: 0.0780 - val_loss: 6.5952\n",
            "Epoch 391/500\n",
            "3168/3168 [==============================] - 3s 846us/step - loss: 0.0774 - val_loss: 6.6012\n",
            "Epoch 392/500\n",
            "3168/3168 [==============================] - 3s 857us/step - loss: 0.0769 - val_loss: 6.6043\n",
            "Epoch 393/500\n",
            "3168/3168 [==============================] - 3s 850us/step - loss: 0.0764 - val_loss: 6.6161\n",
            "Epoch 394/500\n",
            "3168/3168 [==============================] - 3s 847us/step - loss: 0.0759 - val_loss: 6.6149\n",
            "Epoch 395/500\n",
            "3168/3168 [==============================] - 3s 854us/step - loss: 0.0756 - val_loss: 6.6147\n",
            "Epoch 396/500\n",
            "3168/3168 [==============================] - 3s 858us/step - loss: 0.0751 - val_loss: 6.6150\n",
            "Epoch 397/500\n",
            "3168/3168 [==============================] - 3s 869us/step - loss: 0.0749 - val_loss: 6.6246\n",
            "Epoch 398/500\n",
            "3168/3168 [==============================] - 3s 845us/step - loss: 0.0748 - val_loss: 6.6197\n",
            "Epoch 399/500\n",
            "3168/3168 [==============================] - 3s 844us/step - loss: 0.0750 - val_loss: 6.6278\n",
            "Epoch 400/500\n",
            "3168/3168 [==============================] - 3s 842us/step - loss: 0.0743 - val_loss: 6.6312\n",
            "Epoch 401/500\n",
            "3168/3168 [==============================] - 3s 860us/step - loss: 0.0738 - val_loss: 6.6344\n",
            "Epoch 402/500\n",
            "3168/3168 [==============================] - 3s 850us/step - loss: 0.0733 - val_loss: 6.6411\n",
            "Epoch 403/500\n",
            "3168/3168 [==============================] - 3s 857us/step - loss: 0.0730 - val_loss: 6.6328\n",
            "Epoch 404/500\n",
            "3168/3168 [==============================] - 3s 852us/step - loss: 0.0727 - val_loss: 6.6428\n",
            "Epoch 405/500\n",
            "3168/3168 [==============================] - 3s 843us/step - loss: 0.0727 - val_loss: 6.6443\n",
            "Epoch 406/500\n",
            "3168/3168 [==============================] - 3s 860us/step - loss: 0.0729 - val_loss: 6.6453\n",
            "Epoch 407/500\n",
            "3168/3168 [==============================] - 3s 852us/step - loss: 0.0729 - val_loss: 6.6475\n",
            "Epoch 408/500\n",
            "3168/3168 [==============================] - 3s 842us/step - loss: 0.0732 - val_loss: 6.6548\n",
            "Epoch 409/500\n",
            "3168/3168 [==============================] - 3s 864us/step - loss: 0.0742 - val_loss: 6.6457\n",
            "Epoch 410/500\n",
            "3168/3168 [==============================] - 3s 851us/step - loss: 0.0756 - val_loss: 6.6555\n",
            "Epoch 411/500\n",
            "3168/3168 [==============================] - 3s 855us/step - loss: 0.0757 - val_loss: 6.6744\n",
            "Epoch 412/500\n",
            "3168/3168 [==============================] - 3s 854us/step - loss: 0.0754 - val_loss: 6.6701\n",
            "Epoch 413/500\n",
            "3168/3168 [==============================] - 3s 850us/step - loss: 0.0738 - val_loss: 6.6619\n",
            "Epoch 414/500\n",
            "3168/3168 [==============================] - 3s 851us/step - loss: 0.0728 - val_loss: 6.6640\n",
            "Epoch 415/500\n",
            "3168/3168 [==============================] - 3s 846us/step - loss: 0.0725 - val_loss: 6.6670\n",
            "Epoch 416/500\n",
            "3168/3168 [==============================] - 3s 850us/step - loss: 0.0719 - val_loss: 6.6750\n",
            "Epoch 417/500\n",
            "3168/3168 [==============================] - 3s 863us/step - loss: 0.0718 - val_loss: 6.6734\n",
            "Epoch 418/500\n",
            "3168/3168 [==============================] - 3s 864us/step - loss: 0.0714 - val_loss: 6.6685\n",
            "Epoch 419/500\n",
            "3168/3168 [==============================] - 3s 856us/step - loss: 0.0712 - val_loss: 6.6833\n",
            "Epoch 420/500\n",
            "3168/3168 [==============================] - 3s 858us/step - loss: 0.0710 - val_loss: 6.6770\n",
            "Epoch 421/500\n",
            "3168/3168 [==============================] - 3s 838us/step - loss: 0.0710 - val_loss: 6.6669\n",
            "Epoch 422/500\n",
            "3168/3168 [==============================] - 3s 857us/step - loss: 0.0706 - val_loss: 6.6743\n",
            "Epoch 423/500\n",
            "3168/3168 [==============================] - 3s 846us/step - loss: 0.0706 - val_loss: 6.6771\n",
            "Epoch 424/500\n",
            "3168/3168 [==============================] - 3s 860us/step - loss: 0.0704 - val_loss: 6.6788\n",
            "Epoch 425/500\n",
            "3168/3168 [==============================] - 3s 854us/step - loss: 0.0702 - val_loss: 6.6819\n",
            "Epoch 426/500\n",
            "3168/3168 [==============================] - 3s 846us/step - loss: 0.0701 - val_loss: 6.6770\n",
            "Epoch 427/500\n",
            "3168/3168 [==============================] - 3s 877us/step - loss: 0.0699 - val_loss: 6.6857\n",
            "Epoch 428/500\n",
            "3168/3168 [==============================] - 3s 873us/step - loss: 0.0699 - val_loss: 6.6833\n",
            "Epoch 429/500\n",
            "3168/3168 [==============================] - 3s 857us/step - loss: 0.0698 - val_loss: 6.6871\n",
            "Epoch 430/500\n",
            "3168/3168 [==============================] - 3s 864us/step - loss: 0.0697 - val_loss: 6.6931\n",
            "Epoch 431/500\n",
            "3168/3168 [==============================] - 3s 857us/step - loss: 0.0696 - val_loss: 6.6881\n",
            "Epoch 432/500\n",
            "3168/3168 [==============================] - 3s 867us/step - loss: 0.0695 - val_loss: 6.6885\n",
            "Epoch 433/500\n",
            "3168/3168 [==============================] - 3s 858us/step - loss: 0.0693 - val_loss: 6.6900\n",
            "Epoch 434/500\n",
            "3168/3168 [==============================] - 3s 847us/step - loss: 0.0693 - val_loss: 6.6923\n",
            "Epoch 435/500\n",
            "3168/3168 [==============================] - 3s 850us/step - loss: 0.0691 - val_loss: 6.6954\n",
            "Epoch 436/500\n",
            "3168/3168 [==============================] - 3s 851us/step - loss: 0.0690 - val_loss: 6.7045\n",
            "Epoch 437/500\n",
            "3168/3168 [==============================] - 3s 852us/step - loss: 0.0690 - val_loss: 6.7011\n",
            "Epoch 438/500\n",
            "3168/3168 [==============================] - 3s 864us/step - loss: 0.0689 - val_loss: 6.7063\n",
            "Epoch 439/500\n",
            "3168/3168 [==============================] - 3s 859us/step - loss: 0.0687 - val_loss: 6.7030\n",
            "Epoch 440/500\n",
            "3168/3168 [==============================] - 3s 840us/step - loss: 0.0688 - val_loss: 6.6981\n",
            "Epoch 441/500\n",
            "3168/3168 [==============================] - 3s 869us/step - loss: 0.0687 - val_loss: 6.7038\n",
            "Epoch 442/500\n",
            "3168/3168 [==============================] - 3s 843us/step - loss: 0.0685 - val_loss: 6.7068\n",
            "Epoch 443/500\n",
            "3168/3168 [==============================] - 3s 856us/step - loss: 0.0685 - val_loss: 6.7091\n",
            "Epoch 444/500\n",
            "3168/3168 [==============================] - 3s 857us/step - loss: 0.0684 - val_loss: 6.7086\n",
            "Epoch 445/500\n",
            "3168/3168 [==============================] - 3s 862us/step - loss: 0.0682 - val_loss: 6.7071\n",
            "Epoch 446/500\n",
            "3168/3168 [==============================] - 3s 861us/step - loss: 0.0683 - val_loss: 6.7165\n",
            "Epoch 447/500\n",
            "3168/3168 [==============================] - 3s 875us/step - loss: 0.0681 - val_loss: 6.7186\n",
            "Epoch 448/500\n",
            "3168/3168 [==============================] - 3s 846us/step - loss: 0.0681 - val_loss: 6.7166\n",
            "Epoch 449/500\n",
            "3168/3168 [==============================] - 3s 863us/step - loss: 0.0680 - val_loss: 6.7132\n",
            "Epoch 450/500\n",
            "3168/3168 [==============================] - 3s 870us/step - loss: 0.0679 - val_loss: 6.7180\n",
            "Epoch 451/500\n",
            "3168/3168 [==============================] - 3s 845us/step - loss: 0.0678 - val_loss: 6.7154\n",
            "Epoch 452/500\n",
            "3168/3168 [==============================] - 3s 856us/step - loss: 0.0679 - val_loss: 6.7211\n",
            "Epoch 453/500\n",
            "3168/3168 [==============================] - 3s 857us/step - loss: 0.0677 - val_loss: 6.7239\n",
            "Epoch 454/500\n",
            "3168/3168 [==============================] - 3s 878us/step - loss: 0.0677 - val_loss: 6.7279\n",
            "Epoch 455/500\n",
            "3168/3168 [==============================] - 3s 853us/step - loss: 0.0675 - val_loss: 6.7269\n",
            "Epoch 456/500\n",
            "3168/3168 [==============================] - 3s 861us/step - loss: 0.0675 - val_loss: 6.7242\n",
            "Epoch 457/500\n",
            "3168/3168 [==============================] - 3s 852us/step - loss: 0.0674 - val_loss: 6.7312\n",
            "Epoch 458/500\n",
            "3168/3168 [==============================] - 3s 845us/step - loss: 0.0674 - val_loss: 6.7268\n",
            "Epoch 459/500\n",
            "3168/3168 [==============================] - 3s 839us/step - loss: 0.0672 - val_loss: 6.7303\n",
            "Epoch 460/500\n",
            "3168/3168 [==============================] - 3s 849us/step - loss: 0.0671 - val_loss: 6.7303\n",
            "Epoch 461/500\n",
            "3168/3168 [==============================] - 3s 851us/step - loss: 0.0672 - val_loss: 6.7339\n",
            "Epoch 462/500\n",
            "3168/3168 [==============================] - 3s 860us/step - loss: 0.0670 - val_loss: 6.7271\n",
            "Epoch 463/500\n",
            "3168/3168 [==============================] - 3s 888us/step - loss: 0.0671 - val_loss: 6.7306\n",
            "Epoch 464/500\n",
            "3168/3168 [==============================] - 3s 850us/step - loss: 0.0669 - val_loss: 6.7418\n",
            "Epoch 465/500\n",
            "3168/3168 [==============================] - 3s 844us/step - loss: 0.0669 - val_loss: 6.7333\n",
            "Epoch 466/500\n",
            "3168/3168 [==============================] - 3s 847us/step - loss: 0.0668 - val_loss: 6.7367\n",
            "Epoch 467/500\n",
            "3168/3168 [==============================] - 3s 852us/step - loss: 0.0668 - val_loss: 6.7497\n",
            "Epoch 468/500\n",
            "3168/3168 [==============================] - 3s 851us/step - loss: 0.0668 - val_loss: 6.7436\n",
            "Epoch 469/500\n",
            "3168/3168 [==============================] - 3s 853us/step - loss: 0.0667 - val_loss: 6.7499\n",
            "Epoch 470/500\n",
            "3168/3168 [==============================] - 3s 848us/step - loss: 0.0666 - val_loss: 6.7426\n",
            "Epoch 471/500\n",
            "3168/3168 [==============================] - 3s 857us/step - loss: 0.0666 - val_loss: 6.7504\n",
            "Epoch 472/500\n",
            "3168/3168 [==============================] - 3s 849us/step - loss: 0.0666 - val_loss: 6.7417\n",
            "Epoch 473/500\n",
            "3168/3168 [==============================] - 3s 854us/step - loss: 0.0665 - val_loss: 6.7463\n",
            "Epoch 474/500\n",
            "3168/3168 [==============================] - 3s 852us/step - loss: 0.0665 - val_loss: 6.7398\n",
            "Epoch 475/500\n",
            "3168/3168 [==============================] - 3s 851us/step - loss: 0.0665 - val_loss: 6.7527\n",
            "Epoch 476/500\n",
            "3168/3168 [==============================] - 3s 878us/step - loss: 0.0665 - val_loss: 6.7503\n",
            "Epoch 477/500\n",
            "3168/3168 [==============================] - 3s 849us/step - loss: 0.0662 - val_loss: 6.7522\n",
            "Epoch 478/500\n",
            "3168/3168 [==============================] - 3s 843us/step - loss: 0.0662 - val_loss: 6.7688\n",
            "Epoch 479/500\n",
            "3168/3168 [==============================] - 3s 860us/step - loss: 0.0666 - val_loss: 6.7709\n",
            "Epoch 480/500\n",
            "3168/3168 [==============================] - 3s 856us/step - loss: 0.0672 - val_loss: 6.7595\n",
            "Epoch 481/500\n",
            "3168/3168 [==============================] - 3s 838us/step - loss: 0.0732 - val_loss: 6.7517\n",
            "Epoch 482/500\n",
            "3168/3168 [==============================] - 3s 858us/step - loss: 0.0762 - val_loss: 6.7241\n",
            "Epoch 483/500\n",
            "3168/3168 [==============================] - 3s 858us/step - loss: 0.1028 - val_loss: 6.8693\n",
            "Epoch 484/500\n",
            "3168/3168 [==============================] - 3s 850us/step - loss: 0.3001 - val_loss: 6.7853\n",
            "Epoch 485/500\n",
            "3168/3168 [==============================] - 3s 875us/step - loss: 0.4549 - val_loss: 6.8196\n",
            "Epoch 486/500\n",
            "3168/3168 [==============================] - 3s 857us/step - loss: 0.3321 - val_loss: 6.7503\n",
            "Epoch 487/500\n",
            "3168/3168 [==============================] - 3s 847us/step - loss: 0.2335 - val_loss: 6.6875\n",
            "Epoch 488/500\n",
            "3168/3168 [==============================] - 3s 848us/step - loss: 0.1664 - val_loss: 6.7268\n",
            "Epoch 489/500\n",
            "3168/3168 [==============================] - 3s 860us/step - loss: 0.1375 - val_loss: 6.6764\n",
            "Epoch 490/500\n",
            "3168/3168 [==============================] - 3s 858us/step - loss: 0.1156 - val_loss: 6.6921\n",
            "Epoch 491/500\n",
            "3168/3168 [==============================] - 3s 841us/step - loss: 0.1021 - val_loss: 6.6673\n",
            "Epoch 492/500\n",
            "3168/3168 [==============================] - 3s 853us/step - loss: 0.0948 - val_loss: 6.6975\n",
            "Epoch 493/500\n",
            "3168/3168 [==============================] - 3s 853us/step - loss: 0.0900 - val_loss: 6.7007\n",
            "Epoch 494/500\n",
            "3168/3168 [==============================] - 3s 854us/step - loss: 0.0869 - val_loss: 6.7199\n",
            "Epoch 495/500\n",
            "3168/3168 [==============================] - 3s 845us/step - loss: 0.0843 - val_loss: 6.7253\n",
            "Epoch 496/500\n",
            "3168/3168 [==============================] - 3s 839us/step - loss: 0.0829 - val_loss: 6.7246\n",
            "Epoch 497/500\n",
            "3168/3168 [==============================] - 3s 850us/step - loss: 0.0818 - val_loss: 6.7275\n",
            "Epoch 498/500\n",
            "3168/3168 [==============================] - 3s 871us/step - loss: 0.0810 - val_loss: 6.7304\n",
            "Epoch 499/500\n",
            "3168/3168 [==============================] - 3s 849us/step - loss: 0.0806 - val_loss: 6.7290\n",
            "Epoch 500/500\n",
            "3168/3168 [==============================] - 3s 852us/step - loss: 0.0802 - val_loss: 6.7345\n"
          ],
          "name": "stdout"
        },
        {
          "output_type": "display_data",
          "data": {
            "image/png": "[encoded data removed]",
            "text/plain": [
              "<Figure size 432x288 with 1 Axes>"
            ]
          },
          "metadata": {
            "tags": []
          }
        }
      ]
    },
    {
      "cell_type": "code",
      "metadata": {
        "id": "_W4L0r-6Cwwg",
        "colab_type": "code",
        "outputId": "3f8a2019-d807-437b-a37c-b3b87c5c4e8b",
        "colab": {
          "base_uri": "https://localhost:8080/",
          "height": 306
        }
      },
      "source": [
        "# model = load_model('model.h5')\n",
        "preds = model.predict_classes(testX)\n",
        "a = np.random.choice(testX.shape[0])\n",
        "preds[a], testY[a]\n",
        "convert(trn_tokenizer, preds[a])\n",
        "print()\n",
        "convert(rus_tokenizer, testX[a])\n"
      ],
      "execution_count": 55,
      "outputs": [
        {
          "output_type": "stream",
          "text": [
            "49 ---->  d l' 'a' _ \n",
            "13049 ---->  s t a n o'1 v' 'ix ts ts ax' \n",
            "49 ---->  d l' 'a' _ \n",
            "2796 ---->  k ax r a b l' 'i'1 \n",
            "5020 ---->  r a z u'1 ch' 'ix v ax' l' 'ix' \n",
            "5021 ---->  s' t' 'i' h' 'i1 %% %% \n",
            "5022 ---->  r' 'ix' p' 'i' t' 'i1 r ax v ax' l' 'ix \n",
            "13053 ---->  d a r o1 zh e \n",
            "\n",
            "10051 ----> лейтмотивом\n",
            "1617 ----> сессии\n",
            "756 ----> станут\n",
            "340 ----> проблемы\n",
            "2694 ----> общей\n",
            "262 ----> безопасности\n",
            "3 ----> и\n",
            "2041 ----> демократии\n"
          ],
          "name": "stdout"
        }
      ]
    },
    {
      "cell_type": "code",
      "metadata": {
        "colab_type": "code",
        "outputId": "1c443a86-96a3-4676-b6ad-4e905b6f8999",
        "id": "nTzqkY5ZtGdS",
        "colab": {
          "base_uri": "https://localhost:8080/",
          "height": 51
        }
      },
      "source": [
        "def get_word(n, tokenizer):\n",
        "  for word, index in tokenizer.word_index.items():\n",
        "      if index == n:\n",
        "          return word\n",
        "  return None\n",
        "  \n",
        "a = np.random.choice(trn_vocab_size)\n",
        "t = []\n",
        "for e in testX[0]:\n",
        "  s = get_word(e, rus_tokenizer)\n",
        "  if s: t.append(s)\n",
        "print( ''.join(t) )\n",
        "\n",
        "t = []\n",
        "for e in testY[0]:\n",
        "  s = get_word(e, trn_tokenizer)\n",
        "  if s: t.append(s)\n",
        "print( ' '.join(t) )"
      ],
      "execution_count": 111,
      "outputs": [
        {
          "output_type": "stream",
          "text": [
            "космический аппарат передал сенсационные снимки\n",
            "k a s m' 'i'1 ch' 'ix s k' 'ix' j' # 'a p a r a1 t # p' 'ix' r' 'i d a1 l # s' 'ix n s ax ts y o1 n n ax' jax' # s' n' 'i1 m k' 'i\n"
          ],
          "name": "stdout"
        }
      ]
    },
    {
      "cell_type": "code",
      "metadata": {
        "id": "CsT8avD8C-wh",
        "colab_type": "code",
        "outputId": "f180d1eb-63d1-4a51-f4a6-abc2ace5b7b0",
        "colab": {
          "base_uri": "https://localhost:8080/",
          "height": 34
        }
      },
      "source": [
        "preds_text = []\n",
        "prd = preds[:3]\n",
        "for i in prd:\n",
        "  temp = []\n",
        "  for j in range(len(i)):\n",
        "    t = get_word(i[j], trn_tokenizer)\n",
        "    if j > 0:\n",
        "      if (t == get_word(i[j-1], trn_tokenizer)) or (t == None):\n",
        "        temp.append('')\n",
        "      else:\n",
        "        temp.append(t+'#')\n",
        "    else:\n",
        "      if(t == None):\n",
        "            temp.append('')\n",
        "      else:\n",
        "              temp.append(t+'#') \n",
        "\n",
        "  preds_text.append(''.join(temp))\n",
        "\n",
        "def unpack(tensor):\n",
        "  t = []\n",
        "  for e in tensor:\n",
        "    s = get_word(e, rus_tokenizer)\n",
        "    if s: t.append(s)\n",
        "  return ' '.join(t)\n",
        "\n",
        "preds_text\n",
        "# print( list(zip((unpack(e) for e in testX[:3]), preds_text)))\n",
        "# pred_df = pd.DataFrame({'actual' : test[:,0], 'predicted' : preds_text})\n",
        "# pred_df.sample(15)"
      ],
      "execution_count": 110,
      "outputs": [
        {
          "output_type": "execute_result",
          "data": {
            "text/plain": [
              "['', '', '']"
            ]
          },
          "metadata": {
            "tags": []
          },
          "execution_count": 110
        }
      ]
    },
    {
      "cell_type": "code",
      "metadata": {
        "id": "PgbiEv2w_W_R",
        "colab_type": "code",
        "colab": {
          "base_uri": "https://localhost:8080/",
          "height": 255
        },
        "outputId": "1638cba9-a527-4222-fc0b-406b479ea41a"
      },
      "source": [
        "!wget http://www.manythings.org/anki/deu-eng.zip\n",
        "!unzip deu-eng.zip"
      ],
      "execution_count": 2,
      "outputs": [
        {
          "output_type": "stream",
          "text": [
            "--2020-02-25 05:57:35--  http://www.manythings.org/anki/deu-eng.zip\n",
            "Resolving www.manythings.org (www.manythings.org)... 104.24.108.196, 104.24.109.196, 2606:4700:3037::6818:6cc4, ...\n",
            "Connecting to www.manythings.org (www.manythings.org)|104.24.108.196|:80... connected.\n",
            "HTTP request sent, awaiting response... 200 OK\n",
            "Length: 7747747 (7.4M) [application/zip]\n",
            "Saving to: ‘deu-eng.zip’\n",
            "\n",
            "\rdeu-eng.zip           0%[                    ]       0  --.-KB/s               \rdeu-eng.zip          23%[===>                ]   1.72M  8.29MB/s               \rdeu-eng.zip         100%[===================>]   7.39M  24.6MB/s    in 0.3s    \n",
            "\n",
            "2020-02-25 05:57:36 (24.6 MB/s) - ‘deu-eng.zip’ saved [7747747/7747747]\n",
            "\n",
            "Archive:  deu-eng.zip\n",
            "  inflating: deu.txt                 \n",
            "  inflating: _about.txt              \n"
          ],
          "name": "stdout"
        }
      ]
    },
    {
      "cell_type": "code",
      "metadata": {
        "id": "3IPzaHenLOFc",
        "colab_type": "code",
        "colab": {
          "base_uri": "https://localhost:8080/",
          "height": 51
        },
        "outputId": "987212cd-e6ee-417b-8e26-a94abfb9c286"
      },
      "source": [
        "import re\n",
        "import string\n",
        "from numpy import array, argmax, random, take\n",
        "import pandas as pd\n",
        "from keras.models import Sequential, Model\n",
        "from keras.layers import Dense, LSTM, Embedding, Bidirectional, RepeatVector, TimeDistributed\n",
        "from keras.preprocessing.text import Tokenizer\n",
        "from keras.callbacks import ModelCheckpoint\n",
        "from keras.preprocessing.sequence import pad_sequences\n",
        "from keras.models import load_model\n",
        "from keras import optimizers\n",
        "import matplotlib.pyplot as plt\n",
        "% matplotlib inline\n",
        "pd.set_option('display.max_colwidth', 200)\n",
        "\n",
        "# function to read raw text file\n",
        "def read_text(filename):\n",
        "    # open the file\n",
        "    file = open(filename, mode='rt', encoding='utf-8')\n",
        "    # read all text\n",
        "    text = file.read()\n",
        "    file.close()\n",
        "    return text\n",
        "  \n",
        "# split text into sentences\n",
        "def to_lines(text):\n",
        "    sents = text.strip().split('\\n')\n",
        "    sents = [i.split('\\t') for i in sents]\n",
        "    return sents\n",
        "\n",
        "# download data from http://www.manythings.org/anki/deu-eng.zip\n",
        "data = read_text(\"deu.txt\")\n",
        "deu_eng = to_lines(data)\n",
        "deu_eng = array(deu_eng)\n",
        "\n",
        "# use first 50,000 English-German sentence pairs\n",
        "deu_eng = deu_eng[:50000,:]\n",
        "\n",
        "# Text Pre-processing\n",
        "# Remove punctuation\n",
        "deu_eng[:,0] = [s.translate(str.maketrans('', '', string.punctuation)) for s in deu_eng[:,0]]\n",
        "deu_eng[:,2] = [s.translate(str.maketrans('', '', string.punctuation)) for s in deu_eng[:,1]]\n",
        "deu_eng[:,1] = [s.translate(str.maketrans('', '', string.punctuation)) for s in deu_eng[:,1]]\n",
        " \n",
        "# convert to lowercase\n",
        "for i in range(len(deu_eng)):\n",
        "    deu_eng[i,0] = deu_eng[i,0].lower()\n",
        "    deu_eng[i,2] = '<sos> ' + deu_eng[i,1].lower()\n",
        "    deu_eng[i,1] = '<sos> ' + deu_eng[i,1].lower()\n",
        "\n",
        "# Convert text to sequence \n",
        "# empty lists\n",
        "eng_l = []\n",
        "deu_l = []\n",
        "\n",
        "# populate the lists with sentence lengths\n",
        "for i in deu_eng[:,0]:\n",
        "    eng_l.append(len(i.split()))\n",
        "\n",
        "for i in deu_eng[:,1]:\n",
        "    deu_l.append(len(i.split()))\n",
        "\n",
        "# function to build a tokenizer\n",
        "def tokenization(lines):\n",
        "    tokenizer = Tokenizer( )\n",
        "    tokenizer.fit_on_texts(lines)\n",
        "    return tokenizer\n",
        "  \n",
        "# prepare english tokenizer\n",
        "eng_tokenizer = tokenization(deu_eng[:, 0])\n",
        "eng_vocab_size = len(eng_tokenizer.word_index) + 1\n",
        "eng_length = 8\n",
        "print('English Vocabulary Size: %d' % eng_vocab_size)\n",
        "\n",
        "# prepare Deutch tokenizer\n",
        "deu_tokenizer = tokenization(deu_eng[:, 1])\n",
        "deu_vocab_size = len(deu_tokenizer.word_index) + 1\n",
        "deu_length = 8\n",
        "print('Deutch Vocabulary Size: %d' % deu_vocab_size)\n",
        "\n",
        "# encode and pad sequences\n",
        "def encode_sequences(tokenizer, length, lines, sos=False, eos=False):\n",
        "\n",
        "    # integer encode sequences\n",
        "    seq = tokenizer.texts_to_sequences(lines)\n",
        "\n",
        "    # pad sequences with 0 values\n",
        "    seq = pad_sequences(seq, maxlen=length, padding='post')\n",
        "    return seq\n",
        "  \n",
        "# model building\n",
        "# split data \n",
        "from sklearn.model_selection import train_test_split\n",
        "train, test = train_test_split(deu_eng, test_size=0.2, random_state = 12)\n",
        "\n",
        "# prepare training data\n",
        "trainX = encode_sequences(deu_tokenizer, deu_length, train[:, 1])\n",
        "trainX_ = encode_sequences(deu_tokenizer, deu_length, train[:, 2])\n",
        "trainY = encode_sequences(eng_tokenizer, eng_length, train[:, 0])\n",
        "\n",
        "# prepare validation data\n",
        "testX = encode_sequences(deu_tokenizer, deu_length, test[:, 1])\n",
        "testX_ = encode_sequences(deu_tokenizer, deu_length, test[:, 2])\n",
        "testY = encode_sequences(eng_tokenizer, eng_length, test[:, 0])"
      ],
      "execution_count": 3,
      "outputs": [
        {
          "output_type": "stream",
          "text": [
            "English Vocabulary Size: 6345\n",
            "Deutch Vocabulary Size: 10502\n"
          ],
          "name": "stdout"
        }
      ]
    },
    {
      "cell_type": "code",
      "metadata": {
        "id": "c3a6K0uQ-m4K",
        "colab_type": "code",
        "colab": {
          "base_uri": "https://localhost:8080/",
          "height": 649
        },
        "outputId": "da27d5f0-f270-4fb3-8613-b0b32b1a37fe"
      },
      "source": [
        "# build NMT model\n",
        "def build_model(in_vocab, out_vocab, in_timesteps, out_timesteps, units):\n",
        "    model = Sequential()\n",
        "    model.add(Embedding(in_vocab, units, input_length=in_timesteps, mask_zero=True))\n",
        "    model.add(LSTM(units))\n",
        "    model.add(RepeatVector(out_timesteps))\n",
        "    model.add(LSTM(units, return_sequences=True))\n",
        "    model.add(Dense(out_vocab, activation='softmax'))\n",
        "    return model\n",
        "\n",
        "def build_model1(in_vocab, out_vocab, in_timesteps, out_timesteps, units):\n",
        "    # encoder\n",
        "    encoder_inputs = Input(shape=(None,))\n",
        "    encoder_embedding = Embedding(in_vocab, units, input_length=in_timesteps, mask_zero=True)\n",
        "    encoder = encoder_embedding(encoder_inputs)\n",
        "    _, state_h, state_c = LSTM(units, return_state=True)(encoder)\n",
        "    # decoder\n",
        "    decoder_inputs = Input(shape=(None,))\n",
        "    decoder_embedding = Embedding(out_vocab, units, input_length=out_timesteps, mask_zero=True)\n",
        "    decoder = decoder_embedding(decoder_inputs)\n",
        "    decoder_lstm = LSTM(units, return_sequences=True, return_state=True)\n",
        "    decoder_outputs, _, _ = decoder_lstm(decoder, initial_state=(state_h, state_c))\n",
        "    decoder_dense = Dense(out_vocab, activation='softmax')\n",
        "    decoder_outputs = decoder_dense(decoder_outputs)\n",
        "    return Model([encoder_inputs, decoder_inputs], decoder_outputs)\n",
        "  \n",
        "model = build_model(deu_vocab_size, eng_vocab_size, deu_length, eng_length, 512)\n",
        "rms = optimizers.RMSprop(lr=0.001)\n",
        "model.compile(optimizer=rms, loss='sparse_categorical_crossentropy')\n",
        "\n",
        "# train model\n",
        "filename = 'model.h1.24_jan_19'\n",
        "checkpoint = ModelCheckpoint(filename, monitor='val_loss', verbose=1, save_best_only=True, mode='min')\n",
        "\n",
        "history = model.fit(trainX, trainY.reshape(trainY.shape[0], trainY.shape[1], 1), \n",
        "          epochs=30, batch_size=512, \n",
        "          validation_split = 0.2,\n",
        "          callbacks=[checkpoint], verbose=1)\n",
        "\n",
        "# history = model.fit([trainX, trainX_], trainY.reshape(*trainY.shape, 1), \n",
        "#           epochs=30, batch_size=512, \n",
        "#           validation_data=([testX,testX_], testY.reshape(*testY.shape, 1)),\n",
        "#           # validation_split = 0.2,\n",
        "#           callbacks=[checkpoint], verbose=1)\n",
        "\n",
        "# plot validation loss vs training loss\n",
        "plt.plot(history.history['loss'])\n",
        "plt.plot(history.history['val_loss'])\n",
        "plt.legend(['train','validation'])\n",
        "plt.show()\n",
        "\n",
        "# load saved model\n",
        "model = load_model('model.h1.24_jan_19')\n",
        "\n",
        "# make predictions\n",
        "# preds = model.predict_classes(testX.reshape((testX.shape[0],testX.shape[1])))\n",
        "\n",
        "def get_word(n, tokenizer):\n",
        "    for word, index in tokenizer.word_index.items():\n",
        "        if index == n:\n",
        "            return word\n",
        "    return None\n",
        "  \n",
        "# convert predictions into text (English)\n",
        "preds_text = []\n",
        "for i in preds:\n",
        "    temp = []\n",
        "    for j in range(len(i)):\n",
        "        t = get_word(i[j], eng_tokenizer)\n",
        "        if j > 0:\n",
        "            if (t == get_word(i[j-1], eng_tokenizer)) or (t == None):\n",
        "                temp.append('')\n",
        "            else:\n",
        "                temp.append(t)\n",
        "             \n",
        "        else:\n",
        "            if(t == None):\n",
        "                temp.append('')\n",
        "            else:\n",
        "                temp.append(t)            \n",
        "        \n",
        "    preds_text.append(' '.join(temp))\n",
        "    \n",
        "pred_df = pd.DataFrame({'actual' : test[:,0], 'predicted' : preds_text})\n",
        "\n",
        "# display results\n",
        "pred_df.sample(15)"
      ],
      "execution_count": 0,
      "outputs": [
        {
          "output_type": "stream",
          "text": [
            "WARNING:tensorflow:From /usr/local/lib/python3.6/dist-packages/keras/backend/tensorflow_backend.py:66: The name tf.get_default_graph is deprecated. Please use tf.compat.v1.get_default_graph instead.\n",
            "\n",
            "WARNING:tensorflow:From /usr/local/lib/python3.6/dist-packages/keras/backend/tensorflow_backend.py:541: The name tf.placeholder is deprecated. Please use tf.compat.v1.placeholder instead.\n",
            "\n",
            "WARNING:tensorflow:From /usr/local/lib/python3.6/dist-packages/keras/backend/tensorflow_backend.py:4432: The name tf.random_uniform is deprecated. Please use tf.random.uniform instead.\n",
            "\n",
            "WARNING:tensorflow:From /usr/local/lib/python3.6/dist-packages/keras/backend/tensorflow_backend.py:3239: where (from tensorflow.python.ops.array_ops) is deprecated and will be removed in a future version.\n",
            "Instructions for updating:\n",
            "Use tf.where in 2.0, which has the same broadcast rule as np.where\n",
            "WARNING:tensorflow:From /usr/local/lib/python3.6/dist-packages/keras/optimizers.py:793: The name tf.train.Optimizer is deprecated. Please use tf.compat.v1.train.Optimizer instead.\n",
            "\n",
            "WARNING:tensorflow:From /usr/local/lib/python3.6/dist-packages/keras/backend/tensorflow_backend.py:3622: The name tf.log is deprecated. Please use tf.math.log instead.\n",
            "\n",
            "WARNING:tensorflow:From /usr/local/lib/python3.6/dist-packages/keras/backend/tensorflow_backend.py:1033: The name tf.assign_add is deprecated. Please use tf.compat.v1.assign_add instead.\n",
            "\n",
            "WARNING:tensorflow:From /usr/local/lib/python3.6/dist-packages/keras/backend/tensorflow_backend.py:1020: The name tf.assign is deprecated. Please use tf.compat.v1.assign instead.\n",
            "\n",
            "WARNING:tensorflow:From /usr/local/lib/python3.6/dist-packages/keras/backend/tensorflow_backend.py:3005: The name tf.Session is deprecated. Please use tf.compat.v1.Session instead.\n",
            "\n",
            "Train on 32000 samples, validate on 8000 samples\n",
            "Epoch 1/30\n",
            "WARNING:tensorflow:From /usr/local/lib/python3.6/dist-packages/keras/backend/tensorflow_backend.py:190: The name tf.get_default_session is deprecated. Please use tf.compat.v1.get_default_session instead.\n",
            "\n",
            "WARNING:tensorflow:From /usr/local/lib/python3.6/dist-packages/keras/backend/tensorflow_backend.py:197: The name tf.ConfigProto is deprecated. Please use tf.compat.v1.ConfigProto instead.\n",
            "\n",
            "WARNING:tensorflow:From /usr/local/lib/python3.6/dist-packages/keras/backend/tensorflow_backend.py:207: The name tf.global_variables is deprecated. Please use tf.compat.v1.global_variables instead.\n",
            "\n",
            "WARNING:tensorflow:From /usr/local/lib/python3.6/dist-packages/keras/backend/tensorflow_backend.py:216: The name tf.is_variable_initialized is deprecated. Please use tf.compat.v1.is_variable_initialized instead.\n",
            "\n",
            "WARNING:tensorflow:From /usr/local/lib/python3.6/dist-packages/keras/backend/tensorflow_backend.py:223: The name tf.variables_initializer is deprecated. Please use tf.compat.v1.variables_initializer instead.\n",
            "\n",
            "32000/32000 [==============================] - 321s 10ms/step - loss: 3.4687 - val_loss: 2.9632\n",
            "\n",
            "Epoch 00001: val_loss improved from inf to 2.96317, saving model to model.h1.24_jan_19\n",
            "Epoch 2/30\n",
            "31232/32000 [============================>.] - ETA: 6s - loss: 2.8659 "
          ],
          "name": "stdout"
        }
      ]
    },
    {
      "cell_type": "code",
      "metadata": {
        "id": "1n7bwnZwIIc7",
        "colab_type": "code",
        "colab": {
          "base_uri": "https://localhost:8080/",
          "height": 232
        },
        "outputId": "c86f507f-9757-4e58-8d27-7aa531649dd2"
      },
      "source": [
        "encoder_model = Model(encoder_inputs, encoder_states)\n",
        "decoder_state_input_h = Input(shape=(LSTM_NODES,))\n",
        "decoder_state_input_c = Input(shape=(LSTM_NODES,))\n",
        "decoder_states_inputs = (decoder_state_input_h, decoder_state_input_c)\n",
        "decoder_inputs_single = Input(shape=(1,))\n",
        "decoder_inputs_single_x = decoder_embedding(decoder_inputs_single)\n",
        "decoder_outputs, h, c = decoder_lstm(decoder_inputs_single_x, initial_state=decoder_states_inputs)\n",
        "decoder_states = [h, c]\n",
        "decoder_outputs = decoder_dense(decoder_outputs)\n",
        "decoder_model = Model(\n",
        "    [decoder_inputs_single] + decoder_states_inputs,\n",
        "    [decoder_outputs] + decoder_states\n",
        ")\n",
        "\n",
        "preds = decoder_model.predict_classes(testX.reshape((testX.shape[0],testX.shape[1])))\n"
      ],
      "execution_count": 21,
      "outputs": [
        {
          "output_type": "error",
          "ename": "NameError",
          "evalue": "ignored",
          "traceback": [
            "\u001b[0;31m---------------------------------------------------------------------------\u001b[0m",
            "\u001b[0;31mNameError\u001b[0m                                 Traceback (most recent call last)",
            "\u001b[0;32m<ipython-input-21-1c95a98ebf77>\u001b[0m in \u001b[0;36m<module>\u001b[0;34m()\u001b[0m\n\u001b[0;32m----> 1\u001b[0;31m \u001b[0mencoder_model\u001b[0m \u001b[0;34m=\u001b[0m \u001b[0mModel\u001b[0m\u001b[0;34m(\u001b[0m\u001b[0mencoder_inputs\u001b[0m\u001b[0;34m,\u001b[0m \u001b[0mencoder_states\u001b[0m\u001b[0;34m)\u001b[0m\u001b[0;34m\u001b[0m\u001b[0;34m\u001b[0m\u001b[0m\n\u001b[0m\u001b[1;32m      2\u001b[0m \u001b[0mdecoder_state_input_h\u001b[0m \u001b[0;34m=\u001b[0m \u001b[0mInput\u001b[0m\u001b[0;34m(\u001b[0m\u001b[0mshape\u001b[0m\u001b[0;34m=\u001b[0m\u001b[0;34m(\u001b[0m\u001b[0mLSTM_NODES\u001b[0m\u001b[0;34m,\u001b[0m\u001b[0;34m)\u001b[0m\u001b[0;34m)\u001b[0m\u001b[0;34m\u001b[0m\u001b[0;34m\u001b[0m\u001b[0m\n\u001b[1;32m      3\u001b[0m \u001b[0mdecoder_state_input_c\u001b[0m \u001b[0;34m=\u001b[0m \u001b[0mInput\u001b[0m\u001b[0;34m(\u001b[0m\u001b[0mshape\u001b[0m\u001b[0;34m=\u001b[0m\u001b[0;34m(\u001b[0m\u001b[0mLSTM_NODES\u001b[0m\u001b[0;34m,\u001b[0m\u001b[0;34m)\u001b[0m\u001b[0;34m)\u001b[0m\u001b[0;34m\u001b[0m\u001b[0;34m\u001b[0m\u001b[0m\n\u001b[1;32m      4\u001b[0m \u001b[0mdecoder_states_inputs\u001b[0m \u001b[0;34m=\u001b[0m \u001b[0;34m[\u001b[0m\u001b[0mdecoder_state_input_h\u001b[0m\u001b[0;34m,\u001b[0m \u001b[0mdecoder_state_input_c\u001b[0m\u001b[0;34m]\u001b[0m\u001b[0;34m\u001b[0m\u001b[0;34m\u001b[0m\u001b[0m\n\u001b[1;32m      5\u001b[0m \u001b[0mdecoder_inputs_single\u001b[0m \u001b[0;34m=\u001b[0m \u001b[0mInput\u001b[0m\u001b[0;34m(\u001b[0m\u001b[0mshape\u001b[0m\u001b[0;34m=\u001b[0m\u001b[0;34m(\u001b[0m\u001b[0;36m1\u001b[0m\u001b[0;34m,\u001b[0m\u001b[0;34m)\u001b[0m\u001b[0;34m)\u001b[0m\u001b[0;34m\u001b[0m\u001b[0;34m\u001b[0m\u001b[0m\n",
            "\u001b[0;31mNameError\u001b[0m: name 'encoder_inputs' is not defined"
          ]
        }
      ]
    },
    {
      "cell_type": "code",
      "metadata": {
        "id": "JTpyAZQWGZ3R",
        "colab_type": "code",
        "colab": {}
      },
      "source": [
        ""
      ],
      "execution_count": 0,
      "outputs": []
    }
  ]
}