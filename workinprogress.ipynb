{
  "nbformat": 4,
  "nbformat_minor": 0,
  "metadata": {
    "colab": {
      "name": "workinprogress.ipynb",
      "provenance": [],
      "include_colab_link": true
    },
    "kernelspec": {
      "name": "python3",
      "display_name": "Python 3"
    },
    "accelerator": "GPU"
  },
  "cells": [
    {
      "cell_type": "markdown",
      "metadata": {
        "id": "view-in-github",
        "colab_type": "text"
      },
      "source": [
        "<a href=\"https://colab.research.google.com/github/andygoosh/samsung/blob/master/workinprogress.ipynb\" target=\"_parent\"><img src=\"https://colab.research.google.com/assets/colab-badge.svg\" alt=\"Open In Colab\"/></a>"
      ]
    },
    {
      "cell_type": "code",
      "metadata": {
        "id": "r_Mg8x0gASeS",
        "colab_type": "code",
        "outputId": "079d94f7-3fc7-448f-ff92-20de5e91645d",
        "colab": {
          "base_uri": "https://localhost:8080/",
          "height": 34
        }
      },
      "source": [
        "from pathlib import Path\n",
        "from google.colab import files, drive\n",
        "from collections import defaultdict\n",
        "\n",
        "import re\n",
        "import random as rn\n",
        "import pandas as pd\n",
        "import numpy as np\n",
        "from numpy import array, argmax, random, take\n",
        "import matplotlib.pyplot as plt\n",
        "from collections import Counter\n",
        "%matplotlib inline\n",
        "\n",
        "from sklearn.model_selection import train_test_split\n",
        "\n",
        "import tensorflow as tf\n",
        "from keras.preprocessing.sequence import pad_sequences\n",
        "from keras.preprocessing.text import Tokenizer\n",
        "from keras.models import Sequential\n",
        "from keras.layers import Dense, LSTM, GRU, Embedding, RepeatVector, TimeDistributed\n",
        "from keras import optimizers\n",
        "from keras.models import load_model\n",
        "from keras.callbacks import ModelCheckpoint, EarlyStopping\n",
        "\n",
        "RS = 77\n",
        "rn.seed(RS)\n",
        "# tf.random.set_seed(RS)\n",
        "np.random.seed(RS)\n",
        "np.random.RandomState(RS)\n",
        "\n",
        "gpath = Path('/content/gdrive')\n",
        "drive.mount(str(gpath))\n",
        "data_file = gpath / 'My Drive/Samsung' / 'transcriptions'"
      ],
      "execution_count": 246,
      "outputs": [
        {
          "output_type": "stream",
          "text": [
            "Drive already mounted at /content/gdrive; to attempt to forcibly remount, call drive.mount(\"/content/gdrive\", force_remount=True).\n"
          ],
          "name": "stdout"
        }
      ]
    },
    {
      "cell_type": "markdown",
      "metadata": {
        "id": "8KByWPn1DbpS",
        "colab_type": "text"
      },
      "source": [
        "#### Let's look at the data in given file"
      ]
    },
    {
      "cell_type": "code",
      "metadata": {
        "id": "PNLzpBAGDgAI",
        "colab_type": "code",
        "outputId": "d26db0d1-211c-41d1-8af5-53500a2a2d6c",
        "colab": {
          "base_uri": "https://localhost:8080/",
          "height": 71
        }
      },
      "source": [
        "with data_file.open() as f:  \n",
        "    print(list(f.readline()))"
      ],
      "execution_count": 14,
      "outputs": [
        {
          "output_type": "stream",
          "text": [
            "['а', 'у', 'к', 'ц', 'и', 'о', 'н', 'ы', ' ', 'н', 'а', ' ', 'д', 'е', 'ш', 'ё', 'в', 'о', 'е', ' ', 'ж', 'и', 'л', 'ь', 'ё', ' ', 'п', 'р', 'о', 'в', 'о', 'д', 'я', 'т', 'с', 'я', ' ', 'р', 'е', 'г', 'у', 'л', 'я', 'р', 'н', 'о', '\\t', '%', '%', ' ', 'a', ' ', 'u', ' ', 'k', ' ', 't', 's', ' ', 'y', ' ', 'o', '1', ' ', 'n', ' ', 'a', 'x', ' ', '#', ' ', 'n', ' ', 'a', 'x', \"'\", ' ', '_', ' ', 'd', \"'\", ' ', \"'\", 'i', ' ', 's', 'h', ' ', 'o', '1', ' ', 'v', ' ', 'a', 'x', \"'\", ' ', 'j', 'a', 'x', ' ', '#', ' ', 'z', 'h', ' ', 'y', \"'\", ' ', 'l', \"'\", ' ', 'j', \"'\", ' ', \"'\", 'o', '1', ' ', '#', ' ', 'p', ' ', 'r', ' ', 'a', ' ', 'v', ' ', 'o', \"'\", '1', ' ', 'd', \"'\", ' ', \"'\", 'a', 'x', ' ', 't', 's', ' ', 't', 's', ' ', 'a', 'x', \"'\", ' ', '#', ' ', 'r', \"'\", ' ', \"'\", 'i', 'x', ' ', 'g', ' ', 'u', \"'\", ' ', 'l', \"'\", ' ', \"'\", 'a', '1', ' ', 'r', ' ', 'n', ' ', 'a', ' ', '%', '%', '\\n']\n",
            "['а', 'у', 'к', 'ц', 'и', 'о', 'н', 'ы', ' ', 'н', 'а', ' ', 'д', 'е', 'ш', 'ё', 'в', 'о', 'е', ' ', 'ж', 'и', 'л', 'ь', 'ё', ' ', 'п', 'р', 'о', 'в', 'о', 'д', 'я', 'т', 'с', 'я', ' ', 'р', 'е', 'г', 'у', 'л', 'я', 'р', 'н', 'о', '\\t', '%', '%', ' ', 'a', ' ', 'u', ' ', 'k', ' ', 't', 's', ' ', 'y', ' ', 'o', '1', ' ', 'n', ' ', 'a', 'x', ' ', '#', ' ', 'n', ' ', 'a', 'x', \"'\", ' ', '_', ' ', 'd', \"'\", ' ', \"'\", 'i', ' ', 's', 'h', ' ', 'o', '1', ' ', 'v', ' ', 'a', 'x', \"'\", ' ', 'j', 'a', 'x', ' ', '#', ' ', 'z', 'h', ' ', 'y', \"'\", ' ', 'l', \"'\", ' ', 'j', \"'\", ' ', \"'\", 'o', '1', ' ', '#', ' ', 'p', ' ', 'r', ' ', 'a', ' ', 'v', ' ', 'o', \"'\", '1', ' ', 'd', \"'\", ' ', \"'\", 'a', 'x', ' ', 't', 's', ' ', 't', 's', ' ', 'a', 'x', \"'\", ' ', '#', ' ', 'r', \"'\", ' ', \"'\", 'i', 'x', ' ', 'g', ' ', 'u', \"'\", ' ', 'l', \"'\", ' ', \"'\", 'a', '1', ' ', 'r', ' ', 'n', ' ', 'a', ' ', '%', '%', '\\n']\n"
          ],
          "name": "stdout"
        }
      ]
    },
    {
      "cell_type": "markdown",
      "metadata": {
        "id": "Xmvmq8NkDzzF",
        "colab_type": "text"
      },
      "source": [
        "#### Notice that:\n",
        "1. russian sentence is separated from transcript with '\\t'\n",
        "2. the begining and the end of transcript part are marked by '%%'"
      ]
    },
    {
      "cell_type": "markdown",
      "metadata": {
        "id": "t9inDldeBBz8",
        "colab_type": "text"
      },
      "source": [
        "### Let's read the data and split it into rus and trans"
      ]
    },
    {
      "cell_type": "code",
      "metadata": {
        "id": "ze9lEBcZB4A_",
        "colab_type": "code",
        "outputId": "95b9632b-71e8-4486-9a79-397e75803120",
        "colab": {
          "base_uri": "https://localhost:8080/",
          "height": 51
        }
      },
      "source": [
        "rus_trn = []\n",
        "with data_file.open() as f:  \n",
        "  for line in f: \n",
        "    rus, trn = line.split('\\t')\n",
        "    rus_trn.append([rus.strip(), trn.strip()])\n",
        "\n",
        "print(f'Number of sentences in corpus: {len(rus_trn)}')"
      ],
      "execution_count": 15,
      "outputs": [
        {
          "output_type": "stream",
          "text": [
            "Number of sentences in corpus: 50277\n",
            "Number of sentences in corpus: 50277\n"
          ],
          "name": "stdout"
        }
      ]
    },
    {
      "cell_type": "markdown",
      "metadata": {
        "id": "gjFV-XOHBN8o",
        "colab_type": "text"
      },
      "source": [
        "##### Let's look at some sentences\n"
      ]
    },
    {
      "cell_type": "code",
      "metadata": {
        "id": "iaCdAWXfBS-H",
        "colab_type": "code",
        "outputId": "8a1b6306-2aa1-4752-c9d5-b5fafc1072a8",
        "colab": {
          "base_uri": "https://localhost:8080/",
          "height": 173
        }
      },
      "source": [
        "print(rus_trn[13][0])\n",
        "print(rus_trn[13][1])\n",
        "print(rus_trn[24][0])\n",
        "print(rus_trn[24][1])\n"
      ],
      "execution_count": 16,
      "outputs": [
        {
          "output_type": "stream",
          "text": [
            "устрицы подают с простыми винами типа рислинга\n",
            "%% u1 s t r' 'ix ts ax # p ax d a' j' 'u1 t # s _ p r a s t y'1 m' 'ix' # v' 'i1 n ax' m' 'ix' # t' 'i1 p ax' # r' 'i1 s l' 'ix n g a %%\n",
            "отношение числа городских и сельских жителей четыре к одному\n",
            "%% a t n a sh e'1 n' 'ix' jax' # ch' 'i s l a1 # g ax r a ts k' 'i1 h # y' _ s' 'e'1 l' s k' 'ix gh # zh y'1 t' 'ix' l' 'ix' j' %% %% ch' 'i t y'1 r' 'ix # k _ ax d n a m u1 %%\n",
            "устрицы подают с простыми винами типа рислинга\n",
            "%% u1 s t r' 'ix ts ax # p ax d a' j' 'u1 t # s _ p r a s t y'1 m' 'ix' # v' 'i1 n ax' m' 'ix' # t' 'i1 p ax' # r' 'i1 s l' 'ix n g a %%\n",
            "отношение числа городских и сельских жителей четыре к одному\n",
            "%% a t n a sh e'1 n' 'ix' jax' # ch' 'i s l a1 # g ax r a ts k' 'i1 h # y' _ s' 'e'1 l' s k' 'ix gh # zh y'1 t' 'ix' l' 'ix' j' %% %% ch' 'i t y'1 r' 'ix # k _ ax d n a m u1 %%\n"
          ],
          "name": "stdout"
        }
      ]
    },
    {
      "cell_type": "markdown",
      "metadata": {
        "id": "PrtVAlRiBYLc",
        "colab_type": "text"
      },
      "source": [
        "#### Notice that words in russian sentence are separated by space while words in transcript are separated:\n",
        "1. by '#' in general case\n",
        "2. by '_' in case of preposition\n",
        "3. by '%% %%' in case of punctuation signs (dash, coma, etc)\n"
      ]
    },
    {
      "cell_type": "markdown",
      "metadata": {
        "id": "qaYfq4rSFVs6",
        "colab_type": "text"
      },
      "source": [
        "#### Let's see if we have dupliates in corpus"
      ]
    },
    {
      "cell_type": "code",
      "metadata": {
        "id": "zoPm3mehFfiN",
        "colab_type": "code",
        "outputId": "5b8e8697-8995-441a-e11d-ade9ca1e7680",
        "colab": {
          "base_uri": "https://localhost:8080/",
          "height": 85
        }
      },
      "source": [
        "a = array(rus_trn)\n",
        "seen_rus = Counter(a[:,0])\n",
        "seen_trn = Counter(a[:,1])\n",
        "\n",
        "print(f'Unique rus sentences: {len(seen_rus)} out of {len(rus_trn)}')\n",
        "print(f'Unique trans sentences: {len(seen_trn)} out of {len(rus_trn)}')"
      ],
      "execution_count": 17,
      "outputs": [
        {
          "output_type": "stream",
          "text": [
            "Unique rus sentences: 3131 out of 50277\n",
            "Unique trans sentences: 3171 out of 50277\n",
            "Unique rus sentences: 3131 out of 50277\n",
            "Unique trans sentences: 3171 out of 50277\n"
          ],
          "name": "stdout"
        }
      ]
    },
    {
      "cell_type": "markdown",
      "metadata": {
        "id": "2c_7KSzLGs7v",
        "colab_type": "text"
      },
      "source": [
        "#### We have a lot of duplicates! Only 3131 unique sentenses out of 50K in corpus. Please also note that some russian sentences are transcribed into different transcriptions (will look into that later on)"
      ]
    },
    {
      "cell_type": "code",
      "metadata": {
        "id": "yjR7uun4HeJF",
        "colab_type": "code",
        "outputId": "bcf55639-900c-425d-a582-a7db2d31093f",
        "colab": {
          "base_uri": "https://localhost:8080/",
          "height": 563
        }
      },
      "source": [
        "lens = [each[1] for each in seen_rus.items()]\n",
        "unq = np.unique(lens)\n",
        "qty = [lens.count(each) for each in unq]\n",
        "pd.DataFrame(qty, index=unq).plot.bar(title = 'Rus sentence repeat times', legend=False);"
      ],
      "execution_count": 18,
      "outputs": [
        {
          "output_type": "display_data",
          "data": {
            "image/png": "[encoded data removed]",
            "text/plain": [
              "<Figure size 432x288 with 1 Axes>"
            ]
          },
          "metadata": {
            "tags": []
          }
        },
        {
          "output_type": "display_data",
          "data": {
            "image/png": "[encoded data removed]",
            "text/plain": [
              "<Figure size 432x288 with 1 Axes>"
            ]
          },
          "metadata": {
            "tags": []
          }
        }
      ]
    },
    {
      "cell_type": "markdown",
      "metadata": {
        "id": "a2bIKlVbIAxi",
        "colab_type": "text"
      },
      "source": [
        "#### Most duplicated sentences repeat 12 times, max up to 203 times"
      ]
    },
    {
      "cell_type": "markdown",
      "metadata": {
        "id": "oCi44KJRImmG",
        "colab_type": "text"
      },
      "source": [
        "### Let's read that data while splitting the words. We'll count the words in each sentence. If the count in rus and trans is different, we'll record it as anomaly\n"
      ]
    },
    {
      "cell_type": "code",
      "metadata": {
        "id": "4fznr-0SJ9nU",
        "colab_type": "code",
        "outputId": "4bcb11d6-76e6-4a99-abfd-b7434900d452",
        "colab": {
          "base_uri": "https://localhost:8080/",
          "height": 1000
        }
      },
      "source": [
        "rus_l, trn_l, anomaly = [], [], []\n",
        "seen = defaultdict(list)\n",
        "chars = Counter()\n",
        "\n",
        "for j,i in enumerate(rus_trn):\n",
        "  rus = i[0].split()\n",
        "  trn = re.split('#|_|%% %%',i[1])\n",
        "\n",
        "  if i[0] not in seen:\n",
        "    if abs(len(rus) - len(trn)) != 0: \n",
        "      anomaly.append(j)\n",
        "      print(j, ' ', i[0])\n",
        "      print( i[1])\n",
        "    \n",
        "    else:\n",
        "      rus_l.append(len(rus))\n",
        "      trn_l.append(len(trn))\n",
        "\n",
        "    chars += Counter(i[0])\n",
        "\n",
        "  seen[i[0]].append(j)\n",
        "\n",
        "print(f'Anomalies: {len(anomaly)}')\n",
        "fig, (ax1, ax2) = plt.subplots(nrows=1,ncols=2,figsize=(12,4))\n",
        "pd.DataFrame({'Number of words in Rus sentence':rus_l}).hist(ax=ax1, bins = 30);\n",
        "pd.DataFrame({'Number of words in Trns sentence':trn_l}).hist(ax=ax2, bins = 30);"
      ],
      "execution_count": 63,
      "outputs": [
        {
          "output_type": "stream",
          "text": [
            "149   невостребованных талантов в стране уйма\n",
            "%% n' 'ix v a s t r' 'e1 b ax v ax n n ax h # t a l a1 n t ax f # f s t r a' n' 'e1 # u'1 j' m a %%\n",
            "336   в срок платежа денежные средства перечислены не были\n",
            "%% f _ s r o1 k # p l ax' t' 'i zh a'1 # d' 'e'1 n' 'ix zh n ax' jax # s r' 'e1 ts t v ax' # p' 'ix' r' 'i' ch' 'i1 s l' 'ix n ax' # n' 'e1 b ax' l' 'i %%\n",
            "772   дружба обеих корей может прекратиться так же неожиданно как и началась\n",
            "%% d r u1 zh b ax # a' b' 'e'1 i h # k a' r' 'e'1 j' # m o1 zh ax t # p r' 'ix k r a' t' 'i1 ts ts ax # t a1 g zh ax' # n' 'ixa zh y1 d ax n n a %% %% k a1 k # y _ n ax' ch' 'i l a'1 s' %%\n",
            "858   если окутать ёлку дождиком она получится как бы в дымке\n",
            "%% j' 'e1 s l' 'ix # a k u1 t ax' t' # j' 'o1 l k ux # d o1 zh d' 'ix k ax m %% %% a n a1 # p a l u'1 ch' 'ix ts ts ax # k a1 g b ax # v _ d y1 m k' 'e %%\n",
            "868   королёв в тюрьме сделал свои первые рисунки ракеты\n",
            "%% k ax r a' l' 'o1 f # f t' 'u' r' m' 'e'1 # z' d' 'e1 l ax l # s v a' i'1 # p' 'e1 r v ax' jax' # r' 'i s u1 n k' 'ix # r a' k' 'e1 t y %%\n",
            "881   мосты выглядят чрезвычайно внушительными надёжными и в то же время лёгкими современными\n",
            "%% m a s t y1 # v y1 g l' 'ax' d' 'ax t # ch' r' 'ix z v y' ch' 'a'1 j' n ax # v n u sh y'1 t' 'ix' l' n ax' m' 'i %% %% n a' d' 'o1 zh n ax' m' 'ix' # 'i _ f _ t o1 zh ax # v r' 'e'1 m' 'ax' # l' 'o'1 h' k' 'ix' m' 'i %% %% s ax v r' 'i' m' 'e1 n n ax' m' 'i %%\n",
            "898   маленький двоечник развив в себе комплекс неполноценности перестаёт учиться\n",
            "%% m a'1 l' 'ix' n' k' 'ix' j' # d v o'1 jax sh n' 'ix k %% %% r a z v' 'i1 f # f s' 'i' b' 'e1 # k o1 m p l' 'ix k s # n' 'ix p ax l n a ts e1 n n ax' s' t' 'i %% %% p' 'ix' r' 'ix s t a' j' 'o1 t # u' ch' 'i1 ts ts a %%\n",
            "912   неизвестно высказал ли находившийся в полном сознании офицер версию аварии\n",
            "%% n' 'ixi z v' 'e1 s n a %% %% v y1 s k ax z ax l l' 'ix # n ax h a' d' 'i1 f sh ax' j' s' 'ax # f _ p o1 l n ax m # s a z n a'1 n' 'ixi # a' f' 'i ts e1 r # v' 'e1 r s' 'ix' jux # a v a'1 r' 'ixi %%\n",
            "994   отрасли сидящие на импорте оборудования и запчастей желали бы укрепления рубля\n",
            "%% o1 t r ax s l' 'i %% %% s' 'i' d' 'a'1 sh' 'ix' jax # n a' _ i1 m p ax r t' 'ix # a b a r u1 d ax v ax' n' 'ix' jax' # i _ z a1 p ch' 'i' s' t' 'e'1 j' # zh y l a'1 l' 'ix b ax # u k r' 'i p l' 'e'1 n' 'ix' jax # r u b l' 'a1 %%\n",
            "998   стыдиться конъюнктуры приспособленчества да и просто бездарности оказалось не перед кем\n",
            "%% s t y' d' 'i1 ts ts ax # k ax n j' 'u n k t u1 r y %% %% p r' 'ix s p ax s a b l' 'e'1 n' ch' 'ix s t v ax # d ax' _ i _ p r o1 s t ax' # b' 'i z d a1 r n ax' s' t' 'ix # a k a z a1 l ax' s' # n' 'e'1 p' 'ix' r' 'ix t k' 'ix m %%\n",
            "1031   новый закон вряд ли внесёт успокоение даже в ряды тех кто активно добивался его принятия\n",
            "%% n o1 v ax' j' # z a k o1 n # v r' 'a1 t l' 'ix # v n' 'i' s' 'o1 t # u s p ax k a' j' 'e'1 n' 'ix' jax # d a1 zh ax # v _ r' 'i d y'1 # t' 'e1 h %% %% k t o1 # a k t' 'i1 v n ax # d ax' b' 'i v a1 l s' 'ax' # ji v o1 # p r' 'i' n' 'a'1 t' 'ix' ja %%\n",
            "1041   за шарона отдали бы свои голоса пятьдесят процентов избирателей\n",
            "%% z ax _ sh a r o1 n a1 # a d d a' l' 'i1 b ax # s v a' i1 # g ax l a s a'1 # p' 'ix' d' d' 'i' s' 'a1 t # p r a ts e1 n t ax f # y z b' 'i r a'1 t' 'ix' l' 'ix' j' %%\n",
            "1046   на пять часов позже но заседание всё же началось\n",
            "%% n a' _ p' 'a'1 ch' # ch' 'i s o1 f # p o1 zh zh e %% %% n o1 # z ax' s' 'i d a'1 n' 'ix' jax # f s' 'o1 zh ax # n ax' ch' 'i l o'1 s' %%\n",
            "1066   учёные показали что добавление антиоксидантов в пищу продлевает жизнь на тридцать процентов\n",
            "%% u' ch' 'o1 n ax' jax # p ax k a z a'1 l' 'i %% %% sh t o1 # d ax b a v l' 'e'1 n' 'ix' jax # a'1 n' t' 'ixa k s' 'i d a1 n t ax f # f p' 'i'1 sh' 'ux # p r ax d l' 'i v a'1 jax d # zh y'1 z' n' # n a _ t r' 'i1 ts ts ax' t' # p r a ts e1 n t ax f %%\n",
            "1067   пятьдесят восемь лет характерная продолжительность жизни для папуасов в племенах новой гвинеи\n",
            "%% p' 'ix' d' d' 'i' s' 'a1 t # v o'1 s' 'ix' m' # l' 'e1 t %% %% h ax r a k t' 'e1 r n ax' jax # p r ax d a l zh y'1 t' 'ix' l' n ax' z' d' # zh y'1 z' n' 'ix # d l' 'a1 # p ax p u a1 s ax f # f p l' 'ix' m' 'i n a1 h # n o1 v ax' j' # g v' 'i' n' 'e'1 i %%\n",
            "1076   то что вы думаете будет тут же зафиксировано на экране или на кассете\n",
            "%% t o1 %% %% sh t o1 # v y1 # d u1 m ax' jax' t' 'e %% %% b u'1 d' 'ix t # t u1 d zh ax # z ax' f' 'i k s' 'i1 r ax v ax n ax # n ax _ e k r a'1 n' 'ix' # 'i'1 l' 'ix # n ax _ k a' s' 'e'1 t' 'e %%\n",
            "1109   сотни тысяч паломников со всего мира стали бы серьёзным подспорьем местному бюджету\n",
            "%% s o'1 t' n' 'ix # t y'1 s' 'ax' ch' # p a l o1 m n' 'ix k ax f # s ax _ f s' 'i v o'1 # m' 'i1 r ax # s t a'1 l' 'ix b ax' # s' 'i' r' j' 'o1 z n ax m # p a ts p o'1 r' j' 'ax m # m' 'e1 s n ax m ux' # b' 'u d zh e1 t u %%\n",
            "1123   позднее по москве ходили слухи что тело сталина чуть ли не вытряхнули из мундира\n",
            "%% p a' z' n' 'e'1 jax # p ax _ m a s k v' 'e1 # h a' d' 'i'1 l' 'ix # s l u'1 h' 'i %% %% sh t o'1 # t' 'e1 l ax # s t a'1 l' 'ix n ax' # ch' 'u'1 t' l' 'ix' # n' 'i _ v y1 t r' 'ax h n ux' l' 'ix' # 'i z _ m u' n' d' 'i1 r a %%\n",
            "1130   прежде чем отправиться в норвегию приступили к изучению атомной подлодки такого же класса\n",
            "%% p r' 'e1 zh d' 'ix' # ch' 'e1 m # a t p r a'1 v' 'ix ts ts ax # v _ n a r v' 'e'1 g' 'ix' ju %% %% p r' 'ix s t u' p' 'i'1 l' 'ix # k _ ax z u' ch' 'e'1 n' 'ix' jux # a1 t ax m n ax' j' # p a d l o1 t k' 'ix # t a k o1 v ax zh ax # k l a1 s s a %%\n",
            "1341   чтобы миру не было скучно правительство надумало раскрыть ему страшную тайну\n",
            "%% sh t o1 b ax' # m' 'i1 r ux' # n' 'e1 b ax l ax # s k u1 sh n a %% %% p r a' v' 'i'1 t' 'ix' l' s t v ax # n a d u1 m ax l ax # r a s k r y'1 t' # j' 'i m u1 # s t r a1 sh n ux' jux # t a'1 j' n u %%\n",
            "1738   на улицах не было никаких шумных пьяных оргий\n",
            "%% n a _ u'1 l' 'ix ts ax h # n' 'e1 b ax l ax' # n' 'ix k a' k' 'i1 h # sh u1 m n ax h # p' j' 'a1 n ax h # o1 r g' 'ix' j' %%\n",
            "1802   гроб сделали в тот же день\n",
            "%% g r o1 b # z' d' 'e1 l ax' l' 'ix # f _ t o1 d zh ax' # d' 'e'1 n' %%\n",
            "2289   курение ухудшает чувствительность клеток к инсулину\n",
            "%% k u' r' 'e'1 n' 'ix' jax # u h u t sh a'1 jax t # ch' 'u s t v' 'i'1 t' 'ix' l' n ax' s' t' # k l' 'e1 t ax k # k ax n s u' l' 'i1 n u %%\n",
            "2320   продажи обогревателей выросли в пять раз по сравнению с тем же периодом прошлого года\n",
            "%% p r a d a1 zh ax # a b ax g r' 'i v a'1 t' 'ix' l' 'ix' j' # v y1 r ax s l' 'ix # f _ p' 'a'1 t' # r a1 s # p ax _ s r a v n' 'e'1 n' 'ix' jux' # s' _ t' 'e1 m zh ax' # p' 'i' r' 'i1 o d ax m # p r o1 sh l ax v ax # g o1 d a %%\n",
            "2344   наши предки хищниками не были и дорожили своей нишей в биосфере\n",
            "%% n a1 sh ax # p r' 'e1 t k' 'ix' # h' 'i'1 sh' n' 'ix k ax' m' 'ix' # n' 'e1 b ax' l' 'ix' # 'i _ d ax r a zh y'1 l' 'ix # s v a' j' 'e'1 j' # n' 'i1 sh ax' j' # v _ b' 'ixa s f' 'e'1 r' 'e %%\n",
            "2390   америка и россия являются сегодня единственными странами отправляющими своих космонавтов в космос\n",
            "%% a' m' 'e'1 r' 'ix k ax' # i _ r a' s' s' 'i'1 jax' # ji v l' 'a'1 jux ts ts ax' # s' 'i v o'1 d' n' 'ax' # ji' d' 'i1 n s t v' 'ix n n ax' m' 'ix # s t r a1 n ax' m' 'i %% %% a t p r a v l' 'a'1 jux' sh' 'ix' m' 'ix # s v a' i1 h # k ax s m a n a1 f t ax f # f k o1 s m ax s %%\n",
            "2403   всё будет зависеть от того успешно ли пристыкуется к комплексу последний грузовой корабль\n",
            "%% f s' 'o1 # b u'1 d' 'ix d # z a' v' 'i'1 s' 'ix' t' # 'a t _ t a v o1 %% %% u s p' 'e1 sh n ax' l' 'ix # p r' 'ix s t y k u'1 jax ts ts ax # k _ k o1 m p l' 'ix k s ux # p a s l' 'e'1 d' n' 'ix' j' # g r ux z a v o'1 j' # k a r a1 b l' %%\n",
            "2745   кабинетные работники с появлением спецтранспорта и охраны утрачивают связь с действительностью\n",
            "%% k ax' b' 'i' n' 'e1 t n ax' jax # r a b o'1 t' n' 'ix' k' 'ix # s _ p ax' ji v l' 'e'1 n' 'ix' jax m # s p' 'e1 ts t r a1 n s p ax r t ax' # i _ a h r a1 n ax # u t r a'1 ch' 'ix v ax' jux t # s v' 'a'1 z' # z' d' 'i' j' s t v' 'i'1 t' 'ix' l' n ax' s' t' j' 'u %%\n",
            "2787   греческие игроки призвали своих коллег к забастовке\n",
            "%% g r' 'e'1 ch' 'ix s k' 'ix' jax' # i g r a' k' 'i1 # p r' 'i z v a'1 l' 'ix # s v a' i1 h # k a' l' 'e1 g # g z ax b a s t o1 f k' 'e %%\n",
            "2795   с начала года ни один автомобиль не был отправлен российским заказчикам\n",
            "%% s _ n a' ch' 'a1 l ax # g o1 d ax' # n' 'ix _ a' d' 'i1 n # a f t ax m a' b' 'i'1 l' # n' 'e1 b ax l # a t p r a1 v l' 'ix n # r a' s' 'i'1 j' s k' 'ix m # z a k a'1 sh' 'ix k ax m %%\n",
            "2987   вряд ли кому-нибудь удастся повторить это достижение\n",
            "%% v r' 'a1 t l' 'ix # k a m u'1 n' 'ix b ux' t' # 'u d a1 s ts ts ax # p ax f t a' r' 'i'1 t' # 'e1 t ax # d ax' s' t' 'i zh e'1 n' 'ix' je %%\n",
            "3069   союз правых сил никогда не был сторонником популистских решений\n",
            "%% s a' j' 'u1 s # p r a1 v ax h # s' 'i1 l # n' 'ix k a g d a'1 # n' 'e1 b ax l # s t a r o'1 n' n' 'ix k ax m # p ax p u' l' 'i1 s s k' 'ix h # r' 'i sh e'1 n' 'ix' j' %%\n",
            "3122   на территории америки никогда не было настоящих войн\n",
            "%% n ax' _ t' 'ix' r' 'i t o'1 r' 'ixi # a' m' 'e'1 r' 'ix' k' 'ix' # n' 'ix k a g d a'1 # n' 'e1 b ax l ax # n ax s t a' j' 'a'1 sh' 'ix h # v o'1 j' n %%\n",
            "3831   план использования нефти из стратегического резерва вряд ли будет реализован\n",
            "%% p l a1 n # y s p o'1 l' z ax v ax' n' 'ix' jax' # n' 'e1 f t' 'ix' # 'i s _ s t r ax' t' 'i' g' 'i'1 ch' 'ix s k ax v ax' # r' 'i' z' 'e1 r v ax # v r' 'a1 t l' 'ix # b u'1 d' 'ix t # r' 'ixa' l' 'i z o1 v ax n %%\n",
            "4010   достигнута договорённость по строительству дорог к месторождениям\n",
            "%% d a' s' t' 'i1 g n ux t ax # d ax g ax v a' r' 'o1 n n ax' s' t' # p ax _ s t r a' i'1 t' 'ix' l' s t v ux # d a r o1 k # k m' 'ix s t ax r a zh d' 'e'1 n' 'ix' jax m %%\n",
            "4064   бюллетени для голосования не были вовремя разосланы акционерам\n",
            "%% b' 'ux' l' 'i' t' 'e'1 n' 'ix # d l' 'a _ g ax l ax s a v a'1 n' 'ix' jax' # n' 'e1 b ax' l' 'ix # v o1 v r' 'ix' m' 'ax # r a z o1 s l ax n ax # a k ts axa' n' 'e1 r ax m %%\n",
            "4107   в предвыборный год губернаторы безропотно согласились бы отдать механизм управления\n",
            "%% f _ p r' 'i d v y1 b ax r n ax' j' # g o1 d # g ux' b' 'i r n a1 t ax r ax' # b' 'i z r o1 p ax t n ax # s ax g l a' s' 'i'1 l' 'ix' z' b ax # a d d a'1 t' # m' 'ix h a' n' 'i1 z m # u p r a v l' 'e'1 n' 'ix' ja %%\n",
            "4148   абсолютная замена поджелудочной железы могла бы решить проблему диабета\n",
            "%% a p s a' l' 'u1 t n ax' jax # z a' m' 'e1 n ax # p ax d zh y l u1 d ax' ch' n ax' j' # zh ax' l' 'i z y1 # m a g l a1 b ax' # r' 'i sh y'1 t' # p r a b l' 'e1 m ux' # d' 'ixa' b' 'e1 t a %%\n",
            "5012   было объявлено о возможном начале торгов в конце апреля\n",
            "%% b y1 l ax # a b j' 'a1 v l' 'ix n ax # a _ v a z m o1 zh n ax m # n a' ch' 'a'1 l' 'ix # t a r g o1 f # f k a n ts e1 # a p r' 'e'1 l' 'a %%\n",
            "5043   сегодня нет новостей которые могли бы оказать негативное влияние на рынок\n",
            "%% s' 'i v o'1 d' n' 'ax' # n' 'e1 t # n ax v a' s' t' 'e'1 j' %% %% k a t o1 r ax' jax # m a g l' 'i1 b ax # a k a z a'1 t' # n' 'ix g a' t' 'i1 v n ax' jax # v l' 'i' j' 'a'1 n' 'ix' jax # n a _ r y1 n ax k %%\n",
            "5980   преступность в подмосковье практически осталась на том же уровне\n",
            "%% p r' 'i s t u1 p n ax' s' t' # f _ p ax d m a s k o'1 v' j' 'ax # p r a k t' 'i'1 ch' 'ix s k' 'ix # a s t a1 l ax' s' # n a _ t o1 m zh ax # u1 r ax v n' 'e %%\n",
            "5998   на видео- и фотоаппаратуру снимали сцены насилия\n",
            "%% n a' _ v' 'i'1 d' 'ixo' i _ f o1 t ax a p ax r a t u1 r ux' # s' n' 'i m a'1 l' 'ix # s ts e1 n ax # n a' s' 'i'1 l' 'ix' ja %%\n",
            "6089   в обществе всегда много точек зрения на одну и ту же проблему\n",
            "%% v _ o1 p sh' 'ix s t v' 'ix # f s' 'i g d a1 # m n o1 g ax # t o'1 ch' 'ix g # z r' 'e'1 n' 'ix' jax # n ax _ a d n u'1 # i _ t u1 zh ax # p r a b l' 'e1 m u %%\n",
            "6107   дети уезжают за границу и получают образование у наших же педагогов\n",
            "%% d' 'e'1 t' 'ix # u' ji' zh' 'a'1 jux d # z ax _ g r a' n' 'i1 ts ux' # i _ p ax l u' ch' 'a'1 jux t # a b r ax z a v a'1 n' 'ix' jax # u _ n a1 sh ax gh zh ax' # p' 'ix d a g o1 g ax f %%\n",
            "6124   всю осень у нас не было света и горячей воды\n",
            "%% f s' 'u1 # o'1 s' 'ix' n' # 'u _ n a1 s # n' 'e1 b ax l ax # s v' 'e1 t ax' # i _ g a' r' 'a'1 ch' 'ix' j' # v a d y1 %%\n",
            "6129   кора надпочечников в период магнитной бури работает как в условиях стресса\n",
            "%% k a r a1 # n a t p o'1 ch' 'ix' ch' n' 'ix k ax f # f p' 'i' r' 'i1 o t # m a g n' 'i1 t n ax' j' # b u'1 r' 'ix # r a b o1 t ax' jax t # k a1 k # v _ u s l o'1 v' 'ix' jax h # s t r e1 s a %%\n",
            "7487   в быстрых шахматах компьютер перебирает миллионы ходов в секунду\n",
            "%% v _ b y1 s t r ax h # sh a1 h m ax t ax h # k a m p' j' 'u1 t ax r # p' 'ix' r' 'ix' b' 'i r a'1 jax t # m' 'ix' l' 'i o1 n ax # h a d o1 f # f s' 'i k u1 n d u %%\n",
            "7567   функции прокуроров остались теми же что и в судебном уставе\n",
            "%% f u1 n k ts ax' i # p r ax k u r o1 r ax f # a s t a'1 l' 'ix' s' # t' 'e'1 m' 'ix zh e %% %% sh t o'1 # i _ f _ s u' d' 'e1 b n ax m # u s t a'1 v' 'e %%\n",
            "7626   в герметично закрытом отсеке рыб не было\n",
            "%% v _ g' 'ix r m' 'i' t' 'i'1 ch' n ax # z a k r y1 t ax m # a' t' s' 'e'1 k' 'ix # r y1 p # n' 'e1 b ax l a %%\n",
            "Anomalies: 49\n"
          ],
          "name": "stdout"
        },
        {
          "output_type": "display_data",
          "data": {
            "image/png": "[encoded data removed]",
            "text/plain": [
              "<Figure size 864x288 with 2 Axes>"
            ]
          },
          "metadata": {
            "tags": []
          }
        }
      ]
    },
    {
      "cell_type": "markdown",
      "metadata": {
        "id": "XxTcio_yKSbh",
        "colab_type": "text"
      },
      "source": [
        "#### So we have 49 anomalies out of 3131 samples"
      ]
    },
    {
      "cell_type": "markdown",
      "metadata": {
        "id": "uV_cJH70KuSg",
        "colab_type": "text"
      },
      "source": [
        "### Let's see if we need to clean the data. First let's take a look at rus corpus alphabet"
      ]
    },
    {
      "cell_type": "code",
      "metadata": {
        "id": "LyV9anvZn187",
        "colab_type": "code",
        "outputId": "4b1dcd9f-0049-4133-c0e0-4f356eb7316a",
        "colab": {
          "base_uri": "https://localhost:8080/",
          "height": 298
        }
      },
      "source": [
        "s = sorted(chars.items())\n",
        "pd.DataFrame(s, index=(e[0]+' ' for e in s)).plot.bar(figsize=(18,4), rot=0, title = 'Char frequencies', legend=False)\n",
        "print(f'Number of times \"-\" used: {chars[\"-\"]}')"
      ],
      "execution_count": 40,
      "outputs": [
        {
          "output_type": "stream",
          "text": [
            "Number of times \"-\" used: 159\n"
          ],
          "name": "stdout"
        },
        {
          "output_type": "display_data",
          "data": {
            "image/png": "[encoded data removed]",
            "text/plain": [
              "<Figure size 1296x288 with 1 Axes>"
            ]
          },
          "metadata": {
            "tags": []
          }
        }
      ]
    },
    {
      "cell_type": "markdown",
      "metadata": {
        "id": "83TZ18z9K8Qy",
        "colab_type": "text"
      },
      "source": [
        "#### Looks good! We neither have punctuations nor capital letters. The only case to check is '-' letter which is used 159 times"
      ]
    },
    {
      "cell_type": "code",
      "metadata": {
        "id": "hEqkK_LRKLb-",
        "colab_type": "code",
        "outputId": "2c4b2e01-9730-4cca-be60-d9d2d34740f8",
        "colab": {
          "base_uri": "https://localhost:8080/",
          "height": 54
        }
      },
      "source": [
        "seen = set()\n",
        "seen_dash = set()\n",
        "dash_words = []\n",
        "for rus,trn in rus_trn:\n",
        "  if rus not in seen:\n",
        "    if '-' in rus:\n",
        "      ru_words = rus.split()\n",
        "      for each in ru_words:\n",
        "        if '-' in each:\n",
        "          if each not in seen_dash:\n",
        "            seen_dash.add(each)\n",
        "            dash_words.append(each)\n",
        "  else:\n",
        "    seen.add(rus)\n",
        "  \n",
        "print(dash_words)"
      ],
      "execution_count": 67,
      "outputs": [
        {
          "output_type": "stream",
          "text": [
            "['анти-обледенитель', 'иридо-диагностика', 'дом-красавец', 'из-за', 'радио-сигналом', 'ноль-три', 'ноль-два', 'мало-обеспеченные', 'шкаф-купе', 'тех-осмотр', 'пресс-службе', 'авто-сервис', 'чуть-чуть', 'аудио-', 'какие-либо', 'де-факто', 'стерео-', 'царь-колокол', 'царь-пушка', 'гео-магнитного', 'электро-катастрофы', 'фигуристы-новобранцы', 'что-то', 'какое-либо', 'веб-операторы', 'воздушно-десантной', 'военно-морских', 'ветераны-афганцы', 'одного-единственного', 'природно-климатические', 'одном-двух', 'санкт-петербурге', 'стран-участниц', 'пять-шесть', 'по-своему', 'матч-реванш', 'словаря-справочника', 'штаб-квартире', 'чем-то', 'чего-то', 'экс-губернатора', 'российско-американский', 'северо-восточных', 'красно-белую', 'какой-нибудь', 'бело-жёлтый', 'карту-схему', 'юго-западный', 'радио-охранное', 'по-прежнему', 'каким-то', 'кино-картины', 'авто-трюки', 'пресс-конференции', 'генерал-прокурором', 'нью-йорке', 'медиа-группы', 'нью-йоркской', 'какие-то', 'санкт-петербурга', 'санкт-петербург', 'памятники-символы', 'премьер-министр', 'взлётно-посадочную', 'какого-нибудь', 'январе-феврале', 'птица-говорун', 'жучки-камнееды', 'школу-комплекс', 'художников-оформителей', 'какое-то', 'купли-продажи', 'каких-либо', 'генерал-лейтенант', 'карты-схемы', 'кому-нибудь', 'детям-инвалидам', 'как-то', 'золото-валютных', 'наконец-то', 'государственно-общественной', 'бизнес-сообщества', 'причинно-следственных', 'по-настоящему', 'юго-западного', 'премьер-министру', 'нью-йорк', 'пропан-бутановые', 'пресс-служба', 'физико-химическими', 'средне-взвешенный', 'интернет-сетью', 'экспресс-опрос', 'либерально-демократической', 'вице-премьер', 'пресс-конференция', 'военно-морского', 'по-другому', 'вице-спикера', 'радио-станции', 'конференц-зале', 'золото-валютные', 'фирм-членов', 'премьер-министром', 'химико-фармацевтической', 'весенне-полевых', 'пресс-секретарь', 'сирийско-израильский', 'юго-восток', 'сьерра-леонэ', 'южно-африканской', 'медиа-мостом', 'диско-марафон', 'видео-', 'две-три', 'экс-посол', 'военно-политического', 'компакт-диски', 'мини-электростанция', 'когда-нибудь', 'кто-то', 'веке-волкодаве', 'из-под', 'капитан-лейтенанта', 'просто-напросто', 'всё-таки', 'пресс-службы', 'южно-сахалинске', 'оперативно-следственная', 'армяно-российского', 'северо-западе']\n"
          ],
          "name": "stdout"
        }
      ]
    },
    {
      "cell_type": "markdown",
      "metadata": {
        "id": "3VHh6JUCPGlb",
        "colab_type": "text"
      },
      "source": [
        "#### Okey, words with dash look fine, we'll consider dash as a normal letter"
      ]
    },
    {
      "cell_type": "markdown",
      "metadata": {
        "id": "G-xAjHqyjh3x",
        "colab_type": "text"
      },
      "source": [
        "### So in order to implement autocoder for transcript we'd need to keep special symbools in transcript such as \"\\_\" and \"%% %%\". So let's create a dictionary of sentences rus <-> trans. So let's recreate the dictionary so \"\\_\" and \"%% %%\" are marked with '#' and remove begin and end markers. Plus to that let's get rid of duplicates.\n"
      ]
    },
    {
      "cell_type": "code",
      "metadata": {
        "id": "7827cG05JrMn",
        "colab_type": "code",
        "outputId": "4c03b597-76dc-433a-ab99-b54bb96ba0c5",
        "colab": {
          "base_uri": "https://localhost:8080/",
          "height": 173
        }
      },
      "source": [
        "# !pip3 install transliterate\n",
        "# from transliterate import translit\n",
        "# translit('длавды дылпадыал лыдап', 'ru', reversed=True)"
      ],
      "execution_count": 22,
      "outputs": [
        {
          "output_type": "stream",
          "text": [
            "Collecting transliterate\n",
            "\u001b[?25l  Downloading https://files.pythonhosted.org/packages/a1/6e/9a9d597dbdd6d0172427c8cc07c35736471e631060df9e59eeb87687f817/transliterate-1.10.2-py2.py3-none-any.whl (45kB)\n",
            "\r\u001b[K     |███████▏                        | 10kB 20.2MB/s eta 0:00:01\r\u001b[K     |██████████████▎                 | 20kB 2.1MB/s eta 0:00:01\r\u001b[K     |█████████████████████▌          | 30kB 3.1MB/s eta 0:00:01\r\u001b[K     |████████████████████████████▋   | 40kB 2.1MB/s eta 0:00:01\r\u001b[K     |████████████████████████████████| 51kB 2.0MB/s \n",
            "\u001b[?25hRequirement already satisfied: six>=1.1.0 in /usr/local/lib/python3.6/dist-packages (from transliterate) (1.12.0)\n",
            "Installing collected packages: transliterate\n",
            "Successfully installed transliterate-1.10.2\n",
            "Requirement already satisfied: transliterate in /usr/local/lib/python3.6/dist-packages (1.10.2)\n",
            "Requirement already satisfied: six>=1.1.0 in /usr/local/lib/python3.6/dist-packages (from transliterate) (1.12.0)\n"
          ],
          "name": "stdout"
        }
      ]
    },
    {
      "cell_type": "code",
      "metadata": {
        "id": "PBgF1l93y39m",
        "colab_type": "code",
        "outputId": "2fa104a9-6794-449a-a328-cf8dd18b11af",
        "colab": {
          "base_uri": "https://localhost:8080/",
          "height": 298
        }
      },
      "source": [
        "seen_rus = set()\n",
        "seen_trn = set()\n",
        "\n",
        "res, trn_l, rus_l = [], [], []\n",
        "\n",
        "for rus, trn in rus_trn:\n",
        "\n",
        "  if rus not in seen_rus or trn not in seen_trn:\n",
        "      seen_rus.add(rus)\n",
        "      seen_trn.add(trn)\n",
        "\n",
        "      # trn = translit(rus, 'ru', reversed=True)\n",
        "\n",
        "      rus = '^ ' + rus + ' $'\n",
        "      trn = trn.replace('%% %%', '%% %% #').replace('_', '_ #')[2:-2]\n",
        "      trn = '^#' + trn + '#$'\n",
        "\n",
        "      rus_l.append( len(rus.split()))\n",
        "      trn_l.append( len(trn.split('#')))\n",
        "\n",
        "      res.append([rus.split(), trn.split('#')])\n",
        "\n",
        "      # res.append([list(rus), trn.split(' ')])\n",
        "      # rus_l.append( len(list(rus)))\n",
        "      # trn_l.append( len(trn.split(' ')))\n",
        "\n",
        "\n",
        "rus_trn_new = array(res)\n",
        "trn_length = max(trn_l)\n",
        "rus_length = max(rus_l)\n",
        "print(f'max len rus: {rus_length}, max len trn: {trn_length}')\n",
        "fig, (ax1, ax2) = plt.subplots(nrows=1,ncols=2,figsize=(12,4))\n",
        "pd.DataFrame({'Number of words in Rus sentence':rus_l}).hist(ax=ax1, bins = 30);\n",
        "pd.DataFrame({'Number of words in Trns sentence':trn_l}).hist(ax=ax2, bins = 30);"
      ],
      "execution_count": 229,
      "outputs": [
        {
          "output_type": "stream",
          "text": [
            "max len rus: 17, max len trn: 17\n"
          ],
          "name": "stdout"
        },
        {
          "output_type": "display_data",
          "data": {
            "image/png": "[encoded data removed]",
            "text/plain": [
              "<Figure size 864x288 with 2 Axes>"
            ]
          },
          "metadata": {
            "tags": []
          }
        }
      ]
    },
    {
      "cell_type": "code",
      "metadata": {
        "id": "sXSC9rDUe6ut",
        "colab_type": "code",
        "colab": {}
      },
      "source": [
        "# trn = re.split(r'#|(_|%% %%)',rus_trn[0][1][2:-2])\n",
        "# trn = list(filter(None, trn))\n",
        "# '#'.join(trn)"
      ],
      "execution_count": 0,
      "outputs": []
    },
    {
      "cell_type": "markdown",
      "metadata": {
        "id": "CbQ82gWtkTDx",
        "colab_type": "text"
      },
      "source": [
        "### Text to Sequence Conversion"
      ]
    },
    {
      "cell_type": "code",
      "metadata": {
        "id": "9_rN4qwpvoOt",
        "colab_type": "code",
        "outputId": "8e0f05a0-9a0e-4a47-a091-0027123d6965",
        "colab": {
          "base_uri": "https://localhost:8080/",
          "height": 54
        }
      },
      "source": [
        "for rus, trn in rus_trn_new:\n",
        "  if '^ здание аргентинского посольства расположено крайне неудачно $'.split() == rus:\n",
        "    print(trn)\n",
        "    break"
      ],
      "execution_count": 232,
      "outputs": [
        {
          "output_type": "stream",
          "text": [
            "['^', \" z d a'1 n' 'ix' jax \", \" a r g' 'i' n' t' 'i1 n s k ax v ax \", \" p a s o'1 l' s t v ax \", ' r ax s p a l o1 zh ax n ax ', \" k r a'1 j' n' 'ix' \", \" n' 'ixu d a'1 ch' n a \", '$']\n"
          ],
          "name": "stdout"
        }
      ]
    },
    {
      "cell_type": "code",
      "metadata": {
        "id": "nt-GGIUNlkCU",
        "colab_type": "code",
        "colab": {}
      },
      "source": [
        "def tokenization(lines, split=' '):\n",
        "  tokenizer = Tokenizer(filters='', lower=False, split=split)\n",
        "  tokenizer.fit_on_texts(lines)\n",
        "  return tokenizer\n",
        "\n",
        "def encode_sequences(tokenizer, length, lines):\n",
        "  seq = tokenizer.texts_to_sequences(lines)\n",
        "  seq = pad_sequences(sequences=seq, maxlen=length, padding='post')\n",
        "  return seq"
      ],
      "execution_count": 0,
      "outputs": []
    },
    {
      "cell_type": "code",
      "metadata": {
        "id": "670W8CC1llqC",
        "colab_type": "code",
        "outputId": "bd187680-17c9-4d98-aa60-7cedbd21c749",
        "colab": {
          "base_uri": "https://localhost:8080/",
          "height": 51
        }
      },
      "source": [
        "rus_tokenizer = tokenization(rus_trn_new[:, 0])\n",
        "rus_vocab_size = len(rus_tokenizer.word_index) + 1\n",
        "trn_tokenizer = tokenization(rus_trn_new[:, 1], split='#')\n",
        "\n",
        "trn_vocab_size = len(trn_tokenizer.word_index) + 1\n",
        "print(f'Rus Vocabulary Size: {rus_vocab_size}')\n",
        "print(f'Trns Vocabulary Size: {trn_vocab_size}')"
      ],
      "execution_count": 234,
      "outputs": [
        {
          "output_type": "stream",
          "text": [
            "Rus Vocabulary Size: 12178\n",
            "Trns Vocabulary Size: 13892\n"
          ],
          "name": "stdout"
        }
      ]
    },
    {
      "cell_type": "markdown",
      "metadata": {
        "id": "xiOIpMPLkAC0",
        "colab_type": "text"
      },
      "source": [
        "### German\n"
      ]
    },
    {
      "cell_type": "code",
      "metadata": {
        "id": "gjF0CRnUgjRX",
        "colab_type": "code",
        "outputId": "38405368-bbc8-4f53-b486-ef597668b482",
        "colab": {
          "base_uri": "https://localhost:8080/",
          "height": 153
        }
      },
      "source": [
        "import string\n",
        "\n",
        "# function to read raw text file\n",
        "def read_text(filename):\n",
        "        # open the file\n",
        "        file = open(filename, mode='rt', encoding='utf-8')\n",
        "        \n",
        "        # read all text\n",
        "        text = file.read()\n",
        "        file.close()\n",
        "        return text\n",
        "\n",
        "# split a text into sentences\n",
        "def to_lines(text):\n",
        "      sents = text.strip().split('\\n')\n",
        "      sents = [i.split('\\t')[:2] for i in sents]\n",
        "      return sents\n",
        "\n",
        "data = read_text(gpath / 'My Drive/Samsung' / 'deu.txt')\n",
        "deu_eng = to_lines(data)\n",
        "deu_eng = array(deu_eng)\n",
        "\n",
        "deu_eng = deu_eng[:50000,:]\n",
        "\n",
        "# Remove punctuation\n",
        "deu_eng[:,0] = [s.translate(str.maketrans('', '', string.punctuation)) for s in deu_eng[:,0]]\n",
        "deu_eng[:,1] = [s.translate(str.maketrans('', '', string.punctuation)) for s in deu_eng[:,1]]\n",
        "\n",
        "# convert text to lowercase\n",
        "for i in range(len(deu_eng)):\n",
        "    deu_eng[i,0] = deu_eng[i,0].lower()\n",
        "    deu_eng[i,1] = deu_eng[i,1].lower()\n",
        "\n",
        "deu_eng"
      ],
      "execution_count": 244,
      "outputs": [
        {
          "output_type": "execute_result",
          "data": {
            "text/plain": [
              "array([['hi', 'hallo'],\n",
              "       ['hi', 'grüß gott'],\n",
              "       ['run', 'lauf'],\n",
              "       ...,\n",
              "       ['he has no specific aim', 'er hat kein bestimmtes ziel'],\n",
              "       ['he has only four pesos', 'er hat nur vier pesos'],\n",
              "       ['he has stopped smoking', 'er hörte mit dem rauchen auf']],\n",
              "      dtype='<U537')"
            ]
          },
          "metadata": {
            "tags": []
          },
          "execution_count": 244
        }
      ]
    },
    {
      "cell_type": "code",
      "metadata": {
        "id": "tUD5w19jimrb",
        "colab_type": "code",
        "outputId": "24adc6be-46b6-463b-bd1c-68bced2adc6a",
        "colab": {
          "base_uri": "https://localhost:8080/",
          "height": 1000
        }
      },
      "source": [
        "# prepare english tokenizer\n",
        "eng_tokenizer = tokenization(deu_eng[:, 0])\n",
        "eng_vocab_size = len(eng_tokenizer.word_index) + 1\n",
        "\n",
        "eng_length = 8\n",
        "print('English Vocabulary Size: %d' % eng_vocab_size)\n",
        "# prepare Deutch tokenizer\n",
        "deu_tokenizer = tokenization(deu_eng[:, 1])\n",
        "deu_vocab_size = len(deu_tokenizer.word_index) + 1\n",
        "\n",
        "deu_length = 15\n",
        "print('Deutch Vocabulary Size: %d' % deu_vocab_size)\n",
        "\n",
        "# split data into train and test set\n",
        "train, test = train_test_split(deu_eng, test_size=0.2, random_state = 12)\n",
        "\n",
        "# prepare training data\n",
        "trainX = encode_sequences(deu_tokenizer, deu_length, train[:, 1])\n",
        "trainY = encode_sequences(eng_tokenizer, eng_length, train[:, 0])\n",
        "\n",
        "# prepare validation data\n",
        "testX = encode_sequences(deu_tokenizer, deu_length, test[:, 1])\n",
        "testY = encode_sequences(eng_tokenizer, eng_length, test[:, 0])\n",
        "\n",
        "# model compilation\n",
        "model = define_model(deu_vocab_size, eng_vocab_size, deu_length, eng_length, 512)\n",
        "\n",
        "rms = optimizers.RMSprop(lr=0.001)\n",
        "model.compile(optimizer=rms, loss='sparse_categorical_crossentropy')\n",
        "model.summary()\n",
        "\n",
        "# train model\n",
        "history = model.fit(trainX, trainY.reshape(*trainY.shape, 1),\n",
        "                    epochs=30, batch_size=512, validation_split = 0.2,callbacks=[], \n",
        "                    verbose=1)"
      ],
      "execution_count": 158,
      "outputs": [
        {
          "output_type": "stream",
          "text": [
            "English Vocabulary Size: 6345\n",
            "Deutch Vocabulary Size: 10501\n",
            "Model: \"sequential_6\"\n",
            "_________________________________________________________________\n",
            "Layer (type)                 Output Shape              Param #   \n",
            "=================================================================\n",
            "embedding_6 (Embedding)      (None, 15, 512)           5376512   \n",
            "_________________________________________________________________\n",
            "lstm_11 (LSTM)               (None, 512)               2099200   \n",
            "_________________________________________________________________\n",
            "repeat_vector_6 (RepeatVecto (None, 8, 512)            0         \n",
            "_________________________________________________________________\n",
            "lstm_12 (LSTM)               (None, 8, 512)            2099200   \n",
            "_________________________________________________________________\n",
            "dense_6 (Dense)              (None, 8, 6345)           3254985   \n",
            "=================================================================\n",
            "Total params: 12,829,897\n",
            "Trainable params: 12,829,897\n",
            "Non-trainable params: 0\n",
            "_________________________________________________________________\n",
            "Train on 32000 samples, validate on 8000 samples\n",
            "Epoch 1/30\n",
            "32000/32000 [==============================] - 12s 363us/step - loss: 3.5048 - val_loss: 2.9154\n",
            "Epoch 2/30\n",
            "32000/32000 [==============================] - 9s 275us/step - loss: 2.8602 - val_loss: 2.8081\n",
            "Epoch 3/30\n",
            "32000/32000 [==============================] - 9s 278us/step - loss: 2.7104 - val_loss: 2.6770\n",
            "Epoch 4/30\n",
            "32000/32000 [==============================] - 9s 277us/step - loss: 2.5272 - val_loss: 2.5572\n",
            "Epoch 5/30\n",
            "32000/32000 [==============================] - 9s 278us/step - loss: 2.3766 - val_loss: 2.4391\n",
            "Epoch 6/30\n",
            "32000/32000 [==============================] - 9s 280us/step - loss: 2.2279 - val_loss: 2.2732\n",
            "Epoch 7/30\n",
            "32000/32000 [==============================] - 9s 282us/step - loss: 2.0978 - val_loss: 2.2046\n",
            "Epoch 8/30\n",
            "32000/32000 [==============================] - 9s 279us/step - loss: 1.9787 - val_loss: 2.1182\n",
            "Epoch 9/30\n",
            "32000/32000 [==============================] - 9s 279us/step - loss: 1.8633 - val_loss: 2.0180\n",
            "Epoch 10/30\n",
            "32000/32000 [==============================] - 9s 282us/step - loss: 1.7511 - val_loss: 1.9476\n",
            "Epoch 11/30\n",
            "32000/32000 [==============================] - 9s 281us/step - loss: 1.6480 - val_loss: 1.8719\n",
            "Epoch 12/30\n",
            "32000/32000 [==============================] - 9s 280us/step - loss: 1.5467 - val_loss: 1.8270\n",
            "Epoch 13/30\n",
            "32000/32000 [==============================] - 9s 281us/step - loss: 1.4509 - val_loss: 1.7471\n",
            "Epoch 14/30\n",
            "32000/32000 [==============================] - 9s 280us/step - loss: 1.3603 - val_loss: 1.6992\n",
            "Epoch 15/30\n",
            "32000/32000 [==============================] - 9s 281us/step - loss: 1.2758 - val_loss: 1.6519\n",
            "Epoch 16/30\n",
            "32000/32000 [==============================] - 9s 279us/step - loss: 1.1912 - val_loss: 1.6090\n",
            "Epoch 17/30\n",
            "32000/32000 [==============================] - 9s 280us/step - loss: 1.1153 - val_loss: 1.5850\n",
            "Epoch 18/30\n",
            "32000/32000 [==============================] - 9s 279us/step - loss: 1.0396 - val_loss: 1.5418\n",
            "Epoch 19/30\n",
            "32000/32000 [==============================] - 9s 278us/step - loss: 0.9696 - val_loss: 1.5010\n",
            "Epoch 20/30\n",
            "32000/32000 [==============================] - 9s 279us/step - loss: 0.9006 - val_loss: 1.4741\n",
            "Epoch 21/30\n",
            "32000/32000 [==============================] - 9s 279us/step - loss: 0.8378 - val_loss: 1.4446\n",
            "Epoch 22/30\n",
            "32000/32000 [==============================] - 9s 278us/step - loss: 0.7740 - val_loss: 1.4342\n",
            "Epoch 23/30\n",
            "32000/32000 [==============================] - 9s 279us/step - loss: 0.7178 - val_loss: 1.4104\n",
            "Epoch 24/30\n",
            "32000/32000 [==============================] - 9s 280us/step - loss: 0.6627 - val_loss: 1.3898\n",
            "Epoch 25/30\n",
            "32000/32000 [==============================] - 9s 278us/step - loss: 0.6118 - val_loss: 1.3854\n",
            "Epoch 26/30\n",
            "32000/32000 [==============================] - 9s 279us/step - loss: 0.5643 - val_loss: 1.3585\n",
            "Epoch 27/30\n",
            "32000/32000 [==============================] - 9s 278us/step - loss: 0.5191 - val_loss: 1.3514\n",
            "Epoch 28/30\n",
            "32000/32000 [==============================] - 9s 277us/step - loss: 0.4749 - val_loss: 1.3580\n",
            "Epoch 29/30\n",
            "32000/32000 [==============================] - 9s 277us/step - loss: 0.4359 - val_loss: 1.3480\n",
            "Epoch 30/30\n",
            "32000/32000 [==============================] - 9s 278us/step - loss: 0.3993 - val_loss: 1.3298\n"
          ],
          "name": "stdout"
        }
      ]
    },
    {
      "cell_type": "code",
      "metadata": {
        "id": "VDW5bf3BjYbh",
        "colab_type": "code",
        "outputId": "88a922dd-3c24-49b2-eaf6-6d44200e9df6",
        "colab": {
          "base_uri": "https://localhost:8080/",
          "height": 265
        }
      },
      "source": [
        "plt.plot(history.history['loss'])\n",
        "plt.plot(history.history['val_loss'])\n",
        "plt.legend(['train','validation'])\n",
        "plt.show()"
      ],
      "execution_count": 159,
      "outputs": [
        {
          "output_type": "display_data",
          "data": {
            "image/png": "[encoded data removed]",
            "text/plain": [
              "<Figure size 432x288 with 1 Axes>"
            ]
          },
          "metadata": {
            "tags": []
          }
        }
      ]
    },
    {
      "cell_type": "code",
      "metadata": {
        "id": "9NVry3KpjgeE",
        "colab_type": "code",
        "outputId": "7f324dde-3ff8-4dbe-bd4a-09200901ee8f",
        "colab": {
          "base_uri": "https://localhost:8080/",
          "height": 514
        }
      },
      "source": [
        "preds = model.predict_classes(testX[:100])\n",
        "preds\n",
        "\n",
        "preds_text = []\n",
        "for i in preds:\n",
        "       temp = []\n",
        "       for j in range(len(i)):\n",
        "            t = get_word(i[j], eng_tokenizer)\n",
        "            if j > 0:\n",
        "                if (t == get_word(i[j-1], eng_tokenizer)) or (t == None):\n",
        "                     temp.append('')\n",
        "                else:\n",
        "                     temp.append(t)\n",
        "            else:\n",
        "                   if(t == None):\n",
        "                          temp.append('')\n",
        "                   else:\n",
        "                          temp.append(t) \n",
        "\n",
        "       preds_text.append(' '.join(temp))\n",
        "\n",
        "pred_df = pd.DataFrame({'actual' : test[:100,0], 'predicted' : preds_text})\n",
        "# print 15 rows randomly\n",
        "pred_df.sample(15)"
      ],
      "execution_count": 160,
      "outputs": [
        {
          "output_type": "execute_result",
          "data": {
            "text/html": [
              "<div>\n",
              "<style scoped>\n",
              "    .dataframe tbody tr th:only-of-type {\n",
              "        vertical-align: middle;\n",
              "    }\n",
              "\n",
              "    .dataframe tbody tr th {\n",
              "        vertical-align: top;\n",
              "    }\n",
              "\n",
              "    .dataframe thead th {\n",
              "        text-align: right;\n",
              "    }\n",
              "</style>\n",
              "<table border=\"1\" class=\"dataframe\">\n",
              "  <thead>\n",
              "    <tr style=\"text-align: right;\">\n",
              "      <th></th>\n",
              "      <th>actual</th>\n",
              "      <th>predicted</th>\n",
              "    </tr>\n",
              "  </thead>\n",
              "  <tbody>\n",
              "    <tr>\n",
              "      <th>54</th>\n",
              "      <td>tom is witty</td>\n",
              "      <td>tom is person</td>\n",
              "    </tr>\n",
              "    <tr>\n",
              "      <th>31</th>\n",
              "      <td>i like your hair</td>\n",
              "      <td>i like your hair</td>\n",
              "    </tr>\n",
              "    <tr>\n",
              "      <th>29</th>\n",
              "      <td>tom looks annoyed</td>\n",
              "      <td>tom looks irritated</td>\n",
              "    </tr>\n",
              "    <tr>\n",
              "      <th>36</th>\n",
              "      <td>tom has lost control</td>\n",
              "      <td>tom lost control</td>\n",
              "    </tr>\n",
              "    <tr>\n",
              "      <th>6</th>\n",
              "      <td>next time ill drive</td>\n",
              "      <td>lets see it</td>\n",
              "    </tr>\n",
              "    <tr>\n",
              "      <th>76</th>\n",
              "      <td>tom killed a man</td>\n",
              "      <td>tom made a secret</td>\n",
              "    </tr>\n",
              "    <tr>\n",
              "      <th>27</th>\n",
              "      <td>were here to see tom</td>\n",
              "      <td>we here for</td>\n",
              "    </tr>\n",
              "    <tr>\n",
              "      <th>28</th>\n",
              "      <td>we wrote to them</td>\n",
              "      <td>we looking you</td>\n",
              "    </tr>\n",
              "    <tr>\n",
              "      <th>98</th>\n",
              "      <td>what should i do now</td>\n",
              "      <td>what do i do</td>\n",
              "    </tr>\n",
              "    <tr>\n",
              "      <th>92</th>\n",
              "      <td>how does tom do that</td>\n",
              "      <td>how does tom like</td>\n",
              "    </tr>\n",
              "    <tr>\n",
              "      <th>99</th>\n",
              "      <td>tom didnt show up</td>\n",
              "      <td>tom didnt come</td>\n",
              "    </tr>\n",
              "    <tr>\n",
              "      <th>93</th>\n",
              "      <td>thats a lemon tree</td>\n",
              "      <td>this is a lemon tree</td>\n",
              "    </tr>\n",
              "    <tr>\n",
              "      <th>67</th>\n",
              "      <td>youre still shaking</td>\n",
              "      <td>youre still reconsider</td>\n",
              "    </tr>\n",
              "    <tr>\n",
              "      <th>62</th>\n",
              "      <td>he is a clever boy</td>\n",
              "      <td>hes a  boy</td>\n",
              "    </tr>\n",
              "    <tr>\n",
              "      <th>34</th>\n",
              "      <td>i can run</td>\n",
              "      <td>i able to run</td>\n",
              "    </tr>\n",
              "  </tbody>\n",
              "</table>\n",
              "</div>"
            ],
            "text/plain": [
              "                  actual                    predicted\n",
              "54          tom is witty           tom is person     \n",
              "31      i like your hair         i like your hair    \n",
              "29     tom looks annoyed     tom looks irritated     \n",
              "36  tom has lost control        tom lost control     \n",
              "6    next time ill drive             lets see it     \n",
              "76      tom killed a man        tom made a secret    \n",
              "27  were here to see tom             we here for     \n",
              "28      we wrote to them          we looking you     \n",
              "98  what should i do now             what do i do    \n",
              "92  how does tom do that        how does tom like    \n",
              "99     tom didnt show up          tom didnt come     \n",
              "93    thats a lemon tree      this is a lemon tree   \n",
              "67   youre still shaking  youre still reconsider     \n",
              "62    he is a clever boy               hes a  boy    \n",
              "34             i can run            i able to run    "
            ]
          },
          "metadata": {
            "tags": []
          },
          "execution_count": 160
        }
      ]
    },
    {
      "cell_type": "markdown",
      "metadata": {
        "id": "sgJdhdjvqRA9",
        "colab_type": "text"
      },
      "source": [
        "### Model Building\n"
      ]
    },
    {
      "cell_type": "code",
      "metadata": {
        "id": "WaO755OI17PU",
        "colab_type": "code",
        "outputId": "340e9471-ddbb-43e2-9f82-643c0a29ec2d",
        "colab": {
          "base_uri": "https://localhost:8080/",
          "height": 34
        }
      },
      "source": [
        "rus_trn_new.shape"
      ],
      "execution_count": 198,
      "outputs": [
        {
          "output_type": "execute_result",
          "data": {
            "text/plain": [
              "(3172, 2)"
            ]
          },
          "metadata": {
            "tags": []
          },
          "execution_count": 198
        }
      ]
    },
    {
      "cell_type": "code",
      "metadata": {
        "id": "3XcT-AUGqa5v",
        "colab_type": "code",
        "colab": {
          "base_uri": "https://localhost:8080/",
          "height": 34
        },
        "outputId": "203ca1fe-ebb4-4a80-df19-a3d5f45e84ce"
      },
      "source": [
        "train, test = train_test_split(rus_trn_new, test_size=0.2, random_state = RS)\n",
        "\n",
        "# prepare training data\n",
        "trainX = encode_sequences(rus_tokenizer, rus_length, train[:, 0])\n",
        "trainY = encode_sequences(trn_tokenizer, trn_length, train[:, 1])\n",
        "\n",
        "# prepare validation data\n",
        "testX = encode_sequences(rus_tokenizer, rus_length, test[:, 0])\n",
        "testY = encode_sequences(trn_tokenizer, trn_length, test[:, 1])\n",
        "\n",
        "trainX.shape, testX.shape"
      ],
      "execution_count": 235,
      "outputs": [
        {
          "output_type": "execute_result",
          "data": {
            "text/plain": [
              "((2537, 17), (635, 17))"
            ]
          },
          "metadata": {
            "tags": []
          },
          "execution_count": 235
        }
      ]
    },
    {
      "cell_type": "code",
      "metadata": {
        "id": "UGzWdS9cips_",
        "colab_type": "code",
        "outputId": "3eeee800-ad92-46bf-9e21-1d7c0180d13e",
        "colab": {
          "base_uri": "https://localhost:8080/",
          "height": 544
        }
      },
      "source": [
        "def convert(lang, tensor):\n",
        "  for t in tensor:\n",
        "    if t!=0:\n",
        "      print(f'{t} ----> {lang.index_word[t]}')\n",
        "\n",
        "print (\"Input Language; index to word mapping\")\n",
        "convert(rus_tokenizer, trainX[-25])\n",
        "print ()\n",
        "print (\"Target Language; index to word mapping\")\n",
        "convert(trn_tokenizer, trainY[-25])"
      ],
      "execution_count": 236,
      "outputs": [
        {
          "output_type": "stream",
          "text": [
            "Input Language; index to word mapping\n",
            "1 ----> ^\n",
            "4 ----> на\n",
            "7758 ----> открытом\n",
            "7759 ----> голосовании\n",
            "1949 ----> настаивали\n",
            "464 ----> фракции\n",
            "7760 ----> единство\n",
            "7761 ----> агропромышленная\n",
            "218 ----> группа\n",
            "5 ----> и\n",
            "218 ----> группа\n",
            "7762 ----> народный\n",
            "938 ----> депутат\n",
            "2 ----> $\n",
            "\n",
            "Target Language; index to word mapping\n",
            "1 ----> ^\n",
            "5 ---->  n ax _ \n",
            "8493 ---->  a t k r y1 t ax m \n",
            "8494 ---->  g ax l ax s a v a'1 n' 'ixi \n",
            "1801 ---->  n a s t a'1 i v ax' l' 'ix \n",
            "751 ---->  f r a1 k ts ax' i' \n",
            "8495 ---->  ji' d' 'i1 n s t v a %% %% \n",
            "8496 ---->  a1 g r ax p r a m y1 sh l' 'ix n n ax' jax \n",
            "1325 ---->  g r u1 p p ax' \n",
            "8 ---->  i _ \n",
            "196 ---->  g r u1 p p ax \n",
            "8497 ---->  n a r o1 d n ax' j' \n",
            "823 ---->  d' 'ix p u t a1 t \n",
            "2 ----> $\n"
          ],
          "name": "stdout"
        }
      ]
    },
    {
      "cell_type": "code",
      "metadata": {
        "id": "Z7IPc10Qo_I5",
        "colab_type": "code",
        "colab": {
          "base_uri": "https://localhost:8080/",
          "height": 153
        },
        "outputId": "50f1098f-23b4-44c9-baf7-c41c4ce7ce7e"
      },
      "source": [
        "rus_trn_new[:,0]"
      ],
      "execution_count": 237,
      "outputs": [
        {
          "output_type": "execute_result",
          "data": {
            "text/plain": [
              "array([list(['^', 'аукционы', 'на', 'дешёвое', 'жильё', 'проводятся', 'регулярно', '$']),\n",
              "       list(['^', 'уха', 'обычно', 'готовится', 'из', 'пресноводных', 'рыб', '$']),\n",
              "       list(['^', 'участвовать', 'в', 'играх', 'может', 'любой', 'желающий', '$']),\n",
              "       ...,\n",
              "       list(['^', 'возможности', 'нового', 'лекарства', 'сейчас', 'исследуют', 'для', 'лечения', 'других', 'глазных', 'болезней', '$']),\n",
              "       list(['^', 'высококлассных', 'водолазов', 'для', 'спецоперации', 'собирали', 'со', 'всех', 'флотов', '$']),\n",
              "       list(['^', 'конструктивная', 'критика', 'со', 'стороны', 'прессы', 'дополнительный', 'стимул', 'для', 'активной', 'работы', 'мэрии', '$'])],\n",
              "      dtype=object)"
            ]
          },
          "metadata": {
            "tags": []
          },
          "execution_count": 237
        }
      ]
    },
    {
      "cell_type": "code",
      "metadata": {
        "id": "J8eeBkKPCPse",
        "colab_type": "code",
        "colab": {
          "base_uri": "https://localhost:8080/",
          "height": 462
        },
        "outputId": "910e9689-034e-4bcf-ec98-56440f22f26e"
      },
      "source": [
        "from gensim.models.fasttext import FastText\n",
        "rus_model = FastText(size=20)\n",
        "trn_model = FastText(size=20)\n",
        "\n",
        "rus_model.build_vocab(sentences=rus_trn_new[:, 0])\n",
        "trn_model.build_vocab(sentences=rus_trn_new[:, 1])\n",
        "\n",
        "total_rus = rus_model.corpus_total_words\n",
        "total_trn = trn_model.corpus_total_words\n",
        "print(total_rus, total_trn)\n",
        "\n",
        "rus_model.train(sentences=rus_trn_new[:,0], total_examples = rus_model.corpus_count, epochs=rus_model.iter)\n",
        "trn_model.train(sentences=rus_trn_new[:,1], total_examples = trn_model.corpus_count, epochs=trn_model.iter)\n",
        "\n",
        "print(rus_model.wv['и'])\n",
        "print(trn_model.wv[\" i _ \"])\n",
        "\n",
        "rus_model.wv.similar_by_vector(trn_model.wv[\" i _\"])\n",
        "# trn_model.wv.similar_by_vector(rus_model.wv['группа'])"
      ],
      "execution_count": 238,
      "outputs": [
        {
          "output_type": "stream",
          "text": [
            "32448 32395\n"
          ],
          "name": "stdout"
        },
        {
          "output_type": "stream",
          "text": [
            "/usr/local/lib/python3.6/dist-packages/ipykernel_launcher.py:12: DeprecationWarning: Call to deprecated `iter` (Attribute will be removed in 4.0.0, use self.epochs instead).\n",
            "  if sys.path[0] == '':\n",
            "/usr/local/lib/python3.6/dist-packages/ipykernel_launcher.py:13: DeprecationWarning: Call to deprecated `iter` (Attribute will be removed in 4.0.0, use self.epochs instead).\n",
            "  del sys.path[0]\n"
          ],
          "name": "stderr"
        },
        {
          "output_type": "stream",
          "text": [
            "[-0.69065756  0.4192582  -1.2095522  -0.01563328 -0.5254309   0.5680641\n",
            " -0.65832     0.16494563 -0.406429    0.3612038  -1.1729337   0.1500966\n",
            "  0.4335361  -0.03284142 -0.88770705  0.15605743  0.08337434 -0.57792157\n",
            " -1.086083    0.5548296 ]\n",
            "[ 0.56364745  0.70111406 -0.36694923  0.05703797 -0.52206254  0.79194874\n",
            " -1.2288195  -0.7276088   0.29206008  0.5571377  -0.46059236  0.7377961\n",
            " -0.00935896  1.1696087   1.1398089  -0.6379641  -0.2372518  -0.03386954\n",
            " -0.6044104   0.5300397 ]\n"
          ],
          "name": "stdout"
        },
        {
          "output_type": "stream",
          "text": [
            "/usr/local/lib/python3.6/dist-packages/gensim/matutils.py:737: FutureWarning: Conversion of the second argument of issubdtype from `int` to `np.signedinteger` is deprecated. In future, it will be treated as `np.int64 == np.dtype(int).type`.\n",
            "  if np.issubdtype(vec.dtype, np.int):\n"
          ],
          "name": "stderr"
        },
        {
          "output_type": "execute_result",
          "data": {
            "text/plain": [
              "[('я', 0.3086957335472107),\n",
              " ('ряд', 0.30652180314064026),\n",
              " ('им', 0.2938210964202881),\n",
              " ('даёт', 0.2934850752353668),\n",
              " ('кредит', 0.2921362817287445),\n",
              " ('фонд', 0.2906072735786438),\n",
              " ('чечни', 0.28800374269485474),\n",
              " ('вызывает', 0.28710639476776123),\n",
              " ('открытие', 0.28527945280075073),\n",
              " ('роль', 0.28502026200294495)]"
            ]
          },
          "metadata": {
            "tags": []
          },
          "execution_count": 238
        }
      ]
    },
    {
      "cell_type": "code",
      "metadata": {
        "id": "EovHsdWV0JJg",
        "colab_type": "code",
        "colab": {
          "base_uri": "https://localhost:8080/",
          "height": 275
        },
        "outputId": "3f49f479-aa94-4e4f-8912-cccefb9f63d3"
      },
      "source": [
        "trn_model.most_similar(' d' 'ix p u t a1 t ')\n",
        "# rus_model.most_similar('депутат')"
      ],
      "execution_count": 250,
      "outputs": [
        {
          "output_type": "stream",
          "text": [
            "/usr/local/lib/python3.6/dist-packages/ipykernel_launcher.py:1: DeprecationWarning: Call to deprecated `most_similar` (Method will be removed in 4.0.0, use self.wv.most_similar() instead).\n",
            "  \"\"\"Entry point for launching an IPython kernel.\n",
            "/usr/local/lib/python3.6/dist-packages/gensim/matutils.py:737: FutureWarning: Conversion of the second argument of issubdtype from `int` to `np.signedinteger` is deprecated. In future, it will be treated as `np.int64 == np.dtype(int).type`.\n",
            "  if np.issubdtype(vec.dtype, np.int):\n"
          ],
          "name": "stderr"
        },
        {
          "output_type": "execute_result",
          "data": {
            "text/plain": [
              "[(' i _ ', 0.9997418522834778),\n",
              " (\" b' 'u d zh e1 t \", 0.9996572136878967),\n",
              " (\" z' _ \", 0.9996542930603027),\n",
              " (\" n' 'e1 t \", 0.9996196031570435),\n",
              " (' e1 t ax ', 0.9996190071105957),\n",
              " (\" 'i _ \", 0.9996137619018555),\n",
              " (\" s' _ \", 0.9996098875999451),\n",
              " (\" d' 'e'1 n' \", 0.9996077418327332),\n",
              " (\" f s' 'e1 h \", 0.999605119228363),\n",
              " (\" sh' _ \", 0.9996048212051392)]"
            ]
          },
          "metadata": {
            "tags": []
          },
          "execution_count": 250
        }
      ]
    },
    {
      "cell_type": "code",
      "metadata": {
        "id": "u5IdUp3l2fR6",
        "colab_type": "code",
        "outputId": "d4bacc8c-c329-4dfb-f545-b96699ae217d",
        "colab": {
          "base_uri": "https://localhost:8080/",
          "height": 34
        }
      },
      "source": [
        "trainX.shape, trainY.shape"
      ],
      "execution_count": 240,
      "outputs": [
        {
          "output_type": "execute_result",
          "data": {
            "text/plain": [
              "((2537, 17), (2537, 17))"
            ]
          },
          "metadata": {
            "tags": []
          },
          "execution_count": 240
        }
      ]
    },
    {
      "cell_type": "code",
      "metadata": {
        "id": "K5B6c6xr2nYT",
        "colab_type": "code",
        "outputId": "57d80d09-1fc3-4c97-aef5-3db4e4ad4e19",
        "colab": {
          "base_uri": "https://localhost:8080/",
          "height": 34
        }
      },
      "source": [
        "testX.shape, testY.shape"
      ],
      "execution_count": 241,
      "outputs": [
        {
          "output_type": "execute_result",
          "data": {
            "text/plain": [
              "((635, 17), (635, 17))"
            ]
          },
          "metadata": {
            "tags": []
          },
          "execution_count": 241
        }
      ]
    },
    {
      "cell_type": "code",
      "metadata": {
        "id": "wDJEWD1e4GXL",
        "colab_type": "code",
        "outputId": "e50f4d83-abc9-429e-84b0-7df9b516f19a",
        "colab": {
          "base_uri": "https://localhost:8080/",
          "height": 323
        }
      },
      "source": [
        "# build NMT model\n",
        "def define_model(in_vocab, out_vocab, in_timesteps, out_timesteps, units):\n",
        "  model = Sequential()\n",
        "  model.add(Embedding(in_vocab, units, input_length=in_timesteps, mask_zero=True))\n",
        "  model.add(GRU(units))\n",
        "  model.add(RepeatVector(out_timesteps))\n",
        "  model.add(GRU(units, return_sequences=True))\n",
        "  model.add(Dense(out_vocab, activation='softmax'))\n",
        "  return model\n",
        "\n",
        "model = define_model(rus_vocab_size, trn_vocab_size, rus_length, trn_length, 512)\n",
        "model.summary()"
      ],
      "execution_count": 247,
      "outputs": [
        {
          "output_type": "stream",
          "text": [
            "Model: \"sequential_11\"\n",
            "_________________________________________________________________\n",
            "Layer (type)                 Output Shape              Param #   \n",
            "=================================================================\n",
            "embedding_11 (Embedding)     (None, 17, 512)           6235136   \n",
            "_________________________________________________________________\n",
            "gru_1 (GRU)                  (None, 512)               1574400   \n",
            "_________________________________________________________________\n",
            "repeat_vector_10 (RepeatVect (None, 17, 512)           0         \n",
            "_________________________________________________________________\n",
            "gru_2 (GRU)                  (None, 17, 512)           1574400   \n",
            "_________________________________________________________________\n",
            "dense_10 (Dense)             (None, 17, 13892)         7126596   \n",
            "=================================================================\n",
            "Total params: 16,510,532\n",
            "Trainable params: 16,510,532\n",
            "Non-trainable params: 0\n",
            "_________________________________________________________________\n"
          ],
          "name": "stdout"
        }
      ]
    },
    {
      "cell_type": "code",
      "metadata": {
        "id": "rwOy43R15_yn",
        "colab_type": "code",
        "outputId": "df3e70d2-4a68-4675-fd84-86a8518fb055",
        "colab": {
          "base_uri": "https://localhost:8080/",
          "height": 520
        }
      },
      "source": [
        "# optimizer = optimizers.RMSprop(lr=0.001)\n",
        "optimizer=optimizers.Adam()\n",
        "model.compile(optimizer=optimizer, loss='sparse_categorical_crossentropy')\n",
        "\n",
        "monitor = 'val_loss'\n",
        "mode = 'min'\n",
        "filename = 'model.h5'\n",
        "checkpoint = ModelCheckpoint(filename, monitor=monitor, verbose=1, save_best_only=True, mode=mode)\n",
        "early_stop = EarlyStopping( patience=5, monitor=monitor, mode=mode)\n",
        "\n",
        "# train model\n",
        "history = model.fit(trainX, trainY.reshape(*trainY.shape, 1),\n",
        "                    validation_data=(testX, testY.reshape(*testY.shape, 1)),\n",
        "                    # validation_split = 0.2,\n",
        "                    epochs=100, batch_size=512, callbacks=[early_stop], \n",
        "                    verbose=1)\n",
        "\n",
        "plt.plot(history.history['loss'])\n",
        "plt.plot(history.history['val_loss'])\n",
        "plt.legend(['train','validation'])\n",
        "plt.show()"
      ],
      "execution_count": 248,
      "outputs": [
        {
          "output_type": "stream",
          "text": [
            "Train on 2537 samples, validate on 635 samples\n",
            "Epoch 1/100\n",
            "2537/2537 [==============================] - 6s 2ms/step - loss: 9.3985 - val_loss: 8.5104\n",
            "Epoch 2/100\n",
            "2537/2537 [==============================] - 2s 720us/step - loss: 6.7595 - val_loss: 5.8369\n",
            "Epoch 3/100\n",
            "2537/2537 [==============================] - 2s 726us/step - loss: 5.4465 - val_loss: 5.8712\n",
            "Epoch 4/100\n",
            "2537/2537 [==============================] - 2s 733us/step - loss: 5.2027 - val_loss: 5.8987\n",
            "Epoch 5/100\n",
            "2537/2537 [==============================] - 2s 718us/step - loss: 5.0815 - val_loss: 5.9589\n",
            "Epoch 6/100\n",
            "2537/2537 [==============================] - 2s 717us/step - loss: 5.0146 - val_loss: 5.9933\n",
            "Epoch 7/100\n",
            "2537/2537 [==============================] - 2s 723us/step - loss: 4.9428 - val_loss: 5.9795\n"
          ],
          "name": "stdout"
        },
        {
          "output_type": "display_data",
          "data": {
            "image/png": "[encoded data removed]",
            "text/plain": [
              "<Figure size 432x288 with 1 Axes>"
            ]
          },
          "metadata": {
            "tags": []
          }
        }
      ]
    },
    {
      "cell_type": "code",
      "metadata": {
        "id": "_W4L0r-6Cwwg",
        "colab_type": "code",
        "outputId": "a4519cb2-ae46-4449-b9e2-ed396d745f7a",
        "colab": {
          "base_uri": "https://localhost:8080/",
          "height": 68
        }
      },
      "source": [
        "# model = load_model('model.h5')\n",
        "preds = model.predict_classes(testX)\n",
        "preds[0], testY[0]"
      ],
      "execution_count": 249,
      "outputs": [
        {
          "output_type": "execute_result",
          "data": {
            "text/plain": [
              "(array([1, 0, 0, 0, 0, 0, 0, 0, 0, 0, 0, 0, 0, 0, 0, 0, 0]),\n",
              " array([   1, 7769, 7770, 7771, 7772, 7773,    2,    0,    0,    0,    0,\n",
              "           0,    0,    0,    0,    0,    0], dtype=int32))"
            ]
          },
          "metadata": {
            "tags": []
          },
          "execution_count": 249
        }
      ]
    },
    {
      "cell_type": "code",
      "metadata": {
        "colab_type": "code",
        "outputId": "b403d01e-715c-427b-ddb7-0fe1116020d8",
        "id": "nTzqkY5ZtGdS",
        "colab": {
          "base_uri": "https://localhost:8080/",
          "height": 51
        }
      },
      "source": [
        "def get_word(n, tokenizer):\n",
        "  for word, index in tokenizer.word_index.items():\n",
        "      if index == n:\n",
        "          return word\n",
        "  return None\n",
        "  \n",
        "t = []\n",
        "for e in testX[0]:\n",
        "  s = get_word(e, rus_tokenizer)\n",
        "  if s: t.append(s)\n",
        "print( ' '.join(t) )\n",
        "\n",
        "t = []\n",
        "for e in testY[0]:\n",
        "  s = get_word(e, trn_tokenizer)\n",
        "  if s: t.append(s)\n",
        "print( '#'.join(t) )"
      ],
      "execution_count": 187,
      "outputs": [
        {
          "output_type": "stream",
          "text": [
            "к о с м и ч е с к и й   а п п а р а т   п е р е д а л   с е н с а ц и о н н ы е   с н и м к и\n",
            "k#a#s#m'#'i'1#ch'#'ix#s#k'#'ix'#j'###'a#p#a#r#a1#t###p'#'ix'#r'#'i#d#a1#l###s'#'ix#n#s#ax#ts#y#o1#n#n#ax'#jax'###s'#n'#'i1#m#k'#'i\n"
          ],
          "name": "stdout"
        }
      ]
    },
    {
      "cell_type": "code",
      "metadata": {
        "id": "CsT8avD8C-wh",
        "colab_type": "code",
        "outputId": "31098044-3232-4a82-d9fe-390387ee3fbb",
        "colab": {
          "base_uri": "https://localhost:8080/",
          "height": 34
        }
      },
      "source": [
        "preds_text = []\n",
        "prd = preds[:3]\n",
        "for i in prd:\n",
        "  temp = []\n",
        "  for j in range(len(i)):\n",
        "    t = get_word(i[j], trn_tokenizer)\n",
        "    if j > 0:\n",
        "      if (t == get_word(i[j-1], trn_tokenizer)) or (t == None):\n",
        "        temp.append('')\n",
        "      else:\n",
        "        temp.append(t+'#')\n",
        "    else:\n",
        "      if(t == None):\n",
        "            temp.append('')\n",
        "      else:\n",
        "              temp.append(t+'#') \n",
        "\n",
        "  preds_text.append(''.join(temp))\n",
        "\n",
        "def unpack(tensor):\n",
        "  t = []\n",
        "  for e in tensor:\n",
        "    s = get_word(e, rus_tokenizer)\n",
        "    if s: t.append(s)\n",
        "  return ' '.join(t)\n",
        "\n",
        "preds_text\n",
        "# print( list(zip((unpack(e) for e in testX[:3]), preds_text)))\n",
        "# pred_df = pd.DataFrame({'actual' : test[:,0], 'predicted' : preds_text})\n",
        "# pred_df.sample(15)"
      ],
      "execution_count": 156,
      "outputs": [
        {
          "output_type": "execute_result",
          "data": {
            "text/plain": [
              "['', ' v _ #', ' v _ #']"
            ]
          },
          "metadata": {
            "tags": []
          },
          "execution_count": 156
        }
      ]
    }
  ]
}