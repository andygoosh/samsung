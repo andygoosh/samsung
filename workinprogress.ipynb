{
  "nbformat": 4,
  "nbformat_minor": 0,
  "metadata": {
    "colab": {
      "name": "workinprogress.ipynb",
      "provenance": [],
      "include_colab_link": true
    },
    "kernelspec": {
      "name": "python3",
      "display_name": "Python 3"
    },
    "accelerator": "GPU"
  },
  "cells": [
    {
      "cell_type": "markdown",
      "metadata": {
        "id": "view-in-github",
        "colab_type": "text"
      },
      "source": [
        "<a href=\"https://colab.research.google.com/github/andygoosh/samsung/blob/master/workinprogress.ipynb\" target=\"_parent\"><img src=\"https://colab.research.google.com/assets/colab-badge.svg\" alt=\"Open In Colab\"/></a>"
      ]
    },
    {
      "cell_type": "code",
      "metadata": {
        "id": "r_Mg8x0gASeS",
        "colab_type": "code",
        "outputId": "74dd1c62-d4f8-43d2-c3c0-f70af981c269",
        "colab": {
          "base_uri": "https://localhost:8080/",
          "height": 34
        }
      },
      "source": [
        "from pathlib import Path\n",
        "from google.colab import files, drive\n",
        "from collections import defaultdict\n",
        "\n",
        "import re\n",
        "import random as rn\n",
        "import pandas as pd\n",
        "import numpy as np\n",
        "from numpy import array, argmax, random, take\n",
        "import matplotlib.pyplot as plt\n",
        "from collections import Counter\n",
        "%matplotlib inline\n",
        "\n",
        "from sklearn.model_selection import train_test_split\n",
        "\n",
        "import tensorflow as tf\n",
        "from keras.preprocessing.sequence import pad_sequences\n",
        "from keras.preprocessing.text import Tokenizer\n",
        "from keras.models import Sequential, Model\n",
        "from keras.layers import Input, Dropout, Dense, LSTM, GRU, Embedding, RepeatVector, Lambda, Reshape\n",
        "from keras.layers import Bidirectional as Bi\n",
        "from keras import optimizers\n",
        "from keras.models import load_model\n",
        "from keras.callbacks import ModelCheckpoint, EarlyStopping\n",
        "\n",
        "RS = 77\n",
        "rn.seed(RS)\n",
        "# tf.random.set_seed(RS)\n",
        "np.random.seed(RS)\n",
        "np.random.RandomState(RS)\n",
        "\n",
        "gpath = Path('/content/gdrive')\n",
        "drive.mount(str(gpath))\n",
        "data_file = gpath / 'My Drive/Samsung' / 'transcriptions'"
      ],
      "execution_count": 2,
      "outputs": [
        {
          "output_type": "stream",
          "text": [
            "Drive already mounted at /content/gdrive; to attempt to forcibly remount, call drive.mount(\"/content/gdrive\", force_remount=True).\n"
          ],
          "name": "stdout"
        }
      ]
    },
    {
      "cell_type": "markdown",
      "metadata": {
        "id": "8KByWPn1DbpS",
        "colab_type": "text"
      },
      "source": [
        "#### Let's look at the data in given file"
      ]
    },
    {
      "cell_type": "code",
      "metadata": {
        "id": "PNLzpBAGDgAI",
        "colab_type": "code",
        "outputId": "bf2c9061-c5f1-4ba6-d507-2805ab0fe162",
        "colab": {
          "base_uri": "https://localhost:8080/",
          "height": 71
        }
      },
      "source": [
        "with data_file.open() as f:  \n",
        "    print(f.readline())"
      ],
      "execution_count": 3,
      "outputs": [
        {
          "output_type": "stream",
          "text": [
            "аукционы на дешёвое жильё проводятся регулярно\t%% a u k ts y o1 n ax # n ax' _ d' 'i sh o1 v ax' jax # zh y' l' j' 'o1 # p r a v o'1 d' 'ax ts ts ax' # r' 'ix g u' l' 'a1 r n a %%\n",
            "\n"
          ],
          "name": "stdout"
        }
      ]
    },
    {
      "cell_type": "markdown",
      "metadata": {
        "id": "Xmvmq8NkDzzF",
        "colab_type": "text"
      },
      "source": [
        "#### Notice that:\n",
        "1. russian sentence is separated from transcript with '\\t'\n",
        "2. the begining and the end of transcript part are marked by '%%'"
      ]
    },
    {
      "cell_type": "markdown",
      "metadata": {
        "id": "t9inDldeBBz8",
        "colab_type": "text"
      },
      "source": [
        "### Let's read the data and split it into rus and trans"
      ]
    },
    {
      "cell_type": "code",
      "metadata": {
        "id": "ze9lEBcZB4A_",
        "colab_type": "code",
        "outputId": "fe6e1f57-6080-466a-931c-dac703a7e635",
        "colab": {
          "base_uri": "https://localhost:8080/",
          "height": 34
        }
      },
      "source": [
        "rus_trn = []\n",
        "with data_file.open() as f:  \n",
        "  for line in f: \n",
        "    rus, trn = line.split('\\t')\n",
        "    rus_trn.append([rus.strip(), trn.strip()])\n",
        "\n",
        "print(f'Number of sentences in corpus: {len(rus_trn)}')"
      ],
      "execution_count": 4,
      "outputs": [
        {
          "output_type": "stream",
          "text": [
            "Number of sentences in corpus: 50277\n"
          ],
          "name": "stdout"
        }
      ]
    },
    {
      "cell_type": "markdown",
      "metadata": {
        "id": "gjFV-XOHBN8o",
        "colab_type": "text"
      },
      "source": [
        "#### Let's look at some sentences\n"
      ]
    },
    {
      "cell_type": "code",
      "metadata": {
        "id": "iaCdAWXfBS-H",
        "colab_type": "code",
        "outputId": "6d89e5ec-b7a7-4752-bb8d-e6eb6dc1962f",
        "colab": {
          "base_uri": "https://localhost:8080/",
          "height": 139
        }
      },
      "source": [
        "a,b,c = np.random.choice(len(rus_trn), 3)\n",
        "\n",
        "print(rus_trn[a][0])\n",
        "print(rus_trn[a][1])\n",
        "print(rus_trn[b][0])\n",
        "print(rus_trn[b][1])\n",
        "print(rus_trn[c][0])\n",
        "print(rus_trn[c][1])"
      ],
      "execution_count": 5,
      "outputs": [
        {
          "output_type": "stream",
          "text": [
            "веб-операторы обязаны ознакомить пользователя с политикой по сбору персональной информации\n",
            "%% v' 'e1 p a' p' 'i r a1 t ax r ax # a' b' 'a1 z ax n ax # a z n a k o'1 m' 'ix' t' # p o'1 l' z ax v ax' t' 'ix' l' 'ax # s _ p a' l' 'i'1 t' 'ix k ax' j' # p a _ z b o1 r ux' # p' 'ix r s a n a'1 l' n ax' j' # 'i n f a r m a1 ts ax' i %%\n",
            "цена мартовского контракта на нефть в торговой системе поднялась\n",
            "%% ts y n a1 # m a1 r t ax f s k ax v ax # k a n t r a1 k t ax # n a' _ n' 'e1 f t' # f _ t a r g o1 v ax' j' # s' 'i' s' t' 'e'1 m' 'ix # p ax' d' n' 'i l a'1 s' %%\n",
            "в августе прошлого года был достроен храм христа спасителя\n",
            "%% v _ a1 v g ux' s' t' 'ix # p r o1 sh l ax v ax # g o1 d ax # b y1 l # d a s t r o'1 jax n # h r a1 m # h r' 'i s t a1 # s p a' s' 'i'1 t' 'ix' l' 'a %%\n"
          ],
          "name": "stdout"
        }
      ]
    },
    {
      "cell_type": "markdown",
      "metadata": {
        "id": "PrtVAlRiBYLc",
        "colab_type": "text"
      },
      "source": [
        "#### Notice that words in russian sentence are separated by space while words in transcript are separated:\n",
        "1. by '#' in general case\n",
        "2. by '_' in case of preposition\n",
        "3. by '%% %%' in case of punctuation signs (dash, coma, etc)\n"
      ]
    },
    {
      "cell_type": "markdown",
      "metadata": {
        "id": "qaYfq4rSFVs6",
        "colab_type": "text"
      },
      "source": [
        "#### Let's see if we have dupliates in the corpus"
      ]
    },
    {
      "cell_type": "code",
      "metadata": {
        "id": "zoPm3mehFfiN",
        "colab_type": "code",
        "outputId": "aaa9093e-8720-47e2-b2ba-e53ee89ca9cf",
        "colab": {
          "base_uri": "https://localhost:8080/",
          "height": 51
        }
      },
      "source": [
        "a = array(rus_trn)\n",
        "seen_rus = Counter(a[:,0])\n",
        "seen_trn = Counter(a[:,1])\n",
        "\n",
        "print(f'Unique rus sentences: {len(seen_rus)} out of {len(rus_trn)}')\n",
        "print(f'Unique trans sentences: {len(seen_trn)} out of {len(rus_trn)}')"
      ],
      "execution_count": 6,
      "outputs": [
        {
          "output_type": "stream",
          "text": [
            "Unique rus sentences: 3131 out of 50277\n",
            "Unique trans sentences: 3171 out of 50277\n"
          ],
          "name": "stdout"
        }
      ]
    },
    {
      "cell_type": "markdown",
      "metadata": {
        "id": "2c_7KSzLGs7v",
        "colab_type": "text"
      },
      "source": [
        "#### We have a lot of duplicates! Only 3131 unique sentenses out of 50K in the corpus. Please also note that some russian sentences are transcribed into different transcriptions (will look into that later on)"
      ]
    },
    {
      "cell_type": "code",
      "metadata": {
        "id": "yjR7uun4HeJF",
        "colab_type": "code",
        "outputId": "1e8573c8-a782-464a-bf2e-e82363cba2fd",
        "colab": {
          "base_uri": "https://localhost:8080/",
          "height": 290
        }
      },
      "source": [
        "lens = [each[1] for each in seen_rus.items()]\n",
        "unq = np.unique(lens)\n",
        "qty = [lens.count(each) for each in unq]\n",
        "pd.DataFrame(qty, index=unq).plot.bar(title = 'Rus sentence repeat times', legend=False);"
      ],
      "execution_count": 7,
      "outputs": [
        {
          "output_type": "display_data",
          "data": {
            "image/png": "[encoded data removed]",
            "text/plain": [
              "<Figure size 432x288 with 1 Axes>"
            ]
          },
          "metadata": {
            "tags": []
          }
        }
      ]
    },
    {
      "cell_type": "markdown",
      "metadata": {
        "id": "a2bIKlVbIAxi",
        "colab_type": "text"
      },
      "source": [
        "#### Most duplicated sentences repeat 12 times, max up to 203 times"
      ]
    },
    {
      "cell_type": "markdown",
      "metadata": {
        "id": "oCi44KJRImmG",
        "colab_type": "text"
      },
      "source": [
        "### Let's read that data while splitting the tokens. We'll count the tokens in each sentence. If the count in rus and trans is different, we'll record it as anomaly\n"
      ]
    },
    {
      "cell_type": "code",
      "metadata": {
        "id": "4fznr-0SJ9nU",
        "colab_type": "code",
        "outputId": "3bad195d-249a-4502-a3f5-dfb60e03feb8",
        "colab": {
          "base_uri": "https://localhost:8080/",
          "height": 1000
        }
      },
      "source": [
        "rus_l, trn_l, anomaly = [], [], []\n",
        "seen = defaultdict(list)\n",
        "chars = Counter()\n",
        "\n",
        "for j,i in enumerate(rus_trn):\n",
        "\n",
        "  rus = i[0].split()\n",
        "  trn = re.split('#|_|%% %%',i[1])\n",
        "\n",
        "  if i[0] not in seen:\n",
        "    if abs(len(rus) - len(trn)) != 0: \n",
        "      anomaly.append(j)\n",
        "      print(j, ' ', i[0])\n",
        "      print( i[1])\n",
        "    \n",
        "    else:\n",
        "      rus_l.append(len(rus))\n",
        "      trn_l.append(len(trn))\n",
        "\n",
        "    chars += Counter(i[0])\n",
        "\n",
        "  seen[i[0]].append(j)\n",
        "\n",
        "print(f'Anomalies: {len(anomaly)}')\n",
        "fig, (ax1, ax2) = plt.subplots(nrows=1,ncols=2,figsize=(12,4))\n",
        "pd.DataFrame({'Number of words in Rus sentence':rus_l}).hist(ax=ax1, bins = 30);\n",
        "pd.DataFrame({'Number of words in Trns sentence':trn_l}).hist(ax=ax2, bins = 30);"
      ],
      "execution_count": 64,
      "outputs": [
        {
          "output_type": "stream",
          "text": [
            "149   невостребованных талантов в стране уйма\n",
            "%% n' 'ix v a s t r' 'e1 b ax v ax n n ax h # t a l a1 n t ax f # f s t r a' n' 'e1 # u'1 j' m a %%\n",
            "336   в срок платежа денежные средства перечислены не были\n",
            "%% f _ s r o1 k # p l ax' t' 'i zh a'1 # d' 'e'1 n' 'ix zh n ax' jax # s r' 'e1 ts t v ax' # p' 'ix' r' 'i' ch' 'i1 s l' 'ix n ax' # n' 'e1 b ax' l' 'i %%\n",
            "772   дружба обеих корей может прекратиться так же неожиданно как и началась\n",
            "%% d r u1 zh b ax # a' b' 'e'1 i h # k a' r' 'e'1 j' # m o1 zh ax t # p r' 'ix k r a' t' 'i1 ts ts ax # t a1 g zh ax' # n' 'ixa zh y1 d ax n n a %% %% k a1 k # y _ n ax' ch' 'i l a'1 s' %%\n",
            "858   если окутать ёлку дождиком она получится как бы в дымке\n",
            "%% j' 'e1 s l' 'ix # a k u1 t ax' t' # j' 'o1 l k ux # d o1 zh d' 'ix k ax m %% %% a n a1 # p a l u'1 ch' 'ix ts ts ax # k a1 g b ax # v _ d y1 m k' 'e %%\n",
            "868   королёв в тюрьме сделал свои первые рисунки ракеты\n",
            "%% k ax r a' l' 'o1 f # f t' 'u' r' m' 'e'1 # z' d' 'e1 l ax l # s v a' i'1 # p' 'e1 r v ax' jax' # r' 'i s u1 n k' 'ix # r a' k' 'e1 t y %%\n",
            "881   мосты выглядят чрезвычайно внушительными надёжными и в то же время лёгкими современными\n",
            "%% m a s t y1 # v y1 g l' 'ax' d' 'ax t # ch' r' 'ix z v y' ch' 'a'1 j' n ax # v n u sh y'1 t' 'ix' l' n ax' m' 'i %% %% n a' d' 'o1 zh n ax' m' 'ix' # 'i _ f _ t o1 zh ax # v r' 'e'1 m' 'ax' # l' 'o'1 h' k' 'ix' m' 'i %% %% s ax v r' 'i' m' 'e1 n n ax' m' 'i %%\n",
            "898   маленький двоечник развив в себе комплекс неполноценности перестаёт учиться\n",
            "%% m a'1 l' 'ix' n' k' 'ix' j' # d v o'1 jax sh n' 'ix k %% %% r a z v' 'i1 f # f s' 'i' b' 'e1 # k o1 m p l' 'ix k s # n' 'ix p ax l n a ts e1 n n ax' s' t' 'i %% %% p' 'ix' r' 'ix s t a' j' 'o1 t # u' ch' 'i1 ts ts a %%\n",
            "912   неизвестно высказал ли находившийся в полном сознании офицер версию аварии\n",
            "%% n' 'ixi z v' 'e1 s n a %% %% v y1 s k ax z ax l l' 'ix # n ax h a' d' 'i1 f sh ax' j' s' 'ax # f _ p o1 l n ax m # s a z n a'1 n' 'ixi # a' f' 'i ts e1 r # v' 'e1 r s' 'ix' jux # a v a'1 r' 'ixi %%\n",
            "994   отрасли сидящие на импорте оборудования и запчастей желали бы укрепления рубля\n",
            "%% o1 t r ax s l' 'i %% %% s' 'i' d' 'a'1 sh' 'ix' jax # n a' _ i1 m p ax r t' 'ix # a b a r u1 d ax v ax' n' 'ix' jax' # i _ z a1 p ch' 'i' s' t' 'e'1 j' # zh y l a'1 l' 'ix b ax # u k r' 'i p l' 'e'1 n' 'ix' jax # r u b l' 'a1 %%\n",
            "998   стыдиться конъюнктуры приспособленчества да и просто бездарности оказалось не перед кем\n",
            "%% s t y' d' 'i1 ts ts ax # k ax n j' 'u n k t u1 r y %% %% p r' 'ix s p ax s a b l' 'e'1 n' ch' 'ix s t v ax # d ax' _ i _ p r o1 s t ax' # b' 'i z d a1 r n ax' s' t' 'ix # a k a z a1 l ax' s' # n' 'e'1 p' 'ix' r' 'ix t k' 'ix m %%\n",
            "1031   новый закон вряд ли внесёт успокоение даже в ряды тех кто активно добивался его принятия\n",
            "%% n o1 v ax' j' # z a k o1 n # v r' 'a1 t l' 'ix # v n' 'i' s' 'o1 t # u s p ax k a' j' 'e'1 n' 'ix' jax # d a1 zh ax # v _ r' 'i d y'1 # t' 'e1 h %% %% k t o1 # a k t' 'i1 v n ax # d ax' b' 'i v a1 l s' 'ax' # ji v o1 # p r' 'i' n' 'a'1 t' 'ix' ja %%\n",
            "1041   за шарона отдали бы свои голоса пятьдесят процентов избирателей\n",
            "%% z ax _ sh a r o1 n a1 # a d d a' l' 'i1 b ax # s v a' i1 # g ax l a s a'1 # p' 'ix' d' d' 'i' s' 'a1 t # p r a ts e1 n t ax f # y z b' 'i r a'1 t' 'ix' l' 'ix' j' %%\n",
            "1046   на пять часов позже но заседание всё же началось\n",
            "%% n a' _ p' 'a'1 ch' # ch' 'i s o1 f # p o1 zh zh e %% %% n o1 # z ax' s' 'i d a'1 n' 'ix' jax # f s' 'o1 zh ax # n ax' ch' 'i l o'1 s' %%\n",
            "1066   учёные показали что добавление антиоксидантов в пищу продлевает жизнь на тридцать процентов\n",
            "%% u' ch' 'o1 n ax' jax # p ax k a z a'1 l' 'i %% %% sh t o1 # d ax b a v l' 'e'1 n' 'ix' jax # a'1 n' t' 'ixa k s' 'i d a1 n t ax f # f p' 'i'1 sh' 'ux # p r ax d l' 'i v a'1 jax d # zh y'1 z' n' # n a _ t r' 'i1 ts ts ax' t' # p r a ts e1 n t ax f %%\n",
            "1067   пятьдесят восемь лет характерная продолжительность жизни для папуасов в племенах новой гвинеи\n",
            "%% p' 'ix' d' d' 'i' s' 'a1 t # v o'1 s' 'ix' m' # l' 'e1 t %% %% h ax r a k t' 'e1 r n ax' jax # p r ax d a l zh y'1 t' 'ix' l' n ax' z' d' # zh y'1 z' n' 'ix # d l' 'a1 # p ax p u a1 s ax f # f p l' 'ix' m' 'i n a1 h # n o1 v ax' j' # g v' 'i' n' 'e'1 i %%\n",
            "1076   то что вы думаете будет тут же зафиксировано на экране или на кассете\n",
            "%% t o1 %% %% sh t o1 # v y1 # d u1 m ax' jax' t' 'e %% %% b u'1 d' 'ix t # t u1 d zh ax # z ax' f' 'i k s' 'i1 r ax v ax n ax # n ax _ e k r a'1 n' 'ix' # 'i'1 l' 'ix # n ax _ k a' s' 'e'1 t' 'e %%\n",
            "1109   сотни тысяч паломников со всего мира стали бы серьёзным подспорьем местному бюджету\n",
            "%% s o'1 t' n' 'ix # t y'1 s' 'ax' ch' # p a l o1 m n' 'ix k ax f # s ax _ f s' 'i v o'1 # m' 'i1 r ax # s t a'1 l' 'ix b ax' # s' 'i' r' j' 'o1 z n ax m # p a ts p o'1 r' j' 'ax m # m' 'e1 s n ax m ux' # b' 'u d zh e1 t u %%\n",
            "1123   позднее по москве ходили слухи что тело сталина чуть ли не вытряхнули из мундира\n",
            "%% p a' z' n' 'e'1 jax # p ax _ m a s k v' 'e1 # h a' d' 'i'1 l' 'ix # s l u'1 h' 'i %% %% sh t o'1 # t' 'e1 l ax # s t a'1 l' 'ix n ax' # ch' 'u'1 t' l' 'ix' # n' 'i _ v y1 t r' 'ax h n ux' l' 'ix' # 'i z _ m u' n' d' 'i1 r a %%\n",
            "1130   прежде чем отправиться в норвегию приступили к изучению атомной подлодки такого же класса\n",
            "%% p r' 'e1 zh d' 'ix' # ch' 'e1 m # a t p r a'1 v' 'ix ts ts ax # v _ n a r v' 'e'1 g' 'ix' ju %% %% p r' 'ix s t u' p' 'i'1 l' 'ix # k _ ax z u' ch' 'e'1 n' 'ix' jux # a1 t ax m n ax' j' # p a d l o1 t k' 'ix # t a k o1 v ax zh ax # k l a1 s s a %%\n",
            "1341   чтобы миру не было скучно правительство надумало раскрыть ему страшную тайну\n",
            "%% sh t o1 b ax' # m' 'i1 r ux' # n' 'e1 b ax l ax # s k u1 sh n a %% %% p r a' v' 'i'1 t' 'ix' l' s t v ax # n a d u1 m ax l ax # r a s k r y'1 t' # j' 'i m u1 # s t r a1 sh n ux' jux # t a'1 j' n u %%\n",
            "1738   на улицах не было никаких шумных пьяных оргий\n",
            "%% n a _ u'1 l' 'ix ts ax h # n' 'e1 b ax l ax' # n' 'ix k a' k' 'i1 h # sh u1 m n ax h # p' j' 'a1 n ax h # o1 r g' 'ix' j' %%\n",
            "1802   гроб сделали в тот же день\n",
            "%% g r o1 b # z' d' 'e1 l ax' l' 'ix # f _ t o1 d zh ax' # d' 'e'1 n' %%\n",
            "2289   курение ухудшает чувствительность клеток к инсулину\n",
            "%% k u' r' 'e'1 n' 'ix' jax # u h u t sh a'1 jax t # ch' 'u s t v' 'i'1 t' 'ix' l' n ax' s' t' # k l' 'e1 t ax k # k ax n s u' l' 'i1 n u %%\n",
            "2320   продажи обогревателей выросли в пять раз по сравнению с тем же периодом прошлого года\n",
            "%% p r a d a1 zh ax # a b ax g r' 'i v a'1 t' 'ix' l' 'ix' j' # v y1 r ax s l' 'ix # f _ p' 'a'1 t' # r a1 s # p ax _ s r a v n' 'e'1 n' 'ix' jux' # s' _ t' 'e1 m zh ax' # p' 'i' r' 'i1 o d ax m # p r o1 sh l ax v ax # g o1 d a %%\n",
            "2344   наши предки хищниками не были и дорожили своей нишей в биосфере\n",
            "%% n a1 sh ax # p r' 'e1 t k' 'ix' # h' 'i'1 sh' n' 'ix k ax' m' 'ix' # n' 'e1 b ax' l' 'ix' # 'i _ d ax r a zh y'1 l' 'ix # s v a' j' 'e'1 j' # n' 'i1 sh ax' j' # v _ b' 'ixa s f' 'e'1 r' 'e %%\n",
            "2390   америка и россия являются сегодня единственными странами отправляющими своих космонавтов в космос\n",
            "%% a' m' 'e'1 r' 'ix k ax' # i _ r a' s' s' 'i'1 jax' # ji v l' 'a'1 jux ts ts ax' # s' 'i v o'1 d' n' 'ax' # ji' d' 'i1 n s t v' 'ix n n ax' m' 'ix # s t r a1 n ax' m' 'i %% %% a t p r a v l' 'a'1 jux' sh' 'ix' m' 'ix # s v a' i1 h # k ax s m a n a1 f t ax f # f k o1 s m ax s %%\n",
            "2403   всё будет зависеть от того успешно ли пристыкуется к комплексу последний грузовой корабль\n",
            "%% f s' 'o1 # b u'1 d' 'ix d # z a' v' 'i'1 s' 'ix' t' # 'a t _ t a v o1 %% %% u s p' 'e1 sh n ax' l' 'ix # p r' 'ix s t y k u'1 jax ts ts ax # k _ k o1 m p l' 'ix k s ux # p a s l' 'e'1 d' n' 'ix' j' # g r ux z a v o'1 j' # k a r a1 b l' %%\n",
            "2745   кабинетные работники с появлением спецтранспорта и охраны утрачивают связь с действительностью\n",
            "%% k ax' b' 'i' n' 'e1 t n ax' jax # r a b o'1 t' n' 'ix' k' 'ix # s _ p ax' ji v l' 'e'1 n' 'ix' jax m # s p' 'e1 ts t r a1 n s p ax r t ax' # i _ a h r a1 n ax # u t r a'1 ch' 'ix v ax' jux t # s v' 'a'1 z' # z' d' 'i' j' s t v' 'i'1 t' 'ix' l' n ax' s' t' j' 'u %%\n",
            "2787   греческие игроки призвали своих коллег к забастовке\n",
            "%% g r' 'e'1 ch' 'ix s k' 'ix' jax' # i g r a' k' 'i1 # p r' 'i z v a'1 l' 'ix # s v a' i1 h # k a' l' 'e1 g # g z ax b a s t o1 f k' 'e %%\n",
            "2795   с начала года ни один автомобиль не был отправлен российским заказчикам\n",
            "%% s _ n a' ch' 'a1 l ax # g o1 d ax' # n' 'ix _ a' d' 'i1 n # a f t ax m a' b' 'i'1 l' # n' 'e1 b ax l # a t p r a1 v l' 'ix n # r a' s' 'i'1 j' s k' 'ix m # z a k a'1 sh' 'ix k ax m %%\n",
            "2987   вряд ли кому-нибудь удастся повторить это достижение\n",
            "%% v r' 'a1 t l' 'ix # k a m u'1 n' 'ix b ux' t' # 'u d a1 s ts ts ax # p ax f t a' r' 'i'1 t' # 'e1 t ax # d ax' s' t' 'i zh e'1 n' 'ix' je %%\n",
            "3069   союз правых сил никогда не был сторонником популистских решений\n",
            "%% s a' j' 'u1 s # p r a1 v ax h # s' 'i1 l # n' 'ix k a g d a'1 # n' 'e1 b ax l # s t a r o'1 n' n' 'ix k ax m # p ax p u' l' 'i1 s s k' 'ix h # r' 'i sh e'1 n' 'ix' j' %%\n",
            "3122   на территории америки никогда не было настоящих войн\n",
            "%% n ax' _ t' 'ix' r' 'i t o'1 r' 'ixi # a' m' 'e'1 r' 'ix' k' 'ix' # n' 'ix k a g d a'1 # n' 'e1 b ax l ax # n ax s t a' j' 'a'1 sh' 'ix h # v o'1 j' n %%\n",
            "3831   план использования нефти из стратегического резерва вряд ли будет реализован\n",
            "%% p l a1 n # y s p o'1 l' z ax v ax' n' 'ix' jax' # n' 'e1 f t' 'ix' # 'i s _ s t r ax' t' 'i' g' 'i'1 ch' 'ix s k ax v ax' # r' 'i' z' 'e1 r v ax # v r' 'a1 t l' 'ix # b u'1 d' 'ix t # r' 'ixa' l' 'i z o1 v ax n %%\n",
            "4010   достигнута договорённость по строительству дорог к месторождениям\n",
            "%% d a' s' t' 'i1 g n ux t ax # d ax g ax v a' r' 'o1 n n ax' s' t' # p ax _ s t r a' i'1 t' 'ix' l' s t v ux # d a r o1 k # k m' 'ix s t ax r a zh d' 'e'1 n' 'ix' jax m %%\n",
            "4064   бюллетени для голосования не были вовремя разосланы акционерам\n",
            "%% b' 'ux' l' 'i' t' 'e'1 n' 'ix # d l' 'a _ g ax l ax s a v a'1 n' 'ix' jax' # n' 'e1 b ax' l' 'ix # v o1 v r' 'ix' m' 'ax # r a z o1 s l ax n ax # a k ts axa' n' 'e1 r ax m %%\n",
            "4107   в предвыборный год губернаторы безропотно согласились бы отдать механизм управления\n",
            "%% f _ p r' 'i d v y1 b ax r n ax' j' # g o1 d # g ux' b' 'i r n a1 t ax r ax' # b' 'i z r o1 p ax t n ax # s ax g l a' s' 'i'1 l' 'ix' z' b ax # a d d a'1 t' # m' 'ix h a' n' 'i1 z m # u p r a v l' 'e'1 n' 'ix' ja %%\n",
            "4148   абсолютная замена поджелудочной железы могла бы решить проблему диабета\n",
            "%% a p s a' l' 'u1 t n ax' jax # z a' m' 'e1 n ax # p ax d zh y l u1 d ax' ch' n ax' j' # zh ax' l' 'i z y1 # m a g l a1 b ax' # r' 'i sh y'1 t' # p r a b l' 'e1 m ux' # d' 'ixa' b' 'e1 t a %%\n",
            "5012   было объявлено о возможном начале торгов в конце апреля\n",
            "%% b y1 l ax # a b j' 'a1 v l' 'ix n ax # a _ v a z m o1 zh n ax m # n a' ch' 'a'1 l' 'ix # t a r g o1 f # f k a n ts e1 # a p r' 'e'1 l' 'a %%\n",
            "5043   сегодня нет новостей которые могли бы оказать негативное влияние на рынок\n",
            "%% s' 'i v o'1 d' n' 'ax' # n' 'e1 t # n ax v a' s' t' 'e'1 j' %% %% k a t o1 r ax' jax # m a g l' 'i1 b ax # a k a z a'1 t' # n' 'ix g a' t' 'i1 v n ax' jax # v l' 'i' j' 'a'1 n' 'ix' jax # n a _ r y1 n ax k %%\n",
            "5980   преступность в подмосковье практически осталась на том же уровне\n",
            "%% p r' 'i s t u1 p n ax' s' t' # f _ p ax d m a s k o'1 v' j' 'ax # p r a k t' 'i'1 ch' 'ix s k' 'ix # a s t a1 l ax' s' # n a _ t o1 m zh ax # u1 r ax v n' 'e %%\n",
            "5998   на видео- и фотоаппаратуру снимали сцены насилия\n",
            "%% n a' _ v' 'i'1 d' 'ixo' i _ f o1 t ax a p ax r a t u1 r ux' # s' n' 'i m a'1 l' 'ix # s ts e1 n ax # n a' s' 'i'1 l' 'ix' ja %%\n",
            "6089   в обществе всегда много точек зрения на одну и ту же проблему\n",
            "%% v _ o1 p sh' 'ix s t v' 'ix # f s' 'i g d a1 # m n o1 g ax # t o'1 ch' 'ix g # z r' 'e'1 n' 'ix' jax # n ax _ a d n u'1 # i _ t u1 zh ax # p r a b l' 'e1 m u %%\n",
            "6107   дети уезжают за границу и получают образование у наших же педагогов\n",
            "%% d' 'e'1 t' 'ix # u' ji' zh' 'a'1 jux d # z ax _ g r a' n' 'i1 ts ux' # i _ p ax l u' ch' 'a'1 jux t # a b r ax z a v a'1 n' 'ix' jax # u _ n a1 sh ax gh zh ax' # p' 'ix d a g o1 g ax f %%\n",
            "6124   всю осень у нас не было света и горячей воды\n",
            "%% f s' 'u1 # o'1 s' 'ix' n' # 'u _ n a1 s # n' 'e1 b ax l ax # s v' 'e1 t ax' # i _ g a' r' 'a'1 ch' 'ix' j' # v a d y1 %%\n",
            "6129   кора надпочечников в период магнитной бури работает как в условиях стресса\n",
            "%% k a r a1 # n a t p o'1 ch' 'ix' ch' n' 'ix k ax f # f p' 'i' r' 'i1 o t # m a g n' 'i1 t n ax' j' # b u'1 r' 'ix # r a b o1 t ax' jax t # k a1 k # v _ u s l o'1 v' 'ix' jax h # s t r e1 s a %%\n",
            "7487   в быстрых шахматах компьютер перебирает миллионы ходов в секунду\n",
            "%% v _ b y1 s t r ax h # sh a1 h m ax t ax h # k a m p' j' 'u1 t ax r # p' 'ix' r' 'ix' b' 'i r a'1 jax t # m' 'ix' l' 'i o1 n ax # h a d o1 f # f s' 'i k u1 n d u %%\n",
            "7567   функции прокуроров остались теми же что и в судебном уставе\n",
            "%% f u1 n k ts ax' i # p r ax k u r o1 r ax f # a s t a'1 l' 'ix' s' # t' 'e'1 m' 'ix zh e %% %% sh t o'1 # i _ f _ s u' d' 'e1 b n ax m # u s t a'1 v' 'e %%\n",
            "7626   в герметично закрытом отсеке рыб не было\n",
            "%% v _ g' 'ix r m' 'i' t' 'i'1 ch' n ax # z a k r y1 t ax m # a' t' s' 'e'1 k' 'ix # r y1 p # n' 'e1 b ax l a %%\n",
            "Anomalies: 49\n"
          ],
          "name": "stdout"
        },
        {
          "output_type": "display_data",
          "data": {
            "image/png": "[encoded data removed]",
            "text/plain": [
              "<Figure size 864x288 with 2 Axes>"
            ]
          },
          "metadata": {
            "tags": []
          }
        }
      ]
    },
    {
      "cell_type": "markdown",
      "metadata": {
        "id": "XxTcio_yKSbh",
        "colab_type": "text"
      },
      "source": [
        "#### So we have 49 anomalies out of 3131 samples"
      ]
    },
    {
      "cell_type": "markdown",
      "metadata": {
        "id": "K49Q_mTcOZ4w",
        "colab_type": "text"
      },
      "source": [
        "### Closer look at the anomalies shows:\n",
        "* Particle 'же', 'бы', 'ли' never gets separated as a standalone word in transcript. Hypothesis: glue the particle to the preceeding token during prepocessing\n",
        "* There are 10 cases where 'не был(о/а/и)' result in joint transcript. Hypothesis: put 'не был(а/а/и)' as one token during prepocessing\n",
        "* Remaining 15 anomalies seem to be the errors"
      ]
    },
    {
      "cell_type": "markdown",
      "metadata": {
        "id": "uV_cJH70KuSg",
        "colab_type": "text"
      },
      "source": [
        "### Let's see if we need to clean the data. First let's take a look at rus corpus alphabet"
      ]
    },
    {
      "cell_type": "code",
      "metadata": {
        "id": "LyV9anvZn187",
        "colab_type": "code",
        "outputId": "b04774de-be31-4afe-ea4a-b2c9f1423c05",
        "colab": {
          "base_uri": "https://localhost:8080/",
          "height": 298
        }
      },
      "source": [
        "s = sorted(chars.items())\n",
        "pd.DataFrame(s, index=(e[0]+' ' for e in s)).plot.bar(figsize=(18,4), rot=0, title = 'Char frequencies', legend=False)\n",
        "print(f'Number of times \"-\" used: {chars[\"-\"]}')"
      ],
      "execution_count": 9,
      "outputs": [
        {
          "output_type": "stream",
          "text": [
            "Number of times \"-\" used: 159\n"
          ],
          "name": "stdout"
        },
        {
          "output_type": "display_data",
          "data": {
            "image/png": "[encoded data removed]",
            "text/plain": [
              "<Figure size 1296x288 with 1 Axes>"
            ]
          },
          "metadata": {
            "tags": []
          }
        }
      ]
    },
    {
      "cell_type": "markdown",
      "metadata": {
        "id": "83TZ18z9K8Qy",
        "colab_type": "text"
      },
      "source": [
        "#### Looks good! We neither have punctuations nor capital letters. The only case to check is '-' letter which is used 159 times"
      ]
    },
    {
      "cell_type": "code",
      "metadata": {
        "id": "hEqkK_LRKLb-",
        "colab_type": "code",
        "outputId": "1c4bf8af-e4e5-472d-8e4b-9e66253f6211",
        "colab": {
          "base_uri": "https://localhost:8080/",
          "height": 54
        }
      },
      "source": [
        "seen = set()\n",
        "seen_dash = set()\n",
        "dash_words = []\n",
        "for rus,trn in rus_trn:\n",
        "  if rus not in seen:\n",
        "    if '-' in rus:\n",
        "      ru_words = rus.split()\n",
        "      for each in ru_words:\n",
        "        if '-' in each:\n",
        "          if each not in seen_dash:\n",
        "            seen_dash.add(each)\n",
        "            dash_words.append(each)\n",
        "  else:\n",
        "    seen.add(rus)\n",
        "  \n",
        "print(dash_words)"
      ],
      "execution_count": 10,
      "outputs": [
        {
          "output_type": "stream",
          "text": [
            "['анти-обледенитель', 'иридо-диагностика', 'дом-красавец', 'из-за', 'радио-сигналом', 'ноль-три', 'ноль-два', 'мало-обеспеченные', 'шкаф-купе', 'тех-осмотр', 'пресс-службе', 'авто-сервис', 'чуть-чуть', 'аудио-', 'какие-либо', 'де-факто', 'стерео-', 'царь-колокол', 'царь-пушка', 'гео-магнитного', 'электро-катастрофы', 'фигуристы-новобранцы', 'что-то', 'какое-либо', 'веб-операторы', 'воздушно-десантной', 'военно-морских', 'ветераны-афганцы', 'одного-единственного', 'природно-климатические', 'одном-двух', 'санкт-петербурге', 'стран-участниц', 'пять-шесть', 'по-своему', 'матч-реванш', 'словаря-справочника', 'штаб-квартире', 'чем-то', 'чего-то', 'экс-губернатора', 'российско-американский', 'северо-восточных', 'красно-белую', 'какой-нибудь', 'бело-жёлтый', 'карту-схему', 'юго-западный', 'радио-охранное', 'по-прежнему', 'каким-то', 'кино-картины', 'авто-трюки', 'пресс-конференции', 'генерал-прокурором', 'нью-йорке', 'медиа-группы', 'нью-йоркской', 'какие-то', 'санкт-петербурга', 'санкт-петербург', 'памятники-символы', 'премьер-министр', 'взлётно-посадочную', 'какого-нибудь', 'январе-феврале', 'птица-говорун', 'жучки-камнееды', 'школу-комплекс', 'художников-оформителей', 'какое-то', 'купли-продажи', 'каких-либо', 'генерал-лейтенант', 'карты-схемы', 'кому-нибудь', 'детям-инвалидам', 'как-то', 'золото-валютных', 'наконец-то', 'государственно-общественной', 'бизнес-сообщества', 'причинно-следственных', 'по-настоящему', 'юго-западного', 'премьер-министру', 'нью-йорк', 'пропан-бутановые', 'пресс-служба', 'физико-химическими', 'средне-взвешенный', 'интернет-сетью', 'экспресс-опрос', 'либерально-демократической', 'вице-премьер', 'пресс-конференция', 'военно-морского', 'по-другому', 'вице-спикера', 'радио-станции', 'конференц-зале', 'золото-валютные', 'фирм-членов', 'премьер-министром', 'химико-фармацевтической', 'весенне-полевых', 'пресс-секретарь', 'сирийско-израильский', 'юго-восток', 'сьерра-леонэ', 'южно-африканской', 'медиа-мостом', 'диско-марафон', 'видео-', 'две-три', 'экс-посол', 'военно-политического', 'компакт-диски', 'мини-электростанция', 'когда-нибудь', 'кто-то', 'веке-волкодаве', 'из-под', 'капитан-лейтенанта', 'просто-напросто', 'всё-таки', 'пресс-службы', 'южно-сахалинске', 'оперативно-следственная', 'армяно-российского', 'северо-западе']\n"
          ],
          "name": "stdout"
        }
      ]
    },
    {
      "cell_type": "markdown",
      "metadata": {
        "id": "3VHh6JUCPGlb",
        "colab_type": "text"
      },
      "source": [
        "#### Okey, words with dash look fine, we'll consider dash as a normal letter"
      ]
    },
    {
      "cell_type": "markdown",
      "metadata": {
        "id": "hMAmvWqyLrWv",
        "colab_type": "text"
      },
      "source": [
        "### The size of the corpus is too small to tokenize on words. Insted we'll tokenize bsed on characters"
      ]
    },
    {
      "cell_type": "markdown",
      "metadata": {
        "id": "G-xAjHqyjh3x",
        "colab_type": "text"
      },
      "source": [
        "### So in order to implement autocoder for transcript we'd need to keep special symbools in transcript such as \"\\_\" and \"%% %%\". So let's create a dictionary of sentences rus <-> trans. So let's recreate the dictionary so \"\\_\" and \"%% %%\" are marked with '#' (treat them as separate token) and remove begin and end markers. Plus to that let's get rid of duplicates.\n",
        "\n",
        "#### Second thought though. Since Russian corpus does not include any punctuation, we cannot predict '%% %%' token properly. So let's sacrifice one token for the sake of overall accuracy\n"
      ]
    },
    {
      "cell_type": "code",
      "metadata": {
        "id": "PBgF1l93y39m",
        "colab_type": "code",
        "outputId": "9fcd5522-315a-422c-8730-13541a34bc82",
        "colab": {
          "base_uri": "https://localhost:8080/",
          "height": 298
        }
      },
      "source": [
        "seen_rus = set()\n",
        "seen_trn = set()\n",
        "\n",
        "res, trn_l, rus_l = [], [], []\n",
        "for rus, trn in rus_trn:\n",
        "\n",
        "  if rus not in seen_rus or trn not in seen_trn:\n",
        "      seen_rus.add(rus)\n",
        "      seen_trn.add(trn)\n",
        "\n",
        "      # '# <PNK>'\n",
        "      trn = trn.replace('%% %%', '#') \\\n",
        "                .replace('_', '_ #')[3:-3] \\\n",
        "                .split('#')\n",
        "\n",
        "      rus = rus.replace(' же ', 'же ') \\\n",
        "                .replace(' бы ', 'бы ') \\\n",
        "                .replace(' ли ', 'ли ') \\\n",
        "                .split(' ')\n",
        "\n",
        "      for a,b in zip(rus, trn):\n",
        "        b = b.strip().split(' ')\n",
        "        # res.append((list(a), b + ['<eos>'], ['<sos>'] + b))\n",
        "        res.append((list(a), b, b))\n",
        "        rus_l.append( len(a))\n",
        "        trn_l.append( len(b))\n",
        "\n",
        "rus_trn_new = array(res)\n",
        "trn_length = max(trn_l)\n",
        "rus_length = max(rus_l)\n",
        "print(f'max len rus: {rus_length}, max len trn: {trn_length}')\n",
        "fig, (ax1, ax2) = plt.subplots(nrows=1,ncols=2,figsize=(12,4))\n",
        "pd.DataFrame({'Number of tokens in Rus sentence':rus_l}).hist(ax=ax1, bins = 30);\n",
        "pd.DataFrame({'Number of tokens in Trns sentence':trn_l}).hist(ax=ax2, bins = 30);"
      ],
      "execution_count": 59,
      "outputs": [
        {
          "output_type": "stream",
          "text": [
            "max len rus: 27, max len trn: 26\n"
          ],
          "name": "stdout"
        },
        {
          "output_type": "display_data",
          "data": {
            "image/png": "[encoded data removed]",
            "text/plain": [
              "<Figure size 864x288 with 2 Axes>"
            ]
          },
          "metadata": {
            "tags": []
          }
        }
      ]
    },
    {
      "cell_type": "code",
      "metadata": {
        "id": "ID8a8MoaKtVm",
        "colab_type": "code",
        "outputId": "f4d46513-c1a0-4d48-a7bd-37d495e101bc",
        "colab": {
          "base_uri": "https://localhost:8080/",
          "height": 51
        }
      },
      "source": [
        "a = np.random.choice(len(rus_trn_new))\n",
        "rus_trn_new[a]"
      ],
      "execution_count": 12,
      "outputs": [
        {
          "output_type": "execute_result",
          "data": {
            "text/plain": [
              "array([list(['н', 'а']), list(['n', \"a'\", '_']), list(['n', \"a'\", '_'])],\n",
              "      dtype=object)"
            ]
          },
          "metadata": {
            "tags": []
          },
          "execution_count": 12
        }
      ]
    },
    {
      "cell_type": "markdown",
      "metadata": {
        "id": "CbQ82gWtkTDx",
        "colab_type": "text"
      },
      "source": [
        "### Let's tokenize the sentences\n",
        "\n"
      ]
    },
    {
      "cell_type": "code",
      "metadata": {
        "id": "670W8CC1llqC",
        "colab_type": "code",
        "outputId": "f99322cb-ddee-473c-9b43-4f322b67dde9",
        "colab": {
          "base_uri": "https://localhost:8080/",
          "height": 51
        }
      },
      "source": [
        "def tokenization(lines, split=' '):\n",
        "  tokenizer = Tokenizer(filters='', lower=False, split=split)\n",
        "  tokenizer.fit_on_texts(lines)\n",
        "  return tokenizer\n",
        "\n",
        "def encode_sequences(tokenizer, length, lines):\n",
        "  seq = tokenizer.texts_to_sequences(lines)\n",
        "  seq = pad_sequences(sequences=seq, maxlen=length, padding='post')\n",
        "  return seq\n",
        "\n",
        "rus_tokenizer = tokenization(rus_trn_new[:, 0], split='')\n",
        "rus_vocab_size = len(rus_tokenizer.word_index) + 1\n",
        "# rus_trn_new[0, 1] += ['<sos>', '<eos>']\n",
        "trn_tokenizer = tokenization(rus_trn_new[:, 1], split=' ')\n",
        "trn_vocab_size = len(trn_tokenizer.word_index) + 1\n",
        "print(f'Rus Vocabulary Size: {rus_vocab_size}')\n",
        "print(f'Trns Vocabulary Size: {trn_vocab_size}')"
      ],
      "execution_count": 60,
      "outputs": [
        {
          "output_type": "stream",
          "text": [
            "Rus Vocabulary Size: 35\n",
            "Trns Vocabulary Size: 115\n"
          ],
          "name": "stdout"
        }
      ]
    },
    {
      "cell_type": "markdown",
      "metadata": {
        "id": "sgJdhdjvqRA9",
        "colab_type": "text"
      },
      "source": [
        "### Encode sentences, pad them, split to train and test\n"
      ]
    },
    {
      "cell_type": "code",
      "metadata": {
        "id": "3XcT-AUGqa5v",
        "colab_type": "code",
        "outputId": "3afdf803-9eae-42c9-aefd-370987ec2b9b",
        "colab": {
          "base_uri": "https://localhost:8080/",
          "height": 85
        }
      },
      "source": [
        "train, test = train_test_split(rus_trn_new, test_size=0.1, random_state = RS)\n",
        "\n",
        "# rus_length = trn_length = max(trn_length, rus_length)\n",
        "\n",
        "# prepare training data\n",
        "trainX = encode_sequences(rus_tokenizer, rus_length, train[:, 0])\n",
        "trainX_ = encode_sequences(trn_tokenizer, trn_length, train[:, 2])\n",
        "trainY = encode_sequences(trn_tokenizer, trn_length, train[:, 1])\n",
        "\n",
        "# prepare validation data\n",
        "testX = encode_sequences(rus_tokenizer, rus_length, test[:, 0])\n",
        "testX_ = encode_sequences(trn_tokenizer, trn_length, test[:, 2])\n",
        "testY = encode_sequences(trn_tokenizer, trn_length, test[:, 1])\n",
        "\n",
        "a = np.random.choice(len(trainX))\n",
        "print(a)\n",
        "print( rus_tokenizer.sequences_to_texts([trainX[a]]) )\n",
        "print( trn_tokenizer.sequences_to_texts([trainY[a]]) )\n",
        "print( trn_tokenizer.sequences_to_texts([trainX_[a]]) )"
      ],
      "execution_count": 61,
      "outputs": [
        {
          "output_type": "stream",
          "text": [
            "4220\n",
            "['г о д а']\n",
            "['g o1 d ax']\n",
            "['g o1 d ax']\n"
          ],
          "name": "stdout"
        }
      ]
    },
    {
      "cell_type": "markdown",
      "metadata": {
        "id": "G8P7B0nI8fvQ",
        "colab_type": "text"
      },
      "source": [
        "### Let's build simple sequential seq2seq model"
      ]
    },
    {
      "cell_type": "code",
      "metadata": {
        "id": "RDMl-upI8mnu",
        "colab_type": "code",
        "colab": {
          "base_uri": "https://localhost:8080/",
          "height": 1000
        },
        "outputId": "2feb8424-5353-4788-8037-e9d2d900a431"
      },
      "source": [
        "model = Sequential()\n",
        "model.add(Embedding(rus_vocab_size, 512, input_length=rus_length, mask_zero=True))\n",
        "model.add(LSTM(512))\n",
        "model.add(RepeatVector(trn_length))\n",
        "model.add(LSTM(512, return_sequences=True))\n",
        "model.add(Dense(trn_vocab_size, activation='softmax'))\n",
        "# compile model\n",
        "model.compile(optimizer='adam', loss='sparse_categorical_crossentropy')\n",
        "# summarize defined model\n",
        "model.summary()\n",
        "\n",
        "from keras import backend as K\n",
        "EPOCHES = 100\n",
        "BS = 512\n",
        "\n",
        "def train_model(model):\n",
        "  monitor = 'val_loss'\n",
        "  mode = 'min'\n",
        "  early_stop = EarlyStopping( patience=5, monitor=monitor, mode=mode, restore_best_weights=True)\n",
        "\n",
        "  data = trainX, [trainY.reshape(*trainY.shape, 1)]\n",
        "  validation_data = testX, [testY.reshape(*testY.shape, 1)]\n",
        "\n",
        "  history = model.fit(*data, \n",
        "            epochs=EPOCHES, batch_size=BS, \n",
        "            validation_data=validation_data,\n",
        "            callbacks=[early_stop], verbose=1)\n",
        "\n",
        "  # plot validation loss vs training loss\n",
        "  plt.plot(history.history['loss'])\n",
        "  plt.plot(history.history['val_loss'])\n",
        "  plt.legend(['train','validation'])\n",
        "  plt.show()\n",
        "\n",
        "train_model(model)"
      ],
      "execution_count": 52,
      "outputs": [
        {
          "output_type": "stream",
          "text": [
            "Model: \"sequential_2\"\n",
            "_________________________________________________________________\n",
            "Layer (type)                 Output Shape              Param #   \n",
            "=================================================================\n",
            "embedding_14 (Embedding)     (None, 27, 512)           17920     \n",
            "_________________________________________________________________\n",
            "lstm_31 (LSTM)               (None, 512)               2099200   \n",
            "_________________________________________________________________\n",
            "repeat_vector_8 (RepeatVecto (None, 26, 512)           0         \n",
            "_________________________________________________________________\n",
            "lstm_32 (LSTM)               (None, 26, 512)           2099200   \n",
            "_________________________________________________________________\n",
            "dense_11 (Dense)             (None, 26, 116)           59508     \n",
            "=================================================================\n",
            "Total params: 4,275,828\n",
            "Trainable params: 4,275,828\n",
            "Non-trainable params: 0\n",
            "_________________________________________________________________\n",
            "Train on 23445 samples, validate on 2606 samples\n",
            "Epoch 1/100\n",
            "23445/23445 [==============================] - 16s 699us/step - loss: 1.7598 - val_loss: 1.3013\n",
            "Epoch 2/100\n",
            "23445/23445 [==============================] - 8s 354us/step - loss: 1.2258 - val_loss: 1.1051\n",
            "Epoch 3/100\n",
            "23445/23445 [==============================] - 8s 347us/step - loss: 1.0933 - val_loss: 1.0638\n",
            "Epoch 4/100\n",
            "23445/23445 [==============================] - 8s 349us/step - loss: 1.0385 - val_loss: 1.0089\n",
            "Epoch 5/100\n",
            "23445/23445 [==============================] - 8s 348us/step - loss: 1.0117 - val_loss: 0.9882\n",
            "Epoch 6/100\n",
            "23445/23445 [==============================] - 8s 345us/step - loss: 0.9913 - val_loss: 0.9650\n",
            "Epoch 7/100\n",
            "23445/23445 [==============================] - 8s 344us/step - loss: 0.9531 - val_loss: 0.9189\n",
            "Epoch 8/100\n",
            "23445/23445 [==============================] - 8s 349us/step - loss: 0.9228 - val_loss: 0.9903\n",
            "Epoch 9/100\n",
            "23445/23445 [==============================] - 8s 348us/step - loss: 0.8898 - val_loss: 0.8425\n",
            "Epoch 10/100\n",
            "23445/23445 [==============================] - 8s 349us/step - loss: 0.8381 - val_loss: 0.8027\n",
            "Epoch 11/100\n",
            "23445/23445 [==============================] - 8s 344us/step - loss: 0.7837 - val_loss: 0.7520\n",
            "Epoch 12/100\n",
            "23445/23445 [==============================] - 8s 343us/step - loss: 0.7278 - val_loss: 0.6791\n",
            "Epoch 13/100\n",
            "23445/23445 [==============================] - 8s 345us/step - loss: 0.6625 - val_loss: 0.6329\n",
            "Epoch 14/100\n",
            "23445/23445 [==============================] - 8s 344us/step - loss: 0.6002 - val_loss: 0.5754\n",
            "Epoch 15/100\n",
            "23445/23445 [==============================] - 8s 346us/step - loss: 0.5363 - val_loss: 0.4958\n",
            "Epoch 16/100\n",
            "23445/23445 [==============================] - 8s 353us/step - loss: 0.5095 - val_loss: 0.4563\n",
            "Epoch 17/100\n",
            "23445/23445 [==============================] - 8s 347us/step - loss: 0.4331 - val_loss: 0.4001\n",
            "Epoch 18/100\n",
            "23445/23445 [==============================] - 8s 345us/step - loss: 0.3854 - val_loss: 0.3829\n",
            "Epoch 19/100\n",
            "23445/23445 [==============================] - 8s 342us/step - loss: 0.3541 - val_loss: 0.3410\n",
            "Epoch 20/100\n",
            "23445/23445 [==============================] - 8s 343us/step - loss: 0.3262 - val_loss: 0.3108\n",
            "Epoch 21/100\n",
            "23445/23445 [==============================] - 8s 341us/step - loss: 0.2888 - val_loss: 0.3048\n",
            "Epoch 22/100\n",
            "23445/23445 [==============================] - 8s 348us/step - loss: 0.2705 - val_loss: 0.2645\n",
            "Epoch 23/100\n",
            "23445/23445 [==============================] - 8s 348us/step - loss: 0.2377 - val_loss: 0.2479\n",
            "Epoch 24/100\n",
            "23445/23445 [==============================] - 8s 349us/step - loss: 0.2299 - val_loss: 0.2572\n",
            "Epoch 25/100\n",
            "23445/23445 [==============================] - 8s 349us/step - loss: 0.2082 - val_loss: 0.2236\n",
            "Epoch 26/100\n",
            "23445/23445 [==============================] - 8s 344us/step - loss: 0.1911 - val_loss: 0.2128\n",
            "Epoch 27/100\n",
            "23445/23445 [==============================] - 8s 345us/step - loss: 0.1793 - val_loss: 0.2062\n",
            "Epoch 28/100\n",
            "23445/23445 [==============================] - 8s 340us/step - loss: 0.1693 - val_loss: 0.2006\n",
            "Epoch 29/100\n",
            "23445/23445 [==============================] - 8s 343us/step - loss: 0.1602 - val_loss: 0.1938\n",
            "Epoch 30/100\n",
            "23445/23445 [==============================] - 8s 342us/step - loss: 0.1657 - val_loss: 0.1896\n",
            "Epoch 31/100\n",
            "23445/23445 [==============================] - 8s 349us/step - loss: 0.1388 - val_loss: 0.1789\n",
            "Epoch 32/100\n",
            "23445/23445 [==============================] - 8s 348us/step - loss: 0.1299 - val_loss: 0.1777\n",
            "Epoch 33/100\n",
            "23445/23445 [==============================] - 8s 346us/step - loss: 0.1279 - val_loss: 0.1819\n",
            "Epoch 34/100\n",
            "23445/23445 [==============================] - 8s 346us/step - loss: 0.1242 - val_loss: 0.1887\n",
            "Epoch 35/100\n",
            "23445/23445 [==============================] - 8s 344us/step - loss: 0.1169 - val_loss: 0.1732\n",
            "Epoch 36/100\n",
            "23445/23445 [==============================] - 8s 346us/step - loss: 0.1065 - val_loss: 0.1689\n",
            "Epoch 37/100\n",
            "23445/23445 [==============================] - 8s 344us/step - loss: 0.1005 - val_loss: 0.1711\n",
            "Epoch 38/100\n",
            "23445/23445 [==============================] - 8s 345us/step - loss: 0.0976 - val_loss: 0.1616\n",
            "Epoch 39/100\n",
            "23445/23445 [==============================] - 8s 357us/step - loss: 0.0962 - val_loss: 0.1648\n",
            "Epoch 40/100\n",
            "23445/23445 [==============================] - 8s 349us/step - loss: 0.0889 - val_loss: 0.1660\n",
            "Epoch 41/100\n",
            "23445/23445 [==============================] - 8s 347us/step - loss: 0.0853 - val_loss: 0.1632\n",
            "Epoch 42/100\n",
            "23445/23445 [==============================] - 8s 343us/step - loss: 0.0793 - val_loss: 0.1598\n",
            "Epoch 43/100\n",
            "23445/23445 [==============================] - 8s 342us/step - loss: 0.0783 - val_loss: 0.1627\n",
            "Epoch 44/100\n",
            "23445/23445 [==============================] - 8s 342us/step - loss: 0.0774 - val_loss: 0.1685\n",
            "Epoch 45/100\n",
            "23445/23445 [==============================] - 8s 347us/step - loss: 0.0754 - val_loss: 0.1624\n",
            "Epoch 46/100\n",
            "23445/23445 [==============================] - 8s 351us/step - loss: 0.0707 - val_loss: 0.1616\n",
            "Epoch 47/100\n",
            "23445/23445 [==============================] - 8s 347us/step - loss: 0.0742 - val_loss: 0.1746\n"
          ],
          "name": "stdout"
        },
        {
          "output_type": "display_data",
          "data": {
            "image/png": "[encoded data removed]",
            "text/plain": [
              "<Figure size 432x288 with 1 Axes>"
            ]
          },
          "metadata": {
            "tags": []
          }
        }
      ]
    },
    {
      "cell_type": "markdown",
      "metadata": {
        "id": "HCCVHlIj_v-J",
        "colab_type": "text"
      },
      "source": [
        "### val_loss: 0.1598 - Not bad for the first model! Let's see if we could improve that"
      ]
    },
    {
      "cell_type": "code",
      "metadata": {
        "id": "xrrmwjFNAuXR",
        "colab_type": "code",
        "colab": {
          "base_uri": "https://localhost:8080/",
          "height": 1000
        },
        "outputId": "c88bc69d-57b6-4b27-d1cb-b8234362d0e1"
      },
      "source": [
        "def define_seq2seq_BiLSTM(in_vocab, out_vocab, in_timesteps, out_timesteps, units):\n",
        "  input = x = Input(shape=(None,))\n",
        "  x = Embedding(in_vocab, units, input_length=in_timesteps, mask_zero=True)(x)\n",
        "  x, h, c, h2, c2 = Bi(LSTM(units, return_state=True))(x)\n",
        "  x = Dropout(0.1)(x)\n",
        "  x = RepeatVector(out_timesteps)(x)\n",
        "  x = Bi(LSTM(units, return_sequences=True))(x, initial_state = (h, c, h2, c2))\n",
        "  x = Dropout(0.1)(x)\n",
        "  output = Dense(out_vocab, activation='softmax')(x)\n",
        "  model = Model(input, output)\n",
        "  model.summary()\n",
        "  model.compile(optimizer='adam', loss='sparse_categorical_crossentropy')\n",
        "  return model\n",
        "\n",
        "model = define_seq2seq_BiLSTM(rus_vocab_size, trn_vocab_size, rus_length, trn_length, 512)\n",
        "train_model(model)"
      ],
      "execution_count": 55,
      "outputs": [
        {
          "output_type": "stream",
          "text": [
            "Model: \"model_13\"\n",
            "__________________________________________________________________________________________________\n",
            "Layer (type)                    Output Shape         Param #     Connected to                     \n",
            "==================================================================================================\n",
            "input_15 (InputLayer)           (None, None)         0                                            \n",
            "__________________________________________________________________________________________________\n",
            "embedding_17 (Embedding)        (None, 27, 512)      17920       input_15[0][0]                   \n",
            "__________________________________________________________________________________________________\n",
            "bidirectional_14 (Bidirectional [(None, 1024), (None 4198400     embedding_17[0][0]               \n",
            "__________________________________________________________________________________________________\n",
            "dropout_15 (Dropout)            (None, 1024)         0           bidirectional_14[0][0]           \n",
            "__________________________________________________________________________________________________\n",
            "repeat_vector_11 (RepeatVector) (None, 26, 1024)     0           dropout_15[0][0]                 \n",
            "__________________________________________________________________________________________________\n",
            "bidirectional_15 (Bidirectional (None, 26, 1024)     6295552     repeat_vector_11[0][0]           \n",
            "                                                                 bidirectional_14[0][1]           \n",
            "                                                                 bidirectional_14[0][2]           \n",
            "                                                                 bidirectional_14[0][3]           \n",
            "                                                                 bidirectional_14[0][4]           \n",
            "__________________________________________________________________________________________________\n",
            "dropout_16 (Dropout)            (None, 26, 1024)     0           bidirectional_15[0][0]           \n",
            "__________________________________________________________________________________________________\n",
            "dense_14 (Dense)                (None, 26, 116)      118900      dropout_16[0][0]                 \n",
            "==================================================================================================\n",
            "Total params: 10,630,772\n",
            "Trainable params: 10,630,772\n",
            "Non-trainable params: 0\n",
            "__________________________________________________________________________________________________\n",
            "Train on 23445 samples, validate on 2606 samples\n",
            "Epoch 1/100\n",
            "23445/23445 [==============================] - 29s 1ms/step - loss: 1.6480 - val_loss: 1.2053\n",
            "Epoch 2/100\n",
            "23445/23445 [==============================] - 18s 779us/step - loss: 1.1060 - val_loss: 1.0137\n",
            "Epoch 3/100\n",
            "23445/23445 [==============================] - 18s 783us/step - loss: 0.9983 - val_loss: 0.9444\n",
            "Epoch 4/100\n",
            "23445/23445 [==============================] - 18s 783us/step - loss: 0.9229 - val_loss: 0.8581\n",
            "Epoch 5/100\n",
            "23445/23445 [==============================] - 18s 786us/step - loss: 0.8339 - val_loss: 0.7743\n",
            "Epoch 6/100\n",
            "23445/23445 [==============================] - 19s 792us/step - loss: 0.7453 - val_loss: 0.6799\n",
            "Epoch 7/100\n",
            "23445/23445 [==============================] - 19s 792us/step - loss: 0.6731 - val_loss: 0.6132\n",
            "Epoch 8/100\n",
            "23445/23445 [==============================] - 18s 787us/step - loss: 0.6042 - val_loss: 0.5466\n",
            "Epoch 9/100\n",
            "23445/23445 [==============================] - 19s 797us/step - loss: 0.5482 - val_loss: 0.4910\n",
            "Epoch 10/100\n",
            "23445/23445 [==============================] - 19s 800us/step - loss: 0.4895 - val_loss: 0.4398\n",
            "Epoch 11/100\n",
            "23445/23445 [==============================] - 19s 796us/step - loss: 0.4386 - val_loss: 0.3970\n",
            "Epoch 12/100\n",
            "23445/23445 [==============================] - 19s 796us/step - loss: 0.3904 - val_loss: 0.3656\n",
            "Epoch 13/100\n",
            "23445/23445 [==============================] - 19s 801us/step - loss: 0.3530 - val_loss: 0.3205\n",
            "Epoch 14/100\n",
            "23445/23445 [==============================] - 19s 795us/step - loss: 0.3115 - val_loss: 0.2880\n",
            "Epoch 15/100\n",
            "23445/23445 [==============================] - 19s 800us/step - loss: 0.2784 - val_loss: 0.2646\n",
            "Epoch 16/100\n",
            "23445/23445 [==============================] - 19s 807us/step - loss: 0.2498 - val_loss: 0.2373\n",
            "Epoch 17/100\n",
            "23445/23445 [==============================] - 19s 799us/step - loss: 0.2234 - val_loss: 0.2218\n",
            "Epoch 18/100\n",
            "23445/23445 [==============================] - 19s 799us/step - loss: 0.1984 - val_loss: 0.2113\n",
            "Epoch 19/100\n",
            "23445/23445 [==============================] - 19s 805us/step - loss: 0.1848 - val_loss: 0.1950\n",
            "Epoch 20/100\n",
            "23445/23445 [==============================] - 19s 798us/step - loss: 0.1687 - val_loss: 0.1857\n",
            "Epoch 21/100\n",
            "23445/23445 [==============================] - 19s 798us/step - loss: 0.1539 - val_loss: 0.1795\n",
            "Epoch 22/100\n",
            "23445/23445 [==============================] - 19s 801us/step - loss: 0.1422 - val_loss: 0.1721\n",
            "Epoch 23/100\n",
            "23445/23445 [==============================] - 19s 799us/step - loss: 0.1315 - val_loss: 0.1632\n",
            "Epoch 24/100\n",
            "23445/23445 [==============================] - 19s 797us/step - loss: 0.1199 - val_loss: 0.1586\n",
            "Epoch 25/100\n",
            "23445/23445 [==============================] - 19s 803us/step - loss: 0.1111 - val_loss: 0.1578\n",
            "Epoch 26/100\n",
            "23445/23445 [==============================] - 19s 800us/step - loss: 0.1098 - val_loss: 0.1554\n",
            "Epoch 27/100\n",
            "23445/23445 [==============================] - 19s 798us/step - loss: 0.0996 - val_loss: 0.1515\n",
            "Epoch 28/100\n",
            "23445/23445 [==============================] - 19s 796us/step - loss: 0.0960 - val_loss: 0.1597\n",
            "Epoch 29/100\n",
            "23445/23445 [==============================] - 19s 804us/step - loss: 0.0906 - val_loss: 0.1463\n",
            "Epoch 30/100\n",
            "23445/23445 [==============================] - 19s 800us/step - loss: 0.0831 - val_loss: 0.1450\n",
            "Epoch 31/100\n",
            "23445/23445 [==============================] - 19s 801us/step - loss: 0.0779 - val_loss: 0.1435\n",
            "Epoch 32/100\n",
            "23445/23445 [==============================] - 19s 806us/step - loss: 0.0746 - val_loss: 0.1443\n",
            "Epoch 33/100\n",
            "23445/23445 [==============================] - 19s 801us/step - loss: 0.0709 - val_loss: 0.1400\n",
            "Epoch 34/100\n",
            "23445/23445 [==============================] - 19s 804us/step - loss: 0.0670 - val_loss: 0.1438\n",
            "Epoch 35/100\n",
            "23445/23445 [==============================] - 19s 807us/step - loss: 0.0655 - val_loss: 0.1423\n",
            "Epoch 36/100\n",
            "23445/23445 [==============================] - 19s 800us/step - loss: 0.0660 - val_loss: 0.1437\n",
            "Epoch 37/100\n",
            "23445/23445 [==============================] - 19s 799us/step - loss: 0.0634 - val_loss: 0.1418\n",
            "Epoch 38/100\n",
            "23445/23445 [==============================] - 19s 803us/step - loss: 0.0617 - val_loss: 0.1416\n"
          ],
          "name": "stdout"
        },
        {
          "output_type": "display_data",
          "data": {
            "image/png": "[encoded data removed]",
            "text/plain": [
              "<Figure size 432x288 with 1 Axes>"
            ]
          },
          "metadata": {
            "tags": []
          }
        }
      ]
    },
    {
      "cell_type": "markdown",
      "metadata": {
        "id": "IIX2DfkcA0_Q",
        "colab_type": "text"
      },
      "source": [
        "### val_loss: 0.1400 = Bidirectional LSTM with states transfer slightly improves the result. What's next? Let's try 2 layers of LSTM in encoder-decoder"
      ]
    },
    {
      "cell_type": "code",
      "metadata": {
        "id": "LksHo8BAGep9",
        "colab_type": "code",
        "colab": {
          "base_uri": "https://localhost:8080/",
          "height": 1000
        },
        "outputId": "01bb25c7-e267-49e7-b032-c0101367f711"
      },
      "source": [
        "def define_seq2seq_2LSTM(in_vocab, out_vocab, in_timesteps, out_timesteps, units):\n",
        "  input = x = Input(shape=(None,))\n",
        "  x = Embedding(in_vocab, units, input_length=in_timesteps, mask_zero=True)(x)\n",
        "  x, h, c = LSTM(units, return_sequences=True, return_state=True, go_backwards=True)(x)\n",
        "  x = Dropout(0.5)(x)\n",
        "  x, h2, c2 = LSTM(units, return_state=True)(x)\n",
        "  x = RepeatVector(out_timesteps)(x)\n",
        "  x = LSTM(units, return_sequences=True)(x, initial_state = (h, c))\n",
        "  x = Dropout(0.5)(x)\n",
        "  x = LSTM(units, return_sequences=True)(x, initial_state = (h2, c2))\n",
        "  output = Dense(out_vocab, activation='softmax')(x)\n",
        "  model = Model(input, output)\n",
        "  model.summary()\n",
        "  model.compile(optimizer='adam', loss='sparse_categorical_crossentropy')\n",
        "  return model\n",
        "\n",
        "model = define_seq2seq_2LSTM(rus_vocab_size, trn_vocab_size, rus_length, trn_length, 512)\n",
        "train_model(model)"
      ],
      "execution_count": 66,
      "outputs": [
        {
          "output_type": "stream",
          "text": [
            "Model: \"model_16\"\n",
            "__________________________________________________________________________________________________\n",
            "Layer (type)                    Output Shape         Param #     Connected to                     \n",
            "==================================================================================================\n",
            "input_18 (InputLayer)           (None, None)         0                                            \n",
            "__________________________________________________________________________________________________\n",
            "embedding_20 (Embedding)        (None, 27, 512)      17920       input_18[0][0]                   \n",
            "__________________________________________________________________________________________________\n",
            "lstm_49 (LSTM)                  [(None, 27, 512), (N 2099200     embedding_20[0][0]               \n",
            "__________________________________________________________________________________________________\n",
            "dropout_21 (Dropout)            (None, 27, 512)      0           lstm_49[0][0]                    \n",
            "__________________________________________________________________________________________________\n",
            "lstm_50 (LSTM)                  [(None, 512), (None, 2099200     dropout_21[0][0]                 \n",
            "__________________________________________________________________________________________________\n",
            "repeat_vector_14 (RepeatVector) (None, 26, 512)      0           lstm_50[0][0]                    \n",
            "__________________________________________________________________________________________________\n",
            "lstm_51 (LSTM)                  (None, 26, 512)      2099200     repeat_vector_14[0][0]           \n",
            "                                                                 lstm_49[0][1]                    \n",
            "                                                                 lstm_49[0][2]                    \n",
            "__________________________________________________________________________________________________\n",
            "dropout_22 (Dropout)            (None, 26, 512)      0           lstm_51[0][0]                    \n",
            "__________________________________________________________________________________________________\n",
            "lstm_52 (LSTM)                  (None, 26, 512)      2099200     dropout_22[0][0]                 \n",
            "                                                                 lstm_50[0][1]                    \n",
            "                                                                 lstm_50[0][2]                    \n",
            "__________________________________________________________________________________________________\n",
            "dense_17 (Dense)                (None, 26, 115)      58995       lstm_52[0][0]                    \n",
            "==================================================================================================\n",
            "Total params: 8,473,715\n",
            "Trainable params: 8,473,715\n",
            "Non-trainable params: 0\n",
            "__________________________________________________________________________________________________\n",
            "Train on 23445 samples, validate on 2606 samples\n",
            "Epoch 1/100\n",
            "23445/23445 [==============================] - 28s 1ms/step - loss: 1.6936 - val_loss: 1.2633\n",
            "Epoch 2/100\n",
            "23445/23445 [==============================] - 16s 661us/step - loss: 1.1812 - val_loss: 1.0533\n",
            "Epoch 3/100\n",
            "23445/23445 [==============================] - 16s 667us/step - loss: 1.0276 - val_loss: 0.9907\n",
            "Epoch 4/100\n",
            "23445/23445 [==============================] - 16s 675us/step - loss: 0.9914 - val_loss: 0.9669\n",
            "Epoch 5/100\n",
            "23445/23445 [==============================] - 16s 675us/step - loss: 0.9751 - val_loss: 0.9525\n",
            "Epoch 6/100\n",
            "23445/23445 [==============================] - 16s 672us/step - loss: 0.9618 - val_loss: 0.9422\n",
            "Epoch 7/100\n",
            "23445/23445 [==============================] - 16s 674us/step - loss: 0.9500 - val_loss: 0.9306\n",
            "Epoch 8/100\n",
            "23445/23445 [==============================] - 16s 683us/step - loss: 0.9322 - val_loss: 0.9019\n",
            "Epoch 9/100\n",
            "23445/23445 [==============================] - 16s 676us/step - loss: 0.8960 - val_loss: 0.8536\n",
            "Epoch 10/100\n",
            "23445/23445 [==============================] - 16s 679us/step - loss: 0.8328 - val_loss: 0.7736\n",
            "Epoch 11/100\n",
            "23445/23445 [==============================] - 16s 682us/step - loss: 0.7494 - val_loss: 0.6799\n",
            "Epoch 12/100\n",
            "23445/23445 [==============================] - 16s 682us/step - loss: 0.6592 - val_loss: 0.5874\n",
            "Epoch 13/100\n",
            "23445/23445 [==============================] - 16s 683us/step - loss: 0.5648 - val_loss: 0.4891\n",
            "Epoch 14/100\n",
            "23445/23445 [==============================] - 16s 683us/step - loss: 0.4772 - val_loss: 0.4114\n",
            "Epoch 15/100\n",
            "23445/23445 [==============================] - 16s 691us/step - loss: 0.4008 - val_loss: 0.3411\n",
            "Epoch 16/100\n",
            "23445/23445 [==============================] - 16s 684us/step - loss: 0.3335 - val_loss: 0.2857\n",
            "Epoch 17/100\n",
            "23445/23445 [==============================] - 16s 683us/step - loss: 0.2882 - val_loss: 0.2438\n",
            "Epoch 18/100\n",
            "23445/23445 [==============================] - 16s 686us/step - loss: 0.2420 - val_loss: 0.2123\n",
            "Epoch 19/100\n",
            "23445/23445 [==============================] - 16s 697us/step - loss: 0.2142 - val_loss: 0.1894\n",
            "Epoch 20/100\n",
            "23445/23445 [==============================] - 16s 692us/step - loss: 0.1875 - val_loss: 0.1711\n",
            "Epoch 21/100\n",
            "23445/23445 [==============================] - 16s 684us/step - loss: 0.1695 - val_loss: 0.1628\n",
            "Epoch 22/100\n",
            "23445/23445 [==============================] - 16s 689us/step - loss: 0.1549 - val_loss: 0.1519\n",
            "Epoch 23/100\n",
            "23445/23445 [==============================] - 16s 701us/step - loss: 0.1398 - val_loss: 0.1396\n",
            "Epoch 24/100\n",
            "23445/23445 [==============================] - 16s 696us/step - loss: 0.1280 - val_loss: 0.1326\n",
            "Epoch 25/100\n",
            "23445/23445 [==============================] - 16s 696us/step - loss: 0.1164 - val_loss: 0.1273\n",
            "Epoch 26/100\n",
            "23445/23445 [==============================] - 16s 694us/step - loss: 0.1089 - val_loss: 0.1243\n",
            "Epoch 27/100\n",
            "23445/23445 [==============================] - 16s 693us/step - loss: 0.1028 - val_loss: 0.1228\n",
            "Epoch 28/100\n",
            "23445/23445 [==============================] - 16s 690us/step - loss: 0.0986 - val_loss: 0.1165\n",
            "Epoch 29/100\n",
            "23445/23445 [==============================] - 16s 691us/step - loss: 0.0926 - val_loss: 0.1123\n",
            "Epoch 30/100\n",
            "23445/23445 [==============================] - 16s 689us/step - loss: 0.0868 - val_loss: 0.1119\n",
            "Epoch 31/100\n",
            "23445/23445 [==============================] - 16s 687us/step - loss: 0.0811 - val_loss: 0.1087\n",
            "Epoch 32/100\n",
            "23445/23445 [==============================] - 16s 684us/step - loss: 0.0775 - val_loss: 0.1085\n",
            "Epoch 33/100\n",
            "23445/23445 [==============================] - 16s 685us/step - loss: 0.0735 - val_loss: 0.1045\n",
            "Epoch 34/100\n",
            "23445/23445 [==============================] - 16s 689us/step - loss: 0.0697 - val_loss: 0.1037\n",
            "Epoch 35/100\n",
            "23445/23445 [==============================] - 16s 688us/step - loss: 0.0674 - val_loss: 0.1041\n",
            "Epoch 36/100\n",
            "23445/23445 [==============================] - 16s 684us/step - loss: 0.0638 - val_loss: 0.1040\n",
            "Epoch 37/100\n",
            "23445/23445 [==============================] - 16s 688us/step - loss: 0.0612 - val_loss: 0.1031\n",
            "Epoch 38/100\n",
            "23445/23445 [==============================] - 16s 695us/step - loss: 0.0588 - val_loss: 0.1015\n",
            "Epoch 39/100\n",
            "23445/23445 [==============================] - 16s 687us/step - loss: 0.0573 - val_loss: 0.1009\n",
            "Epoch 40/100\n",
            "23445/23445 [==============================] - 16s 685us/step - loss: 0.0555 - val_loss: 0.1024\n",
            "Epoch 41/100\n",
            "23445/23445 [==============================] - 16s 695us/step - loss: 0.0533 - val_loss: 0.1025\n",
            "Epoch 42/100\n",
            "23445/23445 [==============================] - 16s 693us/step - loss: 0.0527 - val_loss: 0.1032\n",
            "Epoch 43/100\n",
            "23445/23445 [==============================] - 16s 687us/step - loss: 0.0513 - val_loss: 0.1011\n",
            "Epoch 44/100\n",
            "23445/23445 [==============================] - 16s 689us/step - loss: 0.0495 - val_loss: 0.1033\n"
          ],
          "name": "stdout"
        },
        {
          "output_type": "display_data",
          "data": {
            "image/png": "[encoded data removed]",
            "text/plain": [
              "<Figure size 432x288 with 1 Axes>"
            ]
          },
          "metadata": {
            "tags": []
          }
        }
      ]
    },
    {
      "cell_type": "markdown",
      "metadata": {
        "id": "pOGpMazwKiNS",
        "colab_type": "text"
      },
      "source": [
        "### val_loss: 0.1009 = Best result so far!"
      ]
    },
    {
      "cell_type": "markdown",
      "metadata": {
        "id": "i-ZvotPs48kU",
        "colab_type": "text"
      },
      "source": [
        "### Now that we have trained model, let's see how it performs. Let's predict 15 random tokens from test corpus"
      ]
    },
    {
      "cell_type": "code",
      "metadata": {
        "colab_type": "code",
        "outputId": "af0a7f0e-f6ff-479f-e60b-18fd4969a8f8",
        "id": "nTzqkY5ZtGdS",
        "colab": {
          "base_uri": "https://localhost:8080/",
          "height": 514
        }
      },
      "source": [
        "def translate_sentence(input_seq):\n",
        "  states_value = encoder_model.predict(input_seq, use_multiprocessing=True)\n",
        "  target_seq = np.array([0] * trn_length)\n",
        "  target_seq[0] = trn_tokenizer.word_index['<sos>']\n",
        "  eos = trn_tokenizer.word_index['<eos>']\n",
        "  output_sentence = []\n",
        "\n",
        "  for _ in range(trn_length-1):\n",
        "      pred_ohe, h, c = decoder_model.predict([target_seq.reshape(1, -1)] + states_value, use_multiprocessing=True)\n",
        "      idx = np.argmax(pred_ohe[0, 0, :])\n",
        "      if eos == idx: break\n",
        "\n",
        "      if idx > 0:\n",
        "          token = trn_tokenizer.index_word[idx]\n",
        "          output_sentence.append(token)\n",
        "\n",
        "      target_seq[0] = idx\n",
        "      states_value = [h, c]\n",
        "\n",
        "  return ' '.join(output_sentence)\n",
        "\n",
        "a = np.random.choice(len(testX), 15)\n",
        "\n",
        "if TF:\n",
        "  translation = []\n",
        "  for i in a:\n",
        "    input_seq = testX[i]\n",
        "    translation.append( translate_sentence(input_seq) )\n",
        "else:\n",
        "  x = testX[a]\n",
        "  pred_ohe = model.predict(x, use_multiprocessing=True)\n",
        "  pred = np.argmax(pred_ohe, axis=2)\n",
        "  translation = trn_tokenizer.sequences_to_texts(pred)\n",
        "\n",
        "pred_df = pd.DataFrame({'actual' : trn_tokenizer.sequences_to_texts(testY[a]), 'predicted' : translation})\n",
        "pred_df"
      ],
      "execution_count": 67,
      "outputs": [
        {
          "output_type": "execute_result",
          "data": {
            "text/html": [
              "<div>\n",
              "<style scoped>\n",
              "    .dataframe tbody tr th:only-of-type {\n",
              "        vertical-align: middle;\n",
              "    }\n",
              "\n",
              "    .dataframe tbody tr th {\n",
              "        vertical-align: top;\n",
              "    }\n",
              "\n",
              "    .dataframe thead th {\n",
              "        text-align: right;\n",
              "    }\n",
              "</style>\n",
              "<table border=\"1\" class=\"dataframe\">\n",
              "  <thead>\n",
              "    <tr style=\"text-align: right;\">\n",
              "      <th></th>\n",
              "      <th>actual</th>\n",
              "      <th>predicted</th>\n",
              "    </tr>\n",
              "  </thead>\n",
              "  <tbody>\n",
              "    <tr>\n",
              "      <th>0</th>\n",
              "      <td>e1 t ax m</td>\n",
              "      <td>e1 t ax m</td>\n",
              "    </tr>\n",
              "    <tr>\n",
              "      <th>1</th>\n",
              "      <td>s' 'e'1 m' d' 'ix' s' 'ax t</td>\n",
              "      <td>s' 'e'1 m' d' 'ix' s' 'ax t</td>\n",
              "    </tr>\n",
              "    <tr>\n",
              "      <th>2</th>\n",
              "      <td>ji' d' 'i1 n ax' jax</td>\n",
              "      <td>ji' d' 'i1 n ax' jax</td>\n",
              "    </tr>\n",
              "    <tr>\n",
              "      <th>3</th>\n",
              "      <td>n o1 v ax' j'</td>\n",
              "      <td>n o1 v ax' j'</td>\n",
              "    </tr>\n",
              "    <tr>\n",
              "      <th>4</th>\n",
              "      <td>a k a z a1 l ax' s'</td>\n",
              "      <td>a k a z a1 l ax' s'</td>\n",
              "    </tr>\n",
              "    <tr>\n",
              "      <th>5</th>\n",
              "      <td>e s t r a1 d n ax v ax'</td>\n",
              "      <td>e s t r a1 d n ax v ax</td>\n",
              "    </tr>\n",
              "    <tr>\n",
              "      <th>6</th>\n",
              "      <td>s _</td>\n",
              "      <td>s _</td>\n",
              "    </tr>\n",
              "    <tr>\n",
              "      <th>7</th>\n",
              "      <td>z a'1 j' m a</td>\n",
              "      <td>z a' j' m ax</td>\n",
              "    </tr>\n",
              "    <tr>\n",
              "      <th>8</th>\n",
              "      <td>s t r o'1 i' t'</td>\n",
              "      <td>s t r o'1 i' t'</td>\n",
              "    </tr>\n",
              "    <tr>\n",
              "      <th>9</th>\n",
              "      <td>a1 v g ux' s' t' 'ix</td>\n",
              "      <td>a1 v g ux s' t' 'ix</td>\n",
              "    </tr>\n",
              "    <tr>\n",
              "      <th>10</th>\n",
              "      <td>r' 'i a'1 l' n ax m</td>\n",
              "      <td>r' 'i a'1 l' n ax m</td>\n",
              "    </tr>\n",
              "    <tr>\n",
              "      <th>11</th>\n",
              "      <td>sh' _</td>\n",
              "      <td>s _</td>\n",
              "    </tr>\n",
              "    <tr>\n",
              "      <th>12</th>\n",
              "      <td>b y1 f sh ax h</td>\n",
              "      <td>b y1 f sh ax h</td>\n",
              "    </tr>\n",
              "    <tr>\n",
              "      <th>13</th>\n",
              "      <td>i' d' 'e'1 i</td>\n",
              "      <td>y' d' 'e'1 i</td>\n",
              "    </tr>\n",
              "    <tr>\n",
              "      <th>14</th>\n",
              "      <td>d' 'ix' r' 'ix k t a r o1 f</td>\n",
              "      <td>d' 'ix' r' 'ix k t a r o1 f</td>\n",
              "    </tr>\n",
              "  </tbody>\n",
              "</table>\n",
              "</div>"
            ],
            "text/plain": [
              "                         actual                    predicted\n",
              "0                     e1 t ax m                    e1 t ax m\n",
              "1   s' 'e'1 m' d' 'ix' s' 'ax t  s' 'e'1 m' d' 'ix' s' 'ax t\n",
              "2          ji' d' 'i1 n ax' jax         ji' d' 'i1 n ax' jax\n",
              "3                 n o1 v ax' j'                n o1 v ax' j'\n",
              "4           a k a z a1 l ax' s'          a k a z a1 l ax' s'\n",
              "5       e s t r a1 d n ax v ax'       e s t r a1 d n ax v ax\n",
              "6                           s _                          s _\n",
              "7                  z a'1 j' m a                 z a' j' m ax\n",
              "8               s t r o'1 i' t'              s t r o'1 i' t'\n",
              "9          a1 v g ux' s' t' 'ix          a1 v g ux s' t' 'ix\n",
              "10          r' 'i a'1 l' n ax m          r' 'i a'1 l' n ax m\n",
              "11                        sh' _                          s _\n",
              "12               b y1 f sh ax h               b y1 f sh ax h\n",
              "13                 i' d' 'e'1 i                 y' d' 'e'1 i\n",
              "14  d' 'ix' r' 'ix k t a r o1 f  d' 'ix' r' 'ix k t a r o1 f"
            ]
          },
          "metadata": {
            "tags": []
          },
          "execution_count": 67
        }
      ]
    },
    {
      "cell_type": "markdown",
      "metadata": {
        "id": "aj-i60ShaUU_",
        "colab_type": "text"
      },
      "source": [
        "### Now let's put all that together in a function"
      ]
    },
    {
      "cell_type": "code",
      "metadata": {
        "id": "c8pLj-TGaYDq",
        "colab_type": "code",
        "outputId": "0ed044e0-1f86-4a90-f54e-db6db96cd29d",
        "colab": {
          "base_uri": "https://localhost:8080/",
          "height": 139
        }
      },
      "source": [
        "import string\n",
        "\n",
        "def make_transctript(str):\n",
        "  input_string = rus_trn[a][0]\n",
        "  input_string = input_string.lower()\n",
        "  input_string = input_string.translate(str.maketrans('', '', string.punctuation))\n",
        "  input_string = [list(each) for each in input_string.split(' ')]\n",
        "  input_seq = encode_sequences(rus_tokenizer, rus_length, input_string)\n",
        "\n",
        "  pred_ohe = model.predict(input_seq, use_multiprocessing=True)\n",
        "  pred = np.argmax(pred_ohe, axis=2)\n",
        "  translation = trn_tokenizer.sequences_to_texts(pred)\n",
        "\n",
        "  translation = '%% ' + ' # '.join(translation) + ' %%'\n",
        "  translation = translation.replace('_ #', '_')\n",
        "  return translation.replace('<PNK>', '%% %%')\n",
        "\n",
        "a = np.random.choice(len(rus_trn))\n",
        "print(f'Original sentence in Russian (#{a})')\n",
        "print( rus_trn[a][0])\n",
        "print('Original transcript')\n",
        "print( rus_trn[a][1])\n",
        "print('Predicted transcript')\n",
        "print( make_transctript( rus_trn[a][0]) )"
      ],
      "execution_count": 68,
      "outputs": [
        {
          "output_type": "stream",
          "text": [
            "Original sentence in Russian (#23161)\n",
            "на форуме выступил руководитель компании майкрософт билл гейтс\n",
            "Original transcript\n",
            "%% n a _ f o1 r ux' m' 'ix # v y1 s t ux' p' 'ix l # r ux k ax v a' d' 'i'1 t' 'ix' l' # k a m p a'1 n' 'ixi # m ax' j' k r a s o1 v d # b' 'i1 l # g' 'e'1 j' ts %%\n",
            "Predicted transcript\n",
            "%% n ax _ f o1 r ux' m' 'ix # v y1 s t ux' p' 'ix l # r ux k ax v a' d' 'i'1 t' 'ix' l' # k a m p a'1 n' 'ixi # m ax' j' k r a s o1 v t # b' 'i1 l # g' 'e'1 j' ts %%\n"
          ],
          "name": "stdout"
        }
      ]
    },
    {
      "cell_type": "markdown",
      "metadata": {
        "id": "75Ho1kBn39sp",
        "colab_type": "text"
      },
      "source": [
        "### Build Seq2Seq models. Looks like simple Seq2Seq model on LSTM works the best (based on my experiments not presented here). Let's train the model with early stopping"
      ]
    },
    {
      "cell_type": "code",
      "metadata": {
        "id": "rwOy43R15_yn",
        "colab_type": "code",
        "outputId": "c329a0cb-fe64-47f5-80d6-c67ade6723e9",
        "colab": {
          "base_uri": "https://localhost:8080/",
          "height": 1000
        }
      },
      "source": [
        "TF = False\n",
        "\n",
        "def define_teacher_forcing(in_vocab, out_vocab, in_timesteps, out_timesteps, units):\n",
        "  #train model\n",
        "  # encoder\n",
        "  encoder_inputs = Input(shape=(None,))\n",
        "  encoder_embedding = Embedding(in_vocab, units, input_length=in_timesteps, mask_zero=True)\n",
        "  encoder = encoder_embedding(encoder_inputs)\n",
        "  _, h, c = LSTM(units, return_state=True)(encoder)\n",
        "  encoder_states = [h, c]\n",
        "  # decoder\n",
        "  decoder_inputs = Input(shape=(None,))\n",
        "  decoder_embedding = Embedding(out_vocab, units, input_length=out_timesteps, mask_zero=True)\n",
        "  decoder = decoder_embedding(decoder_inputs)\n",
        "  decoder_lstm = LSTM(units, return_sequences=True, return_state=True)\n",
        "  decoder_outputs, _, _ = decoder_lstm(decoder, initial_state=encoder_states)\n",
        "  decoder_dense = Dense(out_vocab, activation='softmax')\n",
        "  decoder_outputs = decoder_dense(decoder_outputs)\n",
        "  model = Model([encoder_inputs, decoder_inputs], decoder_outputs)\n",
        "\n",
        "  #inference models\n",
        "  # encoder\n",
        "  encoder_model = Model(encoder_inputs, encoder_states)\n",
        "  # decoder\n",
        "  decoder_state_input_h = Input(shape=(units,))\n",
        "  decoder_state_input_c = Input(shape=(units,))\n",
        "  decoder_states_inputs = [decoder_state_input_h, decoder_state_input_c]\n",
        "  decoder_outputs, h, c = decoder_lstm(decoder, initial_state=decoder_states_inputs)\n",
        "  decoder_states = [h, c]\n",
        "  decoder_outputs = decoder_dense(decoder_outputs)\n",
        "  decoder_model = Model([decoder_inputs] + decoder_states_inputs, [decoder_outputs] + decoder_states)\n",
        "  \n",
        "  return model, encoder_model, decoder_model\n",
        "\n",
        "define_model = define_teacher_forcing if TF else define_seq2seq_2LSTM\n",
        "\n",
        "model, encoder_model, decoder_model = define_model(rus_vocab_size, trn_vocab_size, rus_length, trn_length, 512)\n",
        "model.summary()\n",
        "\n",
        "model.compile(optimizer='adam', loss='sparse_categorical_crossentropy')\n",
        "\n",
        "monitor = 'val_loss'\n",
        "mode = 'min'\n",
        "early_stop = EarlyStopping( patience=5, monitor=monitor, mode=mode, restore_best_weights=True)\n",
        "\n",
        "if TF:\n",
        "  data = [trainX, trainX_], trainY.reshape(*trainY.shape, 1)\n",
        "  validation_data = [testX, testX_], testY.reshape(*testY.shape, 1)\n",
        "else:\n",
        "  data = trainX, [trainY.reshape(*trainY.shape, 1)]\n",
        "  validation_data = testX, [testY.reshape(*testY.shape, 1)]\n",
        "\n",
        "history = model.fit(*data, \n",
        "          epochs=EPOCHES, batch_size=BS, \n",
        "          validation_data=validation_data,\n",
        "          callbacks=[early_stop], verbose=1)\n",
        "\n",
        "# plot validation loss vs training loss\n",
        "plt.plot(history.history['loss'])\n",
        "plt.plot(history.history['val_loss'])\n",
        "plt.legend(['train','validation'])\n",
        "plt.show()"
      ],
      "execution_count": 53,
      "outputs": [
        {
          "output_type": "stream",
          "text": [
            "Model: \"model_11\"\n",
            "__________________________________________________________________________________________________\n",
            "Layer (type)                    Output Shape         Param #     Connected to                     \n",
            "==================================================================================================\n",
            "input_13 (InputLayer)           (None, None)         0                                            \n",
            "__________________________________________________________________________________________________\n",
            "embedding_15 (Embedding)        (None, 27, 512)      17920       input_13[0][0]                   \n",
            "__________________________________________________________________________________________________\n",
            "lstm_33 (LSTM)                  [(None, 27, 512), (N 2099200     embedding_15[0][0]               \n",
            "__________________________________________________________________________________________________\n",
            "dropout_11 (Dropout)            (None, 27, 512)      0           lstm_33[0][0]                    \n",
            "__________________________________________________________________________________________________\n",
            "lstm_34 (LSTM)                  [(None, 512), (None, 2099200     dropout_11[0][0]                 \n",
            "__________________________________________________________________________________________________\n",
            "repeat_vector_9 (RepeatVector)  (None, 26, 512)      0           lstm_34[0][0]                    \n",
            "__________________________________________________________________________________________________\n",
            "lstm_35 (LSTM)                  (None, 26, 512)      2099200     repeat_vector_9[0][0]            \n",
            "                                                                 lstm_33[0][1]                    \n",
            "                                                                 lstm_33[0][2]                    \n",
            "__________________________________________________________________________________________________\n",
            "dropout_12 (Dropout)            (None, 26, 512)      0           lstm_35[0][0]                    \n",
            "__________________________________________________________________________________________________\n",
            "lstm_36 (LSTM)                  (None, 26, 512)      2099200     dropout_12[0][0]                 \n",
            "                                                                 lstm_34[0][1]                    \n",
            "                                                                 lstm_34[0][2]                    \n",
            "__________________________________________________________________________________________________\n",
            "dense_12 (Dense)                (None, 26, 116)      59508       lstm_36[0][0]                    \n",
            "==================================================================================================\n",
            "Total params: 8,474,228\n",
            "Trainable params: 8,474,228\n",
            "Non-trainable params: 0\n",
            "__________________________________________________________________________________________________\n",
            "Train on 23445 samples, validate on 2606 samples\n",
            "Epoch 1/100\n",
            "23445/23445 [==============================] - 26s 1ms/step - loss: 1.7097 - val_loss: 1.2913\n",
            "Epoch 2/100\n",
            "23445/23445 [==============================] - 17s 706us/step - loss: 1.1437 - val_loss: 1.0415\n",
            "Epoch 3/100\n",
            "23445/23445 [==============================] - 17s 708us/step - loss: 1.0306 - val_loss: 0.9972\n",
            "Epoch 4/100\n",
            "23445/23445 [==============================] - 16s 698us/step - loss: 1.0001 - val_loss: 0.9800\n",
            "Epoch 5/100\n",
            "23445/23445 [==============================] - 16s 684us/step - loss: 0.9895 - val_loss: 0.9694\n",
            "Epoch 6/100\n",
            "23445/23445 [==============================] - 16s 691us/step - loss: 0.9755 - val_loss: 0.9601\n",
            "Epoch 7/100\n",
            "23445/23445 [==============================] - 17s 708us/step - loss: 0.9555 - val_loss: 0.9244\n",
            "Epoch 8/100\n",
            "23445/23445 [==============================] - 16s 701us/step - loss: 0.9256 - val_loss: 0.8953\n",
            "Epoch 9/100\n",
            "23445/23445 [==============================] - 16s 694us/step - loss: 0.8906 - val_loss: 0.8495\n",
            "Epoch 10/100\n",
            "23445/23445 [==============================] - 16s 702us/step - loss: 0.8448 - val_loss: 0.7994\n",
            "Epoch 11/100\n",
            "23445/23445 [==============================] - 16s 697us/step - loss: 0.7894 - val_loss: 0.7407\n",
            "Epoch 12/100\n",
            "23445/23445 [==============================] - 16s 700us/step - loss: 0.7197 - val_loss: 0.6568\n",
            "Epoch 13/100\n",
            "23445/23445 [==============================] - 16s 698us/step - loss: 0.6400 - val_loss: 0.5706\n",
            "Epoch 14/100\n",
            "23445/23445 [==============================] - 16s 702us/step - loss: 0.5556 - val_loss: 0.4824\n",
            "Epoch 15/100\n",
            "23445/23445 [==============================] - 16s 700us/step - loss: 0.4697 - val_loss: 0.3963\n",
            "Epoch 16/100\n",
            "23445/23445 [==============================] - 16s 694us/step - loss: 0.3927 - val_loss: 0.3376\n",
            "Epoch 17/100\n",
            "23445/23445 [==============================] - 16s 701us/step - loss: 0.3326 - val_loss: 0.2794\n",
            "Epoch 18/100\n",
            "23445/23445 [==============================] - 17s 708us/step - loss: 0.2832 - val_loss: 0.2469\n",
            "Epoch 19/100\n",
            "23445/23445 [==============================] - 16s 688us/step - loss: 0.2474 - val_loss: 0.2256\n",
            "Epoch 20/100\n",
            "23445/23445 [==============================] - 16s 694us/step - loss: 0.2195 - val_loss: 0.1977\n",
            "Epoch 21/100\n",
            "23445/23445 [==============================] - 16s 694us/step - loss: 0.1970 - val_loss: 0.1824\n",
            "Epoch 22/100\n",
            "23445/23445 [==============================] - 16s 696us/step - loss: 0.1782 - val_loss: 0.1688\n",
            "Epoch 23/100\n",
            "23445/23445 [==============================] - 16s 696us/step - loss: 0.1659 - val_loss: 0.1615\n",
            "Epoch 24/100\n",
            "23445/23445 [==============================] - 16s 699us/step - loss: 0.1524 - val_loss: 0.1515\n",
            "Epoch 25/100\n",
            "23445/23445 [==============================] - 17s 707us/step - loss: 0.1397 - val_loss: 0.1486\n",
            "Epoch 26/100\n",
            "23445/23445 [==============================] - 16s 692us/step - loss: 0.1310 - val_loss: 0.1471\n",
            "Epoch 27/100\n",
            "23445/23445 [==============================] - 16s 701us/step - loss: 0.1234 - val_loss: 0.1448\n",
            "Epoch 28/100\n",
            "23445/23445 [==============================] - 16s 693us/step - loss: 0.1156 - val_loss: 0.1379\n",
            "Epoch 29/100\n",
            "23445/23445 [==============================] - 17s 704us/step - loss: 0.1095 - val_loss: 0.1327\n",
            "Epoch 30/100\n",
            "23445/23445 [==============================] - 16s 694us/step - loss: 0.1033 - val_loss: 0.1344\n",
            "Epoch 31/100\n",
            "23445/23445 [==============================] - 16s 691us/step - loss: 0.0971 - val_loss: 0.1337\n",
            "Epoch 32/100\n",
            "23445/23445 [==============================] - 16s 697us/step - loss: 0.0936 - val_loss: 0.1283\n",
            "Epoch 33/100\n",
            "23445/23445 [==============================] - 16s 693us/step - loss: 0.0881 - val_loss: 0.1293\n",
            "Epoch 34/100\n",
            "23445/23445 [==============================] - 16s 688us/step - loss: 0.0851 - val_loss: 0.1277\n",
            "Epoch 35/100\n",
            "23445/23445 [==============================] - 16s 690us/step - loss: 0.0816 - val_loss: 0.1251\n",
            "Epoch 36/100\n",
            "23445/23445 [==============================] - 16s 689us/step - loss: 0.0779 - val_loss: 0.1268\n",
            "Epoch 37/100\n",
            "23445/23445 [==============================] - 16s 693us/step - loss: 0.0751 - val_loss: 0.1307\n",
            "Epoch 38/100\n",
            "23445/23445 [==============================] - 16s 683us/step - loss: 0.0715 - val_loss: 0.1231\n",
            "Epoch 39/100\n",
            "23445/23445 [==============================] - 16s 683us/step - loss: 0.0689 - val_loss: 0.1284\n",
            "Epoch 40/100\n",
            "23445/23445 [==============================] - 16s 687us/step - loss: 0.0675 - val_loss: 0.1257\n",
            "Epoch 41/100\n",
            "23445/23445 [==============================] - 16s 690us/step - loss: 0.0638 - val_loss: 0.1236\n",
            "Epoch 42/100\n",
            "23445/23445 [==============================] - 16s 685us/step - loss: 0.0619 - val_loss: 0.1238\n",
            "Epoch 43/100\n",
            "23445/23445 [==============================] - 16s 687us/step - loss: 0.0599 - val_loss: 0.1262\n"
          ],
          "name": "stdout"
        },
        {
          "output_type": "display_data",
          "data": {
            "image/png": "[encoded data removed]",
            "text/plain": [
              "<Figure size 432x288 with 1 Axes>"
            ]
          },
          "metadata": {
            "tags": []
          }
        }
      ]
    }
  ]
}