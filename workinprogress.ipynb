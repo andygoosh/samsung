{
  "nbformat": 4,
  "nbformat_minor": 0,
  "metadata": {
    "colab": {
      "name": "workinprogress.ipynb",
      "provenance": [],
      "include_colab_link": true
    },
    "kernelspec": {
      "name": "python3",
      "display_name": "Python 3"
    },
    "accelerator": "GPU"
  },
  "cells": [
    {
      "cell_type": "markdown",
      "metadata": {
        "id": "view-in-github",
        "colab_type": "text"
      },
      "source": [
        "<a href=\"https://colab.research.google.com/github/andygoosh/samsung/blob/master/workinprogress.ipynb\" target=\"_parent\"><img src=\"https://colab.research.google.com/assets/colab-badge.svg\" alt=\"Open In Colab\"/></a>"
      ]
    },
    {
      "cell_type": "code",
      "metadata": {
        "id": "r_Mg8x0gASeS",
        "colab_type": "code",
        "outputId": "ea580df2-9c8e-4667-eb32-3029de5a8fae",
        "colab": {
          "base_uri": "https://localhost:8080/",
          "height": 185
        }
      },
      "source": [
        "from pathlib import Path\n",
        "from google.colab import files, drive\n",
        "from collections import defaultdict\n",
        "\n",
        "import re\n",
        "import random as rn\n",
        "import pandas as pd\n",
        "import numpy as np\n",
        "from numpy import array, argmax, random, take\n",
        "import matplotlib.pyplot as plt\n",
        "from collections import Counter\n",
        "%matplotlib inline\n",
        "\n",
        "from sklearn.model_selection import train_test_split\n",
        "\n",
        "import tensorflow as tf\n",
        "from keras.preprocessing.sequence import pad_sequences\n",
        "from keras.preprocessing.text import Tokenizer\n",
        "from keras.models import Sequential, Model\n",
        "from keras.layers import Input, Dropout, Dense, LSTM, GRU, Embedding, RepeatVector, Lambda, Reshape\n",
        "from keras.layers import Bidirectional as Bi\n",
        "from keras import optimizers\n",
        "from keras.models import load_model\n",
        "from keras.callbacks import ModelCheckpoint, EarlyStopping\n",
        "\n",
        "RS = 77\n",
        "rn.seed(RS)\n",
        "# tf.random.set_seed(RS)\n",
        "np.random.seed(RS)\n",
        "np.random.RandomState(RS)\n",
        "\n",
        "gpath = Path('/content/gdrive')\n",
        "drive.mount(str(gpath))\n",
        "data_file = gpath / 'My Drive/Samsung' / 'transcriptions'"
      ],
      "execution_count": 1,
      "outputs": [
        {
          "output_type": "display_data",
          "data": {
            "text/html": [
              "<p style=\"color: red;\">\n",
              "The default version of TensorFlow in Colab will soon switch to TensorFlow 2.x.<br>\n",
              "We recommend you <a href=\"https://www.tensorflow.org/guide/migrate\" target=\"_blank\">upgrade</a> now \n",
              "or ensure your notebook will continue to use TensorFlow 1.x via the <code>%tensorflow_version 1.x</code> magic:\n",
              "<a href=\"https://colab.research.google.com/notebooks/tensorflow_version.ipynb\" target=\"_blank\">more info</a>.</p>\n"
            ],
            "text/plain": [
              "<IPython.core.display.HTML object>"
            ]
          },
          "metadata": {
            "tags": []
          }
        },
        {
          "output_type": "stream",
          "text": [
            "Using TensorFlow backend.\n"
          ],
          "name": "stderr"
        },
        {
          "output_type": "stream",
          "text": [
            "Go to this URL in a browser: https://accounts.google.com/o/oauth2/auth?client_id=947318989803-6bn6qk8qdgf4n4g3pfee6491hc0brc4i.apps.googleusercontent.com&redirect_uri=urn%3aietf%3awg%3aoauth%3a2.0%3aoob&response_type=code&scope=email%20https%3a%2f%2fwww.googleapis.com%2fauth%2fdocs.test%20https%3a%2f%2fwww.googleapis.com%2fauth%2fdrive%20https%3a%2f%2fwww.googleapis.com%2fauth%2fdrive.photos.readonly%20https%3a%2f%2fwww.googleapis.com%2fauth%2fpeopleapi.readonly\n",
            "\n",
            "Enter your authorization code:\n",
            "··········\n",
            "Mounted at /content/gdrive\n"
          ],
          "name": "stdout"
        }
      ]
    },
    {
      "cell_type": "markdown",
      "metadata": {
        "id": "8KByWPn1DbpS",
        "colab_type": "text"
      },
      "source": [
        "#### Let's look at the data in given file"
      ]
    },
    {
      "cell_type": "code",
      "metadata": {
        "id": "PNLzpBAGDgAI",
        "colab_type": "code",
        "outputId": "c892aea4-6145-4a4f-a8a7-2fa753410c21",
        "colab": {
          "base_uri": "https://localhost:8080/",
          "height": 71
        }
      },
      "source": [
        "with data_file.open() as f:  \n",
        "    print(f.readline())"
      ],
      "execution_count": 2,
      "outputs": [
        {
          "output_type": "stream",
          "text": [
            "аукционы на дешёвое жильё проводятся регулярно\t%% a u k ts y o1 n ax # n ax' _ d' 'i sh o1 v ax' jax # zh y' l' j' 'o1 # p r a v o'1 d' 'ax ts ts ax' # r' 'ix g u' l' 'a1 r n a %%\n",
            "\n"
          ],
          "name": "stdout"
        }
      ]
    },
    {
      "cell_type": "markdown",
      "metadata": {
        "id": "Xmvmq8NkDzzF",
        "colab_type": "text"
      },
      "source": [
        "#### Notice that:\n",
        "1. russian sentence is separated from transcript with '\\t'\n",
        "2. the begining and the end of transcript part are marked by '%%'"
      ]
    },
    {
      "cell_type": "markdown",
      "metadata": {
        "id": "t9inDldeBBz8",
        "colab_type": "text"
      },
      "source": [
        "### Let's read the data and split it into rus and trans"
      ]
    },
    {
      "cell_type": "code",
      "metadata": {
        "id": "ze9lEBcZB4A_",
        "colab_type": "code",
        "outputId": "5ec90191-e07a-4219-f33a-312d032111b8",
        "colab": {
          "base_uri": "https://localhost:8080/",
          "height": 34
        }
      },
      "source": [
        "rus_trn = []\n",
        "with data_file.open() as f:  \n",
        "  for line in f: \n",
        "    rus, trn = line.split('\\t')\n",
        "    rus_trn.append([rus.strip(), trn.strip()])\n",
        "\n",
        "print(f'Number of sentences in corpus: {len(rus_trn)}')"
      ],
      "execution_count": 3,
      "outputs": [
        {
          "output_type": "stream",
          "text": [
            "Number of sentences in corpus: 50277\n"
          ],
          "name": "stdout"
        }
      ]
    },
    {
      "cell_type": "markdown",
      "metadata": {
        "id": "gjFV-XOHBN8o",
        "colab_type": "text"
      },
      "source": [
        "#### Let's look at some sentences\n"
      ]
    },
    {
      "cell_type": "code",
      "metadata": {
        "id": "iaCdAWXfBS-H",
        "colab_type": "code",
        "outputId": "ec7363e9-a2ac-49e7-b9ae-e387f7f9dd45",
        "colab": {
          "base_uri": "https://localhost:8080/",
          "height": 139
        }
      },
      "source": [
        "a,b,c = np.random.choice(len(rus_trn), 3)\n",
        "\n",
        "print(rus_trn[a][0])\n",
        "print(rus_trn[a][1])\n",
        "print(rus_trn[b][0])\n",
        "print(rus_trn[b][1])\n",
        "print(rus_trn[c][0])\n",
        "print(rus_trn[c][1])"
      ],
      "execution_count": 4,
      "outputs": [
        {
          "output_type": "stream",
          "text": [
            "веб-операторы обязаны ознакомить пользователя с политикой по сбору персональной информации\n",
            "%% v' 'e1 p a' p' 'i r a1 t ax r ax # a' b' 'a1 z ax n ax # a z n a k o'1 m' 'ix' t' # p o'1 l' z ax v ax' t' 'ix' l' 'ax # s _ p a' l' 'i'1 t' 'ix k ax' j' # p a _ z b o1 r ux' # p' 'ix r s a n a'1 l' n ax' j' # 'i n f a r m a1 ts ax' i %%\n",
            "цена мартовского контракта на нефть в торговой системе поднялась\n",
            "%% ts y n a1 # m a1 r t ax f s k ax v ax # k a n t r a1 k t ax # n a' _ n' 'e1 f t' # f _ t a r g o1 v ax' j' # s' 'i' s' t' 'e'1 m' 'ix # p ax' d' n' 'i l a'1 s' %%\n",
            "в августе прошлого года был достроен храм христа спасителя\n",
            "%% v _ a1 v g ux' s' t' 'ix # p r o1 sh l ax v ax # g o1 d ax # b y1 l # d a s t r o'1 jax n # h r a1 m # h r' 'i s t a1 # s p a' s' 'i'1 t' 'ix' l' 'a %%\n"
          ],
          "name": "stdout"
        }
      ]
    },
    {
      "cell_type": "markdown",
      "metadata": {
        "id": "PrtVAlRiBYLc",
        "colab_type": "text"
      },
      "source": [
        "#### Notice that words in russian sentence are separated by space while words in transcript are separated:\n",
        "1. by '#' in general case\n",
        "2. by '_' in case of preposition\n",
        "3. by '%% %%' in case of punctuation signs (dash, coma, etc)\n"
      ]
    },
    {
      "cell_type": "markdown",
      "metadata": {
        "id": "qaYfq4rSFVs6",
        "colab_type": "text"
      },
      "source": [
        "#### Let's see if we have dupliates in the corpus"
      ]
    },
    {
      "cell_type": "code",
      "metadata": {
        "id": "zoPm3mehFfiN",
        "colab_type": "code",
        "outputId": "2cb35f1c-5640-4c03-b5e3-4ae10399924d",
        "colab": {
          "base_uri": "https://localhost:8080/",
          "height": 51
        }
      },
      "source": [
        "a = array(rus_trn)\n",
        "seen_rus = Counter(a[:,0])\n",
        "seen_trn = Counter(a[:,1])\n",
        "\n",
        "print(f'Unique rus sentences: {len(seen_rus)} out of {len(rus_trn)}')\n",
        "print(f'Unique trans sentences: {len(seen_trn)} out of {len(rus_trn)}')"
      ],
      "execution_count": 5,
      "outputs": [
        {
          "output_type": "stream",
          "text": [
            "Unique rus sentences: 3131 out of 50277\n",
            "Unique trans sentences: 3171 out of 50277\n"
          ],
          "name": "stdout"
        }
      ]
    },
    {
      "cell_type": "markdown",
      "metadata": {
        "id": "2c_7KSzLGs7v",
        "colab_type": "text"
      },
      "source": [
        "#### We have a lot of duplicates! Only 3131 unique sentenses out of 50K in the corpus. Please also note that some russian sentences are transcribed into different transcriptions (will look into that later on)"
      ]
    },
    {
      "cell_type": "code",
      "metadata": {
        "id": "yjR7uun4HeJF",
        "colab_type": "code",
        "outputId": "6208b505-5b95-4757-f4ca-78e05b40beac",
        "colab": {
          "base_uri": "https://localhost:8080/",
          "height": 290
        }
      },
      "source": [
        "lens = [each[1] for each in seen_rus.items()]\n",
        "unq = np.unique(lens)\n",
        "qty = [lens.count(each) for each in unq]\n",
        "pd.DataFrame(qty, index=unq).plot.bar(title = 'Rus sentence repeat times', legend=False);"
      ],
      "execution_count": 6,
      "outputs": [
        {
          "output_type": "display_data",
          "data": {
            "image/png": "[encoded data removed]",
            "text/plain": [
              "<Figure size 432x288 with 1 Axes>"
            ]
          },
          "metadata": {
            "tags": []
          }
        }
      ]
    },
    {
      "cell_type": "markdown",
      "metadata": {
        "id": "a2bIKlVbIAxi",
        "colab_type": "text"
      },
      "source": [
        "#### Most duplicated sentences repeat 12 times, max up to 203 times"
      ]
    },
    {
      "cell_type": "markdown",
      "metadata": {
        "id": "oCi44KJRImmG",
        "colab_type": "text"
      },
      "source": [
        "### Let's read that data while splitting the tokens. We'll count the tokens in each sentence. If the count in rus and trans is different, we'll record it as anomaly\n"
      ]
    },
    {
      "cell_type": "code",
      "metadata": {
        "id": "4fznr-0SJ9nU",
        "colab_type": "code",
        "outputId": "70c7e113-c56f-4ec5-9cf2-e258fba8ac4e",
        "colab": {
          "base_uri": "https://localhost:8080/",
          "height": 298
        }
      },
      "source": [
        "rus_l, trn_l, anomaly = [], [], []\n",
        "seen = defaultdict(list)\n",
        "chars = Counter()\n",
        "\n",
        "for j,i in enumerate(rus_trn):\n",
        "  rus = i[0].split()\n",
        "  trn = re.split('#|_|%% %%',i[1])\n",
        "\n",
        "  if i[0] not in seen:\n",
        "    if abs(len(rus) - len(trn)) != 0: \n",
        "      anomaly.append(j)\n",
        "      # print(j, ' ', i[0])\n",
        "      # print( i[1])\n",
        "    \n",
        "    else:\n",
        "      rus_l.append(len(rus))\n",
        "      trn_l.append(len(trn))\n",
        "\n",
        "    chars += Counter(i[0])\n",
        "\n",
        "  seen[i[0]].append(j)\n",
        "\n",
        "print(f'Anomalies: {len(anomaly)}')\n",
        "fig, (ax1, ax2) = plt.subplots(nrows=1,ncols=2,figsize=(12,4))\n",
        "pd.DataFrame({'Number of words in Rus sentence':rus_l}).hist(ax=ax1, bins = 30);\n",
        "pd.DataFrame({'Number of words in Trns sentence':trn_l}).hist(ax=ax2, bins = 30);"
      ],
      "execution_count": 7,
      "outputs": [
        {
          "output_type": "stream",
          "text": [
            "Anomalies: 49\n"
          ],
          "name": "stdout"
        },
        {
          "output_type": "display_data",
          "data": {
            "image/png": "[encoded data removed]",
            "text/plain": [
              "<Figure size 864x288 with 2 Axes>"
            ]
          },
          "metadata": {
            "tags": []
          }
        }
      ]
    },
    {
      "cell_type": "markdown",
      "metadata": {
        "id": "XxTcio_yKSbh",
        "colab_type": "text"
      },
      "source": [
        "#### So we have 49 anomalies out of 3131 samples"
      ]
    },
    {
      "cell_type": "markdown",
      "metadata": {
        "id": "uV_cJH70KuSg",
        "colab_type": "text"
      },
      "source": [
        "### Let's see if we need to clean the data. First let's take a look at rus corpus alphabet"
      ]
    },
    {
      "cell_type": "code",
      "metadata": {
        "id": "LyV9anvZn187",
        "colab_type": "code",
        "outputId": "9dc87b89-8f01-4d34-bb19-b1a254d01fe2",
        "colab": {
          "base_uri": "https://localhost:8080/",
          "height": 298
        }
      },
      "source": [
        "s = sorted(chars.items())\n",
        "pd.DataFrame(s, index=(e[0]+' ' for e in s)).plot.bar(figsize=(18,4), rot=0, title = 'Char frequencies', legend=False)\n",
        "print(f'Number of times \"-\" used: {chars[\"-\"]}')"
      ],
      "execution_count": 8,
      "outputs": [
        {
          "output_type": "stream",
          "text": [
            "Number of times \"-\" used: 159\n"
          ],
          "name": "stdout"
        },
        {
          "output_type": "display_data",
          "data": {
            "image/png": "[encoded data removed]",
            "text/plain": [
              "<Figure size 1296x288 with 1 Axes>"
            ]
          },
          "metadata": {
            "tags": []
          }
        }
      ]
    },
    {
      "cell_type": "markdown",
      "metadata": {
        "id": "83TZ18z9K8Qy",
        "colab_type": "text"
      },
      "source": [
        "#### Looks good! We neither have punctuations nor capital letters. The only case to check is '-' letter which is used 159 times"
      ]
    },
    {
      "cell_type": "code",
      "metadata": {
        "id": "hEqkK_LRKLb-",
        "colab_type": "code",
        "outputId": "d7bd881b-bf1d-460d-eab5-83e95d39aa3c",
        "colab": {
          "base_uri": "https://localhost:8080/",
          "height": 54
        }
      },
      "source": [
        "seen = set()\n",
        "seen_dash = set()\n",
        "dash_words = []\n",
        "for rus,trn in rus_trn:\n",
        "  if rus not in seen:\n",
        "    if '-' in rus:\n",
        "      ru_words = rus.split()\n",
        "      for each in ru_words:\n",
        "        if '-' in each:\n",
        "          if each not in seen_dash:\n",
        "            seen_dash.add(each)\n",
        "            dash_words.append(each)\n",
        "  else:\n",
        "    seen.add(rus)\n",
        "  \n",
        "print(dash_words)"
      ],
      "execution_count": 9,
      "outputs": [
        {
          "output_type": "stream",
          "text": [
            "['анти-обледенитель', 'иридо-диагностика', 'дом-красавец', 'из-за', 'радио-сигналом', 'ноль-три', 'ноль-два', 'мало-обеспеченные', 'шкаф-купе', 'тех-осмотр', 'пресс-службе', 'авто-сервис', 'чуть-чуть', 'аудио-', 'какие-либо', 'де-факто', 'стерео-', 'царь-колокол', 'царь-пушка', 'гео-магнитного', 'электро-катастрофы', 'фигуристы-новобранцы', 'что-то', 'какое-либо', 'веб-операторы', 'воздушно-десантной', 'военно-морских', 'ветераны-афганцы', 'одного-единственного', 'природно-климатические', 'одном-двух', 'санкт-петербурге', 'стран-участниц', 'пять-шесть', 'по-своему', 'матч-реванш', 'словаря-справочника', 'штаб-квартире', 'чем-то', 'чего-то', 'экс-губернатора', 'российско-американский', 'северо-восточных', 'красно-белую', 'какой-нибудь', 'бело-жёлтый', 'карту-схему', 'юго-западный', 'радио-охранное', 'по-прежнему', 'каким-то', 'кино-картины', 'авто-трюки', 'пресс-конференции', 'генерал-прокурором', 'нью-йорке', 'медиа-группы', 'нью-йоркской', 'какие-то', 'санкт-петербурга', 'санкт-петербург', 'памятники-символы', 'премьер-министр', 'взлётно-посадочную', 'какого-нибудь', 'январе-феврале', 'птица-говорун', 'жучки-камнееды', 'школу-комплекс', 'художников-оформителей', 'какое-то', 'купли-продажи', 'каких-либо', 'генерал-лейтенант', 'карты-схемы', 'кому-нибудь', 'детям-инвалидам', 'как-то', 'золото-валютных', 'наконец-то', 'государственно-общественной', 'бизнес-сообщества', 'причинно-следственных', 'по-настоящему', 'юго-западного', 'премьер-министру', 'нью-йорк', 'пропан-бутановые', 'пресс-служба', 'физико-химическими', 'средне-взвешенный', 'интернет-сетью', 'экспресс-опрос', 'либерально-демократической', 'вице-премьер', 'пресс-конференция', 'военно-морского', 'по-другому', 'вице-спикера', 'радио-станции', 'конференц-зале', 'золото-валютные', 'фирм-членов', 'премьер-министром', 'химико-фармацевтической', 'весенне-полевых', 'пресс-секретарь', 'сирийско-израильский', 'юго-восток', 'сьерра-леонэ', 'южно-африканской', 'медиа-мостом', 'диско-марафон', 'видео-', 'две-три', 'экс-посол', 'военно-политического', 'компакт-диски', 'мини-электростанция', 'когда-нибудь', 'кто-то', 'веке-волкодаве', 'из-под', 'капитан-лейтенанта', 'просто-напросто', 'всё-таки', 'пресс-службы', 'южно-сахалинске', 'оперативно-следственная', 'армяно-российского', 'северо-западе']\n"
          ],
          "name": "stdout"
        }
      ]
    },
    {
      "cell_type": "markdown",
      "metadata": {
        "id": "3VHh6JUCPGlb",
        "colab_type": "text"
      },
      "source": [
        "#### Okey, words with dash look fine, we'll consider dash as a normal letter"
      ]
    },
    {
      "cell_type": "markdown",
      "metadata": {
        "id": "hMAmvWqyLrWv",
        "colab_type": "text"
      },
      "source": [
        "### The size of the corpus is too small to tokenize on words. Insted we'll tokenize bsed on characters"
      ]
    },
    {
      "cell_type": "markdown",
      "metadata": {
        "id": "G-xAjHqyjh3x",
        "colab_type": "text"
      },
      "source": [
        "### So in order to implement autocoder for transcript we'd need to keep special symbools in transcript such as \"\\_\" and \"%% %%\". So let's create a dictionary of sentences rus <-> trans. So let's recreate the dictionary so \"\\_\" and \"%% %%\" are marked with '#' (treat them as separate token) and remove begin and end markers. Plus to that let's get rid of duplicates.\n",
        "\n",
        "#### Second thought though. Since Russian corpus does not include any punctuation, we cannot predict '%% %%' token properly. So let's sacrifice one token for the sake of overall accuracy\n"
      ]
    },
    {
      "cell_type": "code",
      "metadata": {
        "id": "PBgF1l93y39m",
        "colab_type": "code",
        "outputId": "0310793b-cee5-4490-bd1f-02e85093dfb6",
        "colab": {
          "base_uri": "https://localhost:8080/",
          "height": 298
        }
      },
      "source": [
        "seen_rus = set()\n",
        "seen_trn = set()\n",
        "\n",
        "res, trn_l, rus_l = [], [], []\n",
        "for rus, trn in rus_trn:\n",
        "\n",
        "  if rus not in seen_rus or trn not in seen_trn:\n",
        "      seen_rus.add(rus)\n",
        "      seen_trn.add(trn)\n",
        "\n",
        "      # trn = trn.replace('%% %%', '# <PNK>').replace('_', '_ #')[3:-3]\n",
        "      trn = trn.replace('%% %%', '#').replace('_', '_ #')[3:-3]\n",
        "      trn = trn.split('#')\n",
        "      rus = rus.split(' ')\n",
        "      for a,b in zip(rus, trn):\n",
        "        b = b.strip().split(' ')\n",
        "        # res.append((list(a), b + ['<eos>'], ['<sos>'] + b))\n",
        "        res.append((list(a), b, b))\n",
        "        rus_l.append( len(a))\n",
        "        trn_l.append( len(b))\n",
        "\n",
        "rus_trn_new = array(res)\n",
        "trn_length = max(trn_l)\n",
        "rus_length = max(rus_l)\n",
        "print(f'max len rus: {rus_length}, max len trn: {trn_length}')\n",
        "fig, (ax1, ax2) = plt.subplots(nrows=1,ncols=2,figsize=(12,4))\n",
        "pd.DataFrame({'Number of tokens in Rus sentence':rus_l}).hist(ax=ax1, bins = 30);\n",
        "pd.DataFrame({'Number of tokens in Trns sentence':trn_l}).hist(ax=ax2, bins = 30);"
      ],
      "execution_count": 63,
      "outputs": [
        {
          "output_type": "stream",
          "text": [
            "max len rus: 27, max len trn: 26\n"
          ],
          "name": "stdout"
        },
        {
          "output_type": "display_data",
          "data": {
            "image/png": "[encoded data removed]",
            "text/plain": [
              "<Figure size 864x288 with 2 Axes>"
            ]
          },
          "metadata": {
            "tags": []
          }
        }
      ]
    },
    {
      "cell_type": "code",
      "metadata": {
        "id": "ID8a8MoaKtVm",
        "colab_type": "code",
        "outputId": "01c173fe-321c-4122-b6d3-6c8af9f16fea",
        "colab": {
          "base_uri": "https://localhost:8080/",
          "height": 51
        }
      },
      "source": [
        "a = np.random.choice(len(rus_trn_new))\n",
        "rus_trn_new[a]"
      ],
      "execution_count": 11,
      "outputs": [
        {
          "output_type": "execute_result",
          "data": {
            "text/plain": [
              "array([list(['н', 'а']), list(['n', \"a'\", '_']), list(['n', \"a'\", '_'])],\n",
              "      dtype=object)"
            ]
          },
          "metadata": {
            "tags": []
          },
          "execution_count": 11
        }
      ]
    },
    {
      "cell_type": "markdown",
      "metadata": {
        "id": "CbQ82gWtkTDx",
        "colab_type": "text"
      },
      "source": [
        "### Let's tokenize the sentences\n",
        "\n"
      ]
    },
    {
      "cell_type": "code",
      "metadata": {
        "id": "670W8CC1llqC",
        "colab_type": "code",
        "outputId": "36f65a43-475b-49f0-cd7a-642ae6874ce6",
        "colab": {
          "base_uri": "https://localhost:8080/",
          "height": 51
        }
      },
      "source": [
        "def tokenization(lines, split=' '):\n",
        "  tokenizer = Tokenizer(filters='', lower=False, split=split)\n",
        "  tokenizer.fit_on_texts(lines)\n",
        "  return tokenizer\n",
        "\n",
        "def encode_sequences(tokenizer, length, lines):\n",
        "  seq = tokenizer.texts_to_sequences(lines)\n",
        "  seq = pad_sequences(sequences=seq, maxlen=length, padding='post')\n",
        "  return seq\n",
        "\n",
        "rus_tokenizer = tokenization(rus_trn_new[:, 0], split='')\n",
        "rus_vocab_size = len(rus_tokenizer.word_index) + 1\n",
        "# rus_trn_new[0, 1] +=  ['<sos>', '<eos>']\n",
        "trn_tokenizer = tokenization(rus_trn_new[:, 1], split=' ')\n",
        "trn_vocab_size = len(trn_tokenizer.word_index) + 1\n",
        "print(f'Rus Vocabulary Size: {rus_vocab_size}')\n",
        "print(f'Trns Vocabulary Size: {trn_vocab_size}')"
      ],
      "execution_count": 64,
      "outputs": [
        {
          "output_type": "stream",
          "text": [
            "Rus Vocabulary Size: 35\n",
            "Trns Vocabulary Size: 115\n"
          ],
          "name": "stdout"
        }
      ]
    },
    {
      "cell_type": "markdown",
      "metadata": {
        "id": "sgJdhdjvqRA9",
        "colab_type": "text"
      },
      "source": [
        "### Encode sentences, pad them, split to train and test\n"
      ]
    },
    {
      "cell_type": "code",
      "metadata": {
        "id": "3XcT-AUGqa5v",
        "colab_type": "code",
        "outputId": "7908dc98-8398-4849-8132-27d13acd3874",
        "colab": {
          "base_uri": "https://localhost:8080/",
          "height": 85
        }
      },
      "source": [
        "def cbow(x, window_size=1):\n",
        "  res = []\n",
        "  for e in x:\n",
        "    len_x = len(e)\n",
        "    vec = []\n",
        "    for i in range(len_x):\n",
        "      bow = [0] * (window_size*2 + 1)\n",
        "      first_context_word_index = max(0, i-window_size)\n",
        "      last_context_word_index = min(i+window_size, len_x-1)\n",
        "      for k,j in enumerate(range(first_context_word_index, last_context_word_index+1)):\n",
        "        bow[k] = e[j]\n",
        "    \n",
        "      vec.append(bow)\n",
        "    res.append(vec)\n",
        "  return np.array(res)\n",
        "\n",
        "train, test = train_test_split(rus_trn_new, test_size=0.1, random_state = RS)\n",
        "\n",
        "# rus_length = trn_length = max(trn_length, rus_length)\n",
        "\n",
        "# prepare training data\n",
        "trainX = encode_sequences(rus_tokenizer, rus_length, train[:, 0])\n",
        "# trainX = cbow1(trainX)\n",
        "trainX_ = encode_sequences(trn_tokenizer, trn_length, train[:, 2])\n",
        "trainY = encode_sequences(trn_tokenizer, trn_length, train[:, 1])\n",
        "\n",
        "# prepare validation data\n",
        "testX = encode_sequences(rus_tokenizer, rus_length, test[:, 0])\n",
        "# testX = cbow1(testX)\n",
        "testX_ = encode_sequences(trn_tokenizer, trn_length, test[:, 2])\n",
        "testY = encode_sequences(trn_tokenizer, trn_length, test[:, 1])\n",
        "\n",
        "a = np.random.choice(len(trainX))\n",
        "print(a)\n",
        "print( rus_tokenizer.sequences_to_texts([trainX[a]]) )\n",
        "print( trn_tokenizer.sequences_to_texts([trainY[a]]) )\n",
        "print( trn_tokenizer.sequences_to_texts([trainX_[a]]) )\n",
        "\n"
      ],
      "execution_count": 65,
      "outputs": [
        {
          "output_type": "stream",
          "text": [
            "10416\n",
            "['п р и р о д н ы е']\n",
            "[\"p r' 'i r o1 d n ax' jax'\"]\n",
            "[\"p r' 'i r o1 d n ax' jax'\"]\n"
          ],
          "name": "stdout"
        }
      ]
    },
    {
      "cell_type": "markdown",
      "metadata": {
        "id": "75Ho1kBn39sp",
        "colab_type": "text"
      },
      "source": [
        "### Build Seq2Seq models. Looks like simple Seq2Seq model on LSTM works the best (based on my experiments not presented here). Let's train the model with early stopping"
      ]
    },
    {
      "cell_type": "code",
      "metadata": {
        "id": "rwOy43R15_yn",
        "colab_type": "code",
        "outputId": "07ce14e0-70b8-4735-825a-07c10aac3c45",
        "colab": {
          "base_uri": "https://localhost:8080/",
          "height": 1000
        }
      },
      "source": [
        "from keras import backend as K\n",
        "EPOCHES = 100\n",
        "BS = 512\n",
        "window_size = 1\n",
        "TF = False\n",
        "\n",
        "def define_model_cbow(in_vocab, out_vocab, in_timesteps, out_timesteps, units):\n",
        "  window = 3\n",
        "  input = x = Input(shape=(in_timesteps, window))\n",
        "  x = Embedding(in_vocab, units, mask_zero=True)(x)\n",
        "  x = Lambda(lambda a: K.sum(a, axis=2))(x)\n",
        "  x, h, c = LSTM(units, return_state=True)(x)\n",
        "  x = RepeatVector(out_timesteps)(x)\n",
        "  x = LSTM(units, return_sequences=True)(x, initial_state = (h, c))\n",
        "  output = Dense(out_vocab, activation='softmax')(x)\n",
        "  model = Model(input, output)\n",
        "  return model, None, None\n",
        "\n",
        "def define_seq2seq_LSTM(in_vocab, out_vocab, in_timesteps, out_timesteps, units):\n",
        "  input = x = Input(shape=(None,))\n",
        "  x = Embedding(in_vocab, units, input_length=in_timesteps, mask_zero=True)(x)\n",
        "  x, h, c, h2, c2 = Bi(LSTM(units, return_state=True))(x)\n",
        "  x = Dropout(0.1)(x)\n",
        "  x = RepeatVector(out_timesteps)(x)\n",
        "  x = Bi(LSTM(units, return_sequences=True))(x, initial_state = (h, c, h2, c2))\n",
        "  x = Dropout(0.1)(x)\n",
        "  output = Dense(out_vocab, activation='softmax')(x)\n",
        "  model = Model(input, output)\n",
        "  return model, None, None\n",
        "\n",
        "def define_seq2seq_LSTM2(in_vocab, out_vocab, in_timesteps, out_timesteps, units):\n",
        "  input = x = Input(shape=(None,))\n",
        "  x = Embedding(in_vocab, units, input_length=in_timesteps, mask_zero=True)(x)\n",
        "  x, h, c = LSTM(units, return_sequences=True, return_state=True)(x)\n",
        "  x = Dropout(0.3)(x)\n",
        "  x, h2, c2 = LSTM(units, return_state=True)(x)\n",
        "  x = RepeatVector(out_timesteps)(x)\n",
        "  x = LSTM(units, return_sequences=True)(x, initial_state = (h, c))\n",
        "  x = Dropout(0.3)(x)\n",
        "  x = LSTM(units, return_sequences=True)(x, initial_state = (h2, c2))\n",
        "  output = Dense(out_vocab, activation='softmax')(x)\n",
        "  model = Model(input, output)\n",
        "  return model, None, None\n",
        "\n",
        "def define_teacher_forcing(in_vocab, out_vocab, in_timesteps, out_timesteps, units):\n",
        "  #train model\n",
        "  # encoder\n",
        "  encoder_inputs = Input(shape=(None,))\n",
        "  encoder_embedding = Embedding(in_vocab, units, input_length=in_timesteps, mask_zero=True)\n",
        "  encoder = encoder_embedding(encoder_inputs)\n",
        "  _, h, c = LSTM(units, return_state=True)(encoder)\n",
        "  encoder_states = [h, c]\n",
        "  # decoder\n",
        "  decoder_inputs = Input(shape=(None,))\n",
        "  decoder_embedding = Embedding(out_vocab, units, input_length=out_timesteps, mask_zero=True)\n",
        "  decoder = decoder_embedding(decoder_inputs)\n",
        "  decoder_lstm = LSTM(units, return_sequences=True, return_state=True)\n",
        "  decoder_outputs, _, _ = decoder_lstm(decoder, initial_state=encoder_states)\n",
        "  decoder_dense = Dense(out_vocab, activation='softmax')\n",
        "  decoder_outputs = decoder_dense(decoder_outputs)\n",
        "  model = Model([encoder_inputs, decoder_inputs], decoder_outputs)\n",
        "\n",
        "  #inference models\n",
        "  # encoder\n",
        "  encoder_model = Model(encoder_inputs, encoder_states)\n",
        "  # decoder\n",
        "  decoder_state_input_h = Input(shape=(units,))\n",
        "  decoder_state_input_c = Input(shape=(units,))\n",
        "  decoder_states_inputs = [decoder_state_input_h, decoder_state_input_c]\n",
        "  decoder_outputs, h, c = decoder_lstm(decoder, initial_state=decoder_states_inputs)\n",
        "  decoder_states = [h, c]\n",
        "  decoder_outputs = decoder_dense(decoder_outputs)\n",
        "  decoder_model = Model([decoder_inputs] + decoder_states_inputs, [decoder_outputs] + decoder_states)\n",
        "  \n",
        "  return model, encoder_model, decoder_model\n",
        "\n",
        "define_model = define_teacher_forcing if TF else define_seq2seq_LSTM2\n",
        "\n",
        "model, encoder_model, decoder_model = define_model(rus_vocab_size, trn_vocab_size, rus_length, trn_length, 512)\n",
        "model.summary()\n",
        "\n",
        "model.compile(optimizer='adam', loss='sparse_categorical_crossentropy')\n",
        "\n",
        "monitor = 'val_loss'\n",
        "mode = 'min'\n",
        "early_stop = EarlyStopping( patience=5, monitor=monitor, mode=mode, restore_best_weights=True)\n",
        "\n",
        "if TF:\n",
        "  data = [trainX, trainX_], trainY.reshape(*trainY.shape, 1)\n",
        "  validation_data = [testX, testX_], testY.reshape(*testY.shape, 1)\n",
        "else:\n",
        "  data = trainX, trainY.reshape(*trainY.shape, 1)\n",
        "  validation_data = testX, testY.reshape(*testY.shape, 1)\n",
        "\n",
        "history = model.fit(*data, \n",
        "          epochs=EPOCHES, batch_size=BS, \n",
        "          validation_data=validation_data,\n",
        "          callbacks=[early_stop], verbose=1)\n",
        "\n",
        "# plot validation loss vs training loss\n",
        "plt.plot(history.history['loss'])\n",
        "plt.plot(history.history['val_loss'])\n",
        "plt.legend(['train','validation'])\n",
        "plt.show()"
      ],
      "execution_count": 69,
      "outputs": [
        {
          "output_type": "stream",
          "text": [
            "Model: \"model_29\"\n",
            "__________________________________________________________________________________________________\n",
            "Layer (type)                    Output Shape         Param #     Connected to                     \n",
            "==================================================================================================\n",
            "input_40 (InputLayer)           (None, None)         0                                            \n",
            "__________________________________________________________________________________________________\n",
            "embedding_24 (Embedding)        (None, 27, 512)      17920       input_40[0][0]                   \n",
            "__________________________________________________________________________________________________\n",
            "lstm_37 (LSTM)                  [(None, 27, 512), (N 2099200     embedding_24[0][0]               \n",
            "__________________________________________________________________________________________________\n",
            "dropout_3 (Dropout)             (None, 27, 512)      0           lstm_37[0][0]                    \n",
            "__________________________________________________________________________________________________\n",
            "lstm_38 (LSTM)                  [(None, 512), (None, 2099200     dropout_3[0][0]                  \n",
            "__________________________________________________________________________________________________\n",
            "repeat_vector_5 (RepeatVector)  (None, 26, 512)      0           lstm_38[0][0]                    \n",
            "__________________________________________________________________________________________________\n",
            "lstm_39 (LSTM)                  (None, 26, 512)      2099200     repeat_vector_5[0][0]            \n",
            "                                                                 lstm_37[0][1]                    \n",
            "                                                                 lstm_37[0][2]                    \n",
            "__________________________________________________________________________________________________\n",
            "dropout_4 (Dropout)             (None, 26, 512)      0           lstm_39[0][0]                    \n",
            "__________________________________________________________________________________________________\n",
            "lstm_40 (LSTM)                  (None, 26, 512)      2099200     dropout_4[0][0]                  \n",
            "                                                                 lstm_38[0][1]                    \n",
            "                                                                 lstm_38[0][2]                    \n",
            "__________________________________________________________________________________________________\n",
            "dense_13 (Dense)                (None, 26, 115)      58995       lstm_40[0][0]                    \n",
            "==================================================================================================\n",
            "Total params: 8,473,715\n",
            "Trainable params: 8,473,715\n",
            "Non-trainable params: 0\n",
            "__________________________________________________________________________________________________\n",
            "Train on 23445 samples, validate on 2606 samples\n",
            "Epoch 1/100\n",
            "23445/23445 [==============================] - 22s 919us/step - loss: 1.5152 - val_loss: 1.0353\n",
            "Epoch 2/100\n",
            "23445/23445 [==============================] - 13s 539us/step - loss: 1.0146 - val_loss: 0.9872\n",
            "Epoch 3/100\n",
            "23445/23445 [==============================] - 13s 541us/step - loss: 0.9827 - val_loss: 0.9645\n",
            "Epoch 4/100\n",
            "23445/23445 [==============================] - 13s 562us/step - loss: 0.9489 - val_loss: 0.9132\n",
            "Epoch 5/100\n",
            "23445/23445 [==============================] - 13s 542us/step - loss: 0.8699 - val_loss: 0.8093\n",
            "Epoch 6/100\n",
            "23445/23445 [==============================] - 13s 551us/step - loss: 0.7503 - val_loss: 0.6776\n",
            "Epoch 7/100\n",
            "23445/23445 [==============================] - 13s 538us/step - loss: 0.6278 - val_loss: 0.5742\n",
            "Epoch 8/100\n",
            "23445/23445 [==============================] - 13s 561us/step - loss: 0.5127 - val_loss: 0.4571\n",
            "Epoch 9/100\n",
            "23445/23445 [==============================] - 13s 542us/step - loss: 0.4208 - val_loss: 0.3843\n",
            "Epoch 10/100\n",
            "23445/23445 [==============================] - 13s 548us/step - loss: 0.3506 - val_loss: 0.3414\n",
            "Epoch 11/100\n",
            "23445/23445 [==============================] - 13s 543us/step - loss: 0.2943 - val_loss: 0.2882\n",
            "Epoch 12/100\n",
            "23445/23445 [==============================] - 13s 548us/step - loss: 0.2511 - val_loss: 0.2470\n",
            "Epoch 13/100\n",
            "23445/23445 [==============================] - 13s 559us/step - loss: 0.2151 - val_loss: 0.2240\n",
            "Epoch 14/100\n",
            "23445/23445 [==============================] - 13s 540us/step - loss: 0.1934 - val_loss: 0.2063\n",
            "Epoch 15/100\n",
            "23445/23445 [==============================] - 13s 538us/step - loss: 0.1657 - val_loss: 0.1939\n",
            "Epoch 16/100\n",
            "23445/23445 [==============================] - 12s 529us/step - loss: 0.1508 - val_loss: 0.1830\n",
            "Epoch 17/100\n",
            "23445/23445 [==============================] - 13s 538us/step - loss: 0.1361 - val_loss: 0.1706\n",
            "Epoch 18/100\n",
            "23445/23445 [==============================] - 13s 559us/step - loss: 0.1242 - val_loss: 0.1680\n",
            "Epoch 19/100\n",
            "23445/23445 [==============================] - 13s 534us/step - loss: 0.1180 - val_loss: 0.1597\n",
            "Epoch 20/100\n",
            "23445/23445 [==============================] - 13s 537us/step - loss: 0.1047 - val_loss: 0.1579\n",
            "Epoch 21/100\n",
            "23445/23445 [==============================] - 12s 532us/step - loss: 0.0958 - val_loss: 0.1538\n",
            "Epoch 22/100\n",
            "23445/23445 [==============================] - 13s 554us/step - loss: 0.0888 - val_loss: 0.1480\n",
            "Epoch 23/100\n",
            "23445/23445 [==============================] - 13s 541us/step - loss: 0.0829 - val_loss: 0.1454\n",
            "Epoch 24/100\n",
            "23445/23445 [==============================] - 13s 541us/step - loss: 0.0774 - val_loss: 0.1484\n",
            "Epoch 25/100\n",
            "23445/23445 [==============================] - 13s 548us/step - loss: 0.0753 - val_loss: 0.1446\n",
            "Epoch 26/100\n",
            "23445/23445 [==============================] - 13s 534us/step - loss: 0.0704 - val_loss: 0.1439\n",
            "Epoch 27/100\n",
            "23445/23445 [==============================] - 13s 557us/step - loss: 0.0656 - val_loss: 0.1422\n",
            "Epoch 28/100\n",
            "23445/23445 [==============================] - 12s 532us/step - loss: 0.0617 - val_loss: 0.1410\n",
            "Epoch 29/100\n",
            "23445/23445 [==============================] - 13s 547us/step - loss: 0.0590 - val_loss: 0.1428\n",
            "Epoch 30/100\n",
            "23445/23445 [==============================] - 13s 536us/step - loss: 0.0559 - val_loss: 0.1397\n",
            "Epoch 31/100\n",
            "23445/23445 [==============================] - 13s 542us/step - loss: 0.0543 - val_loss: 0.1403\n",
            "Epoch 32/100\n",
            "23445/23445 [==============================] - 13s 558us/step - loss: 0.0539 - val_loss: 0.1397\n",
            "Epoch 33/100\n",
            "23445/23445 [==============================] - 13s 537us/step - loss: 0.0505 - val_loss: 0.1440\n",
            "Epoch 34/100\n",
            "23445/23445 [==============================] - 13s 545us/step - loss: 0.0477 - val_loss: 0.1418\n",
            "Epoch 35/100\n",
            "23445/23445 [==============================] - 13s 538us/step - loss: 0.0463 - val_loss: 0.1411\n"
          ],
          "name": "stdout"
        },
        {
          "output_type": "display_data",
          "data": {
            "image/png": "[encoded data removed]",
            "text/plain": [
              "<Figure size 432x288 with 1 Axes>"
            ]
          },
          "metadata": {
            "tags": []
          }
        }
      ]
    },
    {
      "cell_type": "markdown",
      "metadata": {
        "id": "i-ZvotPs48kU",
        "colab_type": "text"
      },
      "source": [
        "### Now that we have trained model, let's see how it performs. Let's predict 15 random tokens from test corpus"
      ]
    },
    {
      "cell_type": "code",
      "metadata": {
        "colab_type": "code",
        "outputId": "24ab6ac4-db56-44e3-f146-81a7f447e85d",
        "id": "nTzqkY5ZtGdS",
        "colab": {
          "base_uri": "https://localhost:8080/",
          "height": 514
        }
      },
      "source": [
        "def translate_sentence(input_seq):\n",
        "  states_value = encoder_model.predict(input_seq, use_multiprocessing=True)\n",
        "  target_seq = np.array([0] * trn_length)\n",
        "  target_seq[0] = trn_tokenizer.word_index['<sos>']\n",
        "  eos = trn_tokenizer.word_index['<eos>']\n",
        "  output_sentence = []\n",
        "\n",
        "  for _ in range(trn_length-1):\n",
        "      pred_ohe, h, c = decoder_model.predict([target_seq.reshape(1, -1)] + states_value, use_multiprocessing=True)\n",
        "      idx = np.argmax(pred_ohe[0, 0, :])\n",
        "      if eos == idx: break\n",
        "\n",
        "      if idx > 0:\n",
        "          token = trn_tokenizer.index_word[idx]\n",
        "          output_sentence.append(token)\n",
        "\n",
        "      target_seq[0] = idx\n",
        "      states_value = [h, c]\n",
        "\n",
        "  return ' '.join(output_sentence)\n",
        "\n",
        "a = np.random.choice(len(testX), 15)\n",
        "\n",
        "if TF:\n",
        "  translation = []\n",
        "  for i in a:\n",
        "    input_seq = testX[i]\n",
        "    translation.append( translate_sentence(input_seq) )\n",
        "else:\n",
        "  x = testX[a]\n",
        "  pred_ohe = model.predict(x, use_multiprocessing=True)\n",
        "  pred = np.argmax(pred_ohe, axis=2)\n",
        "  translation = trn_tokenizer.sequences_to_texts(pred)\n",
        "\n",
        "pred_df = pd.DataFrame({'actual' : trn_tokenizer.sequences_to_texts(testY[a]), 'predicted' : translation})\n",
        "pred_df"
      ],
      "execution_count": 70,
      "outputs": [
        {
          "output_type": "execute_result",
          "data": {
            "text/html": [
              "<div>\n",
              "<style scoped>\n",
              "    .dataframe tbody tr th:only-of-type {\n",
              "        vertical-align: middle;\n",
              "    }\n",
              "\n",
              "    .dataframe tbody tr th {\n",
              "        vertical-align: top;\n",
              "    }\n",
              "\n",
              "    .dataframe thead th {\n",
              "        text-align: right;\n",
              "    }\n",
              "</style>\n",
              "<table border=\"1\" class=\"dataframe\">\n",
              "  <thead>\n",
              "    <tr style=\"text-align: right;\">\n",
              "      <th></th>\n",
              "      <th>actual</th>\n",
              "      <th>predicted</th>\n",
              "    </tr>\n",
              "  </thead>\n",
              "  <tbody>\n",
              "    <tr>\n",
              "      <th>0</th>\n",
              "      <td>s m' 'i' sh' 'a'1 jux ts ts a</td>\n",
              "      <td>s m' 'i' sh' 'a'1 jux ts ts ax</td>\n",
              "    </tr>\n",
              "    <tr>\n",
              "      <th>1</th>\n",
              "      <td>f a sh y1 z m a</td>\n",
              "      <td>f a sh y1 m m ax</td>\n",
              "    </tr>\n",
              "    <tr>\n",
              "      <th>2</th>\n",
              "      <td>p r' 'e'1 m' 'ixi</td>\n",
              "      <td>p r' 'e'1 m' 'ixi</td>\n",
              "    </tr>\n",
              "    <tr>\n",
              "      <th>3</th>\n",
              "      <td>n o1 v ax' m' 'ix</td>\n",
              "      <td>n o1 v ax' m' 'ix</td>\n",
              "    </tr>\n",
              "    <tr>\n",
              "      <th>4</th>\n",
              "      <td>s' 'i' m' 'i'1</td>\n",
              "      <td>s' 'i' m' 'i'1</td>\n",
              "    </tr>\n",
              "    <tr>\n",
              "      <th>5</th>\n",
              "      <td>e s t r a1 d n ax v ax'</td>\n",
              "      <td>e s t r a1 d n ax v ax</td>\n",
              "    </tr>\n",
              "    <tr>\n",
              "      <th>6</th>\n",
              "      <td>p s' 'ix h a s f' 'e1 r y</td>\n",
              "      <td>p s' 'ix h o'1 o'1 f' 'e1 r ax</td>\n",
              "    </tr>\n",
              "    <tr>\n",
              "      <th>7</th>\n",
              "      <td>s u1 t</td>\n",
              "      <td>s u1 t</td>\n",
              "    </tr>\n",
              "    <tr>\n",
              "      <th>8</th>\n",
              "      <td>z u1 p ch' 'ix k</td>\n",
              "      <td>z u1 b ch' 'ix k</td>\n",
              "    </tr>\n",
              "    <tr>\n",
              "      <th>9</th>\n",
              "      <td>p ax z v a' l' 'a'1 jax t</td>\n",
              "      <td>p ax z v a' l' 'a'1 jax t</td>\n",
              "    </tr>\n",
              "    <tr>\n",
              "      <th>10</th>\n",
              "      <td>r' 'ix' l' 'ix' g' 'i o1 z n ax h</td>\n",
              "      <td>r' 'ix' l' 'ix' g' 'i o1 z n ax h</td>\n",
              "    </tr>\n",
              "    <tr>\n",
              "      <th>11</th>\n",
              "      <td>i _</td>\n",
              "      <td>i _</td>\n",
              "    </tr>\n",
              "    <tr>\n",
              "      <th>12</th>\n",
              "      <td>t' 'i k u'1 sh' 'ix h</td>\n",
              "      <td>t' 'i k u'1 sh' 'ix h</td>\n",
              "    </tr>\n",
              "    <tr>\n",
              "      <th>13</th>\n",
              "      <td>g o1 r l a</td>\n",
              "      <td>g a r l a1</td>\n",
              "    </tr>\n",
              "    <tr>\n",
              "      <th>14</th>\n",
              "      <td>m o1 zh ax t</td>\n",
              "      <td>m o1 zh ax t</td>\n",
              "    </tr>\n",
              "  </tbody>\n",
              "</table>\n",
              "</div>"
            ],
            "text/plain": [
              "                               actual                          predicted\n",
              "0       s m' 'i' sh' 'a'1 jux ts ts a     s m' 'i' sh' 'a'1 jux ts ts ax\n",
              "1                     f a sh y1 z m a                   f a sh y1 m m ax\n",
              "2                   p r' 'e'1 m' 'ixi                  p r' 'e'1 m' 'ixi\n",
              "3                   n o1 v ax' m' 'ix                  n o1 v ax' m' 'ix\n",
              "4                      s' 'i' m' 'i'1                     s' 'i' m' 'i'1\n",
              "5             e s t r a1 d n ax v ax'             e s t r a1 d n ax v ax\n",
              "6           p s' 'ix h a s f' 'e1 r y     p s' 'ix h o'1 o'1 f' 'e1 r ax\n",
              "7                              s u1 t                             s u1 t\n",
              "8                    z u1 p ch' 'ix k                   z u1 b ch' 'ix k\n",
              "9           p ax z v a' l' 'a'1 jax t          p ax z v a' l' 'a'1 jax t\n",
              "10  r' 'ix' l' 'ix' g' 'i o1 z n ax h  r' 'ix' l' 'ix' g' 'i o1 z n ax h\n",
              "11                                i _                                i _\n",
              "12              t' 'i k u'1 sh' 'ix h              t' 'i k u'1 sh' 'ix h\n",
              "13                         g o1 r l a                         g a r l a1\n",
              "14                       m o1 zh ax t                       m o1 zh ax t"
            ]
          },
          "metadata": {
            "tags": []
          },
          "execution_count": 70
        }
      ]
    },
    {
      "cell_type": "markdown",
      "metadata": {
        "id": "aj-i60ShaUU_",
        "colab_type": "text"
      },
      "source": [
        "### Now let's put all that together in a function"
      ]
    },
    {
      "cell_type": "code",
      "metadata": {
        "id": "c8pLj-TGaYDq",
        "colab_type": "code",
        "colab": {
          "base_uri": "https://localhost:8080/",
          "height": 119
        },
        "outputId": "5d480d10-4ae2-445f-8262-dda086b41f7c"
      },
      "source": [
        "import string\n",
        "\n",
        "def make_transctript(str):\n",
        "  input_string = rus_trn[a][0]\n",
        "  input_string = input_string.lower()\n",
        "  input_string = input_string.translate(str.maketrans('', '', string.punctuation))\n",
        "  input_string = [list(each) for each in input_string.split(' ')]\n",
        "  input_seq = encode_sequences(rus_tokenizer, rus_length, input_string)\n",
        "\n",
        "  pred_ohe = model.predict(input_seq, use_multiprocessing=True)\n",
        "  pred = np.argmax(pred_ohe, axis=2)\n",
        "  translation = trn_tokenizer.sequences_to_texts(pred)\n",
        "\n",
        "  translation = '%% ' + ' # '.join(translation) + ' %%'\n",
        "  translation = translation.replace('_ #', '_')\n",
        "  return translation.replace('<PNK>', '%% %%')\n",
        "\n",
        "a = np.random.choice(len(rus_trn))\n",
        "print(f'Original sentence in Russian (#{a})')\n",
        "print( rus_trn[a][0])\n",
        "print('Original transcript')\n",
        "print( rus_trn[a][1])\n",
        "print('Predicted transcript')\n",
        "print( make_transctript( rus_trn[a][0]) )"
      ],
      "execution_count": 71,
      "outputs": [
        {
          "output_type": "stream",
          "text": [
            "Original sentence in Russian (#38160)\n",
            "с клиентом в клубе работают по европейским стандартам\n",
            "Original transcript\n",
            "%% s _ k l' 'i' j' 'e1 n t ax m # f _ k l u'1 b' 'ix # r a b o1 t ax' jux t # p ax' _ ji v r a' p' 'e'1 j' s k' 'ix m # s t a n d a1 r t ax m %%\n",
            "Predicted transcript\n",
            "%% s _ k l' 'i' j' 'e1 n t ax m # v _ k l u'1 b' 'e # r a b o1 t ax' jux t # p ax _ ji v r a' p' 'e'1 j' s k' 'ix m # s t a n d a1 r t ax m %%\n"
          ],
          "name": "stdout"
        }
      ]
    },
    {
      "cell_type": "code",
      "metadata": {
        "id": "TO3_3KTjvhIP",
        "colab_type": "code",
        "colab": {
          "base_uri": "https://localhost:8080/",
          "height": 34
        },
        "outputId": "b5c06dfc-4fe6-4561-fdb0-0d5722baf802"
      },
      "source": [
        "rus_trn[a][0]"
      ],
      "execution_count": 78,
      "outputs": [
        {
          "output_type": "execute_result",
          "data": {
            "text/plain": [
              "'царь убедился что органы управления на российской почве нуждаются в постоянном надзоре'"
            ]
          },
          "metadata": {
            "tags": []
          },
          "execution_count": 78
        }
      ]
    },
    {
      "cell_type": "code",
      "metadata": {
        "id": "6xffSDvy0U9M",
        "colab_type": "code",
        "colab": {}
      },
      "source": [
        ""
      ],
      "execution_count": 0,
      "outputs": []
    }
  ]
}