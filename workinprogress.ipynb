{
  "nbformat": 4,
  "nbformat_minor": 0,
  "metadata": {
    "colab": {
      "name": "workinprogress.ipynb",
      "provenance": [],
      "include_colab_link": true
    },
    "kernelspec": {
      "name": "python3",
      "display_name": "Python 3"
    },
    "accelerator": "GPU"
  },
  "cells": [
    {
      "cell_type": "markdown",
      "metadata": {
        "id": "view-in-github",
        "colab_type": "text"
      },
      "source": [
        "<a href=\"https://colab.research.google.com/github/andygoosh/samsung/blob/master/workinprogress.ipynb\" target=\"_parent\"><img src=\"https://colab.research.google.com/assets/colab-badge.svg\" alt=\"Open In Colab\"/></a>"
      ]
    },
    {
      "cell_type": "markdown",
      "metadata": {
        "id": "8Xd74gI0j4AA",
        "colab_type": "text"
      },
      "source": [
        "### As usually let's do some imports and define global constants"
      ]
    },
    {
      "cell_type": "code",
      "metadata": {
        "id": "r_Mg8x0gASeS",
        "colab_type": "code",
        "outputId": "0e14320c-07ed-42ca-f657-b060841af162",
        "colab": {
          "base_uri": "https://localhost:8080/",
          "height": 185
        }
      },
      "source": [
        "from pathlib import Path\n",
        "from google.colab import files, drive\n",
        "from collections import defaultdict\n",
        "\n",
        "import re\n",
        "import random as rn\n",
        "import pandas as pd\n",
        "import numpy as np\n",
        "from numpy import array, argmax, random, take\n",
        "import matplotlib.pyplot as plt\n",
        "from collections import Counter\n",
        "%matplotlib inline\n",
        "\n",
        "from sklearn.model_selection import train_test_split\n",
        "\n",
        "import tensorflow as tf\n",
        "from keras.preprocessing.sequence import pad_sequences\n",
        "from keras.preprocessing.text import Tokenizer\n",
        "from keras.models import Sequential, Model\n",
        "from keras.layers import Input, Dropout, Dense, LSTM, GRU, Embedding, RepeatVector, Lambda, Reshape\n",
        "from keras.layers import Bidirectional as Bi\n",
        "from keras import optimizers\n",
        "from keras.models import load_model\n",
        "from keras.callbacks import ModelCheckpoint, EarlyStopping\n",
        "from keras import backend as K\n",
        "\n",
        "EPOCHES = 100\n",
        "BS = 512\n",
        "\n",
        "RS = 77\n",
        "rn.seed(RS)\n",
        "# tf.random.set_seed(RS)\n",
        "np.random.seed(RS)\n",
        "np.random.RandomState(RS)\n",
        "\n",
        "gpath = Path('/content/gdrive')\n",
        "drive.mount(str(gpath))\n",
        "data_file = gpath / 'My Drive/Samsung' / 'transcriptions'"
      ],
      "execution_count": 1,
      "outputs": [
        {
          "output_type": "display_data",
          "data": {
            "text/html": [
              "<p style=\"color: red;\">\n",
              "The default version of TensorFlow in Colab will soon switch to TensorFlow 2.x.<br>\n",
              "We recommend you <a href=\"https://www.tensorflow.org/guide/migrate\" target=\"_blank\">upgrade</a> now \n",
              "or ensure your notebook will continue to use TensorFlow 1.x via the <code>%tensorflow_version 1.x</code> magic:\n",
              "<a href=\"https://colab.research.google.com/notebooks/tensorflow_version.ipynb\" target=\"_blank\">more info</a>.</p>\n"
            ],
            "text/plain": [
              "<IPython.core.display.HTML object>"
            ]
          },
          "metadata": {
            "tags": []
          }
        },
        {
          "output_type": "stream",
          "text": [
            "Using TensorFlow backend.\n"
          ],
          "name": "stderr"
        },
        {
          "output_type": "stream",
          "text": [
            "Go to this URL in a browser: https://accounts.google.com/o/oauth2/auth?client_id=947318989803-6bn6qk8qdgf4n4g3pfee6491hc0brc4i.apps.googleusercontent.com&redirect_uri=urn%3aietf%3awg%3aoauth%3a2.0%3aoob&response_type=code&scope=email%20https%3a%2f%2fwww.googleapis.com%2fauth%2fdocs.test%20https%3a%2f%2fwww.googleapis.com%2fauth%2fdrive%20https%3a%2f%2fwww.googleapis.com%2fauth%2fdrive.photos.readonly%20https%3a%2f%2fwww.googleapis.com%2fauth%2fpeopleapi.readonly\n",
            "\n",
            "Enter your authorization code:\n",
            "··········\n",
            "Mounted at /content/gdrive\n"
          ],
          "name": "stdout"
        }
      ]
    },
    {
      "cell_type": "markdown",
      "metadata": {
        "id": "8KByWPn1DbpS",
        "colab_type": "text"
      },
      "source": [
        "### Let's look at the data in given file"
      ]
    },
    {
      "cell_type": "code",
      "metadata": {
        "id": "PNLzpBAGDgAI",
        "colab_type": "code",
        "outputId": "88233ac2-17d4-4d15-e6d3-317e7b98d60b",
        "colab": {
          "base_uri": "https://localhost:8080/",
          "height": 54
        }
      },
      "source": [
        "with data_file.open() as f:  \n",
        "    print(list(f.readline()))"
      ],
      "execution_count": 153,
      "outputs": [
        {
          "output_type": "stream",
          "text": [
            "['а', 'у', 'к', 'ц', 'и', 'о', 'н', 'ы', ' ', 'н', 'а', ' ', 'д', 'е', 'ш', 'ё', 'в', 'о', 'е', ' ', 'ж', 'и', 'л', 'ь', 'ё', ' ', 'п', 'р', 'о', 'в', 'о', 'д', 'я', 'т', 'с', 'я', ' ', 'р', 'е', 'г', 'у', 'л', 'я', 'р', 'н', 'о', '\\t', '%', '%', ' ', 'a', ' ', 'u', ' ', 'k', ' ', 't', 's', ' ', 'y', ' ', 'o', '1', ' ', 'n', ' ', 'a', 'x', ' ', '#', ' ', 'n', ' ', 'a', 'x', \"'\", ' ', '_', ' ', 'd', \"'\", ' ', \"'\", 'i', ' ', 's', 'h', ' ', 'o', '1', ' ', 'v', ' ', 'a', 'x', \"'\", ' ', 'j', 'a', 'x', ' ', '#', ' ', 'z', 'h', ' ', 'y', \"'\", ' ', 'l', \"'\", ' ', 'j', \"'\", ' ', \"'\", 'o', '1', ' ', '#', ' ', 'p', ' ', 'r', ' ', 'a', ' ', 'v', ' ', 'o', \"'\", '1', ' ', 'd', \"'\", ' ', \"'\", 'a', 'x', ' ', 't', 's', ' ', 't', 's', ' ', 'a', 'x', \"'\", ' ', '#', ' ', 'r', \"'\", ' ', \"'\", 'i', 'x', ' ', 'g', ' ', 'u', \"'\", ' ', 'l', \"'\", ' ', \"'\", 'a', '1', ' ', 'r', ' ', 'n', ' ', 'a', ' ', '%', '%', '\\n']\n"
          ],
          "name": "stdout"
        }
      ]
    },
    {
      "cell_type": "markdown",
      "metadata": {
        "id": "Xmvmq8NkDzzF",
        "colab_type": "text"
      },
      "source": [
        "### Notice that:\n",
        "1. russian sentence is separated from transcript with '\\t'\n",
        "2. the begining and the end of transcript part are marked by '%%'"
      ]
    },
    {
      "cell_type": "markdown",
      "metadata": {
        "id": "t9inDldeBBz8",
        "colab_type": "text"
      },
      "source": [
        "### Let's read the data and split it into rus and trans"
      ]
    },
    {
      "cell_type": "code",
      "metadata": {
        "id": "ze9lEBcZB4A_",
        "colab_type": "code",
        "outputId": "de44c6e8-900d-4f26-d25b-664b3b959dfb",
        "colab": {
          "base_uri": "https://localhost:8080/",
          "height": 34
        }
      },
      "source": [
        "rus_trn = []\n",
        "with data_file.open() as f:  \n",
        "  for line in f: \n",
        "    rus, trn = line.split('\\t')\n",
        "    rus_trn.append([rus.strip(), trn.strip()])\n",
        "\n",
        "print(f'Number of sentences in corpus: {len(rus_trn)}')"
      ],
      "execution_count": 3,
      "outputs": [
        {
          "output_type": "stream",
          "text": [
            "Number of sentences in corpus: 50277\n"
          ],
          "name": "stdout"
        }
      ]
    },
    {
      "cell_type": "markdown",
      "metadata": {
        "id": "gjFV-XOHBN8o",
        "colab_type": "text"
      },
      "source": [
        "### Let's look at some sentences\n"
      ]
    },
    {
      "cell_type": "code",
      "metadata": {
        "id": "iaCdAWXfBS-H",
        "colab_type": "code",
        "outputId": "2c50f569-d399-4c6f-cd15-458954178b4b",
        "colab": {
          "base_uri": "https://localhost:8080/",
          "height": 139
        }
      },
      "source": [
        "a,b,c = np.random.choice(len(rus_trn), 3)\n",
        "\n",
        "print(rus_trn[a][0])\n",
        "print(rus_trn[a][1])\n",
        "print(rus_trn[b][0])\n",
        "print(rus_trn[b][1])\n",
        "print(rus_trn[c][0])\n",
        "print(rus_trn[c][1])"
      ],
      "execution_count": 4,
      "outputs": [
        {
          "output_type": "stream",
          "text": [
            "веб-операторы обязаны ознакомить пользователя с политикой по сбору персональной информации\n",
            "%% v' 'e1 p a' p' 'i r a1 t ax r ax # a' b' 'a1 z ax n ax # a z n a k o'1 m' 'ix' t' # p o'1 l' z ax v ax' t' 'ix' l' 'ax # s _ p a' l' 'i'1 t' 'ix k ax' j' # p a _ z b o1 r ux' # p' 'ix r s a n a'1 l' n ax' j' # 'i n f a r m a1 ts ax' i %%\n",
            "цена мартовского контракта на нефть в торговой системе поднялась\n",
            "%% ts y n a1 # m a1 r t ax f s k ax v ax # k a n t r a1 k t ax # n a' _ n' 'e1 f t' # f _ t a r g o1 v ax' j' # s' 'i' s' t' 'e'1 m' 'ix # p ax' d' n' 'i l a'1 s' %%\n",
            "в августе прошлого года был достроен храм христа спасителя\n",
            "%% v _ a1 v g ux' s' t' 'ix # p r o1 sh l ax v ax # g o1 d ax # b y1 l # d a s t r o'1 jax n # h r a1 m # h r' 'i s t a1 # s p a' s' 'i'1 t' 'ix' l' 'a %%\n"
          ],
          "name": "stdout"
        }
      ]
    },
    {
      "cell_type": "markdown",
      "metadata": {
        "id": "PrtVAlRiBYLc",
        "colab_type": "text"
      },
      "source": [
        "### Notice that words in russian sentence are separated by space while words in transcript are separated:\n",
        "1. by '#' in general case\n",
        "2. by '_' in case of preposition\n",
        "3. by '%% %%' in case of punctuation signs (dash, coma, etc)\n"
      ]
    },
    {
      "cell_type": "markdown",
      "metadata": {
        "id": "qaYfq4rSFVs6",
        "colab_type": "text"
      },
      "source": [
        "### Let's see if we have dupliates in the corpus"
      ]
    },
    {
      "cell_type": "code",
      "metadata": {
        "id": "zoPm3mehFfiN",
        "colab_type": "code",
        "outputId": "e7a27409-b311-424c-a37a-b3ecd5ac9596",
        "colab": {
          "base_uri": "https://localhost:8080/",
          "height": 51
        }
      },
      "source": [
        "a = array(rus_trn)\n",
        "seen_rus = Counter(a[:,0])\n",
        "seen_trn = Counter(a[:,1])\n",
        "\n",
        "print(f'Unique rus sentences: {len(seen_rus)} out of {len(rus_trn)}')\n",
        "print(f'Unique trans sentences: {len(seen_trn)} out of {len(rus_trn)}')"
      ],
      "execution_count": 5,
      "outputs": [
        {
          "output_type": "stream",
          "text": [
            "Unique rus sentences: 3131 out of 50277\n",
            "Unique trans sentences: 3171 out of 50277\n"
          ],
          "name": "stdout"
        }
      ]
    },
    {
      "cell_type": "markdown",
      "metadata": {
        "id": "2c_7KSzLGs7v",
        "colab_type": "text"
      },
      "source": [
        "### We have a lot of duplicates! Only 3131 unique sentenses out of 50K in the corpus. Please also note that some russian sentences are transcribed into different transcriptions (will look into that later on)"
      ]
    },
    {
      "cell_type": "code",
      "metadata": {
        "id": "yjR7uun4HeJF",
        "colab_type": "code",
        "outputId": "f3328a86-ca46-495f-86bc-dc9887c1123a",
        "colab": {
          "base_uri": "https://localhost:8080/",
          "height": 290
        }
      },
      "source": [
        "lens = [each[1] for each in seen_rus.items()]\n",
        "unq = np.unique(lens)\n",
        "qty = [lens.count(each) for each in unq]\n",
        "pd.DataFrame(qty, index=unq).plot.bar(title = 'Rus sentence repeat times', legend=False);"
      ],
      "execution_count": 6,
      "outputs": [
        {
          "output_type": "display_data",
          "data": {
            "image/png": "[encoded data removed]",
            "text/plain": [
              "<Figure size 432x288 with 1 Axes>"
            ]
          },
          "metadata": {
            "tags": []
          }
        }
      ]
    },
    {
      "cell_type": "markdown",
      "metadata": {
        "id": "a2bIKlVbIAxi",
        "colab_type": "text"
      },
      "source": [
        "### Most duplicated sentences repeat 12 times, max up to 203 times"
      ]
    },
    {
      "cell_type": "markdown",
      "metadata": {
        "id": "oCi44KJRImmG",
        "colab_type": "text"
      },
      "source": [
        "### Let's read that data while splitting the tokens. We'll count the tokens in each sentence. If the count in rus and trans is different, we'll record it as anomaly\n"
      ]
    },
    {
      "cell_type": "code",
      "metadata": {
        "id": "4fznr-0SJ9nU",
        "colab_type": "code",
        "outputId": "ed9d2b30-09bd-4de1-c355-dbdb14abeacb",
        "colab": {
          "base_uri": "https://localhost:8080/",
          "height": 1000
        }
      },
      "source": [
        "rus_l, trn_l, anomaly = [], [], []\n",
        "seen = defaultdict(list)\n",
        "chars = Counter()\n",
        "\n",
        "for j,i in enumerate(rus_trn):\n",
        "\n",
        "  rus = i[0].split()\n",
        "  trn = re.split('#|_|%% %%',i[1])\n",
        "\n",
        "  if i[0] not in seen:\n",
        "    if abs(len(rus) - len(trn)) != 0: \n",
        "      anomaly.append(j)\n",
        "      print(j, ' ', i[0])\n",
        "      print( i[1])\n",
        "    \n",
        "    else:\n",
        "      rus_l.append(len(rus))\n",
        "      trn_l.append(len(trn))\n",
        "\n",
        "    chars += Counter(i[0])\n",
        "\n",
        "  seen[i[0]].append(j)\n",
        "\n",
        "print(f'Anomalies: {len(anomaly)}')\n",
        "fig, (ax1, ax2) = plt.subplots(nrows=1,ncols=2,figsize=(12,4))\n",
        "pd.DataFrame({'Number of words in Rus sentence':rus_l}).hist(ax=ax1, bins = 30);\n",
        "pd.DataFrame({'Number of words in Trns sentence':trn_l}).hist(ax=ax2, bins = 30);"
      ],
      "execution_count": 8,
      "outputs": [
        {
          "output_type": "stream",
          "text": [
            "149   невостребованных талантов в стране уйма\n",
            "%% n' 'ix v a s t r' 'e1 b ax v ax n n ax h # t a l a1 n t ax f # f s t r a' n' 'e1 # u'1 j' m a %%\n",
            "336   в срок платежа денежные средства перечислены не были\n",
            "%% f _ s r o1 k # p l ax' t' 'i zh a'1 # d' 'e'1 n' 'ix zh n ax' jax # s r' 'e1 ts t v ax' # p' 'ix' r' 'i' ch' 'i1 s l' 'ix n ax' # n' 'e1 b ax' l' 'i %%\n",
            "772   дружба обеих корей может прекратиться так же неожиданно как и началась\n",
            "%% d r u1 zh b ax # a' b' 'e'1 i h # k a' r' 'e'1 j' # m o1 zh ax t # p r' 'ix k r a' t' 'i1 ts ts ax # t a1 g zh ax' # n' 'ixa zh y1 d ax n n a %% %% k a1 k # y _ n ax' ch' 'i l a'1 s' %%\n",
            "858   если окутать ёлку дождиком она получится как бы в дымке\n",
            "%% j' 'e1 s l' 'ix # a k u1 t ax' t' # j' 'o1 l k ux # d o1 zh d' 'ix k ax m %% %% a n a1 # p a l u'1 ch' 'ix ts ts ax # k a1 g b ax # v _ d y1 m k' 'e %%\n",
            "868   королёв в тюрьме сделал свои первые рисунки ракеты\n",
            "%% k ax r a' l' 'o1 f # f t' 'u' r' m' 'e'1 # z' d' 'e1 l ax l # s v a' i'1 # p' 'e1 r v ax' jax' # r' 'i s u1 n k' 'ix # r a' k' 'e1 t y %%\n",
            "881   мосты выглядят чрезвычайно внушительными надёжными и в то же время лёгкими современными\n",
            "%% m a s t y1 # v y1 g l' 'ax' d' 'ax t # ch' r' 'ix z v y' ch' 'a'1 j' n ax # v n u sh y'1 t' 'ix' l' n ax' m' 'i %% %% n a' d' 'o1 zh n ax' m' 'ix' # 'i _ f _ t o1 zh ax # v r' 'e'1 m' 'ax' # l' 'o'1 h' k' 'ix' m' 'i %% %% s ax v r' 'i' m' 'e1 n n ax' m' 'i %%\n",
            "898   маленький двоечник развив в себе комплекс неполноценности перестаёт учиться\n",
            "%% m a'1 l' 'ix' n' k' 'ix' j' # d v o'1 jax sh n' 'ix k %% %% r a z v' 'i1 f # f s' 'i' b' 'e1 # k o1 m p l' 'ix k s # n' 'ix p ax l n a ts e1 n n ax' s' t' 'i %% %% p' 'ix' r' 'ix s t a' j' 'o1 t # u' ch' 'i1 ts ts a %%\n",
            "912   неизвестно высказал ли находившийся в полном сознании офицер версию аварии\n",
            "%% n' 'ixi z v' 'e1 s n a %% %% v y1 s k ax z ax l l' 'ix # n ax h a' d' 'i1 f sh ax' j' s' 'ax # f _ p o1 l n ax m # s a z n a'1 n' 'ixi # a' f' 'i ts e1 r # v' 'e1 r s' 'ix' jux # a v a'1 r' 'ixi %%\n",
            "994   отрасли сидящие на импорте оборудования и запчастей желали бы укрепления рубля\n",
            "%% o1 t r ax s l' 'i %% %% s' 'i' d' 'a'1 sh' 'ix' jax # n a' _ i1 m p ax r t' 'ix # a b a r u1 d ax v ax' n' 'ix' jax' # i _ z a1 p ch' 'i' s' t' 'e'1 j' # zh y l a'1 l' 'ix b ax # u k r' 'i p l' 'e'1 n' 'ix' jax # r u b l' 'a1 %%\n",
            "998   стыдиться конъюнктуры приспособленчества да и просто бездарности оказалось не перед кем\n",
            "%% s t y' d' 'i1 ts ts ax # k ax n j' 'u n k t u1 r y %% %% p r' 'ix s p ax s a b l' 'e'1 n' ch' 'ix s t v ax # d ax' _ i _ p r o1 s t ax' # b' 'i z d a1 r n ax' s' t' 'ix # a k a z a1 l ax' s' # n' 'e'1 p' 'ix' r' 'ix t k' 'ix m %%\n",
            "1031   новый закон вряд ли внесёт успокоение даже в ряды тех кто активно добивался его принятия\n",
            "%% n o1 v ax' j' # z a k o1 n # v r' 'a1 t l' 'ix # v n' 'i' s' 'o1 t # u s p ax k a' j' 'e'1 n' 'ix' jax # d a1 zh ax # v _ r' 'i d y'1 # t' 'e1 h %% %% k t o1 # a k t' 'i1 v n ax # d ax' b' 'i v a1 l s' 'ax' # ji v o1 # p r' 'i' n' 'a'1 t' 'ix' ja %%\n",
            "1041   за шарона отдали бы свои голоса пятьдесят процентов избирателей\n",
            "%% z ax _ sh a r o1 n a1 # a d d a' l' 'i1 b ax # s v a' i1 # g ax l a s a'1 # p' 'ix' d' d' 'i' s' 'a1 t # p r a ts e1 n t ax f # y z b' 'i r a'1 t' 'ix' l' 'ix' j' %%\n",
            "1046   на пять часов позже но заседание всё же началось\n",
            "%% n a' _ p' 'a'1 ch' # ch' 'i s o1 f # p o1 zh zh e %% %% n o1 # z ax' s' 'i d a'1 n' 'ix' jax # f s' 'o1 zh ax # n ax' ch' 'i l o'1 s' %%\n",
            "1066   учёные показали что добавление антиоксидантов в пищу продлевает жизнь на тридцать процентов\n",
            "%% u' ch' 'o1 n ax' jax # p ax k a z a'1 l' 'i %% %% sh t o1 # d ax b a v l' 'e'1 n' 'ix' jax # a'1 n' t' 'ixa k s' 'i d a1 n t ax f # f p' 'i'1 sh' 'ux # p r ax d l' 'i v a'1 jax d # zh y'1 z' n' # n a _ t r' 'i1 ts ts ax' t' # p r a ts e1 n t ax f %%\n",
            "1067   пятьдесят восемь лет характерная продолжительность жизни для папуасов в племенах новой гвинеи\n",
            "%% p' 'ix' d' d' 'i' s' 'a1 t # v o'1 s' 'ix' m' # l' 'e1 t %% %% h ax r a k t' 'e1 r n ax' jax # p r ax d a l zh y'1 t' 'ix' l' n ax' z' d' # zh y'1 z' n' 'ix # d l' 'a1 # p ax p u a1 s ax f # f p l' 'ix' m' 'i n a1 h # n o1 v ax' j' # g v' 'i' n' 'e'1 i %%\n",
            "1076   то что вы думаете будет тут же зафиксировано на экране или на кассете\n",
            "%% t o1 %% %% sh t o1 # v y1 # d u1 m ax' jax' t' 'e %% %% b u'1 d' 'ix t # t u1 d zh ax # z ax' f' 'i k s' 'i1 r ax v ax n ax # n ax _ e k r a'1 n' 'ix' # 'i'1 l' 'ix # n ax _ k a' s' 'e'1 t' 'e %%\n",
            "1109   сотни тысяч паломников со всего мира стали бы серьёзным подспорьем местному бюджету\n",
            "%% s o'1 t' n' 'ix # t y'1 s' 'ax' ch' # p a l o1 m n' 'ix k ax f # s ax _ f s' 'i v o'1 # m' 'i1 r ax # s t a'1 l' 'ix b ax' # s' 'i' r' j' 'o1 z n ax m # p a ts p o'1 r' j' 'ax m # m' 'e1 s n ax m ux' # b' 'u d zh e1 t u %%\n",
            "1123   позднее по москве ходили слухи что тело сталина чуть ли не вытряхнули из мундира\n",
            "%% p a' z' n' 'e'1 jax # p ax _ m a s k v' 'e1 # h a' d' 'i'1 l' 'ix # s l u'1 h' 'i %% %% sh t o'1 # t' 'e1 l ax # s t a'1 l' 'ix n ax' # ch' 'u'1 t' l' 'ix' # n' 'i _ v y1 t r' 'ax h n ux' l' 'ix' # 'i z _ m u' n' d' 'i1 r a %%\n",
            "1130   прежде чем отправиться в норвегию приступили к изучению атомной подлодки такого же класса\n",
            "%% p r' 'e1 zh d' 'ix' # ch' 'e1 m # a t p r a'1 v' 'ix ts ts ax # v _ n a r v' 'e'1 g' 'ix' ju %% %% p r' 'ix s t u' p' 'i'1 l' 'ix # k _ ax z u' ch' 'e'1 n' 'ix' jux # a1 t ax m n ax' j' # p a d l o1 t k' 'ix # t a k o1 v ax zh ax # k l a1 s s a %%\n",
            "1341   чтобы миру не было скучно правительство надумало раскрыть ему страшную тайну\n",
            "%% sh t o1 b ax' # m' 'i1 r ux' # n' 'e1 b ax l ax # s k u1 sh n a %% %% p r a' v' 'i'1 t' 'ix' l' s t v ax # n a d u1 m ax l ax # r a s k r y'1 t' # j' 'i m u1 # s t r a1 sh n ux' jux # t a'1 j' n u %%\n",
            "1738   на улицах не было никаких шумных пьяных оргий\n",
            "%% n a _ u'1 l' 'ix ts ax h # n' 'e1 b ax l ax' # n' 'ix k a' k' 'i1 h # sh u1 m n ax h # p' j' 'a1 n ax h # o1 r g' 'ix' j' %%\n",
            "1802   гроб сделали в тот же день\n",
            "%% g r o1 b # z' d' 'e1 l ax' l' 'ix # f _ t o1 d zh ax' # d' 'e'1 n' %%\n",
            "2289   курение ухудшает чувствительность клеток к инсулину\n",
            "%% k u' r' 'e'1 n' 'ix' jax # u h u t sh a'1 jax t # ch' 'u s t v' 'i'1 t' 'ix' l' n ax' s' t' # k l' 'e1 t ax k # k ax n s u' l' 'i1 n u %%\n",
            "2320   продажи обогревателей выросли в пять раз по сравнению с тем же периодом прошлого года\n",
            "%% p r a d a1 zh ax # a b ax g r' 'i v a'1 t' 'ix' l' 'ix' j' # v y1 r ax s l' 'ix # f _ p' 'a'1 t' # r a1 s # p ax _ s r a v n' 'e'1 n' 'ix' jux' # s' _ t' 'e1 m zh ax' # p' 'i' r' 'i1 o d ax m # p r o1 sh l ax v ax # g o1 d a %%\n",
            "2344   наши предки хищниками не были и дорожили своей нишей в биосфере\n",
            "%% n a1 sh ax # p r' 'e1 t k' 'ix' # h' 'i'1 sh' n' 'ix k ax' m' 'ix' # n' 'e1 b ax' l' 'ix' # 'i _ d ax r a zh y'1 l' 'ix # s v a' j' 'e'1 j' # n' 'i1 sh ax' j' # v _ b' 'ixa s f' 'e'1 r' 'e %%\n",
            "2390   америка и россия являются сегодня единственными странами отправляющими своих космонавтов в космос\n",
            "%% a' m' 'e'1 r' 'ix k ax' # i _ r a' s' s' 'i'1 jax' # ji v l' 'a'1 jux ts ts ax' # s' 'i v o'1 d' n' 'ax' # ji' d' 'i1 n s t v' 'ix n n ax' m' 'ix # s t r a1 n ax' m' 'i %% %% a t p r a v l' 'a'1 jux' sh' 'ix' m' 'ix # s v a' i1 h # k ax s m a n a1 f t ax f # f k o1 s m ax s %%\n",
            "2403   всё будет зависеть от того успешно ли пристыкуется к комплексу последний грузовой корабль\n",
            "%% f s' 'o1 # b u'1 d' 'ix d # z a' v' 'i'1 s' 'ix' t' # 'a t _ t a v o1 %% %% u s p' 'e1 sh n ax' l' 'ix # p r' 'ix s t y k u'1 jax ts ts ax # k _ k o1 m p l' 'ix k s ux # p a s l' 'e'1 d' n' 'ix' j' # g r ux z a v o'1 j' # k a r a1 b l' %%\n",
            "2745   кабинетные работники с появлением спецтранспорта и охраны утрачивают связь с действительностью\n",
            "%% k ax' b' 'i' n' 'e1 t n ax' jax # r a b o'1 t' n' 'ix' k' 'ix # s _ p ax' ji v l' 'e'1 n' 'ix' jax m # s p' 'e1 ts t r a1 n s p ax r t ax' # i _ a h r a1 n ax # u t r a'1 ch' 'ix v ax' jux t # s v' 'a'1 z' # z' d' 'i' j' s t v' 'i'1 t' 'ix' l' n ax' s' t' j' 'u %%\n",
            "2787   греческие игроки призвали своих коллег к забастовке\n",
            "%% g r' 'e'1 ch' 'ix s k' 'ix' jax' # i g r a' k' 'i1 # p r' 'i z v a'1 l' 'ix # s v a' i1 h # k a' l' 'e1 g # g z ax b a s t o1 f k' 'e %%\n",
            "2795   с начала года ни один автомобиль не был отправлен российским заказчикам\n",
            "%% s _ n a' ch' 'a1 l ax # g o1 d ax' # n' 'ix _ a' d' 'i1 n # a f t ax m a' b' 'i'1 l' # n' 'e1 b ax l # a t p r a1 v l' 'ix n # r a' s' 'i'1 j' s k' 'ix m # z a k a'1 sh' 'ix k ax m %%\n",
            "2987   вряд ли кому-нибудь удастся повторить это достижение\n",
            "%% v r' 'a1 t l' 'ix # k a m u'1 n' 'ix b ux' t' # 'u d a1 s ts ts ax # p ax f t a' r' 'i'1 t' # 'e1 t ax # d ax' s' t' 'i zh e'1 n' 'ix' je %%\n",
            "3069   союз правых сил никогда не был сторонником популистских решений\n",
            "%% s a' j' 'u1 s # p r a1 v ax h # s' 'i1 l # n' 'ix k a g d a'1 # n' 'e1 b ax l # s t a r o'1 n' n' 'ix k ax m # p ax p u' l' 'i1 s s k' 'ix h # r' 'i sh e'1 n' 'ix' j' %%\n",
            "3122   на территории америки никогда не было настоящих войн\n",
            "%% n ax' _ t' 'ix' r' 'i t o'1 r' 'ixi # a' m' 'e'1 r' 'ix' k' 'ix' # n' 'ix k a g d a'1 # n' 'e1 b ax l ax # n ax s t a' j' 'a'1 sh' 'ix h # v o'1 j' n %%\n",
            "3831   план использования нефти из стратегического резерва вряд ли будет реализован\n",
            "%% p l a1 n # y s p o'1 l' z ax v ax' n' 'ix' jax' # n' 'e1 f t' 'ix' # 'i s _ s t r ax' t' 'i' g' 'i'1 ch' 'ix s k ax v ax' # r' 'i' z' 'e1 r v ax # v r' 'a1 t l' 'ix # b u'1 d' 'ix t # r' 'ixa' l' 'i z o1 v ax n %%\n",
            "4010   достигнута договорённость по строительству дорог к месторождениям\n",
            "%% d a' s' t' 'i1 g n ux t ax # d ax g ax v a' r' 'o1 n n ax' s' t' # p ax _ s t r a' i'1 t' 'ix' l' s t v ux # d a r o1 k # k m' 'ix s t ax r a zh d' 'e'1 n' 'ix' jax m %%\n",
            "4064   бюллетени для голосования не были вовремя разосланы акционерам\n",
            "%% b' 'ux' l' 'i' t' 'e'1 n' 'ix # d l' 'a _ g ax l ax s a v a'1 n' 'ix' jax' # n' 'e1 b ax' l' 'ix # v o1 v r' 'ix' m' 'ax # r a z o1 s l ax n ax # a k ts axa' n' 'e1 r ax m %%\n",
            "4107   в предвыборный год губернаторы безропотно согласились бы отдать механизм управления\n",
            "%% f _ p r' 'i d v y1 b ax r n ax' j' # g o1 d # g ux' b' 'i r n a1 t ax r ax' # b' 'i z r o1 p ax t n ax # s ax g l a' s' 'i'1 l' 'ix' z' b ax # a d d a'1 t' # m' 'ix h a' n' 'i1 z m # u p r a v l' 'e'1 n' 'ix' ja %%\n",
            "4148   абсолютная замена поджелудочной железы могла бы решить проблему диабета\n",
            "%% a p s a' l' 'u1 t n ax' jax # z a' m' 'e1 n ax # p ax d zh y l u1 d ax' ch' n ax' j' # zh ax' l' 'i z y1 # m a g l a1 b ax' # r' 'i sh y'1 t' # p r a b l' 'e1 m ux' # d' 'ixa' b' 'e1 t a %%\n",
            "5012   было объявлено о возможном начале торгов в конце апреля\n",
            "%% b y1 l ax # a b j' 'a1 v l' 'ix n ax # a _ v a z m o1 zh n ax m # n a' ch' 'a'1 l' 'ix # t a r g o1 f # f k a n ts e1 # a p r' 'e'1 l' 'a %%\n",
            "5043   сегодня нет новостей которые могли бы оказать негативное влияние на рынок\n",
            "%% s' 'i v o'1 d' n' 'ax' # n' 'e1 t # n ax v a' s' t' 'e'1 j' %% %% k a t o1 r ax' jax # m a g l' 'i1 b ax # a k a z a'1 t' # n' 'ix g a' t' 'i1 v n ax' jax # v l' 'i' j' 'a'1 n' 'ix' jax # n a _ r y1 n ax k %%\n",
            "5980   преступность в подмосковье практически осталась на том же уровне\n",
            "%% p r' 'i s t u1 p n ax' s' t' # f _ p ax d m a s k o'1 v' j' 'ax # p r a k t' 'i'1 ch' 'ix s k' 'ix # a s t a1 l ax' s' # n a _ t o1 m zh ax # u1 r ax v n' 'e %%\n",
            "5998   на видео- и фотоаппаратуру снимали сцены насилия\n",
            "%% n a' _ v' 'i'1 d' 'ixo' i _ f o1 t ax a p ax r a t u1 r ux' # s' n' 'i m a'1 l' 'ix # s ts e1 n ax # n a' s' 'i'1 l' 'ix' ja %%\n",
            "6089   в обществе всегда много точек зрения на одну и ту же проблему\n",
            "%% v _ o1 p sh' 'ix s t v' 'ix # f s' 'i g d a1 # m n o1 g ax # t o'1 ch' 'ix g # z r' 'e'1 n' 'ix' jax # n ax _ a d n u'1 # i _ t u1 zh ax # p r a b l' 'e1 m u %%\n",
            "6107   дети уезжают за границу и получают образование у наших же педагогов\n",
            "%% d' 'e'1 t' 'ix # u' ji' zh' 'a'1 jux d # z ax _ g r a' n' 'i1 ts ux' # i _ p ax l u' ch' 'a'1 jux t # a b r ax z a v a'1 n' 'ix' jax # u _ n a1 sh ax gh zh ax' # p' 'ix d a g o1 g ax f %%\n",
            "6124   всю осень у нас не было света и горячей воды\n",
            "%% f s' 'u1 # o'1 s' 'ix' n' # 'u _ n a1 s # n' 'e1 b ax l ax # s v' 'e1 t ax' # i _ g a' r' 'a'1 ch' 'ix' j' # v a d y1 %%\n",
            "6129   кора надпочечников в период магнитной бури работает как в условиях стресса\n",
            "%% k a r a1 # n a t p o'1 ch' 'ix' ch' n' 'ix k ax f # f p' 'i' r' 'i1 o t # m a g n' 'i1 t n ax' j' # b u'1 r' 'ix # r a b o1 t ax' jax t # k a1 k # v _ u s l o'1 v' 'ix' jax h # s t r e1 s a %%\n",
            "7487   в быстрых шахматах компьютер перебирает миллионы ходов в секунду\n",
            "%% v _ b y1 s t r ax h # sh a1 h m ax t ax h # k a m p' j' 'u1 t ax r # p' 'ix' r' 'ix' b' 'i r a'1 jax t # m' 'ix' l' 'i o1 n ax # h a d o1 f # f s' 'i k u1 n d u %%\n",
            "7567   функции прокуроров остались теми же что и в судебном уставе\n",
            "%% f u1 n k ts ax' i # p r ax k u r o1 r ax f # a s t a'1 l' 'ix' s' # t' 'e'1 m' 'ix zh e %% %% sh t o'1 # i _ f _ s u' d' 'e1 b n ax m # u s t a'1 v' 'e %%\n",
            "7626   в герметично закрытом отсеке рыб не было\n",
            "%% v _ g' 'ix r m' 'i' t' 'i'1 ch' n ax # z a k r y1 t ax m # a' t' s' 'e'1 k' 'ix # r y1 p # n' 'e1 b ax l a %%\n",
            "Anomalies: 49\n"
          ],
          "name": "stdout"
        },
        {
          "output_type": "display_data",
          "data": {
            "image/png": "[encoded data removed]",
            "text/plain": [
              "<Figure size 864x288 with 2 Axes>"
            ]
          },
          "metadata": {
            "tags": []
          }
        }
      ]
    },
    {
      "cell_type": "markdown",
      "metadata": {
        "id": "XxTcio_yKSbh",
        "colab_type": "text"
      },
      "source": [
        "### So we have 49 anomalies out of 3131 samples"
      ]
    },
    {
      "cell_type": "markdown",
      "metadata": {
        "id": "K49Q_mTcOZ4w",
        "colab_type": "text"
      },
      "source": [
        "### Closer look at the anomalies shows:\n",
        "* Particle 'же', 'бы', 'ли' never gets separated as a standalone word in transcript. Hypothesis: glue the particle to the preceeding token during prepocessing\n",
        "* There are 10 cases where 'не был(о/а/и)' result in joint transcript. Hypothesis: put 'не был(а/а/и)' as one token during prepocessing\n",
        "* Remaining 15 anomalies seem to be the errors"
      ]
    },
    {
      "cell_type": "markdown",
      "metadata": {
        "id": "uV_cJH70KuSg",
        "colab_type": "text"
      },
      "source": [
        "### Let's see if we need to clean the data. First let's take a look at rus corpus alphabet"
      ]
    },
    {
      "cell_type": "code",
      "metadata": {
        "id": "LyV9anvZn187",
        "colab_type": "code",
        "outputId": "e4b67dda-24f8-4255-a416-c46aae2d640f",
        "colab": {
          "base_uri": "https://localhost:8080/",
          "height": 298
        }
      },
      "source": [
        "s = sorted(chars.items())\n",
        "pd.DataFrame(s, index=(e[0]+' ' for e in s)).plot.bar(figsize=(18,4), rot=0, title = 'Char frequencies', legend=False)\n",
        "print(f'Number of times \"-\" used: {chars[\"-\"]}')"
      ],
      "execution_count": 9,
      "outputs": [
        {
          "output_type": "stream",
          "text": [
            "Number of times \"-\" used: 159\n"
          ],
          "name": "stdout"
        },
        {
          "output_type": "display_data",
          "data": {
            "image/png": "[encoded data removed]",
            "text/plain": [
              "<Figure size 1296x288 with 1 Axes>"
            ]
          },
          "metadata": {
            "tags": []
          }
        }
      ]
    },
    {
      "cell_type": "markdown",
      "metadata": {
        "id": "83TZ18z9K8Qy",
        "colab_type": "text"
      },
      "source": [
        "### Looks good! We neither have punctuations nor capital letters. The only case to check is '-' letter which is used 159 times"
      ]
    },
    {
      "cell_type": "code",
      "metadata": {
        "id": "hEqkK_LRKLb-",
        "colab_type": "code",
        "outputId": "1d2e67b4-d0b8-4232-d893-a6dd43628a11",
        "colab": {
          "base_uri": "https://localhost:8080/",
          "height": 54
        }
      },
      "source": [
        "seen = set()\n",
        "seen_dash = set()\n",
        "dash_words = []\n",
        "for rus,trn in rus_trn:\n",
        "  if rus not in seen:\n",
        "    if '-' in rus:\n",
        "      ru_words = rus.split()\n",
        "      for each in ru_words:\n",
        "        if '-' in each:\n",
        "          if each not in seen_dash:\n",
        "            seen_dash.add(each)\n",
        "            dash_words.append(each)\n",
        "  else:\n",
        "    seen.add(rus)\n",
        "  \n",
        "print(dash_words)"
      ],
      "execution_count": 10,
      "outputs": [
        {
          "output_type": "stream",
          "text": [
            "['анти-обледенитель', 'иридо-диагностика', 'дом-красавец', 'из-за', 'радио-сигналом', 'ноль-три', 'ноль-два', 'мало-обеспеченные', 'шкаф-купе', 'тех-осмотр', 'пресс-службе', 'авто-сервис', 'чуть-чуть', 'аудио-', 'какие-либо', 'де-факто', 'стерео-', 'царь-колокол', 'царь-пушка', 'гео-магнитного', 'электро-катастрофы', 'фигуристы-новобранцы', 'что-то', 'какое-либо', 'веб-операторы', 'воздушно-десантной', 'военно-морских', 'ветераны-афганцы', 'одного-единственного', 'природно-климатические', 'одном-двух', 'санкт-петербурге', 'стран-участниц', 'пять-шесть', 'по-своему', 'матч-реванш', 'словаря-справочника', 'штаб-квартире', 'чем-то', 'чего-то', 'экс-губернатора', 'российско-американский', 'северо-восточных', 'красно-белую', 'какой-нибудь', 'бело-жёлтый', 'карту-схему', 'юго-западный', 'радио-охранное', 'по-прежнему', 'каким-то', 'кино-картины', 'авто-трюки', 'пресс-конференции', 'генерал-прокурором', 'нью-йорке', 'медиа-группы', 'нью-йоркской', 'какие-то', 'санкт-петербурга', 'санкт-петербург', 'памятники-символы', 'премьер-министр', 'взлётно-посадочную', 'какого-нибудь', 'январе-феврале', 'птица-говорун', 'жучки-камнееды', 'школу-комплекс', 'художников-оформителей', 'какое-то', 'купли-продажи', 'каких-либо', 'генерал-лейтенант', 'карты-схемы', 'кому-нибудь', 'детям-инвалидам', 'как-то', 'золото-валютных', 'наконец-то', 'государственно-общественной', 'бизнес-сообщества', 'причинно-следственных', 'по-настоящему', 'юго-западного', 'премьер-министру', 'нью-йорк', 'пропан-бутановые', 'пресс-служба', 'физико-химическими', 'средне-взвешенный', 'интернет-сетью', 'экспресс-опрос', 'либерально-демократической', 'вице-премьер', 'пресс-конференция', 'военно-морского', 'по-другому', 'вице-спикера', 'радио-станции', 'конференц-зале', 'золото-валютные', 'фирм-членов', 'премьер-министром', 'химико-фармацевтической', 'весенне-полевых', 'пресс-секретарь', 'сирийско-израильский', 'юго-восток', 'сьерра-леонэ', 'южно-африканской', 'медиа-мостом', 'диско-марафон', 'видео-', 'две-три', 'экс-посол', 'военно-политического', 'компакт-диски', 'мини-электростанция', 'когда-нибудь', 'кто-то', 'веке-волкодаве', 'из-под', 'капитан-лейтенанта', 'просто-напросто', 'всё-таки', 'пресс-службы', 'южно-сахалинске', 'оперативно-следственная', 'армяно-российского', 'северо-западе']\n"
          ],
          "name": "stdout"
        }
      ]
    },
    {
      "cell_type": "markdown",
      "metadata": {
        "id": "3VHh6JUCPGlb",
        "colab_type": "text"
      },
      "source": [
        "### Okey, words with dash look fine, we'll consider dash as a normal letter"
      ]
    },
    {
      "cell_type": "markdown",
      "metadata": {
        "id": "hMAmvWqyLrWv",
        "colab_type": "text"
      },
      "source": [
        "### The size of the corpus is too small to tokenize on words. Insted we'll tokenize bsed on characters"
      ]
    },
    {
      "cell_type": "markdown",
      "metadata": {
        "id": "G-xAjHqyjh3x",
        "colab_type": "text"
      },
      "source": [
        "### So in order to implement autocoder for transcript we'd need to keep special symbools in transcript such as \"\\_\" and \"%% %%\". So let's create a dictionary of sentences rus <-> trans. So let's recreate the dictionary so \"\\_\" and \"%% %%\" are marked with '#' (treat them as separate token) and remove begin and end markers. Plus to that let's get rid of duplicates.\n",
        "\n",
        "### Second thought though. Since Russian corpus does not include any punctuation, we cannot predict '%% %%' token properly. So let's sacrifice one token for the sake of overall accuracy meaning that we remove '%% %%' token completely from the corpus\n"
      ]
    },
    {
      "cell_type": "code",
      "metadata": {
        "id": "PBgF1l93y39m",
        "colab_type": "code",
        "outputId": "3d7f5110-e7a7-4d21-bc99-28deee7b41c6",
        "colab": {
          "base_uri": "https://localhost:8080/",
          "height": 298
        }
      },
      "source": [
        "seen_rus = set()\n",
        "seen_trn = set()\n",
        "\n",
        "res, trn_l, rus_l = [], [], []\n",
        "for rus, trn in rus_trn:\n",
        "\n",
        "  if rus not in seen_rus or trn not in seen_trn:\n",
        "      seen_rus.add(rus)\n",
        "      seen_trn.add(trn)\n",
        "\n",
        "      # let's fix the errors in corpus\n",
        "      trn = trn.replace(\"f s t r a' n' 'e1\", \"f _ s t r a' n' 'e1\") \\\n",
        "              .replace(\"f t' 'u' r' m' 'e'1\", \"f _ t' 'u' r' m' 'e'1\") \\\n",
        "              .replace(\"f s' 'i' b' 'e1\", \"f _ s' 'i' b' 'e1\") \\\n",
        "              .replace(\"n' 'e'1 p' 'ix' r' 'ix t k' 'ix m\", \"n' 'e'1 # p' 'ix' r' 'ix t k' 'ix m\") \\\n",
        "              .replace(\"f p' 'i'1 sh' 'ux\", \"f _ p' 'i'1 sh' 'ux\") \\\n",
        "              .replace(\"f p l' 'ix' m' 'i n a1 h\", \"f _ p l' 'ix' m' 'i n a1 h\") \\\n",
        "              .replace(\"k ax n s u' l' 'i1 n u\", \"k _ ax n s u' l' 'i1 n u\") \\\n",
        "              .replace(\"f k o1 s m ax s\", \"f _ k o1 s m ax s\") \\\n",
        "              .replace(\"z' d' 'i' j' s t v' 'i'1 t' 'ix' l' n ax' s' t' j' 'u\", \"z' _ d' 'i' j' s t v' 'i'1 t' 'ix' l' n ax' s' t' j' 'u\") \\\n",
        "              .replace(\"g z ax b a s t o1 f k' 'e\", \"g _ z ax b a s t o1 f k' 'e\") \\\n",
        "              .replace(\"k m' 'ix s t ax r a zh d' 'e'1 n' 'ix' jax m\", \"k _ m' 'ix s t ax r a zh d' 'e'1 n' 'ix' jax m\") \\\n",
        "              .replace(\"f k a n ts e1\", \"f _ k a n ts e1\") \\\n",
        "              .replace(\"f p' 'i' r' 'i1 o t\", \"f _ p' 'i' r' 'i1 o t\") \\\n",
        "              .replace(\"f s' 'i k u1 n d u\", \"f _ s' 'i k u1 n d u\") \\\n",
        "              .replace(\"v' 'i'1 d' 'ixo' i _\", \"v' 'i'1 d' 'ixo' # i _\")\n",
        "\n",
        "      # '# <PNK>'\n",
        "      trn = trn[3:-3].replace('%% %%', '#') \\\n",
        "                .replace('_', '_ #') \\\n",
        "                .split('#')\n",
        "\n",
        "      # let's fix inconsistencies with particles\n",
        "      rus = rus.replace(' же ', 'же ') \\\n",
        "                .replace(' бы ', 'бы ') \\\n",
        "                .replace(' ли ', 'ли ') \\\n",
        "                .replace(' не был', ' небыл') \\\n",
        "                .split(' ')\n",
        "\n",
        "      for a,b in zip(rus, trn):\n",
        "        b = b.strip().split(' ')\n",
        "        res.append((list(a), b))\n",
        "        rus_l.append( len(a))\n",
        "        trn_l.append( len(b))\n",
        "\n",
        "rus_trn_new = array(res)\n",
        "trn_length = max(trn_l)\n",
        "rus_length = max(rus_l)\n",
        "print(f'max len rus: {rus_length}, max len trn: {trn_length}')\n",
        "fig, (ax1, ax2) = plt.subplots(nrows=1,ncols=2,figsize=(12,4))\n",
        "pd.DataFrame({'Number of tokens in Rus sentence':rus_l}).hist(ax=ax1, bins = 30);\n",
        "pd.DataFrame({'Number of tokens in Trns sentence':trn_l}).hist(ax=ax2, bins = 30);"
      ],
      "execution_count": 135,
      "outputs": [
        {
          "output_type": "stream",
          "text": [
            "max len rus: 27, max len trn: 26\n"
          ],
          "name": "stdout"
        },
        {
          "output_type": "display_data",
          "data": {
            "image/png": "[encoded data removed]",
            "text/plain": [
              "<Figure size 864x288 with 2 Axes>"
            ]
          },
          "metadata": {
            "tags": []
          }
        }
      ]
    },
    {
      "cell_type": "code",
      "metadata": {
        "id": "ID8a8MoaKtVm",
        "colab_type": "code",
        "outputId": "f63664a9-b430-4c52-a405-e9b4de3bd0c3",
        "colab": {
          "base_uri": "https://localhost:8080/",
          "height": 51
        }
      },
      "source": [
        "a = np.random.choice(len(rus_trn_new))\n",
        "rus_trn_new[a]"
      ],
      "execution_count": 136,
      "outputs": [
        {
          "output_type": "execute_result",
          "data": {
            "text/plain": [
              "array([list(['с', 'у', 'щ', 'е', 'м', 'у']),\n",
              "       list(['s', \"u'1\", \"sh'\", \"'ix\", 'm', 'u'])], dtype=object)"
            ]
          },
          "metadata": {
            "tags": []
          },
          "execution_count": 136
        }
      ]
    },
    {
      "cell_type": "markdown",
      "metadata": {
        "id": "CbQ82gWtkTDx",
        "colab_type": "text"
      },
      "source": [
        "### Let's tokenize the sentences. So a word is a sentence, and thus character is a token\n",
        "\n",
        "\n"
      ]
    },
    {
      "cell_type": "code",
      "metadata": {
        "id": "670W8CC1llqC",
        "colab_type": "code",
        "outputId": "c002a015-b1bb-43bf-cd66-adc3c0c68a46",
        "colab": {
          "base_uri": "https://localhost:8080/",
          "height": 51
        }
      },
      "source": [
        "def tokenization(lines, split=' '):\n",
        "  tokenizer = Tokenizer(filters='', lower=False, split=split)\n",
        "  tokenizer.fit_on_texts(lines)\n",
        "  return tokenizer\n",
        "\n",
        "def encode_sequences(tokenizer, length, lines):\n",
        "  seq = tokenizer.texts_to_sequences(lines)\n",
        "  seq = pad_sequences(sequences=seq, maxlen=length, padding='post')\n",
        "  return seq\n",
        "\n",
        "rus_tokenizer = tokenization(rus_trn_new[:, 0], split='')\n",
        "rus_vocab_size = len(rus_tokenizer.word_index) + 1\n",
        "trn_tokenizer = tokenization(rus_trn_new[:, 1], split=' ')\n",
        "trn_vocab_size = len(trn_tokenizer.word_index) + 1\n",
        "print(f'Rus Vocabulary Size: {rus_vocab_size}')\n",
        "print(f'Trns Vocabulary Size: {trn_vocab_size}')"
      ],
      "execution_count": 137,
      "outputs": [
        {
          "output_type": "stream",
          "text": [
            "Rus Vocabulary Size: 35\n",
            "Trns Vocabulary Size: 115\n"
          ],
          "name": "stdout"
        }
      ]
    },
    {
      "cell_type": "markdown",
      "metadata": {
        "id": "sgJdhdjvqRA9",
        "colab_type": "text"
      },
      "source": [
        "### Encode sentences, pad them, split to train and test\n"
      ]
    },
    {
      "cell_type": "code",
      "metadata": {
        "id": "3XcT-AUGqa5v",
        "colab_type": "code",
        "outputId": "2505b9ef-dc8d-4513-f260-e9194002db58",
        "colab": {
          "base_uri": "https://localhost:8080/",
          "height": 68
        }
      },
      "source": [
        "train, test = train_test_split(rus_trn_new, test_size=0.1, random_state = RS)\n",
        "\n",
        "# prepare training data\n",
        "trainX = encode_sequences(rus_tokenizer, rus_length, train[:, 0])\n",
        "trainY = encode_sequences(trn_tokenizer, trn_length, train[:, 1])\n",
        "\n",
        "# prepare validation data\n",
        "testX = encode_sequences(rus_tokenizer, rus_length, test[:, 0])\n",
        "testY = encode_sequences(trn_tokenizer, trn_length, test[:, 1])\n",
        "\n",
        "a = np.random.choice(len(trainX))\n",
        "print(a)\n",
        "print( rus_tokenizer.sequences_to_texts([trainX[a]]) )\n",
        "print( trn_tokenizer.sequences_to_texts([trainY[a]]) )"
      ],
      "execution_count": 138,
      "outputs": [
        {
          "output_type": "stream",
          "text": [
            "1142\n",
            "['о б ъ ё м']\n",
            "[\"a b j' 'o1 m\"]\n"
          ],
          "name": "stdout"
        }
      ]
    },
    {
      "cell_type": "markdown",
      "metadata": {
        "id": "G8P7B0nI8fvQ",
        "colab_type": "text"
      },
      "source": [
        "### Let's build simple sequential seq2seq model"
      ]
    },
    {
      "cell_type": "code",
      "metadata": {
        "id": "RDMl-upI8mnu",
        "colab_type": "code",
        "colab": {
          "base_uri": "https://localhost:8080/",
          "height": 1000
        },
        "outputId": "5bc119fe-ee5a-4ad9-9d0e-7bc04fbf5a95"
      },
      "source": [
        "model = Sequential()\n",
        "model.add(Embedding(rus_vocab_size, 512, input_length=rus_length, mask_zero=True))\n",
        "model.add(LSTM(512))\n",
        "model.add(RepeatVector(trn_length))\n",
        "model.add(LSTM(512, return_sequences=True))\n",
        "model.add(Dense(trn_vocab_size, activation='softmax'))\n",
        "# compile model\n",
        "model.compile(optimizer='adam', loss='sparse_categorical_crossentropy')\n",
        "# summarize defined model\n",
        "model.summary()\n",
        "\n",
        "def train_model(model):\n",
        "  monitor = 'val_loss'\n",
        "  mode = 'min'\n",
        "  early_stop = EarlyStopping( patience=5, monitor=monitor, mode=mode, restore_best_weights=True)\n",
        "\n",
        "  data = trainX, [trainY.reshape(*trainY.shape, 1)]\n",
        "  validation_data = testX, [testY.reshape(*testY.shape, 1)]\n",
        "\n",
        "  history = model.fit(*data, \n",
        "            epochs=EPOCHES, batch_size=BS, \n",
        "            validation_data=validation_data,\n",
        "            callbacks=[early_stop], verbose=1)\n",
        "\n",
        "  # plot validation loss vs training loss\n",
        "  plt.plot(history.history['loss'])\n",
        "  plt.plot(history.history['val_loss'])\n",
        "  plt.legend(['train','validation'])\n",
        "  plt.show()\n",
        "\n",
        "train_model(model)"
      ],
      "execution_count": 139,
      "outputs": [
        {
          "output_type": "stream",
          "text": [
            "Model: \"sequential_1\"\n",
            "_________________________________________________________________\n",
            "Layer (type)                 Output Shape              Param #   \n",
            "=================================================================\n",
            "embedding_19 (Embedding)     (None, 27, 512)           17920     \n",
            "_________________________________________________________________\n",
            "lstm_19 (LSTM)               (None, 512)               2099200   \n",
            "_________________________________________________________________\n",
            "repeat_vector_1 (RepeatVecto (None, 26, 512)           0         \n",
            "_________________________________________________________________\n",
            "lstm_20 (LSTM)               (None, 26, 512)           2099200   \n",
            "_________________________________________________________________\n",
            "dense_10 (Dense)             (None, 26, 115)           58995     \n",
            "=================================================================\n",
            "Total params: 4,275,315\n",
            "Trainable params: 4,275,315\n",
            "Non-trainable params: 0\n",
            "_________________________________________________________________\n",
            "Train on 23461 samples, validate on 2607 samples\n",
            "Epoch 1/100\n",
            "23461/23461 [==============================] - 14s 593us/step - loss: 1.7274 - val_loss: 1.2975\n",
            "Epoch 2/100\n",
            "23461/23461 [==============================] - 8s 347us/step - loss: 1.2642 - val_loss: 1.1488\n",
            "Epoch 3/100\n",
            "23461/23461 [==============================] - 8s 351us/step - loss: 1.0900 - val_loss: 1.0270\n",
            "Epoch 4/100\n",
            "23461/23461 [==============================] - 8s 350us/step - loss: 1.0280 - val_loss: 1.0029\n",
            "Epoch 5/100\n",
            "23461/23461 [==============================] - 8s 359us/step - loss: 1.0015 - val_loss: 0.9909\n",
            "Epoch 6/100\n",
            "23461/23461 [==============================] - 8s 349us/step - loss: 0.9801 - val_loss: 0.9512\n",
            "Epoch 7/100\n",
            "23461/23461 [==============================] - 8s 346us/step - loss: 0.9614 - val_loss: 0.9182\n",
            "Epoch 8/100\n",
            "23461/23461 [==============================] - 8s 344us/step - loss: 0.9239 - val_loss: 0.8928\n",
            "Epoch 9/100\n",
            "23461/23461 [==============================] - 8s 342us/step - loss: 0.8851 - val_loss: 0.8406\n",
            "Epoch 10/100\n",
            "23461/23461 [==============================] - 8s 346us/step - loss: 0.8350 - val_loss: 0.8106\n",
            "Epoch 11/100\n",
            "23461/23461 [==============================] - 8s 350us/step - loss: 0.7776 - val_loss: 0.7327\n",
            "Epoch 12/100\n",
            "23461/23461 [==============================] - 8s 352us/step - loss: 0.7299 - val_loss: 0.6768\n",
            "Epoch 13/100\n",
            "23461/23461 [==============================] - 8s 348us/step - loss: 0.6661 - val_loss: 0.6298\n",
            "Epoch 14/100\n",
            "23461/23461 [==============================] - 8s 348us/step - loss: 0.6056 - val_loss: 0.5810\n",
            "Epoch 15/100\n",
            "23461/23461 [==============================] - 8s 346us/step - loss: 0.5526 - val_loss: 0.5208\n",
            "Epoch 16/100\n",
            "23461/23461 [==============================] - 8s 345us/step - loss: 0.5071 - val_loss: 0.4715\n",
            "Epoch 17/100\n",
            "23461/23461 [==============================] - 8s 350us/step - loss: 0.4523 - val_loss: 0.4343\n",
            "Epoch 18/100\n",
            "23461/23461 [==============================] - 8s 348us/step - loss: 0.4154 - val_loss: 0.4077\n",
            "Epoch 19/100\n",
            "23461/23461 [==============================] - 8s 351us/step - loss: 0.3727 - val_loss: 0.3539\n",
            "Epoch 20/100\n",
            "23461/23461 [==============================] - 8s 351us/step - loss: 0.3337 - val_loss: 0.3671\n",
            "Epoch 21/100\n",
            "23461/23461 [==============================] - 8s 347us/step - loss: 0.3053 - val_loss: 0.3104\n",
            "Epoch 22/100\n",
            "23461/23461 [==============================] - 8s 346us/step - loss: 0.2735 - val_loss: 0.2700\n",
            "Epoch 23/100\n",
            "23461/23461 [==============================] - 8s 344us/step - loss: 0.2581 - val_loss: 0.2479\n",
            "Epoch 24/100\n",
            "23461/23461 [==============================] - 8s 338us/step - loss: 0.2267 - val_loss: 0.2313\n",
            "Epoch 25/100\n",
            "23461/23461 [==============================] - 8s 344us/step - loss: 0.2108 - val_loss: 0.2213\n",
            "Epoch 26/100\n",
            "23461/23461 [==============================] - 8s 346us/step - loss: 0.1950 - val_loss: 0.2054\n",
            "Epoch 27/100\n",
            "23461/23461 [==============================] - 8s 353us/step - loss: 0.1751 - val_loss: 0.1911\n",
            "Epoch 28/100\n",
            "23461/23461 [==============================] - 8s 343us/step - loss: 0.1568 - val_loss: 0.1795\n",
            "Epoch 29/100\n",
            "23461/23461 [==============================] - 8s 342us/step - loss: 0.1436 - val_loss: 0.1701\n",
            "Epoch 30/100\n",
            "23461/23461 [==============================] - 8s 343us/step - loss: 0.1364 - val_loss: 0.1670\n",
            "Epoch 31/100\n",
            "23461/23461 [==============================] - 8s 343us/step - loss: 0.1507 - val_loss: 0.1625\n",
            "Epoch 32/100\n",
            "23461/23461 [==============================] - 8s 340us/step - loss: 0.1195 - val_loss: 0.1489\n",
            "Epoch 33/100\n",
            "23461/23461 [==============================] - 8s 345us/step - loss: 0.1121 - val_loss: 0.1502\n",
            "Epoch 34/100\n",
            "23461/23461 [==============================] - 8s 350us/step - loss: 0.1018 - val_loss: 0.1408\n",
            "Epoch 35/100\n",
            "23461/23461 [==============================] - 8s 349us/step - loss: 0.0948 - val_loss: 0.1388\n",
            "Epoch 36/100\n",
            "23461/23461 [==============================] - 8s 340us/step - loss: 0.0920 - val_loss: 0.1362\n",
            "Epoch 37/100\n",
            "23461/23461 [==============================] - 8s 342us/step - loss: 0.0870 - val_loss: 0.1349\n",
            "Epoch 38/100\n",
            "23461/23461 [==============================] - 8s 347us/step - loss: 0.0935 - val_loss: 0.1449\n",
            "Epoch 39/100\n",
            "23461/23461 [==============================] - 8s 344us/step - loss: 0.0841 - val_loss: 0.1283\n",
            "Epoch 40/100\n",
            "23461/23461 [==============================] - 8s 348us/step - loss: 0.0719 - val_loss: 0.1265\n",
            "Epoch 41/100\n",
            "23461/23461 [==============================] - 8s 343us/step - loss: 0.0691 - val_loss: 0.1248\n",
            "Epoch 42/100\n",
            "23461/23461 [==============================] - 8s 352us/step - loss: 0.0726 - val_loss: 0.1261\n",
            "Epoch 43/100\n",
            "23461/23461 [==============================] - 8s 344us/step - loss: 0.0661 - val_loss: 0.1257\n",
            "Epoch 44/100\n",
            "23461/23461 [==============================] - 8s 342us/step - loss: 0.0606 - val_loss: 0.1189\n",
            "Epoch 45/100\n",
            "23461/23461 [==============================] - 8s 347us/step - loss: 0.0568 - val_loss: 0.1212\n",
            "Epoch 46/100\n",
            "23461/23461 [==============================] - 8s 342us/step - loss: 0.0571 - val_loss: 0.1210\n",
            "Epoch 47/100\n",
            "23461/23461 [==============================] - 8s 346us/step - loss: 0.0542 - val_loss: 0.1313\n",
            "Epoch 48/100\n",
            "23461/23461 [==============================] - 8s 347us/step - loss: 0.0636 - val_loss: 0.1227\n",
            "Epoch 49/100\n",
            "23461/23461 [==============================] - 8s 350us/step - loss: 0.0517 - val_loss: 0.1170\n",
            "Epoch 50/100\n",
            "23461/23461 [==============================] - 8s 347us/step - loss: 0.0472 - val_loss: 0.1182\n",
            "Epoch 51/100\n",
            "23461/23461 [==============================] - 8s 341us/step - loss: 0.0442 - val_loss: 0.1175\n",
            "Epoch 52/100\n",
            "23461/23461 [==============================] - 8s 345us/step - loss: 0.0416 - val_loss: 0.1165\n",
            "Epoch 53/100\n",
            "23461/23461 [==============================] - 8s 341us/step - loss: 0.0389 - val_loss: 0.1157\n",
            "Epoch 54/100\n",
            "23461/23461 [==============================] - 8s 342us/step - loss: 0.0372 - val_loss: 0.1159\n",
            "Epoch 55/100\n",
            "23461/23461 [==============================] - 8s 345us/step - loss: 0.0372 - val_loss: 0.1156\n",
            "Epoch 56/100\n",
            "23461/23461 [==============================] - 8s 345us/step - loss: 0.0367 - val_loss: 0.1154\n",
            "Epoch 57/100\n",
            "23461/23461 [==============================] - 8s 346us/step - loss: 0.0375 - val_loss: 0.1242\n",
            "Epoch 58/100\n",
            "23461/23461 [==============================] - 8s 342us/step - loss: 0.0422 - val_loss: 0.1229\n",
            "Epoch 59/100\n",
            "23461/23461 [==============================] - 8s 344us/step - loss: 0.0448 - val_loss: 0.1271\n",
            "Epoch 60/100\n",
            "23461/23461 [==============================] - 8s 344us/step - loss: 0.0572 - val_loss: 0.1406\n",
            "Epoch 61/100\n",
            "23461/23461 [==============================] - 8s 342us/step - loss: 0.0533 - val_loss: 0.1259\n"
          ],
          "name": "stdout"
        },
        {
          "output_type": "display_data",
          "data": {
            "image/png": "[encoded data removed]",
            "text/plain": [
              "<Figure size 432x288 with 1 Axes>"
            ]
          },
          "metadata": {
            "tags": []
          }
        }
      ]
    },
    {
      "cell_type": "markdown",
      "metadata": {
        "id": "HCCVHlIj_v-J",
        "colab_type": "text"
      },
      "source": [
        "### val_loss: 0.1154 - Not bad for the first model! Let's see if we could improve that further more"
      ]
    },
    {
      "cell_type": "code",
      "metadata": {
        "id": "xrrmwjFNAuXR",
        "colab_type": "code",
        "colab": {
          "base_uri": "https://localhost:8080/",
          "height": 1000
        },
        "outputId": "17db9960-4bb1-4faa-a286-a131c52302fc"
      },
      "source": [
        "def define_seq2seq_BiLSTM(in_vocab, out_vocab, in_timesteps, out_timesteps, units):\n",
        "  input = x = Input(shape=(None,))\n",
        "  x = Embedding(in_vocab, units, input_length=in_timesteps, mask_zero=True)(x)\n",
        "  x, h, c, h2, c2 = Bi(LSTM(units, return_state=True))(x)\n",
        "  x = Dropout(0.1)(x)\n",
        "  x = RepeatVector(out_timesteps)(x)\n",
        "  x = Bi(LSTM(units, return_sequences=True))(x, initial_state = (h, c, h2, c2))\n",
        "  x = Dropout(0.1)(x)\n",
        "  output = Dense(out_vocab, activation='softmax')(x)\n",
        "  model = Model(input, output)\n",
        "  model.summary()\n",
        "  model.compile(optimizer='adam', loss='sparse_categorical_crossentropy')\n",
        "  return model\n",
        "\n",
        "model = define_seq2seq_BiLSTM(rus_vocab_size, trn_vocab_size, rus_length, trn_length, 512)\n",
        "train_model(model)"
      ],
      "execution_count": 140,
      "outputs": [
        {
          "output_type": "stream",
          "text": [
            "WARNING:tensorflow:From /usr/local/lib/python3.6/dist-packages/keras/backend/tensorflow_backend.py:148: The name tf.placeholder_with_default is deprecated. Please use tf.compat.v1.placeholder_with_default instead.\n",
            "\n",
            "WARNING:tensorflow:From /usr/local/lib/python3.6/dist-packages/keras/backend/tensorflow_backend.py:3733: calling dropout (from tensorflow.python.ops.nn_ops) with keep_prob is deprecated and will be removed in a future version.\n",
            "Instructions for updating:\n",
            "Please use `rate` instead of `keep_prob`. Rate should be set to `rate = 1 - keep_prob`.\n",
            "Model: \"model_28\"\n",
            "__________________________________________________________________________________________________\n",
            "Layer (type)                    Output Shape         Param #     Connected to                     \n",
            "==================================================================================================\n",
            "input_37 (InputLayer)           (None, None)         0                                            \n",
            "__________________________________________________________________________________________________\n",
            "embedding_20 (Embedding)        (None, 27, 512)      17920       input_37[0][0]                   \n",
            "__________________________________________________________________________________________________\n",
            "bidirectional_1 (Bidirectional) [(None, 1024), (None 4198400     embedding_20[0][0]               \n",
            "__________________________________________________________________________________________________\n",
            "dropout_1 (Dropout)             (None, 1024)         0           bidirectional_1[0][0]            \n",
            "__________________________________________________________________________________________________\n",
            "repeat_vector_2 (RepeatVector)  (None, 26, 1024)     0           dropout_1[0][0]                  \n",
            "__________________________________________________________________________________________________\n",
            "bidirectional_2 (Bidirectional) (None, 26, 1024)     6295552     repeat_vector_2[0][0]            \n",
            "                                                                 bidirectional_1[0][1]            \n",
            "                                                                 bidirectional_1[0][2]            \n",
            "                                                                 bidirectional_1[0][3]            \n",
            "                                                                 bidirectional_1[0][4]            \n",
            "__________________________________________________________________________________________________\n",
            "dropout_2 (Dropout)             (None, 26, 1024)     0           bidirectional_2[0][0]            \n",
            "__________________________________________________________________________________________________\n",
            "dense_11 (Dense)                (None, 26, 115)      117875      dropout_2[0][0]                  \n",
            "==================================================================================================\n",
            "Total params: 10,629,747\n",
            "Trainable params: 10,629,747\n",
            "Non-trainable params: 0\n",
            "__________________________________________________________________________________________________\n",
            "Train on 23461 samples, validate on 2607 samples\n",
            "Epoch 1/100\n",
            "23461/23461 [==============================] - 27s 1ms/step - loss: 1.6406 - val_loss: 1.1620\n",
            "Epoch 2/100\n",
            "23461/23461 [==============================] - 19s 813us/step - loss: 1.0743 - val_loss: 0.9948\n",
            "Epoch 3/100\n",
            "23461/23461 [==============================] - 19s 811us/step - loss: 0.9864 - val_loss: 0.9334\n",
            "Epoch 4/100\n",
            "23461/23461 [==============================] - 19s 807us/step - loss: 0.9229 - val_loss: 0.8616\n",
            "Epoch 5/100\n",
            "23461/23461 [==============================] - 19s 793us/step - loss: 0.8311 - val_loss: 0.7603\n",
            "Epoch 6/100\n",
            "23461/23461 [==============================] - 19s 801us/step - loss: 0.7283 - val_loss: 0.6553\n",
            "Epoch 7/100\n",
            "23461/23461 [==============================] - 19s 807us/step - loss: 0.6347 - val_loss: 0.5658\n",
            "Epoch 8/100\n",
            "23461/23461 [==============================] - 19s 807us/step - loss: 0.5514 - val_loss: 0.5032\n",
            "Epoch 9/100\n",
            "23461/23461 [==============================] - 19s 802us/step - loss: 0.4802 - val_loss: 0.4323\n",
            "Epoch 10/100\n",
            "23461/23461 [==============================] - 19s 805us/step - loss: 0.4128 - val_loss: 0.3750\n",
            "Epoch 11/100\n",
            "23461/23461 [==============================] - 19s 800us/step - loss: 0.3577 - val_loss: 0.3189\n",
            "Epoch 12/100\n",
            "23461/23461 [==============================] - 19s 801us/step - loss: 0.3051 - val_loss: 0.2758\n",
            "Epoch 13/100\n",
            "23461/23461 [==============================] - 19s 807us/step - loss: 0.2666 - val_loss: 0.2523\n",
            "Epoch 14/100\n",
            "23461/23461 [==============================] - 19s 799us/step - loss: 0.2318 - val_loss: 0.2182\n",
            "Epoch 15/100\n",
            "23461/23461 [==============================] - 19s 797us/step - loss: 0.1912 - val_loss: 0.1902\n",
            "Epoch 16/100\n",
            "23461/23461 [==============================] - 19s 799us/step - loss: 0.1606 - val_loss: 0.1652\n",
            "Epoch 17/100\n",
            "23461/23461 [==============================] - 19s 804us/step - loss: 0.1390 - val_loss: 0.1500\n",
            "Epoch 18/100\n",
            "23461/23461 [==============================] - 19s 796us/step - loss: 0.1219 - val_loss: 0.1493\n",
            "Epoch 19/100\n",
            "23461/23461 [==============================] - 19s 799us/step - loss: 0.1099 - val_loss: 0.1291\n",
            "Epoch 20/100\n",
            "23461/23461 [==============================] - 19s 803us/step - loss: 0.0982 - val_loss: 0.1282\n",
            "Epoch 21/100\n",
            "23461/23461 [==============================] - 19s 796us/step - loss: 0.0925 - val_loss: 0.1239\n",
            "Epoch 22/100\n",
            "23461/23461 [==============================] - 19s 796us/step - loss: 0.0822 - val_loss: 0.1178\n",
            "Epoch 23/100\n",
            "23461/23461 [==============================] - 19s 803us/step - loss: 0.0763 - val_loss: 0.1170\n",
            "Epoch 24/100\n",
            "23461/23461 [==============================] - 19s 800us/step - loss: 0.0668 - val_loss: 0.1088\n",
            "Epoch 25/100\n",
            "23461/23461 [==============================] - 19s 795us/step - loss: 0.0605 - val_loss: 0.1065\n",
            "Epoch 26/100\n",
            "23461/23461 [==============================] - 19s 804us/step - loss: 0.0570 - val_loss: 0.1063\n",
            "Epoch 27/100\n",
            "23461/23461 [==============================] - 19s 797us/step - loss: 0.0540 - val_loss: 0.1090\n",
            "Epoch 28/100\n",
            "23461/23461 [==============================] - 19s 794us/step - loss: 0.0522 - val_loss: 0.1067\n",
            "Epoch 29/100\n",
            "23461/23461 [==============================] - 19s 803us/step - loss: 0.0492 - val_loss: 0.1044\n",
            "Epoch 30/100\n",
            "23461/23461 [==============================] - 19s 799us/step - loss: 0.0454 - val_loss: 0.1036\n",
            "Epoch 31/100\n",
            "23461/23461 [==============================] - 19s 796us/step - loss: 0.0420 - val_loss: 0.1047\n",
            "Epoch 32/100\n",
            "23461/23461 [==============================] - 19s 796us/step - loss: 0.0425 - val_loss: 0.1063\n",
            "Epoch 33/100\n",
            "23461/23461 [==============================] - 19s 803us/step - loss: 0.0461 - val_loss: 0.1089\n",
            "Epoch 34/100\n",
            "23461/23461 [==============================] - 19s 795us/step - loss: 0.0431 - val_loss: 0.1067\n",
            "Epoch 35/100\n",
            "23461/23461 [==============================] - 19s 802us/step - loss: 0.0399 - val_loss: 0.1046\n"
          ],
          "name": "stdout"
        },
        {
          "output_type": "display_data",
          "data": {
            "image/png": "[encoded data removed]",
            "text/plain": [
              "<Figure size 432x288 with 1 Axes>"
            ]
          },
          "metadata": {
            "tags": []
          }
        }
      ]
    },
    {
      "cell_type": "markdown",
      "metadata": {
        "id": "IIX2DfkcA0_Q",
        "colab_type": "text"
      },
      "source": [
        "### val_loss: 0.1036 = Bidirectional LSTM with states transfer slightly improves the result. What's next? Let's try 2 layers of LSTM in encoder-decoder"
      ]
    },
    {
      "cell_type": "code",
      "metadata": {
        "id": "LksHo8BAGep9",
        "colab_type": "code",
        "colab": {
          "base_uri": "https://localhost:8080/",
          "height": 1000
        },
        "outputId": "ccb46ce2-a6ef-44c6-9ed0-7c3c136a3096"
      },
      "source": [
        "def define_seq2seq_2LSTM(in_vocab, out_vocab, in_timesteps, out_timesteps, units):\n",
        "  input = x = Input(shape=(None,))\n",
        "  x = Embedding(in_vocab, units, input_length=in_timesteps, mask_zero=True)(x)\n",
        "  x, h, c = LSTM(units, return_sequences=True, return_state=True, go_backwards=True)(x)\n",
        "  x = Dropout(0.5)(x)\n",
        "  x, h2, c2 = LSTM(units, return_state=True)(x)\n",
        "  x = RepeatVector(out_timesteps)(x)\n",
        "  x = LSTM(units, return_sequences=True)(x, initial_state = (h, c))\n",
        "  x = Dropout(0.5)(x)\n",
        "  x = LSTM(units, return_sequences=True)(x, initial_state = (h2, c2))\n",
        "  output = Dense(out_vocab, activation='softmax')(x)\n",
        "  model = Model(input, output)\n",
        "  model.summary()\n",
        "  model.compile(optimizer='adam', loss='sparse_categorical_crossentropy')\n",
        "  return model\n",
        "\n",
        "model = define_seq2seq_2LSTM(rus_vocab_size, trn_vocab_size, rus_length, trn_length, 512)\n",
        "train_model(model)"
      ],
      "execution_count": 141,
      "outputs": [
        {
          "output_type": "stream",
          "text": [
            "Model: \"model_29\"\n",
            "__________________________________________________________________________________________________\n",
            "Layer (type)                    Output Shape         Param #     Connected to                     \n",
            "==================================================================================================\n",
            "input_38 (InputLayer)           (None, None)         0                                            \n",
            "__________________________________________________________________________________________________\n",
            "embedding_21 (Embedding)        (None, 27, 512)      17920       input_38[0][0]                   \n",
            "__________________________________________________________________________________________________\n",
            "lstm_23 (LSTM)                  [(None, 27, 512), (N 2099200     embedding_21[0][0]               \n",
            "__________________________________________________________________________________________________\n",
            "dropout_3 (Dropout)             (None, 27, 512)      0           lstm_23[0][0]                    \n",
            "__________________________________________________________________________________________________\n",
            "lstm_24 (LSTM)                  [(None, 512), (None, 2099200     dropout_3[0][0]                  \n",
            "__________________________________________________________________________________________________\n",
            "repeat_vector_3 (RepeatVector)  (None, 26, 512)      0           lstm_24[0][0]                    \n",
            "__________________________________________________________________________________________________\n",
            "lstm_25 (LSTM)                  (None, 26, 512)      2099200     repeat_vector_3[0][0]            \n",
            "                                                                 lstm_23[0][1]                    \n",
            "                                                                 lstm_23[0][2]                    \n",
            "__________________________________________________________________________________________________\n",
            "dropout_4 (Dropout)             (None, 26, 512)      0           lstm_25[0][0]                    \n",
            "__________________________________________________________________________________________________\n",
            "lstm_26 (LSTM)                  (None, 26, 512)      2099200     dropout_4[0][0]                  \n",
            "                                                                 lstm_24[0][1]                    \n",
            "                                                                 lstm_24[0][2]                    \n",
            "__________________________________________________________________________________________________\n",
            "dense_12 (Dense)                (None, 26, 115)      58995       lstm_26[0][0]                    \n",
            "==================================================================================================\n",
            "Total params: 8,473,715\n",
            "Trainable params: 8,473,715\n",
            "Non-trainable params: 0\n",
            "__________________________________________________________________________________________________\n",
            "Train on 23461 samples, validate on 2607 samples\n",
            "Epoch 1/100\n",
            "23461/23461 [==============================] - 24s 1ms/step - loss: 1.6918 - val_loss: 1.2456\n",
            "Epoch 2/100\n",
            "23461/23461 [==============================] - 17s 706us/step - loss: 1.1190 - val_loss: 1.0138\n",
            "Epoch 3/100\n",
            "23461/23461 [==============================] - 16s 694us/step - loss: 1.0079 - val_loss: 0.9705\n",
            "Epoch 4/100\n",
            "23461/23461 [==============================] - 16s 688us/step - loss: 0.9786 - val_loss: 0.9571\n",
            "Epoch 5/100\n",
            "23461/23461 [==============================] - 16s 693us/step - loss: 0.9620 - val_loss: 0.9356\n",
            "Epoch 6/100\n",
            "23461/23461 [==============================] - 16s 701us/step - loss: 0.9447 - val_loss: 0.9117\n",
            "Epoch 7/100\n",
            "23461/23461 [==============================] - 16s 696us/step - loss: 0.9102 - val_loss: 0.8715\n",
            "Epoch 8/100\n",
            "23461/23461 [==============================] - 16s 694us/step - loss: 0.8551 - val_loss: 0.8082\n",
            "Epoch 9/100\n",
            "23461/23461 [==============================] - 16s 702us/step - loss: 0.7879 - val_loss: 0.7266\n",
            "Epoch 10/100\n",
            "23461/23461 [==============================] - 16s 691us/step - loss: 0.7088 - val_loss: 0.6400\n",
            "Epoch 11/100\n",
            "23461/23461 [==============================] - 16s 698us/step - loss: 0.6246 - val_loss: 0.5499\n",
            "Epoch 12/100\n",
            "23461/23461 [==============================] - 16s 700us/step - loss: 0.5328 - val_loss: 0.4798\n",
            "Epoch 13/100\n",
            "23461/23461 [==============================] - 16s 701us/step - loss: 0.4440 - val_loss: 0.3787\n",
            "Epoch 14/100\n",
            "23461/23461 [==============================] - 16s 690us/step - loss: 0.3611 - val_loss: 0.3009\n",
            "Epoch 15/100\n",
            "23461/23461 [==============================] - 16s 689us/step - loss: 0.2943 - val_loss: 0.2460\n",
            "Epoch 16/100\n",
            "23461/23461 [==============================] - 16s 702us/step - loss: 0.2444 - val_loss: 0.2090\n",
            "Epoch 17/100\n",
            "23461/23461 [==============================] - 16s 702us/step - loss: 0.2049 - val_loss: 0.1788\n",
            "Epoch 18/100\n",
            "23461/23461 [==============================] - 16s 692us/step - loss: 0.1779 - val_loss: 0.1587\n",
            "Epoch 19/100\n",
            "23461/23461 [==============================] - 16s 692us/step - loss: 0.1572 - val_loss: 0.1416\n",
            "Epoch 20/100\n",
            "23461/23461 [==============================] - 16s 696us/step - loss: 0.1377 - val_loss: 0.1311\n",
            "Epoch 21/100\n",
            "23461/23461 [==============================] - 16s 696us/step - loss: 0.1280 - val_loss: 0.1237\n",
            "Epoch 22/100\n",
            "23461/23461 [==============================] - 16s 687us/step - loss: 0.1123 - val_loss: 0.1151\n",
            "Epoch 23/100\n",
            "23461/23461 [==============================] - 16s 693us/step - loss: 0.1013 - val_loss: 0.1081\n",
            "Epoch 24/100\n",
            "23461/23461 [==============================] - 16s 691us/step - loss: 0.0934 - val_loss: 0.1037\n",
            "Epoch 25/100\n",
            "23461/23461 [==============================] - 16s 685us/step - loss: 0.0874 - val_loss: 0.1027\n",
            "Epoch 26/100\n",
            "23461/23461 [==============================] - 16s 687us/step - loss: 0.0823 - val_loss: 0.0983\n",
            "Epoch 27/100\n",
            "23461/23461 [==============================] - 16s 688us/step - loss: 0.0790 - val_loss: 0.1029\n",
            "Epoch 28/100\n",
            "23461/23461 [==============================] - 16s 689us/step - loss: 0.0731 - val_loss: 0.0950\n",
            "Epoch 29/100\n",
            "23461/23461 [==============================] - 16s 685us/step - loss: 0.0677 - val_loss: 0.0928\n",
            "Epoch 30/100\n",
            "23461/23461 [==============================] - 16s 682us/step - loss: 0.0646 - val_loss: 0.0905\n",
            "Epoch 31/100\n",
            "23461/23461 [==============================] - 16s 698us/step - loss: 0.0594 - val_loss: 0.0892\n",
            "Epoch 32/100\n",
            "23461/23461 [==============================] - 16s 688us/step - loss: 0.0565 - val_loss: 0.0885\n",
            "Epoch 33/100\n",
            "23461/23461 [==============================] - 16s 687us/step - loss: 0.0538 - val_loss: 0.0871\n",
            "Epoch 34/100\n",
            "23461/23461 [==============================] - 16s 692us/step - loss: 0.0505 - val_loss: 0.0866\n",
            "Epoch 35/100\n",
            "23461/23461 [==============================] - 16s 690us/step - loss: 0.0487 - val_loss: 0.0882\n",
            "Epoch 36/100\n",
            "23461/23461 [==============================] - 16s 695us/step - loss: 0.0478 - val_loss: 0.0886\n",
            "Epoch 37/100\n",
            "23461/23461 [==============================] - 16s 693us/step - loss: 0.0450 - val_loss: 0.0850\n",
            "Epoch 38/100\n",
            "23461/23461 [==============================] - 16s 697us/step - loss: 0.0434 - val_loss: 0.0867\n",
            "Epoch 39/100\n",
            "23461/23461 [==============================] - 16s 688us/step - loss: 0.0427 - val_loss: 0.0867\n",
            "Epoch 40/100\n",
            "23461/23461 [==============================] - 16s 690us/step - loss: 0.0417 - val_loss: 0.0864\n",
            "Epoch 41/100\n",
            "23461/23461 [==============================] - 16s 693us/step - loss: 0.0394 - val_loss: 0.0884\n",
            "Epoch 42/100\n",
            "23461/23461 [==============================] - 16s 694us/step - loss: 0.0404 - val_loss: 0.0869\n"
          ],
          "name": "stdout"
        },
        {
          "output_type": "display_data",
          "data": {
            "image/png": "[encoded data removed]",
            "text/plain": [
              "<Figure size 432x288 with 1 Axes>"
            ]
          },
          "metadata": {
            "tags": []
          }
        }
      ]
    },
    {
      "cell_type": "markdown",
      "metadata": {
        "id": "pOGpMazwKiNS",
        "colab_type": "text"
      },
      "source": [
        "### val_loss: 0.0850 = Best result so far!"
      ]
    },
    {
      "cell_type": "markdown",
      "metadata": {
        "id": "i-ZvotPs48kU",
        "colab_type": "text"
      },
      "source": [
        "### Now that we've trained our model, let's see how it performs. Let's predict 15 random tokens from the test corpus"
      ]
    },
    {
      "cell_type": "code",
      "metadata": {
        "colab_type": "code",
        "outputId": "a94aa43e-fdba-4ea4-d458-c900239237a0",
        "id": "nTzqkY5ZtGdS",
        "colab": {
          "base_uri": "https://localhost:8080/",
          "height": 514
        }
      },
      "source": [
        "a = np.random.choice(len(testX), 15)\n",
        "\n",
        "x = testX[a]\n",
        "pred_ohe = model.predict(x, use_multiprocessing=True)\n",
        "pred = np.argmax(pred_ohe, axis=2)\n",
        "translation = trn_tokenizer.sequences_to_texts(pred)\n",
        "\n",
        "pred_df = pd.DataFrame({'actual' : trn_tokenizer.sequences_to_texts(testY[a]), 'predicted' : translation})\n",
        "pred_df"
      ],
      "execution_count": 142,
      "outputs": [
        {
          "output_type": "execute_result",
          "data": {
            "text/html": [
              "<div>\n",
              "<style scoped>\n",
              "    .dataframe tbody tr th:only-of-type {\n",
              "        vertical-align: middle;\n",
              "    }\n",
              "\n",
              "    .dataframe tbody tr th {\n",
              "        vertical-align: top;\n",
              "    }\n",
              "\n",
              "    .dataframe thead th {\n",
              "        text-align: right;\n",
              "    }\n",
              "</style>\n",
              "<table border=\"1\" class=\"dataframe\">\n",
              "  <thead>\n",
              "    <tr style=\"text-align: right;\">\n",
              "      <th></th>\n",
              "      <th>actual</th>\n",
              "      <th>predicted</th>\n",
              "    </tr>\n",
              "  </thead>\n",
              "  <tbody>\n",
              "    <tr>\n",
              "      <th>0</th>\n",
              "      <td>g r o1 z n ax' jax</td>\n",
              "      <td>g r o1 z n ax' jax</td>\n",
              "    </tr>\n",
              "    <tr>\n",
              "      <th>1</th>\n",
              "      <td>p r' 'i s u'1 sh' 'ix</td>\n",
              "      <td>p r' 'i s u'1 sh' 'e</td>\n",
              "    </tr>\n",
              "    <tr>\n",
              "      <th>2</th>\n",
              "      <td>s u m a1 r n ax' j'</td>\n",
              "      <td>s u m m a1 r n ax' j'</td>\n",
              "    </tr>\n",
              "    <tr>\n",
              "      <th>3</th>\n",
              "      <td>v ax z r a s t a'1 jax t</td>\n",
              "      <td>v ax z r a s t a'1 jax t</td>\n",
              "    </tr>\n",
              "    <tr>\n",
              "      <th>4</th>\n",
              "      <td>n ax z y v a1 ts ts ax'</td>\n",
              "      <td>n ax z y v a1 ts ts ax</td>\n",
              "    </tr>\n",
              "    <tr>\n",
              "      <th>5</th>\n",
              "      <td>m' 'ix zh d ux n a r o1 d n ax' j'</td>\n",
              "      <td>m' 'ix zh d ux n a r o1 d n ax' j'</td>\n",
              "    </tr>\n",
              "    <tr>\n",
              "      <th>6</th>\n",
              "      <td>y' n' 'ix ts y a1 t ax r ax m</td>\n",
              "      <td>i' n' 'ix ts y a1 t ax r ax m</td>\n",
              "    </tr>\n",
              "    <tr>\n",
              "      <th>7</th>\n",
              "      <td>f s p ax' m' 'i n a'1 jux ts ts ax</td>\n",
              "      <td>f s p ax' m' 'i n a'1 jux ts ts ax</td>\n",
              "    </tr>\n",
              "    <tr>\n",
              "      <th>8</th>\n",
              "      <td>z a t m' 'e'1 n' 'ix' jax</td>\n",
              "      <td>z a t m' 'e'1 n' 'ix' jax</td>\n",
              "    </tr>\n",
              "    <tr>\n",
              "      <th>9</th>\n",
              "      <td>f' 'i k s' 'i1 r ax v ax l</td>\n",
              "      <td>f' 'i k s' 'i1 r ax v ax l</td>\n",
              "    </tr>\n",
              "    <tr>\n",
              "      <th>10</th>\n",
              "      <td>'e k s p' 'e1 r t ax</td>\n",
              "      <td>e k s p' 'e1 r t ax</td>\n",
              "    </tr>\n",
              "    <tr>\n",
              "      <th>11</th>\n",
              "      <td>p' 'ix' r' 'i h o'1 d' 'ix</td>\n",
              "      <td>p' 'ix' r' 'i h o'1 d' 'ix</td>\n",
              "    </tr>\n",
              "    <tr>\n",
              "      <th>12</th>\n",
              "      <td>a' l' 'ix k s a n d r' 'i1 n s k ax v ax'</td>\n",
              "      <td>a' l' 'e1 k s ax n a' r' 'e1 n s k ax v ax</td>\n",
              "    </tr>\n",
              "    <tr>\n",
              "      <th>13</th>\n",
              "      <td>r a' s' 'i'1 j' s k' 'ix m</td>\n",
              "      <td>r a' s' 'i'1 j' s k' 'ix m</td>\n",
              "    </tr>\n",
              "    <tr>\n",
              "      <th>14</th>\n",
              "      <td>l ax' g' 'i' r' 'a1 gh</td>\n",
              "      <td>l ax' g' 'i' r' 'a1 h</td>\n",
              "    </tr>\n",
              "  </tbody>\n",
              "</table>\n",
              "</div>"
            ],
            "text/plain": [
              "                                       actual                                   predicted\n",
              "0                          g r o1 z n ax' jax                          g r o1 z n ax' jax\n",
              "1                       p r' 'i s u'1 sh' 'ix                        p r' 'i s u'1 sh' 'e\n",
              "2                         s u m a1 r n ax' j'                       s u m m a1 r n ax' j'\n",
              "3                    v ax z r a s t a'1 jax t                    v ax z r a s t a'1 jax t\n",
              "4                     n ax z y v a1 ts ts ax'                      n ax z y v a1 ts ts ax\n",
              "5          m' 'ix zh d ux n a r o1 d n ax' j'          m' 'ix zh d ux n a r o1 d n ax' j'\n",
              "6               y' n' 'ix ts y a1 t ax r ax m               i' n' 'ix ts y a1 t ax r ax m\n",
              "7          f s p ax' m' 'i n a'1 jux ts ts ax          f s p ax' m' 'i n a'1 jux ts ts ax\n",
              "8                   z a t m' 'e'1 n' 'ix' jax                   z a t m' 'e'1 n' 'ix' jax\n",
              "9                  f' 'i k s' 'i1 r ax v ax l                  f' 'i k s' 'i1 r ax v ax l\n",
              "10                       'e k s p' 'e1 r t ax                         e k s p' 'e1 r t ax\n",
              "11                 p' 'ix' r' 'i h o'1 d' 'ix                  p' 'ix' r' 'i h o'1 d' 'ix\n",
              "12  a' l' 'ix k s a n d r' 'i1 n s k ax v ax'  a' l' 'e1 k s ax n a' r' 'e1 n s k ax v ax\n",
              "13                 r a' s' 'i'1 j' s k' 'ix m                  r a' s' 'i'1 j' s k' 'ix m\n",
              "14                     l ax' g' 'i' r' 'a1 gh                       l ax' g' 'i' r' 'a1 h"
            ]
          },
          "metadata": {
            "tags": []
          },
          "execution_count": 142
        }
      ]
    },
    {
      "cell_type": "markdown",
      "metadata": {
        "id": "aj-i60ShaUU_",
        "colab_type": "text"
      },
      "source": [
        "### Now let's put all that together in a function"
      ]
    },
    {
      "cell_type": "code",
      "metadata": {
        "id": "c8pLj-TGaYDq",
        "colab_type": "code",
        "outputId": "eb6cba1e-7af2-4f68-b2e3-3995d126925b",
        "colab": {
          "base_uri": "https://localhost:8080/",
          "height": 139
        }
      },
      "source": [
        "import string\n",
        "\n",
        "def make_transctript(str):\n",
        "  input_string = rus_trn[a][0]\n",
        "  input_string = input_string.lower()\n",
        "  input_string = input_string.translate(str.maketrans('', '', string.punctuation))\n",
        "  input_string = [list(each) for each in input_string.split(' ')]\n",
        "  input_seq = encode_sequences(rus_tokenizer, rus_length, input_string)\n",
        "\n",
        "  pred_ohe = model.predict(input_seq, use_multiprocessing=True)\n",
        "  pred = np.argmax(pred_ohe, axis=2)\n",
        "  translation = trn_tokenizer.sequences_to_texts(pred)\n",
        "\n",
        "  translation = '%% ' + ' # '.join(translation) + ' %%'\n",
        "  translation = translation.replace('_ #', '_')\n",
        "  return translation.replace('<PNK>', '%% %%')\n",
        "\n",
        "a = np.random.choice(len(rus_trn))\n",
        "print(f'Original sentence in Russian (#{a})')\n",
        "print( rus_trn[a][0])\n",
        "print('Original transcript')\n",
        "print( rus_trn[a][1])\n",
        "print('Predicted transcript')\n",
        "print( make_transctript( rus_trn[a][0]) )"
      ],
      "execution_count": 144,
      "outputs": [
        {
          "output_type": "stream",
          "text": [
            "Original sentence in Russian (#10508)\n",
            "причиной разрыва труб мог стать дефект технического характера\n",
            "Original transcript\n",
            "%% p r' 'i' ch' 'i1 n ax' j' # r a z r y1 v ax # t r u1 p # m o1 k # s t a'1 d' # d' 'i' f' 'e1 k t # t' 'i h n' 'i'1 ch' 'ix s k ax v ax # h a r a1 k t' 'ix r a %%\n",
            "Predicted transcript\n",
            "%% p r' 'i' ch' 'i1 n ax' j' # r a z r y1 v ax # t r u1 p # m o1 g # s t a'1 t' # d' 'i' f' 'e1 k t # t' 'i h n' 'i'1 ch' 'ix s k ax v ax' # h a r a1 k t' 'ix r ax %%\n"
          ],
          "name": "stdout"
        }
      ]
    },
    {
      "cell_type": "markdown",
      "metadata": {
        "id": "75Ho1kBn39sp",
        "colab_type": "text"
      },
      "source": [
        "### Let's build seq2seq teacher forcing model. First let's prepare the data by modifying target_output and creating target_input"
      ]
    },
    {
      "cell_type": "code",
      "metadata": {
        "colab_type": "code",
        "outputId": "c2528094-25f9-4842-d75a-0352fa5c3ef6",
        "id": "GSgDSJl-fbR6",
        "colab": {
          "base_uri": "https://localhost:8080/",
          "height": 298
        }
      },
      "source": [
        "seen_rus = set()\n",
        "seen_trn = set()\n",
        "\n",
        "res, trn_l, rus_l = [], [], []\n",
        "for rus, trn in rus_trn:\n",
        "\n",
        "  if rus not in seen_rus or trn not in seen_trn:\n",
        "      seen_rus.add(rus)\n",
        "      seen_trn.add(trn)\n",
        "\n",
        "      # let's fix the errors in corpus\n",
        "      trn = trn.replace(\"f s t r a' n' 'e1\", \"f _ s t r a' n' 'e1\") \\\n",
        "              .replace(\"f t' 'u' r' m' 'e'1\", \"f _ t' 'u' r' m' 'e'1\") \\\n",
        "              .replace(\"f s' 'i' b' 'e1\", \"f _ s' 'i' b' 'e1\") \\\n",
        "              .replace(\"n' 'e'1 p' 'ix' r' 'ix t k' 'ix m\", \"n' 'e'1 # p' 'ix' r' 'ix t k' 'ix m\") \\\n",
        "              .replace(\"f p' 'i'1 sh' 'ux\", \"f _ p' 'i'1 sh' 'ux\") \\\n",
        "              .replace(\"f p l' 'ix' m' 'i n a1 h\", \"f _ p l' 'ix' m' 'i n a1 h\") \\\n",
        "              .replace(\"k ax n s u' l' 'i1 n u\", \"k _ ax n s u' l' 'i1 n u\") \\\n",
        "              .replace(\"f k o1 s m ax s\", \"f _ k o1 s m ax s\") \\\n",
        "              .replace(\"z' d' 'i' j' s t v' 'i'1 t' 'ix' l' n ax' s' t' j' 'u\", \"z' _ d' 'i' j' s t v' 'i'1 t' 'ix' l' n ax' s' t' j' 'u\") \\\n",
        "              .replace(\"g z ax b a s t o1 f k' 'e\", \"g _ z ax b a s t o1 f k' 'e\") \\\n",
        "              .replace(\"k m' 'ix s t ax r a zh d' 'e'1 n' 'ix' jax m\", \"k _ m' 'ix s t ax r a zh d' 'e'1 n' 'ix' jax m\") \\\n",
        "              .replace(\"f k a n ts e1\", \"f _ k a n ts e1\") \\\n",
        "              .replace(\"f p' 'i' r' 'i1 o t\", \"f _ p' 'i' r' 'i1 o t\") \\\n",
        "              .replace(\"f s' 'i k u1 n d u\", \"f _ s' 'i k u1 n d u\") \\\n",
        "              .replace(\"v' 'i'1 d' 'ixo' i _\", \"v' 'i'1 d' 'ixo' # i _\")\n",
        "\n",
        "      # '# <PNK>'\n",
        "      trn = trn[3:-3].replace('%% %%', '#') \\\n",
        "                .replace('_', '_ #') \\\n",
        "                .split('#')\n",
        "\n",
        "      rus = rus.replace(' же ', 'же ') \\\n",
        "                .replace(' бы ', 'бы ') \\\n",
        "                .replace(' ли ', 'ли ') \\\n",
        "                .replace(' не был', ' небыл') \\\n",
        "                .split(' ')\n",
        "\n",
        "      for a,b in zip(rus, trn):\n",
        "        b = b.strip().split(' ')\n",
        "        res.append((list(a), b + ['<eos>'], ['<sos>'] + b))\n",
        "        rus_l.append( len(a))\n",
        "        trn_l.append( len(b))\n",
        "\n",
        "rus_trn_new = array(res)\n",
        "trn_length = max(trn_l)\n",
        "rus_length = max(rus_l)\n",
        "print(f'max len rus: {rus_length}, max len trn: {trn_length}')\n",
        "fig, (ax1, ax2) = plt.subplots(nrows=1,ncols=2,figsize=(12,4))\n",
        "pd.DataFrame({'Number of tokens in Rus sentence':rus_l}).hist(ax=ax1, bins = 30);\n",
        "pd.DataFrame({'Number of tokens in Trns sentence':trn_l}).hist(ax=ax2, bins = 30);"
      ],
      "execution_count": 145,
      "outputs": [
        {
          "output_type": "stream",
          "text": [
            "max len rus: 27, max len trn: 26\n"
          ],
          "name": "stdout"
        },
        {
          "output_type": "display_data",
          "data": {
            "image/png": "[encoded data removed]",
            "text/plain": [
              "<Figure size 864x288 with 2 Axes>"
            ]
          },
          "metadata": {
            "tags": []
          }
        }
      ]
    },
    {
      "cell_type": "markdown",
      "metadata": {
        "id": "TjoaLvTvijPh",
        "colab_type": "text"
      },
      "source": [
        "### Since the data has changed we need to re-tokenize"
      ]
    },
    {
      "cell_type": "code",
      "metadata": {
        "colab_type": "code",
        "outputId": "992142a3-3b95-4bc4-85b5-669f90355ce2",
        "id": "icP-e8mcf_R5",
        "colab": {
          "base_uri": "https://localhost:8080/",
          "height": 51
        }
      },
      "source": [
        "def tokenization(lines, split=' '):\n",
        "  tokenizer = Tokenizer(filters='', lower=False, split=split)\n",
        "  tokenizer.fit_on_texts(lines)\n",
        "  return tokenizer\n",
        "\n",
        "def encode_sequences(tokenizer, length, lines):\n",
        "  seq = tokenizer.texts_to_sequences(lines)\n",
        "  seq = pad_sequences(sequences=seq, maxlen=length, padding='post')\n",
        "  return seq\n",
        "\n",
        "rus_tokenizer = tokenization(rus_trn_new[:, 0], split='')\n",
        "rus_vocab_size = len(rus_tokenizer.word_index) + 1\n",
        "rus_trn_new[0, 1] += ['<sos>']\n",
        "trn_tokenizer = tokenization(rus_trn_new[:, 1], split=' ')\n",
        "trn_vocab_size = len(trn_tokenizer.word_index) + 1\n",
        "print(f'Rus Vocabulary Size: {rus_vocab_size}')\n",
        "print(f'Trns Vocabulary Size: {trn_vocab_size}')"
      ],
      "execution_count": 146,
      "outputs": [
        {
          "output_type": "stream",
          "text": [
            "Rus Vocabulary Size: 35\n",
            "Trns Vocabulary Size: 117\n"
          ],
          "name": "stdout"
        }
      ]
    },
    {
      "cell_type": "markdown",
      "metadata": {
        "id": "phSHLDeOioBe",
        "colab_type": "text"
      },
      "source": [
        "### ...and now re-split the data"
      ]
    },
    {
      "cell_type": "code",
      "metadata": {
        "colab_type": "code",
        "outputId": "1c1e2088-a40f-4048-ac70-afe742c4fabe",
        "id": "9m1NFfZdgMvd",
        "colab": {
          "base_uri": "https://localhost:8080/",
          "height": 85
        }
      },
      "source": [
        "train, test = train_test_split(rus_trn_new, test_size=0.1, random_state = RS)\n",
        "\n",
        "# prepare training data\n",
        "trainX = encode_sequences(rus_tokenizer, rus_length, train[:, 0])\n",
        "trainX_ = encode_sequences(trn_tokenizer, trn_length, train[:, 2])\n",
        "trainY = encode_sequences(trn_tokenizer, trn_length, train[:, 1])\n",
        "\n",
        "# prepare validation data\n",
        "testX = encode_sequences(rus_tokenizer, rus_length, test[:, 0])\n",
        "testX_ = encode_sequences(trn_tokenizer, trn_length, test[:, 2])\n",
        "testY = encode_sequences(trn_tokenizer, trn_length, test[:, 1])\n",
        "\n",
        "a = np.random.choice(len(trainX))\n",
        "print(a)\n",
        "print( rus_tokenizer.sequences_to_texts([trainX[a]]) )\n",
        "print( trn_tokenizer.sequences_to_texts([trainY[a]]) )\n",
        "print( trn_tokenizer.sequences_to_texts([trainX_[a]]) )"
      ],
      "execution_count": 147,
      "outputs": [
        {
          "output_type": "stream",
          "text": [
            "20650\n",
            "['т е ч е н и е']\n",
            "[\"t' 'i' ch' 'e'1 n' 'ix' jax' <eos>\"]\n",
            "[\"<sos> t' 'i' ch' 'e'1 n' 'ix' jax'\"]\n"
          ],
          "name": "stdout"
        }
      ]
    },
    {
      "cell_type": "markdown",
      "metadata": {
        "id": "AW7NqeoRiuCL",
        "colab_type": "text"
      },
      "source": [
        "### Now let's define the model(s) and train it"
      ]
    },
    {
      "cell_type": "code",
      "metadata": {
        "id": "rwOy43R15_yn",
        "colab_type": "code",
        "outputId": "ee59ab87-c076-4b25-de26-05933dbdba7c",
        "colab": {
          "base_uri": "https://localhost:8080/",
          "height": 1000
        }
      },
      "source": [
        "def define_teacher_forcing(in_vocab, out_vocab, in_timesteps, out_timesteps, units):\n",
        "  #train model\n",
        "  # encoder\n",
        "  encoder_inputs = Input(shape=(None,))\n",
        "  encoder_embedding = Embedding(in_vocab, units, input_length=in_timesteps, mask_zero=True)\n",
        "  encoder = encoder_embedding(encoder_inputs)\n",
        "  _, h, c = LSTM(units, return_state=True)(encoder)\n",
        "  encoder_states = [h, c]\n",
        "  # decoder\n",
        "  decoder_inputs = Input(shape=(None,))\n",
        "  decoder_embedding = Embedding(out_vocab, units, input_length=out_timesteps, mask_zero=True)\n",
        "  decoder = decoder_embedding(decoder_inputs)\n",
        "  decoder_lstm = LSTM(units, return_sequences=True, return_state=True)\n",
        "  decoder_outputs, _, _ = decoder_lstm(decoder, initial_state=encoder_states)\n",
        "  decoder_dense = Dense(out_vocab, activation='softmax')\n",
        "  decoder_outputs = decoder_dense(decoder_outputs)\n",
        "  model = Model([encoder_inputs, decoder_inputs], decoder_outputs)\n",
        "\n",
        "  #inference models\n",
        "  # encoder\n",
        "  encoder_model = Model(encoder_inputs, encoder_states)\n",
        "  # decoder\n",
        "  decoder_state_input_h = Input(shape=(units,))\n",
        "  decoder_state_input_c = Input(shape=(units,))\n",
        "  decoder_states_inputs = [decoder_state_input_h, decoder_state_input_c]\n",
        "  decoder_outputs, h, c = decoder_lstm(decoder, initial_state=decoder_states_inputs)\n",
        "  decoder_states = [h, c]\n",
        "  decoder_outputs = decoder_dense(decoder_outputs)\n",
        "  decoder_model = Model([decoder_inputs] + decoder_states_inputs, [decoder_outputs] + decoder_states)\n",
        "  \n",
        "  return model, encoder_model, decoder_model\n",
        "\n",
        "model, encoder_model, decoder_model = define_teacher_forcing(rus_vocab_size, trn_vocab_size, rus_length, trn_length, 512)\n",
        "model.summary()\n",
        "encoder_model.summary()\n",
        "decoder_model.summary()\n",
        "model.compile(optimizer='adam', loss='sparse_categorical_crossentropy')\n",
        "\n",
        "monitor = 'val_loss'\n",
        "mode = 'min'\n",
        "early_stop = EarlyStopping( patience=5, monitor=monitor, mode=mode, restore_best_weights=True)\n",
        "\n",
        "data = [trainX, trainX_], trainY.reshape(*trainY.shape, 1)\n",
        "validation_data = [testX, testX_], testY.reshape(*testY.shape, 1)\n",
        "\n",
        "history = model.fit(*data, \n",
        "          epochs=EPOCHES, batch_size=BS, \n",
        "          validation_data=validation_data,\n",
        "          callbacks=[early_stop], verbose=1)\n",
        "\n",
        "# plot validation loss vs training loss\n",
        "plt.plot(history.history['loss'])\n",
        "plt.plot(history.history['val_loss'])\n",
        "plt.legend(['train','validation'])\n",
        "plt.show()"
      ],
      "execution_count": 149,
      "outputs": [
        {
          "output_type": "stream",
          "text": [
            "Model: \"model_33\"\n",
            "__________________________________________________________________________________________________\n",
            "Layer (type)                    Output Shape         Param #     Connected to                     \n",
            "==================================================================================================\n",
            "input_43 (InputLayer)           (None, None)         0                                            \n",
            "__________________________________________________________________________________________________\n",
            "input_44 (InputLayer)           (None, None)         0                                            \n",
            "__________________________________________________________________________________________________\n",
            "embedding_24 (Embedding)        (None, 27, 512)      17920       input_43[0][0]                   \n",
            "__________________________________________________________________________________________________\n",
            "embedding_25 (Embedding)        (None, 26, 512)      59904       input_44[0][0]                   \n",
            "__________________________________________________________________________________________________\n",
            "lstm_29 (LSTM)                  [(None, 512), (None, 2099200     embedding_24[0][0]               \n",
            "__________________________________________________________________________________________________\n",
            "lstm_30 (LSTM)                  [(None, 26, 512), (N 2099200     embedding_25[0][0]               \n",
            "                                                                 lstm_29[0][1]                    \n",
            "                                                                 lstm_29[0][2]                    \n",
            "__________________________________________________________________________________________________\n",
            "dense_14 (Dense)                (None, 26, 117)      60021       lstm_30[0][0]                    \n",
            "==================================================================================================\n",
            "Total params: 4,336,245\n",
            "Trainable params: 4,336,245\n",
            "Non-trainable params: 0\n",
            "__________________________________________________________________________________________________\n",
            "Model: \"model_34\"\n",
            "_________________________________________________________________\n",
            "Layer (type)                 Output Shape              Param #   \n",
            "=================================================================\n",
            "input_43 (InputLayer)        (None, None)              0         \n",
            "_________________________________________________________________\n",
            "embedding_24 (Embedding)     (None, 27, 512)           17920     \n",
            "_________________________________________________________________\n",
            "lstm_29 (LSTM)               [(None, 512), (None, 512) 2099200   \n",
            "=================================================================\n",
            "Total params: 2,117,120\n",
            "Trainable params: 2,117,120\n",
            "Non-trainable params: 0\n",
            "_________________________________________________________________\n",
            "Model: \"model_35\"\n",
            "__________________________________________________________________________________________________\n",
            "Layer (type)                    Output Shape         Param #     Connected to                     \n",
            "==================================================================================================\n",
            "input_44 (InputLayer)           (None, None)         0                                            \n",
            "__________________________________________________________________________________________________\n",
            "embedding_25 (Embedding)        (None, 26, 512)      59904       input_44[0][0]                   \n",
            "__________________________________________________________________________________________________\n",
            "input_45 (InputLayer)           (None, 512)          0                                            \n",
            "__________________________________________________________________________________________________\n",
            "input_46 (InputLayer)           (None, 512)          0                                            \n",
            "__________________________________________________________________________________________________\n",
            "lstm_30 (LSTM)                  [(None, 26, 512), (N 2099200     embedding_25[0][0]               \n",
            "                                                                 input_45[0][0]                   \n",
            "                                                                 input_46[0][0]                   \n",
            "__________________________________________________________________________________________________\n",
            "dense_14 (Dense)                (None, 26, 117)      60021       lstm_30[1][0]                    \n",
            "==================================================================================================\n",
            "Total params: 2,219,125\n",
            "Trainable params: 2,219,125\n",
            "Non-trainable params: 0\n",
            "__________________________________________________________________________________________________\n",
            "Train on 23461 samples, validate on 2607 samples\n",
            "Epoch 1/100\n",
            "23461/23461 [==============================] - 16s 689us/step - loss: 3.6815 - val_loss: 2.9889\n",
            "Epoch 2/100\n",
            "23461/23461 [==============================] - 8s 356us/step - loss: 2.4875 - val_loss: 2.0235\n",
            "Epoch 3/100\n",
            "23461/23461 [==============================] - 8s 350us/step - loss: 1.6709 - val_loss: 1.3788\n",
            "Epoch 4/100\n",
            "23461/23461 [==============================] - 8s 353us/step - loss: 1.1233 - val_loss: 0.9175\n",
            "Epoch 5/100\n",
            "23461/23461 [==============================] - 8s 355us/step - loss: 0.7789 - val_loss: 0.6846\n",
            "Epoch 6/100\n",
            "23461/23461 [==============================] - 9s 368us/step - loss: 0.5830 - val_loss: 0.5373\n",
            "Epoch 7/100\n",
            "23461/23461 [==============================] - 8s 357us/step - loss: 0.4576 - val_loss: 0.4497\n",
            "Epoch 8/100\n",
            "23461/23461 [==============================] - 8s 356us/step - loss: 0.3764 - val_loss: 0.3954\n",
            "Epoch 9/100\n",
            "23461/23461 [==============================] - 8s 354us/step - loss: 0.3174 - val_loss: 0.3600\n",
            "Epoch 10/100\n",
            "23461/23461 [==============================] - 8s 349us/step - loss: 0.2767 - val_loss: 0.3272\n",
            "Epoch 11/100\n",
            "23461/23461 [==============================] - 8s 350us/step - loss: 0.2401 - val_loss: 0.3083\n",
            "Epoch 12/100\n",
            "23461/23461 [==============================] - 8s 346us/step - loss: 0.2172 - val_loss: 0.2965\n",
            "Epoch 13/100\n",
            "23461/23461 [==============================] - 8s 353us/step - loss: 0.1953 - val_loss: 0.2801\n",
            "Epoch 14/100\n",
            "23461/23461 [==============================] - 8s 360us/step - loss: 0.1760 - val_loss: 0.2691\n",
            "Epoch 15/100\n",
            "23461/23461 [==============================] - 8s 355us/step - loss: 0.1597 - val_loss: 0.2640\n",
            "Epoch 16/100\n",
            "23461/23461 [==============================] - 8s 357us/step - loss: 0.1471 - val_loss: 0.2567\n",
            "Epoch 17/100\n",
            "23461/23461 [==============================] - 8s 349us/step - loss: 0.1372 - val_loss: 0.2566\n",
            "Epoch 18/100\n",
            "23461/23461 [==============================] - 8s 352us/step - loss: 0.1276 - val_loss: 0.2544\n",
            "Epoch 19/100\n",
            "23461/23461 [==============================] - 8s 347us/step - loss: 0.1202 - val_loss: 0.2543\n",
            "Epoch 20/100\n",
            "23461/23461 [==============================] - 8s 350us/step - loss: 0.1129 - val_loss: 0.2486\n",
            "Epoch 21/100\n",
            "23461/23461 [==============================] - 8s 358us/step - loss: 0.1073 - val_loss: 0.2456\n",
            "Epoch 22/100\n",
            "23461/23461 [==============================] - 8s 360us/step - loss: 0.1015 - val_loss: 0.2492\n",
            "Epoch 23/100\n",
            "23461/23461 [==============================] - 8s 355us/step - loss: 0.0972 - val_loss: 0.2501\n",
            "Epoch 24/100\n",
            "23461/23461 [==============================] - 8s 352us/step - loss: 0.0942 - val_loss: 0.2508\n",
            "Epoch 25/100\n",
            "23461/23461 [==============================] - 8s 350us/step - loss: 0.0914 - val_loss: 0.2494\n",
            "Epoch 26/100\n",
            "23461/23461 [==============================] - 8s 352us/step - loss: 0.0869 - val_loss: 0.2488\n"
          ],
          "name": "stdout"
        },
        {
          "output_type": "display_data",
          "data": {
            "image/png": "[encoded data removed]",
            "text/plain": [
              "<Figure size 432x288 with 1 Axes>"
            ]
          },
          "metadata": {
            "tags": []
          }
        }
      ]
    },
    {
      "cell_type": "markdown",
      "metadata": {
        "id": "JASOIhxaizf8",
        "colab_type": "text"
      },
      "source": [
        "### Strangely enough the result of teacher forcing is worse then sequential seq2seq (val_loss: 0.2492 vs val_loss: 0.1154)"
      ]
    },
    {
      "cell_type": "code",
      "metadata": {
        "id": "mN2EsCYpUvNi",
        "colab_type": "code",
        "colab": {
          "base_uri": "https://localhost:8080/",
          "height": 97
        },
        "outputId": "87731552-fac1-4bb2-e470-9c9d1dca21bf"
      },
      "source": [
        "a = np.random.choice(len(testX), 1)\n",
        "translation = []\n",
        "for i in a:\n",
        "  input_seq = testX[i]\n",
        "  states_value = encoder_model.predict(input_seq, use_multiprocessing=True)\n",
        "  target_seq = np.zeros((1,trn_length))\n",
        "  target_seq[0, 0] = trn_tokenizer.word_index['<sos>']\n",
        "  eos = trn_tokenizer.word_index['<eos>']\n",
        "  output_sentence = []\n",
        "  p = testY[i]\n",
        "  for j in range(trn_length):\n",
        "      pred_ohe, h, c = decoder_model.predict([target_seq] + states_value, use_multiprocessing=True)\n",
        "      idx = np.argmax(pred_ohe[0, 0, :])\n",
        "      if idx in [eos, 0]: break\n",
        "\n",
        "      if idx not in [0] :\n",
        "        token = trn_tokenizer.index_word[idx]\n",
        "        output_sentence.append(token)\n",
        "\n",
        "      target_seq[0, 0] = p[j]\n",
        "      states_value = [h, c]\n",
        "\n",
        "  translation = ' '.join(output_sentence)\n",
        "  print(translation)\n",
        "\n",
        "pred_df = pd.DataFrame({'actual' : trn_tokenizer.sequences_to_texts(testY[a]), 'predicted' : translation})\n",
        "pred_df"
      ],
      "execution_count": 151,
      "outputs": [
        {
          "output_type": "stream",
          "text": [
            "s _\n"
          ],
          "name": "stdout"
        },
        {
          "output_type": "execute_result",
          "data": {
            "text/html": [
              "<div>\n",
              "<style scoped>\n",
              "    .dataframe tbody tr th:only-of-type {\n",
              "        vertical-align: middle;\n",
              "    }\n",
              "\n",
              "    .dataframe tbody tr th {\n",
              "        vertical-align: top;\n",
              "    }\n",
              "\n",
              "    .dataframe thead th {\n",
              "        text-align: right;\n",
              "    }\n",
              "</style>\n",
              "<table border=\"1\" class=\"dataframe\">\n",
              "  <thead>\n",
              "    <tr style=\"text-align: right;\">\n",
              "      <th></th>\n",
              "      <th>actual</th>\n",
              "      <th>predicted</th>\n",
              "    </tr>\n",
              "  </thead>\n",
              "  <tbody>\n",
              "    <tr>\n",
              "      <th>0</th>\n",
              "      <td>s' 'e'1 v' 'ix r n ax m ux &lt;eos&gt;</td>\n",
              "      <td>s _</td>\n",
              "    </tr>\n",
              "  </tbody>\n",
              "</table>\n",
              "</div>"
            ],
            "text/plain": [
              "                             actual predicted\n",
              "0  s' 'e'1 v' 'ix r n ax m ux <eos>       s _"
            ]
          },
          "metadata": {
            "tags": []
          },
          "execution_count": 151
        }
      ]
    },
    {
      "cell_type": "markdown",
      "metadata": {
        "id": "RH2fegkjjNZY",
        "colab_type": "text"
      },
      "source": [
        "### The prediction results are disappointing"
      ]
    },
    {
      "cell_type": "markdown",
      "metadata": {
        "id": "qp0hX-6XjUJo",
        "colab_type": "text"
      },
      "source": [
        "### So the best model is 2 layers 512 LSTM seq2seq model with reveresed input on the first layer. Note that clearing and altering the input data helped a lot to get this score"
      ]
    }
  ]
}