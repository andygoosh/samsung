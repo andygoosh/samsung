{
  "nbformat": 4,
  "nbformat_minor": 0,
  "metadata": {
    "colab": {
      "name": "workinprogress.ipynb",
      "provenance": [],
      "authorship_tag": "ABX9TyOz/J9xyWEiK0Ks0iUlmBRu",
      "include_colab_link": true
    },
    "kernelspec": {
      "name": "python3",
      "display_name": "Python 3"
    }
  },
  "cells": [
    {
      "cell_type": "markdown",
      "metadata": {
        "id": "view-in-github",
        "colab_type": "text"
      },
      "source": [
        "<a href=\"https://colab.research.google.com/github/andygoosh/samsung/blob/master/workinprogress.ipynb\" target=\"_parent\"><img src=\"https://colab.research.google.com/assets/colab-badge.svg\" alt=\"Open In Colab\"/></a>"
      ]
    },
    {
      "cell_type": "code",
      "metadata": {
        "id": "r_Mg8x0gASeS",
        "colab_type": "code",
        "colab": {
          "base_uri": "https://localhost:8080/",
          "height": 34
        },
        "outputId": "0f174199-ccd5-41ca-ce91-403a0f71f3ea"
      },
      "source": [
        "from pathlib import Path\n",
        "from google.colab import files, drive\n",
        "from collections import defaultdict\n",
        "\n",
        "import pandas as pd\n",
        "import numpy as np\n",
        "from numpy import array, argmax, random, take\n",
        "import matplotlib.pyplot as plt\n",
        "from collections import Counter\n",
        "%matplotlib inline\n",
        "\n",
        "drive.mount('/content/gdrive')\n",
        "data_path = Path('/content/gdrive') / 'My Drive/Samsung'\n"
      ],
      "execution_count": 217,
      "outputs": [
        {
          "output_type": "stream",
          "text": [
            "Drive already mounted at /content/gdrive; to attempt to forcibly remount, call drive.mount(\"/content/gdrive\", force_remount=True).\n"
          ],
          "name": "stdout"
        }
      ]
    },
    {
      "cell_type": "code",
      "metadata": {
        "id": "ze9lEBcZB4A_",
        "colab_type": "code",
        "colab": {
          "base_uri": "https://localhost:8080/",
          "height": 88
        },
        "outputId": "2d7cfe59-2592-4b01-f9fc-fc767fa393ff"
      },
      "source": [
        "dict = defaultdict(list)\n",
        "rus_trn = []\n",
        "rem = []\n",
        "with open(data_path / 'transcriptions') as f:  \n",
        "  for line in f: \n",
        "    rus, trn = line.split('\\t')\n",
        "    rus_trn.append([rus.strip(), trn.strip()])\n",
        "\n",
        "rus_trn = array(rus_trn)\n",
        "len(rus_trn)\n",
        "rus_trn[24]\n",
        "# rem[24:26]"
      ],
      "execution_count": 39,
      "outputs": [
        {
          "output_type": "execute_result",
          "data": {
            "text/plain": [
              "array(['отношение числа городских и сельских жителей четыре к одному',\n",
              "       \"%% a t n a sh e'1 n' 'ix' jax' # ch' 'i s l a1 # g ax r a ts k' 'i1 h # y' _ s' 'e'1 l' s k' 'ix gh # zh y'1 t' 'ix' l' 'ix' j' %% %% ch' 'i t y'1 r' 'ix # k _ ax d n a m u1 %%\"],\n",
              "      dtype='<U303')"
            ]
          },
          "metadata": {
            "tags": []
          },
          "execution_count": 39
        }
      ]
    },
    {
      "cell_type": "code",
      "metadata": {
        "id": "4fznr-0SJ9nU",
        "colab_type": "code",
        "colab": {
          "base_uri": "https://localhost:8080/",
          "height": 298
        },
        "outputId": "99a5158f-652b-4b56-895a-44b455fffb6d"
      },
      "source": [
        "import re\n",
        "\n",
        "eng_l = []\n",
        "deu_l = []\n",
        "\n",
        "anomaly = []\n",
        "\n",
        "seen = defaultdict(list)\n",
        "chars = Counter()\n",
        "\n",
        "# populate the lists with sentence lengths\n",
        "for j,i in enumerate(rus_trn):\n",
        "      rus = i[0].split()\n",
        "      trn = re.split('#|_|% %|%% %%',i[1])\n",
        "\n",
        "      if not i[0] in seen:\n",
        "        if abs(len(rus) - len(trn)) > 1: \n",
        "          anomaly.append(i)\n",
        "        else:\n",
        "          eng_l.append(len(rus))\n",
        "          deu_l.append(len(trn))\n",
        "\n",
        "        chars += Counter(i[0])  \n",
        "\n",
        "      seen[i[0]].append(j)\n",
        "\n",
        "pd.DataFrame({'rus':eng_l}).hist(bins = 30);\n",
        "print(f'Unique phrases: {len(eng_l)} out of {len(rus_trn)}, Anomalies: {len(anomaly)}')"
      ],
      "execution_count": 211,
      "outputs": [
        {
          "output_type": "stream",
          "text": [
            "Unique phrases: 3130 out of 50277, Anomalies: 1\n"
          ],
          "name": "stdout"
        },
        {
          "output_type": "display_data",
          "data": {
            "image/png": "[encoded data removed]",
            "text/plain": [
              "<Figure size 432x288 with 1 Axes>"
            ]
          },
          "metadata": {
            "tags": []
          }
        }
      ]
    },
    {
      "cell_type": "code",
      "metadata": {
        "id": "LyV9anvZn187",
        "colab_type": "code",
        "colab": {
          "base_uri": "https://localhost:8080/",
          "height": 265
        },
        "outputId": "8e1e072e-97bf-44b4-e26a-824004b0991d"
      },
      "source": [
        "s = sorted(chars.items())\n",
        "pd.DataFrame(s, index=(e[0]+' ' for e in s)).plot.bar(figsize=(18,4), rot=0);"
      ],
      "execution_count": 204,
      "outputs": [
        {
          "output_type": "display_data",
          "data": {
            "image/png": "[encoded data removed]",
            "text/plain": [
              "<Figure size 1296x288 with 1 Axes>"
            ]
          },
          "metadata": {
            "tags": []
          }
        }
      ]
    },
    {
      "cell_type": "code",
      "metadata": {
        "id": "04INIi0jYURy",
        "colab_type": "code",
        "colab": {}
      },
      "source": [
        "{each[0]: len(each[1]) for each in seen.items()}"
      ],
      "execution_count": 0,
      "outputs": []
    },
    {
      "cell_type": "code",
      "metadata": {
        "id": "BwjfXjP56aSS",
        "colab_type": "code",
        "colab": {
          "base_uri": "https://localhost:8080/",
          "height": 274
        },
        "outputId": "4843c0cd-34ca-40ff-99ac-579e3f2a6d00"
      },
      "source": [
        "lens = [len(each[1]) for each in seen.items()]\n",
        "unq = np.unique(lens)\n",
        "qty = [lens.count(each) for each in unq]\n",
        "pd.DataFrame(qty, index=unq).plot.bar();"
      ],
      "execution_count": 228,
      "outputs": [
        {
          "output_type": "display_data",
          "data": {
            "image/png": "[encoded data removed]",
            "text/plain": [
              "<Figure size 432x288 with 1 Axes>"
            ]
          },
          "metadata": {
            "tags": []
          }
        }
      ]
    },
    {
      "cell_type": "code",
      "metadata": {
        "id": "ETHAiJ2s6dJX",
        "colab_type": "code",
        "colab": {}
      },
      "source": [
        ""
      ],
      "execution_count": 0,
      "outputs": []
    }
  ]
}