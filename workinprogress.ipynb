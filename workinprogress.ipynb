{
  "nbformat": 4,
  "nbformat_minor": 0,
  "metadata": {
    "colab": {
      "name": "workinprogress.ipynb",
      "provenance": [],
      "include_colab_link": true
    },
    "kernelspec": {
      "name": "python3",
      "display_name": "Python 3"
    },
    "accelerator": "GPU"
  },
  "cells": [
    {
      "cell_type": "markdown",
      "metadata": {
        "id": "view-in-github",
        "colab_type": "text"
      },
      "source": [
        "<a href=\"https://colab.research.google.com/github/andygoosh/samsung/blob/master/workinprogress.ipynb\" target=\"_parent\"><img src=\"https://colab.research.google.com/assets/colab-badge.svg\" alt=\"Open In Colab\"/></a>"
      ]
    },
    {
      "cell_type": "code",
      "metadata": {
        "id": "r_Mg8x0gASeS",
        "colab_type": "code",
        "outputId": "3f4a2b0d-0c7e-4e94-cc85-f9cc94bf8947",
        "colab": {
          "base_uri": "https://localhost:8080/",
          "height": 34
        }
      },
      "source": [
        "from pathlib import Path\n",
        "from google.colab import files, drive\n",
        "from collections import defaultdict\n",
        "\n",
        "import re\n",
        "import random as rn\n",
        "import pandas as pd\n",
        "import numpy as np\n",
        "from numpy import array, argmax, random, take\n",
        "import matplotlib.pyplot as plt\n",
        "from collections import Counter\n",
        "%matplotlib inline\n",
        "\n",
        "from sklearn.model_selection import train_test_split\n",
        "\n",
        "import tensorflow as tf\n",
        "from keras.preprocessing.sequence import pad_sequences\n",
        "from keras.preprocessing.text import Tokenizer\n",
        "from keras.models import Sequential, Model\n",
        "from keras.layers import Input, Dropout, Dense, LSTM, GRU, Embedding, RepeatVector, Lambda, TimeDistributed\n",
        "from keras.layers import Bidirectional as Bi\n",
        "from keras import optimizers\n",
        "from keras.models import load_model\n",
        "from keras.callbacks import ModelCheckpoint, EarlyStopping\n",
        "\n",
        "RS = 77\n",
        "rn.seed(RS)\n",
        "# tf.random.set_seed(RS)\n",
        "np.random.seed(RS)\n",
        "np.random.RandomState(RS)\n",
        "\n",
        "gpath = Path('/content/gdrive')\n",
        "drive.mount(str(gpath))\n",
        "data_file = gpath / 'My Drive/Samsung' / 'transcriptions'"
      ],
      "execution_count": 126,
      "outputs": [
        {
          "output_type": "stream",
          "text": [
            "Drive already mounted at /content/gdrive; to attempt to forcibly remount, call drive.mount(\"/content/gdrive\", force_remount=True).\n"
          ],
          "name": "stdout"
        }
      ]
    },
    {
      "cell_type": "markdown",
      "metadata": {
        "id": "8KByWPn1DbpS",
        "colab_type": "text"
      },
      "source": [
        "#### Let's look at the data in given file"
      ]
    },
    {
      "cell_type": "code",
      "metadata": {
        "id": "PNLzpBAGDgAI",
        "colab_type": "code",
        "outputId": "65408db0-6169-4fb9-ee29-7d821a4df516",
        "colab": {
          "base_uri": "https://localhost:8080/",
          "height": 71
        }
      },
      "source": [
        "with data_file.open() as f:  \n",
        "    print(f.readline())"
      ],
      "execution_count": 193,
      "outputs": [
        {
          "output_type": "stream",
          "text": [
            "аукционы на дешёвое жильё проводятся регулярно\t%% a u k ts y o1 n ax # n ax' _ d' 'i sh o1 v ax' jax # zh y' l' j' 'o1 # p r a v o'1 d' 'ax ts ts ax' # r' 'ix g u' l' 'a1 r n a %%\n",
            "\n"
          ],
          "name": "stdout"
        }
      ]
    },
    {
      "cell_type": "markdown",
      "metadata": {
        "id": "Xmvmq8NkDzzF",
        "colab_type": "text"
      },
      "source": [
        "#### Notice that:\n",
        "1. russian sentence is separated from transcript with '\\t'\n",
        "2. the begining and the end of transcript part are marked by '%%'"
      ]
    },
    {
      "cell_type": "markdown",
      "metadata": {
        "id": "t9inDldeBBz8",
        "colab_type": "text"
      },
      "source": [
        "### Let's read the data and split it into rus and trans"
      ]
    },
    {
      "cell_type": "code",
      "metadata": {
        "id": "ze9lEBcZB4A_",
        "colab_type": "code",
        "outputId": "60e30cf1-2db6-4321-bb16-b732a7827659",
        "colab": {
          "base_uri": "https://localhost:8080/",
          "height": 34
        }
      },
      "source": [
        "rus_trn = []\n",
        "with data_file.open() as f:  \n",
        "  for line in f: \n",
        "    rus, trn = line.split('\\t')\n",
        "    rus_trn.append([rus.strip(), trn.strip()])\n",
        "\n",
        "print(f'Number of sentences in corpus: {len(rus_trn)}')"
      ],
      "execution_count": 128,
      "outputs": [
        {
          "output_type": "stream",
          "text": [
            "Number of sentences in corpus: 50277\n"
          ],
          "name": "stdout"
        }
      ]
    },
    {
      "cell_type": "markdown",
      "metadata": {
        "id": "gjFV-XOHBN8o",
        "colab_type": "text"
      },
      "source": [
        "##### Let's look at some sentences\n"
      ]
    },
    {
      "cell_type": "code",
      "metadata": {
        "id": "iaCdAWXfBS-H",
        "colab_type": "code",
        "outputId": "473b0bb5-fbd7-4d17-f9c6-bfff70102dca",
        "colab": {
          "base_uri": "https://localhost:8080/",
          "height": 139
        }
      },
      "source": [
        "a,b,c = np.random.choice(len(rus_trn), 3)\n",
        "\n",
        "print(rus_trn[a][0])\n",
        "print(rus_trn[a][1])\n",
        "print(rus_trn[b][0])\n",
        "print(rus_trn[b][1])\n",
        "print(rus_trn[c][0])\n",
        "print(rus_trn[c][1])"
      ],
      "execution_count": 129,
      "outputs": [
        {
          "output_type": "stream",
          "text": [
            "веб-операторы обязаны ознакомить пользователя с политикой по сбору персональной информации\n",
            "%% v' 'e1 p a' p' 'i r a1 t ax r ax # a' b' 'a1 z ax n ax # a z n a k o'1 m' 'ix' t' # p o'1 l' z ax v ax' t' 'ix' l' 'ax # s _ p a' l' 'i'1 t' 'ix k ax' j' # p a _ z b o1 r ux' # p' 'ix r s a n a'1 l' n ax' j' # 'i n f a r m a1 ts ax' i %%\n",
            "цена мартовского контракта на нефть в торговой системе поднялась\n",
            "%% ts y n a1 # m a1 r t ax f s k ax v ax # k a n t r a1 k t ax # n a' _ n' 'e1 f t' # f _ t a r g o1 v ax' j' # s' 'i' s' t' 'e'1 m' 'ix # p ax' d' n' 'i l a'1 s' %%\n",
            "в августе прошлого года был достроен храм христа спасителя\n",
            "%% v _ a1 v g ux' s' t' 'ix # p r o1 sh l ax v ax # g o1 d ax # b y1 l # d a s t r o'1 jax n # h r a1 m # h r' 'i s t a1 # s p a' s' 'i'1 t' 'ix' l' 'a %%\n"
          ],
          "name": "stdout"
        }
      ]
    },
    {
      "cell_type": "markdown",
      "metadata": {
        "id": "PrtVAlRiBYLc",
        "colab_type": "text"
      },
      "source": [
        "#### Notice that words in russian sentence are separated by space while words in transcript are separated:\n",
        "1. by '#' in general case\n",
        "2. by '_' in case of preposition\n",
        "3. by '%% %%' in case of punctuation signs (dash, coma, etc)\n"
      ]
    },
    {
      "cell_type": "markdown",
      "metadata": {
        "id": "qaYfq4rSFVs6",
        "colab_type": "text"
      },
      "source": [
        "#### Let's see if we have dupliates in corpus"
      ]
    },
    {
      "cell_type": "code",
      "metadata": {
        "id": "zoPm3mehFfiN",
        "colab_type": "code",
        "outputId": "c04beb61-a79d-4aab-e748-a9385faad82d",
        "colab": {
          "base_uri": "https://localhost:8080/",
          "height": 51
        }
      },
      "source": [
        "a = array(rus_trn)\n",
        "seen_rus = Counter(a[:,0])\n",
        "seen_trn = Counter(a[:,1])\n",
        "\n",
        "print(f'Unique rus sentences: {len(seen_rus)} out of {len(rus_trn)}')\n",
        "print(f'Unique trans sentences: {len(seen_trn)} out of {len(rus_trn)}')"
      ],
      "execution_count": 130,
      "outputs": [
        {
          "output_type": "stream",
          "text": [
            "Unique rus sentences: 3131 out of 50277\n",
            "Unique trans sentences: 3171 out of 50277\n"
          ],
          "name": "stdout"
        }
      ]
    },
    {
      "cell_type": "markdown",
      "metadata": {
        "id": "2c_7KSzLGs7v",
        "colab_type": "text"
      },
      "source": [
        "#### We have a lot of duplicates! Only 3131 unique sentenses out of 50K in corpus. Please also note that some russian sentences are transcribed into different transcriptions (will look into that later on)"
      ]
    },
    {
      "cell_type": "code",
      "metadata": {
        "id": "yjR7uun4HeJF",
        "colab_type": "code",
        "outputId": "e686b403-04a7-4dea-b3e3-558389840853",
        "colab": {
          "base_uri": "https://localhost:8080/",
          "height": 290
        }
      },
      "source": [
        "lens = [each[1] for each in seen_rus.items()]\n",
        "unq = np.unique(lens)\n",
        "qty = [lens.count(each) for each in unq]\n",
        "pd.DataFrame(qty, index=unq).plot.bar(title = 'Rus sentence repeat times', legend=False);"
      ],
      "execution_count": 131,
      "outputs": [
        {
          "output_type": "display_data",
          "data": {
            "image/png": "[encoded data removed]",
            "text/plain": [
              "<Figure size 432x288 with 1 Axes>"
            ]
          },
          "metadata": {
            "tags": []
          }
        }
      ]
    },
    {
      "cell_type": "markdown",
      "metadata": {
        "id": "a2bIKlVbIAxi",
        "colab_type": "text"
      },
      "source": [
        "#### Most duplicated sentences repeat 12 times, max up to 203 times"
      ]
    },
    {
      "cell_type": "markdown",
      "metadata": {
        "id": "oCi44KJRImmG",
        "colab_type": "text"
      },
      "source": [
        "### Let's read that data while splitting the tokens. We'll count the tokens in each sentence. If the count in rus and trans is different, we'll record it as anomaly\n"
      ]
    },
    {
      "cell_type": "code",
      "metadata": {
        "id": "4fznr-0SJ9nU",
        "colab_type": "code",
        "outputId": "8c17a42f-6c62-4182-f291-267108253e90",
        "colab": {
          "base_uri": "https://localhost:8080/",
          "height": 298
        }
      },
      "source": [
        "rus_l, trn_l, anomaly = [], [], []\n",
        "seen = defaultdict(list)\n",
        "chars = Counter()\n",
        "\n",
        "for j,i in enumerate(rus_trn):\n",
        "  rus = i[0].split()\n",
        "  trn = re.split('#|_|%% %%',i[1])\n",
        "\n",
        "  if i[0] not in seen:\n",
        "    if abs(len(rus) - len(trn)) != 0: \n",
        "      anomaly.append(j)\n",
        "      # print(j, ' ', i[0])\n",
        "      # print( i[1])\n",
        "    \n",
        "    else:\n",
        "      rus_l.append(len(rus))\n",
        "      trn_l.append(len(trn))\n",
        "\n",
        "    chars += Counter(i[0])\n",
        "\n",
        "  seen[i[0]].append(j)\n",
        "\n",
        "print(f'Anomalies: {len(anomaly)}')\n",
        "fig, (ax1, ax2) = plt.subplots(nrows=1,ncols=2,figsize=(12,4))\n",
        "pd.DataFrame({'Number of words in Rus sentence':rus_l}).hist(ax=ax1, bins = 30);\n",
        "pd.DataFrame({'Number of words in Trns sentence':trn_l}).hist(ax=ax2, bins = 30);"
      ],
      "execution_count": 132,
      "outputs": [
        {
          "output_type": "stream",
          "text": [
            "Anomalies: 49\n"
          ],
          "name": "stdout"
        },
        {
          "output_type": "display_data",
          "data": {
            "image/png": "[encoded data removed]",
            "text/plain": [
              "<Figure size 864x288 with 2 Axes>"
            ]
          },
          "metadata": {
            "tags": []
          }
        }
      ]
    },
    {
      "cell_type": "markdown",
      "metadata": {
        "id": "XxTcio_yKSbh",
        "colab_type": "text"
      },
      "source": [
        "#### So we have 49 anomalies out of 3131 samples"
      ]
    },
    {
      "cell_type": "markdown",
      "metadata": {
        "id": "uV_cJH70KuSg",
        "colab_type": "text"
      },
      "source": [
        "### Let's see if we need to clean the data. First let's take a look at rus corpus alphabet"
      ]
    },
    {
      "cell_type": "code",
      "metadata": {
        "id": "LyV9anvZn187",
        "colab_type": "code",
        "outputId": "d1524ade-10f5-4369-8cec-e61fe229ee28",
        "colab": {
          "base_uri": "https://localhost:8080/",
          "height": 298
        }
      },
      "source": [
        "s = sorted(chars.items())\n",
        "pd.DataFrame(s, index=(e[0]+' ' for e in s)).plot.bar(figsize=(18,4), rot=0, title = 'Char frequencies', legend=False)\n",
        "print(f'Number of times \"-\" used: {chars[\"-\"]}')"
      ],
      "execution_count": 133,
      "outputs": [
        {
          "output_type": "stream",
          "text": [
            "Number of times \"-\" used: 159\n"
          ],
          "name": "stdout"
        },
        {
          "output_type": "display_data",
          "data": {
            "image/png": "[encoded data removed]",
            "text/plain": [
              "<Figure size 1296x288 with 1 Axes>"
            ]
          },
          "metadata": {
            "tags": []
          }
        }
      ]
    },
    {
      "cell_type": "markdown",
      "metadata": {
        "id": "83TZ18z9K8Qy",
        "colab_type": "text"
      },
      "source": [
        "#### Looks good! We neither have punctuations nor capital letters. The only case to check is '-' letter which is used 159 times"
      ]
    },
    {
      "cell_type": "code",
      "metadata": {
        "id": "hEqkK_LRKLb-",
        "colab_type": "code",
        "outputId": "4aec82fd-06db-46f0-8c57-a17b8938961f",
        "colab": {
          "base_uri": "https://localhost:8080/",
          "height": 54
        }
      },
      "source": [
        "seen = set()\n",
        "seen_dash = set()\n",
        "dash_words = []\n",
        "for rus,trn in rus_trn:\n",
        "  if rus not in seen:\n",
        "    if '-' in rus:\n",
        "      ru_words = rus.split()\n",
        "      for each in ru_words:\n",
        "        if '-' in each:\n",
        "          if each not in seen_dash:\n",
        "            seen_dash.add(each)\n",
        "            dash_words.append(each)\n",
        "  else:\n",
        "    seen.add(rus)\n",
        "  \n",
        "print(dash_words)"
      ],
      "execution_count": 134,
      "outputs": [
        {
          "output_type": "stream",
          "text": [
            "['анти-обледенитель', 'иридо-диагностика', 'дом-красавец', 'из-за', 'радио-сигналом', 'ноль-три', 'ноль-два', 'мало-обеспеченные', 'шкаф-купе', 'тех-осмотр', 'пресс-службе', 'авто-сервис', 'чуть-чуть', 'аудио-', 'какие-либо', 'де-факто', 'стерео-', 'царь-колокол', 'царь-пушка', 'гео-магнитного', 'электро-катастрофы', 'фигуристы-новобранцы', 'что-то', 'какое-либо', 'веб-операторы', 'воздушно-десантной', 'военно-морских', 'ветераны-афганцы', 'одного-единственного', 'природно-климатические', 'одном-двух', 'санкт-петербурге', 'стран-участниц', 'пять-шесть', 'по-своему', 'матч-реванш', 'словаря-справочника', 'штаб-квартире', 'чем-то', 'чего-то', 'экс-губернатора', 'российско-американский', 'северо-восточных', 'красно-белую', 'какой-нибудь', 'бело-жёлтый', 'карту-схему', 'юго-западный', 'радио-охранное', 'по-прежнему', 'каким-то', 'кино-картины', 'авто-трюки', 'пресс-конференции', 'генерал-прокурором', 'нью-йорке', 'медиа-группы', 'нью-йоркской', 'какие-то', 'санкт-петербурга', 'санкт-петербург', 'памятники-символы', 'премьер-министр', 'взлётно-посадочную', 'какого-нибудь', 'январе-феврале', 'птица-говорун', 'жучки-камнееды', 'школу-комплекс', 'художников-оформителей', 'какое-то', 'купли-продажи', 'каких-либо', 'генерал-лейтенант', 'карты-схемы', 'кому-нибудь', 'детям-инвалидам', 'как-то', 'золото-валютных', 'наконец-то', 'государственно-общественной', 'бизнес-сообщества', 'причинно-следственных', 'по-настоящему', 'юго-западного', 'премьер-министру', 'нью-йорк', 'пропан-бутановые', 'пресс-служба', 'физико-химическими', 'средне-взвешенный', 'интернет-сетью', 'экспресс-опрос', 'либерально-демократической', 'вице-премьер', 'пресс-конференция', 'военно-морского', 'по-другому', 'вице-спикера', 'радио-станции', 'конференц-зале', 'золото-валютные', 'фирм-членов', 'премьер-министром', 'химико-фармацевтической', 'весенне-полевых', 'пресс-секретарь', 'сирийско-израильский', 'юго-восток', 'сьерра-леонэ', 'южно-африканской', 'медиа-мостом', 'диско-марафон', 'видео-', 'две-три', 'экс-посол', 'военно-политического', 'компакт-диски', 'мини-электростанция', 'когда-нибудь', 'кто-то', 'веке-волкодаве', 'из-под', 'капитан-лейтенанта', 'просто-напросто', 'всё-таки', 'пресс-службы', 'южно-сахалинске', 'оперативно-следственная', 'армяно-российского', 'северо-западе']\n"
          ],
          "name": "stdout"
        }
      ]
    },
    {
      "cell_type": "markdown",
      "metadata": {
        "id": "3VHh6JUCPGlb",
        "colab_type": "text"
      },
      "source": [
        "#### Okey, words with dash look fine, we'll consider dash as a normal letter"
      ]
    },
    {
      "cell_type": "markdown",
      "metadata": {
        "id": "hMAmvWqyLrWv",
        "colab_type": "text"
      },
      "source": [
        "### The size of the corpus is too small to tokenize on words. Insted we'll tokenize bsed on characters"
      ]
    },
    {
      "cell_type": "markdown",
      "metadata": {
        "id": "G-xAjHqyjh3x",
        "colab_type": "text"
      },
      "source": [
        "### So in order to implement autocoder for transcript we'd need to keep special symbools in transcript such as \"\\_\" and \"%% %%\". So let's create a dictionary of sentences rus <-> trans. So let's recreate the dictionary so \"\\_\" and \"%% %%\" are marked with '#' and remove begin and end markers. Plus to that let's get rid of duplicates.\n"
      ]
    },
    {
      "cell_type": "code",
      "metadata": {
        "id": "PBgF1l93y39m",
        "colab_type": "code",
        "outputId": "df06b158-0c9c-479f-9d22-d92e1c375f85",
        "colab": {
          "base_uri": "https://localhost:8080/",
          "height": 298
        }
      },
      "source": [
        "seen_rus = set()\n",
        "seen_trn = set()\n",
        "\n",
        "res, trn_l, rus_l = [], [], []\n",
        "for rus, trn in rus_trn:\n",
        "\n",
        "  if rus not in seen_rus or trn not in seen_trn:\n",
        "      seen_rus.add(rus)\n",
        "      seen_trn.add(trn)\n",
        "\n",
        "      trn = trn.replace('%% %%', '# <PNK>').replace('_', '_ #')[3:-3]\n",
        "      trn = trn.split('#')\n",
        "      rus = rus.split(' ')\n",
        "      for a,b in zip(rus, trn):\n",
        "        b = b.strip().split(' ')\n",
        "        # res.append((list(a), b + ['<eos>'], ['<sos>'] + b))\n",
        "        res.append((list(a), b, b))\n",
        "        rus_l.append( len(a))\n",
        "        trn_l.append( len(b))\n",
        "\n",
        "rus_trn_new = array(res)\n",
        "trn_length = max(trn_l)\n",
        "rus_length = max(rus_l)\n",
        "print(f'max len rus: {rus_length}, max len trn: {trn_length}')\n",
        "fig, (ax1, ax2) = plt.subplots(nrows=1,ncols=2,figsize=(12,4))\n",
        "pd.DataFrame({'Number of tokens in Rus sentence':rus_l}).hist(ax=ax1, bins = 30);\n",
        "pd.DataFrame({'Number of tokens in Trns sentence':trn_l}).hist(ax=ax2, bins = 30);"
      ],
      "execution_count": 194,
      "outputs": [
        {
          "output_type": "stream",
          "text": [
            "max len rus: 27, max len trn: 26\n"
          ],
          "name": "stdout"
        },
        {
          "output_type": "display_data",
          "data": {
            "image/png": "[encoded data removed]",
            "text/plain": [
              "<Figure size 864x288 with 2 Axes>"
            ]
          },
          "metadata": {
            "tags": []
          }
        }
      ]
    },
    {
      "cell_type": "code",
      "metadata": {
        "id": "ID8a8MoaKtVm",
        "colab_type": "code",
        "outputId": "2c76a1a3-0f00-4be4-eca4-4572741fa7a2",
        "colab": {
          "base_uri": "https://localhost:8080/",
          "height": 85
        }
      },
      "source": [
        "a = np.random.choice(len(rus_trn_new))\n",
        "rus_trn_new[a]"
      ],
      "execution_count": 171,
      "outputs": [
        {
          "output_type": "execute_result",
          "data": {
            "text/plain": [
              "array([list(['в', 'ы', 'с', 'т', 'а', 'в', 'к', 'а']),\n",
              "       list(['v', 'y1', 's', 't', 'ax', 'f', 'k', 'ax', '<eos>']),\n",
              "       list(['<sos>', 'v', 'y1', 's', 't', 'ax', 'f', 'k', 'ax'])],\n",
              "      dtype=object)"
            ]
          },
          "metadata": {
            "tags": []
          },
          "execution_count": 171
        }
      ]
    },
    {
      "cell_type": "markdown",
      "metadata": {
        "id": "CbQ82gWtkTDx",
        "colab_type": "text"
      },
      "source": [
        "### Let's tokenize the sentences\n",
        "\n"
      ]
    },
    {
      "cell_type": "code",
      "metadata": {
        "id": "670W8CC1llqC",
        "colab_type": "code",
        "outputId": "30701b11-53da-4e1a-ecd3-fe395493f99f",
        "colab": {
          "base_uri": "https://localhost:8080/",
          "height": 51
        }
      },
      "source": [
        "def tokenization(lines, split=' '):\n",
        "  tokenizer = Tokenizer(filters='', lower=False, split=split)\n",
        "  tokenizer.fit_on_texts(lines)\n",
        "  return tokenizer\n",
        "\n",
        "def encode_sequences(tokenizer, length, lines):\n",
        "  seq = tokenizer.texts_to_sequences(lines)\n",
        "  seq = pad_sequences(sequences=seq, maxlen=length, padding='post')\n",
        "  return seq\n",
        "\n",
        "rus_tokenizer = tokenization(rus_trn_new[:, 0], split='')\n",
        "rus_vocab_size = len(rus_tokenizer.word_index) + 1\n",
        "# rus_trn_new[0, 1] +=  ['<sos>', '<eos>']\n",
        "trn_tokenizer = tokenization(rus_trn_new[:, 1], split=' ')\n",
        "trn_vocab_size = len(trn_tokenizer.word_index) + 1\n",
        "print(f'Rus Vocabulary Size: {rus_vocab_size}')\n",
        "print(f'Trns Vocabulary Size: {trn_vocab_size}')"
      ],
      "execution_count": 183,
      "outputs": [
        {
          "output_type": "stream",
          "text": [
            "Rus Vocabulary Size: 35\n",
            "Trns Vocabulary Size: 118\n"
          ],
          "name": "stdout"
        }
      ]
    },
    {
      "cell_type": "markdown",
      "metadata": {
        "id": "sgJdhdjvqRA9",
        "colab_type": "text"
      },
      "source": [
        "### Encode sentences, pad them, split to train and test\n"
      ]
    },
    {
      "cell_type": "code",
      "metadata": {
        "id": "3XcT-AUGqa5v",
        "colab_type": "code",
        "outputId": "129aaa75-f66f-4910-8d93-4eb34a8adeea",
        "colab": {
          "base_uri": "https://localhost:8080/",
          "height": 85
        }
      },
      "source": [
        "def cbow(x, window_size=1):\n",
        "  res = []\n",
        "  for e in x:\n",
        "    len_x = len(e)\n",
        "    vec = []\n",
        "    for i in range(len_x):\n",
        "      bow = [0] * (window_size*2 + 1)\n",
        "      first_context_word_index = max(0, i-window_size)\n",
        "      last_context_word_index = min(i+window_size, len_x-1)\n",
        "      for k,j in enumerate(range(first_context_word_index, last_context_word_index+1)):\n",
        "        bow[k] = e[j]\n",
        "    \n",
        "      vec.append(bow)\n",
        "    res.append(vec)\n",
        "  return np.array(res)\n",
        "\n",
        "train, test = train_test_split(rus_trn_new, test_size=0.1, random_state = RS)\n",
        "\n",
        "# rus_length = trn_length = max(trn_length, rus_length)\n",
        "\n",
        "# prepare training data\n",
        "trainX = encode_sequences(rus_tokenizer, rus_length, train[:, 0])\n",
        "# trainX = cbow(trainX)\n",
        "trainX_ = encode_sequences(trn_tokenizer, trn_length, train[:, 2])\n",
        "trainY = encode_sequences(trn_tokenizer, trn_length, train[:, 1])\n",
        "\n",
        "# prepare validation data\n",
        "testX = encode_sequences(rus_tokenizer, rus_length, test[:, 0])\n",
        "# testX = cbow(testX)\n",
        "testX_ = encode_sequences(trn_tokenizer, trn_length, test[:, 2])\n",
        "testY = encode_sequences(trn_tokenizer, trn_length, test[:, 1])\n",
        "\n",
        "a = np.random.choice(len(trainX))\n",
        "print(a)\n",
        "print( rus_tokenizer.sequences_to_texts([trainX[a]]) )\n",
        "print( trn_tokenizer.sequences_to_texts([trainY[a]]) )\n",
        "print( trn_tokenizer.sequences_to_texts([trainX_[a]]) )\n",
        "\n"
      ],
      "execution_count": 184,
      "outputs": [
        {
          "output_type": "stream",
          "text": [
            "23214\n",
            "['д н е й']\n",
            "[\"d' n' 'e'1 j'\"]\n",
            "[\"d' n' 'e'1 j'\"]\n"
          ],
          "name": "stdout"
        }
      ]
    },
    {
      "cell_type": "markdown",
      "metadata": {
        "id": "75Ho1kBn39sp",
        "colab_type": "text"
      },
      "source": [
        "### Build Seq2Seq models. Looks like simple Seq2Seq model works the best. Let's train the model with early stopping"
      ]
    },
    {
      "cell_type": "code",
      "metadata": {
        "id": "rwOy43R15_yn",
        "colab_type": "code",
        "outputId": "6e7fc264-39ca-4e02-abc6-7757d3d79af2",
        "colab": {
          "base_uri": "https://localhost:8080/",
          "height": 1000
        }
      },
      "source": [
        "from keras import backend as K\n",
        "EPOCHES = 100\n",
        "BS = 512\n",
        "window_size = 1\n",
        "TF = False\n",
        "\n",
        "def define_sequential(in_vocab, out_vocab, in_timesteps, out_timesteps, units):\n",
        "  cbow = Sequential()\n",
        "  cbow.add(Embedding(in_vocab, units, input_length=in_timesteps, mask_zero=True))\n",
        "  cbow.add(LSTM(units, return_sequences=True))\n",
        "  cbow.add(Dense(in_vocab, activation='softmax'))\n",
        "  return cbow, None, None\n",
        "\n",
        "# build NMT model\n",
        "def define_model_cbow(in_vocab, out_vocab, in_timesteps, out_timesteps, units):\n",
        "  input = x = Input(shape=(None,))\n",
        "  x = Embedding(in_vocab, 100, input_length=window_size*2+1, mask_zero=True)(x)\n",
        "  x = Lambda(lambda x: K.mean(x, axis=2))(x)\n",
        "  output = Dense(out_vocab, activation='softmax')(x)\n",
        "  model = Model(input, output)\n",
        "  return model, None, None\n",
        "\n",
        "# build NMT model\n",
        "def define_seq2seq_LSTM(in_vocab, out_vocab, in_timesteps, out_timesteps, units):\n",
        "  input = x = Input(shape=(None,))\n",
        "  x = Embedding(in_vocab, units, input_length=in_timesteps, mask_zero=True)(x)\n",
        "  x, h, c = LSTM(units, return_state=True)(x)\n",
        "  x = RepeatVector(out_timesteps)(x)\n",
        "  x = LSTM(units, return_sequences=True)(x, initial_state = (h, c))\n",
        "  output = Dense(out_vocab, activation='softmax')(x)\n",
        "  model = Model(input, output)\n",
        "  return model, None, None\n",
        "\n",
        "# build NMT model\n",
        "def define_seq2seq_GRU(in_vocab, out_vocab, in_timesteps, out_timesteps, units):\n",
        "  input = x = Input(shape=(None,))\n",
        "  x = Embedding(in_vocab, units, input_length=in_timesteps, mask_zero=True)(x)\n",
        "  x, c = GRU(units, return_state=True)(x)\n",
        "  x = RepeatVector(out_timesteps)(x)\n",
        "  x = GRU(units, return_sequences=True)(x, initial_state = c)\n",
        "  output = Dense(out_vocab, activation='softmax')(x)\n",
        "  model = Model(input, output)\n",
        "  return model, None, None\n",
        "\n",
        "def define_model_tf(in_vocab, out_vocab, in_timesteps, out_timesteps, units):\n",
        "   # encoder\n",
        "  encoder_inputs = Input(shape=(None,))\n",
        "  encoder_embedding = Embedding(in_vocab, units, input_length=in_timesteps, mask_zero=True)\n",
        "  encoder = encoder_embedding(encoder_inputs)\n",
        "  _, h, c = LSTM(units, return_state=True)(encoder)\n",
        "  encoder_states = [h, c]\n",
        "  # decoder\n",
        "  decoder_inputs = Input(shape=(None,))\n",
        "  decoder_embedding = Embedding(out_vocab, units, input_length=out_timesteps, mask_zero=True)\n",
        "  decoder = decoder_embedding(decoder_inputs)\n",
        "  decoder_lstm = LSTM(units, return_sequences=True, return_state=True)\n",
        "  decoder_outputs, _, _ = decoder_lstm(decoder, initial_state=encoder_states)\n",
        "  decoder_dense = Dense(out_vocab, activation='softmax')\n",
        "  decoder_outputs = decoder_dense(decoder_outputs)\n",
        "  model = Model([encoder_inputs, decoder_inputs], decoder_outputs)\n",
        "\n",
        "  #inference model\n",
        "  encoder_model = Model(encoder_inputs, encoder_states)\n",
        "\n",
        "  decoder_state_input_h = Input(shape=(units,))\n",
        "  decoder_state_input_c = Input(shape=(units,))\n",
        "  decoder_states_inputs = [decoder_state_input_h, decoder_state_input_c]\n",
        "  decoder_outputs, h, c = decoder_lstm(decoder, initial_state=decoder_states_inputs)\n",
        "  decoder_states = [h, c]\n",
        "  decoder_outputs = decoder_dense(decoder_outputs)\n",
        "  decoder_model = Model([decoder_inputs] + decoder_states_inputs, [decoder_outputs] + decoder_states)\n",
        "  \n",
        "  return model, encoder_model, decoder_model\n",
        "\n",
        "define_model = define_model_tf if TF else define_seq2seq_LSTM\n",
        "\n",
        "model, encoder_model, decoder_model = define_model(rus_vocab_size, trn_vocab_size, rus_length, trn_length, 512)\n",
        "model.summary()\n",
        "  \n",
        "model.compile(optimizer='adam', loss='sparse_categorical_crossentropy')\n",
        "\n",
        "monitor = 'val_loss'\n",
        "mode = 'min'\n",
        "early_stop = EarlyStopping( patience=5, monitor=monitor, mode=mode, restore_best_weights=True)\n",
        "\n",
        "if TF:\n",
        "  data = [trainX, trainX_], trainY.reshape(*trainY.shape, 1)\n",
        "  validation_data = [testX, testX_], testY.reshape(*testY.shape, 1)\n",
        "else:\n",
        "  data = trainX, trainY.reshape(*trainY.shape, 1)\n",
        "  validation_data = testX, testY.reshape(*testY.shape, 1)\n",
        "\n",
        "history = model.fit(*data, \n",
        "          epochs=EPOCHES, batch_size=BS, \n",
        "          validation_data=validation_data,\n",
        "          callbacks=[early_stop], verbose=1)\n",
        "\n",
        "# plot validation loss vs training loss\n",
        "plt.plot(history.history['loss'])\n",
        "plt.plot(history.history['val_loss'])\n",
        "plt.legend(['train','validation'])\n",
        "plt.show()"
      ],
      "execution_count": 190,
      "outputs": [
        {
          "output_type": "stream",
          "text": [
            "Model: \"model_28\"\n",
            "__________________________________________________________________________________________________\n",
            "Layer (type)                    Output Shape         Param #     Connected to                     \n",
            "==================================================================================================\n",
            "input_33 (InputLayer)           (None, None)         0                                            \n",
            "__________________________________________________________________________________________________\n",
            "embedding_38 (Embedding)        (None, 27, 512)      17920       input_33[0][0]                   \n",
            "__________________________________________________________________________________________________\n",
            "lstm_54 (LSTM)                  [(None, 512), (None, 2099200     embedding_38[0][0]               \n",
            "__________________________________________________________________________________________________\n",
            "repeat_vector_19 (RepeatVector) (None, 26, 512)      0           lstm_54[0][0]                    \n",
            "__________________________________________________________________________________________________\n",
            "lstm_55 (LSTM)                  (None, 26, 512)      2099200     repeat_vector_19[0][0]           \n",
            "                                                                 lstm_54[0][1]                    \n",
            "                                                                 lstm_54[0][2]                    \n",
            "__________________________________________________________________________________________________\n",
            "dense_31 (Dense)                (None, 26, 118)      60534       lstm_55[0][0]                    \n",
            "==================================================================================================\n",
            "Total params: 4,276,854\n",
            "Trainable params: 4,276,854\n",
            "Non-trainable params: 0\n",
            "__________________________________________________________________________________________________\n",
            "Train on 23445 samples, validate on 2606 samples\n",
            "Epoch 1/100\n",
            "23445/23445 [==============================] - 23s 974us/step - loss: 1.7168 - val_loss: 1.2675\n",
            "Epoch 2/100\n",
            "23445/23445 [==============================] - 11s 477us/step - loss: 1.1236 - val_loss: 1.0395\n",
            "Epoch 3/100\n",
            "23445/23445 [==============================] - 11s 476us/step - loss: 1.0311 - val_loss: 1.0033\n",
            "Epoch 4/100\n",
            "23445/23445 [==============================] - 11s 472us/step - loss: 0.9994 - val_loss: 0.9811\n",
            "Epoch 5/100\n",
            "23445/23445 [==============================] - 11s 474us/step - loss: 0.9823 - val_loss: 0.9569\n",
            "Epoch 6/100\n",
            "23445/23445 [==============================] - 11s 477us/step - loss: 0.9279 - val_loss: 0.8840\n",
            "Epoch 7/100\n",
            "23445/23445 [==============================] - 11s 476us/step - loss: 0.8453 - val_loss: 0.8022\n",
            "Epoch 8/100\n",
            "23445/23445 [==============================] - 11s 480us/step - loss: 0.7428 - val_loss: 0.6975\n",
            "Epoch 9/100\n",
            "23445/23445 [==============================] - 11s 477us/step - loss: 0.6365 - val_loss: 0.5844\n",
            "Epoch 10/100\n",
            "23445/23445 [==============================] - 11s 475us/step - loss: 0.5403 - val_loss: 0.5032\n",
            "Epoch 11/100\n",
            "23445/23445 [==============================] - 11s 476us/step - loss: 0.4652 - val_loss: 0.4337\n",
            "Epoch 12/100\n",
            "23445/23445 [==============================] - 11s 474us/step - loss: 0.3985 - val_loss: 0.3821\n",
            "Epoch 13/100\n",
            "23445/23445 [==============================] - 11s 474us/step - loss: 0.3468 - val_loss: 0.3421\n",
            "Epoch 14/100\n",
            "23445/23445 [==============================] - 11s 479us/step - loss: 0.3046 - val_loss: 0.3080\n",
            "Epoch 15/100\n",
            "23445/23445 [==============================] - 11s 474us/step - loss: 0.2681 - val_loss: 0.2789\n",
            "Epoch 16/100\n",
            "23445/23445 [==============================] - 11s 467us/step - loss: 0.2411 - val_loss: 0.2599\n",
            "Epoch 17/100\n",
            "23445/23445 [==============================] - 11s 472us/step - loss: 0.2265 - val_loss: 0.2430\n",
            "Epoch 18/100\n",
            "23445/23445 [==============================] - 11s 469us/step - loss: 0.1982 - val_loss: 0.2291\n",
            "Epoch 19/100\n",
            "23445/23445 [==============================] - 11s 471us/step - loss: 0.1801 - val_loss: 0.2207\n",
            "Epoch 20/100\n",
            "23445/23445 [==============================] - 11s 470us/step - loss: 0.1668 - val_loss: 0.2127\n",
            "Epoch 21/100\n",
            "23445/23445 [==============================] - 11s 471us/step - loss: 0.1537 - val_loss: 0.2068\n",
            "Epoch 22/100\n",
            "23445/23445 [==============================] - 11s 470us/step - loss: 0.1456 - val_loss: 0.2004\n",
            "Epoch 23/100\n",
            "23445/23445 [==============================] - 11s 471us/step - loss: 0.1357 - val_loss: 0.1934\n",
            "Epoch 24/100\n",
            "23445/23445 [==============================] - 11s 469us/step - loss: 0.1256 - val_loss: 0.1891\n",
            "Epoch 25/100\n",
            "23445/23445 [==============================] - 11s 472us/step - loss: 0.1164 - val_loss: 0.1889\n",
            "Epoch 26/100\n",
            "23445/23445 [==============================] - 11s 469us/step - loss: 0.1095 - val_loss: 0.1839\n",
            "Epoch 27/100\n",
            "23445/23445 [==============================] - 11s 468us/step - loss: 0.1026 - val_loss: 0.1797\n",
            "Epoch 28/100\n",
            "23445/23445 [==============================] - 11s 468us/step - loss: 0.0970 - val_loss: 0.1800\n",
            "Epoch 29/100\n",
            "23445/23445 [==============================] - 11s 469us/step - loss: 0.0910 - val_loss: 0.1775\n",
            "Epoch 30/100\n",
            "23445/23445 [==============================] - 11s 471us/step - loss: 0.0853 - val_loss: 0.1775\n",
            "Epoch 31/100\n",
            "23445/23445 [==============================] - 11s 470us/step - loss: 0.0822 - val_loss: 0.1758\n",
            "Epoch 32/100\n",
            "23445/23445 [==============================] - 11s 471us/step - loss: 0.0788 - val_loss: 0.1770\n",
            "Epoch 33/100\n",
            "23445/23445 [==============================] - 11s 469us/step - loss: 0.0736 - val_loss: 0.1749\n",
            "Epoch 34/100\n",
            "23445/23445 [==============================] - 11s 471us/step - loss: 0.0711 - val_loss: 0.1765\n",
            "Epoch 35/100\n",
            "23445/23445 [==============================] - 11s 470us/step - loss: 0.0685 - val_loss: 0.1726\n",
            "Epoch 36/100\n",
            "23445/23445 [==============================] - 11s 471us/step - loss: 0.0682 - val_loss: 0.1799\n",
            "Epoch 37/100\n",
            "23445/23445 [==============================] - 11s 470us/step - loss: 0.0650 - val_loss: 0.1732\n",
            "Epoch 38/100\n",
            "23445/23445 [==============================] - 11s 470us/step - loss: 0.0607 - val_loss: 0.1747\n",
            "Epoch 39/100\n",
            "23445/23445 [==============================] - 11s 466us/step - loss: 0.0569 - val_loss: 0.1753\n",
            "Epoch 40/100\n",
            "23445/23445 [==============================] - 11s 469us/step - loss: 0.0546 - val_loss: 0.1756\n"
          ],
          "name": "stdout"
        },
        {
          "output_type": "display_data",
          "data": {
            "image/png": "[encoded data removed]",
            "text/plain": [
              "<Figure size 432x288 with 1 Axes>"
            ]
          },
          "metadata": {
            "tags": []
          }
        }
      ]
    },
    {
      "cell_type": "markdown",
      "metadata": {
        "id": "i-ZvotPs48kU",
        "colab_type": "text"
      },
      "source": [
        "### Now that we have trained model, let's see how it performs. Let's predict 15 random tokens from text corpus"
      ]
    },
    {
      "cell_type": "code",
      "metadata": {
        "colab_type": "code",
        "outputId": "f0ab08c9-cbc5-4af1-c697-3f924ccdcd83",
        "id": "nTzqkY5ZtGdS",
        "colab": {
          "base_uri": "https://localhost:8080/",
          "height": 514
        }
      },
      "source": [
        "def translate_sentence(input_seq):\n",
        "  states_value = encoder_model.predict(input_seq, use_multiprocessing=True)\n",
        "  target_seq = np.array([0] * trn_length)\n",
        "  target_seq[0] = trn_tokenizer.word_index['<sos>']\n",
        "  eos = trn_tokenizer.word_index['<eos>']\n",
        "  output_sentence = []\n",
        "\n",
        "  for _ in range(trn_length):\n",
        "      output_tokens, h, c = decoder_model.predict([target_seq.reshape(1, -1)] + states_value, use_multiprocessing=True)\n",
        "      idx = np.argmax(output_tokens[0,0,:])\n",
        "      if eos == idx: break\n",
        "\n",
        "      if idx > 0:\n",
        "          word = trn_tokenizer.index_word[idx]\n",
        "          output_sentence.append(word)\n",
        "\n",
        "      target_seq[0] = idx\n",
        "      states_value = [h, c]\n",
        "\n",
        "  return ' '.join(output_sentence)\n",
        "\n",
        "a = np.random.choice(len(testX), 15)\n",
        "\n",
        "if TF:\n",
        "  translation = []\n",
        "  for i in a:\n",
        "    input_seq = testX[i]\n",
        "    translation.append( translate_sentence(input_seq) )\n",
        "else:\n",
        "  x = testX[a]\n",
        "  pred_ohe = model.predict(x, use_multiprocessing=True)\n",
        "  pred = np.argmax(pred_ohe, axis=2)\n",
        "  translation = trn_tokenizer.sequences_to_texts(pred)\n",
        "\n",
        "pred_df = pd.DataFrame({'actual' : trn_tokenizer.sequences_to_texts(testY[a]), 'predicted' : translation})\n",
        "pred_df"
      ],
      "execution_count": 191,
      "outputs": [
        {
          "output_type": "execute_result",
          "data": {
            "text/html": [
              "<div>\n",
              "<style scoped>\n",
              "    .dataframe tbody tr th:only-of-type {\n",
              "        vertical-align: middle;\n",
              "    }\n",
              "\n",
              "    .dataframe tbody tr th {\n",
              "        vertical-align: top;\n",
              "    }\n",
              "\n",
              "    .dataframe thead th {\n",
              "        text-align: right;\n",
              "    }\n",
              "</style>\n",
              "<table border=\"1\" class=\"dataframe\">\n",
              "  <thead>\n",
              "    <tr style=\"text-align: right;\">\n",
              "      <th></th>\n",
              "      <th>actual</th>\n",
              "      <th>predicted</th>\n",
              "    </tr>\n",
              "  </thead>\n",
              "  <tbody>\n",
              "    <tr>\n",
              "      <th>0</th>\n",
              "      <td>p r ax' i z v a' d' 'i'1 t'</td>\n",
              "      <td>p r ax' i z v a' d' 'i'1 d'</td>\n",
              "    </tr>\n",
              "    <tr>\n",
              "      <th>1</th>\n",
              "      <td>n' 'ix d a s t a1 t ax' ch' n ux' jux</td>\n",
              "      <td>n' 'ix d ax s t t t t' ch' n ux' jux</td>\n",
              "    </tr>\n",
              "    <tr>\n",
              "      <th>2</th>\n",
              "      <td>e k r a1 n ax h</td>\n",
              "      <td>e k a1 r n ax h</td>\n",
              "    </tr>\n",
              "    <tr>\n",
              "      <th>3</th>\n",
              "      <td>n' 'ix z a' v' 'i'1 s' 'ix m ax' s' t'</td>\n",
              "      <td>n' 'ix z a' v' 'i'1 s' 'ix m ax' s' t'</td>\n",
              "    </tr>\n",
              "    <tr>\n",
              "      <th>4</th>\n",
              "      <td>z a k o1 n ax f</td>\n",
              "      <td>z a k o1 n ax f</td>\n",
              "    </tr>\n",
              "    <tr>\n",
              "      <th>5</th>\n",
              "      <td>g' 'ixa' m' 'i t r' 'i'1 ch' 'ix s k ax' jax</td>\n",
              "      <td>g' 'e1 'e1 'e1 'e1 t' 'i'1 ch' 'ix s k ax' jax</td>\n",
              "    </tr>\n",
              "    <tr>\n",
              "      <th>6</th>\n",
              "      <td>&lt;PNK&gt; z ax' n' 'i m a'1 jux' sh' 'ix' jax' s' ...</td>\n",
              "      <td>&lt;PNK&gt; ax' n' 'ix m a'1 jux' sh' sh' 'ix' jax' ...</td>\n",
              "    </tr>\n",
              "    <tr>\n",
              "      <th>7</th>\n",
              "      <td>s' 'i' ch' 'a1 s</td>\n",
              "      <td>s' 'i' ch' 'a1 s</td>\n",
              "    </tr>\n",
              "    <tr>\n",
              "      <th>8</th>\n",
              "      <td>a g r a' d' 'i1 l</td>\n",
              "      <td>g g r a' d' 'i1 l</td>\n",
              "    </tr>\n",
              "    <tr>\n",
              "      <th>9</th>\n",
              "      <td>s k a z a1 l</td>\n",
              "      <td>s k a z a1 l</td>\n",
              "    </tr>\n",
              "    <tr>\n",
              "      <th>10</th>\n",
              "      <td>p a' g' 'i1 b n ux' t'</td>\n",
              "      <td>p a' g' 'i1 z n u'1 t'</td>\n",
              "    </tr>\n",
              "    <tr>\n",
              "      <th>11</th>\n",
              "      <td>s' 'i1 h</td>\n",
              "      <td>s' 'i1 h</td>\n",
              "    </tr>\n",
              "    <tr>\n",
              "      <th>12</th>\n",
              "      <td>n' 'i _</td>\n",
              "      <td>n' 'ix _</td>\n",
              "    </tr>\n",
              "    <tr>\n",
              "      <th>13</th>\n",
              "      <td>s l' 'e1 ts t v' 'ix n n ax' jax</td>\n",
              "      <td>s l' 'e1 ts t v' 'ix n n ax' jax</td>\n",
              "    </tr>\n",
              "    <tr>\n",
              "      <th>14</th>\n",
              "      <td>m ux z y k a'1 l' n ax' jax</td>\n",
              "      <td>m ux z y k a'1 l' n ax' jax'</td>\n",
              "    </tr>\n",
              "  </tbody>\n",
              "</table>\n",
              "</div>"
            ],
            "text/plain": [
              "                                               actual                                          predicted\n",
              "0                         p r ax' i z v a' d' 'i'1 t'                        p r ax' i z v a' d' 'i'1 d'\n",
              "1               n' 'ix d a s t a1 t ax' ch' n ux' jux               n' 'ix d ax s t t t t' ch' n ux' jux\n",
              "2                                     e k r a1 n ax h                                    e k a1 r n ax h\n",
              "3              n' 'ix z a' v' 'i'1 s' 'ix m ax' s' t'             n' 'ix z a' v' 'i'1 s' 'ix m ax' s' t'\n",
              "4                                     z a k o1 n ax f                                    z a k o1 n ax f\n",
              "5        g' 'ixa' m' 'i t r' 'i'1 ch' 'ix s k ax' jax     g' 'e1 'e1 'e1 'e1 t' 'i'1 ch' 'ix s k ax' jax\n",
              "6   <PNK> z ax' n' 'i m a'1 jux' sh' 'ix' jax' s' ...  <PNK> ax' n' 'ix m a'1 jux' sh' sh' 'ix' jax' ...\n",
              "7                                    s' 'i' ch' 'a1 s                                   s' 'i' ch' 'a1 s\n",
              "8                                   a g r a' d' 'i1 l                                  g g r a' d' 'i1 l\n",
              "9                                        s k a z a1 l                                       s k a z a1 l\n",
              "10                             p a' g' 'i1 b n ux' t'                             p a' g' 'i1 z n u'1 t'\n",
              "11                                           s' 'i1 h                                           s' 'i1 h\n",
              "12                                            n' 'i _                                           n' 'ix _\n",
              "13                   s l' 'e1 ts t v' 'ix n n ax' jax                   s l' 'e1 ts t v' 'ix n n ax' jax\n",
              "14                        m ux z y k a'1 l' n ax' jax                       m ux z y k a'1 l' n ax' jax'"
            ]
          },
          "metadata": {
            "tags": []
          },
          "execution_count": 191
        }
      ]
    },
    {
      "cell_type": "markdown",
      "metadata": {
        "id": "aj-i60ShaUU_",
        "colab_type": "text"
      },
      "source": [
        "### Now let's put all that together in a function"
      ]
    },
    {
      "cell_type": "code",
      "metadata": {
        "id": "c8pLj-TGaYDq",
        "colab_type": "code",
        "colab": {
          "base_uri": "https://localhost:8080/",
          "height": 139
        },
        "outputId": "e7899453-e434-4970-c082-6687fb96f974"
      },
      "source": [
        "import string\n",
        "\n",
        "def make_transctript(str):\n",
        "  input_string = rus_trn[a][0]\n",
        "  input_string = input_string.lower()\n",
        "  input_string = input_string.translate(str.maketrans('', '', string.punctuation))\n",
        "  input_string = [list(each) for each in input_string.split(' ')]\n",
        "  input_seq = encode_sequences(rus_tokenizer, rus_length, input_string)\n",
        "\n",
        "  pred_ohe = model.predict(input_seq, use_multiprocessing=True)\n",
        "  pred = np.argmax(pred_ohe, axis=2)\n",
        "  translation = trn_tokenizer.sequences_to_texts(pred)\n",
        "\n",
        "  translation = '%% ' + ' # '.join(translation) + ' %%'\n",
        "  translation = translation.replace('_ #', '_')\n",
        "  return translation.replace('<PNK>', '%% %%')\n",
        "\n",
        "a = np.random.choice(len(rus_trn))\n",
        "print('Original sentence in Russian')\n",
        "print( rus_trn[a][0])\n",
        "print('Original transcript')\n",
        "print( rus_trn[a][1])\n",
        "print('Predicted transcript')\n",
        "print( make_transctript(rus_trn[a][0]) )"
      ],
      "execution_count": 192,
      "outputs": [
        {
          "output_type": "stream",
          "text": [
            "Original sentence in Russian\n",
            "момент силы является одним из наиболее мощных побудительных мотивов\n",
            "Original transcript\n",
            "%% m a' m' 'e1 n t # s' 'i1 l ax' # ji v l' 'a'1 jax ts ts ax # a' d' n' 'i1 m # y z _ n ax' i b o'1 l' 'ix' jax # m o'1 sh' n ax h # p ax b u' d' 'i'1 t' 'ix' l' n ax h # m a' t' 'i1 v ax f %%\n",
            "Predicted transcript\n",
            "%% m a' m' 'e1 n t # s' 'i1 l ax # ji v l' 'a'1 jax ts ts ax # a' d' n' 'i1 m # i z _ n ax' i b o'1 l' 'ix' jax # m o'1 sh' n ax h # p ax b u' d' 'i'1 t' 'ix' l' n ax h # m a' t' 'i1 v ax f %%\n"
          ],
          "name": "stdout"
        }
      ]
    },
    {
      "cell_type": "code",
      "metadata": {
        "id": "TO3_3KTjvhIP",
        "colab_type": "code",
        "colab": {}
      },
      "source": [
        ""
      ],
      "execution_count": 0,
      "outputs": []
    }
  ]
}