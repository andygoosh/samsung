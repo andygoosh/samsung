{
  "nbformat": 4,
  "nbformat_minor": 0,
  "metadata": {
    "colab": {
      "name": "Arxiv title generation.ipynb",
      "provenance": [],
      "include_colab_link": true
    },
    "kernelspec": {
      "name": "python3",
      "display_name": "Python 3"
    },
    "accelerator": "GPU",
    "widgets": {
      "application/vnd.jupyter.widget-state+json": {
        "b963071b08dd4458b976413ed5c88470": {
          "model_module": "@jupyter-widgets/controls",
          "model_name": "HBoxModel",
          "state": {
            "_view_name": "HBoxView",
            "_dom_classes": [],
            "_model_name": "HBoxModel",
            "_view_module": "@jupyter-widgets/controls",
            "_model_module_version": "1.5.0",
            "_view_count": null,
            "_view_module_version": "1.5.0",
            "box_style": "",
            "layout": "IPY_MODEL_357777d65de64b649af810f0dd283e68",
            "_model_module": "@jupyter-widgets/controls",
            "children": [
              "IPY_MODEL_c0ad09d7d5004fd49b81b33283f99450",
              "IPY_MODEL_077c7f9a8a764f0480cf9ce2e5517a2b"
            ]
          }
        },
        "357777d65de64b649af810f0dd283e68": {
          "model_module": "@jupyter-widgets/base",
          "model_name": "LayoutModel",
          "state": {
            "_view_name": "LayoutView",
            "grid_template_rows": null,
            "right": null,
            "justify_content": null,
            "_view_module": "@jupyter-widgets/base",
            "overflow": null,
            "_model_module_version": "1.2.0",
            "_view_count": null,
            "flex_flow": null,
            "width": null,
            "min_width": null,
            "border": null,
            "align_items": null,
            "bottom": null,
            "_model_module": "@jupyter-widgets/base",
            "top": null,
            "grid_column": null,
            "overflow_y": null,
            "overflow_x": null,
            "grid_auto_flow": null,
            "grid_area": null,
            "grid_template_columns": null,
            "flex": null,
            "_model_name": "LayoutModel",
            "justify_items": null,
            "grid_row": null,
            "max_height": null,
            "align_content": null,
            "visibility": null,
            "align_self": null,
            "height": null,
            "min_height": null,
            "padding": null,
            "grid_auto_rows": null,
            "grid_gap": null,
            "max_width": null,
            "order": null,
            "_view_module_version": "1.2.0",
            "grid_template_areas": null,
            "object_position": null,
            "object_fit": null,
            "grid_auto_columns": null,
            "margin": null,
            "display": null,
            "left": null
          }
        },
        "c0ad09d7d5004fd49b81b33283f99450": {
          "model_module": "@jupyter-widgets/controls",
          "model_name": "IntProgressModel",
          "state": {
            "_view_name": "ProgressView",
            "style": "IPY_MODEL_676c5cdefc624547926690100fc68768",
            "_dom_classes": [],
            "description": "Downloading",
            "_model_name": "IntProgressModel",
            "bar_style": "success",
            "max": 231508,
            "_view_module": "@jupyter-widgets/controls",
            "_model_module_version": "1.5.0",
            "value": 231508,
            "_view_count": null,
            "_view_module_version": "1.5.0",
            "orientation": "horizontal",
            "min": 0,
            "description_tooltip": null,
            "_model_module": "@jupyter-widgets/controls",
            "layout": "IPY_MODEL_d06e8902343b403297eb3cb87915ab3e"
          }
        },
        "077c7f9a8a764f0480cf9ce2e5517a2b": {
          "model_module": "@jupyter-widgets/controls",
          "model_name": "HTMLModel",
          "state": {
            "_view_name": "HTMLView",
            "style": "IPY_MODEL_2bc0fdc993ea41928be877c4434abd74",
            "_dom_classes": [],
            "description": "",
            "_model_name": "HTMLModel",
            "placeholder": "​",
            "_view_module": "@jupyter-widgets/controls",
            "_model_module_version": "1.5.0",
            "value": "100% 232k/232k [00:00&lt;00:00, 903kB/s]",
            "_view_count": null,
            "_view_module_version": "1.5.0",
            "description_tooltip": null,
            "_model_module": "@jupyter-widgets/controls",
            "layout": "IPY_MODEL_9966bfda3e374e80b0d7b1efde1ded3b"
          }
        },
        "676c5cdefc624547926690100fc68768": {
          "model_module": "@jupyter-widgets/controls",
          "model_name": "ProgressStyleModel",
          "state": {
            "_view_name": "StyleView",
            "_model_name": "ProgressStyleModel",
            "description_width": "initial",
            "_view_module": "@jupyter-widgets/base",
            "_model_module_version": "1.5.0",
            "_view_count": null,
            "_view_module_version": "1.2.0",
            "bar_color": null,
            "_model_module": "@jupyter-widgets/controls"
          }
        },
        "d06e8902343b403297eb3cb87915ab3e": {
          "model_module": "@jupyter-widgets/base",
          "model_name": "LayoutModel",
          "state": {
            "_view_name": "LayoutView",
            "grid_template_rows": null,
            "right": null,
            "justify_content": null,
            "_view_module": "@jupyter-widgets/base",
            "overflow": null,
            "_model_module_version": "1.2.0",
            "_view_count": null,
            "flex_flow": null,
            "width": null,
            "min_width": null,
            "border": null,
            "align_items": null,
            "bottom": null,
            "_model_module": "@jupyter-widgets/base",
            "top": null,
            "grid_column": null,
            "overflow_y": null,
            "overflow_x": null,
            "grid_auto_flow": null,
            "grid_area": null,
            "grid_template_columns": null,
            "flex": null,
            "_model_name": "LayoutModel",
            "justify_items": null,
            "grid_row": null,
            "max_height": null,
            "align_content": null,
            "visibility": null,
            "align_self": null,
            "height": null,
            "min_height": null,
            "padding": null,
            "grid_auto_rows": null,
            "grid_gap": null,
            "max_width": null,
            "order": null,
            "_view_module_version": "1.2.0",
            "grid_template_areas": null,
            "object_position": null,
            "object_fit": null,
            "grid_auto_columns": null,
            "margin": null,
            "display": null,
            "left": null
          }
        },
        "2bc0fdc993ea41928be877c4434abd74": {
          "model_module": "@jupyter-widgets/controls",
          "model_name": "DescriptionStyleModel",
          "state": {
            "_view_name": "StyleView",
            "_model_name": "DescriptionStyleModel",
            "description_width": "",
            "_view_module": "@jupyter-widgets/base",
            "_model_module_version": "1.5.0",
            "_view_count": null,
            "_view_module_version": "1.2.0",
            "_model_module": "@jupyter-widgets/controls"
          }
        },
        "9966bfda3e374e80b0d7b1efde1ded3b": {
          "model_module": "@jupyter-widgets/base",
          "model_name": "LayoutModel",
          "state": {
            "_view_name": "LayoutView",
            "grid_template_rows": null,
            "right": null,
            "justify_content": null,
            "_view_module": "@jupyter-widgets/base",
            "overflow": null,
            "_model_module_version": "1.2.0",
            "_view_count": null,
            "flex_flow": null,
            "width": null,
            "min_width": null,
            "border": null,
            "align_items": null,
            "bottom": null,
            "_model_module": "@jupyter-widgets/base",
            "top": null,
            "grid_column": null,
            "overflow_y": null,
            "overflow_x": null,
            "grid_auto_flow": null,
            "grid_area": null,
            "grid_template_columns": null,
            "flex": null,
            "_model_name": "LayoutModel",
            "justify_items": null,
            "grid_row": null,
            "max_height": null,
            "align_content": null,
            "visibility": null,
            "align_self": null,
            "height": null,
            "min_height": null,
            "padding": null,
            "grid_auto_rows": null,
            "grid_gap": null,
            "max_width": null,
            "order": null,
            "_view_module_version": "1.2.0",
            "grid_template_areas": null,
            "object_position": null,
            "object_fit": null,
            "grid_auto_columns": null,
            "margin": null,
            "display": null,
            "left": null
          }
        }
      }
    }
  },
  "cells": [
    {
      "cell_type": "markdown",
      "metadata": {
        "id": "view-in-github",
        "colab_type": "text"
      },
      "source": [
        "<a href=\"https://colab.research.google.com/github/andygoosh/samsung/blob/master/Arxiv_title_generation.ipynb\" target=\"_parent\"><img src=\"https://colab.research.google.com/assets/colab-badge.svg\" alt=\"Open In Colab\"/></a>"
      ]
    },
    {
      "cell_type": "code",
      "metadata": {
        "id": "RJu-w6-AFLhF",
        "colab_type": "code",
        "outputId": "fa9b6a18-48f1-4999-93c8-33acba7df343",
        "colab": {
          "base_uri": "https://localhost:8080/",
          "height": 306
        }
      },
      "source": [
        "!nvidia-smi"
      ],
      "execution_count": 2,
      "outputs": [
        {
          "output_type": "stream",
          "text": [
            "Mon Mar 16 07:24:25 2020       \n",
            "+-----------------------------------------------------------------------------+\n",
            "| NVIDIA-SMI 440.59       Driver Version: 418.67       CUDA Version: 10.1     |\n",
            "|-------------------------------+----------------------+----------------------+\n",
            "| GPU  Name        Persistence-M| Bus-Id        Disp.A | Volatile Uncorr. ECC |\n",
            "| Fan  Temp  Perf  Pwr:Usage/Cap|         Memory-Usage | GPU-Util  Compute M. |\n",
            "|===============================+======================+======================|\n",
            "|   0  Tesla P100-PCIE...  Off  | 00000000:00:04.0 Off |                    0 |\n",
            "| N/A   36C    P0    27W / 250W |      0MiB / 16280MiB |      0%      Default |\n",
            "+-------------------------------+----------------------+----------------------+\n",
            "                                                                               \n",
            "+-----------------------------------------------------------------------------+\n",
            "| Processes:                                                       GPU Memory |\n",
            "|  GPU       PID   Type   Process name                             Usage      |\n",
            "|=============================================================================|\n",
            "|  No running processes found                                                 |\n",
            "+-----------------------------------------------------------------------------+\n"
          ],
          "name": "stdout"
        }
      ]
    },
    {
      "cell_type": "code",
      "metadata": {
        "id": "NbdObkmP1Zyv",
        "colab_type": "code",
        "outputId": "aa53cf8d-0922-48be-cdae-d07d09cf45bd",
        "colab": {
          "base_uri": "https://localhost:8080/",
          "height": 156
        }
      },
      "source": [
        "from pathlib import Path\n",
        "from google.colab import files, drive\n",
        "import numpy as np\n",
        "import pandas as pd\n",
        "from collections import Counter\n",
        "from sklearn.model_selection import train_test_split\n",
        "\n",
        "%tensorflow_version 2.x\n",
        "import tensorflow as tf\n",
        "\n",
        "import torch\n",
        "print(torch.cuda.get_device_name(0) if torch.cuda.is_available() else 'cpu')\n",
        "# V100 (7~7.8 TF) -> P100 (4.7~5.3 TF, LoNi) -> K80 (1.87+ TF, LoNi) -> T4 (~0.25 TF, Andy/Nik) -> P6 (Andy/Goosh) ->P4 (LoNi)\n",
        "    \n",
        "gpath = Path('/content/gdrive')\n",
        "drive.mount(str(gpath))\n",
        "data_file = gpath / 'My Drive/Samsung' / 'train.csv.zip'"
      ],
      "execution_count": 3,
      "outputs": [
        {
          "output_type": "stream",
          "text": [
            "TensorFlow 2.x selected.\n",
            "Tesla P100-PCIE-16GB\n",
            "Go to this URL in a browser: https://accounts.google.com/o/oauth2/auth?client_id=947318989803-6bn6qk8qdgf4n4g3pfee6491hc0brc4i.apps.googleusercontent.com&redirect_uri=urn%3aietf%3awg%3aoauth%3a2.0%3aoob&response_type=code&scope=email%20https%3a%2f%2fwww.googleapis.com%2fauth%2fdocs.test%20https%3a%2f%2fwww.googleapis.com%2fauth%2fdrive%20https%3a%2f%2fwww.googleapis.com%2fauth%2fdrive.photos.readonly%20https%3a%2f%2fwww.googleapis.com%2fauth%2fpeopleapi.readonly\n",
            "\n",
            "Enter your authorization code:\n",
            "··········\n",
            "Mounted at /content/gdrive\n"
          ],
          "name": "stdout"
        }
      ]
    },
    {
      "cell_type": "code",
      "metadata": {
        "id": "rhF_P-M-_PEO",
        "colab_type": "code",
        "colab": {}
      },
      "source": [
        "import zipfile\n",
        "from io import BytesIO\n",
        "from urllib.request import urlopen\n",
        "\n",
        "def zipfile_to_corpus(corpus_file_name):\n",
        "  with zipfile.ZipFile(BytesIO(urlopen(corpus_file_name).read())) as f:\n",
        "      data = tf.compat.as_str(f.read(f.namelist()[0]))\n",
        "\n",
        "# from torchtext.data.metrics import bleu_score"
      ],
      "execution_count": 0,
      "outputs": []
    },
    {
      "cell_type": "code",
      "metadata": {
        "id": "iHGeWncGymMv",
        "colab_type": "code",
        "outputId": "bd33a069-e9cf-4252-9f59-6fa17382e023",
        "colab": {
          "base_uri": "https://localhost:8080/",
          "height": 419
        }
      },
      "source": [
        "train_df = pd.read_csv(data_file)\n",
        "train_df"
      ],
      "execution_count": 5,
      "outputs": [
        {
          "output_type": "execute_result",
          "data": {
            "text/html": [
              "<div>\n",
              "<style scoped>\n",
              "    .dataframe tbody tr th:only-of-type {\n",
              "        vertical-align: middle;\n",
              "    }\n",
              "\n",
              "    .dataframe tbody tr th {\n",
              "        vertical-align: top;\n",
              "    }\n",
              "\n",
              "    .dataframe thead th {\n",
              "        text-align: right;\n",
              "    }\n",
              "</style>\n",
              "<table border=\"1\" class=\"dataframe\">\n",
              "  <thead>\n",
              "    <tr style=\"text-align: right;\">\n",
              "      <th></th>\n",
              "      <th>abstract</th>\n",
              "      <th>title</th>\n",
              "    </tr>\n",
              "  </thead>\n",
              "  <tbody>\n",
              "    <tr>\n",
              "      <th>0</th>\n",
              "      <td>we consider the problem of utility maximizatio...</td>\n",
              "      <td>on optimal investment with processes of long o...</td>\n",
              "    </tr>\n",
              "    <tr>\n",
              "      <th>1</th>\n",
              "      <td>in this paper we provide an explicit formula f...</td>\n",
              "      <td>boolean complexes for ferrers graphs</td>\n",
              "    </tr>\n",
              "    <tr>\n",
              "      <th>2</th>\n",
              "      <td>kinesin-5, also known as eg5 in vertebrates is...</td>\n",
              "      <td>relative velocity of sliding of microtubules b...</td>\n",
              "    </tr>\n",
              "    <tr>\n",
              "      <th>3</th>\n",
              "      <td>we discuss the transition paths in a coupled b...</td>\n",
              "      <td>bifurcation of transition paths induced by cou...</td>\n",
              "    </tr>\n",
              "    <tr>\n",
              "      <th>4</th>\n",
              "      <td>two types of room temperature detectors of ter...</td>\n",
              "      <td>all-electric detectors of the polarization sta...</td>\n",
              "    </tr>\n",
              "    <tr>\n",
              "      <th>...</th>\n",
              "      <td>...</td>\n",
              "      <td>...</td>\n",
              "    </tr>\n",
              "    <tr>\n",
              "      <th>134995</th>\n",
              "      <td>we consider a minimalistic dynamic model of th...</td>\n",
              "      <td>randomly evolving idiotypic networks: structur...</td>\n",
              "    </tr>\n",
              "    <tr>\n",
              "      <th>134996</th>\n",
              "      <td>this is an extended version of a communication...</td>\n",
              "      <td>noncommutative generalization of su(n)-princip...</td>\n",
              "    </tr>\n",
              "    <tr>\n",
              "      <th>134997</th>\n",
              "      <td>in this paper, a new method was developed for ...</td>\n",
              "      <td>initialization of multilayer forecasting artif...</td>\n",
              "    </tr>\n",
              "    <tr>\n",
              "      <th>134998</th>\n",
              "      <td>we propose a new approach to analyze data that...</td>\n",
              "      <td>principal arc analysis on direct product manif...</td>\n",
              "    </tr>\n",
              "    <tr>\n",
              "      <th>134999</th>\n",
              "      <td>the design of unknown-input decoupled observer...</td>\n",
              "      <td>framework for state and unknown input estimati...</td>\n",
              "    </tr>\n",
              "  </tbody>\n",
              "</table>\n",
              "<p>135000 rows × 2 columns</p>\n",
              "</div>"
            ],
            "text/plain": [
              "                                                 abstract                                              title\n",
              "0       we consider the problem of utility maximizatio...  on optimal investment with processes of long o...\n",
              "1       in this paper we provide an explicit formula f...               boolean complexes for ferrers graphs\n",
              "2       kinesin-5, also known as eg5 in vertebrates is...  relative velocity of sliding of microtubules b...\n",
              "3       we discuss the transition paths in a coupled b...  bifurcation of transition paths induced by cou...\n",
              "4       two types of room temperature detectors of ter...  all-electric detectors of the polarization sta...\n",
              "...                                                   ...                                                ...\n",
              "134995  we consider a minimalistic dynamic model of th...  randomly evolving idiotypic networks: structur...\n",
              "134996  this is an extended version of a communication...  noncommutative generalization of su(n)-princip...\n",
              "134997  in this paper, a new method was developed for ...  initialization of multilayer forecasting artif...\n",
              "134998  we propose a new approach to analyze data that...  principal arc analysis on direct product manif...\n",
              "134999  the design of unknown-input decoupled observer...  framework for state and unknown input estimati...\n",
              "\n",
              "[135000 rows x 2 columns]"
            ]
          },
          "metadata": {
            "tags": []
          },
          "execution_count": 5
        }
      ]
    },
    {
      "cell_type": "code",
      "metadata": {
        "id": "OM9g9vyH6TS0",
        "colab_type": "code",
        "outputId": "bd120704-96fe-4467-f04b-e32cf7651aa3",
        "colab": {
          "base_uri": "https://localhost:8080/",
          "height": 649
        }
      },
      "source": [
        "chars_abs = Counter()\n",
        "chars_ttl = Counter()\n",
        "\n",
        "abs_len = 0\n",
        "ttl_len = 0\n",
        "\n",
        "for row in range(len(train_df)):\n",
        "  chars_abs += Counter(train_df.abstract[row])\n",
        "  chars_ttl += Counter(train_df.title[row])\n",
        "\n",
        "  abs_len = max(abs_len, len(train_df.abstract[row].split()))\n",
        "  ttl_len = max(ttl_len, len(train_df.title[row].split()))\n",
        "\n",
        "\n",
        "s = sorted(chars_abs.items())\n",
        "pd.DataFrame(s, index=(e[0]+' ' for e in s)).plot.bar(figsize=(18,4), rot=0, title = 'Abstract Char frequencies', legend=False);\n",
        "print(f'Abstract max len {abs_len}')\n",
        "\n",
        "s = sorted(chars_ttl.items())\n",
        "pd.DataFrame(s, index=(e[0]+' ' for e in s)).plot.bar(figsize=(18,4), rot=0, title = 'Title Char frequencies', legend=False);\n",
        "print(f'Title max len {ttl_len}')"
      ],
      "execution_count": 6,
      "outputs": [
        {
          "output_type": "stream",
          "text": [
            "Abstract max len 584\n",
            "Title max len 39\n"
          ],
          "name": "stdout"
        },
        {
          "output_type": "stream",
          "text": [
            "/usr/local/lib/python3.6/dist-packages/matplotlib/backends/backend_agg.py:211: RuntimeWarning: Glyph 127 missing from current font.\n",
            "  font.set_text(s, 0.0, flags=flags)\n",
            "/usr/local/lib/python3.6/dist-packages/matplotlib/backends/backend_agg.py:180: RuntimeWarning: Glyph 127 missing from current font.\n",
            "  font.set_text(s, 0, flags=flags)\n"
          ],
          "name": "stderr"
        },
        {
          "output_type": "display_data",
          "data": {
            "image/png": "[encoded data removed]",
            "text/plain": [
              "<Figure size 1296x288 with 1 Axes>"
            ]
          },
          "metadata": {
            "tags": []
          }
        },
        {
          "output_type": "display_data",
          "data": {
            "image/png": "[encoded data removed]",
            "text/plain": [
              "<Figure size 1296x288 with 1 Axes>"
            ]
          },
          "metadata": {
            "tags": []
          }
        }
      ]
    },
    {
      "cell_type": "code",
      "metadata": {
        "id": "K_gLMCAVt2er",
        "colab_type": "code",
        "outputId": "0b33136e-1f43-4492-bc2b-afc77ec64057",
        "colab": {
          "base_uri": "https://localhost:8080/",
          "height": 666
        }
      },
      "source": [
        "!pip install transformers"
      ],
      "execution_count": 11,
      "outputs": [
        {
          "output_type": "stream",
          "text": [
            "Collecting transformers\n",
            "\u001b[?25l  Downloading https://files.pythonhosted.org/packages/13/33/ffb67897a6985a7b7d8e5e7878c3628678f553634bd3836404fef06ef19b/transformers-2.5.1-py3-none-any.whl (499kB)\n",
            "\r\u001b[K     |▋                               | 10kB 35.7MB/s eta 0:00:01\r\u001b[K     |█▎                              | 20kB 5.8MB/s eta 0:00:01\r\u001b[K     |██                              | 30kB 6.9MB/s eta 0:00:01\r\u001b[K     |██▋                             | 40kB 5.5MB/s eta 0:00:01\r\u001b[K     |███▎                            | 51kB 6.0MB/s eta 0:00:01\r\u001b[K     |████                            | 61kB 7.1MB/s eta 0:00:01\r\u001b[K     |████▋                           | 71kB 7.4MB/s eta 0:00:01\r\u001b[K     |█████▎                          | 81kB 6.9MB/s eta 0:00:01\r\u001b[K     |██████                          | 92kB 7.7MB/s eta 0:00:01\r\u001b[K     |██████▋                         | 102kB 8.1MB/s eta 0:00:01\r\u001b[K     |███████▏                        | 112kB 8.1MB/s eta 0:00:01\r\u001b[K     |███████▉                        | 122kB 8.1MB/s eta 0:00:01\r\u001b[K     |████████▌                       | 133kB 8.1MB/s eta 0:00:01\r\u001b[K     |█████████▏                      | 143kB 8.1MB/s eta 0:00:01\r\u001b[K     |█████████▉                      | 153kB 8.1MB/s eta 0:00:01\r\u001b[K     |██████████▌                     | 163kB 8.1MB/s eta 0:00:01\r\u001b[K     |███████████▏                    | 174kB 8.1MB/s eta 0:00:01\r\u001b[K     |███████████▉                    | 184kB 8.1MB/s eta 0:00:01\r\u001b[K     |████████████▌                   | 194kB 8.1MB/s eta 0:00:01\r\u001b[K     |█████████████▏                  | 204kB 8.1MB/s eta 0:00:01\r\u001b[K     |█████████████▉                  | 215kB 8.1MB/s eta 0:00:01\r\u001b[K     |██████████████▍                 | 225kB 8.1MB/s eta 0:00:01\r\u001b[K     |███████████████                 | 235kB 8.1MB/s eta 0:00:01\r\u001b[K     |███████████████▊                | 245kB 8.1MB/s eta 0:00:01\r\u001b[K     |████████████████▍               | 256kB 8.1MB/s eta 0:00:01\r\u001b[K     |█████████████████               | 266kB 8.1MB/s eta 0:00:01\r\u001b[K     |█████████████████▊              | 276kB 8.1MB/s eta 0:00:01\r\u001b[K     |██████████████████▍             | 286kB 8.1MB/s eta 0:00:01\r\u001b[K     |███████████████████             | 296kB 8.1MB/s eta 0:00:01\r\u001b[K     |███████████████████▊            | 307kB 8.1MB/s eta 0:00:01\r\u001b[K     |████████████████████▍           | 317kB 8.1MB/s eta 0:00:01\r\u001b[K     |█████████████████████           | 327kB 8.1MB/s eta 0:00:01\r\u001b[K     |█████████████████████▋          | 337kB 8.1MB/s eta 0:00:01\r\u001b[K     |██████████████████████▎         | 348kB 8.1MB/s eta 0:00:01\r\u001b[K     |███████████████████████         | 358kB 8.1MB/s eta 0:00:01\r\u001b[K     |███████████████████████▋        | 368kB 8.1MB/s eta 0:00:01\r\u001b[K     |████████████████████████▎       | 378kB 8.1MB/s eta 0:00:01\r\u001b[K     |█████████████████████████       | 389kB 8.1MB/s eta 0:00:01\r\u001b[K     |█████████████████████████▋      | 399kB 8.1MB/s eta 0:00:01\r\u001b[K     |██████████████████████████▎     | 409kB 8.1MB/s eta 0:00:01\r\u001b[K     |███████████████████████████     | 419kB 8.1MB/s eta 0:00:01\r\u001b[K     |███████████████████████████▋    | 430kB 8.1MB/s eta 0:00:01\r\u001b[K     |████████████████████████████▏   | 440kB 8.1MB/s eta 0:00:01\r\u001b[K     |████████████████████████████▉   | 450kB 8.1MB/s eta 0:00:01\r\u001b[K     |█████████████████████████████▌  | 460kB 8.1MB/s eta 0:00:01\r\u001b[K     |██████████████████████████████▏ | 471kB 8.1MB/s eta 0:00:01\r\u001b[K     |██████████████████████████████▉ | 481kB 8.1MB/s eta 0:00:01\r\u001b[K     |███████████████████████████████▌| 491kB 8.1MB/s eta 0:00:01\r\u001b[K     |████████████████████████████████| 501kB 8.1MB/s \n",
            "\u001b[?25hRequirement already satisfied: requests in /tensorflow-2.1.0/python3.6 (from transformers) (2.23.0)\n",
            "Requirement already satisfied: tqdm>=4.27 in /usr/local/lib/python3.6/dist-packages (from transformers) (4.28.1)\n",
            "Collecting sentencepiece\n",
            "\u001b[?25l  Downloading https://files.pythonhosted.org/packages/74/f4/2d5214cbf13d06e7cb2c20d84115ca25b53ea76fa1f0ade0e3c9749de214/sentencepiece-0.1.85-cp36-cp36m-manylinux1_x86_64.whl (1.0MB)\n",
            "\u001b[K     |████████████████████████████████| 1.0MB 19.4MB/s \n",
            "\u001b[?25hCollecting sacremoses\n",
            "\u001b[?25l  Downloading https://files.pythonhosted.org/packages/a6/b4/7a41d630547a4afd58143597d5a49e07bfd4c42914d8335b2a5657efc14b/sacremoses-0.0.38.tar.gz (860kB)\n",
            "\u001b[K     |████████████████████████████████| 870kB 44.9MB/s \n",
            "\u001b[?25hRequirement already satisfied: filelock in /usr/local/lib/python3.6/dist-packages (from transformers) (3.0.12)\n",
            "Requirement already satisfied: regex!=2019.12.17 in /usr/local/lib/python3.6/dist-packages (from transformers) (2019.12.20)\n",
            "Collecting tokenizers==0.5.2\n",
            "\u001b[?25l  Downloading https://files.pythonhosted.org/packages/d1/3f/73c881ea4723e43c1e9acf317cf407fab3a278daab3a69c98dcac511c04f/tokenizers-0.5.2-cp36-cp36m-manylinux1_x86_64.whl (3.7MB)\n",
            "\u001b[K     |████████████████████████████████| 3.7MB 54.3MB/s \n",
            "\u001b[?25hRequirement already satisfied: boto3 in /usr/local/lib/python3.6/dist-packages (from transformers) (1.11.15)\n",
            "Requirement already satisfied: numpy in /tensorflow-2.1.0/python3.6 (from transformers) (1.18.1)\n",
            "Requirement already satisfied: idna<3,>=2.5 in /tensorflow-2.1.0/python3.6 (from requests->transformers) (2.9)\n",
            "Requirement already satisfied: certifi>=2017.4.17 in /tensorflow-2.1.0/python3.6 (from requests->transformers) (2019.11.28)\n",
            "Requirement already satisfied: urllib3!=1.25.0,!=1.25.1,<1.26,>=1.21.1 in /tensorflow-2.1.0/python3.6 (from requests->transformers) (1.25.8)\n",
            "Requirement already satisfied: chardet<4,>=3.0.2 in /tensorflow-2.1.0/python3.6 (from requests->transformers) (3.0.4)\n",
            "Requirement already satisfied: six in /tensorflow-2.1.0/python3.6 (from sacremoses->transformers) (1.14.0)\n",
            "Requirement already satisfied: click in /usr/local/lib/python3.6/dist-packages (from sacremoses->transformers) (7.0)\n",
            "Requirement already satisfied: joblib in /usr/local/lib/python3.6/dist-packages (from sacremoses->transformers) (0.14.1)\n",
            "Requirement already satisfied: s3transfer<0.4.0,>=0.3.0 in /usr/local/lib/python3.6/dist-packages (from boto3->transformers) (0.3.3)\n",
            "Requirement already satisfied: jmespath<1.0.0,>=0.7.1 in /usr/local/lib/python3.6/dist-packages (from boto3->transformers) (0.9.4)\n",
            "Requirement already satisfied: botocore<1.15.0,>=1.14.15 in /usr/local/lib/python3.6/dist-packages (from boto3->transformers) (1.14.15)\n",
            "Requirement already satisfied: docutils<0.16,>=0.10 in /usr/local/lib/python3.6/dist-packages (from botocore<1.15.0,>=1.14.15->boto3->transformers) (0.15.2)\n",
            "Requirement already satisfied: python-dateutil<3.0.0,>=2.1 in /usr/local/lib/python3.6/dist-packages (from botocore<1.15.0,>=1.14.15->boto3->transformers) (2.6.1)\n",
            "Building wheels for collected packages: sacremoses\n",
            "  Building wheel for sacremoses (setup.py) ... \u001b[?25l\u001b[?25hdone\n",
            "  Created wheel for sacremoses: filename=sacremoses-0.0.38-cp36-none-any.whl size=884628 sha256=7ce346f85c5d21b28d5130a387253d6e7869c19abe9f42f7790ed4e7df3e3246\n",
            "  Stored in directory: /root/.cache/pip/wheels/6d/ec/1a/21b8912e35e02741306f35f66c785f3afe94de754a0eaf1422\n",
            "Successfully built sacremoses\n",
            "Installing collected packages: sentencepiece, sacremoses, tokenizers, transformers\n",
            "Successfully installed sacremoses-0.0.38 sentencepiece-0.1.85 tokenizers-0.5.2 transformers-2.5.1\n"
          ],
          "name": "stdout"
        }
      ]
    },
    {
      "cell_type": "code",
      "metadata": {
        "id": "fvRn-aNdGOtE",
        "colab_type": "code",
        "colab": {
          "base_uri": "https://localhost:8080/",
          "height": 154,
          "referenced_widgets": [
            "b963071b08dd4458b976413ed5c88470",
            "357777d65de64b649af810f0dd283e68",
            "c0ad09d7d5004fd49b81b33283f99450",
            "077c7f9a8a764f0480cf9ce2e5517a2b",
            "676c5cdefc624547926690100fc68768",
            "d06e8902343b403297eb3cb87915ab3e",
            "2bc0fdc993ea41928be877c4434abd74",
            "9966bfda3e374e80b0d7b1efde1ded3b"
          ]
        },
        "outputId": "f9ee4bd3-d936-41c3-987a-69a86b0620d8"
      },
      "source": [
        "from transformers import BertTokenizer\n",
        "\n",
        "# Load the BERT tokenizer.\n",
        "print('Loading BERT tokenizer...')\n",
        "tokenizer = BertTokenizer.from_pretrained('bert-base-uncased', do_lower_case=True)\n",
        "\n",
        "# Print the original sentence.\n",
        "print(' Original: ', train_df.abstract[0])\n",
        "\n",
        "# Print the sentence split into tokens.\n",
        "print('Tokenized: ', tokenizer.tokenize(train_df.abstract[0]))\n",
        "\n",
        "# Print the sentence mapped to token ids.\n",
        "print('Token IDs: ', tokenizer.convert_tokens_to_ids(tokenizer.tokenize(train_df.abstract[0])))"
      ],
      "execution_count": 12,
      "outputs": [
        {
          "output_type": "stream",
          "text": [
            "Loading BERT tokenizer...\n"
          ],
          "name": "stdout"
        },
        {
          "output_type": "display_data",
          "data": {
            "application/vnd.jupyter.widget-view+json": {
              "model_id": "b963071b08dd4458b976413ed5c88470",
              "version_minor": 0,
              "version_major": 2
            },
            "text/plain": [
              "HBox(children=(IntProgress(value=0, description='Downloading', max=231508, style=ProgressStyle(description_wid…"
            ]
          },
          "metadata": {
            "tags": []
          }
        },
        {
          "output_type": "stream",
          "text": [
            "\n",
            " Original:  we consider the problem of utility maximization for investors with power utility functions. building on the earlier work larsen et al. (2016), we prove that the value of the problem is a frechet-differentiable function of the drift of the price process, provided that this drift lies in a suitable banach space.   we then study optimal investment problems with non-markovian driving processes. in such models there is no hope to get a formula for the achievable maximal utility. applying results of the first part of the paper we provide first order expansions for certain problems involving fractional brownian motion either in the drift or in the volatility. we also point out how asymptotic results can be derived for models with strong mean reversion.\n",
            "Tokenized:  ['we', 'consider', 'the', 'problem', 'of', 'utility', 'maxim', '##ization', 'for', 'investors', 'with', 'power', 'utility', 'functions', '.', 'building', 'on', 'the', 'earlier', 'work', 'larsen', 'et', 'al', '.', '(', '2016', ')', ',', 'we', 'prove', 'that', 'the', 'value', 'of', 'the', 'problem', 'is', 'a', 'fr', '##eche', '##t', '-', 'different', '##iable', 'function', 'of', 'the', 'drift', 'of', 'the', 'price', 'process', ',', 'provided', 'that', 'this', 'drift', 'lies', 'in', 'a', 'suitable', 'ban', '##ach', 'space', '.', 'we', 'then', 'study', 'optimal', 'investment', 'problems', 'with', 'non', '-', 'marko', '##vian', 'driving', 'processes', '.', 'in', 'such', 'models', 'there', 'is', 'no', 'hope', 'to', 'get', 'a', 'formula', 'for', 'the', 'ac', '##hi', '##eva', '##ble', 'maximal', 'utility', '.', 'applying', 'results', 'of', 'the', 'first', 'part', 'of', 'the', 'paper', 'we', 'provide', 'first', 'order', 'expansion', '##s', 'for', 'certain', 'problems', 'involving', 'fraction', '##al', 'brown', '##ian', 'motion', 'either', 'in', 'the', 'drift', 'or', 'in', 'the', 'vol', '##ati', '##lity', '.', 'we', 'also', 'point', 'out', 'how', 'as', '##ym', '##pt', '##otic', 'results', 'can', 'be', 'derived', 'for', 'models', 'with', 'strong', 'mean', 'rev', '##ers', '##ion', '.']\n",
            "Token IDs:  [2057, 5136, 1996, 3291, 1997, 9710, 20446, 3989, 2005, 9387, 2007, 2373, 9710, 4972, 1012, 2311, 2006, 1996, 3041, 2147, 20094, 3802, 2632, 1012, 1006, 2355, 1007, 1010, 2057, 6011, 2008, 1996, 3643, 1997, 1996, 3291, 2003, 1037, 10424, 27635, 2102, 1011, 2367, 19210, 3853, 1997, 1996, 11852, 1997, 1996, 3976, 2832, 1010, 3024, 2008, 2023, 11852, 3658, 1999, 1037, 7218, 7221, 6776, 2686, 1012, 2057, 2059, 2817, 15502, 5211, 3471, 2007, 2512, 1011, 28003, 18073, 4439, 6194, 1012, 1999, 2107, 4275, 2045, 2003, 2053, 3246, 2000, 2131, 1037, 5675, 2005, 1996, 9353, 4048, 13331, 3468, 29160, 9710, 1012, 11243, 3463, 1997, 1996, 2034, 2112, 1997, 1996, 3259, 2057, 3073, 2034, 2344, 4935, 2015, 2005, 3056, 3471, 5994, 12884, 2389, 2829, 2937, 4367, 2593, 1999, 1996, 11852, 2030, 1999, 1996, 5285, 10450, 18605, 1012, 2057, 2036, 2391, 2041, 2129, 2004, 24335, 13876, 20214, 3463, 2064, 2022, 5173, 2005, 4275, 2007, 2844, 2812, 7065, 2545, 3258, 1012]\n"
          ],
          "name": "stdout"
        }
      ]
    },
    {
      "cell_type": "code",
      "metadata": {
        "id": "chNWGR-R1Ciu",
        "colab_type": "code",
        "colab": {}
      },
      "source": [
        "import tensorflow_hub as hub\n",
        "import bert\n",
        "\n",
        "BertTokenizer = bert.bert_tokenization.FullTokenizer\n",
        "bert_layer = hub.KerasLayer(\"https://tfhub.dev/tensorflow/bert_en_uncased_L-12_H-768_A-12/1\", trainable=False)\n",
        "vocabulary_file = bert_layer.resolved_object.vocab_file.asset_path.numpy()\n",
        "to_lower_case = bert_layer.resolved_object.do_lower_case.numpy()\n",
        "tokenizer = BertTokenizer(vocabulary_file, to_lower_case)"
      ],
      "execution_count": 0,
      "outputs": []
    },
    {
      "cell_type": "code",
      "metadata": {
        "id": "z3oxyUzdtHdA",
        "colab_type": "code",
        "outputId": "26a5209d-0af0-4a79-a1ca-5a4e5381c996",
        "colab": {
          "base_uri": "https://localhost:8080/",
          "height": 54
        }
      },
      "source": [
        "tokenized_texts = [tokenizer.tokenize(sent) for sent in train_df.abstract]\n",
        "print (tokenized_texts[0])"
      ],
      "execution_count": 0,
      "outputs": [
        {
          "output_type": "stream",
          "text": [
            "['we', 'consider', 'the', 'problem', 'of', 'utility', 'maxim', '##ization', 'for', 'investors', 'with', 'power', 'utility', 'functions', '.', 'building', 'on', 'the', 'earlier', 'work', 'larsen', 'et', 'al', '.', '(', '2016', ')', ',', 'we', 'prove', 'that', 'the', 'value', 'of', 'the', 'problem', 'is', 'a', 'fr', '##eche', '##t', '-', 'different', '##iable', 'function', 'of', 'the', 'drift', 'of', 'the', 'price', 'process', ',', 'provided', 'that', 'this', 'drift', 'lies', 'in', 'a', 'suitable', 'ban', '##ach', 'space', '.', 'we', 'then', 'study', 'optimal', 'investment', 'problems', 'with', 'non', '-', 'marko', '##vian', 'driving', 'processes', '.', 'in', 'such', 'models', 'there', 'is', 'no', 'hope', 'to', 'get', 'a', 'formula', 'for', 'the', 'ac', '##hi', '##eva', '##ble', 'maximal', 'utility', '.', 'applying', 'results', 'of', 'the', 'first', 'part', 'of', 'the', 'paper', 'we', 'provide', 'first', 'order', 'expansion', '##s', 'for', 'certain', 'problems', 'involving', 'fraction', '##al', 'brown', '##ian', 'motion', 'either', 'in', 'the', 'drift', 'or', 'in', 'the', 'vol', '##ati', '##lity', '.', 'we', 'also', 'point', 'out', 'how', 'as', '##ym', '##pt', '##otic', 'results', 'can', 'be', 'derived', 'for', 'models', 'with', 'strong', 'mean', 'rev', '##ers', '##ion', '.']\n"
          ],
          "name": "stdout"
        }
      ]
    },
    {
      "cell_type": "code",
      "metadata": {
        "id": "PuwBlGaLulGB",
        "colab_type": "code",
        "outputId": "21d99b81-3fa6-4489-c118-46c8be421e99",
        "colab": {
          "base_uri": "https://localhost:8080/",
          "height": 34
        }
      },
      "source": [
        "tokenizer.tokenize(\"don't be so judgmental\")"
      ],
      "execution_count": 0,
      "outputs": [
        {
          "output_type": "execute_result",
          "data": {
            "text/plain": [
              "['don', \"'\", 't', 'be', 'so', 'judgment', '##al']"
            ]
          },
          "metadata": {
            "tags": []
          },
          "execution_count": 10
        }
      ]
    },
    {
      "cell_type": "code",
      "metadata": {
        "id": "QD6MYkqLw37p",
        "colab_type": "code",
        "outputId": "54ceddf8-94fe-43aa-f5cd-705500bc835b",
        "colab": {
          "base_uri": "https://localhost:8080/",
          "height": 34
        }
      },
      "source": [
        "tokenizer.convert_tokens_to_ids(tokenizer.tokenize(\"dont be so judgmental\"))"
      ],
      "execution_count": 0,
      "outputs": [
        {
          "output_type": "execute_result",
          "data": {
            "text/plain": [
              "[2123, 2102, 2022, 2061, 8689, 2389]"
            ]
          },
          "metadata": {
            "tags": []
          },
          "execution_count": 11
        }
      ]
    },
    {
      "cell_type": "code",
      "metadata": {
        "id": "vCgYzlg_KArr",
        "colab_type": "code",
        "colab": {}
      },
      "source": [
        "!pip install bert-tensorflow\n",
        "import bert\n",
        "from bert import run_classifier\n",
        "from bert import optimization\n",
        "from bert import tokenization\n",
        "\n",
        "DATA_COLUMN = 'abstract'\n",
        "LABEL_COLUMN = 'title'\n",
        "\n",
        "train_InputExamples = train_df.apply(\n",
        "    lambda x: bert.run_classifier.InputExample(\n",
        "        guid=None,\n",
        "        text_a = x[DATA_COLUMN], \n",
        "        text_b = None, \n",
        "        label = x[LABEL_COLUMN]\n",
        "    ), axis = 1\n",
        ")\n",
        "\n",
        "# We'll set sequences to be at most 128 tokens long.\n",
        "MAX_SEQ_LENGTH = 128\n",
        "# Convert our train and test features to InputFeatures that BERT understands.\n",
        "train_features = bert.run_classifier.convert_examples_to_features(train_InputExamples, label_list, MAX_SEQ_LENGTH, tokenizer)\n",
        "test_features = bert.run_classifier.convert_examples_to_features(test_InputExamples, label_list, MAX_SEQ_LENGTH, tokenizer)"
      ],
      "execution_count": 0,
      "outputs": []
    },
    {
      "cell_type": "code",
      "metadata": {
        "id": "4_mSn1aDNeEK",
        "colab_type": "code",
        "colab": {}
      },
      "source": [
        "from livelossplot.keras import PlotLossesCallback\n",
        "callbacks=[PlotLossesCallback()])\n"
      ],
      "execution_count": 0,
      "outputs": []
    },
    {
      "cell_type": "code",
      "metadata": {
        "id": "vGpgV4IAv0Dh",
        "colab_type": "code",
        "colab": {}
      },
      "source": [
        "## URL: https://github.com/kpe/bert-for-tf2/blob/master/examples/gpu_movie_reviews.ipynb\n",
        "\n",
        "def get_masks(tokens, max_seq_length):\n",
        "    \"\"\"Mask for padding\"\"\"\n",
        "    if len(tokens)>max_seq_length:\n",
        "        #Cutting down the excess length\n",
        "        tokens = tokens[0:max_seq_length]\n",
        "        return [1]*len(tokens)\n",
        "    else :\n",
        "      return [1]*len(tokens) + [0] * (max_seq_length - len(tokens))\n",
        "\n",
        "def get_segments(tokens, max_seq_length):\n",
        "    if len(tokens)>max_seq_length:\n",
        "      #Cutting down the excess length\n",
        "      tokens = tokens[:max_seq_length]\n",
        "      segments = []\n",
        "      current_segment_id = 0\n",
        "      for token in tokens:\n",
        "        segments.append(current_segment_id)\n",
        "        if token == \"[SEP]\":\n",
        "          current_segment_id = 1\n",
        "      return segments\n",
        "    else:\n",
        "      segments = []\n",
        "      current_segment_id = 0\n",
        "      for token in tokens:\n",
        "        segments.append(current_segment_id)\n",
        "        if token == \"[SEP]\":\n",
        "          current_segment_id = 1\n",
        "      return segments + [0] * (max_seq_length - len(tokens))\n",
        "\n",
        "def get_ids(tokens, tokenizer, max_seq_length):    \n",
        "    if len(tokens)>max_seq_length:\n",
        "      tokens = tokens[:max_seq_length]\n",
        "      token_ids = tokenizer.convert_tokens_to_ids(tokens)\n",
        "      return token_ids\n",
        "    else:\n",
        "      token_ids = tokenizer.convert_tokens_to_ids(tokens)\n",
        "      input_ids = token_ids + [0] * (max_seq_length-len(token_ids))\n",
        "      return input_ids\n",
        "\n",
        "#TESTING\n",
        "max_seq_length = 128  #This number will determine the number of tokens\n",
        " \n",
        "#An example for tokenization\n",
        "s1 = train['STORY'].iloc[0]\n",
        "stokens1 = tokenizer.tokenize(s1)\n",
        "stokens1 = [\"[CLS]\"] + stokens1 + [\"[SEP]\"]\n",
        " \n",
        "input_ids1 = get_ids(stokens1, tokenizer, max_seq_length)\n",
        "input_masks1 = get_masks(stokens1, max_seq_length)\n",
        "input_segments1 = get_segments(stokens1, max_seq_length)\n",
        " \n",
        "print(\"IDS # len:\" , len(input_ids1), \" ::: \",input_ids1)\n",
        "print(\"MASKS # len:\" , len(input_masks1), \" ::: \",input_masks1)\n",
        "print(\"SEGEMNTS # len:\" , len(input_segments1), \" ::: \",input_segments1)\n",
        "\n",
        "## ------- Inference ---------\n",
        "\n",
        "pred_sentences = [\n",
        "  \"That movie was absolutely awful\",\n",
        "  \"The acting was a bit lacking\",\n",
        "  \"The film was creative and surprising\",\n",
        "  \"Absolutely fantastic!\"\n",
        "]\n",
        "\n",
        "tokenizer = FullTokenizer(vocab_file=os.path.join(bert_ckpt_dir, \"vocab.txt\"))\n",
        "pred_tokens    = map(tokenizer.tokenize, pred_sentences)\n",
        "pred_tokens    = map(lambda tok: [\"[CLS]\"] + tok + [\"[SEP]\"], pred_tokens)\n",
        "pred_token_ids = list(map(tokenizer.convert_tokens_to_ids, pred_tokens))\n",
        "\n",
        "pred_token_ids = map(lambda tids: tids +[0]*(data.max_seq_len-len(tids)),pred_token_ids)\n",
        "pred_token_ids = np.array(list(pred_token_ids))\n",
        "\n",
        "print('pred_token_ids', pred_token_ids.shape)\n",
        "\n",
        "res = model.predict(pred_token_ids).argmax(axis=-1)\n",
        "\n",
        "for text, sentiment in zip(pred_sentences, res):\n",
        "  print(\" text:\", text)\n",
        "  print(\"  res:\", [\"negative\",\"positive\"][sentiment])"
      ],
      "execution_count": 0,
      "outputs": []
    }
  ]
}