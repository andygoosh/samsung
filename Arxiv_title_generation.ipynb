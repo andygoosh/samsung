{
  "nbformat": 4,
  "nbformat_minor": 0,
  "metadata": {
    "colab": {
      "name": "Arxiv title generation.ipynb",
      "provenance": [],
      "authorship_tag": "ABX9TyNqT5HWkBfK0rA1QKBjT52C",
      "include_colab_link": true
    },
    "kernelspec": {
      "name": "python3",
      "display_name": "Python 3"
    },
    "accelerator": "GPU"
  },
  "cells": [
    {
      "cell_type": "markdown",
      "metadata": {
        "id": "view-in-github",
        "colab_type": "text"
      },
      "source": [
        "<a href=\"https://colab.research.google.com/github/andygoosh/samsung/blob/master/Arxiv_title_generation.ipynb\" target=\"_parent\"><img src=\"https://colab.research.google.com/assets/colab-badge.svg\" alt=\"Open In Colab\"/></a>"
      ]
    },
    {
      "cell_type": "code",
      "metadata": {
        "id": "NbdObkmP1Zyv",
        "colab_type": "code",
        "colab": {
          "base_uri": "https://localhost:8080/",
          "height": 100
        },
        "outputId": "9e6384eb-f4fd-4103-d5e1-5cc8d859e812"
      },
      "source": [
        "from pathlib import Path\n",
        "from google.colab import files, drive\n",
        "import pandas as pd\n",
        "import zipfile\n",
        "from io import BytesIO\n",
        "from urllib.request import urlopen\n",
        "import tensorflow as tf\n",
        "\n",
        "gpath = Path('/content/gdrive')\n",
        "drive.mount(str(gpath))\n",
        "data_file = gpath / 'My Drive/Samsung' / 'train.csv.zip'"
      ],
      "execution_count": 13,
      "outputs": [
        {
          "output_type": "display_data",
          "data": {
            "text/html": [
              "<p style=\"color: red;\">\n",
              "The default version of TensorFlow in Colab will soon switch to TensorFlow 2.x.<br>\n",
              "We recommend you <a href=\"https://www.tensorflow.org/guide/migrate\" target=\"_blank\">upgrade</a> now \n",
              "or ensure your notebook will continue to use TensorFlow 1.x via the <code>%tensorflow_version 1.x</code> magic:\n",
              "<a href=\"https://colab.research.google.com/notebooks/tensorflow_version.ipynb\" target=\"_blank\">more info</a>.</p>\n"
            ],
            "text/plain": [
              "<IPython.core.display.HTML object>"
            ]
          },
          "metadata": {
            "tags": []
          }
        },
        {
          "output_type": "stream",
          "text": [
            "Drive already mounted at /content/gdrive; to attempt to forcibly remount, call drive.mount(\"/content/gdrive\", force_remount=True).\n"
          ],
          "name": "stdout"
        }
      ]
    },
    {
      "cell_type": "code",
      "metadata": {
        "id": "dNESlJRb-o97",
        "colab_type": "code",
        "colab": {
          "base_uri": "https://localhost:8080/",
          "height": 34
        },
        "outputId": "41198f96-f898-41d1-fe13-fcdb6ba52a36"
      },
      "source": [
        "import torch\n",
        "device = torch.device(\"cuda\" if torch.cuda.is_available() else \"cpu\")\n",
        "if device == 'cpu':\n",
        "    print('cpu')\n",
        "else:\n",
        "    n_gpu = torch.cuda.device_count()\n",
        "    print(torch.cuda.get_device_name(0))"
      ],
      "execution_count": 20,
      "outputs": [
        {
          "output_type": "stream",
          "text": [
            "Tesla T4\n"
          ],
          "name": "stdout"
        }
      ]
    },
    {
      "cell_type": "code",
      "metadata": {
        "id": "iHGeWncGymMv",
        "colab_type": "code",
        "colab": {
          "base_uri": "https://localhost:8080/",
          "height": 419
        },
        "outputId": "89a04a48-7a7d-4d58-8fbe-a3f6c02c7ad1"
      },
      "source": [
        "train_df = pd.read_csv(data_file)\n",
        "train_df"
      ],
      "execution_count": 18,
      "outputs": [
        {
          "output_type": "execute_result",
          "data": {
            "text/html": [
              "<div>\n",
              "<style scoped>\n",
              "    .dataframe tbody tr th:only-of-type {\n",
              "        vertical-align: middle;\n",
              "    }\n",
              "\n",
              "    .dataframe tbody tr th {\n",
              "        vertical-align: top;\n",
              "    }\n",
              "\n",
              "    .dataframe thead th {\n",
              "        text-align: right;\n",
              "    }\n",
              "</style>\n",
              "<table border=\"1\" class=\"dataframe\">\n",
              "  <thead>\n",
              "    <tr style=\"text-align: right;\">\n",
              "      <th></th>\n",
              "      <th>abstract</th>\n",
              "      <th>title</th>\n",
              "    </tr>\n",
              "  </thead>\n",
              "  <tbody>\n",
              "    <tr>\n",
              "      <th>0</th>\n",
              "      <td>we consider the problem of utility maximizatio...</td>\n",
              "      <td>on optimal investment with processes of long o...</td>\n",
              "    </tr>\n",
              "    <tr>\n",
              "      <th>1</th>\n",
              "      <td>in this paper we provide an explicit formula f...</td>\n",
              "      <td>boolean complexes for ferrers graphs</td>\n",
              "    </tr>\n",
              "    <tr>\n",
              "      <th>2</th>\n",
              "      <td>kinesin-5, also known as eg5 in vertebrates is...</td>\n",
              "      <td>relative velocity of sliding of microtubules b...</td>\n",
              "    </tr>\n",
              "    <tr>\n",
              "      <th>3</th>\n",
              "      <td>we discuss the transition paths in a coupled b...</td>\n",
              "      <td>bifurcation of transition paths induced by cou...</td>\n",
              "    </tr>\n",
              "    <tr>\n",
              "      <th>4</th>\n",
              "      <td>two types of room temperature detectors of ter...</td>\n",
              "      <td>all-electric detectors of the polarization sta...</td>\n",
              "    </tr>\n",
              "    <tr>\n",
              "      <th>...</th>\n",
              "      <td>...</td>\n",
              "      <td>...</td>\n",
              "    </tr>\n",
              "    <tr>\n",
              "      <th>134995</th>\n",
              "      <td>we consider a minimalistic dynamic model of th...</td>\n",
              "      <td>randomly evolving idiotypic networks: structur...</td>\n",
              "    </tr>\n",
              "    <tr>\n",
              "      <th>134996</th>\n",
              "      <td>this is an extended version of a communication...</td>\n",
              "      <td>noncommutative generalization of su(n)-princip...</td>\n",
              "    </tr>\n",
              "    <tr>\n",
              "      <th>134997</th>\n",
              "      <td>in this paper, a new method was developed for ...</td>\n",
              "      <td>initialization of multilayer forecasting artif...</td>\n",
              "    </tr>\n",
              "    <tr>\n",
              "      <th>134998</th>\n",
              "      <td>we propose a new approach to analyze data that...</td>\n",
              "      <td>principal arc analysis on direct product manif...</td>\n",
              "    </tr>\n",
              "    <tr>\n",
              "      <th>134999</th>\n",
              "      <td>the design of unknown-input decoupled observer...</td>\n",
              "      <td>framework for state and unknown input estimati...</td>\n",
              "    </tr>\n",
              "  </tbody>\n",
              "</table>\n",
              "<p>135000 rows × 2 columns</p>\n",
              "</div>"
            ],
            "text/plain": [
              "                                                 abstract                                              title\n",
              "0       we consider the problem of utility maximizatio...  on optimal investment with processes of long o...\n",
              "1       in this paper we provide an explicit formula f...               boolean complexes for ferrers graphs\n",
              "2       kinesin-5, also known as eg5 in vertebrates is...  relative velocity of sliding of microtubules b...\n",
              "3       we discuss the transition paths in a coupled b...  bifurcation of transition paths induced by cou...\n",
              "4       two types of room temperature detectors of ter...  all-electric detectors of the polarization sta...\n",
              "...                                                   ...                                                ...\n",
              "134995  we consider a minimalistic dynamic model of th...  randomly evolving idiotypic networks: structur...\n",
              "134996  this is an extended version of a communication...  noncommutative generalization of su(n)-princip...\n",
              "134997  in this paper, a new method was developed for ...  initialization of multilayer forecasting artif...\n",
              "134998  we propose a new approach to analyze data that...  principal arc analysis on direct product manif...\n",
              "134999  the design of unknown-input decoupled observer...  framework for state and unknown input estimati...\n",
              "\n",
              "[135000 rows x 2 columns]"
            ]
          },
          "metadata": {
            "tags": []
          },
          "execution_count": 18
        }
      ]
    },
    {
      "cell_type": "code",
      "metadata": {
        "id": "OM9g9vyH6TS0",
        "colab_type": "code",
        "colab": {}
      },
      "source": [
        ""
      ],
      "execution_count": 0,
      "outputs": []
    }
  ]
}